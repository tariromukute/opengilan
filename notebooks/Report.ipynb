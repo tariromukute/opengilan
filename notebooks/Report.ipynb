{
 "cells": [
  {
   "cell_type": "code",
   "execution_count": 1,
   "metadata": {},
   "outputs": [
    {
     "name": "stderr",
     "output_type": "stream",
     "text": [
      "22/03/24 02:08:38 WARN NativeCodeLoader: Unable to load native-hadoop library for your platform... using builtin-java classes where applicable\n",
      "Using Spark's default log4j profile: org/apache/spark/log4j-defaults.properties\n",
      "Setting default log level to \"WARN\".\n",
      "To adjust logging level use sc.setLogLevel(newLevel). For SparkR, use setLogLevel(newLevel).\n"
     ]
    }
   ],
   "source": [
    "# configure spark variables\n",
    "from pyspark.context import SparkContext\n",
    "from pyspark.sql.context import SQLContext\n",
    "from pyspark.sql.session import SparkSession\n",
    "from pyspark.sql.functions import *\n",
    "from pyspark.sql.types import *\n",
    "    \n",
    "sc = SparkContext()\n",
    "sqlContext = SQLContext(sc)\n",
    "spark = SparkSession(sc)\n",
    "\n",
    "# load up other dependencies\n",
    "import re\n",
    "import pandas as pd\n",
    "\n",
    "import glob\n",
    "import matplotlib.pyplot as plt\n",
    "import numpy as np"
   ]
  },
  {
   "cell_type": "code",
   "execution_count": 2,
   "metadata": {},
   "outputs": [],
   "source": [
    "import os\n",
    "if not os.path.exists(\"images\"):\n",
    "    os.mkdir(\"images\")\n",
    "\n",
    "import os\n",
    "import glob\n",
    "import plotly.express as px\n",
    "from plotly.subplots import make_subplots\n",
    "from pyspark.sql.types import StructType,StructField, StringType, IntegerType"
   ]
  },
  {
   "cell_type": "code",
   "execution_count": 3,
   "metadata": {},
   "outputs": [],
   "source": [
    "html_output_file = '../index.html'\n",
    "with open(html_output_file, 'w') as f:\n",
    "    f.write('<h1>Open GiLAN Testbed Results</h1>')\n",
    "    f.write('<h3> The graphs summaries the NFV performance metrics<h3>')\n",
    "    f.write('<h4><a href=\"#cpu-metrics\"> CPU </a> <h4>')\n",
    "    f.write('<h4><a href=\"#memory-metrics\"> Memory </a> <h4>')\n",
    "    f.write('<h4><a href=\"#filesystem-metrics\"> Filesytem </a> <h4>')\n",
    "    f.write('<h4><a href=\"#disk-metrics\"> Disk I/O </a> <h4>')\n",
    "    f.write('<h4><a href=\"#networking-metrics\"> Networking </a> <h4>')\n",
    "    f.write('<h4><a href=\"#flame-graphs\"> Flame Graphs to analyse code paths </a> <h4>')"
   ]
  },
  {
   "cell_type": "code",
   "execution_count": 4,
   "metadata": {},
   "outputs": [],
   "source": [
    "with open(html_output_file, 'a') as f:\n",
    "    f.write('<h2 id=\"cpu-metrics\"> CPU Metrics </h2>')"
   ]
  },
  {
   "cell_type": "code",
   "execution_count": 5,
   "metadata": {},
   "outputs": [
    {
     "name": "stderr",
     "output_type": "stream",
     "text": [
      "                                                                                \r"
     ]
    },
    {
     "data": {
      "application/vnd.plotly.v1+json": {
       "config": {
        "plotlyServerURL": "https://plot.ly"
       },
       "data": [
        {
         "alignmentgroup": "True",
         "hovertemplate": "Packets Per Second (thousand)=10<br>Latency (usecs)=%{x}<br>Number of Processes=%{y}<extra></extra>",
         "legendgroup": "10",
         "marker": {
          "color": "#636efa",
          "pattern": {
           "shape": ""
          }
         },
         "name": "10",
         "offsetgroup": "10",
         "orientation": "v",
         "showlegend": true,
         "textposition": "auto",
         "type": "bar",
         "x": [
          "0-1",
          "2-3",
          "4-7",
          "8-15",
          "16-31",
          "32-63",
          "64-127",
          "128-255",
          "256-511",
          "512-1023",
          "1024-2047",
          "2048-4095",
          "4096-8191",
          "8192-16383"
         ],
         "xaxis": "x",
         "y": [
          560,
          742,
          40718,
          4007,
          19950,
          387,
          926,
          53,
          2,
          0,
          0,
          0,
          0,
          1
         ],
         "yaxis": "y"
        },
        {
         "alignmentgroup": "True",
         "hovertemplate": "Packets Per Second (thousand)=1<br>Latency (usecs)=%{x}<br>Number of Processes=%{y}<extra></extra>",
         "legendgroup": "1",
         "marker": {
          "color": "#EF553B",
          "pattern": {
           "shape": ""
          }
         },
         "name": "1",
         "offsetgroup": "1",
         "orientation": "v",
         "showlegend": true,
         "textposition": "auto",
         "type": "bar",
         "x": [
          "0-1",
          "2-3",
          "4-7",
          "8-15",
          "16-31",
          "32-63",
          "64-127",
          "128-255",
          "256-511",
          "512-1023",
          "1024-2047",
          "2048-4095",
          "4096-8191",
          "8192-16383"
         ],
         "xaxis": "x",
         "y": [
          693,
          1894,
          3256,
          2590,
          406,
          681,
          336,
          28,
          2,
          1,
          0,
          0,
          0,
          1
         ],
         "yaxis": "y"
        },
        {
         "alignmentgroup": "True",
         "hovertemplate": "Packets Per Second (thousand)=50<br>Latency (usecs)=%{x}<br>Number of Processes=%{y}<extra></extra>",
         "legendgroup": "50",
         "marker": {
          "color": "#00cc96",
          "pattern": {
           "shape": ""
          }
         },
         "name": "50",
         "offsetgroup": "50",
         "orientation": "v",
         "showlegend": true,
         "textposition": "auto",
         "type": "bar",
         "x": [
          "0-1",
          "2-3",
          "4-7",
          "8-15",
          "16-31",
          "32-63",
          "64-127",
          "128-255",
          "256-511",
          "512-1023"
         ],
         "xaxis": "x",
         "y": [
          1251,
          1996,
          49169,
          4478,
          13185,
          1638,
          884,
          43,
          2,
          1
         ],
         "yaxis": "y"
        },
        {
         "alignmentgroup": "True",
         "hovertemplate": "Packets Per Second (thousand)=500<br>Latency (usecs)=%{x}<br>Number of Processes=%{y}<extra></extra>",
         "legendgroup": "500",
         "marker": {
          "color": "#ab63fa",
          "pattern": {
           "shape": ""
          }
         },
         "name": "500",
         "offsetgroup": "500",
         "orientation": "v",
         "showlegend": true,
         "textposition": "auto",
         "type": "bar",
         "x": [
          "0-1",
          "2-3",
          "4-7",
          "8-15",
          "16-31",
          "32-63",
          "64-127",
          "128-255",
          "256-511",
          "512-1023"
         ],
         "xaxis": "x",
         "y": [
          693,
          1816,
          2903,
          2565,
          236,
          1218,
          605,
          30,
          4,
          1
         ],
         "yaxis": "y"
        },
        {
         "alignmentgroup": "True",
         "hovertemplate": "Packets Per Second (thousand)=100<br>Latency (usecs)=%{x}<br>Number of Processes=%{y}<extra></extra>",
         "legendgroup": "100",
         "marker": {
          "color": "#FFA15A",
          "pattern": {
           "shape": ""
          }
         },
         "name": "100",
         "offsetgroup": "100",
         "orientation": "v",
         "showlegend": true,
         "textposition": "auto",
         "type": "bar",
         "x": [
          "0-1",
          "2-3",
          "4-7",
          "8-15",
          "16-31",
          "32-63",
          "64-127",
          "128-255",
          "256-511"
         ],
         "xaxis": "x",
         "y": [
          1347,
          3633,
          14485,
          6858,
          892,
          2008,
          646,
          34,
          1
         ],
         "yaxis": "y"
        },
        {
         "alignmentgroup": "True",
         "hovertemplate": "Packets Per Second (thousand)=400<br>Latency (usecs)=%{x}<br>Number of Processes=%{y}<extra></extra>",
         "legendgroup": "400",
         "marker": {
          "color": "#19d3f3",
          "pattern": {
           "shape": ""
          }
         },
         "name": "400",
         "offsetgroup": "400",
         "orientation": "v",
         "showlegend": true,
         "textposition": "auto",
         "type": "bar",
         "x": [
          "0-1",
          "2-3",
          "4-7",
          "8-15",
          "16-31",
          "32-63",
          "64-127",
          "128-255",
          "256-511"
         ],
         "xaxis": "x",
         "y": [
          692,
          1457,
          3153,
          3389,
          416,
          652,
          302,
          13,
          5
         ],
         "yaxis": "y"
        },
        {
         "alignmentgroup": "True",
         "hovertemplate": "Packets Per Second (thousand)=300<br>Latency (usecs)=%{x}<br>Number of Processes=%{y}<extra></extra>",
         "legendgroup": "300",
         "marker": {
          "color": "#FF6692",
          "pattern": {
           "shape": ""
          }
         },
         "name": "300",
         "offsetgroup": "300",
         "orientation": "v",
         "showlegend": true,
         "textposition": "auto",
         "type": "bar",
         "x": [
          "0-1",
          "2-3",
          "4-7",
          "8-15",
          "16-31",
          "32-63",
          "64-127",
          "128-255",
          "256-511"
         ],
         "xaxis": "x",
         "y": [
          681,
          1751,
          3278,
          2871,
          270,
          992,
          473,
          25,
          2
         ],
         "yaxis": "y"
        },
        {
         "alignmentgroup": "True",
         "hovertemplate": "Packets Per Second (thousand)=200<br>Latency (usecs)=%{x}<br>Number of Processes=%{y}<extra></extra>",
         "legendgroup": "200",
         "marker": {
          "color": "#B6E880",
          "pattern": {
           "shape": ""
          }
         },
         "name": "200",
         "offsetgroup": "200",
         "orientation": "v",
         "showlegend": true,
         "textposition": "auto",
         "type": "bar",
         "x": [
          "0-1",
          "2-3",
          "4-7",
          "8-15",
          "16-31",
          "32-63",
          "64-127",
          "128-255",
          "256-511"
         ],
         "xaxis": "x",
         "y": [
          821,
          2272,
          4235,
          2442,
          226,
          186,
          268,
          51,
          5
         ],
         "yaxis": "y"
        },
        {
         "alignmentgroup": "True",
         "hovertemplate": "Packets Per Second (thousand)=600<br>Latency (usecs)=%{x}<br>Number of Processes=%{y}<extra></extra>",
         "legendgroup": "600",
         "marker": {
          "color": "#FF97FF",
          "pattern": {
           "shape": ""
          }
         },
         "name": "600",
         "offsetgroup": "600",
         "orientation": "v",
         "showlegend": true,
         "textposition": "auto",
         "type": "bar",
         "x": [
          "0-1",
          "2-3",
          "4-7",
          "8-15",
          "16-31",
          "32-63",
          "64-127",
          "128-255",
          "256-511"
         ],
         "xaxis": "x",
         "y": [
          932,
          1587,
          4570,
          2668,
          427,
          269,
          163,
          30,
          3
         ],
         "yaxis": "y"
        }
       ],
       "layout": {
        "barmode": "group",
        "legend": {
         "title": {
          "text": "Packets Per Second (thousand)"
         },
         "tracegroupgap": 0
        },
        "template": {
         "data": {
          "bar": [
           {
            "error_x": {
             "color": "#2a3f5f"
            },
            "error_y": {
             "color": "#2a3f5f"
            },
            "marker": {
             "line": {
              "color": "#E5ECF6",
              "width": 0.5
             },
             "pattern": {
              "fillmode": "overlay",
              "size": 10,
              "solidity": 0.2
             }
            },
            "type": "bar"
           }
          ],
          "barpolar": [
           {
            "marker": {
             "line": {
              "color": "#E5ECF6",
              "width": 0.5
             },
             "pattern": {
              "fillmode": "overlay",
              "size": 10,
              "solidity": 0.2
             }
            },
            "type": "barpolar"
           }
          ],
          "carpet": [
           {
            "aaxis": {
             "endlinecolor": "#2a3f5f",
             "gridcolor": "white",
             "linecolor": "white",
             "minorgridcolor": "white",
             "startlinecolor": "#2a3f5f"
            },
            "baxis": {
             "endlinecolor": "#2a3f5f",
             "gridcolor": "white",
             "linecolor": "white",
             "minorgridcolor": "white",
             "startlinecolor": "#2a3f5f"
            },
            "type": "carpet"
           }
          ],
          "choropleth": [
           {
            "colorbar": {
             "outlinewidth": 0,
             "ticks": ""
            },
            "type": "choropleth"
           }
          ],
          "contour": [
           {
            "colorbar": {
             "outlinewidth": 0,
             "ticks": ""
            },
            "colorscale": [
             [
              0,
              "#0d0887"
             ],
             [
              0.1111111111111111,
              "#46039f"
             ],
             [
              0.2222222222222222,
              "#7201a8"
             ],
             [
              0.3333333333333333,
              "#9c179e"
             ],
             [
              0.4444444444444444,
              "#bd3786"
             ],
             [
              0.5555555555555556,
              "#d8576b"
             ],
             [
              0.6666666666666666,
              "#ed7953"
             ],
             [
              0.7777777777777778,
              "#fb9f3a"
             ],
             [
              0.8888888888888888,
              "#fdca26"
             ],
             [
              1,
              "#f0f921"
             ]
            ],
            "type": "contour"
           }
          ],
          "contourcarpet": [
           {
            "colorbar": {
             "outlinewidth": 0,
             "ticks": ""
            },
            "type": "contourcarpet"
           }
          ],
          "heatmap": [
           {
            "colorbar": {
             "outlinewidth": 0,
             "ticks": ""
            },
            "colorscale": [
             [
              0,
              "#0d0887"
             ],
             [
              0.1111111111111111,
              "#46039f"
             ],
             [
              0.2222222222222222,
              "#7201a8"
             ],
             [
              0.3333333333333333,
              "#9c179e"
             ],
             [
              0.4444444444444444,
              "#bd3786"
             ],
             [
              0.5555555555555556,
              "#d8576b"
             ],
             [
              0.6666666666666666,
              "#ed7953"
             ],
             [
              0.7777777777777778,
              "#fb9f3a"
             ],
             [
              0.8888888888888888,
              "#fdca26"
             ],
             [
              1,
              "#f0f921"
             ]
            ],
            "type": "heatmap"
           }
          ],
          "heatmapgl": [
           {
            "colorbar": {
             "outlinewidth": 0,
             "ticks": ""
            },
            "colorscale": [
             [
              0,
              "#0d0887"
             ],
             [
              0.1111111111111111,
              "#46039f"
             ],
             [
              0.2222222222222222,
              "#7201a8"
             ],
             [
              0.3333333333333333,
              "#9c179e"
             ],
             [
              0.4444444444444444,
              "#bd3786"
             ],
             [
              0.5555555555555556,
              "#d8576b"
             ],
             [
              0.6666666666666666,
              "#ed7953"
             ],
             [
              0.7777777777777778,
              "#fb9f3a"
             ],
             [
              0.8888888888888888,
              "#fdca26"
             ],
             [
              1,
              "#f0f921"
             ]
            ],
            "type": "heatmapgl"
           }
          ],
          "histogram": [
           {
            "marker": {
             "pattern": {
              "fillmode": "overlay",
              "size": 10,
              "solidity": 0.2
             }
            },
            "type": "histogram"
           }
          ],
          "histogram2d": [
           {
            "colorbar": {
             "outlinewidth": 0,
             "ticks": ""
            },
            "colorscale": [
             [
              0,
              "#0d0887"
             ],
             [
              0.1111111111111111,
              "#46039f"
             ],
             [
              0.2222222222222222,
              "#7201a8"
             ],
             [
              0.3333333333333333,
              "#9c179e"
             ],
             [
              0.4444444444444444,
              "#bd3786"
             ],
             [
              0.5555555555555556,
              "#d8576b"
             ],
             [
              0.6666666666666666,
              "#ed7953"
             ],
             [
              0.7777777777777778,
              "#fb9f3a"
             ],
             [
              0.8888888888888888,
              "#fdca26"
             ],
             [
              1,
              "#f0f921"
             ]
            ],
            "type": "histogram2d"
           }
          ],
          "histogram2dcontour": [
           {
            "colorbar": {
             "outlinewidth": 0,
             "ticks": ""
            },
            "colorscale": [
             [
              0,
              "#0d0887"
             ],
             [
              0.1111111111111111,
              "#46039f"
             ],
             [
              0.2222222222222222,
              "#7201a8"
             ],
             [
              0.3333333333333333,
              "#9c179e"
             ],
             [
              0.4444444444444444,
              "#bd3786"
             ],
             [
              0.5555555555555556,
              "#d8576b"
             ],
             [
              0.6666666666666666,
              "#ed7953"
             ],
             [
              0.7777777777777778,
              "#fb9f3a"
             ],
             [
              0.8888888888888888,
              "#fdca26"
             ],
             [
              1,
              "#f0f921"
             ]
            ],
            "type": "histogram2dcontour"
           }
          ],
          "mesh3d": [
           {
            "colorbar": {
             "outlinewidth": 0,
             "ticks": ""
            },
            "type": "mesh3d"
           }
          ],
          "parcoords": [
           {
            "line": {
             "colorbar": {
              "outlinewidth": 0,
              "ticks": ""
             }
            },
            "type": "parcoords"
           }
          ],
          "pie": [
           {
            "automargin": true,
            "type": "pie"
           }
          ],
          "scatter": [
           {
            "marker": {
             "colorbar": {
              "outlinewidth": 0,
              "ticks": ""
             }
            },
            "type": "scatter"
           }
          ],
          "scatter3d": [
           {
            "line": {
             "colorbar": {
              "outlinewidth": 0,
              "ticks": ""
             }
            },
            "marker": {
             "colorbar": {
              "outlinewidth": 0,
              "ticks": ""
             }
            },
            "type": "scatter3d"
           }
          ],
          "scattercarpet": [
           {
            "marker": {
             "colorbar": {
              "outlinewidth": 0,
              "ticks": ""
             }
            },
            "type": "scattercarpet"
           }
          ],
          "scattergeo": [
           {
            "marker": {
             "colorbar": {
              "outlinewidth": 0,
              "ticks": ""
             }
            },
            "type": "scattergeo"
           }
          ],
          "scattergl": [
           {
            "marker": {
             "colorbar": {
              "outlinewidth": 0,
              "ticks": ""
             }
            },
            "type": "scattergl"
           }
          ],
          "scattermapbox": [
           {
            "marker": {
             "colorbar": {
              "outlinewidth": 0,
              "ticks": ""
             }
            },
            "type": "scattermapbox"
           }
          ],
          "scatterpolar": [
           {
            "marker": {
             "colorbar": {
              "outlinewidth": 0,
              "ticks": ""
             }
            },
            "type": "scatterpolar"
           }
          ],
          "scatterpolargl": [
           {
            "marker": {
             "colorbar": {
              "outlinewidth": 0,
              "ticks": ""
             }
            },
            "type": "scatterpolargl"
           }
          ],
          "scatterternary": [
           {
            "marker": {
             "colorbar": {
              "outlinewidth": 0,
              "ticks": ""
             }
            },
            "type": "scatterternary"
           }
          ],
          "surface": [
           {
            "colorbar": {
             "outlinewidth": 0,
             "ticks": ""
            },
            "colorscale": [
             [
              0,
              "#0d0887"
             ],
             [
              0.1111111111111111,
              "#46039f"
             ],
             [
              0.2222222222222222,
              "#7201a8"
             ],
             [
              0.3333333333333333,
              "#9c179e"
             ],
             [
              0.4444444444444444,
              "#bd3786"
             ],
             [
              0.5555555555555556,
              "#d8576b"
             ],
             [
              0.6666666666666666,
              "#ed7953"
             ],
             [
              0.7777777777777778,
              "#fb9f3a"
             ],
             [
              0.8888888888888888,
              "#fdca26"
             ],
             [
              1,
              "#f0f921"
             ]
            ],
            "type": "surface"
           }
          ],
          "table": [
           {
            "cells": {
             "fill": {
              "color": "#EBF0F8"
             },
             "line": {
              "color": "white"
             }
            },
            "header": {
             "fill": {
              "color": "#C8D4E3"
             },
             "line": {
              "color": "white"
             }
            },
            "type": "table"
           }
          ]
         },
         "layout": {
          "annotationdefaults": {
           "arrowcolor": "#2a3f5f",
           "arrowhead": 0,
           "arrowwidth": 1
          },
          "autotypenumbers": "strict",
          "coloraxis": {
           "colorbar": {
            "outlinewidth": 0,
            "ticks": ""
           }
          },
          "colorscale": {
           "diverging": [
            [
             0,
             "#8e0152"
            ],
            [
             0.1,
             "#c51b7d"
            ],
            [
             0.2,
             "#de77ae"
            ],
            [
             0.3,
             "#f1b6da"
            ],
            [
             0.4,
             "#fde0ef"
            ],
            [
             0.5,
             "#f7f7f7"
            ],
            [
             0.6,
             "#e6f5d0"
            ],
            [
             0.7,
             "#b8e186"
            ],
            [
             0.8,
             "#7fbc41"
            ],
            [
             0.9,
             "#4d9221"
            ],
            [
             1,
             "#276419"
            ]
           ],
           "sequential": [
            [
             0,
             "#0d0887"
            ],
            [
             0.1111111111111111,
             "#46039f"
            ],
            [
             0.2222222222222222,
             "#7201a8"
            ],
            [
             0.3333333333333333,
             "#9c179e"
            ],
            [
             0.4444444444444444,
             "#bd3786"
            ],
            [
             0.5555555555555556,
             "#d8576b"
            ],
            [
             0.6666666666666666,
             "#ed7953"
            ],
            [
             0.7777777777777778,
             "#fb9f3a"
            ],
            [
             0.8888888888888888,
             "#fdca26"
            ],
            [
             1,
             "#f0f921"
            ]
           ],
           "sequentialminus": [
            [
             0,
             "#0d0887"
            ],
            [
             0.1111111111111111,
             "#46039f"
            ],
            [
             0.2222222222222222,
             "#7201a8"
            ],
            [
             0.3333333333333333,
             "#9c179e"
            ],
            [
             0.4444444444444444,
             "#bd3786"
            ],
            [
             0.5555555555555556,
             "#d8576b"
            ],
            [
             0.6666666666666666,
             "#ed7953"
            ],
            [
             0.7777777777777778,
             "#fb9f3a"
            ],
            [
             0.8888888888888888,
             "#fdca26"
            ],
            [
             1,
             "#f0f921"
            ]
           ]
          },
          "colorway": [
           "#636efa",
           "#EF553B",
           "#00cc96",
           "#ab63fa",
           "#FFA15A",
           "#19d3f3",
           "#FF6692",
           "#B6E880",
           "#FF97FF",
           "#FECB52"
          ],
          "font": {
           "color": "#2a3f5f"
          },
          "geo": {
           "bgcolor": "white",
           "lakecolor": "white",
           "landcolor": "#E5ECF6",
           "showlakes": true,
           "showland": true,
           "subunitcolor": "white"
          },
          "hoverlabel": {
           "align": "left"
          },
          "hovermode": "closest",
          "mapbox": {
           "style": "light"
          },
          "paper_bgcolor": "white",
          "plot_bgcolor": "#E5ECF6",
          "polar": {
           "angularaxis": {
            "gridcolor": "white",
            "linecolor": "white",
            "ticks": ""
           },
           "bgcolor": "#E5ECF6",
           "radialaxis": {
            "gridcolor": "white",
            "linecolor": "white",
            "ticks": ""
           }
          },
          "scene": {
           "xaxis": {
            "backgroundcolor": "#E5ECF6",
            "gridcolor": "white",
            "gridwidth": 2,
            "linecolor": "white",
            "showbackground": true,
            "ticks": "",
            "zerolinecolor": "white"
           },
           "yaxis": {
            "backgroundcolor": "#E5ECF6",
            "gridcolor": "white",
            "gridwidth": 2,
            "linecolor": "white",
            "showbackground": true,
            "ticks": "",
            "zerolinecolor": "white"
           },
           "zaxis": {
            "backgroundcolor": "#E5ECF6",
            "gridcolor": "white",
            "gridwidth": 2,
            "linecolor": "white",
            "showbackground": true,
            "ticks": "",
            "zerolinecolor": "white"
           }
          },
          "shapedefaults": {
           "line": {
            "color": "#2a3f5f"
           }
          },
          "ternary": {
           "aaxis": {
            "gridcolor": "white",
            "linecolor": "white",
            "ticks": ""
           },
           "baxis": {
            "gridcolor": "white",
            "linecolor": "white",
            "ticks": ""
           },
           "bgcolor": "#E5ECF6",
           "caxis": {
            "gridcolor": "white",
            "linecolor": "white",
            "ticks": ""
           }
          },
          "title": {
           "x": 0.05
          },
          "xaxis": {
           "automargin": true,
           "gridcolor": "white",
           "linecolor": "white",
           "ticks": "",
           "title": {
            "standoff": 15
           },
           "zerolinecolor": "white",
           "zerolinewidth": 2
          },
          "yaxis": {
           "automargin": true,
           "gridcolor": "white",
           "linecolor": "white",
           "ticks": "",
           "title": {
            "standoff": 15
           },
           "zerolinecolor": "white",
           "zerolinewidth": 2
          }
         }
        },
        "title": {
         "text": "Time each of the processes spends waiting for its turn on CPU"
        },
        "xaxis": {
         "anchor": "y",
         "domain": [
          0,
          1
         ],
         "title": {
          "text": "Latency (usecs)"
         }
        },
        "yaxis": {
         "anchor": "x",
         "domain": [
          0,
          1
         ],
         "title": {
          "text": "Number of Processes"
         }
        }
       }
      }
     },
     "metadata": {},
     "output_type": "display_data"
    }
   ],
   "source": [
    "runqlat_df = spark.read.option(\"basePath\", \"../ansible/.results\").json(\"../ansible/.results/kpps=*/tool=runqlat\").select(\n",
    "    \"kpps\", \"ts\", \"val_type\", \"tool\",\n",
    "    explode(\"data\").alias(\"dataExplode\")\n",
    ").select(col(\"kpps\").cast(StringType()), \"ts\", \"val_type\", \"tool\", \"dataExplode.*\", concat_ws('-',col('dataExplode.interval-start'),col('dataExplode.interval-end')).alias(\"interval\"))\n",
    "runqlat_fig = px.bar(runqlat_df.toPandas(), x=\"interval\", y=\"count\", color=\"kpps\", barmode=\"group\",\n",
    "        title=\"Time each of the processes spends waiting for its turn on CPU\",\n",
    "        labels={\n",
    "                    \"kpps\": \"Packets Per Second (thousand)\",\n",
    "                    \"count\": \"Number of Processes\",\n",
    "                    \"interval\": \"Latency (usecs)\"\n",
    "                })\n",
    "runqlat_fig.show()\n",
    "runqlat_fig.write_image(\"images/runqlat.jpeg\")\n",
    "with open(html_output_file, 'a') as f:\n",
    "    f.write(runqlat_fig.to_html(full_html=False, include_plotlyjs='cdn'))"
   ]
  },
  {
   "cell_type": "code",
   "execution_count": 6,
   "metadata": {},
   "outputs": [],
   "source": [
    "with open(html_output_file, 'a') as f:\n",
    "    f.write('<div><a href=\"#profile\">See code paths that are consuming CPU resources</a></div>')"
   ]
  },
  {
   "cell_type": "code",
   "execution_count": 7,
   "metadata": {},
   "outputs": [],
   "source": [
    "with open(html_output_file, 'a') as f:\n",
    "    f.write('<div><a href=\"#offcputime\">See code paths casing processes to go Off-CPU</a></div>')"
   ]
  },
  {
   "cell_type": "code",
   "execution_count": 8,
   "metadata": {},
   "outputs": [],
   "source": [
    "with open(html_output_file, 'a') as f:\n",
    "    f.write('<h2 id=\"memory-metrics\"> Memory Metrics </h2>')"
   ]
  },
  {
   "cell_type": "code",
   "execution_count": 9,
   "metadata": {},
   "outputs": [
    {
     "name": "stderr",
     "output_type": "stream",
     "text": [
      "/Users/tariromukute/Documents/personal/phd/dev/opengilan/notebooks/.venv/lib/python3.8/site-packages/plotly/express/_core.py:1637: FutureWarning:\n",
      "\n",
      "The frame.append method is deprecated and will be removed from pandas in a future version. Use pandas.concat instead.\n",
      "\n",
      "/Users/tariromukute/Documents/personal/phd/dev/opengilan/notebooks/.venv/lib/python3.8/site-packages/plotly/express/_core.py:1637: FutureWarning:\n",
      "\n",
      "The frame.append method is deprecated and will be removed from pandas in a future version. Use pandas.concat instead.\n",
      "\n"
     ]
    },
    {
     "data": {
      "application/vnd.plotly.v1+json": {
       "config": {
        "plotlyServerURL": "https://plot.ly"
       },
       "data": [
        {
         "branchvalues": "total",
         "customdata": [
          [
           1,
           "bpftrace"
          ],
          [
           1,
           "bpftrace"
          ],
          [
           1,
           "bpftrace"
          ],
          [
           1,
           "bpftrace"
          ],
          [
           1,
           "bpftrace"
          ],
          [
           1,
           "bpftrace"
          ],
          [
           1,
           "bpftrace"
          ],
          [
           1,
           "bpftrace"
          ],
          [
           1,
           "bpftrace"
          ],
          [
           1,
           "cron"
          ],
          [
           0,
           "cron"
          ],
          [
           0,
           "cron"
          ],
          [
           0,
           "cron"
          ],
          [
           0,
           "cron"
          ],
          [
           0,
           "cron"
          ],
          [
           0,
           "cron"
          ],
          [
           0,
           "cron"
          ],
          [
           0,
           "cron"
          ],
          [
           12,
           "iptables"
          ],
          [
           12,
           "iptables"
          ],
          [
           12,
           "iptables"
          ],
          [
           12,
           "iptables"
          ],
          [
           12,
           "iptables"
          ],
          [
           12,
           "iptables"
          ],
          [
           12,
           "iptables"
          ],
          [
           12,
           "iptables"
          ],
          [
           12,
           "iptables"
          ],
          [
           3,
           "run-parts"
          ],
          [
           0,
           "run-parts"
          ],
          [
           0,
           "run-parts"
          ],
          [
           0,
           "run-parts"
          ],
          [
           0,
           "run-parts"
          ],
          [
           0,
           "run-parts"
          ],
          [
           0,
           "run-parts"
          ],
          [
           0,
           "run-parts"
          ],
          [
           0,
           "run-parts"
          ],
          [
           3,
           "sh"
          ],
          [
           0,
           "sh"
          ],
          [
           0,
           "sh"
          ],
          [
           0,
           "sh"
          ],
          [
           0,
           "sh"
          ],
          [
           0,
           "sh"
          ],
          [
           0,
           "sh"
          ],
          [
           0,
           "sh"
          ],
          [
           0,
           "sh"
          ],
          [
           0,
           "sshd"
          ],
          [
           0,
           "sshd"
          ],
          [
           0,
           "sshd"
          ],
          [
           6,
           "sshd"
          ],
          [
           0,
           "sshd"
          ],
          [
           0,
           "sshd"
          ],
          [
           0,
           "sshd"
          ],
          [
           0,
           "sshd"
          ],
          [
           8,
           "sshd"
          ],
          [
           13,
           "(?)"
          ],
          [
           13,
           "(?)"
          ],
          [
           19,
           "(?)"
          ],
          [
           13,
           "(?)"
          ],
          [
           13,
           "(?)"
          ],
          [
           13,
           "(?)"
          ],
          [
           13,
           "(?)"
          ],
          [
           13,
           "(?)"
          ],
          [
           28,
           "(?)"
          ]
         ],
         "domain": {
          "x": [
           0,
           1
          ],
          "y": [
           0,
           1
          ]
         },
         "hovertemplate": "labels=%{label}<br>count=%{customdata[0]}<br>parent=%{parent}<br>id=%{id}<br>process=%{customdata[1]}<extra></extra>",
         "ids": [
          "1/bpftrace",
          "10/bpftrace",
          "100/bpftrace",
          "200/bpftrace",
          "300/bpftrace",
          "400/bpftrace",
          "50/bpftrace",
          "500/bpftrace",
          "600/bpftrace",
          "600/cron",
          "500/cron",
          "50/cron",
          "400/cron",
          "10/cron",
          "200/cron",
          "100/cron",
          "1/cron",
          "300/cron",
          "400/iptables",
          "500/iptables",
          "50/iptables",
          "300/iptables",
          "600/iptables",
          "100/iptables",
          "10/iptables",
          "1/iptables",
          "200/iptables",
          "600/run-parts",
          "500/run-parts",
          "50/run-parts",
          "400/run-parts",
          "300/run-parts",
          "100/run-parts",
          "10/run-parts",
          "1/run-parts",
          "200/run-parts",
          "600/sh",
          "500/sh",
          "50/sh",
          "400/sh",
          "100/sh",
          "200/sh",
          "10/sh",
          "1/sh",
          "300/sh",
          "500/sshd",
          "1/sshd",
          "10/sshd",
          "100/sshd",
          "200/sshd",
          "300/sshd",
          "400/sshd",
          "50/sshd",
          "600/sshd",
          "1",
          "10",
          "100",
          "200",
          "300",
          "400",
          "50",
          "500",
          "600"
         ],
         "labels": [
          "bpftrace",
          "bpftrace",
          "bpftrace",
          "bpftrace",
          "bpftrace",
          "bpftrace",
          "bpftrace",
          "bpftrace",
          "bpftrace",
          "cron",
          "cron",
          "cron",
          "cron",
          "cron",
          "cron",
          "cron",
          "cron",
          "cron",
          "iptables",
          "iptables",
          "iptables",
          "iptables",
          "iptables",
          "iptables",
          "iptables",
          "iptables",
          "iptables",
          "run-parts",
          "run-parts",
          "run-parts",
          "run-parts",
          "run-parts",
          "run-parts",
          "run-parts",
          "run-parts",
          "run-parts",
          "sh",
          "sh",
          "sh",
          "sh",
          "sh",
          "sh",
          "sh",
          "sh",
          "sh",
          "sshd",
          "sshd",
          "sshd",
          "sshd",
          "sshd",
          "sshd",
          "sshd",
          "sshd",
          "sshd",
          "1",
          "10",
          "100",
          "200",
          "300",
          "400",
          "50",
          "500",
          "600"
         ],
         "marker": {
          "colors": [
           "#636efa",
           "#636efa",
           "#636efa",
           "#636efa",
           "#636efa",
           "#636efa",
           "#636efa",
           "#636efa",
           "#636efa",
           "#EF553B",
           "#EF553B",
           "#EF553B",
           "#EF553B",
           "#EF553B",
           "#EF553B",
           "#EF553B",
           "#EF553B",
           "#EF553B",
           "#00cc96",
           "#00cc96",
           "#00cc96",
           "#00cc96",
           "#00cc96",
           "#00cc96",
           "#00cc96",
           "#00cc96",
           "#00cc96",
           "#ab63fa",
           "#ab63fa",
           "#ab63fa",
           "#ab63fa",
           "#ab63fa",
           "#ab63fa",
           "#ab63fa",
           "#ab63fa",
           "#ab63fa",
           "#FFA15A",
           "#FFA15A",
           "#FFA15A",
           "#FFA15A",
           "#FFA15A",
           "#FFA15A",
           "#FFA15A",
           "#FFA15A",
           "#FFA15A",
           "#19d3f3",
           "#19d3f3",
           "#19d3f3",
           "#19d3f3",
           "#19d3f3",
           "#19d3f3",
           "#19d3f3",
           "#19d3f3",
           "#19d3f3",
           "#FF6692",
           "#FF6692",
           "#FF6692",
           "#FF6692",
           "#FF6692",
           "#FF6692",
           "#FF6692",
           "#FF6692",
           "#FF6692"
          ]
         },
         "name": "",
         "parents": [
          "1",
          "10",
          "100",
          "200",
          "300",
          "400",
          "50",
          "500",
          "600",
          "600",
          "500",
          "50",
          "400",
          "10",
          "200",
          "100",
          "1",
          "300",
          "400",
          "500",
          "50",
          "300",
          "600",
          "100",
          "10",
          "1",
          "200",
          "600",
          "500",
          "50",
          "400",
          "300",
          "100",
          "10",
          "1",
          "200",
          "600",
          "500",
          "50",
          "400",
          "100",
          "200",
          "10",
          "1",
          "300",
          "500",
          "1",
          "10",
          "100",
          "200",
          "300",
          "400",
          "50",
          "600",
          "",
          "",
          "",
          "",
          "",
          "",
          "",
          "",
          ""
         ],
         "type": "sunburst",
         "values": [
          1,
          1,
          1,
          1,
          1,
          1,
          1,
          1,
          1,
          1,
          0,
          0,
          0,
          0,
          0,
          0,
          0,
          0,
          12,
          12,
          12,
          12,
          12,
          12,
          12,
          12,
          12,
          3,
          0,
          0,
          0,
          0,
          0,
          0,
          0,
          0,
          3,
          0,
          0,
          0,
          0,
          0,
          0,
          0,
          0,
          0,
          0,
          0,
          6,
          0,
          0,
          0,
          0,
          8,
          13,
          13,
          19,
          13,
          13,
          13,
          13,
          13,
          28
         ]
        }
       ],
       "layout": {
        "legend": {
         "tracegroupgap": 0
        },
        "template": {
         "data": {
          "bar": [
           {
            "error_x": {
             "color": "#2a3f5f"
            },
            "error_y": {
             "color": "#2a3f5f"
            },
            "marker": {
             "line": {
              "color": "#E5ECF6",
              "width": 0.5
             },
             "pattern": {
              "fillmode": "overlay",
              "size": 10,
              "solidity": 0.2
             }
            },
            "type": "bar"
           }
          ],
          "barpolar": [
           {
            "marker": {
             "line": {
              "color": "#E5ECF6",
              "width": 0.5
             },
             "pattern": {
              "fillmode": "overlay",
              "size": 10,
              "solidity": 0.2
             }
            },
            "type": "barpolar"
           }
          ],
          "carpet": [
           {
            "aaxis": {
             "endlinecolor": "#2a3f5f",
             "gridcolor": "white",
             "linecolor": "white",
             "minorgridcolor": "white",
             "startlinecolor": "#2a3f5f"
            },
            "baxis": {
             "endlinecolor": "#2a3f5f",
             "gridcolor": "white",
             "linecolor": "white",
             "minorgridcolor": "white",
             "startlinecolor": "#2a3f5f"
            },
            "type": "carpet"
           }
          ],
          "choropleth": [
           {
            "colorbar": {
             "outlinewidth": 0,
             "ticks": ""
            },
            "type": "choropleth"
           }
          ],
          "contour": [
           {
            "colorbar": {
             "outlinewidth": 0,
             "ticks": ""
            },
            "colorscale": [
             [
              0,
              "#0d0887"
             ],
             [
              0.1111111111111111,
              "#46039f"
             ],
             [
              0.2222222222222222,
              "#7201a8"
             ],
             [
              0.3333333333333333,
              "#9c179e"
             ],
             [
              0.4444444444444444,
              "#bd3786"
             ],
             [
              0.5555555555555556,
              "#d8576b"
             ],
             [
              0.6666666666666666,
              "#ed7953"
             ],
             [
              0.7777777777777778,
              "#fb9f3a"
             ],
             [
              0.8888888888888888,
              "#fdca26"
             ],
             [
              1,
              "#f0f921"
             ]
            ],
            "type": "contour"
           }
          ],
          "contourcarpet": [
           {
            "colorbar": {
             "outlinewidth": 0,
             "ticks": ""
            },
            "type": "contourcarpet"
           }
          ],
          "heatmap": [
           {
            "colorbar": {
             "outlinewidth": 0,
             "ticks": ""
            },
            "colorscale": [
             [
              0,
              "#0d0887"
             ],
             [
              0.1111111111111111,
              "#46039f"
             ],
             [
              0.2222222222222222,
              "#7201a8"
             ],
             [
              0.3333333333333333,
              "#9c179e"
             ],
             [
              0.4444444444444444,
              "#bd3786"
             ],
             [
              0.5555555555555556,
              "#d8576b"
             ],
             [
              0.6666666666666666,
              "#ed7953"
             ],
             [
              0.7777777777777778,
              "#fb9f3a"
             ],
             [
              0.8888888888888888,
              "#fdca26"
             ],
             [
              1,
              "#f0f921"
             ]
            ],
            "type": "heatmap"
           }
          ],
          "heatmapgl": [
           {
            "colorbar": {
             "outlinewidth": 0,
             "ticks": ""
            },
            "colorscale": [
             [
              0,
              "#0d0887"
             ],
             [
              0.1111111111111111,
              "#46039f"
             ],
             [
              0.2222222222222222,
              "#7201a8"
             ],
             [
              0.3333333333333333,
              "#9c179e"
             ],
             [
              0.4444444444444444,
              "#bd3786"
             ],
             [
              0.5555555555555556,
              "#d8576b"
             ],
             [
              0.6666666666666666,
              "#ed7953"
             ],
             [
              0.7777777777777778,
              "#fb9f3a"
             ],
             [
              0.8888888888888888,
              "#fdca26"
             ],
             [
              1,
              "#f0f921"
             ]
            ],
            "type": "heatmapgl"
           }
          ],
          "histogram": [
           {
            "marker": {
             "pattern": {
              "fillmode": "overlay",
              "size": 10,
              "solidity": 0.2
             }
            },
            "type": "histogram"
           }
          ],
          "histogram2d": [
           {
            "colorbar": {
             "outlinewidth": 0,
             "ticks": ""
            },
            "colorscale": [
             [
              0,
              "#0d0887"
             ],
             [
              0.1111111111111111,
              "#46039f"
             ],
             [
              0.2222222222222222,
              "#7201a8"
             ],
             [
              0.3333333333333333,
              "#9c179e"
             ],
             [
              0.4444444444444444,
              "#bd3786"
             ],
             [
              0.5555555555555556,
              "#d8576b"
             ],
             [
              0.6666666666666666,
              "#ed7953"
             ],
             [
              0.7777777777777778,
              "#fb9f3a"
             ],
             [
              0.8888888888888888,
              "#fdca26"
             ],
             [
              1,
              "#f0f921"
             ]
            ],
            "type": "histogram2d"
           }
          ],
          "histogram2dcontour": [
           {
            "colorbar": {
             "outlinewidth": 0,
             "ticks": ""
            },
            "colorscale": [
             [
              0,
              "#0d0887"
             ],
             [
              0.1111111111111111,
              "#46039f"
             ],
             [
              0.2222222222222222,
              "#7201a8"
             ],
             [
              0.3333333333333333,
              "#9c179e"
             ],
             [
              0.4444444444444444,
              "#bd3786"
             ],
             [
              0.5555555555555556,
              "#d8576b"
             ],
             [
              0.6666666666666666,
              "#ed7953"
             ],
             [
              0.7777777777777778,
              "#fb9f3a"
             ],
             [
              0.8888888888888888,
              "#fdca26"
             ],
             [
              1,
              "#f0f921"
             ]
            ],
            "type": "histogram2dcontour"
           }
          ],
          "mesh3d": [
           {
            "colorbar": {
             "outlinewidth": 0,
             "ticks": ""
            },
            "type": "mesh3d"
           }
          ],
          "parcoords": [
           {
            "line": {
             "colorbar": {
              "outlinewidth": 0,
              "ticks": ""
             }
            },
            "type": "parcoords"
           }
          ],
          "pie": [
           {
            "automargin": true,
            "type": "pie"
           }
          ],
          "scatter": [
           {
            "marker": {
             "colorbar": {
              "outlinewidth": 0,
              "ticks": ""
             }
            },
            "type": "scatter"
           }
          ],
          "scatter3d": [
           {
            "line": {
             "colorbar": {
              "outlinewidth": 0,
              "ticks": ""
             }
            },
            "marker": {
             "colorbar": {
              "outlinewidth": 0,
              "ticks": ""
             }
            },
            "type": "scatter3d"
           }
          ],
          "scattercarpet": [
           {
            "marker": {
             "colorbar": {
              "outlinewidth": 0,
              "ticks": ""
             }
            },
            "type": "scattercarpet"
           }
          ],
          "scattergeo": [
           {
            "marker": {
             "colorbar": {
              "outlinewidth": 0,
              "ticks": ""
             }
            },
            "type": "scattergeo"
           }
          ],
          "scattergl": [
           {
            "marker": {
             "colorbar": {
              "outlinewidth": 0,
              "ticks": ""
             }
            },
            "type": "scattergl"
           }
          ],
          "scattermapbox": [
           {
            "marker": {
             "colorbar": {
              "outlinewidth": 0,
              "ticks": ""
             }
            },
            "type": "scattermapbox"
           }
          ],
          "scatterpolar": [
           {
            "marker": {
             "colorbar": {
              "outlinewidth": 0,
              "ticks": ""
             }
            },
            "type": "scatterpolar"
           }
          ],
          "scatterpolargl": [
           {
            "marker": {
             "colorbar": {
              "outlinewidth": 0,
              "ticks": ""
             }
            },
            "type": "scatterpolargl"
           }
          ],
          "scatterternary": [
           {
            "marker": {
             "colorbar": {
              "outlinewidth": 0,
              "ticks": ""
             }
            },
            "type": "scatterternary"
           }
          ],
          "surface": [
           {
            "colorbar": {
             "outlinewidth": 0,
             "ticks": ""
            },
            "colorscale": [
             [
              0,
              "#0d0887"
             ],
             [
              0.1111111111111111,
              "#46039f"
             ],
             [
              0.2222222222222222,
              "#7201a8"
             ],
             [
              0.3333333333333333,
              "#9c179e"
             ],
             [
              0.4444444444444444,
              "#bd3786"
             ],
             [
              0.5555555555555556,
              "#d8576b"
             ],
             [
              0.6666666666666666,
              "#ed7953"
             ],
             [
              0.7777777777777778,
              "#fb9f3a"
             ],
             [
              0.8888888888888888,
              "#fdca26"
             ],
             [
              1,
              "#f0f921"
             ]
            ],
            "type": "surface"
           }
          ],
          "table": [
           {
            "cells": {
             "fill": {
              "color": "#EBF0F8"
             },
             "line": {
              "color": "white"
             }
            },
            "header": {
             "fill": {
              "color": "#C8D4E3"
             },
             "line": {
              "color": "white"
             }
            },
            "type": "table"
           }
          ]
         },
         "layout": {
          "annotationdefaults": {
           "arrowcolor": "#2a3f5f",
           "arrowhead": 0,
           "arrowwidth": 1
          },
          "autotypenumbers": "strict",
          "coloraxis": {
           "colorbar": {
            "outlinewidth": 0,
            "ticks": ""
           }
          },
          "colorscale": {
           "diverging": [
            [
             0,
             "#8e0152"
            ],
            [
             0.1,
             "#c51b7d"
            ],
            [
             0.2,
             "#de77ae"
            ],
            [
             0.3,
             "#f1b6da"
            ],
            [
             0.4,
             "#fde0ef"
            ],
            [
             0.5,
             "#f7f7f7"
            ],
            [
             0.6,
             "#e6f5d0"
            ],
            [
             0.7,
             "#b8e186"
            ],
            [
             0.8,
             "#7fbc41"
            ],
            [
             0.9,
             "#4d9221"
            ],
            [
             1,
             "#276419"
            ]
           ],
           "sequential": [
            [
             0,
             "#0d0887"
            ],
            [
             0.1111111111111111,
             "#46039f"
            ],
            [
             0.2222222222222222,
             "#7201a8"
            ],
            [
             0.3333333333333333,
             "#9c179e"
            ],
            [
             0.4444444444444444,
             "#bd3786"
            ],
            [
             0.5555555555555556,
             "#d8576b"
            ],
            [
             0.6666666666666666,
             "#ed7953"
            ],
            [
             0.7777777777777778,
             "#fb9f3a"
            ],
            [
             0.8888888888888888,
             "#fdca26"
            ],
            [
             1,
             "#f0f921"
            ]
           ],
           "sequentialminus": [
            [
             0,
             "#0d0887"
            ],
            [
             0.1111111111111111,
             "#46039f"
            ],
            [
             0.2222222222222222,
             "#7201a8"
            ],
            [
             0.3333333333333333,
             "#9c179e"
            ],
            [
             0.4444444444444444,
             "#bd3786"
            ],
            [
             0.5555555555555556,
             "#d8576b"
            ],
            [
             0.6666666666666666,
             "#ed7953"
            ],
            [
             0.7777777777777778,
             "#fb9f3a"
            ],
            [
             0.8888888888888888,
             "#fdca26"
            ],
            [
             1,
             "#f0f921"
            ]
           ]
          },
          "colorway": [
           "#636efa",
           "#EF553B",
           "#00cc96",
           "#ab63fa",
           "#FFA15A",
           "#19d3f3",
           "#FF6692",
           "#B6E880",
           "#FF97FF",
           "#FECB52"
          ],
          "font": {
           "color": "#2a3f5f"
          },
          "geo": {
           "bgcolor": "white",
           "lakecolor": "white",
           "landcolor": "#E5ECF6",
           "showlakes": true,
           "showland": true,
           "subunitcolor": "white"
          },
          "hoverlabel": {
           "align": "left"
          },
          "hovermode": "closest",
          "mapbox": {
           "style": "light"
          },
          "paper_bgcolor": "white",
          "plot_bgcolor": "#E5ECF6",
          "polar": {
           "angularaxis": {
            "gridcolor": "white",
            "linecolor": "white",
            "ticks": ""
           },
           "bgcolor": "#E5ECF6",
           "radialaxis": {
            "gridcolor": "white",
            "linecolor": "white",
            "ticks": ""
           }
          },
          "scene": {
           "xaxis": {
            "backgroundcolor": "#E5ECF6",
            "gridcolor": "white",
            "gridwidth": 2,
            "linecolor": "white",
            "showbackground": true,
            "ticks": "",
            "zerolinecolor": "white"
           },
           "yaxis": {
            "backgroundcolor": "#E5ECF6",
            "gridcolor": "white",
            "gridwidth": 2,
            "linecolor": "white",
            "showbackground": true,
            "ticks": "",
            "zerolinecolor": "white"
           },
           "zaxis": {
            "backgroundcolor": "#E5ECF6",
            "gridcolor": "white",
            "gridwidth": 2,
            "linecolor": "white",
            "showbackground": true,
            "ticks": "",
            "zerolinecolor": "white"
           }
          },
          "shapedefaults": {
           "line": {
            "color": "#2a3f5f"
           }
          },
          "ternary": {
           "aaxis": {
            "gridcolor": "white",
            "linecolor": "white",
            "ticks": ""
           },
           "baxis": {
            "gridcolor": "white",
            "linecolor": "white",
            "ticks": ""
           },
           "bgcolor": "#E5ECF6",
           "caxis": {
            "gridcolor": "white",
            "linecolor": "white",
            "ticks": ""
           }
          },
          "title": {
           "x": 0.05
          },
          "xaxis": {
           "automargin": true,
           "gridcolor": "white",
           "linecolor": "white",
           "ticks": "",
           "title": {
            "standoff": 15
           },
           "zerolinecolor": "white",
           "zerolinewidth": 2
          },
          "yaxis": {
           "automargin": true,
           "gridcolor": "white",
           "linecolor": "white",
           "ticks": "",
           "title": {
            "standoff": 15
           },
           "zerolinecolor": "white",
           "zerolinewidth": 2
          }
         }
        },
        "title": {
         "text": "Processes responsible for heap extension"
        }
       }
      }
     },
     "metadata": {},
     "output_type": "display_data"
    }
   ],
   "source": [
    "data_df = spark.read.option(\"basePath\", \"../ansible/.results\").json(\n",
    "\"../ansible/.results/kpps=*/tool=sys_enter_brk-kernel\")\n",
    "\n",
    "schema = StructType([\n",
    "  StructField('type', StringType(), True),\n",
    "  StructField('kpps', StringType(), True),\n",
    "  StructField('count', IntegerType(), True),\n",
    "  StructField('process', IntegerType(), True),\n",
    "  ])\n",
    "\n",
    "#Create empty DataFrame directly.\n",
    "sys_enter_brk_df = spark.createDataFrame([], schema)\n",
    "\n",
    "columns = data_df.select(\"data.@.*\").columns\n",
    "data_df = data_df.select(\"*\", \"data.@.*\").drop(\"data\")\n",
    "\n",
    "for c in columns:\n",
    "  try:\n",
    "    df = data_df.select(\"type\", \"kpps\", col(c).alias('count')).withColumn('process', lit(c))\n",
    "    sys_enter_brk_df = sys_enter_brk_df.union(df)\n",
    "  except:\n",
    "    print(\"Failed to find {}\".format(c))\n",
    "\n",
    "sys_enter_brk_fig = px.sunburst(sys_enter_brk_df.toPandas(), path=['kpps', 'process'], values='count',\n",
    "                  color='process', hover_data=['count'],\n",
    "                  title=\"Processes responsible for heap extension\")\n",
    "sys_enter_brk_fig.show()\n",
    "sys_enter_brk_fig.write_image(\"images/sys_enter_brk.jpeg\")\n",
    "with open(html_output_file, 'a') as f:\n",
    "    f.write(sys_enter_brk_fig.to_html(full_html=False, include_plotlyjs='cdn'))"
   ]
  },
  {
   "cell_type": "code",
   "execution_count": 10,
   "metadata": {},
   "outputs": [],
   "source": [
    "with open(html_output_file, 'a') as f:\n",
    "    f.write('<div><a href=\"#page_fault-user\">See user code path responsible for page faults</a></div>')\n",
    "    f.write('<div><a href=\"#page_fault-kernel\">See kernel code path responsible for page faults</a></div>')"
   ]
  },
  {
   "cell_type": "code",
   "execution_count": 11,
   "metadata": {},
   "outputs": [],
   "source": [
    "with open(html_output_file, 'a') as f:\n",
    "    f.write('<h2 id=\"filesystem-metrics\"> Filesystem Metrics </h2>')"
   ]
  },
  {
   "cell_type": "code",
   "execution_count": 12,
   "metadata": {},
   "outputs": [
    {
     "data": {
      "application/vnd.plotly.v1+json": {
       "config": {
        "plotlyServerURL": "https://plot.ly"
       },
       "data": [
        {
         "alignmentgroup": "True",
         "cliponaxis": false,
         "hovertemplate": "VFS operation=WRITE<br>Packets Per Second (thousand)=%{x}<br>Count=%{y}<extra></extra>",
         "legendgroup": "WRITE",
         "marker": {
          "color": "#636efa",
          "pattern": {
           "shape": ""
          }
         },
         "name": "WRITE",
         "offsetgroup": "WRITE",
         "orientation": "v",
         "showlegend": true,
         "textangle": 0,
         "textfont": {
          "size": 12
         },
         "textposition": "outside",
         "type": "bar",
         "x": [
          300,
          500,
          10,
          600,
          1,
          50,
          200,
          100,
          400
         ],
         "xaxis": "x",
         "y": [
          6.516666666666667,
          6.316666666666666,
          6.333333333333333,
          6.416666666666667,
          6.333333333333333,
          6.333333333333333,
          6.383333333333334,
          6.333333333333333,
          6.35
         ],
         "yaxis": "y"
        },
        {
         "alignmentgroup": "True",
         "cliponaxis": false,
         "hovertemplate": "VFS operation=READ<br>Packets Per Second (thousand)=%{x}<br>Count=%{y}<extra></extra>",
         "legendgroup": "READ",
         "marker": {
          "color": "#EF553B",
          "pattern": {
           "shape": ""
          }
         },
         "name": "READ",
         "offsetgroup": "READ",
         "orientation": "v",
         "showlegend": true,
         "textangle": 0,
         "textfont": {
          "size": 12
         },
         "textposition": "outside",
         "type": "bar",
         "x": [
          300,
          500,
          10,
          600,
          1,
          50,
          200,
          100,
          400
         ],
         "xaxis": "x",
         "y": [
          42.766666666666666,
          41.266666666666666,
          41.483333333333334,
          42.43333333333333,
          41.25,
          41.333333333333336,
          41.68333333333333,
          41.2,
          41.2
         ],
         "yaxis": "y"
        },
        {
         "alignmentgroup": "True",
         "cliponaxis": false,
         "hovertemplate": "VFS operation=OPEN<br>Packets Per Second (thousand)=%{x}<br>Count=%{y}<extra></extra>",
         "legendgroup": "OPEN",
         "marker": {
          "color": "#00cc96",
          "pattern": {
           "shape": ""
          }
         },
         "name": "OPEN",
         "offsetgroup": "OPEN",
         "orientation": "v",
         "showlegend": true,
         "textangle": 0,
         "textfont": {
          "size": 12
         },
         "textposition": "outside",
         "type": "bar",
         "x": [
          300,
          500,
          10,
          600,
          1,
          50,
          200,
          100,
          400
         ],
         "xaxis": "x",
         "y": [
          9.266666666666667,
          8.233333333333333,
          8.233333333333333,
          9.116666666666667,
          8.216666666666667,
          8.25,
          8.65,
          8.2,
          8.2
         ],
         "yaxis": "y"
        },
        {
         "alignmentgroup": "True",
         "cliponaxis": false,
         "hovertemplate": "VFS operation=FSYNC<br>Packets Per Second (thousand)=%{x}<br>Count=%{y}<extra></extra>",
         "legendgroup": "FSYNC",
         "marker": {
          "color": "#ab63fa",
          "pattern": {
           "shape": ""
          }
         },
         "name": "FSYNC",
         "offsetgroup": "FSYNC",
         "orientation": "v",
         "showlegend": true,
         "textangle": 0,
         "textfont": {
          "size": 12
         },
         "textposition": "outside",
         "type": "bar",
         "x": [
          300,
          500,
          10,
          600,
          1,
          50,
          200,
          100,
          400
         ],
         "xaxis": "x",
         "y": [
          0,
          0,
          0,
          0,
          0,
          0,
          0,
          0,
          0
         ],
         "yaxis": "y"
        },
        {
         "alignmentgroup": "True",
         "cliponaxis": false,
         "hovertemplate": "VFS operation=CREATE<br>Packets Per Second (thousand)=%{x}<br>Count=%{y}<extra></extra>",
         "legendgroup": "CREATE",
         "marker": {
          "color": "#FFA15A",
          "pattern": {
           "shape": ""
          }
         },
         "name": "CREATE",
         "offsetgroup": "CREATE",
         "orientation": "v",
         "showlegend": true,
         "textangle": 0,
         "textfont": {
          "size": 12
         },
         "textposition": "outside",
         "type": "bar",
         "x": [
          300,
          500,
          10,
          600,
          1,
          50,
          200,
          100,
          400
         ],
         "xaxis": "x",
         "y": [
          0,
          0,
          0,
          0,
          0,
          0,
          0,
          0,
          0
         ],
         "yaxis": "y"
        }
       ],
       "layout": {
        "barmode": "group",
        "legend": {
         "title": {
          "text": "VFS operation"
         },
         "tracegroupgap": 0
        },
        "template": {
         "data": {
          "bar": [
           {
            "error_x": {
             "color": "#2a3f5f"
            },
            "error_y": {
             "color": "#2a3f5f"
            },
            "marker": {
             "line": {
              "color": "#E5ECF6",
              "width": 0.5
             },
             "pattern": {
              "fillmode": "overlay",
              "size": 10,
              "solidity": 0.2
             }
            },
            "type": "bar"
           }
          ],
          "barpolar": [
           {
            "marker": {
             "line": {
              "color": "#E5ECF6",
              "width": 0.5
             },
             "pattern": {
              "fillmode": "overlay",
              "size": 10,
              "solidity": 0.2
             }
            },
            "type": "barpolar"
           }
          ],
          "carpet": [
           {
            "aaxis": {
             "endlinecolor": "#2a3f5f",
             "gridcolor": "white",
             "linecolor": "white",
             "minorgridcolor": "white",
             "startlinecolor": "#2a3f5f"
            },
            "baxis": {
             "endlinecolor": "#2a3f5f",
             "gridcolor": "white",
             "linecolor": "white",
             "minorgridcolor": "white",
             "startlinecolor": "#2a3f5f"
            },
            "type": "carpet"
           }
          ],
          "choropleth": [
           {
            "colorbar": {
             "outlinewidth": 0,
             "ticks": ""
            },
            "type": "choropleth"
           }
          ],
          "contour": [
           {
            "colorbar": {
             "outlinewidth": 0,
             "ticks": ""
            },
            "colorscale": [
             [
              0,
              "#0d0887"
             ],
             [
              0.1111111111111111,
              "#46039f"
             ],
             [
              0.2222222222222222,
              "#7201a8"
             ],
             [
              0.3333333333333333,
              "#9c179e"
             ],
             [
              0.4444444444444444,
              "#bd3786"
             ],
             [
              0.5555555555555556,
              "#d8576b"
             ],
             [
              0.6666666666666666,
              "#ed7953"
             ],
             [
              0.7777777777777778,
              "#fb9f3a"
             ],
             [
              0.8888888888888888,
              "#fdca26"
             ],
             [
              1,
              "#f0f921"
             ]
            ],
            "type": "contour"
           }
          ],
          "contourcarpet": [
           {
            "colorbar": {
             "outlinewidth": 0,
             "ticks": ""
            },
            "type": "contourcarpet"
           }
          ],
          "heatmap": [
           {
            "colorbar": {
             "outlinewidth": 0,
             "ticks": ""
            },
            "colorscale": [
             [
              0,
              "#0d0887"
             ],
             [
              0.1111111111111111,
              "#46039f"
             ],
             [
              0.2222222222222222,
              "#7201a8"
             ],
             [
              0.3333333333333333,
              "#9c179e"
             ],
             [
              0.4444444444444444,
              "#bd3786"
             ],
             [
              0.5555555555555556,
              "#d8576b"
             ],
             [
              0.6666666666666666,
              "#ed7953"
             ],
             [
              0.7777777777777778,
              "#fb9f3a"
             ],
             [
              0.8888888888888888,
              "#fdca26"
             ],
             [
              1,
              "#f0f921"
             ]
            ],
            "type": "heatmap"
           }
          ],
          "heatmapgl": [
           {
            "colorbar": {
             "outlinewidth": 0,
             "ticks": ""
            },
            "colorscale": [
             [
              0,
              "#0d0887"
             ],
             [
              0.1111111111111111,
              "#46039f"
             ],
             [
              0.2222222222222222,
              "#7201a8"
             ],
             [
              0.3333333333333333,
              "#9c179e"
             ],
             [
              0.4444444444444444,
              "#bd3786"
             ],
             [
              0.5555555555555556,
              "#d8576b"
             ],
             [
              0.6666666666666666,
              "#ed7953"
             ],
             [
              0.7777777777777778,
              "#fb9f3a"
             ],
             [
              0.8888888888888888,
              "#fdca26"
             ],
             [
              1,
              "#f0f921"
             ]
            ],
            "type": "heatmapgl"
           }
          ],
          "histogram": [
           {
            "marker": {
             "pattern": {
              "fillmode": "overlay",
              "size": 10,
              "solidity": 0.2
             }
            },
            "type": "histogram"
           }
          ],
          "histogram2d": [
           {
            "colorbar": {
             "outlinewidth": 0,
             "ticks": ""
            },
            "colorscale": [
             [
              0,
              "#0d0887"
             ],
             [
              0.1111111111111111,
              "#46039f"
             ],
             [
              0.2222222222222222,
              "#7201a8"
             ],
             [
              0.3333333333333333,
              "#9c179e"
             ],
             [
              0.4444444444444444,
              "#bd3786"
             ],
             [
              0.5555555555555556,
              "#d8576b"
             ],
             [
              0.6666666666666666,
              "#ed7953"
             ],
             [
              0.7777777777777778,
              "#fb9f3a"
             ],
             [
              0.8888888888888888,
              "#fdca26"
             ],
             [
              1,
              "#f0f921"
             ]
            ],
            "type": "histogram2d"
           }
          ],
          "histogram2dcontour": [
           {
            "colorbar": {
             "outlinewidth": 0,
             "ticks": ""
            },
            "colorscale": [
             [
              0,
              "#0d0887"
             ],
             [
              0.1111111111111111,
              "#46039f"
             ],
             [
              0.2222222222222222,
              "#7201a8"
             ],
             [
              0.3333333333333333,
              "#9c179e"
             ],
             [
              0.4444444444444444,
              "#bd3786"
             ],
             [
              0.5555555555555556,
              "#d8576b"
             ],
             [
              0.6666666666666666,
              "#ed7953"
             ],
             [
              0.7777777777777778,
              "#fb9f3a"
             ],
             [
              0.8888888888888888,
              "#fdca26"
             ],
             [
              1,
              "#f0f921"
             ]
            ],
            "type": "histogram2dcontour"
           }
          ],
          "mesh3d": [
           {
            "colorbar": {
             "outlinewidth": 0,
             "ticks": ""
            },
            "type": "mesh3d"
           }
          ],
          "parcoords": [
           {
            "line": {
             "colorbar": {
              "outlinewidth": 0,
              "ticks": ""
             }
            },
            "type": "parcoords"
           }
          ],
          "pie": [
           {
            "automargin": true,
            "type": "pie"
           }
          ],
          "scatter": [
           {
            "marker": {
             "colorbar": {
              "outlinewidth": 0,
              "ticks": ""
             }
            },
            "type": "scatter"
           }
          ],
          "scatter3d": [
           {
            "line": {
             "colorbar": {
              "outlinewidth": 0,
              "ticks": ""
             }
            },
            "marker": {
             "colorbar": {
              "outlinewidth": 0,
              "ticks": ""
             }
            },
            "type": "scatter3d"
           }
          ],
          "scattercarpet": [
           {
            "marker": {
             "colorbar": {
              "outlinewidth": 0,
              "ticks": ""
             }
            },
            "type": "scattercarpet"
           }
          ],
          "scattergeo": [
           {
            "marker": {
             "colorbar": {
              "outlinewidth": 0,
              "ticks": ""
             }
            },
            "type": "scattergeo"
           }
          ],
          "scattergl": [
           {
            "marker": {
             "colorbar": {
              "outlinewidth": 0,
              "ticks": ""
             }
            },
            "type": "scattergl"
           }
          ],
          "scattermapbox": [
           {
            "marker": {
             "colorbar": {
              "outlinewidth": 0,
              "ticks": ""
             }
            },
            "type": "scattermapbox"
           }
          ],
          "scatterpolar": [
           {
            "marker": {
             "colorbar": {
              "outlinewidth": 0,
              "ticks": ""
             }
            },
            "type": "scatterpolar"
           }
          ],
          "scatterpolargl": [
           {
            "marker": {
             "colorbar": {
              "outlinewidth": 0,
              "ticks": ""
             }
            },
            "type": "scatterpolargl"
           }
          ],
          "scatterternary": [
           {
            "marker": {
             "colorbar": {
              "outlinewidth": 0,
              "ticks": ""
             }
            },
            "type": "scatterternary"
           }
          ],
          "surface": [
           {
            "colorbar": {
             "outlinewidth": 0,
             "ticks": ""
            },
            "colorscale": [
             [
              0,
              "#0d0887"
             ],
             [
              0.1111111111111111,
              "#46039f"
             ],
             [
              0.2222222222222222,
              "#7201a8"
             ],
             [
              0.3333333333333333,
              "#9c179e"
             ],
             [
              0.4444444444444444,
              "#bd3786"
             ],
             [
              0.5555555555555556,
              "#d8576b"
             ],
             [
              0.6666666666666666,
              "#ed7953"
             ],
             [
              0.7777777777777778,
              "#fb9f3a"
             ],
             [
              0.8888888888888888,
              "#fdca26"
             ],
             [
              1,
              "#f0f921"
             ]
            ],
            "type": "surface"
           }
          ],
          "table": [
           {
            "cells": {
             "fill": {
              "color": "#EBF0F8"
             },
             "line": {
              "color": "white"
             }
            },
            "header": {
             "fill": {
              "color": "#C8D4E3"
             },
             "line": {
              "color": "white"
             }
            },
            "type": "table"
           }
          ]
         },
         "layout": {
          "annotationdefaults": {
           "arrowcolor": "#2a3f5f",
           "arrowhead": 0,
           "arrowwidth": 1
          },
          "autotypenumbers": "strict",
          "coloraxis": {
           "colorbar": {
            "outlinewidth": 0,
            "ticks": ""
           }
          },
          "colorscale": {
           "diverging": [
            [
             0,
             "#8e0152"
            ],
            [
             0.1,
             "#c51b7d"
            ],
            [
             0.2,
             "#de77ae"
            ],
            [
             0.3,
             "#f1b6da"
            ],
            [
             0.4,
             "#fde0ef"
            ],
            [
             0.5,
             "#f7f7f7"
            ],
            [
             0.6,
             "#e6f5d0"
            ],
            [
             0.7,
             "#b8e186"
            ],
            [
             0.8,
             "#7fbc41"
            ],
            [
             0.9,
             "#4d9221"
            ],
            [
             1,
             "#276419"
            ]
           ],
           "sequential": [
            [
             0,
             "#0d0887"
            ],
            [
             0.1111111111111111,
             "#46039f"
            ],
            [
             0.2222222222222222,
             "#7201a8"
            ],
            [
             0.3333333333333333,
             "#9c179e"
            ],
            [
             0.4444444444444444,
             "#bd3786"
            ],
            [
             0.5555555555555556,
             "#d8576b"
            ],
            [
             0.6666666666666666,
             "#ed7953"
            ],
            [
             0.7777777777777778,
             "#fb9f3a"
            ],
            [
             0.8888888888888888,
             "#fdca26"
            ],
            [
             1,
             "#f0f921"
            ]
           ],
           "sequentialminus": [
            [
             0,
             "#0d0887"
            ],
            [
             0.1111111111111111,
             "#46039f"
            ],
            [
             0.2222222222222222,
             "#7201a8"
            ],
            [
             0.3333333333333333,
             "#9c179e"
            ],
            [
             0.4444444444444444,
             "#bd3786"
            ],
            [
             0.5555555555555556,
             "#d8576b"
            ],
            [
             0.6666666666666666,
             "#ed7953"
            ],
            [
             0.7777777777777778,
             "#fb9f3a"
            ],
            [
             0.8888888888888888,
             "#fdca26"
            ],
            [
             1,
             "#f0f921"
            ]
           ]
          },
          "colorway": [
           "#636efa",
           "#EF553B",
           "#00cc96",
           "#ab63fa",
           "#FFA15A",
           "#19d3f3",
           "#FF6692",
           "#B6E880",
           "#FF97FF",
           "#FECB52"
          ],
          "font": {
           "color": "#2a3f5f"
          },
          "geo": {
           "bgcolor": "white",
           "lakecolor": "white",
           "landcolor": "#E5ECF6",
           "showlakes": true,
           "showland": true,
           "subunitcolor": "white"
          },
          "hoverlabel": {
           "align": "left"
          },
          "hovermode": "closest",
          "mapbox": {
           "style": "light"
          },
          "paper_bgcolor": "white",
          "plot_bgcolor": "#E5ECF6",
          "polar": {
           "angularaxis": {
            "gridcolor": "white",
            "linecolor": "white",
            "ticks": ""
           },
           "bgcolor": "#E5ECF6",
           "radialaxis": {
            "gridcolor": "white",
            "linecolor": "white",
            "ticks": ""
           }
          },
          "scene": {
           "xaxis": {
            "backgroundcolor": "#E5ECF6",
            "gridcolor": "white",
            "gridwidth": 2,
            "linecolor": "white",
            "showbackground": true,
            "ticks": "",
            "zerolinecolor": "white"
           },
           "yaxis": {
            "backgroundcolor": "#E5ECF6",
            "gridcolor": "white",
            "gridwidth": 2,
            "linecolor": "white",
            "showbackground": true,
            "ticks": "",
            "zerolinecolor": "white"
           },
           "zaxis": {
            "backgroundcolor": "#E5ECF6",
            "gridcolor": "white",
            "gridwidth": 2,
            "linecolor": "white",
            "showbackground": true,
            "ticks": "",
            "zerolinecolor": "white"
           }
          },
          "shapedefaults": {
           "line": {
            "color": "#2a3f5f"
           }
          },
          "ternary": {
           "aaxis": {
            "gridcolor": "white",
            "linecolor": "white",
            "ticks": ""
           },
           "baxis": {
            "gridcolor": "white",
            "linecolor": "white",
            "ticks": ""
           },
           "bgcolor": "#E5ECF6",
           "caxis": {
            "gridcolor": "white",
            "linecolor": "white",
            "ticks": ""
           }
          },
          "title": {
           "x": 0.05
          },
          "xaxis": {
           "automargin": true,
           "gridcolor": "white",
           "linecolor": "white",
           "ticks": "",
           "title": {
            "standoff": 15
           },
           "zerolinecolor": "white",
           "zerolinewidth": 2
          },
          "yaxis": {
           "automargin": true,
           "gridcolor": "white",
           "linecolor": "white",
           "ticks": "",
           "title": {
            "standoff": 15
           },
           "zerolinecolor": "white",
           "zerolinewidth": 2
          }
         }
        },
        "title": {
         "text": "High-level workload characterization of virtual file system operations"
        },
        "xaxis": {
         "anchor": "y",
         "domain": [
          0,
          1
         ],
         "title": {
          "text": "Packets Per Second (thousand)"
         }
        },
        "yaxis": {
         "anchor": "x",
         "domain": [
          0,
          1
         ],
         "title": {
          "text": "Count"
         }
        }
       }
      }
     },
     "metadata": {},
     "output_type": "display_data"
    }
   ],
   "source": [
    "vfsstat_df = spark.read.option(\"basePath\", \"../ansible/.results\").json(\n",
    "\"../ansible/.results/kpps=*/tool=vfsstat\")\n",
    "vfsstat_fig = px.bar(vfsstat_df.toPandas(), x=\"kpps\", y=[\"WRITE\", \"READ\", \"OPEN\", \"FSYNC\", \"CREATE\"], barmode='group',\n",
    "            title=\"High-level workload characterization of virtual file system operations\",\n",
    "            labels={\n",
    "                     \"kpps\": \"Packets Per Second (thousand)\",\n",
    "                     \"value\": \"Count\",\n",
    "                     \"variable\": \"VFS operation\"\n",
    "                 })\n",
    "vfsstat_fig.update_traces(textfont_size=12, textangle=0, textposition=\"outside\", cliponaxis=False)\n",
    "vfsstat_fig.show()\n",
    "vfsstat_fig.write_image(\"images/vfsstat.jpeg\")\n",
    "with open(html_output_file, 'a') as f:\n",
    "    f.write(vfsstat_fig.to_html(full_html=False, include_plotlyjs='cdn'))\n"
   ]
  },
  {
   "cell_type": "code",
   "execution_count": 13,
   "metadata": {},
   "outputs": [
    {
     "name": "stderr",
     "output_type": "stream",
     "text": [
      "22/03/24 02:08:58 WARN package: Truncated the string representation of a plan since it was too large. This behavior can be adjusted by setting 'spark.sql.debug.maxToStringFields'.\n",
      "22/03/24 02:09:12 WARN DAGScheduler: Broadcasting large task binary with size 1117.8 KiB\n",
      "                                                                                \r"
     ]
    },
    {
     "data": {
      "application/vnd.plotly.v1+json": {
       "config": {
        "plotlyServerURL": "https://plot.ly"
       },
       "data": [
        {
         "hovertemplate": "program=bpfilter_umh<br>I/O Size (bytes)=%{x}<br>Packets Per Second (thousand)=%{y}<br>Number of I/O operations=%{marker.size}<extra></extra>",
         "legendgroup": "bpfilter_umh",
         "marker": {
          "color": "#636efa",
          "size": [
           24,
           0,
           23,
           24,
           0,
           23,
           24,
           0,
           23,
           24,
           0,
           23,
           24,
           0,
           23,
           24,
           0,
           23,
           24,
           0,
           23,
           24,
           0,
           23,
           24,
           0,
           23
          ],
          "sizemode": "area",
          "sizeref": 1.635,
          "symbol": "circle"
         },
         "mode": "markers",
         "name": "bpfilter_umh",
         "showlegend": true,
         "type": "scattergl",
         "x": [
          "7 - 4",
          "15 - 8",
          "31 - 16",
          "7 - 4",
          "15 - 8",
          "31 - 16",
          "7 - 4",
          "15 - 8",
          "31 - 16",
          "7 - 4",
          "15 - 8",
          "31 - 16",
          "7 - 4",
          "15 - 8",
          "31 - 16",
          "7 - 4",
          "15 - 8",
          "31 - 16",
          "7 - 4",
          "15 - 8",
          "31 - 16",
          "7 - 4",
          "15 - 8",
          "31 - 16",
          "7 - 4",
          "15 - 8",
          "31 - 16"
         ],
         "xaxis": "x",
         "y": [
          "10",
          "10",
          "10",
          "500",
          "500",
          "500",
          "300",
          "300",
          "300",
          "600",
          "600",
          "600",
          "50",
          "50",
          "50",
          "100",
          "100",
          "100",
          "200",
          "200",
          "200",
          "400",
          "400",
          "400",
          "1",
          "1",
          "1"
         ],
         "yaxis": "y"
        },
        {
         "hovertemplate": "program=hv_kvp_daemon<br>I/O Size (bytes)=%{x}<br>Packets Per Second (thousand)=%{y}<br>Number of I/O operations=%{marker.size}<extra></extra>",
         "legendgroup": "hv_kvp_daemon",
         "marker": {
          "color": "#EF553B",
          "size": [
           316,
           0,
           0,
           0,
           0,
           0,
           0,
           0,
           0,
           0,
           0,
           0,
           0,
           0,
           0,
           0,
           0,
           0,
           0,
           0,
           316,
           316,
           0,
           0,
           0,
           0,
           0,
           0,
           0,
           0,
           0,
           0,
           0,
           0,
           0,
           0,
           0,
           0,
           0,
           0,
           0,
           316,
           316,
           0,
           0,
           0,
           0,
           0,
           0,
           0,
           0,
           0,
           0,
           0,
           0,
           0,
           0,
           0,
           0,
           0,
           0,
           0,
           316,
           316,
           0,
           0,
           0,
           0,
           0,
           0,
           0,
           0,
           0,
           0,
           0,
           0,
           0,
           0,
           0,
           0,
           0,
           0,
           0,
           316,
           316,
           0,
           0,
           0,
           0,
           0,
           0,
           0,
           0,
           0,
           0,
           0,
           0,
           0,
           0,
           0,
           0,
           0,
           0,
           0,
           316,
           316,
           0,
           0,
           0,
           0,
           0,
           0,
           0,
           0,
           0,
           0,
           0,
           0,
           0,
           0,
           0,
           0,
           0,
           0,
           0,
           316,
           316,
           0,
           0,
           0,
           0,
           0,
           0,
           0,
           0,
           0,
           0,
           0,
           0,
           0,
           0,
           0,
           0,
           0,
           0,
           0,
           316,
           316,
           0,
           0,
           0,
           0,
           0,
           0,
           0,
           0,
           0,
           0,
           0,
           0,
           0,
           0,
           0,
           0,
           0,
           0,
           0,
           316,
           316,
           0,
           0,
           0,
           0,
           0,
           0,
           0,
           0,
           0,
           0,
           0,
           0,
           0,
           0,
           0,
           0,
           0,
           0,
           0,
           316,
           654,
           654,
           654,
           654,
           654,
           654,
           654,
           654,
           654
          ],
          "sizemode": "area",
          "sizeref": 1.635,
          "symbol": "circle"
         },
         "mode": "markers",
         "name": "hv_kvp_daemon",
         "showlegend": true,
         "type": "scattergl",
         "x": [
          "0 - 0",
          "1 - 1",
          "3 - 2",
          "7 - 4",
          "15 - 8",
          "31 - 16",
          "63 - 32",
          "127 - 64",
          "255 - 128",
          "511 - 256",
          "1023 - 512",
          "2047 - 1024",
          "4095 - 2048",
          "8191 - 4096",
          "16383 - 8192",
          "32767 - 16384",
          "65535 - 32768",
          "131071 - 65536",
          "262143 - 131072",
          "524287 - 262144",
          "1048575 - 524288",
          "0 - 0",
          "1 - 1",
          "3 - 2",
          "7 - 4",
          "15 - 8",
          "31 - 16",
          "63 - 32",
          "127 - 64",
          "255 - 128",
          "511 - 256",
          "1023 - 512",
          "2047 - 1024",
          "4095 - 2048",
          "8191 - 4096",
          "16383 - 8192",
          "32767 - 16384",
          "65535 - 32768",
          "131071 - 65536",
          "262143 - 131072",
          "524287 - 262144",
          "1048575 - 524288",
          "0 - 0",
          "1 - 1",
          "3 - 2",
          "7 - 4",
          "15 - 8",
          "31 - 16",
          "63 - 32",
          "127 - 64",
          "255 - 128",
          "511 - 256",
          "1023 - 512",
          "2047 - 1024",
          "4095 - 2048",
          "8191 - 4096",
          "16383 - 8192",
          "32767 - 16384",
          "65535 - 32768",
          "131071 - 65536",
          "262143 - 131072",
          "524287 - 262144",
          "1048575 - 524288",
          "0 - 0",
          "1 - 1",
          "3 - 2",
          "7 - 4",
          "15 - 8",
          "31 - 16",
          "63 - 32",
          "127 - 64",
          "255 - 128",
          "511 - 256",
          "1023 - 512",
          "2047 - 1024",
          "4095 - 2048",
          "8191 - 4096",
          "16383 - 8192",
          "32767 - 16384",
          "65535 - 32768",
          "131071 - 65536",
          "262143 - 131072",
          "524287 - 262144",
          "1048575 - 524288",
          "0 - 0",
          "1 - 1",
          "3 - 2",
          "7 - 4",
          "15 - 8",
          "31 - 16",
          "63 - 32",
          "127 - 64",
          "255 - 128",
          "511 - 256",
          "1023 - 512",
          "2047 - 1024",
          "4095 - 2048",
          "8191 - 4096",
          "16383 - 8192",
          "32767 - 16384",
          "65535 - 32768",
          "131071 - 65536",
          "262143 - 131072",
          "524287 - 262144",
          "1048575 - 524288",
          "0 - 0",
          "1 - 1",
          "3 - 2",
          "7 - 4",
          "15 - 8",
          "31 - 16",
          "63 - 32",
          "127 - 64",
          "255 - 128",
          "511 - 256",
          "1023 - 512",
          "2047 - 1024",
          "4095 - 2048",
          "8191 - 4096",
          "16383 - 8192",
          "32767 - 16384",
          "65535 - 32768",
          "131071 - 65536",
          "262143 - 131072",
          "524287 - 262144",
          "1048575 - 524288",
          "0 - 0",
          "1 - 1",
          "3 - 2",
          "7 - 4",
          "15 - 8",
          "31 - 16",
          "63 - 32",
          "127 - 64",
          "255 - 128",
          "511 - 256",
          "1023 - 512",
          "2047 - 1024",
          "4095 - 2048",
          "8191 - 4096",
          "16383 - 8192",
          "32767 - 16384",
          "65535 - 32768",
          "131071 - 65536",
          "262143 - 131072",
          "524287 - 262144",
          "1048575 - 524288",
          "0 - 0",
          "1 - 1",
          "3 - 2",
          "7 - 4",
          "15 - 8",
          "31 - 16",
          "63 - 32",
          "127 - 64",
          "255 - 128",
          "511 - 256",
          "1023 - 512",
          "2047 - 1024",
          "4095 - 2048",
          "8191 - 4096",
          "16383 - 8192",
          "32767 - 16384",
          "65535 - 32768",
          "131071 - 65536",
          "262143 - 131072",
          "524287 - 262144",
          "1048575 - 524288",
          "0 - 0",
          "1 - 1",
          "3 - 2",
          "7 - 4",
          "15 - 8",
          "31 - 16",
          "63 - 32",
          "127 - 64",
          "255 - 128",
          "511 - 256",
          "1023 - 512",
          "2047 - 1024",
          "4095 - 2048",
          "8191 - 4096",
          "16383 - 8192",
          "32767 - 16384",
          "65535 - 32768",
          "131071 - 65536",
          "262143 - 131072",
          "524287 - 262144",
          "1048575 - 524288",
          "8191 - 4096",
          "8191 - 4096",
          "8191 - 4096",
          "8191 - 4096",
          "8191 - 4096",
          "8191 - 4096",
          "8191 - 4096",
          "8191 - 4096",
          "8191 - 4096"
         ],
         "xaxis": "x",
         "y": [
          "10",
          "10",
          "10",
          "10",
          "10",
          "10",
          "10",
          "10",
          "10",
          "10",
          "10",
          "10",
          "10",
          "10",
          "10",
          "10",
          "10",
          "10",
          "10",
          "10",
          "10",
          "500",
          "500",
          "500",
          "500",
          "500",
          "500",
          "500",
          "500",
          "500",
          "500",
          "500",
          "500",
          "500",
          "500",
          "500",
          "500",
          "500",
          "500",
          "500",
          "500",
          "500",
          "300",
          "300",
          "300",
          "300",
          "300",
          "300",
          "300",
          "300",
          "300",
          "300",
          "300",
          "300",
          "300",
          "300",
          "300",
          "300",
          "300",
          "300",
          "300",
          "300",
          "300",
          "600",
          "600",
          "600",
          "600",
          "600",
          "600",
          "600",
          "600",
          "600",
          "600",
          "600",
          "600",
          "600",
          "600",
          "600",
          "600",
          "600",
          "600",
          "600",
          "600",
          "600",
          "50",
          "50",
          "50",
          "50",
          "50",
          "50",
          "50",
          "50",
          "50",
          "50",
          "50",
          "50",
          "50",
          "50",
          "50",
          "50",
          "50",
          "50",
          "50",
          "50",
          "50",
          "100",
          "100",
          "100",
          "100",
          "100",
          "100",
          "100",
          "100",
          "100",
          "100",
          "100",
          "100",
          "100",
          "100",
          "100",
          "100",
          "100",
          "100",
          "100",
          "100",
          "100",
          "200",
          "200",
          "200",
          "200",
          "200",
          "200",
          "200",
          "200",
          "200",
          "200",
          "200",
          "200",
          "200",
          "200",
          "200",
          "200",
          "200",
          "200",
          "200",
          "200",
          "200",
          "400",
          "400",
          "400",
          "400",
          "400",
          "400",
          "400",
          "400",
          "400",
          "400",
          "400",
          "400",
          "400",
          "400",
          "400",
          "400",
          "400",
          "400",
          "400",
          "400",
          "400",
          "1",
          "1",
          "1",
          "1",
          "1",
          "1",
          "1",
          "1",
          "1",
          "1",
          "1",
          "1",
          "1",
          "1",
          "1",
          "1",
          "1",
          "1",
          "1",
          "1",
          "1",
          "10",
          "500",
          "300",
          "600",
          "50",
          "100",
          "200",
          "400",
          "1"
         ],
         "yaxis": "y"
        },
        {
         "hovertemplate": "program=iptables<br>I/O Size (bytes)=%{x}<br>Packets Per Second (thousand)=%{y}<br>Number of I/O operations=%{marker.size}<extra></extra>",
         "legendgroup": "iptables",
         "marker": {
          "color": "#00cc96",
          "size": [
           2,
           2,
           2,
           2,
           2,
           2,
           2,
           2,
           2,
           8,
           8,
           0,
           0,
           12,
           8,
           8,
           0,
           0,
           12,
           8,
           8,
           0,
           0,
           12,
           8,
           8,
           0,
           0,
           12,
           8,
           8,
           0,
           0,
           12,
           8,
           8,
           0,
           0,
           12,
           8,
           8,
           0,
           0,
           12,
           8,
           8,
           0,
           0,
           12,
           8,
           8,
           0,
           0,
           12,
           4,
           4,
           4,
           4,
           4,
           4,
           4,
           4,
           4,
           4,
           4,
           4,
           4,
           4,
           4,
           4,
           4,
           4,
           4,
           4,
           4,
           4,
           4,
           4,
           4,
           4,
           4,
           2,
           2,
           2,
           2,
           2,
           2,
           2,
           2,
           2,
           2,
           2,
           2,
           2,
           2,
           2,
           2,
           2,
           2,
           2,
           2,
           2,
           2,
           2,
           2,
           2,
           2,
           2,
           4,
           4,
           4,
           4,
           4,
           4,
           4,
           4,
           4,
           2,
           0,
           0,
           0,
           0,
           0,
           0,
           0,
           0,
           2,
           2,
           0,
           0,
           0,
           0,
           0,
           0,
           0,
           0,
           2,
           2,
           0,
           0,
           0,
           0,
           0,
           0,
           0,
           0,
           2,
           2,
           0,
           0,
           0,
           0,
           0,
           0,
           0,
           0,
           2,
           2,
           0,
           0,
           0,
           0,
           0,
           0,
           0,
           0,
           2,
           2,
           0,
           0,
           0,
           0,
           0,
           0,
           0,
           0,
           2,
           2,
           0,
           0,
           0,
           0,
           0,
           0,
           0,
           0,
           2,
           2,
           0,
           0,
           0,
           0,
           0,
           0,
           0,
           0,
           2,
           2,
           0,
           0,
           0,
           0,
           0,
           0,
           0,
           0,
           2,
           2,
           2,
           2,
           2,
           2,
           2,
           2,
           2,
           2
          ],
          "sizemode": "area",
          "sizeref": 1.635,
          "symbol": "circle"
         },
         "mode": "markers",
         "name": "iptables",
         "showlegend": true,
         "type": "scattergl",
         "x": [
          "31 - 16",
          "31 - 16",
          "31 - 16",
          "31 - 16",
          "31 - 16",
          "31 - 16",
          "31 - 16",
          "31 - 16",
          "31 - 16",
          "63 - 32",
          "127 - 64",
          "255 - 128",
          "511 - 256",
          "1023 - 512",
          "63 - 32",
          "127 - 64",
          "255 - 128",
          "511 - 256",
          "1023 - 512",
          "63 - 32",
          "127 - 64",
          "255 - 128",
          "511 - 256",
          "1023 - 512",
          "63 - 32",
          "127 - 64",
          "255 - 128",
          "511 - 256",
          "1023 - 512",
          "63 - 32",
          "127 - 64",
          "255 - 128",
          "511 - 256",
          "1023 - 512",
          "63 - 32",
          "127 - 64",
          "255 - 128",
          "511 - 256",
          "1023 - 512",
          "63 - 32",
          "127 - 64",
          "255 - 128",
          "511 - 256",
          "1023 - 512",
          "63 - 32",
          "127 - 64",
          "255 - 128",
          "511 - 256",
          "1023 - 512",
          "63 - 32",
          "127 - 64",
          "255 - 128",
          "511 - 256",
          "1023 - 512",
          "1023 - 512",
          "1023 - 512",
          "1023 - 512",
          "1023 - 512",
          "1023 - 512",
          "1023 - 512",
          "1023 - 512",
          "1023 - 512",
          "1023 - 512",
          "1023 - 512",
          "1023 - 512",
          "1023 - 512",
          "1023 - 512",
          "1023 - 512",
          "1023 - 512",
          "1023 - 512",
          "1023 - 512",
          "1023 - 512",
          "1023 - 512",
          "1023 - 512",
          "1023 - 512",
          "1023 - 512",
          "1023 - 512",
          "1023 - 512",
          "1023 - 512",
          "1023 - 512",
          "1023 - 512",
          "1023 - 512",
          "1023 - 512",
          "1023 - 512",
          "1023 - 512",
          "1023 - 512",
          "1023 - 512",
          "1023 - 512",
          "1023 - 512",
          "1023 - 512",
          "1023 - 512",
          "1023 - 512",
          "1023 - 512",
          "1023 - 512",
          "1023 - 512",
          "1023 - 512",
          "1023 - 512",
          "1023 - 512",
          "1023 - 512",
          "1023 - 512",
          "1023 - 512",
          "1023 - 512",
          "1023 - 512",
          "1023 - 512",
          "1023 - 512",
          "1023 - 512",
          "1023 - 512",
          "1023 - 512",
          "1023 - 512",
          "1023 - 512",
          "1023 - 512",
          "1023 - 512",
          "1023 - 512",
          "1023 - 512",
          "1023 - 512",
          "1023 - 512",
          "1023 - 512",
          "0 - 0",
          "1 - 1",
          "3 - 2",
          "7 - 4",
          "15 - 8",
          "31 - 16",
          "63 - 32",
          "127 - 64",
          "255 - 128",
          "511 - 256",
          "0 - 0",
          "1 - 1",
          "3 - 2",
          "7 - 4",
          "15 - 8",
          "31 - 16",
          "63 - 32",
          "127 - 64",
          "255 - 128",
          "511 - 256",
          "0 - 0",
          "1 - 1",
          "3 - 2",
          "7 - 4",
          "15 - 8",
          "31 - 16",
          "63 - 32",
          "127 - 64",
          "255 - 128",
          "511 - 256",
          "0 - 0",
          "1 - 1",
          "3 - 2",
          "7 - 4",
          "15 - 8",
          "31 - 16",
          "63 - 32",
          "127 - 64",
          "255 - 128",
          "511 - 256",
          "0 - 0",
          "1 - 1",
          "3 - 2",
          "7 - 4",
          "15 - 8",
          "31 - 16",
          "63 - 32",
          "127 - 64",
          "255 - 128",
          "511 - 256",
          "0 - 0",
          "1 - 1",
          "3 - 2",
          "7 - 4",
          "15 - 8",
          "31 - 16",
          "63 - 32",
          "127 - 64",
          "255 - 128",
          "511 - 256",
          "0 - 0",
          "1 - 1",
          "3 - 2",
          "7 - 4",
          "15 - 8",
          "31 - 16",
          "63 - 32",
          "127 - 64",
          "255 - 128",
          "511 - 256",
          "0 - 0",
          "1 - 1",
          "3 - 2",
          "7 - 4",
          "15 - 8",
          "31 - 16",
          "63 - 32",
          "127 - 64",
          "255 - 128",
          "511 - 256",
          "0 - 0",
          "1 - 1",
          "3 - 2",
          "7 - 4",
          "15 - 8",
          "31 - 16",
          "63 - 32",
          "127 - 64",
          "255 - 128",
          "511 - 256",
          "4095 - 2048",
          "4095 - 2048",
          "4095 - 2048",
          "4095 - 2048",
          "4095 - 2048",
          "4095 - 2048",
          "4095 - 2048",
          "4095 - 2048",
          "4095 - 2048"
         ],
         "xaxis": "x",
         "y": [
          "10",
          "500",
          "300",
          "600",
          "50",
          "100",
          "200",
          "400",
          "1",
          "10",
          "10",
          "10",
          "10",
          "10",
          "500",
          "500",
          "500",
          "500",
          "500",
          "300",
          "300",
          "300",
          "300",
          "300",
          "600",
          "600",
          "600",
          "600",
          "600",
          "50",
          "50",
          "50",
          "50",
          "50",
          "100",
          "100",
          "100",
          "100",
          "100",
          "200",
          "200",
          "200",
          "200",
          "200",
          "400",
          "400",
          "400",
          "400",
          "400",
          "1",
          "1",
          "1",
          "1",
          "1",
          "10",
          "500",
          "300",
          "600",
          "50",
          "100",
          "200",
          "400",
          "1",
          "10",
          "500",
          "300",
          "600",
          "50",
          "100",
          "200",
          "400",
          "1",
          "10",
          "500",
          "300",
          "600",
          "50",
          "100",
          "200",
          "400",
          "1",
          "10",
          "500",
          "300",
          "600",
          "50",
          "100",
          "200",
          "400",
          "1",
          "10",
          "500",
          "300",
          "600",
          "50",
          "100",
          "200",
          "400",
          "1",
          "10",
          "500",
          "300",
          "600",
          "50",
          "100",
          "200",
          "400",
          "1",
          "10",
          "500",
          "300",
          "600",
          "50",
          "100",
          "200",
          "400",
          "1",
          "10",
          "10",
          "10",
          "10",
          "10",
          "10",
          "10",
          "10",
          "10",
          "10",
          "500",
          "500",
          "500",
          "500",
          "500",
          "500",
          "500",
          "500",
          "500",
          "500",
          "300",
          "300",
          "300",
          "300",
          "300",
          "300",
          "300",
          "300",
          "300",
          "300",
          "600",
          "600",
          "600",
          "600",
          "600",
          "600",
          "600",
          "600",
          "600",
          "600",
          "50",
          "50",
          "50",
          "50",
          "50",
          "50",
          "50",
          "50",
          "50",
          "50",
          "100",
          "100",
          "100",
          "100",
          "100",
          "100",
          "100",
          "100",
          "100",
          "100",
          "200",
          "200",
          "200",
          "200",
          "200",
          "200",
          "200",
          "200",
          "200",
          "200",
          "400",
          "400",
          "400",
          "400",
          "400",
          "400",
          "400",
          "400",
          "400",
          "400",
          "1",
          "1",
          "1",
          "1",
          "1",
          "1",
          "1",
          "1",
          "1",
          "1",
          "10",
          "500",
          "300",
          "600",
          "50",
          "100",
          "200",
          "400",
          "1"
         ],
         "yaxis": "y"
        },
        {
         "hovertemplate": "program=irqbalance<br>I/O Size (bytes)=%{x}<br>Packets Per Second (thousand)=%{y}<br>Number of I/O operations=%{marker.size}<extra></extra>",
         "legendgroup": "irqbalance",
         "marker": {
          "color": "#ab63fa",
          "size": [
           66,
           66,
           66,
           66,
           66,
           66,
           66,
           66,
           66,
           42,
           42,
           42,
           42,
           42,
           42,
           42,
           42,
           42,
           6,
           6,
           6,
           6,
           6,
           6,
           6,
           6,
           6,
           6,
           6,
           6,
           6,
           6,
           6,
           6,
           6,
           6
          ],
          "sizemode": "area",
          "sizeref": 1.635,
          "symbol": "circle"
         },
         "mode": "markers",
         "name": "irqbalance",
         "showlegend": true,
         "type": "scattergl",
         "x": [
          "2047 - 1024",
          "2047 - 1024",
          "2047 - 1024",
          "2047 - 1024",
          "2047 - 1024",
          "2047 - 1024",
          "2047 - 1024",
          "2047 - 1024",
          "2047 - 1024",
          "7 - 4",
          "7 - 4",
          "7 - 4",
          "7 - 4",
          "7 - 4",
          "7 - 4",
          "7 - 4",
          "7 - 4",
          "7 - 4",
          "1023 - 512",
          "2047 - 1024",
          "1023 - 512",
          "2047 - 1024",
          "1023 - 512",
          "2047 - 1024",
          "1023 - 512",
          "2047 - 1024",
          "1023 - 512",
          "2047 - 1024",
          "1023 - 512",
          "2047 - 1024",
          "1023 - 512",
          "2047 - 1024",
          "1023 - 512",
          "2047 - 1024",
          "1023 - 512",
          "2047 - 1024"
         ],
         "xaxis": "x",
         "y": [
          "10",
          "500",
          "300",
          "600",
          "50",
          "100",
          "200",
          "400",
          "1",
          "10",
          "500",
          "300",
          "600",
          "50",
          "100",
          "200",
          "400",
          "1",
          "10",
          "10",
          "500",
          "500",
          "300",
          "300",
          "600",
          "600",
          "50",
          "50",
          "100",
          "100",
          "200",
          "200",
          "400",
          "400",
          "1",
          "1"
         ],
         "yaxis": "y"
        },
        {
         "hovertemplate": "program=isc-net-0000<br>I/O Size (bytes)=%{x}<br>Packets Per Second (thousand)=%{y}<br>Number of I/O operations=%{marker.size}<extra></extra>",
         "legendgroup": "isc-net-0000",
         "marker": {
          "color": "#FFA15A",
          "size": [
           1,
           1,
           1,
           1,
           1,
           1,
           1,
           1,
           1
          ],
          "sizemode": "area",
          "sizeref": 1.635,
          "symbol": "circle"
         },
         "mode": "markers",
         "name": "isc-net-0000",
         "showlegend": true,
         "type": "scattergl",
         "x": [
          "15 - 8",
          "15 - 8",
          "15 - 8",
          "15 - 8",
          "15 - 8",
          "15 - 8",
          "15 - 8",
          "15 - 8",
          "15 - 8"
         ],
         "xaxis": "x",
         "y": [
          "10",
          "500",
          "300",
          "600",
          "50",
          "100",
          "200",
          "400",
          "1"
         ],
         "yaxis": "y"
        },
        {
         "hovertemplate": "program=isc-net-0001<br>I/O Size (bytes)=%{x}<br>Packets Per Second (thousand)=%{y}<br>Number of I/O operations=%{marker.size}<extra></extra>",
         "legendgroup": "isc-net-0001",
         "marker": {
          "color": "#19d3f3",
          "size": [
           1,
           1,
           1,
           1,
           1,
           1,
           1,
           1,
           1
          ],
          "sizemode": "area",
          "sizeref": 1.635,
          "symbol": "circle"
         },
         "mode": "markers",
         "name": "isc-net-0001",
         "showlegend": true,
         "type": "scattergl",
         "x": [
          "15 - 8",
          "15 - 8",
          "15 - 8",
          "15 - 8",
          "15 - 8",
          "15 - 8",
          "15 - 8",
          "15 - 8",
          "15 - 8"
         ],
         "xaxis": "x",
         "y": [
          "10",
          "500",
          "300",
          "600",
          "50",
          "100",
          "200",
          "400",
          "1"
         ],
         "yaxis": "y"
        },
        {
         "hovertemplate": "program=isc-net-0002<br>I/O Size (bytes)=%{x}<br>Packets Per Second (thousand)=%{y}<br>Number of I/O operations=%{marker.size}<extra></extra>",
         "legendgroup": "isc-net-0002",
         "marker": {
          "color": "#FF6692",
          "size": [
           1,
           1,
           1,
           1,
           1,
           1,
           1,
           1,
           1
          ],
          "sizemode": "area",
          "sizeref": 1.635,
          "symbol": "circle"
         },
         "mode": "markers",
         "name": "isc-net-0002",
         "showlegend": true,
         "type": "scattergl",
         "x": [
          "15 - 8",
          "15 - 8",
          "15 - 8",
          "15 - 8",
          "15 - 8",
          "15 - 8",
          "15 - 8",
          "15 - 8",
          "15 - 8"
         ],
         "xaxis": "x",
         "y": [
          "10",
          "500",
          "300",
          "600",
          "50",
          "100",
          "200",
          "400",
          "1"
         ],
         "yaxis": "y"
        },
        {
         "hovertemplate": "program=isc-net-0003<br>I/O Size (bytes)=%{x}<br>Packets Per Second (thousand)=%{y}<br>Number of I/O operations=%{marker.size}<extra></extra>",
         "legendgroup": "isc-net-0003",
         "marker": {
          "color": "#B6E880",
          "size": [
           1,
           1,
           1,
           1,
           1,
           1,
           1,
           1,
           1
          ],
          "sizemode": "area",
          "sizeref": 1.635,
          "symbol": "circle"
         },
         "mode": "markers",
         "name": "isc-net-0003",
         "showlegend": true,
         "type": "scattergl",
         "x": [
          "15 - 8",
          "15 - 8",
          "15 - 8",
          "15 - 8",
          "15 - 8",
          "15 - 8",
          "15 - 8",
          "15 - 8",
          "15 - 8"
         ],
         "xaxis": "x",
         "y": [
          "10",
          "500",
          "300",
          "600",
          "50",
          "100",
          "200",
          "400",
          "1"
         ],
         "yaxis": "y"
        },
        {
         "hovertemplate": "program=isc-net-0004<br>I/O Size (bytes)=%{x}<br>Packets Per Second (thousand)=%{y}<br>Number of I/O operations=%{marker.size}<extra></extra>",
         "legendgroup": "isc-net-0004",
         "marker": {
          "color": "#FF97FF",
          "size": [
           1,
           1,
           1,
           1,
           1,
           1,
           1,
           1,
           1
          ],
          "sizemode": "area",
          "sizeref": 1.635,
          "symbol": "circle"
         },
         "mode": "markers",
         "name": "isc-net-0004",
         "showlegend": true,
         "type": "scattergl",
         "x": [
          "15 - 8",
          "15 - 8",
          "15 - 8",
          "15 - 8",
          "15 - 8",
          "15 - 8",
          "15 - 8",
          "15 - 8",
          "15 - 8"
         ],
         "xaxis": "x",
         "y": [
          "10",
          "500",
          "300",
          "600",
          "50",
          "100",
          "200",
          "400",
          "1"
         ],
         "yaxis": "y"
        },
        {
         "hovertemplate": "program=isc-net-0005<br>I/O Size (bytes)=%{x}<br>Packets Per Second (thousand)=%{y}<br>Number of I/O operations=%{marker.size}<extra></extra>",
         "legendgroup": "isc-net-0005",
         "marker": {
          "color": "#FECB52",
          "size": [
           1,
           1,
           1,
           1,
           1,
           1,
           1,
           1,
           1
          ],
          "sizemode": "area",
          "sizeref": 1.635,
          "symbol": "circle"
         },
         "mode": "markers",
         "name": "isc-net-0005",
         "showlegend": true,
         "type": "scattergl",
         "x": [
          "15 - 8",
          "15 - 8",
          "15 - 8",
          "15 - 8",
          "15 - 8",
          "15 - 8",
          "15 - 8",
          "15 - 8",
          "15 - 8"
         ],
         "xaxis": "x",
         "y": [
          "10",
          "500",
          "300",
          "600",
          "50",
          "100",
          "200",
          "400",
          "1"
         ],
         "yaxis": "y"
        },
        {
         "hovertemplate": "program=isc-net-0006<br>I/O Size (bytes)=%{x}<br>Packets Per Second (thousand)=%{y}<br>Number of I/O operations=%{marker.size}<extra></extra>",
         "legendgroup": "isc-net-0006",
         "marker": {
          "color": "#636efa",
          "size": [
           1,
           1,
           1,
           1,
           1,
           1,
           1,
           1,
           1
          ],
          "sizemode": "area",
          "sizeref": 1.635,
          "symbol": "circle"
         },
         "mode": "markers",
         "name": "isc-net-0006",
         "showlegend": true,
         "type": "scattergl",
         "x": [
          "15 - 8",
          "15 - 8",
          "15 - 8",
          "15 - 8",
          "15 - 8",
          "15 - 8",
          "15 - 8",
          "15 - 8",
          "15 - 8"
         ],
         "xaxis": "x",
         "y": [
          "10",
          "500",
          "300",
          "600",
          "50",
          "100",
          "200",
          "400",
          "1"
         ],
         "yaxis": "y"
        },
        {
         "hovertemplate": "program=isc-net-0007<br>I/O Size (bytes)=%{x}<br>Packets Per Second (thousand)=%{y}<br>Number of I/O operations=%{marker.size}<extra></extra>",
         "legendgroup": "isc-net-0007",
         "marker": {
          "color": "#EF553B",
          "size": [
           1,
           1,
           1,
           1,
           1,
           1,
           1,
           1,
           1
          ],
          "sizemode": "area",
          "sizeref": 1.635,
          "symbol": "circle"
         },
         "mode": "markers",
         "name": "isc-net-0007",
         "showlegend": true,
         "type": "scattergl",
         "x": [
          "15 - 8",
          "15 - 8",
          "15 - 8",
          "15 - 8",
          "15 - 8",
          "15 - 8",
          "15 - 8",
          "15 - 8",
          "15 - 8"
         ],
         "xaxis": "x",
         "y": [
          "10",
          "500",
          "300",
          "600",
          "50",
          "100",
          "200",
          "400",
          "1"
         ],
         "yaxis": "y"
        },
        {
         "hovertemplate": "program=isc-net-0008<br>I/O Size (bytes)=%{x}<br>Packets Per Second (thousand)=%{y}<br>Number of I/O operations=%{marker.size}<extra></extra>",
         "legendgroup": "isc-net-0008",
         "marker": {
          "color": "#00cc96",
          "size": [
           1,
           1,
           1,
           1,
           1,
           1,
           1,
           1,
           1
          ],
          "sizemode": "area",
          "sizeref": 1.635,
          "symbol": "circle"
         },
         "mode": "markers",
         "name": "isc-net-0008",
         "showlegend": true,
         "type": "scattergl",
         "x": [
          "15 - 8",
          "15 - 8",
          "15 - 8",
          "15 - 8",
          "15 - 8",
          "15 - 8",
          "15 - 8",
          "15 - 8",
          "15 - 8"
         ],
         "xaxis": "x",
         "y": [
          "10",
          "500",
          "300",
          "600",
          "50",
          "100",
          "200",
          "400",
          "1"
         ],
         "yaxis": "y"
        },
        {
         "hovertemplate": "program=isc-net-0009<br>I/O Size (bytes)=%{x}<br>Packets Per Second (thousand)=%{y}<br>Number of I/O operations=%{marker.size}<extra></extra>",
         "legendgroup": "isc-net-0009",
         "marker": {
          "color": "#ab63fa",
          "size": [
           1,
           1,
           1,
           1,
           1,
           1,
           1,
           1,
           1
          ],
          "sizemode": "area",
          "sizeref": 1.635,
          "symbol": "circle"
         },
         "mode": "markers",
         "name": "isc-net-0009",
         "showlegend": true,
         "type": "scattergl",
         "x": [
          "15 - 8",
          "15 - 8",
          "15 - 8",
          "15 - 8",
          "15 - 8",
          "15 - 8",
          "15 - 8",
          "15 - 8",
          "15 - 8"
         ],
         "xaxis": "x",
         "y": [
          "10",
          "500",
          "300",
          "600",
          "50",
          "100",
          "200",
          "400",
          "1"
         ],
         "yaxis": "y"
        },
        {
         "hovertemplate": "program=isc-net-0010<br>I/O Size (bytes)=%{x}<br>Packets Per Second (thousand)=%{y}<br>Number of I/O operations=%{marker.size}<extra></extra>",
         "legendgroup": "isc-net-0010",
         "marker": {
          "color": "#FFA15A",
          "size": [
           1,
           1,
           1,
           1,
           1,
           1,
           1,
           1,
           1
          ],
          "sizemode": "area",
          "sizeref": 1.635,
          "symbol": "circle"
         },
         "mode": "markers",
         "name": "isc-net-0010",
         "showlegend": true,
         "type": "scattergl",
         "x": [
          "15 - 8",
          "15 - 8",
          "15 - 8",
          "15 - 8",
          "15 - 8",
          "15 - 8",
          "15 - 8",
          "15 - 8",
          "15 - 8"
         ],
         "xaxis": "x",
         "y": [
          "10",
          "500",
          "300",
          "600",
          "50",
          "100",
          "200",
          "400",
          "1"
         ],
         "yaxis": "y"
        },
        {
         "hovertemplate": "program=isc-net-0011<br>I/O Size (bytes)=%{x}<br>Packets Per Second (thousand)=%{y}<br>Number of I/O operations=%{marker.size}<extra></extra>",
         "legendgroup": "isc-net-0011",
         "marker": {
          "color": "#19d3f3",
          "size": [
           1,
           1,
           1,
           1,
           1,
           1,
           1,
           1,
           1
          ],
          "sizemode": "area",
          "sizeref": 1.635,
          "symbol": "circle"
         },
         "mode": "markers",
         "name": "isc-net-0011",
         "showlegend": true,
         "type": "scattergl",
         "x": [
          "15 - 8",
          "15 - 8",
          "15 - 8",
          "15 - 8",
          "15 - 8",
          "15 - 8",
          "15 - 8",
          "15 - 8",
          "15 - 8"
         ],
         "xaxis": "x",
         "y": [
          "10",
          "500",
          "300",
          "600",
          "50",
          "100",
          "200",
          "400",
          "1"
         ],
         "yaxis": "y"
        },
        {
         "hovertemplate": "program=isc-net-0012<br>I/O Size (bytes)=%{x}<br>Packets Per Second (thousand)=%{y}<br>Number of I/O operations=%{marker.size}<extra></extra>",
         "legendgroup": "isc-net-0012",
         "marker": {
          "color": "#FF6692",
          "size": [
           1,
           1,
           1,
           1,
           1,
           1,
           1,
           1,
           1
          ],
          "sizemode": "area",
          "sizeref": 1.635,
          "symbol": "circle"
         },
         "mode": "markers",
         "name": "isc-net-0012",
         "showlegend": true,
         "type": "scattergl",
         "x": [
          "15 - 8",
          "15 - 8",
          "15 - 8",
          "15 - 8",
          "15 - 8",
          "15 - 8",
          "15 - 8",
          "15 - 8",
          "15 - 8"
         ],
         "xaxis": "x",
         "y": [
          "10",
          "500",
          "300",
          "600",
          "50",
          "100",
          "200",
          "400",
          "1"
         ],
         "yaxis": "y"
        },
        {
         "hovertemplate": "program=isc-net-0013<br>I/O Size (bytes)=%{x}<br>Packets Per Second (thousand)=%{y}<br>Number of I/O operations=%{marker.size}<extra></extra>",
         "legendgroup": "isc-net-0013",
         "marker": {
          "color": "#B6E880",
          "size": [
           1,
           1,
           1,
           1,
           1,
           1,
           1,
           1,
           1
          ],
          "sizemode": "area",
          "sizeref": 1.635,
          "symbol": "circle"
         },
         "mode": "markers",
         "name": "isc-net-0013",
         "showlegend": true,
         "type": "scattergl",
         "x": [
          "15 - 8",
          "15 - 8",
          "15 - 8",
          "15 - 8",
          "15 - 8",
          "15 - 8",
          "15 - 8",
          "15 - 8",
          "15 - 8"
         ],
         "xaxis": "x",
         "y": [
          "10",
          "500",
          "300",
          "600",
          "50",
          "100",
          "200",
          "400",
          "1"
         ],
         "yaxis": "y"
        },
        {
         "hovertemplate": "program=isc-net-0014<br>I/O Size (bytes)=%{x}<br>Packets Per Second (thousand)=%{y}<br>Number of I/O operations=%{marker.size}<extra></extra>",
         "legendgroup": "isc-net-0014",
         "marker": {
          "color": "#FF97FF",
          "size": [
           1,
           1,
           1,
           1,
           1,
           1,
           1,
           1,
           1
          ],
          "sizemode": "area",
          "sizeref": 1.635,
          "symbol": "circle"
         },
         "mode": "markers",
         "name": "isc-net-0014",
         "showlegend": true,
         "type": "scattergl",
         "x": [
          "15 - 8",
          "15 - 8",
          "15 - 8",
          "15 - 8",
          "15 - 8",
          "15 - 8",
          "15 - 8",
          "15 - 8",
          "15 - 8"
         ],
         "xaxis": "x",
         "y": [
          "10",
          "500",
          "300",
          "600",
          "50",
          "100",
          "200",
          "400",
          "1"
         ],
         "yaxis": "y"
        },
        {
         "hovertemplate": "program=isc-net-0015<br>I/O Size (bytes)=%{x}<br>Packets Per Second (thousand)=%{y}<br>Number of I/O operations=%{marker.size}<extra></extra>",
         "legendgroup": "isc-net-0015",
         "marker": {
          "color": "#FECB52",
          "size": [
           1,
           1,
           1,
           1,
           1,
           1,
           1,
           1,
           1
          ],
          "sizemode": "area",
          "sizeref": 1.635,
          "symbol": "circle"
         },
         "mode": "markers",
         "name": "isc-net-0015",
         "showlegend": true,
         "type": "scattergl",
         "x": [
          "15 - 8",
          "15 - 8",
          "15 - 8",
          "15 - 8",
          "15 - 8",
          "15 - 8",
          "15 - 8",
          "15 - 8",
          "15 - 8"
         ],
         "xaxis": "x",
         "y": [
          "10",
          "500",
          "300",
          "600",
          "50",
          "100",
          "200",
          "400",
          "1"
         ],
         "yaxis": "y"
        },
        {
         "hovertemplate": "program=isc-worker0006<br>I/O Size (bytes)=%{x}<br>Packets Per Second (thousand)=%{y}<br>Number of I/O operations=%{marker.size}<extra></extra>",
         "legendgroup": "isc-worker0006",
         "marker": {
          "color": "#636efa",
          "size": [
           16,
           16
          ],
          "sizemode": "area",
          "sizeref": 1.635,
          "symbol": "circle"
         },
         "mode": "markers",
         "name": "isc-worker0006",
         "showlegend": true,
         "type": "scattergl",
         "x": [
          "15 - 8",
          "15 - 8"
         ],
         "xaxis": "x",
         "y": [
          "400",
          "1"
         ],
         "yaxis": "y"
        },
        {
         "hovertemplate": "program=isc-worker0007<br>I/O Size (bytes)=%{x}<br>Packets Per Second (thousand)=%{y}<br>Number of I/O operations=%{marker.size}<extra></extra>",
         "legendgroup": "isc-worker0007",
         "marker": {
          "color": "#EF553B",
          "size": [
           16
          ],
          "sizemode": "area",
          "sizeref": 1.635,
          "symbol": "circle"
         },
         "mode": "markers",
         "name": "isc-worker0007",
         "showlegend": true,
         "type": "scattergl",
         "x": [
          "15 - 8"
         ],
         "xaxis": "x",
         "y": [
          "500"
         ],
         "yaxis": "y"
        },
        {
         "hovertemplate": "program=isc-worker0008<br>I/O Size (bytes)=%{x}<br>Packets Per Second (thousand)=%{y}<br>Number of I/O operations=%{marker.size}<extra></extra>",
         "legendgroup": "isc-worker0008",
         "marker": {
          "color": "#00cc96",
          "size": [
           16,
           16
          ],
          "sizemode": "area",
          "sizeref": 1.635,
          "symbol": "circle"
         },
         "mode": "markers",
         "name": "isc-worker0008",
         "showlegend": true,
         "type": "scattergl",
         "x": [
          "15 - 8",
          "15 - 8"
         ],
         "xaxis": "x",
         "y": [
          "300",
          "600"
         ],
         "yaxis": "y"
        },
        {
         "hovertemplate": "program=isc-worker0009<br>I/O Size (bytes)=%{x}<br>Packets Per Second (thousand)=%{y}<br>Number of I/O operations=%{marker.size}<extra></extra>",
         "legendgroup": "isc-worker0009",
         "marker": {
          "color": "#ab63fa",
          "size": [
           16
          ],
          "sizemode": "area",
          "sizeref": 1.635,
          "symbol": "circle"
         },
         "mode": "markers",
         "name": "isc-worker0009",
         "showlegend": true,
         "type": "scattergl",
         "x": [
          "15 - 8"
         ],
         "xaxis": "x",
         "y": [
          "200"
         ],
         "yaxis": "y"
        },
        {
         "hovertemplate": "program=isc-worker0011<br>I/O Size (bytes)=%{x}<br>Packets Per Second (thousand)=%{y}<br>Number of I/O operations=%{marker.size}<extra></extra>",
         "legendgroup": "isc-worker0011",
         "marker": {
          "color": "#FFA15A",
          "size": [
           16
          ],
          "sizemode": "area",
          "sizeref": 1.635,
          "symbol": "circle"
         },
         "mode": "markers",
         "name": "isc-worker0011",
         "showlegend": true,
         "type": "scattergl",
         "x": [
          "15 - 8"
         ],
         "xaxis": "x",
         "y": [
          "100"
         ],
         "yaxis": "y"
        },
        {
         "hovertemplate": "program=isc-worker0013<br>I/O Size (bytes)=%{x}<br>Packets Per Second (thousand)=%{y}<br>Number of I/O operations=%{marker.size}<extra></extra>",
         "legendgroup": "isc-worker0013",
         "marker": {
          "color": "#19d3f3",
          "size": [
           16
          ],
          "sizemode": "area",
          "sizeref": 1.635,
          "symbol": "circle"
         },
         "mode": "markers",
         "name": "isc-worker0013",
         "showlegend": true,
         "type": "scattergl",
         "x": [
          "15 - 8"
         ],
         "xaxis": "x",
         "y": [
          "50"
         ],
         "yaxis": "y"
        },
        {
         "hovertemplate": "program=isc-worker0014<br>I/O Size (bytes)=%{x}<br>Packets Per Second (thousand)=%{y}<br>Number of I/O operations=%{marker.size}<extra></extra>",
         "legendgroup": "isc-worker0014",
         "marker": {
          "color": "#FF6692",
          "size": [
           16
          ],
          "sizemode": "area",
          "sizeref": 1.635,
          "symbol": "circle"
         },
         "mode": "markers",
         "name": "isc-worker0014",
         "showlegend": true,
         "type": "scattergl",
         "x": [
          "15 - 8"
         ],
         "xaxis": "x",
         "y": [
          "10"
         ],
         "yaxis": "y"
        },
        {
         "hovertemplate": "program=pool-udisksd<br>I/O Size (bytes)=%{x}<br>Packets Per Second (thousand)=%{y}<br>Number of I/O operations=%{marker.size}<extra></extra>",
         "legendgroup": "pool-udisksd",
         "marker": {
          "color": "#B6E880",
          "size": [
           1,
           1
          ],
          "sizemode": "area",
          "sizeref": 1.635,
          "symbol": "circle"
         },
         "mode": "markers",
         "name": "pool-udisksd",
         "showlegend": true,
         "type": "scattergl",
         "x": [
          "15 - 8",
          "15 - 8"
         ],
         "xaxis": "x",
         "y": [
          "500",
          "300"
         ],
         "yaxis": "y"
        },
        {
         "hovertemplate": "program=python3<br>I/O Size (bytes)=%{x}<br>Packets Per Second (thousand)=%{y}<br>Number of I/O operations=%{marker.size}<extra></extra>",
         "legendgroup": "python3",
         "marker": {
          "color": "#FF97FF",
          "size": [
           10,
           0,
           0,
           0,
           0,
           0,
           0,
           0,
           0,
           10,
           10,
           0,
           0,
           0,
           0,
           0,
           0,
           0,
           0,
           10,
           10,
           0,
           0,
           0,
           0,
           0,
           0,
           0,
           0,
           10,
           10,
           0,
           0,
           0,
           0,
           0,
           0,
           0,
           0,
           10,
           10,
           0,
           0,
           0,
           0,
           0,
           0,
           0,
           0,
           10,
           10,
           0,
           0,
           0,
           0,
           0,
           0,
           0,
           0,
           10,
           10,
           0,
           0,
           0,
           0,
           0,
           0,
           0,
           0,
           10,
           10,
           0,
           0,
           0,
           0,
           0,
           0,
           0,
           0,
           10,
           10,
           0,
           0,
           0,
           0,
           0,
           0,
           0,
           0,
           10,
           1,
           1,
           0,
           0,
           0,
           0,
           0,
           0,
           0,
           0,
           0,
           0,
           1,
           1,
           1,
           0,
           0,
           0,
           0,
           0,
           0,
           0,
           0,
           0,
           0,
           1,
           1,
           1,
           1,
           1,
           0,
           0,
           0,
           0,
           0,
           0,
           0,
           0,
           0,
           0,
           1,
           1,
           1,
           0,
           0,
           0,
           0,
           0,
           0,
           0,
           0,
           0,
           0,
           1,
           12,
           0,
           0,
           0,
           0,
           2,
           12,
           0,
           0,
           0,
           0,
           2,
           12,
           0,
           0,
           0,
           0,
           2,
           12,
           0,
           0,
           0,
           0,
           2,
           12,
           0,
           0,
           0,
           0,
           2,
           12,
           0,
           0,
           0,
           0,
           2,
           12,
           0,
           0,
           0,
           0,
           2,
           12,
           0,
           0,
           0,
           0,
           2,
           12,
           0,
           0,
           0,
           0,
           2,
           10,
           0,
           0,
           0,
           0,
           0,
           0,
           0,
           0,
           10,
           10,
           0,
           0,
           0,
           0,
           0,
           0,
           0,
           0,
           10,
           10,
           0,
           0,
           0,
           0,
           0,
           0,
           0,
           0,
           10,
           10,
           0,
           0,
           0,
           0,
           0,
           0,
           0,
           0,
           10,
           10,
           0,
           0,
           0,
           0,
           0,
           0,
           0,
           0,
           10,
           10,
           0,
           0,
           0,
           0,
           0,
           0,
           0,
           0,
           10,
           10,
           0,
           0,
           0,
           0,
           0,
           0,
           0,
           0,
           10,
           10,
           0,
           0,
           0,
           0,
           0,
           0,
           0,
           0,
           10,
           10,
           0,
           0,
           0,
           0,
           0,
           0,
           0,
           0,
           10,
           10,
           0,
           0,
           10,
           10,
           0,
           0,
           10,
           10,
           0,
           0,
           10,
           10,
           0,
           0,
           10,
           10,
           0,
           0,
           10,
           10,
           0,
           0,
           10,
           10,
           0,
           0,
           10,
           10,
           0,
           0,
           10,
           10,
           0,
           0,
           10,
           10,
           0,
           0,
           0,
           0,
           0,
           0,
           0,
           10,
           10,
           0,
           0,
           0,
           0,
           0,
           0,
           0,
           10,
           10,
           0,
           0,
           0,
           0,
           0,
           0,
           0,
           10,
           10,
           0,
           0,
           0,
           0,
           0,
           0,
           0,
           10,
           10,
           0,
           0,
           0,
           0,
           0,
           0,
           0,
           10,
           10,
           0,
           0,
           0,
           0,
           0,
           0,
           0,
           10,
           10,
           0,
           0,
           0,
           0,
           0,
           0,
           0,
           10,
           10,
           0,
           0,
           0,
           0,
           0,
           0,
           0,
           10,
           10,
           0,
           0,
           0,
           0,
           0,
           0,
           0,
           10,
           1,
           0,
           0,
           0,
           1,
           1,
           0,
           0,
           0,
           1,
           1,
           0,
           0,
           0,
           1,
           1,
           1,
           1,
           1,
           0,
           0,
           0,
           0,
           1,
           1,
           0,
           0,
           0,
           0,
           1,
           1,
           0,
           0,
           0,
           0,
           1,
           1,
           1,
           1,
           1,
           0,
           0,
           0,
           0,
           0,
           0,
           0,
           0,
           0,
           0,
           1,
           1,
           0,
           0,
           0,
           0,
           0,
           0,
           0,
           0,
           0,
           0,
           1,
           1,
           0,
           0,
           0,
           0,
           0,
           0,
           0,
           0,
           0,
           0,
           1,
           1,
           0,
           0,
           0,
           0,
           0,
           1,
           1,
           0,
           0,
           0,
           0,
           0,
           1,
           1,
           0,
           0,
           0,
           0,
           0,
           1,
           4,
           0,
           0,
           4,
           4,
           0,
           0,
           4,
           4,
           0,
           0,
           4,
           4,
           0,
           0,
           4,
           4,
           0,
           0,
           4,
           4,
           0,
           0,
           4,
           4,
           0,
           0,
           4,
           4,
           0,
           0,
           4,
           4,
           0,
           0,
           4,
           10,
           0,
           10,
           10,
           0,
           10,
           10,
           0,
           10,
           10,
           0,
           10,
           10,
           0,
           10,
           10,
           0,
           10,
           10,
           0,
           10,
           10,
           0,
           10,
           10,
           0,
           10,
           10,
           10,
           10,
           10,
           10,
           10,
           10,
           10,
           10
          ],
          "sizemode": "area",
          "sizeref": 1.635,
          "symbol": "circle"
         },
         "mode": "markers",
         "name": "python3",
         "showlegend": true,
         "type": "scattergl",
         "x": [
          "0 - 0",
          "1 - 1",
          "3 - 2",
          "7 - 4",
          "15 - 8",
          "31 - 16",
          "63 - 32",
          "127 - 64",
          "255 - 128",
          "511 - 256",
          "0 - 0",
          "1 - 1",
          "3 - 2",
          "7 - 4",
          "15 - 8",
          "31 - 16",
          "63 - 32",
          "127 - 64",
          "255 - 128",
          "511 - 256",
          "0 - 0",
          "1 - 1",
          "3 - 2",
          "7 - 4",
          "15 - 8",
          "31 - 16",
          "63 - 32",
          "127 - 64",
          "255 - 128",
          "511 - 256",
          "0 - 0",
          "1 - 1",
          "3 - 2",
          "7 - 4",
          "15 - 8",
          "31 - 16",
          "63 - 32",
          "127 - 64",
          "255 - 128",
          "511 - 256",
          "0 - 0",
          "1 - 1",
          "3 - 2",
          "7 - 4",
          "15 - 8",
          "31 - 16",
          "63 - 32",
          "127 - 64",
          "255 - 128",
          "511 - 256",
          "0 - 0",
          "1 - 1",
          "3 - 2",
          "7 - 4",
          "15 - 8",
          "31 - 16",
          "63 - 32",
          "127 - 64",
          "255 - 128",
          "511 - 256",
          "0 - 0",
          "1 - 1",
          "3 - 2",
          "7 - 4",
          "15 - 8",
          "31 - 16",
          "63 - 32",
          "127 - 64",
          "255 - 128",
          "511 - 256",
          "0 - 0",
          "1 - 1",
          "3 - 2",
          "7 - 4",
          "15 - 8",
          "31 - 16",
          "63 - 32",
          "127 - 64",
          "255 - 128",
          "511 - 256",
          "0 - 0",
          "1 - 1",
          "3 - 2",
          "7 - 4",
          "15 - 8",
          "31 - 16",
          "63 - 32",
          "127 - 64",
          "255 - 128",
          "511 - 256",
          "2047 - 1024",
          "0 - 0",
          "1 - 1",
          "3 - 2",
          "7 - 4",
          "15 - 8",
          "31 - 16",
          "63 - 32",
          "127 - 64",
          "255 - 128",
          "511 - 256",
          "1023 - 512",
          "2047 - 1024",
          "2047 - 1024",
          "0 - 0",
          "1 - 1",
          "3 - 2",
          "7 - 4",
          "15 - 8",
          "31 - 16",
          "63 - 32",
          "127 - 64",
          "255 - 128",
          "511 - 256",
          "1023 - 512",
          "2047 - 1024",
          "2047 - 1024",
          "2047 - 1024",
          "2047 - 1024",
          "0 - 0",
          "1 - 1",
          "3 - 2",
          "7 - 4",
          "15 - 8",
          "31 - 16",
          "63 - 32",
          "127 - 64",
          "255 - 128",
          "511 - 256",
          "1023 - 512",
          "2047 - 1024",
          "2047 - 1024",
          "0 - 0",
          "1 - 1",
          "3 - 2",
          "7 - 4",
          "15 - 8",
          "31 - 16",
          "63 - 32",
          "127 - 64",
          "255 - 128",
          "511 - 256",
          "1023 - 512",
          "2047 - 1024",
          "0 - 0",
          "1 - 1",
          "3 - 2",
          "7 - 4",
          "15 - 8",
          "31 - 16",
          "0 - 0",
          "1 - 1",
          "3 - 2",
          "7 - 4",
          "15 - 8",
          "31 - 16",
          "0 - 0",
          "1 - 1",
          "3 - 2",
          "7 - 4",
          "15 - 8",
          "31 - 16",
          "0 - 0",
          "1 - 1",
          "3 - 2",
          "7 - 4",
          "15 - 8",
          "31 - 16",
          "0 - 0",
          "1 - 1",
          "3 - 2",
          "7 - 4",
          "15 - 8",
          "31 - 16",
          "0 - 0",
          "1 - 1",
          "3 - 2",
          "7 - 4",
          "15 - 8",
          "31 - 16",
          "0 - 0",
          "1 - 1",
          "3 - 2",
          "7 - 4",
          "15 - 8",
          "31 - 16",
          "0 - 0",
          "1 - 1",
          "3 - 2",
          "7 - 4",
          "15 - 8",
          "31 - 16",
          "0 - 0",
          "1 - 1",
          "3 - 2",
          "7 - 4",
          "15 - 8",
          "31 - 16",
          "0 - 0",
          "1 - 1",
          "3 - 2",
          "7 - 4",
          "15 - 8",
          "31 - 16",
          "63 - 32",
          "127 - 64",
          "255 - 128",
          "511 - 256",
          "0 - 0",
          "1 - 1",
          "3 - 2",
          "7 - 4",
          "15 - 8",
          "31 - 16",
          "63 - 32",
          "127 - 64",
          "255 - 128",
          "511 - 256",
          "0 - 0",
          "1 - 1",
          "3 - 2",
          "7 - 4",
          "15 - 8",
          "31 - 16",
          "63 - 32",
          "127 - 64",
          "255 - 128",
          "511 - 256",
          "0 - 0",
          "1 - 1",
          "3 - 2",
          "7 - 4",
          "15 - 8",
          "31 - 16",
          "63 - 32",
          "127 - 64",
          "255 - 128",
          "511 - 256",
          "0 - 0",
          "1 - 1",
          "3 - 2",
          "7 - 4",
          "15 - 8",
          "31 - 16",
          "63 - 32",
          "127 - 64",
          "255 - 128",
          "511 - 256",
          "0 - 0",
          "1 - 1",
          "3 - 2",
          "7 - 4",
          "15 - 8",
          "31 - 16",
          "63 - 32",
          "127 - 64",
          "255 - 128",
          "511 - 256",
          "0 - 0",
          "1 - 1",
          "3 - 2",
          "7 - 4",
          "15 - 8",
          "31 - 16",
          "63 - 32",
          "127 - 64",
          "255 - 128",
          "511 - 256",
          "0 - 0",
          "1 - 1",
          "3 - 2",
          "7 - 4",
          "15 - 8",
          "31 - 16",
          "63 - 32",
          "127 - 64",
          "255 - 128",
          "511 - 256",
          "0 - 0",
          "1 - 1",
          "3 - 2",
          "7 - 4",
          "15 - 8",
          "31 - 16",
          "63 - 32",
          "127 - 64",
          "255 - 128",
          "511 - 256",
          "0 - 0",
          "1 - 1",
          "3 - 2",
          "7 - 4",
          "0 - 0",
          "1 - 1",
          "3 - 2",
          "7 - 4",
          "0 - 0",
          "1 - 1",
          "3 - 2",
          "7 - 4",
          "0 - 0",
          "1 - 1",
          "3 - 2",
          "7 - 4",
          "0 - 0",
          "1 - 1",
          "3 - 2",
          "7 - 4",
          "0 - 0",
          "1 - 1",
          "3 - 2",
          "7 - 4",
          "0 - 0",
          "1 - 1",
          "3 - 2",
          "7 - 4",
          "0 - 0",
          "1 - 1",
          "3 - 2",
          "7 - 4",
          "0 - 0",
          "1 - 1",
          "3 - 2",
          "7 - 4",
          "0 - 0",
          "1 - 1",
          "3 - 2",
          "7 - 4",
          "15 - 8",
          "31 - 16",
          "63 - 32",
          "127 - 64",
          "255 - 128",
          "0 - 0",
          "1 - 1",
          "3 - 2",
          "7 - 4",
          "15 - 8",
          "31 - 16",
          "63 - 32",
          "127 - 64",
          "255 - 128",
          "0 - 0",
          "1 - 1",
          "3 - 2",
          "7 - 4",
          "15 - 8",
          "31 - 16",
          "63 - 32",
          "127 - 64",
          "255 - 128",
          "0 - 0",
          "1 - 1",
          "3 - 2",
          "7 - 4",
          "15 - 8",
          "31 - 16",
          "63 - 32",
          "127 - 64",
          "255 - 128",
          "0 - 0",
          "1 - 1",
          "3 - 2",
          "7 - 4",
          "15 - 8",
          "31 - 16",
          "63 - 32",
          "127 - 64",
          "255 - 128",
          "0 - 0",
          "1 - 1",
          "3 - 2",
          "7 - 4",
          "15 - 8",
          "31 - 16",
          "63 - 32",
          "127 - 64",
          "255 - 128",
          "0 - 0",
          "1 - 1",
          "3 - 2",
          "7 - 4",
          "15 - 8",
          "31 - 16",
          "63 - 32",
          "127 - 64",
          "255 - 128",
          "0 - 0",
          "1 - 1",
          "3 - 2",
          "7 - 4",
          "15 - 8",
          "31 - 16",
          "63 - 32",
          "127 - 64",
          "255 - 128",
          "0 - 0",
          "1 - 1",
          "3 - 2",
          "7 - 4",
          "15 - 8",
          "31 - 16",
          "63 - 32",
          "127 - 64",
          "255 - 128",
          "0 - 0",
          "1 - 1",
          "3 - 2",
          "7 - 4",
          "15 - 8",
          "0 - 0",
          "1 - 1",
          "3 - 2",
          "7 - 4",
          "15 - 8",
          "0 - 0",
          "1 - 1",
          "3 - 2",
          "7 - 4",
          "15 - 8",
          "63 - 32",
          "63 - 32",
          "63 - 32",
          "0 - 0",
          "1 - 1",
          "3 - 2",
          "7 - 4",
          "15 - 8",
          "31 - 16",
          "0 - 0",
          "1 - 1",
          "3 - 2",
          "7 - 4",
          "15 - 8",
          "31 - 16",
          "0 - 0",
          "1 - 1",
          "3 - 2",
          "7 - 4",
          "15 - 8",
          "31 - 16",
          "7 - 4",
          "7 - 4",
          "7 - 4",
          "0 - 0",
          "1 - 1",
          "3 - 2",
          "7 - 4",
          "15 - 8",
          "31 - 16",
          "63 - 32",
          "127 - 64",
          "255 - 128",
          "511 - 256",
          "1023 - 512",
          "2047 - 1024",
          "0 - 0",
          "1 - 1",
          "3 - 2",
          "7 - 4",
          "15 - 8",
          "31 - 16",
          "63 - 32",
          "127 - 64",
          "255 - 128",
          "511 - 256",
          "1023 - 512",
          "2047 - 1024",
          "0 - 0",
          "1 - 1",
          "3 - 2",
          "7 - 4",
          "15 - 8",
          "31 - 16",
          "63 - 32",
          "127 - 64",
          "255 - 128",
          "511 - 256",
          "1023 - 512",
          "2047 - 1024",
          "0 - 0",
          "1 - 1",
          "3 - 2",
          "7 - 4",
          "15 - 8",
          "31 - 16",
          "63 - 32",
          "0 - 0",
          "1 - 1",
          "3 - 2",
          "7 - 4",
          "15 - 8",
          "31 - 16",
          "63 - 32",
          "0 - 0",
          "1 - 1",
          "3 - 2",
          "7 - 4",
          "15 - 8",
          "31 - 16",
          "63 - 32",
          "0 - 0",
          "1 - 1",
          "3 - 2",
          "7 - 4",
          "0 - 0",
          "1 - 1",
          "3 - 2",
          "7 - 4",
          "0 - 0",
          "1 - 1",
          "3 - 2",
          "7 - 4",
          "0 - 0",
          "1 - 1",
          "3 - 2",
          "7 - 4",
          "0 - 0",
          "1 - 1",
          "3 - 2",
          "7 - 4",
          "0 - 0",
          "1 - 1",
          "3 - 2",
          "7 - 4",
          "0 - 0",
          "1 - 1",
          "3 - 2",
          "7 - 4",
          "0 - 0",
          "1 - 1",
          "3 - 2",
          "7 - 4",
          "0 - 0",
          "1 - 1",
          "3 - 2",
          "7 - 4",
          "0 - 0",
          "1 - 1",
          "3 - 2",
          "0 - 0",
          "1 - 1",
          "3 - 2",
          "0 - 0",
          "1 - 1",
          "3 - 2",
          "0 - 0",
          "1 - 1",
          "3 - 2",
          "0 - 0",
          "1 - 1",
          "3 - 2",
          "0 - 0",
          "1 - 1",
          "3 - 2",
          "0 - 0",
          "1 - 1",
          "3 - 2",
          "0 - 0",
          "1 - 1",
          "3 - 2",
          "0 - 0",
          "1 - 1",
          "3 - 2",
          "2047 - 1024",
          "2047 - 1024",
          "2047 - 1024",
          "2047 - 1024",
          "2047 - 1024",
          "2047 - 1024",
          "2047 - 1024",
          "2047 - 1024",
          "2047 - 1024"
         ],
         "xaxis": "x",
         "y": [
          "10",
          "10",
          "10",
          "10",
          "10",
          "10",
          "10",
          "10",
          "10",
          "10",
          "500",
          "500",
          "500",
          "500",
          "500",
          "500",
          "500",
          "500",
          "500",
          "500",
          "300",
          "300",
          "300",
          "300",
          "300",
          "300",
          "300",
          "300",
          "300",
          "300",
          "600",
          "600",
          "600",
          "600",
          "600",
          "600",
          "600",
          "600",
          "600",
          "600",
          "50",
          "50",
          "50",
          "50",
          "50",
          "50",
          "50",
          "50",
          "50",
          "50",
          "100",
          "100",
          "100",
          "100",
          "100",
          "100",
          "100",
          "100",
          "100",
          "100",
          "200",
          "200",
          "200",
          "200",
          "200",
          "200",
          "200",
          "200",
          "200",
          "200",
          "400",
          "400",
          "400",
          "400",
          "400",
          "400",
          "400",
          "400",
          "400",
          "400",
          "1",
          "1",
          "1",
          "1",
          "1",
          "1",
          "1",
          "1",
          "1",
          "1",
          "10",
          "10",
          "10",
          "10",
          "10",
          "10",
          "10",
          "10",
          "10",
          "10",
          "10",
          "10",
          "10",
          "10",
          "10",
          "10",
          "10",
          "10",
          "10",
          "10",
          "10",
          "10",
          "10",
          "10",
          "10",
          "10",
          "300",
          "300",
          "500",
          "500",
          "500",
          "500",
          "500",
          "500",
          "500",
          "500",
          "500",
          "500",
          "500",
          "500",
          "500",
          "500",
          "500",
          "500",
          "500",
          "500",
          "500",
          "500",
          "500",
          "500",
          "500",
          "500",
          "500",
          "500",
          "10",
          "10",
          "10",
          "10",
          "10",
          "10",
          "500",
          "500",
          "500",
          "500",
          "500",
          "500",
          "300",
          "300",
          "300",
          "300",
          "300",
          "300",
          "600",
          "600",
          "600",
          "600",
          "600",
          "600",
          "50",
          "50",
          "50",
          "50",
          "50",
          "50",
          "100",
          "100",
          "100",
          "100",
          "100",
          "100",
          "200",
          "200",
          "200",
          "200",
          "200",
          "200",
          "400",
          "400",
          "400",
          "400",
          "400",
          "400",
          "1",
          "1",
          "1",
          "1",
          "1",
          "1",
          "10",
          "10",
          "10",
          "10",
          "10",
          "10",
          "10",
          "10",
          "10",
          "10",
          "500",
          "500",
          "500",
          "500",
          "500",
          "500",
          "500",
          "500",
          "500",
          "500",
          "300",
          "300",
          "300",
          "300",
          "300",
          "300",
          "300",
          "300",
          "300",
          "300",
          "600",
          "600",
          "600",
          "600",
          "600",
          "600",
          "600",
          "600",
          "600",
          "600",
          "50",
          "50",
          "50",
          "50",
          "50",
          "50",
          "50",
          "50",
          "50",
          "50",
          "100",
          "100",
          "100",
          "100",
          "100",
          "100",
          "100",
          "100",
          "100",
          "100",
          "200",
          "200",
          "200",
          "200",
          "200",
          "200",
          "200",
          "200",
          "200",
          "200",
          "400",
          "400",
          "400",
          "400",
          "400",
          "400",
          "400",
          "400",
          "400",
          "400",
          "1",
          "1",
          "1",
          "1",
          "1",
          "1",
          "1",
          "1",
          "1",
          "1",
          "10",
          "10",
          "10",
          "10",
          "500",
          "500",
          "500",
          "500",
          "300",
          "300",
          "300",
          "300",
          "600",
          "600",
          "600",
          "600",
          "50",
          "50",
          "50",
          "50",
          "100",
          "100",
          "100",
          "100",
          "200",
          "200",
          "200",
          "200",
          "400",
          "400",
          "400",
          "400",
          "1",
          "1",
          "1",
          "1",
          "10",
          "10",
          "10",
          "10",
          "10",
          "10",
          "10",
          "10",
          "10",
          "500",
          "500",
          "500",
          "500",
          "500",
          "500",
          "500",
          "500",
          "500",
          "300",
          "300",
          "300",
          "300",
          "300",
          "300",
          "300",
          "300",
          "300",
          "600",
          "600",
          "600",
          "600",
          "600",
          "600",
          "600",
          "600",
          "600",
          "50",
          "50",
          "50",
          "50",
          "50",
          "50",
          "50",
          "50",
          "50",
          "100",
          "100",
          "100",
          "100",
          "100",
          "100",
          "100",
          "100",
          "100",
          "200",
          "200",
          "200",
          "200",
          "200",
          "200",
          "200",
          "200",
          "200",
          "400",
          "400",
          "400",
          "400",
          "400",
          "400",
          "400",
          "400",
          "400",
          "1",
          "1",
          "1",
          "1",
          "1",
          "1",
          "1",
          "1",
          "1",
          "10",
          "10",
          "10",
          "10",
          "10",
          "500",
          "500",
          "500",
          "500",
          "500",
          "300",
          "300",
          "300",
          "300",
          "300",
          "10",
          "500",
          "300",
          "10",
          "10",
          "10",
          "10",
          "10",
          "10",
          "500",
          "500",
          "500",
          "500",
          "500",
          "500",
          "300",
          "300",
          "300",
          "300",
          "300",
          "300",
          "10",
          "500",
          "300",
          "10",
          "10",
          "10",
          "10",
          "10",
          "10",
          "10",
          "10",
          "10",
          "10",
          "10",
          "10",
          "500",
          "500",
          "500",
          "500",
          "500",
          "500",
          "500",
          "500",
          "500",
          "500",
          "500",
          "500",
          "300",
          "300",
          "300",
          "300",
          "300",
          "300",
          "300",
          "300",
          "300",
          "300",
          "300",
          "300",
          "10",
          "10",
          "10",
          "10",
          "10",
          "10",
          "10",
          "500",
          "500",
          "500",
          "500",
          "500",
          "500",
          "500",
          "300",
          "300",
          "300",
          "300",
          "300",
          "300",
          "300",
          "10",
          "10",
          "10",
          "10",
          "500",
          "500",
          "500",
          "500",
          "300",
          "300",
          "300",
          "300",
          "600",
          "600",
          "600",
          "600",
          "50",
          "50",
          "50",
          "50",
          "100",
          "100",
          "100",
          "100",
          "200",
          "200",
          "200",
          "200",
          "400",
          "400",
          "400",
          "400",
          "1",
          "1",
          "1",
          "1",
          "10",
          "10",
          "10",
          "500",
          "500",
          "500",
          "300",
          "300",
          "300",
          "600",
          "600",
          "600",
          "50",
          "50",
          "50",
          "100",
          "100",
          "100",
          "200",
          "200",
          "200",
          "400",
          "400",
          "400",
          "1",
          "1",
          "1",
          "10",
          "500",
          "300",
          "600",
          "50",
          "100",
          "200",
          "400",
          "1"
         ],
         "yaxis": "y"
        },
        {
         "hovertemplate": "program=snapd<br>I/O Size (bytes)=%{x}<br>Packets Per Second (thousand)=%{y}<br>Number of I/O operations=%{marker.size}<extra></extra>",
         "legendgroup": "snapd",
         "marker": {
          "color": "#FECB52",
          "size": [
           1,
           1,
           1,
           1,
           1,
           5,
           0,
           0,
           0,
           0,
           0,
           0,
           0,
           0,
           0,
           3,
           2,
           5,
           0,
           0,
           0,
           0,
           0,
           0,
           0,
           0,
           0,
           3,
           2,
           5,
           0,
           0,
           0,
           0,
           0,
           0,
           0,
           0,
           0,
           3,
           2
          ],
          "sizemode": "area",
          "sizeref": 1.635,
          "symbol": "circle"
         },
         "mode": "markers",
         "name": "snapd",
         "showlegend": true,
         "type": "scattergl",
         "x": [
          "15 - 8",
          "15 - 8",
          "15 - 8",
          "15 - 8",
          "15 - 8",
          "0 - 0",
          "1 - 1",
          "3 - 2",
          "7 - 4",
          "15 - 8",
          "31 - 16",
          "63 - 32",
          "127 - 64",
          "255 - 128",
          "511 - 256",
          "1023 - 512",
          "2047 - 1024",
          "0 - 0",
          "1 - 1",
          "3 - 2",
          "7 - 4",
          "15 - 8",
          "31 - 16",
          "63 - 32",
          "127 - 64",
          "255 - 128",
          "511 - 256",
          "1023 - 512",
          "2047 - 1024",
          "0 - 0",
          "1 - 1",
          "3 - 2",
          "7 - 4",
          "15 - 8",
          "31 - 16",
          "63 - 32",
          "127 - 64",
          "255 - 128",
          "511 - 256",
          "1023 - 512",
          "2047 - 1024"
         ],
         "xaxis": "x",
         "y": [
          "10",
          "500",
          "300",
          "100",
          "1",
          "10",
          "10",
          "10",
          "10",
          "10",
          "10",
          "10",
          "10",
          "10",
          "10",
          "10",
          "10",
          "500",
          "500",
          "500",
          "500",
          "500",
          "500",
          "500",
          "500",
          "500",
          "500",
          "500",
          "500",
          "300",
          "300",
          "300",
          "300",
          "300",
          "300",
          "300",
          "300",
          "300",
          "300",
          "300",
          "300"
         ],
         "yaxis": "y"
        },
        {
         "hovertemplate": "program=sshd<br>I/O Size (bytes)=%{x}<br>Packets Per Second (thousand)=%{y}<br>Number of I/O operations=%{marker.size}<extra></extra>",
         "legendgroup": "sshd",
         "marker": {
          "color": "#636efa",
          "size": [
           1,
           1,
           1,
           4,
           4,
           4,
           4,
           4,
           2,
           4,
           2,
           2
          ],
          "sizemode": "area",
          "sizeref": 1.635,
          "symbol": "circle"
         },
         "mode": "markers",
         "name": "sshd",
         "showlegend": true,
         "type": "scattergl",
         "x": [
          "0 - 0",
          "0 - 0",
          "0 - 0",
          "63 - 32",
          "63 - 32",
          "63 - 32",
          "63 - 32",
          "63 - 32",
          "63 - 32",
          "63 - 32",
          "63 - 32",
          "63 - 32"
         ],
         "xaxis": "x",
         "y": [
          "10",
          "600",
          "50",
          "10",
          "500",
          "300",
          "600",
          "50",
          "100",
          "200",
          "400",
          "1"
         ],
         "yaxis": "y"
        },
        {
         "hovertemplate": "program=systemd<br>I/O Size (bytes)=%{x}<br>Packets Per Second (thousand)=%{y}<br>Number of I/O operations=%{marker.size}<extra></extra>",
         "legendgroup": "systemd",
         "marker": {
          "color": "#EF553B",
          "size": [
           1,
           1,
           1,
           5,
           0,
           0,
           0,
           0,
           0,
           0,
           0,
           1,
           4,
           4,
           0,
           0,
           0,
           0,
           0,
           0,
           0,
           0,
           4,
           3,
           0,
           0,
           0,
           0,
           0,
           0,
           0,
           0,
           3,
           4,
           0,
           0,
           0,
           0,
           0,
           0,
           0,
           1,
           3,
           3,
           0,
           0,
           0,
           0,
           0,
           0,
           0,
           1,
           2,
           5,
           0,
           0,
           0,
           0,
           0,
           0,
           0,
           0,
           5,
           3,
           0,
           0,
           0,
           0,
           0,
           0,
           0,
           0,
           3,
           4,
           0,
           0,
           0,
           0,
           0,
           0,
           0,
           0,
           4,
           5,
           0,
           0,
           0,
           0,
           0,
           0,
           0,
           0,
           5,
           2,
           0,
           0,
           2,
           2,
           0,
           0,
           2,
           2,
           0,
           0,
           2
          ],
          "sizemode": "area",
          "sizeref": 1.635,
          "symbol": "circle"
         },
         "mode": "markers",
         "name": "systemd",
         "showlegend": true,
         "type": "scattergl",
         "x": [
          "255 - 128",
          "255 - 128",
          "255 - 128",
          "0 - 0",
          "1 - 1",
          "3 - 2",
          "7 - 4",
          "15 - 8",
          "31 - 16",
          "63 - 32",
          "127 - 64",
          "255 - 128",
          "511 - 256",
          "0 - 0",
          "1 - 1",
          "3 - 2",
          "7 - 4",
          "15 - 8",
          "31 - 16",
          "63 - 32",
          "127 - 64",
          "255 - 128",
          "511 - 256",
          "0 - 0",
          "1 - 1",
          "3 - 2",
          "7 - 4",
          "15 - 8",
          "31 - 16",
          "63 - 32",
          "127 - 64",
          "255 - 128",
          "511 - 256",
          "0 - 0",
          "1 - 1",
          "3 - 2",
          "7 - 4",
          "15 - 8",
          "31 - 16",
          "63 - 32",
          "127 - 64",
          "255 - 128",
          "511 - 256",
          "0 - 0",
          "1 - 1",
          "3 - 2",
          "7 - 4",
          "15 - 8",
          "31 - 16",
          "63 - 32",
          "127 - 64",
          "255 - 128",
          "511 - 256",
          "0 - 0",
          "1 - 1",
          "3 - 2",
          "7 - 4",
          "15 - 8",
          "31 - 16",
          "63 - 32",
          "127 - 64",
          "255 - 128",
          "511 - 256",
          "0 - 0",
          "1 - 1",
          "3 - 2",
          "7 - 4",
          "15 - 8",
          "31 - 16",
          "63 - 32",
          "127 - 64",
          "255 - 128",
          "511 - 256",
          "0 - 0",
          "1 - 1",
          "3 - 2",
          "7 - 4",
          "15 - 8",
          "31 - 16",
          "63 - 32",
          "127 - 64",
          "255 - 128",
          "511 - 256",
          "0 - 0",
          "1 - 1",
          "3 - 2",
          "7 - 4",
          "15 - 8",
          "31 - 16",
          "63 - 32",
          "127 - 64",
          "255 - 128",
          "511 - 256",
          "0 - 0",
          "1 - 1",
          "3 - 2",
          "7 - 4",
          "0 - 0",
          "1 - 1",
          "3 - 2",
          "7 - 4",
          "0 - 0",
          "1 - 1",
          "3 - 2",
          "7 - 4"
         ],
         "xaxis": "x",
         "y": [
          "10",
          "600",
          "50",
          "10",
          "10",
          "10",
          "10",
          "10",
          "10",
          "10",
          "10",
          "10",
          "10",
          "500",
          "500",
          "500",
          "500",
          "500",
          "500",
          "500",
          "500",
          "500",
          "500",
          "300",
          "300",
          "300",
          "300",
          "300",
          "300",
          "300",
          "300",
          "300",
          "300",
          "600",
          "600",
          "600",
          "600",
          "600",
          "600",
          "600",
          "600",
          "600",
          "600",
          "50",
          "50",
          "50",
          "50",
          "50",
          "50",
          "50",
          "50",
          "50",
          "50",
          "100",
          "100",
          "100",
          "100",
          "100",
          "100",
          "100",
          "100",
          "100",
          "100",
          "200",
          "200",
          "200",
          "200",
          "200",
          "200",
          "200",
          "200",
          "200",
          "200",
          "400",
          "400",
          "400",
          "400",
          "400",
          "400",
          "400",
          "400",
          "400",
          "400",
          "1",
          "1",
          "1",
          "1",
          "1",
          "1",
          "1",
          "1",
          "1",
          "1",
          "10",
          "10",
          "10",
          "10",
          "600",
          "600",
          "600",
          "600",
          "50",
          "50",
          "50",
          "50"
         ],
         "yaxis": "y"
        },
        {
         "hovertemplate": "program=systemd-journal<br>I/O Size (bytes)=%{x}<br>Packets Per Second (thousand)=%{y}<br>Number of I/O operations=%{marker.size}<extra></extra>",
         "legendgroup": "systemd-journal",
         "marker": {
          "color": "#00cc96",
          "size": [
           1
          ],
          "sizemode": "area",
          "sizeref": 1.635,
          "symbol": "circle"
         },
         "mode": "markers",
         "name": "systemd-journal",
         "showlegend": true,
         "type": "scattergl",
         "x": [
          "15 - 8"
         ],
         "xaxis": "x",
         "y": [
          "500"
         ],
         "yaxis": "y"
        },
        {
         "hovertemplate": "program=systemd-logind<br>I/O Size (bytes)=%{x}<br>Packets Per Second (thousand)=%{y}<br>Number of I/O operations=%{marker.size}<extra></extra>",
         "legendgroup": "systemd-logind",
         "marker": {
          "color": "#ab63fa",
          "size": [
           1,
           1,
           1,
           1,
           1
          ],
          "sizemode": "area",
          "sizeref": 1.635,
          "symbol": "circle"
         },
         "mode": "markers",
         "name": "systemd-logind",
         "showlegend": true,
         "type": "scattergl",
         "x": [
          "15 - 8",
          "15 - 8",
          "15 - 8",
          "15 - 8",
          "15 - 8"
         ],
         "xaxis": "x",
         "y": [
          "600",
          "100",
          "200",
          "400",
          "1"
         ],
         "yaxis": "y"
        },
        {
         "hovertemplate": "program=systemd-network<br>I/O Size (bytes)=%{x}<br>Packets Per Second (thousand)=%{y}<br>Number of I/O operations=%{marker.size}<extra></extra>",
         "legendgroup": "systemd-network",
         "marker": {
          "color": "#FFA15A",
          "size": [
           1
          ],
          "sizemode": "area",
          "sizeref": 1.635,
          "symbol": "circle"
         },
         "mode": "markers",
         "name": "systemd-network",
         "showlegend": true,
         "type": "scattergl",
         "x": [
          "15 - 8"
         ],
         "xaxis": "x",
         "y": [
          "200"
         ],
         "yaxis": "y"
        },
        {
         "hovertemplate": "program=systemd-resolve<br>I/O Size (bytes)=%{x}<br>Packets Per Second (thousand)=%{y}<br>Number of I/O operations=%{marker.size}<extra></extra>",
         "legendgroup": "systemd-resolve",
         "marker": {
          "color": "#19d3f3",
          "size": [
           1,
           1,
           1,
           1,
           1,
           1,
           1,
           1,
           1
          ],
          "sizemode": "area",
          "sizeref": 1.635,
          "symbol": "circle"
         },
         "mode": "markers",
         "name": "systemd-resolve",
         "showlegend": true,
         "type": "scattergl",
         "x": [
          "15 - 8",
          "15 - 8",
          "15 - 8",
          "15 - 8",
          "15 - 8",
          "15 - 8",
          "15 - 8",
          "15 - 8",
          "15 - 8"
         ],
         "xaxis": "x",
         "y": [
          "10",
          "500",
          "300",
          "600",
          "50",
          "100",
          "200",
          "400",
          "1"
         ],
         "yaxis": "y"
        },
        {
         "hovertemplate": "program=systemd-udevd<br>I/O Size (bytes)=%{x}<br>Packets Per Second (thousand)=%{y}<br>Number of I/O operations=%{marker.size}<extra></extra>",
         "legendgroup": "systemd-udevd",
         "marker": {
          "color": "#FF6692",
          "size": [
           1,
           1,
           1,
           1
          ],
          "sizemode": "area",
          "sizeref": 1.635,
          "symbol": "circle"
         },
         "mode": "markers",
         "name": "systemd-udevd",
         "showlegend": true,
         "type": "scattergl",
         "x": [
          "15 - 8",
          "15 - 8",
          "15 - 8",
          "15 - 8"
         ],
         "xaxis": "x",
         "y": [
          "10",
          "500",
          "100",
          "400"
         ],
         "yaxis": "y"
        },
        {
         "hovertemplate": "program=udisksd<br>I/O Size (bytes)=%{x}<br>Packets Per Second (thousand)=%{y}<br>Number of I/O operations=%{marker.size}<extra></extra>",
         "legendgroup": "udisksd",
         "marker": {
          "color": "#B6E880",
          "size": [
           1,
           1
          ],
          "sizemode": "area",
          "sizeref": 1.635,
          "symbol": "circle"
         },
         "mode": "markers",
         "name": "udisksd",
         "showlegend": true,
         "type": "scattergl",
         "x": [
          "15 - 8",
          "15 - 8"
         ],
         "xaxis": "x",
         "y": [
          "500",
          "300"
         ],
         "yaxis": "y"
        }
       ],
       "layout": {
        "legend": {
         "itemsizing": "constant",
         "title": {
          "text": "program"
         },
         "tracegroupgap": 0
        },
        "template": {
         "data": {
          "bar": [
           {
            "error_x": {
             "color": "#2a3f5f"
            },
            "error_y": {
             "color": "#2a3f5f"
            },
            "marker": {
             "line": {
              "color": "#E5ECF6",
              "width": 0.5
             },
             "pattern": {
              "fillmode": "overlay",
              "size": 10,
              "solidity": 0.2
             }
            },
            "type": "bar"
           }
          ],
          "barpolar": [
           {
            "marker": {
             "line": {
              "color": "#E5ECF6",
              "width": 0.5
             },
             "pattern": {
              "fillmode": "overlay",
              "size": 10,
              "solidity": 0.2
             }
            },
            "type": "barpolar"
           }
          ],
          "carpet": [
           {
            "aaxis": {
             "endlinecolor": "#2a3f5f",
             "gridcolor": "white",
             "linecolor": "white",
             "minorgridcolor": "white",
             "startlinecolor": "#2a3f5f"
            },
            "baxis": {
             "endlinecolor": "#2a3f5f",
             "gridcolor": "white",
             "linecolor": "white",
             "minorgridcolor": "white",
             "startlinecolor": "#2a3f5f"
            },
            "type": "carpet"
           }
          ],
          "choropleth": [
           {
            "colorbar": {
             "outlinewidth": 0,
             "ticks": ""
            },
            "type": "choropleth"
           }
          ],
          "contour": [
           {
            "colorbar": {
             "outlinewidth": 0,
             "ticks": ""
            },
            "colorscale": [
             [
              0,
              "#0d0887"
             ],
             [
              0.1111111111111111,
              "#46039f"
             ],
             [
              0.2222222222222222,
              "#7201a8"
             ],
             [
              0.3333333333333333,
              "#9c179e"
             ],
             [
              0.4444444444444444,
              "#bd3786"
             ],
             [
              0.5555555555555556,
              "#d8576b"
             ],
             [
              0.6666666666666666,
              "#ed7953"
             ],
             [
              0.7777777777777778,
              "#fb9f3a"
             ],
             [
              0.8888888888888888,
              "#fdca26"
             ],
             [
              1,
              "#f0f921"
             ]
            ],
            "type": "contour"
           }
          ],
          "contourcarpet": [
           {
            "colorbar": {
             "outlinewidth": 0,
             "ticks": ""
            },
            "type": "contourcarpet"
           }
          ],
          "heatmap": [
           {
            "colorbar": {
             "outlinewidth": 0,
             "ticks": ""
            },
            "colorscale": [
             [
              0,
              "#0d0887"
             ],
             [
              0.1111111111111111,
              "#46039f"
             ],
             [
              0.2222222222222222,
              "#7201a8"
             ],
             [
              0.3333333333333333,
              "#9c179e"
             ],
             [
              0.4444444444444444,
              "#bd3786"
             ],
             [
              0.5555555555555556,
              "#d8576b"
             ],
             [
              0.6666666666666666,
              "#ed7953"
             ],
             [
              0.7777777777777778,
              "#fb9f3a"
             ],
             [
              0.8888888888888888,
              "#fdca26"
             ],
             [
              1,
              "#f0f921"
             ]
            ],
            "type": "heatmap"
           }
          ],
          "heatmapgl": [
           {
            "colorbar": {
             "outlinewidth": 0,
             "ticks": ""
            },
            "colorscale": [
             [
              0,
              "#0d0887"
             ],
             [
              0.1111111111111111,
              "#46039f"
             ],
             [
              0.2222222222222222,
              "#7201a8"
             ],
             [
              0.3333333333333333,
              "#9c179e"
             ],
             [
              0.4444444444444444,
              "#bd3786"
             ],
             [
              0.5555555555555556,
              "#d8576b"
             ],
             [
              0.6666666666666666,
              "#ed7953"
             ],
             [
              0.7777777777777778,
              "#fb9f3a"
             ],
             [
              0.8888888888888888,
              "#fdca26"
             ],
             [
              1,
              "#f0f921"
             ]
            ],
            "type": "heatmapgl"
           }
          ],
          "histogram": [
           {
            "marker": {
             "pattern": {
              "fillmode": "overlay",
              "size": 10,
              "solidity": 0.2
             }
            },
            "type": "histogram"
           }
          ],
          "histogram2d": [
           {
            "colorbar": {
             "outlinewidth": 0,
             "ticks": ""
            },
            "colorscale": [
             [
              0,
              "#0d0887"
             ],
             [
              0.1111111111111111,
              "#46039f"
             ],
             [
              0.2222222222222222,
              "#7201a8"
             ],
             [
              0.3333333333333333,
              "#9c179e"
             ],
             [
              0.4444444444444444,
              "#bd3786"
             ],
             [
              0.5555555555555556,
              "#d8576b"
             ],
             [
              0.6666666666666666,
              "#ed7953"
             ],
             [
              0.7777777777777778,
              "#fb9f3a"
             ],
             [
              0.8888888888888888,
              "#fdca26"
             ],
             [
              1,
              "#f0f921"
             ]
            ],
            "type": "histogram2d"
           }
          ],
          "histogram2dcontour": [
           {
            "colorbar": {
             "outlinewidth": 0,
             "ticks": ""
            },
            "colorscale": [
             [
              0,
              "#0d0887"
             ],
             [
              0.1111111111111111,
              "#46039f"
             ],
             [
              0.2222222222222222,
              "#7201a8"
             ],
             [
              0.3333333333333333,
              "#9c179e"
             ],
             [
              0.4444444444444444,
              "#bd3786"
             ],
             [
              0.5555555555555556,
              "#d8576b"
             ],
             [
              0.6666666666666666,
              "#ed7953"
             ],
             [
              0.7777777777777778,
              "#fb9f3a"
             ],
             [
              0.8888888888888888,
              "#fdca26"
             ],
             [
              1,
              "#f0f921"
             ]
            ],
            "type": "histogram2dcontour"
           }
          ],
          "mesh3d": [
           {
            "colorbar": {
             "outlinewidth": 0,
             "ticks": ""
            },
            "type": "mesh3d"
           }
          ],
          "parcoords": [
           {
            "line": {
             "colorbar": {
              "outlinewidth": 0,
              "ticks": ""
             }
            },
            "type": "parcoords"
           }
          ],
          "pie": [
           {
            "automargin": true,
            "type": "pie"
           }
          ],
          "scatter": [
           {
            "marker": {
             "colorbar": {
              "outlinewidth": 0,
              "ticks": ""
             }
            },
            "type": "scatter"
           }
          ],
          "scatter3d": [
           {
            "line": {
             "colorbar": {
              "outlinewidth": 0,
              "ticks": ""
             }
            },
            "marker": {
             "colorbar": {
              "outlinewidth": 0,
              "ticks": ""
             }
            },
            "type": "scatter3d"
           }
          ],
          "scattercarpet": [
           {
            "marker": {
             "colorbar": {
              "outlinewidth": 0,
              "ticks": ""
             }
            },
            "type": "scattercarpet"
           }
          ],
          "scattergeo": [
           {
            "marker": {
             "colorbar": {
              "outlinewidth": 0,
              "ticks": ""
             }
            },
            "type": "scattergeo"
           }
          ],
          "scattergl": [
           {
            "marker": {
             "colorbar": {
              "outlinewidth": 0,
              "ticks": ""
             }
            },
            "type": "scattergl"
           }
          ],
          "scattermapbox": [
           {
            "marker": {
             "colorbar": {
              "outlinewidth": 0,
              "ticks": ""
             }
            },
            "type": "scattermapbox"
           }
          ],
          "scatterpolar": [
           {
            "marker": {
             "colorbar": {
              "outlinewidth": 0,
              "ticks": ""
             }
            },
            "type": "scatterpolar"
           }
          ],
          "scatterpolargl": [
           {
            "marker": {
             "colorbar": {
              "outlinewidth": 0,
              "ticks": ""
             }
            },
            "type": "scatterpolargl"
           }
          ],
          "scatterternary": [
           {
            "marker": {
             "colorbar": {
              "outlinewidth": 0,
              "ticks": ""
             }
            },
            "type": "scatterternary"
           }
          ],
          "surface": [
           {
            "colorbar": {
             "outlinewidth": 0,
             "ticks": ""
            },
            "colorscale": [
             [
              0,
              "#0d0887"
             ],
             [
              0.1111111111111111,
              "#46039f"
             ],
             [
              0.2222222222222222,
              "#7201a8"
             ],
             [
              0.3333333333333333,
              "#9c179e"
             ],
             [
              0.4444444444444444,
              "#bd3786"
             ],
             [
              0.5555555555555556,
              "#d8576b"
             ],
             [
              0.6666666666666666,
              "#ed7953"
             ],
             [
              0.7777777777777778,
              "#fb9f3a"
             ],
             [
              0.8888888888888888,
              "#fdca26"
             ],
             [
              1,
              "#f0f921"
             ]
            ],
            "type": "surface"
           }
          ],
          "table": [
           {
            "cells": {
             "fill": {
              "color": "#EBF0F8"
             },
             "line": {
              "color": "white"
             }
            },
            "header": {
             "fill": {
              "color": "#C8D4E3"
             },
             "line": {
              "color": "white"
             }
            },
            "type": "table"
           }
          ]
         },
         "layout": {
          "annotationdefaults": {
           "arrowcolor": "#2a3f5f",
           "arrowhead": 0,
           "arrowwidth": 1
          },
          "autotypenumbers": "strict",
          "coloraxis": {
           "colorbar": {
            "outlinewidth": 0,
            "ticks": ""
           }
          },
          "colorscale": {
           "diverging": [
            [
             0,
             "#8e0152"
            ],
            [
             0.1,
             "#c51b7d"
            ],
            [
             0.2,
             "#de77ae"
            ],
            [
             0.3,
             "#f1b6da"
            ],
            [
             0.4,
             "#fde0ef"
            ],
            [
             0.5,
             "#f7f7f7"
            ],
            [
             0.6,
             "#e6f5d0"
            ],
            [
             0.7,
             "#b8e186"
            ],
            [
             0.8,
             "#7fbc41"
            ],
            [
             0.9,
             "#4d9221"
            ],
            [
             1,
             "#276419"
            ]
           ],
           "sequential": [
            [
             0,
             "#0d0887"
            ],
            [
             0.1111111111111111,
             "#46039f"
            ],
            [
             0.2222222222222222,
             "#7201a8"
            ],
            [
             0.3333333333333333,
             "#9c179e"
            ],
            [
             0.4444444444444444,
             "#bd3786"
            ],
            [
             0.5555555555555556,
             "#d8576b"
            ],
            [
             0.6666666666666666,
             "#ed7953"
            ],
            [
             0.7777777777777778,
             "#fb9f3a"
            ],
            [
             0.8888888888888888,
             "#fdca26"
            ],
            [
             1,
             "#f0f921"
            ]
           ],
           "sequentialminus": [
            [
             0,
             "#0d0887"
            ],
            [
             0.1111111111111111,
             "#46039f"
            ],
            [
             0.2222222222222222,
             "#7201a8"
            ],
            [
             0.3333333333333333,
             "#9c179e"
            ],
            [
             0.4444444444444444,
             "#bd3786"
            ],
            [
             0.5555555555555556,
             "#d8576b"
            ],
            [
             0.6666666666666666,
             "#ed7953"
            ],
            [
             0.7777777777777778,
             "#fb9f3a"
            ],
            [
             0.8888888888888888,
             "#fdca26"
            ],
            [
             1,
             "#f0f921"
            ]
           ]
          },
          "colorway": [
           "#636efa",
           "#EF553B",
           "#00cc96",
           "#ab63fa",
           "#FFA15A",
           "#19d3f3",
           "#FF6692",
           "#B6E880",
           "#FF97FF",
           "#FECB52"
          ],
          "font": {
           "color": "#2a3f5f"
          },
          "geo": {
           "bgcolor": "white",
           "lakecolor": "white",
           "landcolor": "#E5ECF6",
           "showlakes": true,
           "showland": true,
           "subunitcolor": "white"
          },
          "hoverlabel": {
           "align": "left"
          },
          "hovermode": "closest",
          "mapbox": {
           "style": "light"
          },
          "paper_bgcolor": "white",
          "plot_bgcolor": "#E5ECF6",
          "polar": {
           "angularaxis": {
            "gridcolor": "white",
            "linecolor": "white",
            "ticks": ""
           },
           "bgcolor": "#E5ECF6",
           "radialaxis": {
            "gridcolor": "white",
            "linecolor": "white",
            "ticks": ""
           }
          },
          "scene": {
           "xaxis": {
            "backgroundcolor": "#E5ECF6",
            "gridcolor": "white",
            "gridwidth": 2,
            "linecolor": "white",
            "showbackground": true,
            "ticks": "",
            "zerolinecolor": "white"
           },
           "yaxis": {
            "backgroundcolor": "#E5ECF6",
            "gridcolor": "white",
            "gridwidth": 2,
            "linecolor": "white",
            "showbackground": true,
            "ticks": "",
            "zerolinecolor": "white"
           },
           "zaxis": {
            "backgroundcolor": "#E5ECF6",
            "gridcolor": "white",
            "gridwidth": 2,
            "linecolor": "white",
            "showbackground": true,
            "ticks": "",
            "zerolinecolor": "white"
           }
          },
          "shapedefaults": {
           "line": {
            "color": "#2a3f5f"
           }
          },
          "ternary": {
           "aaxis": {
            "gridcolor": "white",
            "linecolor": "white",
            "ticks": ""
           },
           "baxis": {
            "gridcolor": "white",
            "linecolor": "white",
            "ticks": ""
           },
           "bgcolor": "#E5ECF6",
           "caxis": {
            "gridcolor": "white",
            "linecolor": "white",
            "ticks": ""
           }
          },
          "title": {
           "x": 0.05
          },
          "xaxis": {
           "automargin": true,
           "gridcolor": "white",
           "linecolor": "white",
           "ticks": "",
           "title": {
            "standoff": 15
           },
           "zerolinecolor": "white",
           "zerolinewidth": 2
          },
          "yaxis": {
           "automargin": true,
           "gridcolor": "white",
           "linecolor": "white",
           "ticks": "",
           "title": {
            "standoff": 15
           },
           "zerolinecolor": "white",
           "zerolinewidth": 2
          }
         }
        },
        "title": {
         "text": "The frequency of I/O per proccess name per I/O size"
        },
        "xaxis": {
         "anchor": "y",
         "domain": [
          0,
          1
         ],
         "title": {
          "text": "I/O Size (bytes)"
         }
        },
        "yaxis": {
         "anchor": "x",
         "domain": [
          0,
          1
         ],
         "title": {
          "text": "Packets Per Second (thousand)"
         }
        }
       }
      }
     },
     "metadata": {},
     "output_type": "display_data"
    },
    {
     "name": "stderr",
     "output_type": "stream",
     "text": [
      "22/03/24 02:09:24 WARN DAGScheduler: Broadcasting large task binary with size 1117.8 KiB\n",
      "                                                                                \r"
     ]
    },
    {
     "data": {
      "application/vnd.plotly.v1+json": {
       "config": {
        "plotlyServerURL": "https://plot.ly"
       },
       "data": [
        {
         "hovertemplate": "filename=FIFO<br>I/O Size (bytes)=%{x}<br>Packets Per Second (thousand)=%{y}<br>Number of I/O operations=%{marker.size}<extra></extra>",
         "legendgroup": "FIFO",
         "marker": {
          "color": "#636efa",
          "size": [
           24,
           0,
           23,
           24,
           0,
           23,
           24,
           0,
           23,
           24,
           0,
           23,
           24,
           0,
           23,
           24,
           0,
           23,
           24,
           0,
           23,
           24,
           0,
           23,
           24,
           0,
           23,
           2,
           2,
           2,
           2,
           2,
           2,
           2,
           2,
           2,
           12,
           0,
           0,
           0,
           0,
           2,
           12,
           0,
           0,
           0,
           0,
           2,
           12,
           0,
           0,
           0,
           0,
           2,
           12,
           0,
           0,
           0,
           0,
           2,
           12,
           0,
           0,
           0,
           0,
           2,
           12,
           0,
           0,
           0,
           0,
           2,
           12,
           0,
           0,
           0,
           0,
           2,
           12,
           0,
           0,
           0,
           0,
           2,
           12,
           0,
           0,
           0,
           0,
           2,
           1,
           1,
           1
          ],
          "sizemode": "area",
          "sizeref": 1.635,
          "symbol": "circle"
         },
         "mode": "markers",
         "name": "FIFO",
         "showlegend": true,
         "type": "scattergl",
         "x": [
          "7 - 4",
          "15 - 8",
          "31 - 16",
          "7 - 4",
          "15 - 8",
          "31 - 16",
          "7 - 4",
          "15 - 8",
          "31 - 16",
          "7 - 4",
          "15 - 8",
          "31 - 16",
          "7 - 4",
          "15 - 8",
          "31 - 16",
          "7 - 4",
          "15 - 8",
          "31 - 16",
          "7 - 4",
          "15 - 8",
          "31 - 16",
          "7 - 4",
          "15 - 8",
          "31 - 16",
          "7 - 4",
          "15 - 8",
          "31 - 16",
          "31 - 16",
          "31 - 16",
          "31 - 16",
          "31 - 16",
          "31 - 16",
          "31 - 16",
          "31 - 16",
          "31 - 16",
          "31 - 16",
          "0 - 0",
          "1 - 1",
          "3 - 2",
          "7 - 4",
          "15 - 8",
          "31 - 16",
          "0 - 0",
          "1 - 1",
          "3 - 2",
          "7 - 4",
          "15 - 8",
          "31 - 16",
          "0 - 0",
          "1 - 1",
          "3 - 2",
          "7 - 4",
          "15 - 8",
          "31 - 16",
          "0 - 0",
          "1 - 1",
          "3 - 2",
          "7 - 4",
          "15 - 8",
          "31 - 16",
          "0 - 0",
          "1 - 1",
          "3 - 2",
          "7 - 4",
          "15 - 8",
          "31 - 16",
          "0 - 0",
          "1 - 1",
          "3 - 2",
          "7 - 4",
          "15 - 8",
          "31 - 16",
          "0 - 0",
          "1 - 1",
          "3 - 2",
          "7 - 4",
          "15 - 8",
          "31 - 16",
          "0 - 0",
          "1 - 1",
          "3 - 2",
          "7 - 4",
          "15 - 8",
          "31 - 16",
          "0 - 0",
          "1 - 1",
          "3 - 2",
          "7 - 4",
          "15 - 8",
          "31 - 16",
          "0 - 0",
          "0 - 0",
          "0 - 0"
         ],
         "xaxis": "x",
         "y": [
          "10",
          "10",
          "10",
          "500",
          "500",
          "500",
          "300",
          "300",
          "300",
          "600",
          "600",
          "600",
          "50",
          "50",
          "50",
          "100",
          "100",
          "100",
          "200",
          "200",
          "200",
          "400",
          "400",
          "400",
          "1",
          "1",
          "1",
          "10",
          "500",
          "300",
          "600",
          "50",
          "100",
          "200",
          "400",
          "1",
          "10",
          "10",
          "10",
          "10",
          "10",
          "10",
          "500",
          "500",
          "500",
          "500",
          "500",
          "500",
          "300",
          "300",
          "300",
          "300",
          "300",
          "300",
          "600",
          "600",
          "600",
          "600",
          "600",
          "600",
          "50",
          "50",
          "50",
          "50",
          "50",
          "50",
          "100",
          "100",
          "100",
          "100",
          "100",
          "100",
          "200",
          "200",
          "200",
          "200",
          "200",
          "200",
          "400",
          "400",
          "400",
          "400",
          "400",
          "400",
          "1",
          "1",
          "1",
          "1",
          "1",
          "1",
          "10",
          "600",
          "50"
         ],
         "yaxis": "y"
        },
        {
         "hovertemplate": "filename=_kvp_pool_1<br>I/O Size (bytes)=%{x}<br>Packets Per Second (thousand)=%{y}<br>Number of I/O operations=%{marker.size}<extra></extra>",
         "legendgroup": "_kvp_pool_1",
         "marker": {
          "color": "#EF553B",
          "size": [
           316,
           0,
           0,
           0,
           0,
           0,
           0,
           0,
           0,
           0,
           0,
           0,
           0,
           0,
           0,
           0,
           0,
           0,
           0,
           0,
           316,
           316,
           0,
           0,
           0,
           0,
           0,
           0,
           0,
           0,
           0,
           0,
           0,
           0,
           0,
           0,
           0,
           0,
           0,
           0,
           0,
           316,
           316,
           0,
           0,
           0,
           0,
           0,
           0,
           0,
           0,
           0,
           0,
           0,
           0,
           0,
           0,
           0,
           0,
           0,
           0,
           0,
           316,
           316,
           0,
           0,
           0,
           0,
           0,
           0,
           0,
           0,
           0,
           0,
           0,
           0,
           0,
           0,
           0,
           0,
           0,
           0,
           0,
           316,
           316,
           0,
           0,
           0,
           0,
           0,
           0,
           0,
           0,
           0,
           0,
           0,
           0,
           0,
           0,
           0,
           0,
           0,
           0,
           0,
           316,
           316,
           0,
           0,
           0,
           0,
           0,
           0,
           0,
           0,
           0,
           0,
           0,
           0,
           0,
           0,
           0,
           0,
           0,
           0,
           0,
           316,
           316,
           0,
           0,
           0,
           0,
           0,
           0,
           0,
           0,
           0,
           0,
           0,
           0,
           0,
           0,
           0,
           0,
           0,
           0,
           0,
           316,
           316,
           0,
           0,
           0,
           0,
           0,
           0,
           0,
           0,
           0,
           0,
           0,
           0,
           0,
           0,
           0,
           0,
           0,
           0,
           0,
           316,
           316,
           0,
           0,
           0,
           0,
           0,
           0,
           0,
           0,
           0,
           0,
           0,
           0,
           0,
           0,
           0,
           0,
           0,
           0,
           0,
           316
          ],
          "sizemode": "area",
          "sizeref": 1.635,
          "symbol": "circle"
         },
         "mode": "markers",
         "name": "_kvp_pool_1",
         "showlegend": true,
         "type": "scattergl",
         "x": [
          "0 - 0",
          "1 - 1",
          "3 - 2",
          "7 - 4",
          "15 - 8",
          "31 - 16",
          "63 - 32",
          "127 - 64",
          "255 - 128",
          "511 - 256",
          "1023 - 512",
          "2047 - 1024",
          "4095 - 2048",
          "8191 - 4096",
          "16383 - 8192",
          "32767 - 16384",
          "65535 - 32768",
          "131071 - 65536",
          "262143 - 131072",
          "524287 - 262144",
          "1048575 - 524288",
          "0 - 0",
          "1 - 1",
          "3 - 2",
          "7 - 4",
          "15 - 8",
          "31 - 16",
          "63 - 32",
          "127 - 64",
          "255 - 128",
          "511 - 256",
          "1023 - 512",
          "2047 - 1024",
          "4095 - 2048",
          "8191 - 4096",
          "16383 - 8192",
          "32767 - 16384",
          "65535 - 32768",
          "131071 - 65536",
          "262143 - 131072",
          "524287 - 262144",
          "1048575 - 524288",
          "0 - 0",
          "1 - 1",
          "3 - 2",
          "7 - 4",
          "15 - 8",
          "31 - 16",
          "63 - 32",
          "127 - 64",
          "255 - 128",
          "511 - 256",
          "1023 - 512",
          "2047 - 1024",
          "4095 - 2048",
          "8191 - 4096",
          "16383 - 8192",
          "32767 - 16384",
          "65535 - 32768",
          "131071 - 65536",
          "262143 - 131072",
          "524287 - 262144",
          "1048575 - 524288",
          "0 - 0",
          "1 - 1",
          "3 - 2",
          "7 - 4",
          "15 - 8",
          "31 - 16",
          "63 - 32",
          "127 - 64",
          "255 - 128",
          "511 - 256",
          "1023 - 512",
          "2047 - 1024",
          "4095 - 2048",
          "8191 - 4096",
          "16383 - 8192",
          "32767 - 16384",
          "65535 - 32768",
          "131071 - 65536",
          "262143 - 131072",
          "524287 - 262144",
          "1048575 - 524288",
          "0 - 0",
          "1 - 1",
          "3 - 2",
          "7 - 4",
          "15 - 8",
          "31 - 16",
          "63 - 32",
          "127 - 64",
          "255 - 128",
          "511 - 256",
          "1023 - 512",
          "2047 - 1024",
          "4095 - 2048",
          "8191 - 4096",
          "16383 - 8192",
          "32767 - 16384",
          "65535 - 32768",
          "131071 - 65536",
          "262143 - 131072",
          "524287 - 262144",
          "1048575 - 524288",
          "0 - 0",
          "1 - 1",
          "3 - 2",
          "7 - 4",
          "15 - 8",
          "31 - 16",
          "63 - 32",
          "127 - 64",
          "255 - 128",
          "511 - 256",
          "1023 - 512",
          "2047 - 1024",
          "4095 - 2048",
          "8191 - 4096",
          "16383 - 8192",
          "32767 - 16384",
          "65535 - 32768",
          "131071 - 65536",
          "262143 - 131072",
          "524287 - 262144",
          "1048575 - 524288",
          "0 - 0",
          "1 - 1",
          "3 - 2",
          "7 - 4",
          "15 - 8",
          "31 - 16",
          "63 - 32",
          "127 - 64",
          "255 - 128",
          "511 - 256",
          "1023 - 512",
          "2047 - 1024",
          "4095 - 2048",
          "8191 - 4096",
          "16383 - 8192",
          "32767 - 16384",
          "65535 - 32768",
          "131071 - 65536",
          "262143 - 131072",
          "524287 - 262144",
          "1048575 - 524288",
          "0 - 0",
          "1 - 1",
          "3 - 2",
          "7 - 4",
          "15 - 8",
          "31 - 16",
          "63 - 32",
          "127 - 64",
          "255 - 128",
          "511 - 256",
          "1023 - 512",
          "2047 - 1024",
          "4095 - 2048",
          "8191 - 4096",
          "16383 - 8192",
          "32767 - 16384",
          "65535 - 32768",
          "131071 - 65536",
          "262143 - 131072",
          "524287 - 262144",
          "1048575 - 524288",
          "0 - 0",
          "1 - 1",
          "3 - 2",
          "7 - 4",
          "15 - 8",
          "31 - 16",
          "63 - 32",
          "127 - 64",
          "255 - 128",
          "511 - 256",
          "1023 - 512",
          "2047 - 1024",
          "4095 - 2048",
          "8191 - 4096",
          "16383 - 8192",
          "32767 - 16384",
          "65535 - 32768",
          "131071 - 65536",
          "262143 - 131072",
          "524287 - 262144",
          "1048575 - 524288"
         ],
         "xaxis": "x",
         "y": [
          "10",
          "10",
          "10",
          "10",
          "10",
          "10",
          "10",
          "10",
          "10",
          "10",
          "10",
          "10",
          "10",
          "10",
          "10",
          "10",
          "10",
          "10",
          "10",
          "10",
          "10",
          "500",
          "500",
          "500",
          "500",
          "500",
          "500",
          "500",
          "500",
          "500",
          "500",
          "500",
          "500",
          "500",
          "500",
          "500",
          "500",
          "500",
          "500",
          "500",
          "500",
          "500",
          "300",
          "300",
          "300",
          "300",
          "300",
          "300",
          "300",
          "300",
          "300",
          "300",
          "300",
          "300",
          "300",
          "300",
          "300",
          "300",
          "300",
          "300",
          "300",
          "300",
          "300",
          "600",
          "600",
          "600",
          "600",
          "600",
          "600",
          "600",
          "600",
          "600",
          "600",
          "600",
          "600",
          "600",
          "600",
          "600",
          "600",
          "600",
          "600",
          "600",
          "600",
          "600",
          "50",
          "50",
          "50",
          "50",
          "50",
          "50",
          "50",
          "50",
          "50",
          "50",
          "50",
          "50",
          "50",
          "50",
          "50",
          "50",
          "50",
          "50",
          "50",
          "50",
          "50",
          "100",
          "100",
          "100",
          "100",
          "100",
          "100",
          "100",
          "100",
          "100",
          "100",
          "100",
          "100",
          "100",
          "100",
          "100",
          "100",
          "100",
          "100",
          "100",
          "100",
          "100",
          "200",
          "200",
          "200",
          "200",
          "200",
          "200",
          "200",
          "200",
          "200",
          "200",
          "200",
          "200",
          "200",
          "200",
          "200",
          "200",
          "200",
          "200",
          "200",
          "200",
          "200",
          "400",
          "400",
          "400",
          "400",
          "400",
          "400",
          "400",
          "400",
          "400",
          "400",
          "400",
          "400",
          "400",
          "400",
          "400",
          "400",
          "400",
          "400",
          "400",
          "400",
          "400",
          "1",
          "1",
          "1",
          "1",
          "1",
          "1",
          "1",
          "1",
          "1",
          "1",
          "1",
          "1",
          "1",
          "1",
          "1",
          "1",
          "1",
          "1",
          "1",
          "1",
          "1"
         ],
         "yaxis": "y"
        },
        {
         "hovertemplate": "filename=hv_kvp<br>I/O Size (bytes)=%{x}<br>Packets Per Second (thousand)=%{y}<br>Number of I/O operations=%{marker.size}<extra></extra>",
         "legendgroup": "hv_kvp",
         "marker": {
          "color": "#00cc96",
          "size": [
           654,
           654,
           654,
           654,
           654,
           654,
           654,
           654,
           654
          ],
          "sizemode": "area",
          "sizeref": 1.635,
          "symbol": "circle"
         },
         "mode": "markers",
         "name": "hv_kvp",
         "showlegend": true,
         "type": "scattergl",
         "x": [
          "8191 - 4096",
          "8191 - 4096",
          "8191 - 4096",
          "8191 - 4096",
          "8191 - 4096",
          "8191 - 4096",
          "8191 - 4096",
          "8191 - 4096",
          "8191 - 4096"
         ],
         "xaxis": "x",
         "y": [
          "10",
          "500",
          "300",
          "600",
          "50",
          "100",
          "200",
          "400",
          "1"
         ],
         "yaxis": "y"
        },
        {
         "hovertemplate": "filename=libc-2_31_so<br>I/O Size (bytes)=%{x}<br>Packets Per Second (thousand)=%{y}<br>Number of I/O operations=%{marker.size}<extra></extra>",
         "legendgroup": "libc-2_31_so",
         "marker": {
          "color": "#ab63fa",
          "size": [
           8,
           8,
           0,
           0,
           12,
           8,
           8,
           0,
           0,
           12,
           8,
           8,
           0,
           0,
           12,
           8,
           8,
           0,
           0,
           12,
           8,
           8,
           0,
           0,
           12,
           8,
           8,
           0,
           0,
           12,
           8,
           8,
           0,
           0,
           12,
           8,
           8,
           0,
           0,
           12,
           8,
           8,
           0,
           0,
           12
          ],
          "sizemode": "area",
          "sizeref": 1.635,
          "symbol": "circle"
         },
         "mode": "markers",
         "name": "libc-2_31_so",
         "showlegend": true,
         "type": "scattergl",
         "x": [
          "63 - 32",
          "127 - 64",
          "255 - 128",
          "511 - 256",
          "1023 - 512",
          "63 - 32",
          "127 - 64",
          "255 - 128",
          "511 - 256",
          "1023 - 512",
          "63 - 32",
          "127 - 64",
          "255 - 128",
          "511 - 256",
          "1023 - 512",
          "63 - 32",
          "127 - 64",
          "255 - 128",
          "511 - 256",
          "1023 - 512",
          "63 - 32",
          "127 - 64",
          "255 - 128",
          "511 - 256",
          "1023 - 512",
          "63 - 32",
          "127 - 64",
          "255 - 128",
          "511 - 256",
          "1023 - 512",
          "63 - 32",
          "127 - 64",
          "255 - 128",
          "511 - 256",
          "1023 - 512",
          "63 - 32",
          "127 - 64",
          "255 - 128",
          "511 - 256",
          "1023 - 512",
          "63 - 32",
          "127 - 64",
          "255 - 128",
          "511 - 256",
          "1023 - 512"
         ],
         "xaxis": "x",
         "y": [
          "10",
          "10",
          "10",
          "10",
          "10",
          "500",
          "500",
          "500",
          "500",
          "500",
          "300",
          "300",
          "300",
          "300",
          "300",
          "600",
          "600",
          "600",
          "600",
          "600",
          "50",
          "50",
          "50",
          "50",
          "50",
          "100",
          "100",
          "100",
          "100",
          "100",
          "200",
          "200",
          "200",
          "200",
          "200",
          "400",
          "400",
          "400",
          "400",
          "400",
          "1",
          "1",
          "1",
          "1",
          "1"
         ],
         "yaxis": "y"
        },
        {
         "hovertemplate": "filename=libdl-2_31_so<br>I/O Size (bytes)=%{x}<br>Packets Per Second (thousand)=%{y}<br>Number of I/O operations=%{marker.size}<extra></extra>",
         "legendgroup": "libdl-2_31_so",
         "marker": {
          "color": "#FFA15A",
          "size": [
           4,
           4,
           4,
           4,
           4,
           4,
           4,
           4,
           4
          ],
          "sizemode": "area",
          "sizeref": 1.635,
          "symbol": "circle"
         },
         "mode": "markers",
         "name": "libdl-2_31_so",
         "showlegend": true,
         "type": "scattergl",
         "x": [
          "1023 - 512",
          "1023 - 512",
          "1023 - 512",
          "1023 - 512",
          "1023 - 512",
          "1023 - 512",
          "1023 - 512",
          "1023 - 512",
          "1023 - 512"
         ],
         "xaxis": "x",
         "y": [
          "10",
          "500",
          "300",
          "600",
          "50",
          "100",
          "200",
          "400",
          "1"
         ],
         "yaxis": "y"
        },
        {
         "hovertemplate": "filename=libip4tc_so_2_0_0<br>I/O Size (bytes)=%{x}<br>Packets Per Second (thousand)=%{y}<br>Number of I/O operations=%{marker.size}<extra></extra>",
         "legendgroup": "libip4tc_so_2_0_0",
         "marker": {
          "color": "#19d3f3",
          "size": [
           4,
           4,
           4,
           4,
           4,
           4,
           4,
           4,
           4
          ],
          "sizemode": "area",
          "sizeref": 1.635,
          "symbol": "circle"
         },
         "mode": "markers",
         "name": "libip4tc_so_2_0_0",
         "showlegend": true,
         "type": "scattergl",
         "x": [
          "1023 - 512",
          "1023 - 512",
          "1023 - 512",
          "1023 - 512",
          "1023 - 512",
          "1023 - 512",
          "1023 - 512",
          "1023 - 512",
          "1023 - 512"
         ],
         "xaxis": "x",
         "y": [
          "10",
          "500",
          "300",
          "600",
          "50",
          "100",
          "200",
          "400",
          "1"
         ],
         "yaxis": "y"
        },
        {
         "hovertemplate": "filename=libip6tc_so_2_0_0<br>I/O Size (bytes)=%{x}<br>Packets Per Second (thousand)=%{y}<br>Number of I/O operations=%{marker.size}<extra></extra>",
         "legendgroup": "libip6tc_so_2_0_0",
         "marker": {
          "color": "#FF6692",
          "size": [
           4,
           4,
           4,
           4,
           4,
           4,
           4,
           4,
           4
          ],
          "sizemode": "area",
          "sizeref": 1.635,
          "symbol": "circle"
         },
         "mode": "markers",
         "name": "libip6tc_so_2_0_0",
         "showlegend": true,
         "type": "scattergl",
         "x": [
          "1023 - 512",
          "1023 - 512",
          "1023 - 512",
          "1023 - 512",
          "1023 - 512",
          "1023 - 512",
          "1023 - 512",
          "1023 - 512",
          "1023 - 512"
         ],
         "xaxis": "x",
         "y": [
          "10",
          "500",
          "300",
          "600",
          "50",
          "100",
          "200",
          "400",
          "1"
         ],
         "yaxis": "y"
        },
        {
         "hovertemplate": "filename=libnss_files-2_31_so<br>I/O Size (bytes)=%{x}<br>Packets Per Second (thousand)=%{y}<br>Number of I/O operations=%{marker.size}<extra></extra>",
         "legendgroup": "libnss_files-2_31_so",
         "marker": {
          "color": "#B6E880",
          "size": [
           2,
           2,
           2,
           2,
           2,
           2,
           2,
           2,
           2
          ],
          "sizemode": "area",
          "sizeref": 1.635,
          "symbol": "circle"
         },
         "mode": "markers",
         "name": "libnss_files-2_31_so",
         "showlegend": true,
         "type": "scattergl",
         "x": [
          "1023 - 512",
          "1023 - 512",
          "1023 - 512",
          "1023 - 512",
          "1023 - 512",
          "1023 - 512",
          "1023 - 512",
          "1023 - 512",
          "1023 - 512"
         ],
         "xaxis": "x",
         "y": [
          "10",
          "500",
          "300",
          "600",
          "50",
          "100",
          "200",
          "400",
          "1"
         ],
         "yaxis": "y"
        },
        {
         "hovertemplate": "filename=libxt_conntrack_so<br>I/O Size (bytes)=%{x}<br>Packets Per Second (thousand)=%{y}<br>Number of I/O operations=%{marker.size}<extra></extra>",
         "legendgroup": "libxt_conntrack_so",
         "marker": {
          "color": "#FF97FF",
          "size": [
           2,
           2,
           2,
           2,
           2,
           2,
           2,
           2,
           2
          ],
          "sizemode": "area",
          "sizeref": 1.635,
          "symbol": "circle"
         },
         "mode": "markers",
         "name": "libxt_conntrack_so",
         "showlegend": true,
         "type": "scattergl",
         "x": [
          "1023 - 512",
          "1023 - 512",
          "1023 - 512",
          "1023 - 512",
          "1023 - 512",
          "1023 - 512",
          "1023 - 512",
          "1023 - 512",
          "1023 - 512"
         ],
         "xaxis": "x",
         "y": [
          "10",
          "500",
          "300",
          "600",
          "50",
          "100",
          "200",
          "400",
          "1"
         ],
         "yaxis": "y"
        },
        {
         "hovertemplate": "filename=libxt_standard_so<br>I/O Size (bytes)=%{x}<br>Packets Per Second (thousand)=%{y}<br>Number of I/O operations=%{marker.size}<extra></extra>",
         "legendgroup": "libxt_standard_so",
         "marker": {
          "color": "#FECB52",
          "size": [
           2,
           2,
           2,
           2,
           2,
           2,
           2,
           2,
           2
          ],
          "sizemode": "area",
          "sizeref": 1.635,
          "symbol": "circle"
         },
         "mode": "markers",
         "name": "libxt_standard_so",
         "showlegend": true,
         "type": "scattergl",
         "x": [
          "1023 - 512",
          "1023 - 512",
          "1023 - 512",
          "1023 - 512",
          "1023 - 512",
          "1023 - 512",
          "1023 - 512",
          "1023 - 512",
          "1023 - 512"
         ],
         "xaxis": "x",
         "y": [
          "10",
          "500",
          "300",
          "600",
          "50",
          "100",
          "200",
          "400",
          "1"
         ],
         "yaxis": "y"
        },
        {
         "hovertemplate": "filename=libxtables_so_12_2_0<br>I/O Size (bytes)=%{x}<br>Packets Per Second (thousand)=%{y}<br>Number of I/O operations=%{marker.size}<extra></extra>",
         "legendgroup": "libxtables_so_12_2_0",
         "marker": {
          "color": "#636efa",
          "size": [
           4,
           4,
           4,
           4,
           4,
           4,
           4,
           4,
           4
          ],
          "sizemode": "area",
          "sizeref": 1.635,
          "symbol": "circle"
         },
         "mode": "markers",
         "name": "libxtables_so_12_2_0",
         "showlegend": true,
         "type": "scattergl",
         "x": [
          "1023 - 512",
          "1023 - 512",
          "1023 - 512",
          "1023 - 512",
          "1023 - 512",
          "1023 - 512",
          "1023 - 512",
          "1023 - 512",
          "1023 - 512"
         ],
         "xaxis": "x",
         "y": [
          "10",
          "500",
          "300",
          "600",
          "50",
          "100",
          "200",
          "400",
          "1"
         ],
         "yaxis": "y"
        },
        {
         "hovertemplate": "filename=nsswitch_conf<br>I/O Size (bytes)=%{x}<br>Packets Per Second (thousand)=%{y}<br>Number of I/O operations=%{marker.size}<extra></extra>",
         "legendgroup": "nsswitch_conf",
         "marker": {
          "color": "#EF553B",
          "size": [
           2,
           0,
           0,
           0,
           0,
           0,
           0,
           0,
           0,
           2,
           2,
           0,
           0,
           0,
           0,
           0,
           0,
           0,
           0,
           2,
           2,
           0,
           0,
           0,
           0,
           0,
           0,
           0,
           0,
           2,
           2,
           0,
           0,
           0,
           0,
           0,
           0,
           0,
           0,
           2,
           2,
           0,
           0,
           0,
           0,
           0,
           0,
           0,
           0,
           2,
           2,
           0,
           0,
           0,
           0,
           0,
           0,
           0,
           0,
           2,
           2,
           0,
           0,
           0,
           0,
           0,
           0,
           0,
           0,
           2,
           2,
           0,
           0,
           0,
           0,
           0,
           0,
           0,
           0,
           2,
           2,
           0,
           0,
           0,
           0,
           0,
           0,
           0,
           0,
           2
          ],
          "sizemode": "area",
          "sizeref": 1.635,
          "symbol": "circle"
         },
         "mode": "markers",
         "name": "nsswitch_conf",
         "showlegend": true,
         "type": "scattergl",
         "x": [
          "0 - 0",
          "1 - 1",
          "3 - 2",
          "7 - 4",
          "15 - 8",
          "31 - 16",
          "63 - 32",
          "127 - 64",
          "255 - 128",
          "511 - 256",
          "0 - 0",
          "1 - 1",
          "3 - 2",
          "7 - 4",
          "15 - 8",
          "31 - 16",
          "63 - 32",
          "127 - 64",
          "255 - 128",
          "511 - 256",
          "0 - 0",
          "1 - 1",
          "3 - 2",
          "7 - 4",
          "15 - 8",
          "31 - 16",
          "63 - 32",
          "127 - 64",
          "255 - 128",
          "511 - 256",
          "0 - 0",
          "1 - 1",
          "3 - 2",
          "7 - 4",
          "15 - 8",
          "31 - 16",
          "63 - 32",
          "127 - 64",
          "255 - 128",
          "511 - 256",
          "0 - 0",
          "1 - 1",
          "3 - 2",
          "7 - 4",
          "15 - 8",
          "31 - 16",
          "63 - 32",
          "127 - 64",
          "255 - 128",
          "511 - 256",
          "0 - 0",
          "1 - 1",
          "3 - 2",
          "7 - 4",
          "15 - 8",
          "31 - 16",
          "63 - 32",
          "127 - 64",
          "255 - 128",
          "511 - 256",
          "0 - 0",
          "1 - 1",
          "3 - 2",
          "7 - 4",
          "15 - 8",
          "31 - 16",
          "63 - 32",
          "127 - 64",
          "255 - 128",
          "511 - 256",
          "0 - 0",
          "1 - 1",
          "3 - 2",
          "7 - 4",
          "15 - 8",
          "31 - 16",
          "63 - 32",
          "127 - 64",
          "255 - 128",
          "511 - 256",
          "0 - 0",
          "1 - 1",
          "3 - 2",
          "7 - 4",
          "15 - 8",
          "31 - 16",
          "63 - 32",
          "127 - 64",
          "255 - 128",
          "511 - 256"
         ],
         "xaxis": "x",
         "y": [
          "10",
          "10",
          "10",
          "10",
          "10",
          "10",
          "10",
          "10",
          "10",
          "10",
          "500",
          "500",
          "500",
          "500",
          "500",
          "500",
          "500",
          "500",
          "500",
          "500",
          "300",
          "300",
          "300",
          "300",
          "300",
          "300",
          "300",
          "300",
          "300",
          "300",
          "600",
          "600",
          "600",
          "600",
          "600",
          "600",
          "600",
          "600",
          "600",
          "600",
          "50",
          "50",
          "50",
          "50",
          "50",
          "50",
          "50",
          "50",
          "50",
          "50",
          "100",
          "100",
          "100",
          "100",
          "100",
          "100",
          "100",
          "100",
          "100",
          "100",
          "200",
          "200",
          "200",
          "200",
          "200",
          "200",
          "200",
          "200",
          "200",
          "200",
          "400",
          "400",
          "400",
          "400",
          "400",
          "400",
          "400",
          "400",
          "400",
          "400",
          "1",
          "1",
          "1",
          "1",
          "1",
          "1",
          "1",
          "1",
          "1",
          "1"
         ],
         "yaxis": "y"
        },
        {
         "hovertemplate": "filename=protocols<br>I/O Size (bytes)=%{x}<br>Packets Per Second (thousand)=%{y}<br>Number of I/O operations=%{marker.size}<extra></extra>",
         "legendgroup": "protocols",
         "marker": {
          "color": "#00cc96",
          "size": [
           2,
           2,
           2,
           2,
           2,
           2,
           2,
           2,
           2
          ],
          "sizemode": "area",
          "sizeref": 1.635,
          "symbol": "circle"
         },
         "mode": "markers",
         "name": "protocols",
         "showlegend": true,
         "type": "scattergl",
         "x": [
          "4095 - 2048",
          "4095 - 2048",
          "4095 - 2048",
          "4095 - 2048",
          "4095 - 2048",
          "4095 - 2048",
          "4095 - 2048",
          "4095 - 2048",
          "4095 - 2048"
         ],
         "xaxis": "x",
         "y": [
          "10",
          "500",
          "300",
          "600",
          "50",
          "100",
          "200",
          "400",
          "1"
         ],
         "yaxis": "y"
        },
        {
         "hovertemplate": "filename=interrupts<br>I/O Size (bytes)=%{x}<br>Packets Per Second (thousand)=%{y}<br>Number of I/O operations=%{marker.size}<extra></extra>",
         "legendgroup": "interrupts",
         "marker": {
          "color": "#ab63fa",
          "size": [
           66,
           66,
           66,
           66,
           66,
           66,
           66,
           66,
           66
          ],
          "sizemode": "area",
          "sizeref": 1.635,
          "symbol": "circle"
         },
         "mode": "markers",
         "name": "interrupts",
         "showlegend": true,
         "type": "scattergl",
         "x": [
          "2047 - 1024",
          "2047 - 1024",
          "2047 - 1024",
          "2047 - 1024",
          "2047 - 1024",
          "2047 - 1024",
          "2047 - 1024",
          "2047 - 1024",
          "2047 - 1024"
         ],
         "xaxis": "x",
         "y": [
          "10",
          "500",
          "300",
          "600",
          "50",
          "100",
          "200",
          "400",
          "1"
         ],
         "yaxis": "y"
        },
        {
         "hovertemplate": "filename=smp_affinity<br>I/O Size (bytes)=%{x}<br>Packets Per Second (thousand)=%{y}<br>Number of I/O operations=%{marker.size}<extra></extra>",
         "legendgroup": "smp_affinity",
         "marker": {
          "color": "#FFA15A",
          "size": [
           42,
           42,
           42,
           42,
           42,
           42,
           42,
           42,
           42
          ],
          "sizemode": "area",
          "sizeref": 1.635,
          "symbol": "circle"
         },
         "mode": "markers",
         "name": "smp_affinity",
         "showlegend": true,
         "type": "scattergl",
         "x": [
          "7 - 4",
          "7 - 4",
          "7 - 4",
          "7 - 4",
          "7 - 4",
          "7 - 4",
          "7 - 4",
          "7 - 4",
          "7 - 4"
         ],
         "xaxis": "x",
         "y": [
          "10",
          "500",
          "300",
          "600",
          "50",
          "100",
          "200",
          "400",
          "1"
         ],
         "yaxis": "y"
        },
        {
         "hovertemplate": "filename=stat<br>I/O Size (bytes)=%{x}<br>Packets Per Second (thousand)=%{y}<br>Number of I/O operations=%{marker.size}<extra></extra>",
         "legendgroup": "stat",
         "marker": {
          "color": "#19d3f3",
          "size": [
           6,
           6,
           6,
           6,
           6,
           6,
           6,
           6,
           6,
           6,
           6,
           6,
           6,
           6,
           6,
           6,
           6,
           6,
           1,
           0,
           0,
           0,
           0,
           0,
           0,
           0,
           0,
           0,
           0,
           1,
           1,
           0,
           0,
           0,
           0,
           0,
           0,
           0,
           0,
           0,
           0,
           1,
           1,
           0,
           0,
           0,
           0,
           0,
           0,
           0,
           0,
           0,
           0,
           1
          ],
          "sizemode": "area",
          "sizeref": 1.635,
          "symbol": "circle"
         },
         "mode": "markers",
         "name": "stat",
         "showlegend": true,
         "type": "scattergl",
         "x": [
          "1023 - 512",
          "2047 - 1024",
          "1023 - 512",
          "2047 - 1024",
          "1023 - 512",
          "2047 - 1024",
          "1023 - 512",
          "2047 - 1024",
          "1023 - 512",
          "2047 - 1024",
          "1023 - 512",
          "2047 - 1024",
          "1023 - 512",
          "2047 - 1024",
          "1023 - 512",
          "2047 - 1024",
          "1023 - 512",
          "2047 - 1024",
          "0 - 0",
          "1 - 1",
          "3 - 2",
          "7 - 4",
          "15 - 8",
          "31 - 16",
          "63 - 32",
          "127 - 64",
          "255 - 128",
          "511 - 256",
          "1023 - 512",
          "2047 - 1024",
          "0 - 0",
          "1 - 1",
          "3 - 2",
          "7 - 4",
          "15 - 8",
          "31 - 16",
          "63 - 32",
          "127 - 64",
          "255 - 128",
          "511 - 256",
          "1023 - 512",
          "2047 - 1024",
          "0 - 0",
          "1 - 1",
          "3 - 2",
          "7 - 4",
          "15 - 8",
          "31 - 16",
          "63 - 32",
          "127 - 64",
          "255 - 128",
          "511 - 256",
          "1023 - 512",
          "2047 - 1024"
         ],
         "xaxis": "x",
         "y": [
          "10",
          "10",
          "500",
          "500",
          "300",
          "300",
          "600",
          "600",
          "50",
          "50",
          "100",
          "100",
          "200",
          "200",
          "400",
          "400",
          "1",
          "1",
          "10",
          "10",
          "10",
          "10",
          "10",
          "10",
          "10",
          "10",
          "10",
          "10",
          "10",
          "10",
          "500",
          "500",
          "500",
          "500",
          "500",
          "500",
          "500",
          "500",
          "500",
          "500",
          "500",
          "500",
          "300",
          "300",
          "300",
          "300",
          "300",
          "300",
          "300",
          "300",
          "300",
          "300",
          "300",
          "300"
         ],
         "yaxis": "y"
        },
        {
         "hovertemplate": "filename=[eventfd]<br>I/O Size (bytes)=%{x}<br>Packets Per Second (thousand)=%{y}<br>Number of I/O operations=%{marker.size}<extra></extra>",
         "legendgroup": "[eventfd]",
         "marker": {
          "color": "#FF6692",
          "size": [
           1,
           1,
           1,
           1,
           1,
           1,
           1,
           1,
           1,
           1,
           1,
           1,
           1,
           1,
           1,
           1,
           1,
           1,
           1,
           1,
           1,
           1,
           1,
           1,
           1,
           1,
           1,
           1,
           1,
           1,
           1,
           1,
           1,
           1,
           1,
           1,
           1,
           1,
           1,
           1,
           1,
           1,
           1,
           1,
           1,
           1,
           1,
           1,
           1,
           1,
           1,
           1,
           1,
           1,
           1,
           1,
           1,
           1,
           1,
           1,
           1,
           1,
           1,
           1,
           1,
           1,
           1,
           1,
           1,
           1,
           1,
           1,
           1,
           1,
           1,
           1,
           1,
           1,
           1,
           1,
           1,
           1,
           1,
           1,
           1,
           1,
           1,
           1,
           1,
           1,
           1,
           1,
           1,
           1,
           1,
           1,
           1,
           1,
           1,
           1,
           1,
           1,
           1,
           1,
           1,
           1,
           1,
           1,
           1,
           1,
           1,
           1,
           1,
           1,
           1,
           1,
           1,
           1,
           1,
           1,
           1,
           1,
           1,
           1,
           1,
           1,
           1,
           1,
           1,
           1,
           1,
           1,
           1,
           1,
           1,
           1,
           1,
           1,
           1,
           1,
           1,
           1,
           1,
           1,
           16,
           16,
           16,
           16,
           16,
           16,
           16,
           16,
           16,
           1,
           1,
           1,
           1
          ],
          "sizemode": "area",
          "sizeref": 1.635,
          "symbol": "circle"
         },
         "mode": "markers",
         "name": "[eventfd]",
         "showlegend": true,
         "type": "scattergl",
         "x": [
          "15 - 8",
          "15 - 8",
          "15 - 8",
          "15 - 8",
          "15 - 8",
          "15 - 8",
          "15 - 8",
          "15 - 8",
          "15 - 8",
          "15 - 8",
          "15 - 8",
          "15 - 8",
          "15 - 8",
          "15 - 8",
          "15 - 8",
          "15 - 8",
          "15 - 8",
          "15 - 8",
          "15 - 8",
          "15 - 8",
          "15 - 8",
          "15 - 8",
          "15 - 8",
          "15 - 8",
          "15 - 8",
          "15 - 8",
          "15 - 8",
          "15 - 8",
          "15 - 8",
          "15 - 8",
          "15 - 8",
          "15 - 8",
          "15 - 8",
          "15 - 8",
          "15 - 8",
          "15 - 8",
          "15 - 8",
          "15 - 8",
          "15 - 8",
          "15 - 8",
          "15 - 8",
          "15 - 8",
          "15 - 8",
          "15 - 8",
          "15 - 8",
          "15 - 8",
          "15 - 8",
          "15 - 8",
          "15 - 8",
          "15 - 8",
          "15 - 8",
          "15 - 8",
          "15 - 8",
          "15 - 8",
          "15 - 8",
          "15 - 8",
          "15 - 8",
          "15 - 8",
          "15 - 8",
          "15 - 8",
          "15 - 8",
          "15 - 8",
          "15 - 8",
          "15 - 8",
          "15 - 8",
          "15 - 8",
          "15 - 8",
          "15 - 8",
          "15 - 8",
          "15 - 8",
          "15 - 8",
          "15 - 8",
          "15 - 8",
          "15 - 8",
          "15 - 8",
          "15 - 8",
          "15 - 8",
          "15 - 8",
          "15 - 8",
          "15 - 8",
          "15 - 8",
          "15 - 8",
          "15 - 8",
          "15 - 8",
          "15 - 8",
          "15 - 8",
          "15 - 8",
          "15 - 8",
          "15 - 8",
          "15 - 8",
          "15 - 8",
          "15 - 8",
          "15 - 8",
          "15 - 8",
          "15 - 8",
          "15 - 8",
          "15 - 8",
          "15 - 8",
          "15 - 8",
          "15 - 8",
          "15 - 8",
          "15 - 8",
          "15 - 8",
          "15 - 8",
          "15 - 8",
          "15 - 8",
          "15 - 8",
          "15 - 8",
          "15 - 8",
          "15 - 8",
          "15 - 8",
          "15 - 8",
          "15 - 8",
          "15 - 8",
          "15 - 8",
          "15 - 8",
          "15 - 8",
          "15 - 8",
          "15 - 8",
          "15 - 8",
          "15 - 8",
          "15 - 8",
          "15 - 8",
          "15 - 8",
          "15 - 8",
          "15 - 8",
          "15 - 8",
          "15 - 8",
          "15 - 8",
          "15 - 8",
          "15 - 8",
          "15 - 8",
          "15 - 8",
          "15 - 8",
          "15 - 8",
          "15 - 8",
          "15 - 8",
          "15 - 8",
          "15 - 8",
          "15 - 8",
          "15 - 8",
          "15 - 8",
          "15 - 8",
          "15 - 8",
          "15 - 8",
          "15 - 8",
          "15 - 8",
          "15 - 8",
          "15 - 8",
          "15 - 8",
          "15 - 8",
          "15 - 8",
          "15 - 8",
          "15 - 8",
          "15 - 8",
          "15 - 8",
          "15 - 8"
         ],
         "xaxis": "x",
         "y": [
          "10",
          "500",
          "300",
          "600",
          "50",
          "100",
          "200",
          "400",
          "1",
          "10",
          "500",
          "300",
          "600",
          "50",
          "100",
          "200",
          "400",
          "1",
          "10",
          "500",
          "300",
          "600",
          "50",
          "100",
          "200",
          "400",
          "1",
          "10",
          "500",
          "300",
          "600",
          "50",
          "100",
          "200",
          "400",
          "1",
          "10",
          "500",
          "300",
          "600",
          "50",
          "100",
          "200",
          "400",
          "1",
          "10",
          "500",
          "300",
          "600",
          "50",
          "100",
          "200",
          "400",
          "1",
          "10",
          "500",
          "300",
          "600",
          "50",
          "100",
          "200",
          "400",
          "1",
          "10",
          "500",
          "300",
          "600",
          "50",
          "100",
          "200",
          "400",
          "1",
          "10",
          "500",
          "300",
          "600",
          "50",
          "100",
          "200",
          "400",
          "1",
          "10",
          "500",
          "300",
          "600",
          "50",
          "100",
          "200",
          "400",
          "1",
          "10",
          "500",
          "300",
          "600",
          "50",
          "100",
          "200",
          "400",
          "1",
          "10",
          "500",
          "300",
          "600",
          "50",
          "100",
          "200",
          "400",
          "1",
          "10",
          "500",
          "300",
          "600",
          "50",
          "100",
          "200",
          "400",
          "1",
          "10",
          "500",
          "300",
          "600",
          "50",
          "100",
          "200",
          "400",
          "1",
          "10",
          "500",
          "300",
          "600",
          "50",
          "100",
          "200",
          "400",
          "1",
          "10",
          "500",
          "300",
          "600",
          "50",
          "100",
          "200",
          "400",
          "1",
          "400",
          "1",
          "500",
          "300",
          "600",
          "200",
          "100",
          "50",
          "10",
          "500",
          "300",
          "500",
          "300"
         ],
         "yaxis": "y"
        },
        {
         "hovertemplate": "filename=0_status<br>I/O Size (bytes)=%{x}<br>Packets Per Second (thousand)=%{y}<br>Number of I/O operations=%{marker.size}<extra></extra>",
         "legendgroup": "0_status",
         "marker": {
          "color": "#B6E880",
          "size": [
           10,
           0,
           0,
           0,
           0,
           0,
           0,
           0,
           0,
           10,
           10,
           0,
           0,
           0,
           0,
           0,
           0,
           0,
           0,
           10,
           10,
           0,
           0,
           0,
           0,
           0,
           0,
           0,
           0,
           10,
           10,
           0,
           0,
           0,
           0,
           0,
           0,
           0,
           0,
           10,
           10,
           0,
           0,
           0,
           0,
           0,
           0,
           0,
           0,
           10,
           10,
           0,
           0,
           0,
           0,
           0,
           0,
           0,
           0,
           10,
           10,
           0,
           0,
           0,
           0,
           0,
           0,
           0,
           0,
           10,
           10,
           0,
           0,
           0,
           0,
           0,
           0,
           0,
           0,
           10,
           10,
           0,
           0,
           0,
           0,
           0,
           0,
           0,
           0,
           10
          ],
          "sizemode": "area",
          "sizeref": 1.635,
          "symbol": "circle"
         },
         "mode": "markers",
         "name": "0_status",
         "showlegend": true,
         "type": "scattergl",
         "x": [
          "0 - 0",
          "1 - 1",
          "3 - 2",
          "7 - 4",
          "15 - 8",
          "31 - 16",
          "63 - 32",
          "127 - 64",
          "255 - 128",
          "511 - 256",
          "0 - 0",
          "1 - 1",
          "3 - 2",
          "7 - 4",
          "15 - 8",
          "31 - 16",
          "63 - 32",
          "127 - 64",
          "255 - 128",
          "511 - 256",
          "0 - 0",
          "1 - 1",
          "3 - 2",
          "7 - 4",
          "15 - 8",
          "31 - 16",
          "63 - 32",
          "127 - 64",
          "255 - 128",
          "511 - 256",
          "0 - 0",
          "1 - 1",
          "3 - 2",
          "7 - 4",
          "15 - 8",
          "31 - 16",
          "63 - 32",
          "127 - 64",
          "255 - 128",
          "511 - 256",
          "0 - 0",
          "1 - 1",
          "3 - 2",
          "7 - 4",
          "15 - 8",
          "31 - 16",
          "63 - 32",
          "127 - 64",
          "255 - 128",
          "511 - 256",
          "0 - 0",
          "1 - 1",
          "3 - 2",
          "7 - 4",
          "15 - 8",
          "31 - 16",
          "63 - 32",
          "127 - 64",
          "255 - 128",
          "511 - 256",
          "0 - 0",
          "1 - 1",
          "3 - 2",
          "7 - 4",
          "15 - 8",
          "31 - 16",
          "63 - 32",
          "127 - 64",
          "255 - 128",
          "511 - 256",
          "0 - 0",
          "1 - 1",
          "3 - 2",
          "7 - 4",
          "15 - 8",
          "31 - 16",
          "63 - 32",
          "127 - 64",
          "255 - 128",
          "511 - 256",
          "0 - 0",
          "1 - 1",
          "3 - 2",
          "7 - 4",
          "15 - 8",
          "31 - 16",
          "63 - 32",
          "127 - 64",
          "255 - 128",
          "511 - 256"
         ],
         "xaxis": "x",
         "y": [
          "10",
          "10",
          "10",
          "10",
          "10",
          "10",
          "10",
          "10",
          "10",
          "10",
          "500",
          "500",
          "500",
          "500",
          "500",
          "500",
          "500",
          "500",
          "500",
          "500",
          "300",
          "300",
          "300",
          "300",
          "300",
          "300",
          "300",
          "300",
          "300",
          "300",
          "600",
          "600",
          "600",
          "600",
          "600",
          "600",
          "600",
          "600",
          "600",
          "600",
          "50",
          "50",
          "50",
          "50",
          "50",
          "50",
          "50",
          "50",
          "50",
          "50",
          "100",
          "100",
          "100",
          "100",
          "100",
          "100",
          "100",
          "100",
          "100",
          "100",
          "200",
          "200",
          "200",
          "200",
          "200",
          "200",
          "200",
          "200",
          "200",
          "200",
          "400",
          "400",
          "400",
          "400",
          "400",
          "400",
          "400",
          "400",
          "400",
          "400",
          "1",
          "1",
          "1",
          "1",
          "1",
          "1",
          "1",
          "1",
          "1",
          "1"
         ],
         "yaxis": "y"
        },
        {
         "hovertemplate": "filename=1647894468645316_tmp<br>I/O Size (bytes)=%{x}<br>Packets Per Second (thousand)=%{y}<br>Number of I/O operations=%{marker.size}<extra></extra>",
         "legendgroup": "1647894468645316_tmp",
         "marker": {
          "color": "#FF97FF",
          "size": [
           1
          ],
          "sizemode": "area",
          "sizeref": 1.635,
          "symbol": "circle"
         },
         "mode": "markers",
         "name": "1647894468645316_tmp",
         "showlegend": true,
         "type": "scattergl",
         "x": [
          "2047 - 1024"
         ],
         "xaxis": "x",
         "y": [
          "10"
         ],
         "yaxis": "y"
        },
        {
         "hovertemplate": "filename=1647894468645316_waagent_tld<br>I/O Size (bytes)=%{x}<br>Packets Per Second (thousand)=%{y}<br>Number of I/O operations=%{marker.size}<extra></extra>",
         "legendgroup": "1647894468645316_waagent_tld",
         "marker": {
          "color": "#FECB52",
          "size": [
           1,
           0,
           0,
           0,
           0,
           0,
           0,
           0,
           0,
           0,
           0,
           1
          ],
          "sizemode": "area",
          "sizeref": 1.635,
          "symbol": "circle"
         },
         "mode": "markers",
         "name": "1647894468645316_waagent_tld",
         "showlegend": true,
         "type": "scattergl",
         "x": [
          "0 - 0",
          "1 - 1",
          "3 - 2",
          "7 - 4",
          "15 - 8",
          "31 - 16",
          "63 - 32",
          "127 - 64",
          "255 - 128",
          "511 - 256",
          "1023 - 512",
          "2047 - 1024"
         ],
         "xaxis": "x",
         "y": [
          "10",
          "10",
          "10",
          "10",
          "10",
          "10",
          "10",
          "10",
          "10",
          "10",
          "10",
          "10"
         ],
         "yaxis": "y"
        },
        {
         "hovertemplate": "filename=1647894468645602_tmp<br>I/O Size (bytes)=%{x}<br>Packets Per Second (thousand)=%{y}<br>Number of I/O operations=%{marker.size}<extra></extra>",
         "legendgroup": "1647894468645602_tmp",
         "marker": {
          "color": "#636efa",
          "size": [
           1
          ],
          "sizemode": "area",
          "sizeref": 1.635,
          "symbol": "circle"
         },
         "mode": "markers",
         "name": "1647894468645602_tmp",
         "showlegend": true,
         "type": "scattergl",
         "x": [
          "2047 - 1024"
         ],
         "xaxis": "x",
         "y": [
          "10"
         ],
         "yaxis": "y"
        },
        {
         "hovertemplate": "filename=1647894468645602_waagent_tld<br>I/O Size (bytes)=%{x}<br>Packets Per Second (thousand)=%{y}<br>Number of I/O operations=%{marker.size}<extra></extra>",
         "legendgroup": "1647894468645602_waagent_tld",
         "marker": {
          "color": "#EF553B",
          "size": [
           1,
           0,
           0,
           0,
           0,
           0,
           0,
           0,
           0,
           0,
           0,
           1
          ],
          "sizemode": "area",
          "sizeref": 1.635,
          "symbol": "circle"
         },
         "mode": "markers",
         "name": "1647894468645602_waagent_tld",
         "showlegend": true,
         "type": "scattergl",
         "x": [
          "0 - 0",
          "1 - 1",
          "3 - 2",
          "7 - 4",
          "15 - 8",
          "31 - 16",
          "63 - 32",
          "127 - 64",
          "255 - 128",
          "511 - 256",
          "1023 - 512",
          "2047 - 1024"
         ],
         "xaxis": "x",
         "y": [
          "10",
          "10",
          "10",
          "10",
          "10",
          "10",
          "10",
          "10",
          "10",
          "10",
          "10",
          "10"
         ],
         "yaxis": "y"
        },
        {
         "hovertemplate": "filename=1647901368940533_tmp<br>I/O Size (bytes)=%{x}<br>Packets Per Second (thousand)=%{y}<br>Number of I/O operations=%{marker.size}<extra></extra>",
         "legendgroup": "1647901368940533_tmp",
         "marker": {
          "color": "#00cc96",
          "size": [
           1
          ],
          "sizemode": "area",
          "sizeref": 1.635,
          "symbol": "circle"
         },
         "mode": "markers",
         "name": "1647901368940533_tmp",
         "showlegend": true,
         "type": "scattergl",
         "x": [
          "2047 - 1024"
         ],
         "xaxis": "x",
         "y": [
          "300"
         ],
         "yaxis": "y"
        },
        {
         "hovertemplate": "filename=1647901368940775_tmp<br>I/O Size (bytes)=%{x}<br>Packets Per Second (thousand)=%{y}<br>Number of I/O operations=%{marker.size}<extra></extra>",
         "legendgroup": "1647901368940775_tmp",
         "marker": {
          "color": "#ab63fa",
          "size": [
           1
          ],
          "sizemode": "area",
          "sizeref": 1.635,
          "symbol": "circle"
         },
         "mode": "markers",
         "name": "1647901368940775_tmp",
         "showlegend": true,
         "type": "scattergl",
         "x": [
          "2047 - 1024"
         ],
         "xaxis": "x",
         "y": [
          "300"
         ],
         "yaxis": "y"
        },
        {
         "hovertemplate": "filename=1647931972366472_tmp<br>I/O Size (bytes)=%{x}<br>Packets Per Second (thousand)=%{y}<br>Number of I/O operations=%{marker.size}<extra></extra>",
         "legendgroup": "1647931972366472_tmp",
         "marker": {
          "color": "#FFA15A",
          "size": [
           1
          ],
          "sizemode": "area",
          "sizeref": 1.635,
          "symbol": "circle"
         },
         "mode": "markers",
         "name": "1647931972366472_tmp",
         "showlegend": true,
         "type": "scattergl",
         "x": [
          "2047 - 1024"
         ],
         "xaxis": "x",
         "y": [
          "500"
         ],
         "yaxis": "y"
        },
        {
         "hovertemplate": "filename=1647931972366472_waagent_tld<br>I/O Size (bytes)=%{x}<br>Packets Per Second (thousand)=%{y}<br>Number of I/O operations=%{marker.size}<extra></extra>",
         "legendgroup": "1647931972366472_waagent_tld",
         "marker": {
          "color": "#19d3f3",
          "size": [
           1,
           0,
           0,
           0,
           0,
           0,
           0,
           0,
           0,
           0,
           0,
           1
          ],
          "sizemode": "area",
          "sizeref": 1.635,
          "symbol": "circle"
         },
         "mode": "markers",
         "name": "1647931972366472_waagent_tld",
         "showlegend": true,
         "type": "scattergl",
         "x": [
          "0 - 0",
          "1 - 1",
          "3 - 2",
          "7 - 4",
          "15 - 8",
          "31 - 16",
          "63 - 32",
          "127 - 64",
          "255 - 128",
          "511 - 256",
          "1023 - 512",
          "2047 - 1024"
         ],
         "xaxis": "x",
         "y": [
          "500",
          "500",
          "500",
          "500",
          "500",
          "500",
          "500",
          "500",
          "500",
          "500",
          "500",
          "500"
         ],
         "yaxis": "y"
        },
        {
         "hovertemplate": "filename=1647931972366702_tmp<br>I/O Size (bytes)=%{x}<br>Packets Per Second (thousand)=%{y}<br>Number of I/O operations=%{marker.size}<extra></extra>",
         "legendgroup": "1647931972366702_tmp",
         "marker": {
          "color": "#FF6692",
          "size": [
           1
          ],
          "sizemode": "area",
          "sizeref": 1.635,
          "symbol": "circle"
         },
         "mode": "markers",
         "name": "1647931972366702_tmp",
         "showlegend": true,
         "type": "scattergl",
         "x": [
          "2047 - 1024"
         ],
         "xaxis": "x",
         "y": [
          "500"
         ],
         "yaxis": "y"
        },
        {
         "hovertemplate": "filename=1647931972366702_waagent_tld<br>I/O Size (bytes)=%{x}<br>Packets Per Second (thousand)=%{y}<br>Number of I/O operations=%{marker.size}<extra></extra>",
         "legendgroup": "1647931972366702_waagent_tld",
         "marker": {
          "color": "#B6E880",
          "size": [
           1,
           0,
           0,
           0,
           0,
           0,
           0,
           0,
           0,
           0,
           0,
           1
          ],
          "sizemode": "area",
          "sizeref": 1.635,
          "symbol": "circle"
         },
         "mode": "markers",
         "name": "1647931972366702_waagent_tld",
         "showlegend": true,
         "type": "scattergl",
         "x": [
          "0 - 0",
          "1 - 1",
          "3 - 2",
          "7 - 4",
          "15 - 8",
          "31 - 16",
          "63 - 32",
          "127 - 64",
          "255 - 128",
          "511 - 256",
          "1023 - 512",
          "2047 - 1024"
         ],
         "xaxis": "x",
         "y": [
          "500",
          "500",
          "500",
          "500",
          "500",
          "500",
          "500",
          "500",
          "500",
          "500",
          "500",
          "500"
         ],
         "yaxis": "y"
        },
        {
         "hovertemplate": "filename=HandlerManifest_json<br>I/O Size (bytes)=%{x}<br>Packets Per Second (thousand)=%{y}<br>Number of I/O operations=%{marker.size}<extra></extra>",
         "legendgroup": "HandlerManifest_json",
         "marker": {
          "color": "#FF97FF",
          "size": [
           10,
           0,
           0,
           0,
           0,
           0,
           0,
           0,
           0,
           10,
           10,
           0,
           0,
           0,
           0,
           0,
           0,
           0,
           0,
           10,
           10,
           0,
           0,
           0,
           0,
           0,
           0,
           0,
           0,
           10,
           10,
           0,
           0,
           0,
           0,
           0,
           0,
           0,
           0,
           10,
           10,
           0,
           0,
           0,
           0,
           0,
           0,
           0,
           0,
           10,
           10,
           0,
           0,
           0,
           0,
           0,
           0,
           0,
           0,
           10,
           10,
           0,
           0,
           0,
           0,
           0,
           0,
           0,
           0,
           10,
           10,
           0,
           0,
           0,
           0,
           0,
           0,
           0,
           0,
           10,
           10,
           0,
           0,
           0,
           0,
           0,
           0,
           0,
           0,
           10
          ],
          "sizemode": "area",
          "sizeref": 1.635,
          "symbol": "circle"
         },
         "mode": "markers",
         "name": "HandlerManifest_json",
         "showlegend": true,
         "type": "scattergl",
         "x": [
          "0 - 0",
          "1 - 1",
          "3 - 2",
          "7 - 4",
          "15 - 8",
          "31 - 16",
          "63 - 32",
          "127 - 64",
          "255 - 128",
          "511 - 256",
          "0 - 0",
          "1 - 1",
          "3 - 2",
          "7 - 4",
          "15 - 8",
          "31 - 16",
          "63 - 32",
          "127 - 64",
          "255 - 128",
          "511 - 256",
          "0 - 0",
          "1 - 1",
          "3 - 2",
          "7 - 4",
          "15 - 8",
          "31 - 16",
          "63 - 32",
          "127 - 64",
          "255 - 128",
          "511 - 256",
          "0 - 0",
          "1 - 1",
          "3 - 2",
          "7 - 4",
          "15 - 8",
          "31 - 16",
          "63 - 32",
          "127 - 64",
          "255 - 128",
          "511 - 256",
          "0 - 0",
          "1 - 1",
          "3 - 2",
          "7 - 4",
          "15 - 8",
          "31 - 16",
          "63 - 32",
          "127 - 64",
          "255 - 128",
          "511 - 256",
          "0 - 0",
          "1 - 1",
          "3 - 2",
          "7 - 4",
          "15 - 8",
          "31 - 16",
          "63 - 32",
          "127 - 64",
          "255 - 128",
          "511 - 256",
          "0 - 0",
          "1 - 1",
          "3 - 2",
          "7 - 4",
          "15 - 8",
          "31 - 16",
          "63 - 32",
          "127 - 64",
          "255 - 128",
          "511 - 256",
          "0 - 0",
          "1 - 1",
          "3 - 2",
          "7 - 4",
          "15 - 8",
          "31 - 16",
          "63 - 32",
          "127 - 64",
          "255 - 128",
          "511 - 256",
          "0 - 0",
          "1 - 1",
          "3 - 2",
          "7 - 4",
          "15 - 8",
          "31 - 16",
          "63 - 32",
          "127 - 64",
          "255 - 128",
          "511 - 256"
         ],
         "xaxis": "x",
         "y": [
          "10",
          "10",
          "10",
          "10",
          "10",
          "10",
          "10",
          "10",
          "10",
          "10",
          "500",
          "500",
          "500",
          "500",
          "500",
          "500",
          "500",
          "500",
          "500",
          "500",
          "300",
          "300",
          "300",
          "300",
          "300",
          "300",
          "300",
          "300",
          "300",
          "300",
          "600",
          "600",
          "600",
          "600",
          "600",
          "600",
          "600",
          "600",
          "600",
          "600",
          "50",
          "50",
          "50",
          "50",
          "50",
          "50",
          "50",
          "50",
          "50",
          "50",
          "100",
          "100",
          "100",
          "100",
          "100",
          "100",
          "100",
          "100",
          "100",
          "100",
          "200",
          "200",
          "200",
          "200",
          "200",
          "200",
          "200",
          "200",
          "200",
          "200",
          "400",
          "400",
          "400",
          "400",
          "400",
          "400",
          "400",
          "400",
          "400",
          "400",
          "1",
          "1",
          "1",
          "1",
          "1",
          "1",
          "1",
          "1",
          "1",
          "1"
         ],
         "yaxis": "y"
        },
        {
         "hovertemplate": "filename=HandlerState<br>I/O Size (bytes)=%{x}<br>Packets Per Second (thousand)=%{y}<br>Number of I/O operations=%{marker.size}<extra></extra>",
         "legendgroup": "HandlerState",
         "marker": {
          "color": "#FECB52",
          "size": [
           10,
           0,
           0,
           10,
           10,
           0,
           0,
           10,
           10,
           0,
           0,
           10,
           10,
           0,
           0,
           10,
           10,
           0,
           0,
           10,
           10,
           0,
           0,
           10,
           10,
           0,
           0,
           10,
           10,
           0,
           0,
           10,
           10,
           0,
           0,
           10
          ],
          "sizemode": "area",
          "sizeref": 1.635,
          "symbol": "circle"
         },
         "mode": "markers",
         "name": "HandlerState",
         "showlegend": true,
         "type": "scattergl",
         "x": [
          "0 - 0",
          "1 - 1",
          "3 - 2",
          "7 - 4",
          "0 - 0",
          "1 - 1",
          "3 - 2",
          "7 - 4",
          "0 - 0",
          "1 - 1",
          "3 - 2",
          "7 - 4",
          "0 - 0",
          "1 - 1",
          "3 - 2",
          "7 - 4",
          "0 - 0",
          "1 - 1",
          "3 - 2",
          "7 - 4",
          "0 - 0",
          "1 - 1",
          "3 - 2",
          "7 - 4",
          "0 - 0",
          "1 - 1",
          "3 - 2",
          "7 - 4",
          "0 - 0",
          "1 - 1",
          "3 - 2",
          "7 - 4",
          "0 - 0",
          "1 - 1",
          "3 - 2",
          "7 - 4"
         ],
         "xaxis": "x",
         "y": [
          "10",
          "10",
          "10",
          "10",
          "500",
          "500",
          "500",
          "500",
          "300",
          "300",
          "300",
          "300",
          "600",
          "600",
          "600",
          "600",
          "50",
          "50",
          "50",
          "50",
          "100",
          "100",
          "100",
          "100",
          "200",
          "200",
          "200",
          "200",
          "400",
          "400",
          "400",
          "400",
          "1",
          "1",
          "1",
          "1"
         ],
         "yaxis": "y"
        },
        {
         "hovertemplate": "filename=HandlerStatus<br>I/O Size (bytes)=%{x}<br>Packets Per Second (thousand)=%{y}<br>Number of I/O operations=%{marker.size}<extra></extra>",
         "legendgroup": "HandlerStatus",
         "marker": {
          "color": "#636efa",
          "size": [
           10,
           0,
           0,
           0,
           0,
           0,
           0,
           0,
           10,
           10,
           0,
           0,
           0,
           0,
           0,
           0,
           0,
           10,
           10,
           0,
           0,
           0,
           0,
           0,
           0,
           0,
           10,
           10,
           0,
           0,
           0,
           0,
           0,
           0,
           0,
           10,
           10,
           0,
           0,
           0,
           0,
           0,
           0,
           0,
           10,
           10,
           0,
           0,
           0,
           0,
           0,
           0,
           0,
           10,
           10,
           0,
           0,
           0,
           0,
           0,
           0,
           0,
           10,
           10,
           0,
           0,
           0,
           0,
           0,
           0,
           0,
           10,
           10,
           0,
           0,
           0,
           0,
           0,
           0,
           0,
           10
          ],
          "sizemode": "area",
          "sizeref": 1.635,
          "symbol": "circle"
         },
         "mode": "markers",
         "name": "HandlerStatus",
         "showlegend": true,
         "type": "scattergl",
         "x": [
          "0 - 0",
          "1 - 1",
          "3 - 2",
          "7 - 4",
          "15 - 8",
          "31 - 16",
          "63 - 32",
          "127 - 64",
          "255 - 128",
          "0 - 0",
          "1 - 1",
          "3 - 2",
          "7 - 4",
          "15 - 8",
          "31 - 16",
          "63 - 32",
          "127 - 64",
          "255 - 128",
          "0 - 0",
          "1 - 1",
          "3 - 2",
          "7 - 4",
          "15 - 8",
          "31 - 16",
          "63 - 32",
          "127 - 64",
          "255 - 128",
          "0 - 0",
          "1 - 1",
          "3 - 2",
          "7 - 4",
          "15 - 8",
          "31 - 16",
          "63 - 32",
          "127 - 64",
          "255 - 128",
          "0 - 0",
          "1 - 1",
          "3 - 2",
          "7 - 4",
          "15 - 8",
          "31 - 16",
          "63 - 32",
          "127 - 64",
          "255 - 128",
          "0 - 0",
          "1 - 1",
          "3 - 2",
          "7 - 4",
          "15 - 8",
          "31 - 16",
          "63 - 32",
          "127 - 64",
          "255 - 128",
          "0 - 0",
          "1 - 1",
          "3 - 2",
          "7 - 4",
          "15 - 8",
          "31 - 16",
          "63 - 32",
          "127 - 64",
          "255 - 128",
          "0 - 0",
          "1 - 1",
          "3 - 2",
          "7 - 4",
          "15 - 8",
          "31 - 16",
          "63 - 32",
          "127 - 64",
          "255 - 128",
          "0 - 0",
          "1 - 1",
          "3 - 2",
          "7 - 4",
          "15 - 8",
          "31 - 16",
          "63 - 32",
          "127 - 64",
          "255 - 128"
         ],
         "xaxis": "x",
         "y": [
          "10",
          "10",
          "10",
          "10",
          "10",
          "10",
          "10",
          "10",
          "10",
          "500",
          "500",
          "500",
          "500",
          "500",
          "500",
          "500",
          "500",
          "500",
          "300",
          "300",
          "300",
          "300",
          "300",
          "300",
          "300",
          "300",
          "300",
          "600",
          "600",
          "600",
          "600",
          "600",
          "600",
          "600",
          "600",
          "600",
          "50",
          "50",
          "50",
          "50",
          "50",
          "50",
          "50",
          "50",
          "50",
          "100",
          "100",
          "100",
          "100",
          "100",
          "100",
          "100",
          "100",
          "100",
          "200",
          "200",
          "200",
          "200",
          "200",
          "200",
          "200",
          "200",
          "200",
          "400",
          "400",
          "400",
          "400",
          "400",
          "400",
          "400",
          "400",
          "400",
          "1",
          "1",
          "1",
          "1",
          "1",
          "1",
          "1",
          "1",
          "1"
         ],
         "yaxis": "y"
        },
        {
         "hovertemplate": "filename=cgroup_procs<br>I/O Size (bytes)=%{x}<br>Packets Per Second (thousand)=%{y}<br>Number of I/O operations=%{marker.size}<extra></extra>",
         "legendgroup": "cgroup_procs",
         "marker": {
          "color": "#EF553B",
          "size": [
           1,
           0,
           0,
           0,
           1,
           1,
           0,
           0,
           0,
           1,
           1,
           0,
           0,
           0,
           1
          ],
          "sizemode": "area",
          "sizeref": 1.635,
          "symbol": "circle"
         },
         "mode": "markers",
         "name": "cgroup_procs",
         "showlegend": true,
         "type": "scattergl",
         "x": [
          "0 - 0",
          "1 - 1",
          "3 - 2",
          "7 - 4",
          "15 - 8",
          "0 - 0",
          "1 - 1",
          "3 - 2",
          "7 - 4",
          "15 - 8",
          "0 - 0",
          "1 - 1",
          "3 - 2",
          "7 - 4",
          "15 - 8"
         ],
         "xaxis": "x",
         "y": [
          "10",
          "10",
          "10",
          "10",
          "10",
          "500",
          "500",
          "500",
          "500",
          "500",
          "300",
          "300",
          "300",
          "300",
          "300"
         ],
         "yaxis": "y"
        },
        {
         "hovertemplate": "filename=cpu_stat<br>I/O Size (bytes)=%{x}<br>Packets Per Second (thousand)=%{y}<br>Number of I/O operations=%{marker.size}<extra></extra>",
         "legendgroup": "cpu_stat",
         "marker": {
          "color": "#00cc96",
          "size": [
           1,
           1,
           1
          ],
          "sizemode": "area",
          "sizeref": 1.635,
          "symbol": "circle"
         },
         "mode": "markers",
         "name": "cpu_stat",
         "showlegend": true,
         "type": "scattergl",
         "x": [
          "63 - 32",
          "63 - 32",
          "63 - 32"
         ],
         "xaxis": "x",
         "y": [
          "10",
          "500",
          "300"
         ],
         "yaxis": "y"
        },
        {
         "hovertemplate": "filename=cpuacct_stat<br>I/O Size (bytes)=%{x}<br>Packets Per Second (thousand)=%{y}<br>Number of I/O operations=%{marker.size}<extra></extra>",
         "legendgroup": "cpuacct_stat",
         "marker": {
          "color": "#ab63fa",
          "size": [
           1,
           0,
           0,
           0,
           0,
           1,
           1,
           0,
           0,
           0,
           0,
           1,
           1,
           0,
           0,
           0,
           0,
           1
          ],
          "sizemode": "area",
          "sizeref": 1.635,
          "symbol": "circle"
         },
         "mode": "markers",
         "name": "cpuacct_stat",
         "showlegend": true,
         "type": "scattergl",
         "x": [
          "0 - 0",
          "1 - 1",
          "3 - 2",
          "7 - 4",
          "15 - 8",
          "31 - 16",
          "0 - 0",
          "1 - 1",
          "3 - 2",
          "7 - 4",
          "15 - 8",
          "31 - 16",
          "0 - 0",
          "1 - 1",
          "3 - 2",
          "7 - 4",
          "15 - 8",
          "31 - 16"
         ],
         "xaxis": "x",
         "y": [
          "10",
          "10",
          "10",
          "10",
          "10",
          "10",
          "500",
          "500",
          "500",
          "500",
          "500",
          "500",
          "300",
          "300",
          "300",
          "300",
          "300",
          "300"
         ],
         "yaxis": "y"
        },
        {
         "hovertemplate": "filename=online<br>I/O Size (bytes)=%{x}<br>Packets Per Second (thousand)=%{y}<br>Number of I/O operations=%{marker.size}<extra></extra>",
         "legendgroup": "online",
         "marker": {
          "color": "#FFA15A",
          "size": [
           1,
           1,
           1
          ],
          "sizemode": "area",
          "sizeref": 1.635,
          "symbol": "circle"
         },
         "mode": "markers",
         "name": "online",
         "showlegend": true,
         "type": "scattergl",
         "x": [
          "7 - 4",
          "7 - 4",
          "7 - 4"
         ],
         "xaxis": "x",
         "y": [
          "10",
          "500",
          "300"
         ],
         "yaxis": "y"
        },
        {
         "hovertemplate": "filename=tasks<br>I/O Size (bytes)=%{x}<br>Packets Per Second (thousand)=%{y}<br>Number of I/O operations=%{marker.size}<extra></extra>",
         "legendgroup": "tasks",
         "marker": {
          "color": "#19d3f3",
          "size": [
           1,
           0,
           0,
           0,
           0,
           0,
           1,
           1,
           0,
           0,
           0,
           0,
           0,
           1,
           1,
           0,
           0,
           0,
           0,
           0,
           1
          ],
          "sizemode": "area",
          "sizeref": 1.635,
          "symbol": "circle"
         },
         "mode": "markers",
         "name": "tasks",
         "showlegend": true,
         "type": "scattergl",
         "x": [
          "0 - 0",
          "1 - 1",
          "3 - 2",
          "7 - 4",
          "15 - 8",
          "31 - 16",
          "63 - 32",
          "0 - 0",
          "1 - 1",
          "3 - 2",
          "7 - 4",
          "15 - 8",
          "31 - 16",
          "63 - 32",
          "0 - 0",
          "1 - 1",
          "3 - 2",
          "7 - 4",
          "15 - 8",
          "31 - 16",
          "63 - 32"
         ],
         "xaxis": "x",
         "y": [
          "10",
          "10",
          "10",
          "10",
          "10",
          "10",
          "10",
          "500",
          "500",
          "500",
          "500",
          "500",
          "500",
          "500",
          "300",
          "300",
          "300",
          "300",
          "300",
          "300",
          "300"
         ],
         "yaxis": "y"
        },
        {
         "hovertemplate": "filename=timeout<br>I/O Size (bytes)=%{x}<br>Packets Per Second (thousand)=%{y}<br>Number of I/O operations=%{marker.size}<extra></extra>",
         "legendgroup": "timeout",
         "marker": {
          "color": "#FF6692",
          "size": [
           4,
           0,
           0,
           4,
           4,
           0,
           0,
           4,
           4,
           0,
           0,
           4,
           4,
           0,
           0,
           4,
           4,
           0,
           0,
           4,
           4,
           0,
           0,
           4,
           4,
           0,
           0,
           4,
           4,
           0,
           0,
           4,
           4,
           0,
           0,
           4
          ],
          "sizemode": "area",
          "sizeref": 1.635,
          "symbol": "circle"
         },
         "mode": "markers",
         "name": "timeout",
         "showlegend": true,
         "type": "scattergl",
         "x": [
          "0 - 0",
          "1 - 1",
          "3 - 2",
          "7 - 4",
          "0 - 0",
          "1 - 1",
          "3 - 2",
          "7 - 4",
          "0 - 0",
          "1 - 1",
          "3 - 2",
          "7 - 4",
          "0 - 0",
          "1 - 1",
          "3 - 2",
          "7 - 4",
          "0 - 0",
          "1 - 1",
          "3 - 2",
          "7 - 4",
          "0 - 0",
          "1 - 1",
          "3 - 2",
          "7 - 4",
          "0 - 0",
          "1 - 1",
          "3 - 2",
          "7 - 4",
          "0 - 0",
          "1 - 1",
          "3 - 2",
          "7 - 4",
          "0 - 0",
          "1 - 1",
          "3 - 2",
          "7 - 4"
         ],
         "xaxis": "x",
         "y": [
          "10",
          "10",
          "10",
          "10",
          "500",
          "500",
          "500",
          "500",
          "300",
          "300",
          "300",
          "300",
          "600",
          "600",
          "600",
          "600",
          "50",
          "50",
          "50",
          "50",
          "100",
          "100",
          "100",
          "100",
          "200",
          "200",
          "200",
          "200",
          "400",
          "400",
          "400",
          "400",
          "1",
          "1",
          "1",
          "1"
         ],
         "yaxis": "y"
        },
        {
         "hovertemplate": "filename=waagent_pid<br>I/O Size (bytes)=%{x}<br>Packets Per Second (thousand)=%{y}<br>Number of I/O operations=%{marker.size}<extra></extra>",
         "legendgroup": "waagent_pid",
         "marker": {
          "color": "#B6E880",
          "size": [
           10,
           0,
           10,
           10,
           0,
           10,
           10,
           0,
           10,
           10,
           0,
           10,
           10,
           0,
           10,
           10,
           0,
           10,
           10,
           0,
           10,
           10,
           0,
           10,
           10,
           0,
           10
          ],
          "sizemode": "area",
          "sizeref": 1.635,
          "symbol": "circle"
         },
         "mode": "markers",
         "name": "waagent_pid",
         "showlegend": true,
         "type": "scattergl",
         "x": [
          "0 - 0",
          "1 - 1",
          "3 - 2",
          "0 - 0",
          "1 - 1",
          "3 - 2",
          "0 - 0",
          "1 - 1",
          "3 - 2",
          "0 - 0",
          "1 - 1",
          "3 - 2",
          "0 - 0",
          "1 - 1",
          "3 - 2",
          "0 - 0",
          "1 - 1",
          "3 - 2",
          "0 - 0",
          "1 - 1",
          "3 - 2",
          "0 - 0",
          "1 - 1",
          "3 - 2",
          "0 - 0",
          "1 - 1",
          "3 - 2"
         ],
         "xaxis": "x",
         "y": [
          "10",
          "10",
          "10",
          "500",
          "500",
          "500",
          "300",
          "300",
          "300",
          "600",
          "600",
          "600",
          "50",
          "50",
          "50",
          "100",
          "100",
          "100",
          "200",
          "200",
          "200",
          "400",
          "400",
          "400",
          "1",
          "1",
          "1"
         ],
         "yaxis": "y"
        },
        {
         "hovertemplate": "filename=waagent_status_2_json<br>I/O Size (bytes)=%{x}<br>Packets Per Second (thousand)=%{y}<br>Number of I/O operations=%{marker.size}<extra></extra>",
         "legendgroup": "waagent_status_2_json",
         "marker": {
          "color": "#FF97FF",
          "size": [
           10,
           10,
           10,
           10,
           10,
           10,
           10,
           10,
           10
          ],
          "sizemode": "area",
          "sizeref": 1.635,
          "symbol": "circle"
         },
         "mode": "markers",
         "name": "waagent_status_2_json",
         "showlegend": true,
         "type": "scattergl",
         "x": [
          "2047 - 1024",
          "2047 - 1024",
          "2047 - 1024",
          "2047 - 1024",
          "2047 - 1024",
          "2047 - 1024",
          "2047 - 1024",
          "2047 - 1024",
          "2047 - 1024"
         ],
         "xaxis": "x",
         "y": [
          "10",
          "500",
          "300",
          "600",
          "50",
          "100",
          "200",
          "400",
          "1"
         ],
         "yaxis": "y"
        },
        {
         "hovertemplate": "filename=UNIX<br>I/O Size (bytes)=%{x}<br>Packets Per Second (thousand)=%{y}<br>Number of I/O operations=%{marker.size}<extra></extra>",
         "legendgroup": "UNIX",
         "marker": {
          "color": "#FECB52",
          "size": [
           1,
           1,
           1,
           1,
           1
          ],
          "sizemode": "area",
          "sizeref": 1.635,
          "symbol": "circle"
         },
         "mode": "markers",
         "name": "UNIX",
         "showlegend": true,
         "type": "scattergl",
         "x": [
          "15 - 8",
          "15 - 8",
          "15 - 8",
          "15 - 8",
          "15 - 8"
         ],
         "xaxis": "x",
         "y": [
          "10",
          "500",
          "300",
          "100",
          "1"
         ],
         "yaxis": "y"
        },
        {
         "hovertemplate": "filename=active<br>I/O Size (bytes)=%{x}<br>Packets Per Second (thousand)=%{y}<br>Number of I/O operations=%{marker.size}<extra></extra>",
         "legendgroup": "active",
         "marker": {
          "color": "#636efa",
          "size": [
           5,
           0,
           0,
           0,
           0,
           0,
           0,
           0,
           0,
           0,
           3,
           2,
           5,
           0,
           0,
           0,
           0,
           0,
           0,
           0,
           0,
           0,
           3,
           2,
           5,
           0,
           0,
           0,
           0,
           0,
           0,
           0,
           0,
           0,
           3,
           2
          ],
          "sizemode": "area",
          "sizeref": 1.635,
          "symbol": "circle"
         },
         "mode": "markers",
         "name": "active",
         "showlegend": true,
         "type": "scattergl",
         "x": [
          "0 - 0",
          "1 - 1",
          "3 - 2",
          "7 - 4",
          "15 - 8",
          "31 - 16",
          "63 - 32",
          "127 - 64",
          "255 - 128",
          "511 - 256",
          "1023 - 512",
          "2047 - 1024",
          "0 - 0",
          "1 - 1",
          "3 - 2",
          "7 - 4",
          "15 - 8",
          "31 - 16",
          "63 - 32",
          "127 - 64",
          "255 - 128",
          "511 - 256",
          "1023 - 512",
          "2047 - 1024",
          "0 - 0",
          "1 - 1",
          "3 - 2",
          "7 - 4",
          "15 - 8",
          "31 - 16",
          "63 - 32",
          "127 - 64",
          "255 - 128",
          "511 - 256",
          "1023 - 512",
          "2047 - 1024"
         ],
         "xaxis": "x",
         "y": [
          "10",
          "10",
          "10",
          "10",
          "10",
          "10",
          "10",
          "10",
          "10",
          "10",
          "10",
          "10",
          "500",
          "500",
          "500",
          "500",
          "500",
          "500",
          "500",
          "500",
          "500",
          "500",
          "500",
          "500",
          "300",
          "300",
          "300",
          "300",
          "300",
          "300",
          "300",
          "300",
          "300",
          "300",
          "300",
          "300"
         ],
         "yaxis": "y"
        },
        {
         "hovertemplate": "filename=TCP<br>I/O Size (bytes)=%{x}<br>Packets Per Second (thousand)=%{y}<br>Number of I/O operations=%{marker.size}<extra></extra>",
         "legendgroup": "TCP",
         "marker": {
          "color": "#EF553B",
          "size": [
           4,
           4,
           4,
           4,
           4,
           2,
           4,
           2,
           2
          ],
          "sizemode": "area",
          "sizeref": 1.635,
          "symbol": "circle"
         },
         "mode": "markers",
         "name": "TCP",
         "showlegend": true,
         "type": "scattergl",
         "x": [
          "63 - 32",
          "63 - 32",
          "63 - 32",
          "63 - 32",
          "63 - 32",
          "63 - 32",
          "63 - 32",
          "63 - 32",
          "63 - 32"
         ],
         "xaxis": "x",
         "y": [
          "10",
          "500",
          "300",
          "600",
          "50",
          "100",
          "200",
          "400",
          "1"
         ],
         "yaxis": "y"
        },
        {
         "hovertemplate": "filename=[signalfd]<br>I/O Size (bytes)=%{x}<br>Packets Per Second (thousand)=%{y}<br>Number of I/O operations=%{marker.size}<extra></extra>",
         "legendgroup": "[signalfd]",
         "marker": {
          "color": "#00cc96",
          "size": [
           1,
           1,
           1
          ],
          "sizemode": "area",
          "sizeref": 1.635,
          "symbol": "circle"
         },
         "mode": "markers",
         "name": "[signalfd]",
         "showlegend": true,
         "type": "scattergl",
         "x": [
          "255 - 128",
          "255 - 128",
          "255 - 128"
         ],
         "xaxis": "x",
         "y": [
          "10",
          "600",
          "50"
         ],
         "yaxis": "y"
        },
        {
         "hovertemplate": "filename=cgroup<br>I/O Size (bytes)=%{x}<br>Packets Per Second (thousand)=%{y}<br>Number of I/O operations=%{marker.size}<extra></extra>",
         "legendgroup": "cgroup",
         "marker": {
          "color": "#ab63fa",
          "size": [
           5,
           0,
           0,
           0,
           0,
           0,
           0,
           0,
           1,
           4,
           4,
           0,
           0,
           0,
           0,
           0,
           0,
           0,
           0,
           4,
           3,
           0,
           0,
           0,
           0,
           0,
           0,
           0,
           0,
           3,
           4,
           0,
           0,
           0,
           0,
           0,
           0,
           0,
           1,
           3,
           3,
           0,
           0,
           0,
           0,
           0,
           0,
           0,
           1,
           2,
           5,
           0,
           0,
           0,
           0,
           0,
           0,
           0,
           0,
           5,
           3,
           0,
           0,
           0,
           0,
           0,
           0,
           0,
           0,
           3,
           4,
           0,
           0,
           0,
           0,
           0,
           0,
           0,
           0,
           4,
           5,
           0,
           0,
           0,
           0,
           0,
           0,
           0,
           0,
           5
          ],
          "sizemode": "area",
          "sizeref": 1.635,
          "symbol": "circle"
         },
         "mode": "markers",
         "name": "cgroup",
         "showlegend": true,
         "type": "scattergl",
         "x": [
          "0 - 0",
          "1 - 1",
          "3 - 2",
          "7 - 4",
          "15 - 8",
          "31 - 16",
          "63 - 32",
          "127 - 64",
          "255 - 128",
          "511 - 256",
          "0 - 0",
          "1 - 1",
          "3 - 2",
          "7 - 4",
          "15 - 8",
          "31 - 16",
          "63 - 32",
          "127 - 64",
          "255 - 128",
          "511 - 256",
          "0 - 0",
          "1 - 1",
          "3 - 2",
          "7 - 4",
          "15 - 8",
          "31 - 16",
          "63 - 32",
          "127 - 64",
          "255 - 128",
          "511 - 256",
          "0 - 0",
          "1 - 1",
          "3 - 2",
          "7 - 4",
          "15 - 8",
          "31 - 16",
          "63 - 32",
          "127 - 64",
          "255 - 128",
          "511 - 256",
          "0 - 0",
          "1 - 1",
          "3 - 2",
          "7 - 4",
          "15 - 8",
          "31 - 16",
          "63 - 32",
          "127 - 64",
          "255 - 128",
          "511 - 256",
          "0 - 0",
          "1 - 1",
          "3 - 2",
          "7 - 4",
          "15 - 8",
          "31 - 16",
          "63 - 32",
          "127 - 64",
          "255 - 128",
          "511 - 256",
          "0 - 0",
          "1 - 1",
          "3 - 2",
          "7 - 4",
          "15 - 8",
          "31 - 16",
          "63 - 32",
          "127 - 64",
          "255 - 128",
          "511 - 256",
          "0 - 0",
          "1 - 1",
          "3 - 2",
          "7 - 4",
          "15 - 8",
          "31 - 16",
          "63 - 32",
          "127 - 64",
          "255 - 128",
          "511 - 256",
          "0 - 0",
          "1 - 1",
          "3 - 2",
          "7 - 4",
          "15 - 8",
          "31 - 16",
          "63 - 32",
          "127 - 64",
          "255 - 128",
          "511 - 256"
         ],
         "xaxis": "x",
         "y": [
          "10",
          "10",
          "10",
          "10",
          "10",
          "10",
          "10",
          "10",
          "10",
          "10",
          "500",
          "500",
          "500",
          "500",
          "500",
          "500",
          "500",
          "500",
          "500",
          "500",
          "300",
          "300",
          "300",
          "300",
          "300",
          "300",
          "300",
          "300",
          "300",
          "300",
          "600",
          "600",
          "600",
          "600",
          "600",
          "600",
          "600",
          "600",
          "600",
          "600",
          "50",
          "50",
          "50",
          "50",
          "50",
          "50",
          "50",
          "50",
          "50",
          "50",
          "100",
          "100",
          "100",
          "100",
          "100",
          "100",
          "100",
          "100",
          "100",
          "100",
          "200",
          "200",
          "200",
          "200",
          "200",
          "200",
          "200",
          "200",
          "200",
          "200",
          "400",
          "400",
          "400",
          "400",
          "400",
          "400",
          "400",
          "400",
          "400",
          "400",
          "1",
          "1",
          "1",
          "1",
          "1",
          "1",
          "1",
          "1",
          "1",
          "1"
         ],
         "yaxis": "y"
        },
        {
         "hovertemplate": "filename=comm<br>I/O Size (bytes)=%{x}<br>Packets Per Second (thousand)=%{y}<br>Number of I/O operations=%{marker.size}<extra></extra>",
         "legendgroup": "comm",
         "marker": {
          "color": "#FFA15A",
          "size": [
           2,
           0,
           0,
           2,
           2,
           0,
           0,
           2,
           2,
           0,
           0,
           2
          ],
          "sizemode": "area",
          "sizeref": 1.635,
          "symbol": "circle"
         },
         "mode": "markers",
         "name": "comm",
         "showlegend": true,
         "type": "scattergl",
         "x": [
          "0 - 0",
          "1 - 1",
          "3 - 2",
          "7 - 4",
          "0 - 0",
          "1 - 1",
          "3 - 2",
          "7 - 4",
          "0 - 0",
          "1 - 1",
          "3 - 2",
          "7 - 4"
         ],
         "xaxis": "x",
         "y": [
          "10",
          "10",
          "10",
          "10",
          "600",
          "600",
          "600",
          "600",
          "50",
          "50",
          "50",
          "50"
         ],
         "yaxis": "y"
        },
        {
         "hovertemplate": "filename=[timerfd]<br>I/O Size (bytes)=%{x}<br>Packets Per Second (thousand)=%{y}<br>Number of I/O operations=%{marker.size}<extra></extra>",
         "legendgroup": "[timerfd]",
         "marker": {
          "color": "#19d3f3",
          "size": [
           1,
           1,
           1,
           1,
           1,
           1,
           1,
           1,
           1,
           1,
           1,
           1,
           1,
           1,
           1,
           1,
           1,
           1,
           1,
           1
          ],
          "sizemode": "area",
          "sizeref": 1.635,
          "symbol": "circle"
         },
         "mode": "markers",
         "name": "[timerfd]",
         "showlegend": true,
         "type": "scattergl",
         "x": [
          "15 - 8",
          "15 - 8",
          "15 - 8",
          "15 - 8",
          "15 - 8",
          "15 - 8",
          "15 - 8",
          "15 - 8",
          "15 - 8",
          "15 - 8",
          "15 - 8",
          "15 - 8",
          "15 - 8",
          "15 - 8",
          "15 - 8",
          "15 - 8",
          "15 - 8",
          "15 - 8",
          "15 - 8",
          "15 - 8"
         ],
         "xaxis": "x",
         "y": [
          "500",
          "600",
          "100",
          "200",
          "400",
          "1",
          "200",
          "10",
          "500",
          "300",
          "600",
          "50",
          "100",
          "200",
          "400",
          "1",
          "10",
          "500",
          "100",
          "400"
         ],
         "yaxis": "y"
        }
       ],
       "layout": {
        "legend": {
         "itemsizing": "constant",
         "title": {
          "text": "filename"
         },
         "tracegroupgap": 0
        },
        "template": {
         "data": {
          "bar": [
           {
            "error_x": {
             "color": "#2a3f5f"
            },
            "error_y": {
             "color": "#2a3f5f"
            },
            "marker": {
             "line": {
              "color": "#E5ECF6",
              "width": 0.5
             },
             "pattern": {
              "fillmode": "overlay",
              "size": 10,
              "solidity": 0.2
             }
            },
            "type": "bar"
           }
          ],
          "barpolar": [
           {
            "marker": {
             "line": {
              "color": "#E5ECF6",
              "width": 0.5
             },
             "pattern": {
              "fillmode": "overlay",
              "size": 10,
              "solidity": 0.2
             }
            },
            "type": "barpolar"
           }
          ],
          "carpet": [
           {
            "aaxis": {
             "endlinecolor": "#2a3f5f",
             "gridcolor": "white",
             "linecolor": "white",
             "minorgridcolor": "white",
             "startlinecolor": "#2a3f5f"
            },
            "baxis": {
             "endlinecolor": "#2a3f5f",
             "gridcolor": "white",
             "linecolor": "white",
             "minorgridcolor": "white",
             "startlinecolor": "#2a3f5f"
            },
            "type": "carpet"
           }
          ],
          "choropleth": [
           {
            "colorbar": {
             "outlinewidth": 0,
             "ticks": ""
            },
            "type": "choropleth"
           }
          ],
          "contour": [
           {
            "colorbar": {
             "outlinewidth": 0,
             "ticks": ""
            },
            "colorscale": [
             [
              0,
              "#0d0887"
             ],
             [
              0.1111111111111111,
              "#46039f"
             ],
             [
              0.2222222222222222,
              "#7201a8"
             ],
             [
              0.3333333333333333,
              "#9c179e"
             ],
             [
              0.4444444444444444,
              "#bd3786"
             ],
             [
              0.5555555555555556,
              "#d8576b"
             ],
             [
              0.6666666666666666,
              "#ed7953"
             ],
             [
              0.7777777777777778,
              "#fb9f3a"
             ],
             [
              0.8888888888888888,
              "#fdca26"
             ],
             [
              1,
              "#f0f921"
             ]
            ],
            "type": "contour"
           }
          ],
          "contourcarpet": [
           {
            "colorbar": {
             "outlinewidth": 0,
             "ticks": ""
            },
            "type": "contourcarpet"
           }
          ],
          "heatmap": [
           {
            "colorbar": {
             "outlinewidth": 0,
             "ticks": ""
            },
            "colorscale": [
             [
              0,
              "#0d0887"
             ],
             [
              0.1111111111111111,
              "#46039f"
             ],
             [
              0.2222222222222222,
              "#7201a8"
             ],
             [
              0.3333333333333333,
              "#9c179e"
             ],
             [
              0.4444444444444444,
              "#bd3786"
             ],
             [
              0.5555555555555556,
              "#d8576b"
             ],
             [
              0.6666666666666666,
              "#ed7953"
             ],
             [
              0.7777777777777778,
              "#fb9f3a"
             ],
             [
              0.8888888888888888,
              "#fdca26"
             ],
             [
              1,
              "#f0f921"
             ]
            ],
            "type": "heatmap"
           }
          ],
          "heatmapgl": [
           {
            "colorbar": {
             "outlinewidth": 0,
             "ticks": ""
            },
            "colorscale": [
             [
              0,
              "#0d0887"
             ],
             [
              0.1111111111111111,
              "#46039f"
             ],
             [
              0.2222222222222222,
              "#7201a8"
             ],
             [
              0.3333333333333333,
              "#9c179e"
             ],
             [
              0.4444444444444444,
              "#bd3786"
             ],
             [
              0.5555555555555556,
              "#d8576b"
             ],
             [
              0.6666666666666666,
              "#ed7953"
             ],
             [
              0.7777777777777778,
              "#fb9f3a"
             ],
             [
              0.8888888888888888,
              "#fdca26"
             ],
             [
              1,
              "#f0f921"
             ]
            ],
            "type": "heatmapgl"
           }
          ],
          "histogram": [
           {
            "marker": {
             "pattern": {
              "fillmode": "overlay",
              "size": 10,
              "solidity": 0.2
             }
            },
            "type": "histogram"
           }
          ],
          "histogram2d": [
           {
            "colorbar": {
             "outlinewidth": 0,
             "ticks": ""
            },
            "colorscale": [
             [
              0,
              "#0d0887"
             ],
             [
              0.1111111111111111,
              "#46039f"
             ],
             [
              0.2222222222222222,
              "#7201a8"
             ],
             [
              0.3333333333333333,
              "#9c179e"
             ],
             [
              0.4444444444444444,
              "#bd3786"
             ],
             [
              0.5555555555555556,
              "#d8576b"
             ],
             [
              0.6666666666666666,
              "#ed7953"
             ],
             [
              0.7777777777777778,
              "#fb9f3a"
             ],
             [
              0.8888888888888888,
              "#fdca26"
             ],
             [
              1,
              "#f0f921"
             ]
            ],
            "type": "histogram2d"
           }
          ],
          "histogram2dcontour": [
           {
            "colorbar": {
             "outlinewidth": 0,
             "ticks": ""
            },
            "colorscale": [
             [
              0,
              "#0d0887"
             ],
             [
              0.1111111111111111,
              "#46039f"
             ],
             [
              0.2222222222222222,
              "#7201a8"
             ],
             [
              0.3333333333333333,
              "#9c179e"
             ],
             [
              0.4444444444444444,
              "#bd3786"
             ],
             [
              0.5555555555555556,
              "#d8576b"
             ],
             [
              0.6666666666666666,
              "#ed7953"
             ],
             [
              0.7777777777777778,
              "#fb9f3a"
             ],
             [
              0.8888888888888888,
              "#fdca26"
             ],
             [
              1,
              "#f0f921"
             ]
            ],
            "type": "histogram2dcontour"
           }
          ],
          "mesh3d": [
           {
            "colorbar": {
             "outlinewidth": 0,
             "ticks": ""
            },
            "type": "mesh3d"
           }
          ],
          "parcoords": [
           {
            "line": {
             "colorbar": {
              "outlinewidth": 0,
              "ticks": ""
             }
            },
            "type": "parcoords"
           }
          ],
          "pie": [
           {
            "automargin": true,
            "type": "pie"
           }
          ],
          "scatter": [
           {
            "marker": {
             "colorbar": {
              "outlinewidth": 0,
              "ticks": ""
             }
            },
            "type": "scatter"
           }
          ],
          "scatter3d": [
           {
            "line": {
             "colorbar": {
              "outlinewidth": 0,
              "ticks": ""
             }
            },
            "marker": {
             "colorbar": {
              "outlinewidth": 0,
              "ticks": ""
             }
            },
            "type": "scatter3d"
           }
          ],
          "scattercarpet": [
           {
            "marker": {
             "colorbar": {
              "outlinewidth": 0,
              "ticks": ""
             }
            },
            "type": "scattercarpet"
           }
          ],
          "scattergeo": [
           {
            "marker": {
             "colorbar": {
              "outlinewidth": 0,
              "ticks": ""
             }
            },
            "type": "scattergeo"
           }
          ],
          "scattergl": [
           {
            "marker": {
             "colorbar": {
              "outlinewidth": 0,
              "ticks": ""
             }
            },
            "type": "scattergl"
           }
          ],
          "scattermapbox": [
           {
            "marker": {
             "colorbar": {
              "outlinewidth": 0,
              "ticks": ""
             }
            },
            "type": "scattermapbox"
           }
          ],
          "scatterpolar": [
           {
            "marker": {
             "colorbar": {
              "outlinewidth": 0,
              "ticks": ""
             }
            },
            "type": "scatterpolar"
           }
          ],
          "scatterpolargl": [
           {
            "marker": {
             "colorbar": {
              "outlinewidth": 0,
              "ticks": ""
             }
            },
            "type": "scatterpolargl"
           }
          ],
          "scatterternary": [
           {
            "marker": {
             "colorbar": {
              "outlinewidth": 0,
              "ticks": ""
             }
            },
            "type": "scatterternary"
           }
          ],
          "surface": [
           {
            "colorbar": {
             "outlinewidth": 0,
             "ticks": ""
            },
            "colorscale": [
             [
              0,
              "#0d0887"
             ],
             [
              0.1111111111111111,
              "#46039f"
             ],
             [
              0.2222222222222222,
              "#7201a8"
             ],
             [
              0.3333333333333333,
              "#9c179e"
             ],
             [
              0.4444444444444444,
              "#bd3786"
             ],
             [
              0.5555555555555556,
              "#d8576b"
             ],
             [
              0.6666666666666666,
              "#ed7953"
             ],
             [
              0.7777777777777778,
              "#fb9f3a"
             ],
             [
              0.8888888888888888,
              "#fdca26"
             ],
             [
              1,
              "#f0f921"
             ]
            ],
            "type": "surface"
           }
          ],
          "table": [
           {
            "cells": {
             "fill": {
              "color": "#EBF0F8"
             },
             "line": {
              "color": "white"
             }
            },
            "header": {
             "fill": {
              "color": "#C8D4E3"
             },
             "line": {
              "color": "white"
             }
            },
            "type": "table"
           }
          ]
         },
         "layout": {
          "annotationdefaults": {
           "arrowcolor": "#2a3f5f",
           "arrowhead": 0,
           "arrowwidth": 1
          },
          "autotypenumbers": "strict",
          "coloraxis": {
           "colorbar": {
            "outlinewidth": 0,
            "ticks": ""
           }
          },
          "colorscale": {
           "diverging": [
            [
             0,
             "#8e0152"
            ],
            [
             0.1,
             "#c51b7d"
            ],
            [
             0.2,
             "#de77ae"
            ],
            [
             0.3,
             "#f1b6da"
            ],
            [
             0.4,
             "#fde0ef"
            ],
            [
             0.5,
             "#f7f7f7"
            ],
            [
             0.6,
             "#e6f5d0"
            ],
            [
             0.7,
             "#b8e186"
            ],
            [
             0.8,
             "#7fbc41"
            ],
            [
             0.9,
             "#4d9221"
            ],
            [
             1,
             "#276419"
            ]
           ],
           "sequential": [
            [
             0,
             "#0d0887"
            ],
            [
             0.1111111111111111,
             "#46039f"
            ],
            [
             0.2222222222222222,
             "#7201a8"
            ],
            [
             0.3333333333333333,
             "#9c179e"
            ],
            [
             0.4444444444444444,
             "#bd3786"
            ],
            [
             0.5555555555555556,
             "#d8576b"
            ],
            [
             0.6666666666666666,
             "#ed7953"
            ],
            [
             0.7777777777777778,
             "#fb9f3a"
            ],
            [
             0.8888888888888888,
             "#fdca26"
            ],
            [
             1,
             "#f0f921"
            ]
           ],
           "sequentialminus": [
            [
             0,
             "#0d0887"
            ],
            [
             0.1111111111111111,
             "#46039f"
            ],
            [
             0.2222222222222222,
             "#7201a8"
            ],
            [
             0.3333333333333333,
             "#9c179e"
            ],
            [
             0.4444444444444444,
             "#bd3786"
            ],
            [
             0.5555555555555556,
             "#d8576b"
            ],
            [
             0.6666666666666666,
             "#ed7953"
            ],
            [
             0.7777777777777778,
             "#fb9f3a"
            ],
            [
             0.8888888888888888,
             "#fdca26"
            ],
            [
             1,
             "#f0f921"
            ]
           ]
          },
          "colorway": [
           "#636efa",
           "#EF553B",
           "#00cc96",
           "#ab63fa",
           "#FFA15A",
           "#19d3f3",
           "#FF6692",
           "#B6E880",
           "#FF97FF",
           "#FECB52"
          ],
          "font": {
           "color": "#2a3f5f"
          },
          "geo": {
           "bgcolor": "white",
           "lakecolor": "white",
           "landcolor": "#E5ECF6",
           "showlakes": true,
           "showland": true,
           "subunitcolor": "white"
          },
          "hoverlabel": {
           "align": "left"
          },
          "hovermode": "closest",
          "mapbox": {
           "style": "light"
          },
          "paper_bgcolor": "white",
          "plot_bgcolor": "#E5ECF6",
          "polar": {
           "angularaxis": {
            "gridcolor": "white",
            "linecolor": "white",
            "ticks": ""
           },
           "bgcolor": "#E5ECF6",
           "radialaxis": {
            "gridcolor": "white",
            "linecolor": "white",
            "ticks": ""
           }
          },
          "scene": {
           "xaxis": {
            "backgroundcolor": "#E5ECF6",
            "gridcolor": "white",
            "gridwidth": 2,
            "linecolor": "white",
            "showbackground": true,
            "ticks": "",
            "zerolinecolor": "white"
           },
           "yaxis": {
            "backgroundcolor": "#E5ECF6",
            "gridcolor": "white",
            "gridwidth": 2,
            "linecolor": "white",
            "showbackground": true,
            "ticks": "",
            "zerolinecolor": "white"
           },
           "zaxis": {
            "backgroundcolor": "#E5ECF6",
            "gridcolor": "white",
            "gridwidth": 2,
            "linecolor": "white",
            "showbackground": true,
            "ticks": "",
            "zerolinecolor": "white"
           }
          },
          "shapedefaults": {
           "line": {
            "color": "#2a3f5f"
           }
          },
          "ternary": {
           "aaxis": {
            "gridcolor": "white",
            "linecolor": "white",
            "ticks": ""
           },
           "baxis": {
            "gridcolor": "white",
            "linecolor": "white",
            "ticks": ""
           },
           "bgcolor": "#E5ECF6",
           "caxis": {
            "gridcolor": "white",
            "linecolor": "white",
            "ticks": ""
           }
          },
          "title": {
           "x": 0.05
          },
          "xaxis": {
           "automargin": true,
           "gridcolor": "white",
           "linecolor": "white",
           "ticks": "",
           "title": {
            "standoff": 15
           },
           "zerolinecolor": "white",
           "zerolinewidth": 2
          },
          "yaxis": {
           "automargin": true,
           "gridcolor": "white",
           "linecolor": "white",
           "ticks": "",
           "title": {
            "standoff": 15
           },
           "zerolinecolor": "white",
           "zerolinewidth": 2
          }
         }
        },
        "title": {
         "text": "The frequency of I/O per filename per I/O size"
        },
        "xaxis": {
         "anchor": "y",
         "domain": [
          0,
          1
         ],
         "title": {
          "text": "I/O Size (bytes)"
         }
        },
        "yaxis": {
         "anchor": "x",
         "domain": [
          0,
          1
         ],
         "title": {
          "text": "Packets Per Second (thousand)"
         }
        }
       }
      }
     },
     "metadata": {},
     "output_type": "display_data"
    },
    {
     "name": "stderr",
     "output_type": "stream",
     "text": [
      "22/03/24 02:09:32 WARN DAGScheduler: Broadcasting large task binary with size 1117.8 KiB\n",
      "                                                                                \r"
     ]
    },
    {
     "data": {
      "application/vnd.plotly.v1+json": {
       "config": {
        "plotlyServerURL": "https://plot.ly"
       },
       "data": [
        {
         "alignmentgroup": "True",
         "hovertemplate": "Packets Per Second (thousand)=10<br>I/O Size (bytes)=%{x}<br>Number of I/O operations=%{y}<extra></extra>",
         "legendgroup": "10",
         "marker": {
          "color": "#636efa",
          "pattern": {
           "shape": ""
          }
         },
         "name": "10",
         "offsetgroup": "10",
         "orientation": "v",
         "showlegend": true,
         "textposition": "auto",
         "type": "bar",
         "x": [
          "7 - 4",
          "15 - 8",
          "31 - 16",
          "0 - 0",
          "1 - 1",
          "3 - 2",
          "7 - 4",
          "15 - 8",
          "31 - 16",
          "63 - 32",
          "127 - 64",
          "255 - 128",
          "511 - 256",
          "1023 - 512",
          "2047 - 1024",
          "4095 - 2048",
          "8191 - 4096",
          "16383 - 8192",
          "32767 - 16384",
          "65535 - 32768",
          "131071 - 65536",
          "262143 - 131072",
          "524287 - 262144",
          "1048575 - 524288",
          "8191 - 4096",
          "31 - 16",
          "63 - 32",
          "127 - 64",
          "255 - 128",
          "511 - 256",
          "1023 - 512",
          "1023 - 512",
          "1023 - 512",
          "1023 - 512",
          "1023 - 512",
          "1023 - 512",
          "1023 - 512",
          "1023 - 512",
          "0 - 0",
          "1 - 1",
          "3 - 2",
          "7 - 4",
          "15 - 8",
          "31 - 16",
          "63 - 32",
          "127 - 64",
          "255 - 128",
          "511 - 256",
          "4095 - 2048",
          "2047 - 1024",
          "7 - 4",
          "1023 - 512",
          "2047 - 1024",
          "15 - 8",
          "15 - 8",
          "15 - 8",
          "15 - 8",
          "15 - 8",
          "15 - 8",
          "15 - 8",
          "15 - 8",
          "15 - 8",
          "15 - 8",
          "15 - 8",
          "15 - 8",
          "15 - 8",
          "15 - 8",
          "15 - 8",
          "15 - 8",
          "15 - 8",
          "0 - 0",
          "1 - 1",
          "3 - 2",
          "7 - 4",
          "15 - 8",
          "31 - 16",
          "63 - 32",
          "127 - 64",
          "255 - 128",
          "511 - 256",
          "2047 - 1024",
          "0 - 0",
          "1 - 1",
          "3 - 2",
          "7 - 4",
          "15 - 8",
          "31 - 16",
          "63 - 32",
          "127 - 64",
          "255 - 128",
          "511 - 256",
          "1023 - 512",
          "2047 - 1024",
          "2047 - 1024",
          "0 - 0",
          "1 - 1",
          "3 - 2",
          "7 - 4",
          "15 - 8",
          "31 - 16",
          "63 - 32",
          "127 - 64",
          "255 - 128",
          "511 - 256",
          "1023 - 512",
          "2047 - 1024",
          "0 - 0",
          "1 - 1",
          "3 - 2",
          "7 - 4",
          "15 - 8",
          "31 - 16",
          "0 - 0",
          "1 - 1",
          "3 - 2",
          "7 - 4",
          "15 - 8",
          "31 - 16",
          "63 - 32",
          "127 - 64",
          "255 - 128",
          "511 - 256",
          "0 - 0",
          "1 - 1",
          "3 - 2",
          "7 - 4",
          "0 - 0",
          "1 - 1",
          "3 - 2",
          "7 - 4",
          "15 - 8",
          "31 - 16",
          "63 - 32",
          "127 - 64",
          "255 - 128",
          "0 - 0",
          "1 - 1",
          "3 - 2",
          "7 - 4",
          "15 - 8",
          "63 - 32",
          "0 - 0",
          "1 - 1",
          "3 - 2",
          "7 - 4",
          "15 - 8",
          "31 - 16",
          "7 - 4",
          "0 - 0",
          "1 - 1",
          "3 - 2",
          "7 - 4",
          "15 - 8",
          "31 - 16",
          "63 - 32",
          "127 - 64",
          "255 - 128",
          "511 - 256",
          "1023 - 512",
          "2047 - 1024",
          "0 - 0",
          "1 - 1",
          "3 - 2",
          "7 - 4",
          "15 - 8",
          "31 - 16",
          "63 - 32",
          "0 - 0",
          "1 - 1",
          "3 - 2",
          "7 - 4",
          "0 - 0",
          "1 - 1",
          "3 - 2",
          "2047 - 1024",
          "15 - 8",
          "0 - 0",
          "1 - 1",
          "3 - 2",
          "7 - 4",
          "15 - 8",
          "31 - 16",
          "63 - 32",
          "127 - 64",
          "255 - 128",
          "511 - 256",
          "1023 - 512",
          "2047 - 1024",
          "0 - 0",
          "63 - 32",
          "255 - 128",
          "0 - 0",
          "1 - 1",
          "3 - 2",
          "7 - 4",
          "15 - 8",
          "31 - 16",
          "63 - 32",
          "127 - 64",
          "255 - 128",
          "511 - 256",
          "0 - 0",
          "1 - 1",
          "3 - 2",
          "7 - 4",
          "15 - 8",
          "15 - 8"
         ],
         "xaxis": "x",
         "y": [
          24,
          0,
          23,
          316,
          0,
          0,
          0,
          0,
          0,
          0,
          0,
          0,
          0,
          0,
          0,
          0,
          0,
          0,
          0,
          0,
          0,
          0,
          0,
          316,
          654,
          2,
          8,
          8,
          0,
          0,
          12,
          4,
          4,
          4,
          2,
          2,
          2,
          4,
          2,
          0,
          0,
          0,
          0,
          0,
          0,
          0,
          0,
          2,
          2,
          66,
          42,
          6,
          6,
          1,
          1,
          1,
          1,
          1,
          1,
          1,
          1,
          1,
          1,
          1,
          1,
          1,
          1,
          1,
          1,
          16,
          10,
          0,
          0,
          0,
          0,
          0,
          0,
          0,
          0,
          10,
          1,
          1,
          0,
          0,
          0,
          0,
          0,
          0,
          0,
          0,
          0,
          0,
          1,
          1,
          1,
          0,
          0,
          0,
          0,
          0,
          0,
          0,
          0,
          0,
          0,
          1,
          12,
          0,
          0,
          0,
          0,
          2,
          10,
          0,
          0,
          0,
          0,
          0,
          0,
          0,
          0,
          10,
          10,
          0,
          0,
          10,
          10,
          0,
          0,
          0,
          0,
          0,
          0,
          0,
          10,
          1,
          0,
          0,
          0,
          1,
          1,
          1,
          0,
          0,
          0,
          0,
          1,
          1,
          1,
          0,
          0,
          0,
          0,
          0,
          0,
          0,
          0,
          0,
          0,
          1,
          1,
          0,
          0,
          0,
          0,
          0,
          1,
          4,
          0,
          0,
          4,
          10,
          0,
          10,
          10,
          1,
          5,
          0,
          0,
          0,
          0,
          0,
          0,
          0,
          0,
          0,
          3,
          2,
          1,
          4,
          1,
          5,
          0,
          0,
          0,
          0,
          0,
          0,
          0,
          1,
          4,
          2,
          0,
          0,
          2,
          1,
          1
         ],
         "yaxis": "y"
        },
        {
         "alignmentgroup": "True",
         "hovertemplate": "Packets Per Second (thousand)=500<br>I/O Size (bytes)=%{x}<br>Number of I/O operations=%{y}<extra></extra>",
         "legendgroup": "500",
         "marker": {
          "color": "#EF553B",
          "pattern": {
           "shape": ""
          }
         },
         "name": "500",
         "offsetgroup": "500",
         "orientation": "v",
         "showlegend": true,
         "textposition": "auto",
         "type": "bar",
         "x": [
          "7 - 4",
          "15 - 8",
          "31 - 16",
          "0 - 0",
          "1 - 1",
          "3 - 2",
          "7 - 4",
          "15 - 8",
          "31 - 16",
          "63 - 32",
          "127 - 64",
          "255 - 128",
          "511 - 256",
          "1023 - 512",
          "2047 - 1024",
          "4095 - 2048",
          "8191 - 4096",
          "16383 - 8192",
          "32767 - 16384",
          "65535 - 32768",
          "131071 - 65536",
          "262143 - 131072",
          "524287 - 262144",
          "1048575 - 524288",
          "8191 - 4096",
          "31 - 16",
          "63 - 32",
          "127 - 64",
          "255 - 128",
          "511 - 256",
          "1023 - 512",
          "1023 - 512",
          "1023 - 512",
          "1023 - 512",
          "1023 - 512",
          "1023 - 512",
          "1023 - 512",
          "1023 - 512",
          "0 - 0",
          "1 - 1",
          "3 - 2",
          "7 - 4",
          "15 - 8",
          "31 - 16",
          "63 - 32",
          "127 - 64",
          "255 - 128",
          "511 - 256",
          "4095 - 2048",
          "2047 - 1024",
          "7 - 4",
          "1023 - 512",
          "2047 - 1024",
          "15 - 8",
          "15 - 8",
          "15 - 8",
          "15 - 8",
          "15 - 8",
          "15 - 8",
          "15 - 8",
          "15 - 8",
          "15 - 8",
          "15 - 8",
          "15 - 8",
          "15 - 8",
          "15 - 8",
          "15 - 8",
          "15 - 8",
          "15 - 8",
          "15 - 8",
          "15 - 8",
          "0 - 0",
          "1 - 1",
          "3 - 2",
          "7 - 4",
          "15 - 8",
          "31 - 16",
          "63 - 32",
          "127 - 64",
          "255 - 128",
          "511 - 256",
          "2047 - 1024",
          "0 - 0",
          "1 - 1",
          "3 - 2",
          "7 - 4",
          "15 - 8",
          "31 - 16",
          "63 - 32",
          "127 - 64",
          "255 - 128",
          "511 - 256",
          "1023 - 512",
          "2047 - 1024",
          "2047 - 1024",
          "0 - 0",
          "1 - 1",
          "3 - 2",
          "7 - 4",
          "15 - 8",
          "31 - 16",
          "63 - 32",
          "127 - 64",
          "255 - 128",
          "511 - 256",
          "1023 - 512",
          "2047 - 1024",
          "0 - 0",
          "1 - 1",
          "3 - 2",
          "7 - 4",
          "15 - 8",
          "31 - 16",
          "0 - 0",
          "1 - 1",
          "3 - 2",
          "7 - 4",
          "15 - 8",
          "31 - 16",
          "63 - 32",
          "127 - 64",
          "255 - 128",
          "511 - 256",
          "0 - 0",
          "1 - 1",
          "3 - 2",
          "7 - 4",
          "0 - 0",
          "1 - 1",
          "3 - 2",
          "7 - 4",
          "15 - 8",
          "31 - 16",
          "63 - 32",
          "127 - 64",
          "255 - 128",
          "0 - 0",
          "1 - 1",
          "3 - 2",
          "7 - 4",
          "15 - 8",
          "63 - 32",
          "0 - 0",
          "1 - 1",
          "3 - 2",
          "7 - 4",
          "15 - 8",
          "31 - 16",
          "7 - 4",
          "0 - 0",
          "1 - 1",
          "3 - 2",
          "7 - 4",
          "15 - 8",
          "31 - 16",
          "63 - 32",
          "127 - 64",
          "255 - 128",
          "511 - 256",
          "1023 - 512",
          "2047 - 1024",
          "0 - 0",
          "1 - 1",
          "3 - 2",
          "7 - 4",
          "15 - 8",
          "31 - 16",
          "63 - 32",
          "0 - 0",
          "1 - 1",
          "3 - 2",
          "7 - 4",
          "0 - 0",
          "1 - 1",
          "3 - 2",
          "2047 - 1024",
          "15 - 8",
          "0 - 0",
          "1 - 1",
          "3 - 2",
          "7 - 4",
          "15 - 8",
          "31 - 16",
          "63 - 32",
          "127 - 64",
          "255 - 128",
          "511 - 256",
          "1023 - 512",
          "2047 - 1024",
          "63 - 32",
          "0 - 0",
          "1 - 1",
          "3 - 2",
          "7 - 4",
          "15 - 8",
          "31 - 16",
          "63 - 32",
          "127 - 64",
          "255 - 128",
          "511 - 256",
          "15 - 8",
          "15 - 8",
          "15 - 8",
          "15 - 8"
         ],
         "xaxis": "x",
         "y": [
          24,
          0,
          23,
          316,
          0,
          0,
          0,
          0,
          0,
          0,
          0,
          0,
          0,
          0,
          0,
          0,
          0,
          0,
          0,
          0,
          0,
          0,
          0,
          316,
          654,
          2,
          8,
          8,
          0,
          0,
          12,
          4,
          4,
          4,
          2,
          2,
          2,
          4,
          2,
          0,
          0,
          0,
          0,
          0,
          0,
          0,
          0,
          2,
          2,
          66,
          42,
          6,
          6,
          1,
          1,
          1,
          1,
          1,
          1,
          1,
          1,
          1,
          1,
          1,
          1,
          1,
          1,
          1,
          1,
          16,
          1,
          10,
          0,
          0,
          0,
          0,
          0,
          0,
          0,
          0,
          10,
          1,
          1,
          0,
          0,
          0,
          0,
          0,
          0,
          0,
          0,
          0,
          0,
          1,
          1,
          1,
          0,
          0,
          0,
          0,
          0,
          0,
          0,
          0,
          0,
          0,
          1,
          12,
          0,
          0,
          0,
          0,
          2,
          10,
          0,
          0,
          0,
          0,
          0,
          0,
          0,
          0,
          10,
          10,
          0,
          0,
          10,
          10,
          0,
          0,
          0,
          0,
          0,
          0,
          0,
          10,
          1,
          0,
          0,
          0,
          1,
          1,
          1,
          0,
          0,
          0,
          0,
          1,
          1,
          1,
          0,
          0,
          0,
          0,
          0,
          0,
          0,
          0,
          0,
          0,
          1,
          1,
          0,
          0,
          0,
          0,
          0,
          1,
          4,
          0,
          0,
          4,
          10,
          0,
          10,
          10,
          1,
          5,
          0,
          0,
          0,
          0,
          0,
          0,
          0,
          0,
          0,
          3,
          2,
          4,
          4,
          0,
          0,
          0,
          0,
          0,
          0,
          0,
          0,
          4,
          1,
          1,
          1,
          1
         ],
         "yaxis": "y"
        },
        {
         "alignmentgroup": "True",
         "hovertemplate": "Packets Per Second (thousand)=300<br>I/O Size (bytes)=%{x}<br>Number of I/O operations=%{y}<extra></extra>",
         "legendgroup": "300",
         "marker": {
          "color": "#00cc96",
          "pattern": {
           "shape": ""
          }
         },
         "name": "300",
         "offsetgroup": "300",
         "orientation": "v",
         "showlegend": true,
         "textposition": "auto",
         "type": "bar",
         "x": [
          "7 - 4",
          "15 - 8",
          "31 - 16",
          "0 - 0",
          "1 - 1",
          "3 - 2",
          "7 - 4",
          "15 - 8",
          "31 - 16",
          "63 - 32",
          "127 - 64",
          "255 - 128",
          "511 - 256",
          "1023 - 512",
          "2047 - 1024",
          "4095 - 2048",
          "8191 - 4096",
          "16383 - 8192",
          "32767 - 16384",
          "65535 - 32768",
          "131071 - 65536",
          "262143 - 131072",
          "524287 - 262144",
          "1048575 - 524288",
          "8191 - 4096",
          "31 - 16",
          "63 - 32",
          "127 - 64",
          "255 - 128",
          "511 - 256",
          "1023 - 512",
          "1023 - 512",
          "1023 - 512",
          "1023 - 512",
          "1023 - 512",
          "1023 - 512",
          "1023 - 512",
          "1023 - 512",
          "0 - 0",
          "1 - 1",
          "3 - 2",
          "7 - 4",
          "15 - 8",
          "31 - 16",
          "63 - 32",
          "127 - 64",
          "255 - 128",
          "511 - 256",
          "4095 - 2048",
          "2047 - 1024",
          "7 - 4",
          "1023 - 512",
          "2047 - 1024",
          "15 - 8",
          "15 - 8",
          "15 - 8",
          "15 - 8",
          "15 - 8",
          "15 - 8",
          "15 - 8",
          "15 - 8",
          "15 - 8",
          "15 - 8",
          "15 - 8",
          "15 - 8",
          "15 - 8",
          "15 - 8",
          "15 - 8",
          "15 - 8",
          "15 - 8",
          "15 - 8",
          "0 - 0",
          "1 - 1",
          "3 - 2",
          "7 - 4",
          "15 - 8",
          "31 - 16",
          "63 - 32",
          "127 - 64",
          "255 - 128",
          "511 - 256",
          "2047 - 1024",
          "2047 - 1024",
          "0 - 0",
          "1 - 1",
          "3 - 2",
          "7 - 4",
          "15 - 8",
          "31 - 16",
          "0 - 0",
          "1 - 1",
          "3 - 2",
          "7 - 4",
          "15 - 8",
          "31 - 16",
          "63 - 32",
          "127 - 64",
          "255 - 128",
          "511 - 256",
          "0 - 0",
          "1 - 1",
          "3 - 2",
          "7 - 4",
          "0 - 0",
          "1 - 1",
          "3 - 2",
          "7 - 4",
          "15 - 8",
          "31 - 16",
          "63 - 32",
          "127 - 64",
          "255 - 128",
          "0 - 0",
          "1 - 1",
          "3 - 2",
          "7 - 4",
          "15 - 8",
          "63 - 32",
          "0 - 0",
          "1 - 1",
          "3 - 2",
          "7 - 4",
          "15 - 8",
          "31 - 16",
          "7 - 4",
          "0 - 0",
          "1 - 1",
          "3 - 2",
          "7 - 4",
          "15 - 8",
          "31 - 16",
          "63 - 32",
          "127 - 64",
          "255 - 128",
          "511 - 256",
          "1023 - 512",
          "2047 - 1024",
          "0 - 0",
          "1 - 1",
          "3 - 2",
          "7 - 4",
          "15 - 8",
          "31 - 16",
          "63 - 32",
          "0 - 0",
          "1 - 1",
          "3 - 2",
          "7 - 4",
          "0 - 0",
          "1 - 1",
          "3 - 2",
          "2047 - 1024",
          "15 - 8",
          "0 - 0",
          "1 - 1",
          "3 - 2",
          "7 - 4",
          "15 - 8",
          "31 - 16",
          "63 - 32",
          "127 - 64",
          "255 - 128",
          "511 - 256",
          "1023 - 512",
          "2047 - 1024",
          "63 - 32",
          "0 - 0",
          "1 - 1",
          "3 - 2",
          "7 - 4",
          "15 - 8",
          "31 - 16",
          "63 - 32",
          "127 - 64",
          "255 - 128",
          "511 - 256",
          "15 - 8",
          "15 - 8"
         ],
         "xaxis": "x",
         "y": [
          24,
          0,
          23,
          316,
          0,
          0,
          0,
          0,
          0,
          0,
          0,
          0,
          0,
          0,
          0,
          0,
          0,
          0,
          0,
          0,
          0,
          0,
          0,
          316,
          654,
          2,
          8,
          8,
          0,
          0,
          12,
          4,
          4,
          4,
          2,
          2,
          2,
          4,
          2,
          0,
          0,
          0,
          0,
          0,
          0,
          0,
          0,
          2,
          2,
          66,
          42,
          6,
          6,
          1,
          1,
          1,
          1,
          1,
          1,
          1,
          1,
          1,
          1,
          1,
          1,
          1,
          1,
          1,
          1,
          16,
          1,
          10,
          0,
          0,
          0,
          0,
          0,
          0,
          0,
          0,
          10,
          1,
          1,
          12,
          0,
          0,
          0,
          0,
          2,
          10,
          0,
          0,
          0,
          0,
          0,
          0,
          0,
          0,
          10,
          10,
          0,
          0,
          10,
          10,
          0,
          0,
          0,
          0,
          0,
          0,
          0,
          10,
          1,
          0,
          0,
          0,
          1,
          1,
          1,
          0,
          0,
          0,
          0,
          1,
          1,
          1,
          0,
          0,
          0,
          0,
          0,
          0,
          0,
          0,
          0,
          0,
          1,
          1,
          0,
          0,
          0,
          0,
          0,
          1,
          4,
          0,
          0,
          4,
          10,
          0,
          10,
          10,
          1,
          5,
          0,
          0,
          0,
          0,
          0,
          0,
          0,
          0,
          0,
          3,
          2,
          4,
          3,
          0,
          0,
          0,
          0,
          0,
          0,
          0,
          0,
          3,
          1,
          1
         ],
         "yaxis": "y"
        },
        {
         "alignmentgroup": "True",
         "hovertemplate": "Packets Per Second (thousand)=600<br>I/O Size (bytes)=%{x}<br>Number of I/O operations=%{y}<extra></extra>",
         "legendgroup": "600",
         "marker": {
          "color": "#ab63fa",
          "pattern": {
           "shape": ""
          }
         },
         "name": "600",
         "offsetgroup": "600",
         "orientation": "v",
         "showlegend": true,
         "textposition": "auto",
         "type": "bar",
         "x": [
          "7 - 4",
          "15 - 8",
          "31 - 16",
          "0 - 0",
          "1 - 1",
          "3 - 2",
          "7 - 4",
          "15 - 8",
          "31 - 16",
          "63 - 32",
          "127 - 64",
          "255 - 128",
          "511 - 256",
          "1023 - 512",
          "2047 - 1024",
          "4095 - 2048",
          "8191 - 4096",
          "16383 - 8192",
          "32767 - 16384",
          "65535 - 32768",
          "131071 - 65536",
          "262143 - 131072",
          "524287 - 262144",
          "1048575 - 524288",
          "8191 - 4096",
          "31 - 16",
          "63 - 32",
          "127 - 64",
          "255 - 128",
          "511 - 256",
          "1023 - 512",
          "1023 - 512",
          "1023 - 512",
          "1023 - 512",
          "1023 - 512",
          "1023 - 512",
          "1023 - 512",
          "1023 - 512",
          "0 - 0",
          "1 - 1",
          "3 - 2",
          "7 - 4",
          "15 - 8",
          "31 - 16",
          "63 - 32",
          "127 - 64",
          "255 - 128",
          "511 - 256",
          "4095 - 2048",
          "2047 - 1024",
          "7 - 4",
          "1023 - 512",
          "2047 - 1024",
          "15 - 8",
          "15 - 8",
          "15 - 8",
          "15 - 8",
          "15 - 8",
          "15 - 8",
          "15 - 8",
          "15 - 8",
          "15 - 8",
          "15 - 8",
          "15 - 8",
          "15 - 8",
          "15 - 8",
          "15 - 8",
          "15 - 8",
          "15 - 8",
          "15 - 8",
          "0 - 0",
          "1 - 1",
          "3 - 2",
          "7 - 4",
          "15 - 8",
          "31 - 16",
          "63 - 32",
          "127 - 64",
          "255 - 128",
          "511 - 256",
          "0 - 0",
          "1 - 1",
          "3 - 2",
          "7 - 4",
          "15 - 8",
          "31 - 16",
          "0 - 0",
          "1 - 1",
          "3 - 2",
          "7 - 4",
          "15 - 8",
          "31 - 16",
          "63 - 32",
          "127 - 64",
          "255 - 128",
          "511 - 256",
          "0 - 0",
          "1 - 1",
          "3 - 2",
          "7 - 4",
          "0 - 0",
          "1 - 1",
          "3 - 2",
          "7 - 4",
          "15 - 8",
          "31 - 16",
          "63 - 32",
          "127 - 64",
          "255 - 128",
          "0 - 0",
          "1 - 1",
          "3 - 2",
          "7 - 4",
          "0 - 0",
          "1 - 1",
          "3 - 2",
          "2047 - 1024",
          "0 - 0",
          "63 - 32",
          "255 - 128",
          "0 - 0",
          "1 - 1",
          "3 - 2",
          "7 - 4",
          "15 - 8",
          "31 - 16",
          "63 - 32",
          "127 - 64",
          "255 - 128",
          "511 - 256",
          "0 - 0",
          "1 - 1",
          "3 - 2",
          "7 - 4",
          "15 - 8",
          "15 - 8"
         ],
         "xaxis": "x",
         "y": [
          24,
          0,
          23,
          316,
          0,
          0,
          0,
          0,
          0,
          0,
          0,
          0,
          0,
          0,
          0,
          0,
          0,
          0,
          0,
          0,
          0,
          0,
          0,
          316,
          654,
          2,
          8,
          8,
          0,
          0,
          12,
          4,
          4,
          4,
          2,
          2,
          2,
          4,
          2,
          0,
          0,
          0,
          0,
          0,
          0,
          0,
          0,
          2,
          2,
          66,
          42,
          6,
          6,
          1,
          1,
          1,
          1,
          1,
          1,
          1,
          1,
          1,
          1,
          1,
          1,
          1,
          1,
          1,
          1,
          16,
          10,
          0,
          0,
          0,
          0,
          0,
          0,
          0,
          0,
          10,
          12,
          0,
          0,
          0,
          0,
          2,
          10,
          0,
          0,
          0,
          0,
          0,
          0,
          0,
          0,
          10,
          10,
          0,
          0,
          10,
          10,
          0,
          0,
          0,
          0,
          0,
          0,
          0,
          10,
          4,
          0,
          0,
          4,
          10,
          0,
          10,
          10,
          1,
          4,
          1,
          4,
          0,
          0,
          0,
          0,
          0,
          0,
          0,
          1,
          3,
          2,
          0,
          0,
          2,
          1,
          1
         ],
         "yaxis": "y"
        },
        {
         "alignmentgroup": "True",
         "hovertemplate": "Packets Per Second (thousand)=50<br>I/O Size (bytes)=%{x}<br>Number of I/O operations=%{y}<extra></extra>",
         "legendgroup": "50",
         "marker": {
          "color": "#FFA15A",
          "pattern": {
           "shape": ""
          }
         },
         "name": "50",
         "offsetgroup": "50",
         "orientation": "v",
         "showlegend": true,
         "textposition": "auto",
         "type": "bar",
         "x": [
          "7 - 4",
          "15 - 8",
          "31 - 16",
          "0 - 0",
          "1 - 1",
          "3 - 2",
          "7 - 4",
          "15 - 8",
          "31 - 16",
          "63 - 32",
          "127 - 64",
          "255 - 128",
          "511 - 256",
          "1023 - 512",
          "2047 - 1024",
          "4095 - 2048",
          "8191 - 4096",
          "16383 - 8192",
          "32767 - 16384",
          "65535 - 32768",
          "131071 - 65536",
          "262143 - 131072",
          "524287 - 262144",
          "1048575 - 524288",
          "8191 - 4096",
          "31 - 16",
          "63 - 32",
          "127 - 64",
          "255 - 128",
          "511 - 256",
          "1023 - 512",
          "1023 - 512",
          "1023 - 512",
          "1023 - 512",
          "1023 - 512",
          "1023 - 512",
          "1023 - 512",
          "1023 - 512",
          "0 - 0",
          "1 - 1",
          "3 - 2",
          "7 - 4",
          "15 - 8",
          "31 - 16",
          "63 - 32",
          "127 - 64",
          "255 - 128",
          "511 - 256",
          "4095 - 2048",
          "2047 - 1024",
          "7 - 4",
          "1023 - 512",
          "2047 - 1024",
          "15 - 8",
          "15 - 8",
          "15 - 8",
          "15 - 8",
          "15 - 8",
          "15 - 8",
          "15 - 8",
          "15 - 8",
          "15 - 8",
          "15 - 8",
          "15 - 8",
          "15 - 8",
          "15 - 8",
          "15 - 8",
          "15 - 8",
          "15 - 8",
          "15 - 8",
          "0 - 0",
          "1 - 1",
          "3 - 2",
          "7 - 4",
          "15 - 8",
          "31 - 16",
          "63 - 32",
          "127 - 64",
          "255 - 128",
          "511 - 256",
          "0 - 0",
          "1 - 1",
          "3 - 2",
          "7 - 4",
          "15 - 8",
          "31 - 16",
          "0 - 0",
          "1 - 1",
          "3 - 2",
          "7 - 4",
          "15 - 8",
          "31 - 16",
          "63 - 32",
          "127 - 64",
          "255 - 128",
          "511 - 256",
          "0 - 0",
          "1 - 1",
          "3 - 2",
          "7 - 4",
          "0 - 0",
          "1 - 1",
          "3 - 2",
          "7 - 4",
          "15 - 8",
          "31 - 16",
          "63 - 32",
          "127 - 64",
          "255 - 128",
          "0 - 0",
          "1 - 1",
          "3 - 2",
          "7 - 4",
          "0 - 0",
          "1 - 1",
          "3 - 2",
          "2047 - 1024",
          "0 - 0",
          "63 - 32",
          "255 - 128",
          "0 - 0",
          "1 - 1",
          "3 - 2",
          "7 - 4",
          "15 - 8",
          "31 - 16",
          "63 - 32",
          "127 - 64",
          "255 - 128",
          "511 - 256",
          "0 - 0",
          "1 - 1",
          "3 - 2",
          "7 - 4",
          "15 - 8"
         ],
         "xaxis": "x",
         "y": [
          24,
          0,
          23,
          316,
          0,
          0,
          0,
          0,
          0,
          0,
          0,
          0,
          0,
          0,
          0,
          0,
          0,
          0,
          0,
          0,
          0,
          0,
          0,
          316,
          654,
          2,
          8,
          8,
          0,
          0,
          12,
          4,
          4,
          4,
          2,
          2,
          2,
          4,
          2,
          0,
          0,
          0,
          0,
          0,
          0,
          0,
          0,
          2,
          2,
          66,
          42,
          6,
          6,
          1,
          1,
          1,
          1,
          1,
          1,
          1,
          1,
          1,
          1,
          1,
          1,
          1,
          1,
          1,
          1,
          16,
          10,
          0,
          0,
          0,
          0,
          0,
          0,
          0,
          0,
          10,
          12,
          0,
          0,
          0,
          0,
          2,
          10,
          0,
          0,
          0,
          0,
          0,
          0,
          0,
          0,
          10,
          10,
          0,
          0,
          10,
          10,
          0,
          0,
          0,
          0,
          0,
          0,
          0,
          10,
          4,
          0,
          0,
          4,
          10,
          0,
          10,
          10,
          1,
          4,
          1,
          3,
          0,
          0,
          0,
          0,
          0,
          0,
          0,
          1,
          2,
          2,
          0,
          0,
          2,
          1
         ],
         "yaxis": "y"
        },
        {
         "alignmentgroup": "True",
         "hovertemplate": "Packets Per Second (thousand)=100<br>I/O Size (bytes)=%{x}<br>Number of I/O operations=%{y}<extra></extra>",
         "legendgroup": "100",
         "marker": {
          "color": "#19d3f3",
          "pattern": {
           "shape": ""
          }
         },
         "name": "100",
         "offsetgroup": "100",
         "orientation": "v",
         "showlegend": true,
         "textposition": "auto",
         "type": "bar",
         "x": [
          "7 - 4",
          "15 - 8",
          "31 - 16",
          "0 - 0",
          "1 - 1",
          "3 - 2",
          "7 - 4",
          "15 - 8",
          "31 - 16",
          "63 - 32",
          "127 - 64",
          "255 - 128",
          "511 - 256",
          "1023 - 512",
          "2047 - 1024",
          "4095 - 2048",
          "8191 - 4096",
          "16383 - 8192",
          "32767 - 16384",
          "65535 - 32768",
          "131071 - 65536",
          "262143 - 131072",
          "524287 - 262144",
          "1048575 - 524288",
          "8191 - 4096",
          "31 - 16",
          "63 - 32",
          "127 - 64",
          "255 - 128",
          "511 - 256",
          "1023 - 512",
          "1023 - 512",
          "1023 - 512",
          "1023 - 512",
          "1023 - 512",
          "1023 - 512",
          "1023 - 512",
          "1023 - 512",
          "0 - 0",
          "1 - 1",
          "3 - 2",
          "7 - 4",
          "15 - 8",
          "31 - 16",
          "63 - 32",
          "127 - 64",
          "255 - 128",
          "511 - 256",
          "4095 - 2048",
          "2047 - 1024",
          "7 - 4",
          "1023 - 512",
          "2047 - 1024",
          "15 - 8",
          "15 - 8",
          "15 - 8",
          "15 - 8",
          "15 - 8",
          "15 - 8",
          "15 - 8",
          "15 - 8",
          "15 - 8",
          "15 - 8",
          "15 - 8",
          "15 - 8",
          "15 - 8",
          "15 - 8",
          "15 - 8",
          "15 - 8",
          "15 - 8",
          "0 - 0",
          "1 - 1",
          "3 - 2",
          "7 - 4",
          "15 - 8",
          "31 - 16",
          "63 - 32",
          "127 - 64",
          "255 - 128",
          "511 - 256",
          "0 - 0",
          "1 - 1",
          "3 - 2",
          "7 - 4",
          "15 - 8",
          "31 - 16",
          "0 - 0",
          "1 - 1",
          "3 - 2",
          "7 - 4",
          "15 - 8",
          "31 - 16",
          "63 - 32",
          "127 - 64",
          "255 - 128",
          "511 - 256",
          "0 - 0",
          "1 - 1",
          "3 - 2",
          "7 - 4",
          "0 - 0",
          "1 - 1",
          "3 - 2",
          "7 - 4",
          "15 - 8",
          "31 - 16",
          "63 - 32",
          "127 - 64",
          "255 - 128",
          "0 - 0",
          "1 - 1",
          "3 - 2",
          "7 - 4",
          "0 - 0",
          "1 - 1",
          "3 - 2",
          "2047 - 1024",
          "15 - 8",
          "63 - 32",
          "0 - 0",
          "1 - 1",
          "3 - 2",
          "7 - 4",
          "15 - 8",
          "31 - 16",
          "63 - 32",
          "127 - 64",
          "255 - 128",
          "511 - 256",
          "15 - 8",
          "15 - 8",
          "15 - 8"
         ],
         "xaxis": "x",
         "y": [
          24,
          0,
          23,
          316,
          0,
          0,
          0,
          0,
          0,
          0,
          0,
          0,
          0,
          0,
          0,
          0,
          0,
          0,
          0,
          0,
          0,
          0,
          0,
          316,
          654,
          2,
          8,
          8,
          0,
          0,
          12,
          4,
          4,
          4,
          2,
          2,
          2,
          4,
          2,
          0,
          0,
          0,
          0,
          0,
          0,
          0,
          0,
          2,
          2,
          66,
          42,
          6,
          6,
          1,
          1,
          1,
          1,
          1,
          1,
          1,
          1,
          1,
          1,
          1,
          1,
          1,
          1,
          1,
          1,
          16,
          10,
          0,
          0,
          0,
          0,
          0,
          0,
          0,
          0,
          10,
          12,
          0,
          0,
          0,
          0,
          2,
          10,
          0,
          0,
          0,
          0,
          0,
          0,
          0,
          0,
          10,
          10,
          0,
          0,
          10,
          10,
          0,
          0,
          0,
          0,
          0,
          0,
          0,
          10,
          4,
          0,
          0,
          4,
          10,
          0,
          10,
          10,
          1,
          2,
          5,
          0,
          0,
          0,
          0,
          0,
          0,
          0,
          0,
          5,
          1,
          1,
          1
         ],
         "yaxis": "y"
        },
        {
         "alignmentgroup": "True",
         "hovertemplate": "Packets Per Second (thousand)=200<br>I/O Size (bytes)=%{x}<br>Number of I/O operations=%{y}<extra></extra>",
         "legendgroup": "200",
         "marker": {
          "color": "#FF6692",
          "pattern": {
           "shape": ""
          }
         },
         "name": "200",
         "offsetgroup": "200",
         "orientation": "v",
         "showlegend": true,
         "textposition": "auto",
         "type": "bar",
         "x": [
          "7 - 4",
          "15 - 8",
          "31 - 16",
          "0 - 0",
          "1 - 1",
          "3 - 2",
          "7 - 4",
          "15 - 8",
          "31 - 16",
          "63 - 32",
          "127 - 64",
          "255 - 128",
          "511 - 256",
          "1023 - 512",
          "2047 - 1024",
          "4095 - 2048",
          "8191 - 4096",
          "16383 - 8192",
          "32767 - 16384",
          "65535 - 32768",
          "131071 - 65536",
          "262143 - 131072",
          "524287 - 262144",
          "1048575 - 524288",
          "8191 - 4096",
          "31 - 16",
          "63 - 32",
          "127 - 64",
          "255 - 128",
          "511 - 256",
          "1023 - 512",
          "1023 - 512",
          "1023 - 512",
          "1023 - 512",
          "1023 - 512",
          "1023 - 512",
          "1023 - 512",
          "1023 - 512",
          "0 - 0",
          "1 - 1",
          "3 - 2",
          "7 - 4",
          "15 - 8",
          "31 - 16",
          "63 - 32",
          "127 - 64",
          "255 - 128",
          "511 - 256",
          "4095 - 2048",
          "2047 - 1024",
          "7 - 4",
          "1023 - 512",
          "2047 - 1024",
          "15 - 8",
          "15 - 8",
          "15 - 8",
          "15 - 8",
          "15 - 8",
          "15 - 8",
          "15 - 8",
          "15 - 8",
          "15 - 8",
          "15 - 8",
          "15 - 8",
          "15 - 8",
          "15 - 8",
          "15 - 8",
          "15 - 8",
          "15 - 8",
          "15 - 8",
          "0 - 0",
          "1 - 1",
          "3 - 2",
          "7 - 4",
          "15 - 8",
          "31 - 16",
          "63 - 32",
          "127 - 64",
          "255 - 128",
          "511 - 256",
          "0 - 0",
          "1 - 1",
          "3 - 2",
          "7 - 4",
          "15 - 8",
          "31 - 16",
          "0 - 0",
          "1 - 1",
          "3 - 2",
          "7 - 4",
          "15 - 8",
          "31 - 16",
          "63 - 32",
          "127 - 64",
          "255 - 128",
          "511 - 256",
          "0 - 0",
          "1 - 1",
          "3 - 2",
          "7 - 4",
          "0 - 0",
          "1 - 1",
          "3 - 2",
          "7 - 4",
          "15 - 8",
          "31 - 16",
          "63 - 32",
          "127 - 64",
          "255 - 128",
          "0 - 0",
          "1 - 1",
          "3 - 2",
          "7 - 4",
          "0 - 0",
          "1 - 1",
          "3 - 2",
          "2047 - 1024",
          "63 - 32",
          "0 - 0",
          "1 - 1",
          "3 - 2",
          "7 - 4",
          "15 - 8",
          "31 - 16",
          "63 - 32",
          "127 - 64",
          "255 - 128",
          "511 - 256",
          "15 - 8",
          "15 - 8",
          "15 - 8"
         ],
         "xaxis": "x",
         "y": [
          24,
          0,
          23,
          316,
          0,
          0,
          0,
          0,
          0,
          0,
          0,
          0,
          0,
          0,
          0,
          0,
          0,
          0,
          0,
          0,
          0,
          0,
          0,
          316,
          654,
          2,
          8,
          8,
          0,
          0,
          12,
          4,
          4,
          4,
          2,
          2,
          2,
          4,
          2,
          0,
          0,
          0,
          0,
          0,
          0,
          0,
          0,
          2,
          2,
          66,
          42,
          6,
          6,
          1,
          1,
          1,
          1,
          1,
          1,
          1,
          1,
          1,
          1,
          1,
          1,
          1,
          1,
          1,
          1,
          16,
          10,
          0,
          0,
          0,
          0,
          0,
          0,
          0,
          0,
          10,
          12,
          0,
          0,
          0,
          0,
          2,
          10,
          0,
          0,
          0,
          0,
          0,
          0,
          0,
          0,
          10,
          10,
          0,
          0,
          10,
          10,
          0,
          0,
          0,
          0,
          0,
          0,
          0,
          10,
          4,
          0,
          0,
          4,
          10,
          0,
          10,
          10,
          4,
          3,
          0,
          0,
          0,
          0,
          0,
          0,
          0,
          0,
          3,
          1,
          1,
          1
         ],
         "yaxis": "y"
        },
        {
         "alignmentgroup": "True",
         "hovertemplate": "Packets Per Second (thousand)=400<br>I/O Size (bytes)=%{x}<br>Number of I/O operations=%{y}<extra></extra>",
         "legendgroup": "400",
         "marker": {
          "color": "#B6E880",
          "pattern": {
           "shape": ""
          }
         },
         "name": "400",
         "offsetgroup": "400",
         "orientation": "v",
         "showlegend": true,
         "textposition": "auto",
         "type": "bar",
         "x": [
          "7 - 4",
          "15 - 8",
          "31 - 16",
          "0 - 0",
          "1 - 1",
          "3 - 2",
          "7 - 4",
          "15 - 8",
          "31 - 16",
          "63 - 32",
          "127 - 64",
          "255 - 128",
          "511 - 256",
          "1023 - 512",
          "2047 - 1024",
          "4095 - 2048",
          "8191 - 4096",
          "16383 - 8192",
          "32767 - 16384",
          "65535 - 32768",
          "131071 - 65536",
          "262143 - 131072",
          "524287 - 262144",
          "1048575 - 524288",
          "8191 - 4096",
          "31 - 16",
          "63 - 32",
          "127 - 64",
          "255 - 128",
          "511 - 256",
          "1023 - 512",
          "1023 - 512",
          "1023 - 512",
          "1023 - 512",
          "1023 - 512",
          "1023 - 512",
          "1023 - 512",
          "1023 - 512",
          "0 - 0",
          "1 - 1",
          "3 - 2",
          "7 - 4",
          "15 - 8",
          "31 - 16",
          "63 - 32",
          "127 - 64",
          "255 - 128",
          "511 - 256",
          "4095 - 2048",
          "2047 - 1024",
          "7 - 4",
          "1023 - 512",
          "2047 - 1024",
          "15 - 8",
          "15 - 8",
          "15 - 8",
          "15 - 8",
          "15 - 8",
          "15 - 8",
          "15 - 8",
          "15 - 8",
          "15 - 8",
          "15 - 8",
          "15 - 8",
          "15 - 8",
          "15 - 8",
          "15 - 8",
          "15 - 8",
          "15 - 8",
          "15 - 8",
          "0 - 0",
          "1 - 1",
          "3 - 2",
          "7 - 4",
          "15 - 8",
          "31 - 16",
          "63 - 32",
          "127 - 64",
          "255 - 128",
          "511 - 256",
          "0 - 0",
          "1 - 1",
          "3 - 2",
          "7 - 4",
          "15 - 8",
          "31 - 16",
          "0 - 0",
          "1 - 1",
          "3 - 2",
          "7 - 4",
          "15 - 8",
          "31 - 16",
          "63 - 32",
          "127 - 64",
          "255 - 128",
          "511 - 256",
          "0 - 0",
          "1 - 1",
          "3 - 2",
          "7 - 4",
          "0 - 0",
          "1 - 1",
          "3 - 2",
          "7 - 4",
          "15 - 8",
          "31 - 16",
          "63 - 32",
          "127 - 64",
          "255 - 128",
          "0 - 0",
          "1 - 1",
          "3 - 2",
          "7 - 4",
          "0 - 0",
          "1 - 1",
          "3 - 2",
          "2047 - 1024",
          "63 - 32",
          "0 - 0",
          "1 - 1",
          "3 - 2",
          "7 - 4",
          "15 - 8",
          "31 - 16",
          "63 - 32",
          "127 - 64",
          "255 - 128",
          "511 - 256",
          "15 - 8",
          "15 - 8",
          "15 - 8"
         ],
         "xaxis": "x",
         "y": [
          24,
          0,
          23,
          316,
          0,
          0,
          0,
          0,
          0,
          0,
          0,
          0,
          0,
          0,
          0,
          0,
          0,
          0,
          0,
          0,
          0,
          0,
          0,
          316,
          654,
          2,
          8,
          8,
          0,
          0,
          12,
          4,
          4,
          4,
          2,
          2,
          2,
          4,
          2,
          0,
          0,
          0,
          0,
          0,
          0,
          0,
          0,
          2,
          2,
          66,
          42,
          6,
          6,
          1,
          1,
          1,
          1,
          1,
          1,
          1,
          1,
          1,
          1,
          1,
          1,
          1,
          1,
          1,
          1,
          16,
          10,
          0,
          0,
          0,
          0,
          0,
          0,
          0,
          0,
          10,
          12,
          0,
          0,
          0,
          0,
          2,
          10,
          0,
          0,
          0,
          0,
          0,
          0,
          0,
          0,
          10,
          10,
          0,
          0,
          10,
          10,
          0,
          0,
          0,
          0,
          0,
          0,
          0,
          10,
          4,
          0,
          0,
          4,
          10,
          0,
          10,
          10,
          2,
          4,
          0,
          0,
          0,
          0,
          0,
          0,
          0,
          0,
          4,
          1,
          1,
          1
         ],
         "yaxis": "y"
        },
        {
         "alignmentgroup": "True",
         "hovertemplate": "Packets Per Second (thousand)=1<br>I/O Size (bytes)=%{x}<br>Number of I/O operations=%{y}<extra></extra>",
         "legendgroup": "1",
         "marker": {
          "color": "#FF97FF",
          "pattern": {
           "shape": ""
          }
         },
         "name": "1",
         "offsetgroup": "1",
         "orientation": "v",
         "showlegend": true,
         "textposition": "auto",
         "type": "bar",
         "x": [
          "7 - 4",
          "15 - 8",
          "31 - 16",
          "0 - 0",
          "1 - 1",
          "3 - 2",
          "7 - 4",
          "15 - 8",
          "31 - 16",
          "63 - 32",
          "127 - 64",
          "255 - 128",
          "511 - 256",
          "1023 - 512",
          "2047 - 1024",
          "4095 - 2048",
          "8191 - 4096",
          "16383 - 8192",
          "32767 - 16384",
          "65535 - 32768",
          "131071 - 65536",
          "262143 - 131072",
          "524287 - 262144",
          "1048575 - 524288",
          "8191 - 4096",
          "31 - 16",
          "63 - 32",
          "127 - 64",
          "255 - 128",
          "511 - 256",
          "1023 - 512",
          "1023 - 512",
          "1023 - 512",
          "1023 - 512",
          "1023 - 512",
          "1023 - 512",
          "1023 - 512",
          "1023 - 512",
          "0 - 0",
          "1 - 1",
          "3 - 2",
          "7 - 4",
          "15 - 8",
          "31 - 16",
          "63 - 32",
          "127 - 64",
          "255 - 128",
          "511 - 256",
          "4095 - 2048",
          "2047 - 1024",
          "7 - 4",
          "1023 - 512",
          "2047 - 1024",
          "15 - 8",
          "15 - 8",
          "15 - 8",
          "15 - 8",
          "15 - 8",
          "15 - 8",
          "15 - 8",
          "15 - 8",
          "15 - 8",
          "15 - 8",
          "15 - 8",
          "15 - 8",
          "15 - 8",
          "15 - 8",
          "15 - 8",
          "15 - 8",
          "15 - 8",
          "0 - 0",
          "1 - 1",
          "3 - 2",
          "7 - 4",
          "15 - 8",
          "31 - 16",
          "63 - 32",
          "127 - 64",
          "255 - 128",
          "511 - 256",
          "0 - 0",
          "1 - 1",
          "3 - 2",
          "7 - 4",
          "15 - 8",
          "31 - 16",
          "0 - 0",
          "1 - 1",
          "3 - 2",
          "7 - 4",
          "15 - 8",
          "31 - 16",
          "63 - 32",
          "127 - 64",
          "255 - 128",
          "511 - 256",
          "0 - 0",
          "1 - 1",
          "3 - 2",
          "7 - 4",
          "0 - 0",
          "1 - 1",
          "3 - 2",
          "7 - 4",
          "15 - 8",
          "31 - 16",
          "63 - 32",
          "127 - 64",
          "255 - 128",
          "0 - 0",
          "1 - 1",
          "3 - 2",
          "7 - 4",
          "0 - 0",
          "1 - 1",
          "3 - 2",
          "2047 - 1024",
          "15 - 8",
          "63 - 32",
          "0 - 0",
          "1 - 1",
          "3 - 2",
          "7 - 4",
          "15 - 8",
          "31 - 16",
          "63 - 32",
          "127 - 64",
          "255 - 128",
          "511 - 256",
          "15 - 8",
          "15 - 8"
         ],
         "xaxis": "x",
         "y": [
          24,
          0,
          23,
          316,
          0,
          0,
          0,
          0,
          0,
          0,
          0,
          0,
          0,
          0,
          0,
          0,
          0,
          0,
          0,
          0,
          0,
          0,
          0,
          316,
          654,
          2,
          8,
          8,
          0,
          0,
          12,
          4,
          4,
          4,
          2,
          2,
          2,
          4,
          2,
          0,
          0,
          0,
          0,
          0,
          0,
          0,
          0,
          2,
          2,
          66,
          42,
          6,
          6,
          1,
          1,
          1,
          1,
          1,
          1,
          1,
          1,
          1,
          1,
          1,
          1,
          1,
          1,
          1,
          1,
          16,
          10,
          0,
          0,
          0,
          0,
          0,
          0,
          0,
          0,
          10,
          12,
          0,
          0,
          0,
          0,
          2,
          10,
          0,
          0,
          0,
          0,
          0,
          0,
          0,
          0,
          10,
          10,
          0,
          0,
          10,
          10,
          0,
          0,
          0,
          0,
          0,
          0,
          0,
          10,
          4,
          0,
          0,
          4,
          10,
          0,
          10,
          10,
          1,
          2,
          5,
          0,
          0,
          0,
          0,
          0,
          0,
          0,
          0,
          5,
          1,
          1
         ],
         "yaxis": "y"
        }
       ],
       "layout": {
        "barmode": "group",
        "legend": {
         "title": {
          "text": "Packets Per Second (thousand)"
         },
         "tracegroupgap": 0
        },
        "template": {
         "data": {
          "bar": [
           {
            "error_x": {
             "color": "#2a3f5f"
            },
            "error_y": {
             "color": "#2a3f5f"
            },
            "marker": {
             "line": {
              "color": "#E5ECF6",
              "width": 0.5
             },
             "pattern": {
              "fillmode": "overlay",
              "size": 10,
              "solidity": 0.2
             }
            },
            "type": "bar"
           }
          ],
          "barpolar": [
           {
            "marker": {
             "line": {
              "color": "#E5ECF6",
              "width": 0.5
             },
             "pattern": {
              "fillmode": "overlay",
              "size": 10,
              "solidity": 0.2
             }
            },
            "type": "barpolar"
           }
          ],
          "carpet": [
           {
            "aaxis": {
             "endlinecolor": "#2a3f5f",
             "gridcolor": "white",
             "linecolor": "white",
             "minorgridcolor": "white",
             "startlinecolor": "#2a3f5f"
            },
            "baxis": {
             "endlinecolor": "#2a3f5f",
             "gridcolor": "white",
             "linecolor": "white",
             "minorgridcolor": "white",
             "startlinecolor": "#2a3f5f"
            },
            "type": "carpet"
           }
          ],
          "choropleth": [
           {
            "colorbar": {
             "outlinewidth": 0,
             "ticks": ""
            },
            "type": "choropleth"
           }
          ],
          "contour": [
           {
            "colorbar": {
             "outlinewidth": 0,
             "ticks": ""
            },
            "colorscale": [
             [
              0,
              "#0d0887"
             ],
             [
              0.1111111111111111,
              "#46039f"
             ],
             [
              0.2222222222222222,
              "#7201a8"
             ],
             [
              0.3333333333333333,
              "#9c179e"
             ],
             [
              0.4444444444444444,
              "#bd3786"
             ],
             [
              0.5555555555555556,
              "#d8576b"
             ],
             [
              0.6666666666666666,
              "#ed7953"
             ],
             [
              0.7777777777777778,
              "#fb9f3a"
             ],
             [
              0.8888888888888888,
              "#fdca26"
             ],
             [
              1,
              "#f0f921"
             ]
            ],
            "type": "contour"
           }
          ],
          "contourcarpet": [
           {
            "colorbar": {
             "outlinewidth": 0,
             "ticks": ""
            },
            "type": "contourcarpet"
           }
          ],
          "heatmap": [
           {
            "colorbar": {
             "outlinewidth": 0,
             "ticks": ""
            },
            "colorscale": [
             [
              0,
              "#0d0887"
             ],
             [
              0.1111111111111111,
              "#46039f"
             ],
             [
              0.2222222222222222,
              "#7201a8"
             ],
             [
              0.3333333333333333,
              "#9c179e"
             ],
             [
              0.4444444444444444,
              "#bd3786"
             ],
             [
              0.5555555555555556,
              "#d8576b"
             ],
             [
              0.6666666666666666,
              "#ed7953"
             ],
             [
              0.7777777777777778,
              "#fb9f3a"
             ],
             [
              0.8888888888888888,
              "#fdca26"
             ],
             [
              1,
              "#f0f921"
             ]
            ],
            "type": "heatmap"
           }
          ],
          "heatmapgl": [
           {
            "colorbar": {
             "outlinewidth": 0,
             "ticks": ""
            },
            "colorscale": [
             [
              0,
              "#0d0887"
             ],
             [
              0.1111111111111111,
              "#46039f"
             ],
             [
              0.2222222222222222,
              "#7201a8"
             ],
             [
              0.3333333333333333,
              "#9c179e"
             ],
             [
              0.4444444444444444,
              "#bd3786"
             ],
             [
              0.5555555555555556,
              "#d8576b"
             ],
             [
              0.6666666666666666,
              "#ed7953"
             ],
             [
              0.7777777777777778,
              "#fb9f3a"
             ],
             [
              0.8888888888888888,
              "#fdca26"
             ],
             [
              1,
              "#f0f921"
             ]
            ],
            "type": "heatmapgl"
           }
          ],
          "histogram": [
           {
            "marker": {
             "pattern": {
              "fillmode": "overlay",
              "size": 10,
              "solidity": 0.2
             }
            },
            "type": "histogram"
           }
          ],
          "histogram2d": [
           {
            "colorbar": {
             "outlinewidth": 0,
             "ticks": ""
            },
            "colorscale": [
             [
              0,
              "#0d0887"
             ],
             [
              0.1111111111111111,
              "#46039f"
             ],
             [
              0.2222222222222222,
              "#7201a8"
             ],
             [
              0.3333333333333333,
              "#9c179e"
             ],
             [
              0.4444444444444444,
              "#bd3786"
             ],
             [
              0.5555555555555556,
              "#d8576b"
             ],
             [
              0.6666666666666666,
              "#ed7953"
             ],
             [
              0.7777777777777778,
              "#fb9f3a"
             ],
             [
              0.8888888888888888,
              "#fdca26"
             ],
             [
              1,
              "#f0f921"
             ]
            ],
            "type": "histogram2d"
           }
          ],
          "histogram2dcontour": [
           {
            "colorbar": {
             "outlinewidth": 0,
             "ticks": ""
            },
            "colorscale": [
             [
              0,
              "#0d0887"
             ],
             [
              0.1111111111111111,
              "#46039f"
             ],
             [
              0.2222222222222222,
              "#7201a8"
             ],
             [
              0.3333333333333333,
              "#9c179e"
             ],
             [
              0.4444444444444444,
              "#bd3786"
             ],
             [
              0.5555555555555556,
              "#d8576b"
             ],
             [
              0.6666666666666666,
              "#ed7953"
             ],
             [
              0.7777777777777778,
              "#fb9f3a"
             ],
             [
              0.8888888888888888,
              "#fdca26"
             ],
             [
              1,
              "#f0f921"
             ]
            ],
            "type": "histogram2dcontour"
           }
          ],
          "mesh3d": [
           {
            "colorbar": {
             "outlinewidth": 0,
             "ticks": ""
            },
            "type": "mesh3d"
           }
          ],
          "parcoords": [
           {
            "line": {
             "colorbar": {
              "outlinewidth": 0,
              "ticks": ""
             }
            },
            "type": "parcoords"
           }
          ],
          "pie": [
           {
            "automargin": true,
            "type": "pie"
           }
          ],
          "scatter": [
           {
            "marker": {
             "colorbar": {
              "outlinewidth": 0,
              "ticks": ""
             }
            },
            "type": "scatter"
           }
          ],
          "scatter3d": [
           {
            "line": {
             "colorbar": {
              "outlinewidth": 0,
              "ticks": ""
             }
            },
            "marker": {
             "colorbar": {
              "outlinewidth": 0,
              "ticks": ""
             }
            },
            "type": "scatter3d"
           }
          ],
          "scattercarpet": [
           {
            "marker": {
             "colorbar": {
              "outlinewidth": 0,
              "ticks": ""
             }
            },
            "type": "scattercarpet"
           }
          ],
          "scattergeo": [
           {
            "marker": {
             "colorbar": {
              "outlinewidth": 0,
              "ticks": ""
             }
            },
            "type": "scattergeo"
           }
          ],
          "scattergl": [
           {
            "marker": {
             "colorbar": {
              "outlinewidth": 0,
              "ticks": ""
             }
            },
            "type": "scattergl"
           }
          ],
          "scattermapbox": [
           {
            "marker": {
             "colorbar": {
              "outlinewidth": 0,
              "ticks": ""
             }
            },
            "type": "scattermapbox"
           }
          ],
          "scatterpolar": [
           {
            "marker": {
             "colorbar": {
              "outlinewidth": 0,
              "ticks": ""
             }
            },
            "type": "scatterpolar"
           }
          ],
          "scatterpolargl": [
           {
            "marker": {
             "colorbar": {
              "outlinewidth": 0,
              "ticks": ""
             }
            },
            "type": "scatterpolargl"
           }
          ],
          "scatterternary": [
           {
            "marker": {
             "colorbar": {
              "outlinewidth": 0,
              "ticks": ""
             }
            },
            "type": "scatterternary"
           }
          ],
          "surface": [
           {
            "colorbar": {
             "outlinewidth": 0,
             "ticks": ""
            },
            "colorscale": [
             [
              0,
              "#0d0887"
             ],
             [
              0.1111111111111111,
              "#46039f"
             ],
             [
              0.2222222222222222,
              "#7201a8"
             ],
             [
              0.3333333333333333,
              "#9c179e"
             ],
             [
              0.4444444444444444,
              "#bd3786"
             ],
             [
              0.5555555555555556,
              "#d8576b"
             ],
             [
              0.6666666666666666,
              "#ed7953"
             ],
             [
              0.7777777777777778,
              "#fb9f3a"
             ],
             [
              0.8888888888888888,
              "#fdca26"
             ],
             [
              1,
              "#f0f921"
             ]
            ],
            "type": "surface"
           }
          ],
          "table": [
           {
            "cells": {
             "fill": {
              "color": "#EBF0F8"
             },
             "line": {
              "color": "white"
             }
            },
            "header": {
             "fill": {
              "color": "#C8D4E3"
             },
             "line": {
              "color": "white"
             }
            },
            "type": "table"
           }
          ]
         },
         "layout": {
          "annotationdefaults": {
           "arrowcolor": "#2a3f5f",
           "arrowhead": 0,
           "arrowwidth": 1
          },
          "autotypenumbers": "strict",
          "coloraxis": {
           "colorbar": {
            "outlinewidth": 0,
            "ticks": ""
           }
          },
          "colorscale": {
           "diverging": [
            [
             0,
             "#8e0152"
            ],
            [
             0.1,
             "#c51b7d"
            ],
            [
             0.2,
             "#de77ae"
            ],
            [
             0.3,
             "#f1b6da"
            ],
            [
             0.4,
             "#fde0ef"
            ],
            [
             0.5,
             "#f7f7f7"
            ],
            [
             0.6,
             "#e6f5d0"
            ],
            [
             0.7,
             "#b8e186"
            ],
            [
             0.8,
             "#7fbc41"
            ],
            [
             0.9,
             "#4d9221"
            ],
            [
             1,
             "#276419"
            ]
           ],
           "sequential": [
            [
             0,
             "#0d0887"
            ],
            [
             0.1111111111111111,
             "#46039f"
            ],
            [
             0.2222222222222222,
             "#7201a8"
            ],
            [
             0.3333333333333333,
             "#9c179e"
            ],
            [
             0.4444444444444444,
             "#bd3786"
            ],
            [
             0.5555555555555556,
             "#d8576b"
            ],
            [
             0.6666666666666666,
             "#ed7953"
            ],
            [
             0.7777777777777778,
             "#fb9f3a"
            ],
            [
             0.8888888888888888,
             "#fdca26"
            ],
            [
             1,
             "#f0f921"
            ]
           ],
           "sequentialminus": [
            [
             0,
             "#0d0887"
            ],
            [
             0.1111111111111111,
             "#46039f"
            ],
            [
             0.2222222222222222,
             "#7201a8"
            ],
            [
             0.3333333333333333,
             "#9c179e"
            ],
            [
             0.4444444444444444,
             "#bd3786"
            ],
            [
             0.5555555555555556,
             "#d8576b"
            ],
            [
             0.6666666666666666,
             "#ed7953"
            ],
            [
             0.7777777777777778,
             "#fb9f3a"
            ],
            [
             0.8888888888888888,
             "#fdca26"
            ],
            [
             1,
             "#f0f921"
            ]
           ]
          },
          "colorway": [
           "#636efa",
           "#EF553B",
           "#00cc96",
           "#ab63fa",
           "#FFA15A",
           "#19d3f3",
           "#FF6692",
           "#B6E880",
           "#FF97FF",
           "#FECB52"
          ],
          "font": {
           "color": "#2a3f5f"
          },
          "geo": {
           "bgcolor": "white",
           "lakecolor": "white",
           "landcolor": "#E5ECF6",
           "showlakes": true,
           "showland": true,
           "subunitcolor": "white"
          },
          "hoverlabel": {
           "align": "left"
          },
          "hovermode": "closest",
          "mapbox": {
           "style": "light"
          },
          "paper_bgcolor": "white",
          "plot_bgcolor": "#E5ECF6",
          "polar": {
           "angularaxis": {
            "gridcolor": "white",
            "linecolor": "white",
            "ticks": ""
           },
           "bgcolor": "#E5ECF6",
           "radialaxis": {
            "gridcolor": "white",
            "linecolor": "white",
            "ticks": ""
           }
          },
          "scene": {
           "xaxis": {
            "backgroundcolor": "#E5ECF6",
            "gridcolor": "white",
            "gridwidth": 2,
            "linecolor": "white",
            "showbackground": true,
            "ticks": "",
            "zerolinecolor": "white"
           },
           "yaxis": {
            "backgroundcolor": "#E5ECF6",
            "gridcolor": "white",
            "gridwidth": 2,
            "linecolor": "white",
            "showbackground": true,
            "ticks": "",
            "zerolinecolor": "white"
           },
           "zaxis": {
            "backgroundcolor": "#E5ECF6",
            "gridcolor": "white",
            "gridwidth": 2,
            "linecolor": "white",
            "showbackground": true,
            "ticks": "",
            "zerolinecolor": "white"
           }
          },
          "shapedefaults": {
           "line": {
            "color": "#2a3f5f"
           }
          },
          "ternary": {
           "aaxis": {
            "gridcolor": "white",
            "linecolor": "white",
            "ticks": ""
           },
           "baxis": {
            "gridcolor": "white",
            "linecolor": "white",
            "ticks": ""
           },
           "bgcolor": "#E5ECF6",
           "caxis": {
            "gridcolor": "white",
            "linecolor": "white",
            "ticks": ""
           }
          },
          "title": {
           "x": 0.05
          },
          "xaxis": {
           "automargin": true,
           "gridcolor": "white",
           "linecolor": "white",
           "ticks": "",
           "title": {
            "standoff": 15
           },
           "zerolinecolor": "white",
           "zerolinewidth": 2
          },
          "yaxis": {
           "automargin": true,
           "gridcolor": "white",
           "linecolor": "white",
           "ticks": "",
           "title": {
            "standoff": 15
           },
           "zerolinecolor": "white",
           "zerolinewidth": 2
          }
         }
        },
        "title": {
         "text": "Time each of the processes spends waiting for its turn on CPU"
        },
        "xaxis": {
         "anchor": "y",
         "domain": [
          0,
          1
         ],
         "title": {
          "text": "I/O Size (bytes)"
         }
        },
        "yaxis": {
         "anchor": "x",
         "domain": [
          0,
          1
         ],
         "title": {
          "text": "Number of I/O operations"
         }
        }
       }
      }
     },
     "metadata": {},
     "output_type": "display_data"
    }
   ],
   "source": [
    "from pyspark.sql.types import StructType,StructField, StringType, IntegerType\n",
    "data_df = spark.read.option(\"basePath\", \"../ansible/.results\").json(\"../ansible/.results/kpps=*/tool=vfssize\")\n",
    "schema = StructType([\n",
    "  StructField('type', StringType(), True),\n",
    "  StructField('kpps', StringType(), True),\n",
    "  StructField('count', IntegerType(), True),\n",
    "  StructField('min', IntegerType(), True),\n",
    "  StructField('max', IntegerType(), True),\n",
    "  StructField('device', StringType(), True),\n",
    "  StructField('program', StringType(), True),\n",
    "  StructField('filename', StringType(), True),\n",
    "  ])\n",
    "\n",
    "#Create empty DataFrame directly.\n",
    "vfssize_df = spark.createDataFrame([], schema)\n",
    "\n",
    "columns = data_df.select(\"data.@.*\").columns\n",
    "columns = [c.replace('.', '_') for c in columns]\n",
    "data_df = data_df.select(\"*\", \"data.@.*\").drop(\"data\")\n",
    "data_df = data_df.toDF(*(c.replace('.', '_') for c in data_df.columns))\n",
    "for c in columns:\n",
    "  try:\n",
    "    df = data_df.select(\"*\", explode(c).alias(\"dataExplode\")).select(\"type\", \"kpps\", \"dataExplode.*\").withColumn('device', lit(c)).withColumn('program', lit(c.split(',')[0])).withColumn('filename', lit(c.split(',')[1]))\n",
    "    vfssize_df = vfssize_df.union(df)\n",
    "  except:\n",
    "    print(\"Failed to find {}\".format(c))\n",
    "\n",
    "vfssize_df = vfssize_df.select(\"*\", concat_ws(' - ',col('min'),col('max')).alias(\"interval\"))\n",
    "\n",
    "vfssize_fig_1 = px.scatter(vfssize_df.toPandas(), x=\"interval\", y=\"kpps\",\n",
    "\t         size=\"count\", color=\"program\",\n",
    "             title=\"The frequency of I/O per proccess name per I/O size\",\n",
    "            labels={\n",
    "                        \"kpps\": \"Packets Per Second (thousand)\",\n",
    "                        \"count\": \"Number of I/O operations\",\n",
    "                        \"interval\": \"I/O Size (bytes)\"\n",
    "                    })\n",
    "vfssize_fig_1.show()\n",
    "vfssize_fig_1.write_image(\"images/vfssize-process.jpeg\")\n",
    "vfssize_fig_2 = px.scatter(vfssize_df.toPandas(), x=\"interval\", y=\"kpps\",\n",
    "\t         size=\"count\", color=\"filename\",\n",
    "             title=\"The frequency of I/O per filename per I/O size\",\n",
    "            labels={\n",
    "                        \"kpps\": \"Packets Per Second (thousand)\",\n",
    "                        \"count\": \"Number of I/O operations\",\n",
    "                        \"interval\": \"I/O Size (bytes)\"\n",
    "                    })\n",
    "vfssize_fig_2.show()\n",
    "vfssize_fig_2.write_image(\"images/vfssize-filename.jpeg\")\n",
    "vfssize_fig_3 = px.bar(vfssize_df.toPandas(), x=\"interval\", y=\"count\", color=\"kpps\", barmode=\"group\",\n",
    "        title=\"Time each of the processes spends waiting for its turn on CPU\",\n",
    "        labels={\n",
    "                    \"kpps\": \"Packets Per Second (thousand)\",\n",
    "                    \"count\": \"Number of I/O operations\",\n",
    "                    \"interval\": \"I/O Size (bytes)\"\n",
    "                })\n",
    "vfssize_fig_3.show()\n",
    "vfssize_fig_3.write_image(\"images/vfssize.jpeg\")\n",
    "with open(html_output_file, 'a') as f:\n",
    "    f.write(vfssize_fig_1.to_html(full_html=False, include_plotlyjs='cdn'))\n",
    "    f.write(vfssize_fig_2.to_html(full_html=False, include_plotlyjs='cdn'))\n",
    "    f.write(vfssize_fig_3.to_html(full_html=False, include_plotlyjs='cdn'))"
   ]
  },
  {
   "cell_type": "code",
   "execution_count": 14,
   "metadata": {},
   "outputs": [
    {
     "name": "stderr",
     "output_type": "stream",
     "text": [
      "/Users/tariromukute/Documents/personal/phd/dev/opengilan/notebooks/.venv/lib/python3.8/site-packages/plotly/express/_core.py:1637: FutureWarning:\n",
      "\n",
      "The frame.append method is deprecated and will be removed from pandas in a future version. Use pandas.concat instead.\n",
      "\n",
      "/Users/tariromukute/Documents/personal/phd/dev/opengilan/notebooks/.venv/lib/python3.8/site-packages/plotly/express/_core.py:1637: FutureWarning:\n",
      "\n",
      "The frame.append method is deprecated and will be removed from pandas in a future version. Use pandas.concat instead.\n",
      "\n"
     ]
    },
    {
     "data": {
      "application/vnd.plotly.v1+json": {
       "config": {
        "plotlyServerURL": "https://plot.ly"
       },
       "data": [
        {
         "branchvalues": "total",
         "customdata": [
          [
           632,
           ".kvp_pool_1"
          ],
          [
           2,
           "loadavg"
          ],
          [
           327,
           "hv_kvp"
          ],
          [
           4,
           "openssl.cnf"
          ],
          [
           1,
           "TCP"
          ],
          [
           0,
           "waagent_status.2.json"
          ],
          [
           12,
           "stat"
          ],
          [
           1,
           "online"
          ],
          [
           12,
           "stat"
          ],
          [
           2,
           "loadavg"
          ],
          [
           4,
           "openssl.cnf"
          ],
          [
           2,
           "loadavg"
          ],
          [
           "(?)",
           "stat"
          ],
          [
           2,
           "cgroup.procs"
          ],
          [
           "(?)",
           "(?)"
          ],
          [
           4,
           "timeout"
          ],
          [
           2,
           "cpuacct.stat"
          ],
          [
           2,
           "cgroup.procs"
          ],
          [
           4,
           "common-password"
          ],
          [
           4,
           "common-account"
          ],
          [
           2,
           "cmdline"
          ],
          [
           4,
           "common-auth"
          ],
          [
           0,
           "waagent_status.2.json"
          ],
          [
           4,
           "timeout"
          ],
          [
           2,
           "cpuacct.stat"
          ],
          [
           20,
           "HandlerManifest.json"
          ],
          [
           1,
           "TCP"
          ],
          [
           20,
           "HandlerManifest.json"
          ],
          [
           632,
           ".kvp_pool_1"
          ],
          [
           2,
           "loadavg"
          ],
          [
           327,
           "hv_kvp"
          ],
          [
           2,
           "tasks"
          ],
          [
           0,
           "waagent_status.2.json"
          ],
          [
           10,
           "TCP"
          ],
          [
           6,
           "smp_affinity"
          ],
          [
           "(?)",
           "(?)"
          ],
          [
           2,
           "tasks"
          ],
          [
           2,
           "loadavg"
          ],
          [
           632,
           ".kvp_pool_1"
          ],
          [
           327,
           "hv_kvp"
          ],
          [
           2,
           "cgroup.procs"
          ],
          [
           6,
           "smp_affinity"
          ],
          [
           6,
           "smp_affinity"
          ],
          [
           "(?)",
           "(?)"
          ],
          [
           4,
           "timeout"
          ],
          [
           2,
           "loadavg"
          ],
          [
           632,
           ".kvp_pool_1"
          ],
          [
           2,
           "gai.conf"
          ],
          [
           327,
           "hv_kvp"
          ],
          [
           20,
           "0.status"
          ],
          [
           66,
           "interrupts"
          ],
          [
           0,
           "waagent_status.2.json"
          ],
          [
           4,
           "timeout"
          ],
          [
           20,
           "0.status"
          ],
          [
           20,
           "HandlerManifest.json"
          ],
          [
           1,
           "TCP"
          ],
          [
           4,
           "ssh_host_ecdsa_key"
          ],
          [
           2,
           "nsswitch.conf"
          ],
          [
           2,
           "nsswitch.conf"
          ],
          [
           "(?)",
           "(?)"
          ],
          [
           4,
           "ssh_host_ed25519_key"
          ],
          [
           "(?)",
           "(?)"
          ],
          [
           66,
           "interrupts"
          ],
          [
           0,
           "waagent_status.2.json"
          ],
          [
           632,
           ".kvp_pool_1"
          ],
          [
           1,
           "cpu.stat"
          ],
          [
           4,
           "common-session"
          ],
          [
           4,
           "ssh_host_ed25519_key"
          ],
          [
           4,
           "ssh_host_rsa_key"
          ],
          [
           12,
           "stat"
          ],
          [
           12,
           "stat"
          ],
          [
           "(?)",
           "stat"
          ],
          [
           12,
           "stat"
          ],
          [
           66,
           "interrupts"
          ],
          [
           66,
           "interrupts"
          ],
          [
           66,
           "interrupts"
          ],
          [
           66,
           "interrupts"
          ],
          [
           66,
           "interrupts"
          ],
          [
           0,
           "waagent_status.2.json"
          ],
          [
           0,
           "waagent_status.2.json"
          ],
          [
           0,
           "waagent_status.2.json"
          ],
          [
           66,
           "interrupts"
          ],
          [
           66,
           "interrupts"
          ],
          [
           12,
           "stat"
          ],
          [
           2,
           "nsswitch.conf"
          ],
          [
           2,
           "nsswitch.conf"
          ],
          [
           2,
           "nsswitch.conf"
          ],
          [
           1,
           "online"
          ],
          [
           2,
           "nsswitch.conf"
          ],
          [
           2,
           "nsswitch.conf"
          ],
          [
           2,
           "nsswitch.conf"
          ],
          [
           632,
           ".kvp_pool_1"
          ],
          [
           327,
           "hv_kvp"
          ],
          [
           2,
           "hosts.deny"
          ],
          [
           632,
           ".kvp_pool_1"
          ],
          [
           20,
           "0.status"
          ],
          [
           4,
           "timeout"
          ],
          [
           6,
           "smp_affinity"
          ],
          [
           4,
           "managed-keys.bind.jnl"
          ],
          [
           4,
           "timeout"
          ],
          [
           "(?)",
           "(?)"
          ],
          [
           327,
           "hv_kvp"
          ],
          [
           20,
           "0.status"
          ],
          [
           2,
           "hosts.allow"
          ],
          [
           4,
           "timeout"
          ],
          [
           327,
           "hv_kvp"
          ],
          [
           632,
           ".kvp_pool_1"
          ],
          [
           "(?)",
           "(?)"
          ],
          [
           327,
           "hv_kvp"
          ],
          [
           "(?)",
           "(?)"
          ],
          [
           632,
           ".kvp_pool_1"
          ],
          [
           2,
           "loadavg"
          ],
          [
           4,
           "timeout"
          ],
          [
           2,
           "tasks"
          ],
          [
           2,
           "loadavg"
          ],
          [
           2,
           "cpuacct.stat"
          ],
          [
           1,
           "cpu.stat"
          ],
          [
           6,
           "smp_affinity"
          ],
          [
           6,
           "smp_affinity"
          ],
          [
           20,
           "0.status"
          ],
          [
           2,
           "loadavg"
          ],
          [
           327,
           "hv_kvp"
          ],
          [
           "(?)",
           "(?)"
          ],
          [
           4,
           "timeout"
          ],
          [
           6,
           "smp_affinity"
          ]
         ],
         "domain": {
          "x": [
           0,
           1
          ],
          "y": [
           0,
           1
          ]
         },
         "hovertemplate": "labels=%{label}<br>R_Kb=%{value}<br>parent=%{parent}<br>id=%{id}<br>Number of file reads=%{customdata[0]}<br>File names=%{customdata[1]}<extra></extra>",
         "ids": [
          "1/.kvp_pool_1",
          "50/loadavg",
          "10/hv_kvp",
          "600/openssl.cnf",
          "400/TCP",
          "400/waagent_status.2.json",
          "500/stat",
          "400/online",
          "300/stat",
          "1/loadavg",
          "500/openssl.cnf",
          "10/loadavg",
          "400/stat",
          "400/cgroup.procs",
          "10",
          "10/timeout",
          "400/cpuacct.stat",
          "50/cgroup.procs",
          "600/common-password",
          "600/common-account",
          "600/cmdline",
          "600/common-auth",
          "50/waagent_status.2.json",
          "50/timeout",
          "600/cpuacct.stat",
          "300/HandlerManifest.json",
          "100/TCP",
          "200/HandlerManifest.json",
          "10/.kvp_pool_1",
          "100/loadavg",
          "50/hv_kvp",
          "50/tasks",
          "500/waagent_status.2.json",
          "600/TCP",
          "1/smp_affinity",
          "1",
          "400/tasks",
          "200/loadavg",
          "50/.kvp_pool_1",
          "100/hv_kvp",
          "600/cgroup.procs",
          "10/smp_affinity",
          "200/smp_affinity",
          "200",
          "100/timeout",
          "500/loadavg",
          "400/.kvp_pool_1",
          "500/gai.conf",
          "400/hv_kvp",
          "1/0.status",
          "1/interrupts",
          "1/waagent_status.2.json",
          "600/timeout",
          "300/0.status",
          "10/HandlerManifest.json",
          "1/TCP",
          "500/ssh_host_ecdsa_key",
          "10/nsswitch.conf",
          "1/nsswitch.conf",
          "500",
          "500/ssh_host_ed25519_key",
          "600",
          "10/interrupts",
          "10/waagent_status.2.json",
          "100/.kvp_pool_1",
          "50/cpu.stat",
          "600/common-session",
          "600/ssh_host_ed25519_key",
          "500/ssh_host_rsa_key",
          "1/stat",
          "10/stat",
          "50/stat",
          "100/stat",
          "300/interrupts",
          "400/interrupts",
          "200/interrupts",
          "100/interrupts",
          "50/interrupts",
          "100/waagent_status.2.json",
          "200/waagent_status.2.json",
          "300/waagent_status.2.json",
          "500/interrupts",
          "600/interrupts",
          "200/stat",
          "100/nsswitch.conf",
          "200/nsswitch.conf",
          "300/nsswitch.conf",
          "50/online",
          "500/nsswitch.conf",
          "400/nsswitch.conf",
          "50/nsswitch.conf",
          "600/.kvp_pool_1",
          "1/hv_kvp",
          "500/hosts.deny",
          "500/.kvp_pool_1",
          "10/0.status",
          "500/timeout",
          "400/smp_affinity",
          "500/managed-keys.bind.jnl",
          "300/timeout",
          "400",
          "600/hv_kvp",
          "200/0.status",
          "500/hosts.allow",
          "200/timeout",
          "200/hv_kvp",
          "200/.kvp_pool_1",
          "50",
          "300/hv_kvp",
          "100",
          "300/.kvp_pool_1",
          "400/loadavg",
          "1/timeout",
          "600/tasks",
          "300/loadavg",
          "50/cpuacct.stat",
          "400/cpu.stat",
          "50/smp_affinity",
          "100/smp_affinity",
          "100/0.status",
          "600/loadavg",
          "500/hv_kvp",
          "300",
          "400/timeout",
          "300/smp_affinity"
         ],
         "labels": [
          ".kvp_pool_1",
          "loadavg",
          "hv_kvp",
          "openssl.cnf",
          "TCP",
          "waagent_status.2.json",
          "stat",
          "online",
          "stat",
          "loadavg",
          "openssl.cnf",
          "loadavg",
          "stat",
          "cgroup.procs",
          "10",
          "timeout",
          "cpuacct.stat",
          "cgroup.procs",
          "common-password",
          "common-account",
          "cmdline",
          "common-auth",
          "waagent_status.2.json",
          "timeout",
          "cpuacct.stat",
          "HandlerManifest.json",
          "TCP",
          "HandlerManifest.json",
          ".kvp_pool_1",
          "loadavg",
          "hv_kvp",
          "tasks",
          "waagent_status.2.json",
          "TCP",
          "smp_affinity",
          "1",
          "tasks",
          "loadavg",
          ".kvp_pool_1",
          "hv_kvp",
          "cgroup.procs",
          "smp_affinity",
          "smp_affinity",
          "200",
          "timeout",
          "loadavg",
          ".kvp_pool_1",
          "gai.conf",
          "hv_kvp",
          "0.status",
          "interrupts",
          "waagent_status.2.json",
          "timeout",
          "0.status",
          "HandlerManifest.json",
          "TCP",
          "ssh_host_ecdsa_key",
          "nsswitch.conf",
          "nsswitch.conf",
          "500",
          "ssh_host_ed25519_key",
          "600",
          "interrupts",
          "waagent_status.2.json",
          ".kvp_pool_1",
          "cpu.stat",
          "common-session",
          "ssh_host_ed25519_key",
          "ssh_host_rsa_key",
          "stat",
          "stat",
          "stat",
          "stat",
          "interrupts",
          "interrupts",
          "interrupts",
          "interrupts",
          "interrupts",
          "waagent_status.2.json",
          "waagent_status.2.json",
          "waagent_status.2.json",
          "interrupts",
          "interrupts",
          "stat",
          "nsswitch.conf",
          "nsswitch.conf",
          "nsswitch.conf",
          "online",
          "nsswitch.conf",
          "nsswitch.conf",
          "nsswitch.conf",
          ".kvp_pool_1",
          "hv_kvp",
          "hosts.deny",
          ".kvp_pool_1",
          "0.status",
          "timeout",
          "smp_affinity",
          "managed-keys.bind.jnl",
          "timeout",
          "400",
          "hv_kvp",
          "0.status",
          "hosts.allow",
          "timeout",
          "hv_kvp",
          ".kvp_pool_1",
          "50",
          "hv_kvp",
          "100",
          ".kvp_pool_1",
          "loadavg",
          "timeout",
          "tasks",
          "loadavg",
          "cpuacct.stat",
          "cpu.stat",
          "smp_affinity",
          "smp_affinity",
          "0.status",
          "loadavg",
          "hv_kvp",
          "300",
          "timeout",
          "smp_affinity"
         ],
         "marker": {
          "colors": [
           "#636efa",
           "#EF553B",
           "#00cc96",
           "#ab63fa",
           "#FFA15A",
           "#19d3f3",
           "#FF6692",
           "#B6E880",
           "#FF6692",
           "#EF553B",
           "#ab63fa",
           "#EF553B",
           "#FF6692",
           "#FF97FF",
           "#FECB52",
           "#636efa",
           "#EF553B",
           "#FF97FF",
           "#00cc96",
           "#ab63fa",
           "#FFA15A",
           "#19d3f3",
           "#19d3f3",
           "#636efa",
           "#EF553B",
           "#FF6692",
           "#FFA15A",
           "#FF6692",
           "#636efa",
           "#EF553B",
           "#00cc96",
           "#B6E880",
           "#19d3f3",
           "#FFA15A",
           "#FF97FF",
           "#FECB52",
           "#B6E880",
           "#EF553B",
           "#636efa",
           "#00cc96",
           "#FF97FF",
           "#FF97FF",
           "#FF97FF",
           "#FECB52",
           "#636efa",
           "#EF553B",
           "#636efa",
           "#FECB52",
           "#00cc96",
           "#636efa",
           "#EF553B",
           "#19d3f3",
           "#636efa",
           "#636efa",
           "#FF6692",
           "#FFA15A",
           "#00cc96",
           "#ab63fa",
           "#ab63fa",
           "#FECB52",
           "#FFA15A",
           "#FECB52",
           "#EF553B",
           "#19d3f3",
           "#636efa",
           "#19d3f3",
           "#FF6692",
           "#FFA15A",
           "#B6E880",
           "#FF6692",
           "#FF6692",
           "#FF6692",
           "#FF6692",
           "#EF553B",
           "#EF553B",
           "#EF553B",
           "#EF553B",
           "#EF553B",
           "#19d3f3",
           "#19d3f3",
           "#19d3f3",
           "#EF553B",
           "#EF553B",
           "#FF6692",
           "#ab63fa",
           "#ab63fa",
           "#ab63fa",
           "#B6E880",
           "#ab63fa",
           "#ab63fa",
           "#ab63fa",
           "#636efa",
           "#00cc96",
           "#FF97FF",
           "#636efa",
           "#636efa",
           "#636efa",
           "#FF97FF",
           "#FECB52",
           "#636efa",
           "#FECB52",
           "#00cc96",
           "#636efa",
           "#636efa",
           "#636efa",
           "#00cc96",
           "#636efa",
           "#FECB52",
           "#00cc96",
           "#FECB52",
           "#636efa",
           "#EF553B",
           "#636efa",
           "#B6E880",
           "#EF553B",
           "#EF553B",
           "#19d3f3",
           "#FF97FF",
           "#FF97FF",
           "#636efa",
           "#EF553B",
           "#00cc96",
           "#FECB52",
           "#636efa",
           "#FF97FF"
          ]
         },
         "name": "",
         "parents": [
          "1",
          "50",
          "10",
          "600",
          "400",
          "400",
          "500",
          "400",
          "300",
          "1",
          "500",
          "10",
          "400",
          "400",
          "",
          "10",
          "400",
          "50",
          "600",
          "600",
          "600",
          "600",
          "50",
          "50",
          "600",
          "300",
          "100",
          "200",
          "10",
          "100",
          "50",
          "50",
          "500",
          "600",
          "1",
          "",
          "400",
          "200",
          "50",
          "100",
          "600",
          "10",
          "200",
          "",
          "100",
          "500",
          "400",
          "500",
          "400",
          "1",
          "1",
          "1",
          "600",
          "300",
          "10",
          "1",
          "500",
          "10",
          "1",
          "",
          "500",
          "",
          "10",
          "10",
          "100",
          "50",
          "600",
          "600",
          "500",
          "1",
          "10",
          "50",
          "100",
          "300",
          "400",
          "200",
          "100",
          "50",
          "100",
          "200",
          "300",
          "500",
          "600",
          "200",
          "100",
          "200",
          "300",
          "50",
          "500",
          "400",
          "50",
          "600",
          "1",
          "500",
          "500",
          "10",
          "500",
          "400",
          "500",
          "300",
          "",
          "600",
          "200",
          "500",
          "200",
          "200",
          "200",
          "",
          "300",
          "",
          "300",
          "400",
          "1",
          "600",
          "300",
          "50",
          "400",
          "50",
          "100",
          "100",
          "600",
          "500",
          "",
          "400",
          "300"
         ],
         "type": "sunburst",
         "values": [
          302096,
          15.9736328125,
          2373.3046875,
          32,
          16,
          0,
          12,
          8,
          12,
          15.9736328125,
          16,
          15.9736328125,
          26.02734375,
          15.9912109375,
          304661.5615234375,
          31.9921875,
          15.978515625,
          15.9912109375,
          16,
          16,
          4095,
          16,
          0,
          31.9921875,
          15.978515625,
          4.140625,
          16,
          4.140625,
          302096,
          15.9736328125,
          2373.3046875,
          15.966796875,
          0,
          80,
          42,
          304673.4208984375,
          15.966796875,
          15.9736328125,
          302096,
          2373.3046875,
          15.9912109375,
          42,
          42,
          304661.5615234375,
          31.9921875,
          15.9736328125,
          302096,
          8,
          2373.3046875,
          4.150390625,
          66,
          0,
          31.9921875,
          4.150390625,
          4.140625,
          16,
          15.4990234375,
          16,
          16,
          304717.4921875,
          15.5986328125,
          308933.404296875,
          66,
          0,
          302096,
          8,
          16,
          31.197265625,
          13.458984375,
          12,
          12,
          26.033203125,
          12,
          66,
          66,
          66,
          66,
          66,
          0,
          0,
          0,
          66,
          66,
          12,
          16,
          16,
          16,
          8,
          24,
          16,
          16,
          302096,
          2373.3046875,
          8,
          302096,
          4.150390625,
          31.9921875,
          12,
          13.6650390625,
          31.9921875,
          304717.234375,
          2373.3046875,
          4.150390625,
          8,
          31.9921875,
          2373.3046875,
          302096,
          304707.240234375,
          2373.3046875,
          304673.4208984375,
          302096,
          15.9736328125,
          31.9921875,
          15.966796875,
          15.9736328125,
          15.978515625,
          8,
          18,
          42,
          4.150390625,
          15.9736328125,
          2373.3046875,
          304661.5615234375,
          31.9921875,
          42
         ]
        }
       ],
       "layout": {
        "legend": {
         "tracegroupgap": 0
        },
        "template": {
         "data": {
          "bar": [
           {
            "error_x": {
             "color": "#2a3f5f"
            },
            "error_y": {
             "color": "#2a3f5f"
            },
            "marker": {
             "line": {
              "color": "#E5ECF6",
              "width": 0.5
             },
             "pattern": {
              "fillmode": "overlay",
              "size": 10,
              "solidity": 0.2
             }
            },
            "type": "bar"
           }
          ],
          "barpolar": [
           {
            "marker": {
             "line": {
              "color": "#E5ECF6",
              "width": 0.5
             },
             "pattern": {
              "fillmode": "overlay",
              "size": 10,
              "solidity": 0.2
             }
            },
            "type": "barpolar"
           }
          ],
          "carpet": [
           {
            "aaxis": {
             "endlinecolor": "#2a3f5f",
             "gridcolor": "white",
             "linecolor": "white",
             "minorgridcolor": "white",
             "startlinecolor": "#2a3f5f"
            },
            "baxis": {
             "endlinecolor": "#2a3f5f",
             "gridcolor": "white",
             "linecolor": "white",
             "minorgridcolor": "white",
             "startlinecolor": "#2a3f5f"
            },
            "type": "carpet"
           }
          ],
          "choropleth": [
           {
            "colorbar": {
             "outlinewidth": 0,
             "ticks": ""
            },
            "type": "choropleth"
           }
          ],
          "contour": [
           {
            "colorbar": {
             "outlinewidth": 0,
             "ticks": ""
            },
            "colorscale": [
             [
              0,
              "#0d0887"
             ],
             [
              0.1111111111111111,
              "#46039f"
             ],
             [
              0.2222222222222222,
              "#7201a8"
             ],
             [
              0.3333333333333333,
              "#9c179e"
             ],
             [
              0.4444444444444444,
              "#bd3786"
             ],
             [
              0.5555555555555556,
              "#d8576b"
             ],
             [
              0.6666666666666666,
              "#ed7953"
             ],
             [
              0.7777777777777778,
              "#fb9f3a"
             ],
             [
              0.8888888888888888,
              "#fdca26"
             ],
             [
              1,
              "#f0f921"
             ]
            ],
            "type": "contour"
           }
          ],
          "contourcarpet": [
           {
            "colorbar": {
             "outlinewidth": 0,
             "ticks": ""
            },
            "type": "contourcarpet"
           }
          ],
          "heatmap": [
           {
            "colorbar": {
             "outlinewidth": 0,
             "ticks": ""
            },
            "colorscale": [
             [
              0,
              "#0d0887"
             ],
             [
              0.1111111111111111,
              "#46039f"
             ],
             [
              0.2222222222222222,
              "#7201a8"
             ],
             [
              0.3333333333333333,
              "#9c179e"
             ],
             [
              0.4444444444444444,
              "#bd3786"
             ],
             [
              0.5555555555555556,
              "#d8576b"
             ],
             [
              0.6666666666666666,
              "#ed7953"
             ],
             [
              0.7777777777777778,
              "#fb9f3a"
             ],
             [
              0.8888888888888888,
              "#fdca26"
             ],
             [
              1,
              "#f0f921"
             ]
            ],
            "type": "heatmap"
           }
          ],
          "heatmapgl": [
           {
            "colorbar": {
             "outlinewidth": 0,
             "ticks": ""
            },
            "colorscale": [
             [
              0,
              "#0d0887"
             ],
             [
              0.1111111111111111,
              "#46039f"
             ],
             [
              0.2222222222222222,
              "#7201a8"
             ],
             [
              0.3333333333333333,
              "#9c179e"
             ],
             [
              0.4444444444444444,
              "#bd3786"
             ],
             [
              0.5555555555555556,
              "#d8576b"
             ],
             [
              0.6666666666666666,
              "#ed7953"
             ],
             [
              0.7777777777777778,
              "#fb9f3a"
             ],
             [
              0.8888888888888888,
              "#fdca26"
             ],
             [
              1,
              "#f0f921"
             ]
            ],
            "type": "heatmapgl"
           }
          ],
          "histogram": [
           {
            "marker": {
             "pattern": {
              "fillmode": "overlay",
              "size": 10,
              "solidity": 0.2
             }
            },
            "type": "histogram"
           }
          ],
          "histogram2d": [
           {
            "colorbar": {
             "outlinewidth": 0,
             "ticks": ""
            },
            "colorscale": [
             [
              0,
              "#0d0887"
             ],
             [
              0.1111111111111111,
              "#46039f"
             ],
             [
              0.2222222222222222,
              "#7201a8"
             ],
             [
              0.3333333333333333,
              "#9c179e"
             ],
             [
              0.4444444444444444,
              "#bd3786"
             ],
             [
              0.5555555555555556,
              "#d8576b"
             ],
             [
              0.6666666666666666,
              "#ed7953"
             ],
             [
              0.7777777777777778,
              "#fb9f3a"
             ],
             [
              0.8888888888888888,
              "#fdca26"
             ],
             [
              1,
              "#f0f921"
             ]
            ],
            "type": "histogram2d"
           }
          ],
          "histogram2dcontour": [
           {
            "colorbar": {
             "outlinewidth": 0,
             "ticks": ""
            },
            "colorscale": [
             [
              0,
              "#0d0887"
             ],
             [
              0.1111111111111111,
              "#46039f"
             ],
             [
              0.2222222222222222,
              "#7201a8"
             ],
             [
              0.3333333333333333,
              "#9c179e"
             ],
             [
              0.4444444444444444,
              "#bd3786"
             ],
             [
              0.5555555555555556,
              "#d8576b"
             ],
             [
              0.6666666666666666,
              "#ed7953"
             ],
             [
              0.7777777777777778,
              "#fb9f3a"
             ],
             [
              0.8888888888888888,
              "#fdca26"
             ],
             [
              1,
              "#f0f921"
             ]
            ],
            "type": "histogram2dcontour"
           }
          ],
          "mesh3d": [
           {
            "colorbar": {
             "outlinewidth": 0,
             "ticks": ""
            },
            "type": "mesh3d"
           }
          ],
          "parcoords": [
           {
            "line": {
             "colorbar": {
              "outlinewidth": 0,
              "ticks": ""
             }
            },
            "type": "parcoords"
           }
          ],
          "pie": [
           {
            "automargin": true,
            "type": "pie"
           }
          ],
          "scatter": [
           {
            "marker": {
             "colorbar": {
              "outlinewidth": 0,
              "ticks": ""
             }
            },
            "type": "scatter"
           }
          ],
          "scatter3d": [
           {
            "line": {
             "colorbar": {
              "outlinewidth": 0,
              "ticks": ""
             }
            },
            "marker": {
             "colorbar": {
              "outlinewidth": 0,
              "ticks": ""
             }
            },
            "type": "scatter3d"
           }
          ],
          "scattercarpet": [
           {
            "marker": {
             "colorbar": {
              "outlinewidth": 0,
              "ticks": ""
             }
            },
            "type": "scattercarpet"
           }
          ],
          "scattergeo": [
           {
            "marker": {
             "colorbar": {
              "outlinewidth": 0,
              "ticks": ""
             }
            },
            "type": "scattergeo"
           }
          ],
          "scattergl": [
           {
            "marker": {
             "colorbar": {
              "outlinewidth": 0,
              "ticks": ""
             }
            },
            "type": "scattergl"
           }
          ],
          "scattermapbox": [
           {
            "marker": {
             "colorbar": {
              "outlinewidth": 0,
              "ticks": ""
             }
            },
            "type": "scattermapbox"
           }
          ],
          "scatterpolar": [
           {
            "marker": {
             "colorbar": {
              "outlinewidth": 0,
              "ticks": ""
             }
            },
            "type": "scatterpolar"
           }
          ],
          "scatterpolargl": [
           {
            "marker": {
             "colorbar": {
              "outlinewidth": 0,
              "ticks": ""
             }
            },
            "type": "scatterpolargl"
           }
          ],
          "scatterternary": [
           {
            "marker": {
             "colorbar": {
              "outlinewidth": 0,
              "ticks": ""
             }
            },
            "type": "scatterternary"
           }
          ],
          "surface": [
           {
            "colorbar": {
             "outlinewidth": 0,
             "ticks": ""
            },
            "colorscale": [
             [
              0,
              "#0d0887"
             ],
             [
              0.1111111111111111,
              "#46039f"
             ],
             [
              0.2222222222222222,
              "#7201a8"
             ],
             [
              0.3333333333333333,
              "#9c179e"
             ],
             [
              0.4444444444444444,
              "#bd3786"
             ],
             [
              0.5555555555555556,
              "#d8576b"
             ],
             [
              0.6666666666666666,
              "#ed7953"
             ],
             [
              0.7777777777777778,
              "#fb9f3a"
             ],
             [
              0.8888888888888888,
              "#fdca26"
             ],
             [
              1,
              "#f0f921"
             ]
            ],
            "type": "surface"
           }
          ],
          "table": [
           {
            "cells": {
             "fill": {
              "color": "#EBF0F8"
             },
             "line": {
              "color": "white"
             }
            },
            "header": {
             "fill": {
              "color": "#C8D4E3"
             },
             "line": {
              "color": "white"
             }
            },
            "type": "table"
           }
          ]
         },
         "layout": {
          "annotationdefaults": {
           "arrowcolor": "#2a3f5f",
           "arrowhead": 0,
           "arrowwidth": 1
          },
          "autotypenumbers": "strict",
          "coloraxis": {
           "colorbar": {
            "outlinewidth": 0,
            "ticks": ""
           }
          },
          "colorscale": {
           "diverging": [
            [
             0,
             "#8e0152"
            ],
            [
             0.1,
             "#c51b7d"
            ],
            [
             0.2,
             "#de77ae"
            ],
            [
             0.3,
             "#f1b6da"
            ],
            [
             0.4,
             "#fde0ef"
            ],
            [
             0.5,
             "#f7f7f7"
            ],
            [
             0.6,
             "#e6f5d0"
            ],
            [
             0.7,
             "#b8e186"
            ],
            [
             0.8,
             "#7fbc41"
            ],
            [
             0.9,
             "#4d9221"
            ],
            [
             1,
             "#276419"
            ]
           ],
           "sequential": [
            [
             0,
             "#0d0887"
            ],
            [
             0.1111111111111111,
             "#46039f"
            ],
            [
             0.2222222222222222,
             "#7201a8"
            ],
            [
             0.3333333333333333,
             "#9c179e"
            ],
            [
             0.4444444444444444,
             "#bd3786"
            ],
            [
             0.5555555555555556,
             "#d8576b"
            ],
            [
             0.6666666666666666,
             "#ed7953"
            ],
            [
             0.7777777777777778,
             "#fb9f3a"
            ],
            [
             0.8888888888888888,
             "#fdca26"
            ],
            [
             1,
             "#f0f921"
            ]
           ],
           "sequentialminus": [
            [
             0,
             "#0d0887"
            ],
            [
             0.1111111111111111,
             "#46039f"
            ],
            [
             0.2222222222222222,
             "#7201a8"
            ],
            [
             0.3333333333333333,
             "#9c179e"
            ],
            [
             0.4444444444444444,
             "#bd3786"
            ],
            [
             0.5555555555555556,
             "#d8576b"
            ],
            [
             0.6666666666666666,
             "#ed7953"
            ],
            [
             0.7777777777777778,
             "#fb9f3a"
            ],
            [
             0.8888888888888888,
             "#fdca26"
            ],
            [
             1,
             "#f0f921"
            ]
           ]
          },
          "colorway": [
           "#636efa",
           "#EF553B",
           "#00cc96",
           "#ab63fa",
           "#FFA15A",
           "#19d3f3",
           "#FF6692",
           "#B6E880",
           "#FF97FF",
           "#FECB52"
          ],
          "font": {
           "color": "#2a3f5f"
          },
          "geo": {
           "bgcolor": "white",
           "lakecolor": "white",
           "landcolor": "#E5ECF6",
           "showlakes": true,
           "showland": true,
           "subunitcolor": "white"
          },
          "hoverlabel": {
           "align": "left"
          },
          "hovermode": "closest",
          "mapbox": {
           "style": "light"
          },
          "paper_bgcolor": "white",
          "plot_bgcolor": "#E5ECF6",
          "polar": {
           "angularaxis": {
            "gridcolor": "white",
            "linecolor": "white",
            "ticks": ""
           },
           "bgcolor": "#E5ECF6",
           "radialaxis": {
            "gridcolor": "white",
            "linecolor": "white",
            "ticks": ""
           }
          },
          "scene": {
           "xaxis": {
            "backgroundcolor": "#E5ECF6",
            "gridcolor": "white",
            "gridwidth": 2,
            "linecolor": "white",
            "showbackground": true,
            "ticks": "",
            "zerolinecolor": "white"
           },
           "yaxis": {
            "backgroundcolor": "#E5ECF6",
            "gridcolor": "white",
            "gridwidth": 2,
            "linecolor": "white",
            "showbackground": true,
            "ticks": "",
            "zerolinecolor": "white"
           },
           "zaxis": {
            "backgroundcolor": "#E5ECF6",
            "gridcolor": "white",
            "gridwidth": 2,
            "linecolor": "white",
            "showbackground": true,
            "ticks": "",
            "zerolinecolor": "white"
           }
          },
          "shapedefaults": {
           "line": {
            "color": "#2a3f5f"
           }
          },
          "ternary": {
           "aaxis": {
            "gridcolor": "white",
            "linecolor": "white",
            "ticks": ""
           },
           "baxis": {
            "gridcolor": "white",
            "linecolor": "white",
            "ticks": ""
           },
           "bgcolor": "#E5ECF6",
           "caxis": {
            "gridcolor": "white",
            "linecolor": "white",
            "ticks": ""
           }
          },
          "title": {
           "x": 0.05
          },
          "xaxis": {
           "automargin": true,
           "gridcolor": "white",
           "linecolor": "white",
           "ticks": "",
           "title": {
            "standoff": 15
           },
           "zerolinecolor": "white",
           "zerolinewidth": 2
          },
          "yaxis": {
           "automargin": true,
           "gridcolor": "white",
           "linecolor": "white",
           "ticks": "",
           "title": {
            "standoff": 15
           },
           "zerolinecolor": "white",
           "zerolinewidth": 2
          }
         }
        },
        "title": {
         "text": "Most frequently read filenames - including TCP sockets"
        }
       }
      }
     },
     "metadata": {},
     "output_type": "display_data"
    },
    {
     "name": "stderr",
     "output_type": "stream",
     "text": [
      "/Users/tariromukute/Documents/personal/phd/dev/opengilan/notebooks/.venv/lib/python3.8/site-packages/plotly/express/_core.py:1637: FutureWarning:\n",
      "\n",
      "The frame.append method is deprecated and will be removed from pandas in a future version. Use pandas.concat instead.\n",
      "\n",
      "/Users/tariromukute/Documents/personal/phd/dev/opengilan/notebooks/.venv/lib/python3.8/site-packages/plotly/express/_core.py:1637: FutureWarning:\n",
      "\n",
      "The frame.append method is deprecated and will be removed from pandas in a future version. Use pandas.concat instead.\n",
      "\n"
     ]
    },
    {
     "data": {
      "application/vnd.plotly.v1+json": {
       "config": {
        "plotlyServerURL": "https://plot.ly"
       },
       "data": [
        {
         "branchvalues": "total",
         "customdata": [
          [
           0,
           ".kvp_pool_1"
          ],
          [
           0,
           "loadavg"
          ],
          [
           327,
           "hv_kvp"
          ],
          [
           0,
           "openssl.cnf"
          ],
          [
           1,
           "TCP"
          ],
          [
           10,
           "waagent_status.2.json"
          ],
          [
           0,
           "stat"
          ],
          [
           0,
           "online"
          ],
          [
           0,
           "stat"
          ],
          [
           0,
           "loadavg"
          ],
          [
           0,
           "openssl.cnf"
          ],
          [
           0,
           "loadavg"
          ],
          [
           0,
           "stat"
          ],
          [
           0,
           "cgroup.procs"
          ],
          [
           "(?)",
           "(?)"
          ],
          [
           0,
           "timeout"
          ],
          [
           0,
           "cpuacct.stat"
          ],
          [
           0,
           "cgroup.procs"
          ],
          [
           0,
           "common-password"
          ],
          [
           0,
           "common-account"
          ],
          [
           0,
           "cmdline"
          ],
          [
           0,
           "common-auth"
          ],
          [
           10,
           "waagent_status.2.json"
          ],
          [
           0,
           "timeout"
          ],
          [
           0,
           "cpuacct.stat"
          ],
          [
           0,
           "HandlerManifest.json"
          ],
          [
           1,
           "TCP"
          ],
          [
           0,
           "HandlerManifest.json"
          ],
          [
           0,
           ".kvp_pool_1"
          ],
          [
           0,
           "loadavg"
          ],
          [
           327,
           "hv_kvp"
          ],
          [
           0,
           "tasks"
          ],
          [
           10,
           "waagent_status.2.json"
          ],
          [
           9,
           "TCP"
          ],
          [
           0,
           "smp_affinity"
          ],
          [
           "(?)",
           "(?)"
          ],
          [
           0,
           "tasks"
          ],
          [
           0,
           "loadavg"
          ],
          [
           0,
           ".kvp_pool_1"
          ],
          [
           327,
           "hv_kvp"
          ],
          [
           0,
           "cgroup.procs"
          ],
          [
           0,
           "smp_affinity"
          ],
          [
           0,
           "smp_affinity"
          ],
          [
           "(?)",
           "(?)"
          ],
          [
           0,
           "timeout"
          ],
          [
           0,
           "loadavg"
          ],
          [
           0,
           ".kvp_pool_1"
          ],
          [
           0,
           "gai.conf"
          ],
          [
           327,
           "hv_kvp"
          ],
          [
           0,
           "0.status"
          ],
          [
           0,
           "interrupts"
          ],
          [
           10,
           "waagent_status.2.json"
          ],
          [
           0,
           "timeout"
          ],
          [
           0,
           "0.status"
          ],
          [
           0,
           "HandlerManifest.json"
          ],
          [
           1,
           "TCP"
          ],
          [
           0,
           "ssh_host_ecdsa_key"
          ],
          [
           0,
           "nsswitch.conf"
          ],
          [
           0,
           "nsswitch.conf"
          ],
          [
           "(?)",
           "(?)"
          ],
          [
           0,
           "ssh_host_ed25519_key"
          ],
          [
           "(?)",
           "(?)"
          ],
          [
           0,
           "interrupts"
          ],
          [
           10,
           "waagent_status.2.json"
          ],
          [
           0,
           ".kvp_pool_1"
          ],
          [
           0,
           "cpu.stat"
          ],
          [
           0,
           "common-session"
          ],
          [
           0,
           "ssh_host_ed25519_key"
          ],
          [
           0,
           "ssh_host_rsa_key"
          ],
          [
           0,
           "stat"
          ],
          [
           0,
           "stat"
          ],
          [
           0,
           "stat"
          ],
          [
           0,
           "stat"
          ],
          [
           0,
           "interrupts"
          ],
          [
           0,
           "interrupts"
          ],
          [
           0,
           "interrupts"
          ],
          [
           0,
           "interrupts"
          ],
          [
           0,
           "interrupts"
          ],
          [
           10,
           "waagent_status.2.json"
          ],
          [
           10,
           "waagent_status.2.json"
          ],
          [
           10,
           "waagent_status.2.json"
          ],
          [
           0,
           "interrupts"
          ],
          [
           0,
           "interrupts"
          ],
          [
           0,
           "stat"
          ],
          [
           0,
           "nsswitch.conf"
          ],
          [
           0,
           "nsswitch.conf"
          ],
          [
           0,
           "nsswitch.conf"
          ],
          [
           0,
           "online"
          ],
          [
           0,
           "nsswitch.conf"
          ],
          [
           0,
           "nsswitch.conf"
          ],
          [
           0,
           "nsswitch.conf"
          ],
          [
           0,
           ".kvp_pool_1"
          ],
          [
           327,
           "hv_kvp"
          ],
          [
           0,
           "hosts.deny"
          ],
          [
           0,
           ".kvp_pool_1"
          ],
          [
           0,
           "0.status"
          ],
          [
           0,
           "timeout"
          ],
          [
           0,
           "smp_affinity"
          ],
          [
           4,
           "managed-keys.bind.jnl"
          ],
          [
           0,
           "timeout"
          ],
          [
           "(?)",
           "(?)"
          ],
          [
           327,
           "hv_kvp"
          ],
          [
           0,
           "0.status"
          ],
          [
           0,
           "hosts.allow"
          ],
          [
           0,
           "timeout"
          ],
          [
           327,
           "hv_kvp"
          ],
          [
           0,
           ".kvp_pool_1"
          ],
          [
           "(?)",
           "(?)"
          ],
          [
           327,
           "hv_kvp"
          ],
          [
           "(?)",
           "(?)"
          ],
          [
           0,
           ".kvp_pool_1"
          ],
          [
           0,
           "loadavg"
          ],
          [
           0,
           "timeout"
          ],
          [
           0,
           "tasks"
          ],
          [
           0,
           "loadavg"
          ],
          [
           0,
           "cpuacct.stat"
          ],
          [
           0,
           "cpu.stat"
          ],
          [
           0,
           "smp_affinity"
          ],
          [
           0,
           "smp_affinity"
          ],
          [
           0,
           "0.status"
          ],
          [
           0,
           "loadavg"
          ],
          [
           327,
           "hv_kvp"
          ],
          [
           "(?)",
           "(?)"
          ],
          [
           0,
           "timeout"
          ],
          [
           0,
           "smp_affinity"
          ]
         ],
         "domain": {
          "x": [
           0,
           1
          ],
          "y": [
           0,
           1
          ]
         },
         "hovertemplate": "labels=%{label}<br>W_Kb=%{value}<br>parent=%{parent}<br>id=%{id}<br>WRITES=%{customdata[0]}<br>FILE=%{customdata[1]}<extra></extra>",
         "ids": [
          "1/.kvp_pool_1",
          "50/loadavg",
          "10/hv_kvp",
          "600/openssl.cnf",
          "400/TCP",
          "400/waagent_status.2.json",
          "500/stat",
          "400/online",
          "300/stat",
          "1/loadavg",
          "500/openssl.cnf",
          "10/loadavg",
          "400/stat",
          "400/cgroup.procs",
          "10",
          "10/timeout",
          "400/cpuacct.stat",
          "50/cgroup.procs",
          "600/common-password",
          "600/common-account",
          "600/cmdline",
          "600/common-auth",
          "50/waagent_status.2.json",
          "50/timeout",
          "600/cpuacct.stat",
          "300/HandlerManifest.json",
          "100/TCP",
          "200/HandlerManifest.json",
          "10/.kvp_pool_1",
          "100/loadavg",
          "50/hv_kvp",
          "50/tasks",
          "500/waagent_status.2.json",
          "600/TCP",
          "1/smp_affinity",
          "1",
          "400/tasks",
          "200/loadavg",
          "50/.kvp_pool_1",
          "100/hv_kvp",
          "600/cgroup.procs",
          "10/smp_affinity",
          "200/smp_affinity",
          "200",
          "100/timeout",
          "500/loadavg",
          "400/.kvp_pool_1",
          "500/gai.conf",
          "400/hv_kvp",
          "1/0.status",
          "1/interrupts",
          "1/waagent_status.2.json",
          "600/timeout",
          "300/0.status",
          "10/HandlerManifest.json",
          "1/TCP",
          "500/ssh_host_ecdsa_key",
          "10/nsswitch.conf",
          "1/nsswitch.conf",
          "500",
          "500/ssh_host_ed25519_key",
          "600",
          "10/interrupts",
          "10/waagent_status.2.json",
          "100/.kvp_pool_1",
          "50/cpu.stat",
          "600/common-session",
          "600/ssh_host_ed25519_key",
          "500/ssh_host_rsa_key",
          "1/stat",
          "10/stat",
          "50/stat",
          "100/stat",
          "300/interrupts",
          "400/interrupts",
          "200/interrupts",
          "100/interrupts",
          "50/interrupts",
          "100/waagent_status.2.json",
          "200/waagent_status.2.json",
          "300/waagent_status.2.json",
          "500/interrupts",
          "600/interrupts",
          "200/stat",
          "100/nsswitch.conf",
          "200/nsswitch.conf",
          "300/nsswitch.conf",
          "50/online",
          "500/nsswitch.conf",
          "400/nsswitch.conf",
          "50/nsswitch.conf",
          "600/.kvp_pool_1",
          "1/hv_kvp",
          "500/hosts.deny",
          "500/.kvp_pool_1",
          "10/0.status",
          "500/timeout",
          "400/smp_affinity",
          "500/managed-keys.bind.jnl",
          "300/timeout",
          "400",
          "600/hv_kvp",
          "200/0.status",
          "500/hosts.allow",
          "200/timeout",
          "200/hv_kvp",
          "200/.kvp_pool_1",
          "50",
          "300/hv_kvp",
          "100",
          "300/.kvp_pool_1",
          "400/loadavg",
          "1/timeout",
          "600/tasks",
          "300/loadavg",
          "50/cpuacct.stat",
          "400/cpu.stat",
          "50/smp_affinity",
          "100/smp_affinity",
          "100/0.status",
          "600/loadavg",
          "500/hv_kvp",
          "300",
          "400/timeout",
          "300/smp_affinity"
         ],
         "labels": [
          ".kvp_pool_1",
          "loadavg",
          "hv_kvp",
          "openssl.cnf",
          "TCP",
          "waagent_status.2.json",
          "stat",
          "online",
          "stat",
          "loadavg",
          "openssl.cnf",
          "loadavg",
          "stat",
          "cgroup.procs",
          "10",
          "timeout",
          "cpuacct.stat",
          "cgroup.procs",
          "common-password",
          "common-account",
          "cmdline",
          "common-auth",
          "waagent_status.2.json",
          "timeout",
          "cpuacct.stat",
          "HandlerManifest.json",
          "TCP",
          "HandlerManifest.json",
          ".kvp_pool_1",
          "loadavg",
          "hv_kvp",
          "tasks",
          "waagent_status.2.json",
          "TCP",
          "smp_affinity",
          "1",
          "tasks",
          "loadavg",
          ".kvp_pool_1",
          "hv_kvp",
          "cgroup.procs",
          "smp_affinity",
          "smp_affinity",
          "200",
          "timeout",
          "loadavg",
          ".kvp_pool_1",
          "gai.conf",
          "hv_kvp",
          "0.status",
          "interrupts",
          "waagent_status.2.json",
          "timeout",
          "0.status",
          "HandlerManifest.json",
          "TCP",
          "ssh_host_ecdsa_key",
          "nsswitch.conf",
          "nsswitch.conf",
          "500",
          "ssh_host_ed25519_key",
          "600",
          "interrupts",
          "waagent_status.2.json",
          ".kvp_pool_1",
          "cpu.stat",
          "common-session",
          "ssh_host_ed25519_key",
          "ssh_host_rsa_key",
          "stat",
          "stat",
          "stat",
          "stat",
          "interrupts",
          "interrupts",
          "interrupts",
          "interrupts",
          "interrupts",
          "waagent_status.2.json",
          "waagent_status.2.json",
          "waagent_status.2.json",
          "interrupts",
          "interrupts",
          "stat",
          "nsswitch.conf",
          "nsswitch.conf",
          "nsswitch.conf",
          "online",
          "nsswitch.conf",
          "nsswitch.conf",
          "nsswitch.conf",
          ".kvp_pool_1",
          "hv_kvp",
          "hosts.deny",
          ".kvp_pool_1",
          "0.status",
          "timeout",
          "smp_affinity",
          "managed-keys.bind.jnl",
          "timeout",
          "400",
          "hv_kvp",
          "0.status",
          "hosts.allow",
          "timeout",
          "hv_kvp",
          ".kvp_pool_1",
          "50",
          "hv_kvp",
          "100",
          ".kvp_pool_1",
          "loadavg",
          "timeout",
          "tasks",
          "loadavg",
          "cpuacct.stat",
          "cpu.stat",
          "smp_affinity",
          "smp_affinity",
          "0.status",
          "loadavg",
          "hv_kvp",
          "300",
          "timeout",
          "smp_affinity"
         ],
         "marker": {
          "colors": [
           "#636efa",
           "#EF553B",
           "#00cc96",
           "#ab63fa",
           "#FFA15A",
           "#19d3f3",
           "#FF6692",
           "#B6E880",
           "#FF6692",
           "#EF553B",
           "#ab63fa",
           "#EF553B",
           "#FF6692",
           "#FF97FF",
           "#FECB52",
           "#636efa",
           "#EF553B",
           "#FF97FF",
           "#00cc96",
           "#ab63fa",
           "#FFA15A",
           "#19d3f3",
           "#19d3f3",
           "#636efa",
           "#EF553B",
           "#FF6692",
           "#FFA15A",
           "#FF6692",
           "#636efa",
           "#EF553B",
           "#00cc96",
           "#B6E880",
           "#19d3f3",
           "#FFA15A",
           "#FF97FF",
           "#FECB52",
           "#B6E880",
           "#EF553B",
           "#636efa",
           "#00cc96",
           "#FF97FF",
           "#FF97FF",
           "#FF97FF",
           "#FECB52",
           "#636efa",
           "#EF553B",
           "#636efa",
           "#FECB52",
           "#00cc96",
           "#636efa",
           "#EF553B",
           "#19d3f3",
           "#636efa",
           "#636efa",
           "#FF6692",
           "#FFA15A",
           "#00cc96",
           "#ab63fa",
           "#ab63fa",
           "#FECB52",
           "#FFA15A",
           "#FECB52",
           "#EF553B",
           "#19d3f3",
           "#636efa",
           "#19d3f3",
           "#FF6692",
           "#FFA15A",
           "#B6E880",
           "#FF6692",
           "#FF6692",
           "#FF6692",
           "#FF6692",
           "#EF553B",
           "#EF553B",
           "#EF553B",
           "#EF553B",
           "#EF553B",
           "#19d3f3",
           "#19d3f3",
           "#19d3f3",
           "#EF553B",
           "#EF553B",
           "#FF6692",
           "#ab63fa",
           "#ab63fa",
           "#ab63fa",
           "#B6E880",
           "#ab63fa",
           "#ab63fa",
           "#ab63fa",
           "#636efa",
           "#00cc96",
           "#FF97FF",
           "#636efa",
           "#636efa",
           "#636efa",
           "#FF97FF",
           "#FECB52",
           "#636efa",
           "#FECB52",
           "#00cc96",
           "#636efa",
           "#636efa",
           "#636efa",
           "#00cc96",
           "#636efa",
           "#FECB52",
           "#00cc96",
           "#FECB52",
           "#636efa",
           "#EF553B",
           "#636efa",
           "#B6E880",
           "#EF553B",
           "#EF553B",
           "#19d3f3",
           "#FF97FF",
           "#FF97FF",
           "#636efa",
           "#EF553B",
           "#00cc96",
           "#FECB52",
           "#636efa",
           "#FF97FF"
          ]
         },
         "name": "",
         "parents": [
          "1",
          "50",
          "10",
          "600",
          "400",
          "400",
          "500",
          "400",
          "300",
          "1",
          "500",
          "10",
          "400",
          "400",
          "",
          "10",
          "400",
          "50",
          "600",
          "600",
          "600",
          "600",
          "50",
          "50",
          "600",
          "300",
          "100",
          "200",
          "10",
          "100",
          "50",
          "50",
          "500",
          "600",
          "1",
          "",
          "400",
          "200",
          "50",
          "100",
          "600",
          "10",
          "200",
          "",
          "100",
          "500",
          "400",
          "500",
          "400",
          "1",
          "1",
          "1",
          "600",
          "300",
          "10",
          "1",
          "500",
          "10",
          "1",
          "",
          "500",
          "",
          "10",
          "10",
          "100",
          "50",
          "600",
          "600",
          "500",
          "1",
          "10",
          "50",
          "100",
          "300",
          "400",
          "200",
          "100",
          "50",
          "100",
          "200",
          "300",
          "500",
          "600",
          "200",
          "100",
          "200",
          "300",
          "50",
          "500",
          "400",
          "50",
          "600",
          "1",
          "500",
          "500",
          "10",
          "500",
          "400",
          "500",
          "300",
          "",
          "600",
          "200",
          "500",
          "200",
          "200",
          "200",
          "",
          "300",
          "",
          "300",
          "400",
          "1",
          "600",
          "300",
          "50",
          "400",
          "50",
          "100",
          "100",
          "600",
          "500",
          "",
          "400",
          "300"
         ],
         "type": "sunburst",
         "values": [
          0,
          0,
          2373.3046875,
          0,
          0.05859375,
          13.359375,
          0,
          0,
          0,
          0,
          0,
          0,
          0,
          0,
          2386.6640625,
          0,
          0,
          0,
          0,
          0,
          0,
          0,
          13.359375,
          0,
          0,
          0,
          0.05859375,
          0,
          0,
          0,
          2373.3046875,
          0,
          13.359375,
          1.8046875,
          0,
          2386.72265625,
          0,
          0,
          0,
          2373.3046875,
          0,
          0,
          0,
          2386.6640625,
          0,
          0,
          0,
          0,
          2373.3046875,
          0,
          0,
          13.359375,
          0,
          0,
          0,
          0.05859375,
          0,
          0,
          0,
          2387.828125,
          0,
          2375.109375,
          0,
          13.359375,
          0,
          0,
          0,
          0,
          0,
          0,
          0,
          0,
          0,
          0,
          0,
          0,
          0,
          0,
          13.359375,
          13.359375,
          13.359375,
          0,
          0,
          0,
          0,
          0,
          0,
          0,
          0,
          0,
          0,
          0,
          2373.3046875,
          0,
          0,
          0,
          0,
          0,
          1.1640625,
          0,
          2386.72265625,
          2373.3046875,
          0,
          0,
          0,
          2373.3046875,
          0,
          2386.6640625,
          2373.3046875,
          2386.72265625,
          0,
          0,
          0,
          0,
          0,
          0,
          0,
          0,
          0,
          0,
          0,
          2373.3046875,
          2386.6640625,
          0,
          0
         ]
        }
       ],
       "layout": {
        "legend": {
         "tracegroupgap": 0
        },
        "template": {
         "data": {
          "bar": [
           {
            "error_x": {
             "color": "#2a3f5f"
            },
            "error_y": {
             "color": "#2a3f5f"
            },
            "marker": {
             "line": {
              "color": "#E5ECF6",
              "width": 0.5
             },
             "pattern": {
              "fillmode": "overlay",
              "size": 10,
              "solidity": 0.2
             }
            },
            "type": "bar"
           }
          ],
          "barpolar": [
           {
            "marker": {
             "line": {
              "color": "#E5ECF6",
              "width": 0.5
             },
             "pattern": {
              "fillmode": "overlay",
              "size": 10,
              "solidity": 0.2
             }
            },
            "type": "barpolar"
           }
          ],
          "carpet": [
           {
            "aaxis": {
             "endlinecolor": "#2a3f5f",
             "gridcolor": "white",
             "linecolor": "white",
             "minorgridcolor": "white",
             "startlinecolor": "#2a3f5f"
            },
            "baxis": {
             "endlinecolor": "#2a3f5f",
             "gridcolor": "white",
             "linecolor": "white",
             "minorgridcolor": "white",
             "startlinecolor": "#2a3f5f"
            },
            "type": "carpet"
           }
          ],
          "choropleth": [
           {
            "colorbar": {
             "outlinewidth": 0,
             "ticks": ""
            },
            "type": "choropleth"
           }
          ],
          "contour": [
           {
            "colorbar": {
             "outlinewidth": 0,
             "ticks": ""
            },
            "colorscale": [
             [
              0,
              "#0d0887"
             ],
             [
              0.1111111111111111,
              "#46039f"
             ],
             [
              0.2222222222222222,
              "#7201a8"
             ],
             [
              0.3333333333333333,
              "#9c179e"
             ],
             [
              0.4444444444444444,
              "#bd3786"
             ],
             [
              0.5555555555555556,
              "#d8576b"
             ],
             [
              0.6666666666666666,
              "#ed7953"
             ],
             [
              0.7777777777777778,
              "#fb9f3a"
             ],
             [
              0.8888888888888888,
              "#fdca26"
             ],
             [
              1,
              "#f0f921"
             ]
            ],
            "type": "contour"
           }
          ],
          "contourcarpet": [
           {
            "colorbar": {
             "outlinewidth": 0,
             "ticks": ""
            },
            "type": "contourcarpet"
           }
          ],
          "heatmap": [
           {
            "colorbar": {
             "outlinewidth": 0,
             "ticks": ""
            },
            "colorscale": [
             [
              0,
              "#0d0887"
             ],
             [
              0.1111111111111111,
              "#46039f"
             ],
             [
              0.2222222222222222,
              "#7201a8"
             ],
             [
              0.3333333333333333,
              "#9c179e"
             ],
             [
              0.4444444444444444,
              "#bd3786"
             ],
             [
              0.5555555555555556,
              "#d8576b"
             ],
             [
              0.6666666666666666,
              "#ed7953"
             ],
             [
              0.7777777777777778,
              "#fb9f3a"
             ],
             [
              0.8888888888888888,
              "#fdca26"
             ],
             [
              1,
              "#f0f921"
             ]
            ],
            "type": "heatmap"
           }
          ],
          "heatmapgl": [
           {
            "colorbar": {
             "outlinewidth": 0,
             "ticks": ""
            },
            "colorscale": [
             [
              0,
              "#0d0887"
             ],
             [
              0.1111111111111111,
              "#46039f"
             ],
             [
              0.2222222222222222,
              "#7201a8"
             ],
             [
              0.3333333333333333,
              "#9c179e"
             ],
             [
              0.4444444444444444,
              "#bd3786"
             ],
             [
              0.5555555555555556,
              "#d8576b"
             ],
             [
              0.6666666666666666,
              "#ed7953"
             ],
             [
              0.7777777777777778,
              "#fb9f3a"
             ],
             [
              0.8888888888888888,
              "#fdca26"
             ],
             [
              1,
              "#f0f921"
             ]
            ],
            "type": "heatmapgl"
           }
          ],
          "histogram": [
           {
            "marker": {
             "pattern": {
              "fillmode": "overlay",
              "size": 10,
              "solidity": 0.2
             }
            },
            "type": "histogram"
           }
          ],
          "histogram2d": [
           {
            "colorbar": {
             "outlinewidth": 0,
             "ticks": ""
            },
            "colorscale": [
             [
              0,
              "#0d0887"
             ],
             [
              0.1111111111111111,
              "#46039f"
             ],
             [
              0.2222222222222222,
              "#7201a8"
             ],
             [
              0.3333333333333333,
              "#9c179e"
             ],
             [
              0.4444444444444444,
              "#bd3786"
             ],
             [
              0.5555555555555556,
              "#d8576b"
             ],
             [
              0.6666666666666666,
              "#ed7953"
             ],
             [
              0.7777777777777778,
              "#fb9f3a"
             ],
             [
              0.8888888888888888,
              "#fdca26"
             ],
             [
              1,
              "#f0f921"
             ]
            ],
            "type": "histogram2d"
           }
          ],
          "histogram2dcontour": [
           {
            "colorbar": {
             "outlinewidth": 0,
             "ticks": ""
            },
            "colorscale": [
             [
              0,
              "#0d0887"
             ],
             [
              0.1111111111111111,
              "#46039f"
             ],
             [
              0.2222222222222222,
              "#7201a8"
             ],
             [
              0.3333333333333333,
              "#9c179e"
             ],
             [
              0.4444444444444444,
              "#bd3786"
             ],
             [
              0.5555555555555556,
              "#d8576b"
             ],
             [
              0.6666666666666666,
              "#ed7953"
             ],
             [
              0.7777777777777778,
              "#fb9f3a"
             ],
             [
              0.8888888888888888,
              "#fdca26"
             ],
             [
              1,
              "#f0f921"
             ]
            ],
            "type": "histogram2dcontour"
           }
          ],
          "mesh3d": [
           {
            "colorbar": {
             "outlinewidth": 0,
             "ticks": ""
            },
            "type": "mesh3d"
           }
          ],
          "parcoords": [
           {
            "line": {
             "colorbar": {
              "outlinewidth": 0,
              "ticks": ""
             }
            },
            "type": "parcoords"
           }
          ],
          "pie": [
           {
            "automargin": true,
            "type": "pie"
           }
          ],
          "scatter": [
           {
            "marker": {
             "colorbar": {
              "outlinewidth": 0,
              "ticks": ""
             }
            },
            "type": "scatter"
           }
          ],
          "scatter3d": [
           {
            "line": {
             "colorbar": {
              "outlinewidth": 0,
              "ticks": ""
             }
            },
            "marker": {
             "colorbar": {
              "outlinewidth": 0,
              "ticks": ""
             }
            },
            "type": "scatter3d"
           }
          ],
          "scattercarpet": [
           {
            "marker": {
             "colorbar": {
              "outlinewidth": 0,
              "ticks": ""
             }
            },
            "type": "scattercarpet"
           }
          ],
          "scattergeo": [
           {
            "marker": {
             "colorbar": {
              "outlinewidth": 0,
              "ticks": ""
             }
            },
            "type": "scattergeo"
           }
          ],
          "scattergl": [
           {
            "marker": {
             "colorbar": {
              "outlinewidth": 0,
              "ticks": ""
             }
            },
            "type": "scattergl"
           }
          ],
          "scattermapbox": [
           {
            "marker": {
             "colorbar": {
              "outlinewidth": 0,
              "ticks": ""
             }
            },
            "type": "scattermapbox"
           }
          ],
          "scatterpolar": [
           {
            "marker": {
             "colorbar": {
              "outlinewidth": 0,
              "ticks": ""
             }
            },
            "type": "scatterpolar"
           }
          ],
          "scatterpolargl": [
           {
            "marker": {
             "colorbar": {
              "outlinewidth": 0,
              "ticks": ""
             }
            },
            "type": "scatterpolargl"
           }
          ],
          "scatterternary": [
           {
            "marker": {
             "colorbar": {
              "outlinewidth": 0,
              "ticks": ""
             }
            },
            "type": "scatterternary"
           }
          ],
          "surface": [
           {
            "colorbar": {
             "outlinewidth": 0,
             "ticks": ""
            },
            "colorscale": [
             [
              0,
              "#0d0887"
             ],
             [
              0.1111111111111111,
              "#46039f"
             ],
             [
              0.2222222222222222,
              "#7201a8"
             ],
             [
              0.3333333333333333,
              "#9c179e"
             ],
             [
              0.4444444444444444,
              "#bd3786"
             ],
             [
              0.5555555555555556,
              "#d8576b"
             ],
             [
              0.6666666666666666,
              "#ed7953"
             ],
             [
              0.7777777777777778,
              "#fb9f3a"
             ],
             [
              0.8888888888888888,
              "#fdca26"
             ],
             [
              1,
              "#f0f921"
             ]
            ],
            "type": "surface"
           }
          ],
          "table": [
           {
            "cells": {
             "fill": {
              "color": "#EBF0F8"
             },
             "line": {
              "color": "white"
             }
            },
            "header": {
             "fill": {
              "color": "#C8D4E3"
             },
             "line": {
              "color": "white"
             }
            },
            "type": "table"
           }
          ]
         },
         "layout": {
          "annotationdefaults": {
           "arrowcolor": "#2a3f5f",
           "arrowhead": 0,
           "arrowwidth": 1
          },
          "autotypenumbers": "strict",
          "coloraxis": {
           "colorbar": {
            "outlinewidth": 0,
            "ticks": ""
           }
          },
          "colorscale": {
           "diverging": [
            [
             0,
             "#8e0152"
            ],
            [
             0.1,
             "#c51b7d"
            ],
            [
             0.2,
             "#de77ae"
            ],
            [
             0.3,
             "#f1b6da"
            ],
            [
             0.4,
             "#fde0ef"
            ],
            [
             0.5,
             "#f7f7f7"
            ],
            [
             0.6,
             "#e6f5d0"
            ],
            [
             0.7,
             "#b8e186"
            ],
            [
             0.8,
             "#7fbc41"
            ],
            [
             0.9,
             "#4d9221"
            ],
            [
             1,
             "#276419"
            ]
           ],
           "sequential": [
            [
             0,
             "#0d0887"
            ],
            [
             0.1111111111111111,
             "#46039f"
            ],
            [
             0.2222222222222222,
             "#7201a8"
            ],
            [
             0.3333333333333333,
             "#9c179e"
            ],
            [
             0.4444444444444444,
             "#bd3786"
            ],
            [
             0.5555555555555556,
             "#d8576b"
            ],
            [
             0.6666666666666666,
             "#ed7953"
            ],
            [
             0.7777777777777778,
             "#fb9f3a"
            ],
            [
             0.8888888888888888,
             "#fdca26"
            ],
            [
             1,
             "#f0f921"
            ]
           ],
           "sequentialminus": [
            [
             0,
             "#0d0887"
            ],
            [
             0.1111111111111111,
             "#46039f"
            ],
            [
             0.2222222222222222,
             "#7201a8"
            ],
            [
             0.3333333333333333,
             "#9c179e"
            ],
            [
             0.4444444444444444,
             "#bd3786"
            ],
            [
             0.5555555555555556,
             "#d8576b"
            ],
            [
             0.6666666666666666,
             "#ed7953"
            ],
            [
             0.7777777777777778,
             "#fb9f3a"
            ],
            [
             0.8888888888888888,
             "#fdca26"
            ],
            [
             1,
             "#f0f921"
            ]
           ]
          },
          "colorway": [
           "#636efa",
           "#EF553B",
           "#00cc96",
           "#ab63fa",
           "#FFA15A",
           "#19d3f3",
           "#FF6692",
           "#B6E880",
           "#FF97FF",
           "#FECB52"
          ],
          "font": {
           "color": "#2a3f5f"
          },
          "geo": {
           "bgcolor": "white",
           "lakecolor": "white",
           "landcolor": "#E5ECF6",
           "showlakes": true,
           "showland": true,
           "subunitcolor": "white"
          },
          "hoverlabel": {
           "align": "left"
          },
          "hovermode": "closest",
          "mapbox": {
           "style": "light"
          },
          "paper_bgcolor": "white",
          "plot_bgcolor": "#E5ECF6",
          "polar": {
           "angularaxis": {
            "gridcolor": "white",
            "linecolor": "white",
            "ticks": ""
           },
           "bgcolor": "#E5ECF6",
           "radialaxis": {
            "gridcolor": "white",
            "linecolor": "white",
            "ticks": ""
           }
          },
          "scene": {
           "xaxis": {
            "backgroundcolor": "#E5ECF6",
            "gridcolor": "white",
            "gridwidth": 2,
            "linecolor": "white",
            "showbackground": true,
            "ticks": "",
            "zerolinecolor": "white"
           },
           "yaxis": {
            "backgroundcolor": "#E5ECF6",
            "gridcolor": "white",
            "gridwidth": 2,
            "linecolor": "white",
            "showbackground": true,
            "ticks": "",
            "zerolinecolor": "white"
           },
           "zaxis": {
            "backgroundcolor": "#E5ECF6",
            "gridcolor": "white",
            "gridwidth": 2,
            "linecolor": "white",
            "showbackground": true,
            "ticks": "",
            "zerolinecolor": "white"
           }
          },
          "shapedefaults": {
           "line": {
            "color": "#2a3f5f"
           }
          },
          "ternary": {
           "aaxis": {
            "gridcolor": "white",
            "linecolor": "white",
            "ticks": ""
           },
           "baxis": {
            "gridcolor": "white",
            "linecolor": "white",
            "ticks": ""
           },
           "bgcolor": "#E5ECF6",
           "caxis": {
            "gridcolor": "white",
            "linecolor": "white",
            "ticks": ""
           }
          },
          "title": {
           "x": 0.05
          },
          "xaxis": {
           "automargin": true,
           "gridcolor": "white",
           "linecolor": "white",
           "ticks": "",
           "title": {
            "standoff": 15
           },
           "zerolinecolor": "white",
           "zerolinewidth": 2
          },
          "yaxis": {
           "automargin": true,
           "gridcolor": "white",
           "linecolor": "white",
           "ticks": "",
           "title": {
            "standoff": 15
           },
           "zerolinecolor": "white",
           "zerolinewidth": 2
          }
         }
        },
        "title": {
         "text": "Most frequently written filenames - including TCP sockets"
        }
       }
      }
     },
     "metadata": {},
     "output_type": "display_data"
    }
   ],
   "source": [
    "filetop_df = spark.read.option(\"basePath\", \"../ansible/.results\").json(\n",
    "\"../ansible/.results/kpps=*/tool=filetop\")\n",
    "# Reads\n",
    "filetop_read_fig = px.sunburst(filetop_df.toPandas(), path=['kpps', 'FILE'], values='R_Kb',\n",
    "                  color='FILE', hover_data=['READS'],\n",
    "                  title=\"Most frequently read filenames - including TCP sockets\",\n",
    "                  labels={\n",
    "                    \"kpps\": \"Packets Per Second (thousand)\",\n",
    "                    \"READS\": \"Number of file reads\",\n",
    "                    \"FILE\": \"File names\"\n",
    "                })\n",
    "filetop_read_fig.show()\n",
    "filetop_read_fig.write_image(\"images/filetop-reads.jpeg\")\n",
    "# Writes\n",
    "filetop_write_fig = px.sunburst(filetop_df.toPandas(), path=['kpps', 'FILE'], values='W_Kb',\n",
    "                  color='FILE', hover_data=['WRITES'],\n",
    "                  title=\"Most frequently written filenames - including TCP sockets\")\n",
    "filetop_write_fig.show()\n",
    "filetop_write_fig.write_image(\"images/filetop-writes.jpeg\")\n",
    "with open(html_output_file, 'a') as f:\n",
    "    f.write(filetop_read_fig.to_html(full_html=False, include_plotlyjs='cdn'))\n",
    "    f.write(filetop_write_fig.to_html(full_html=False, include_plotlyjs='cdn'))"
   ]
  },
  {
   "cell_type": "code",
   "execution_count": 15,
   "metadata": {},
   "outputs": [
    {
     "data": {
      "application/vnd.plotly.v1+json": {
       "config": {
        "plotlyServerURL": "https://plot.ly"
       },
       "data": [
        {
         "alignmentgroup": "True",
         "cliponaxis": false,
         "hovertemplate": "Cache Operation=HITS<br>Packets Per Second (thousand)=%{x}<br>Count=%{y}<extra></extra>",
         "legendgroup": "HITS",
         "marker": {
          "color": "#636efa",
          "pattern": {
           "shape": ""
          }
         },
         "name": "HITS",
         "offsetgroup": "HITS",
         "orientation": "v",
         "showlegend": true,
         "textangle": 0,
         "textfont": {
          "size": 12
         },
         "textposition": "outside",
         "type": "bar",
         "x": [
          50,
          400,
          600,
          200,
          500,
          100,
          300,
          1,
          10
         ],
         "xaxis": "x",
         "y": [
          62407,
          61841,
          61793,
          61780,
          61748,
          61806,
          65077,
          61803,
          63992
         ],
         "yaxis": "y"
        },
        {
         "alignmentgroup": "True",
         "cliponaxis": false,
         "hovertemplate": "Cache Operation=MISSES<br>Packets Per Second (thousand)=%{x}<br>Count=%{y}<extra></extra>",
         "legendgroup": "MISSES",
         "marker": {
          "color": "#EF553B",
          "pattern": {
           "shape": ""
          }
         },
         "name": "MISSES",
         "offsetgroup": "MISSES",
         "orientation": "v",
         "showlegend": true,
         "textangle": 0,
         "textfont": {
          "size": 12
         },
         "textposition": "outside",
         "type": "bar",
         "x": [
          50,
          400,
          600,
          200,
          500,
          100,
          300,
          1,
          10
         ],
         "xaxis": "x",
         "y": [
          0,
          0,
          0,
          0,
          0,
          0,
          0,
          0,
          0
         ],
         "yaxis": "y"
        },
        {
         "alignmentgroup": "True",
         "cliponaxis": false,
         "hovertemplate": "Cache Operation=DIRTIES<br>Packets Per Second (thousand)=%{x}<br>Count=%{y}<extra></extra>",
         "legendgroup": "DIRTIES",
         "marker": {
          "color": "#00cc96",
          "pattern": {
           "shape": ""
          }
         },
         "name": "DIRTIES",
         "offsetgroup": "DIRTIES",
         "orientation": "v",
         "showlegend": true,
         "textangle": 0,
         "textfont": {
          "size": 12
         },
         "textposition": "outside",
         "type": "bar",
         "x": [
          50,
          400,
          600,
          200,
          500,
          100,
          300,
          1,
          10
         ],
         "xaxis": "x",
         "y": [
          85,
          29,
          36,
          19,
          29,
          23,
          62,
          20,
          26
         ],
         "yaxis": "y"
        }
       ],
       "layout": {
        "barmode": "group",
        "legend": {
         "title": {
          "text": "Cache Operation"
         },
         "tracegroupgap": 0
        },
        "template": {
         "data": {
          "bar": [
           {
            "error_x": {
             "color": "#2a3f5f"
            },
            "error_y": {
             "color": "#2a3f5f"
            },
            "marker": {
             "line": {
              "color": "#E5ECF6",
              "width": 0.5
             },
             "pattern": {
              "fillmode": "overlay",
              "size": 10,
              "solidity": 0.2
             }
            },
            "type": "bar"
           }
          ],
          "barpolar": [
           {
            "marker": {
             "line": {
              "color": "#E5ECF6",
              "width": 0.5
             },
             "pattern": {
              "fillmode": "overlay",
              "size": 10,
              "solidity": 0.2
             }
            },
            "type": "barpolar"
           }
          ],
          "carpet": [
           {
            "aaxis": {
             "endlinecolor": "#2a3f5f",
             "gridcolor": "white",
             "linecolor": "white",
             "minorgridcolor": "white",
             "startlinecolor": "#2a3f5f"
            },
            "baxis": {
             "endlinecolor": "#2a3f5f",
             "gridcolor": "white",
             "linecolor": "white",
             "minorgridcolor": "white",
             "startlinecolor": "#2a3f5f"
            },
            "type": "carpet"
           }
          ],
          "choropleth": [
           {
            "colorbar": {
             "outlinewidth": 0,
             "ticks": ""
            },
            "type": "choropleth"
           }
          ],
          "contour": [
           {
            "colorbar": {
             "outlinewidth": 0,
             "ticks": ""
            },
            "colorscale": [
             [
              0,
              "#0d0887"
             ],
             [
              0.1111111111111111,
              "#46039f"
             ],
             [
              0.2222222222222222,
              "#7201a8"
             ],
             [
              0.3333333333333333,
              "#9c179e"
             ],
             [
              0.4444444444444444,
              "#bd3786"
             ],
             [
              0.5555555555555556,
              "#d8576b"
             ],
             [
              0.6666666666666666,
              "#ed7953"
             ],
             [
              0.7777777777777778,
              "#fb9f3a"
             ],
             [
              0.8888888888888888,
              "#fdca26"
             ],
             [
              1,
              "#f0f921"
             ]
            ],
            "type": "contour"
           }
          ],
          "contourcarpet": [
           {
            "colorbar": {
             "outlinewidth": 0,
             "ticks": ""
            },
            "type": "contourcarpet"
           }
          ],
          "heatmap": [
           {
            "colorbar": {
             "outlinewidth": 0,
             "ticks": ""
            },
            "colorscale": [
             [
              0,
              "#0d0887"
             ],
             [
              0.1111111111111111,
              "#46039f"
             ],
             [
              0.2222222222222222,
              "#7201a8"
             ],
             [
              0.3333333333333333,
              "#9c179e"
             ],
             [
              0.4444444444444444,
              "#bd3786"
             ],
             [
              0.5555555555555556,
              "#d8576b"
             ],
             [
              0.6666666666666666,
              "#ed7953"
             ],
             [
              0.7777777777777778,
              "#fb9f3a"
             ],
             [
              0.8888888888888888,
              "#fdca26"
             ],
             [
              1,
              "#f0f921"
             ]
            ],
            "type": "heatmap"
           }
          ],
          "heatmapgl": [
           {
            "colorbar": {
             "outlinewidth": 0,
             "ticks": ""
            },
            "colorscale": [
             [
              0,
              "#0d0887"
             ],
             [
              0.1111111111111111,
              "#46039f"
             ],
             [
              0.2222222222222222,
              "#7201a8"
             ],
             [
              0.3333333333333333,
              "#9c179e"
             ],
             [
              0.4444444444444444,
              "#bd3786"
             ],
             [
              0.5555555555555556,
              "#d8576b"
             ],
             [
              0.6666666666666666,
              "#ed7953"
             ],
             [
              0.7777777777777778,
              "#fb9f3a"
             ],
             [
              0.8888888888888888,
              "#fdca26"
             ],
             [
              1,
              "#f0f921"
             ]
            ],
            "type": "heatmapgl"
           }
          ],
          "histogram": [
           {
            "marker": {
             "pattern": {
              "fillmode": "overlay",
              "size": 10,
              "solidity": 0.2
             }
            },
            "type": "histogram"
           }
          ],
          "histogram2d": [
           {
            "colorbar": {
             "outlinewidth": 0,
             "ticks": ""
            },
            "colorscale": [
             [
              0,
              "#0d0887"
             ],
             [
              0.1111111111111111,
              "#46039f"
             ],
             [
              0.2222222222222222,
              "#7201a8"
             ],
             [
              0.3333333333333333,
              "#9c179e"
             ],
             [
              0.4444444444444444,
              "#bd3786"
             ],
             [
              0.5555555555555556,
              "#d8576b"
             ],
             [
              0.6666666666666666,
              "#ed7953"
             ],
             [
              0.7777777777777778,
              "#fb9f3a"
             ],
             [
              0.8888888888888888,
              "#fdca26"
             ],
             [
              1,
              "#f0f921"
             ]
            ],
            "type": "histogram2d"
           }
          ],
          "histogram2dcontour": [
           {
            "colorbar": {
             "outlinewidth": 0,
             "ticks": ""
            },
            "colorscale": [
             [
              0,
              "#0d0887"
             ],
             [
              0.1111111111111111,
              "#46039f"
             ],
             [
              0.2222222222222222,
              "#7201a8"
             ],
             [
              0.3333333333333333,
              "#9c179e"
             ],
             [
              0.4444444444444444,
              "#bd3786"
             ],
             [
              0.5555555555555556,
              "#d8576b"
             ],
             [
              0.6666666666666666,
              "#ed7953"
             ],
             [
              0.7777777777777778,
              "#fb9f3a"
             ],
             [
              0.8888888888888888,
              "#fdca26"
             ],
             [
              1,
              "#f0f921"
             ]
            ],
            "type": "histogram2dcontour"
           }
          ],
          "mesh3d": [
           {
            "colorbar": {
             "outlinewidth": 0,
             "ticks": ""
            },
            "type": "mesh3d"
           }
          ],
          "parcoords": [
           {
            "line": {
             "colorbar": {
              "outlinewidth": 0,
              "ticks": ""
             }
            },
            "type": "parcoords"
           }
          ],
          "pie": [
           {
            "automargin": true,
            "type": "pie"
           }
          ],
          "scatter": [
           {
            "marker": {
             "colorbar": {
              "outlinewidth": 0,
              "ticks": ""
             }
            },
            "type": "scatter"
           }
          ],
          "scatter3d": [
           {
            "line": {
             "colorbar": {
              "outlinewidth": 0,
              "ticks": ""
             }
            },
            "marker": {
             "colorbar": {
              "outlinewidth": 0,
              "ticks": ""
             }
            },
            "type": "scatter3d"
           }
          ],
          "scattercarpet": [
           {
            "marker": {
             "colorbar": {
              "outlinewidth": 0,
              "ticks": ""
             }
            },
            "type": "scattercarpet"
           }
          ],
          "scattergeo": [
           {
            "marker": {
             "colorbar": {
              "outlinewidth": 0,
              "ticks": ""
             }
            },
            "type": "scattergeo"
           }
          ],
          "scattergl": [
           {
            "marker": {
             "colorbar": {
              "outlinewidth": 0,
              "ticks": ""
             }
            },
            "type": "scattergl"
           }
          ],
          "scattermapbox": [
           {
            "marker": {
             "colorbar": {
              "outlinewidth": 0,
              "ticks": ""
             }
            },
            "type": "scattermapbox"
           }
          ],
          "scatterpolar": [
           {
            "marker": {
             "colorbar": {
              "outlinewidth": 0,
              "ticks": ""
             }
            },
            "type": "scatterpolar"
           }
          ],
          "scatterpolargl": [
           {
            "marker": {
             "colorbar": {
              "outlinewidth": 0,
              "ticks": ""
             }
            },
            "type": "scatterpolargl"
           }
          ],
          "scatterternary": [
           {
            "marker": {
             "colorbar": {
              "outlinewidth": 0,
              "ticks": ""
             }
            },
            "type": "scatterternary"
           }
          ],
          "surface": [
           {
            "colorbar": {
             "outlinewidth": 0,
             "ticks": ""
            },
            "colorscale": [
             [
              0,
              "#0d0887"
             ],
             [
              0.1111111111111111,
              "#46039f"
             ],
             [
              0.2222222222222222,
              "#7201a8"
             ],
             [
              0.3333333333333333,
              "#9c179e"
             ],
             [
              0.4444444444444444,
              "#bd3786"
             ],
             [
              0.5555555555555556,
              "#d8576b"
             ],
             [
              0.6666666666666666,
              "#ed7953"
             ],
             [
              0.7777777777777778,
              "#fb9f3a"
             ],
             [
              0.8888888888888888,
              "#fdca26"
             ],
             [
              1,
              "#f0f921"
             ]
            ],
            "type": "surface"
           }
          ],
          "table": [
           {
            "cells": {
             "fill": {
              "color": "#EBF0F8"
             },
             "line": {
              "color": "white"
             }
            },
            "header": {
             "fill": {
              "color": "#C8D4E3"
             },
             "line": {
              "color": "white"
             }
            },
            "type": "table"
           }
          ]
         },
         "layout": {
          "annotationdefaults": {
           "arrowcolor": "#2a3f5f",
           "arrowhead": 0,
           "arrowwidth": 1
          },
          "autotypenumbers": "strict",
          "coloraxis": {
           "colorbar": {
            "outlinewidth": 0,
            "ticks": ""
           }
          },
          "colorscale": {
           "diverging": [
            [
             0,
             "#8e0152"
            ],
            [
             0.1,
             "#c51b7d"
            ],
            [
             0.2,
             "#de77ae"
            ],
            [
             0.3,
             "#f1b6da"
            ],
            [
             0.4,
             "#fde0ef"
            ],
            [
             0.5,
             "#f7f7f7"
            ],
            [
             0.6,
             "#e6f5d0"
            ],
            [
             0.7,
             "#b8e186"
            ],
            [
             0.8,
             "#7fbc41"
            ],
            [
             0.9,
             "#4d9221"
            ],
            [
             1,
             "#276419"
            ]
           ],
           "sequential": [
            [
             0,
             "#0d0887"
            ],
            [
             0.1111111111111111,
             "#46039f"
            ],
            [
             0.2222222222222222,
             "#7201a8"
            ],
            [
             0.3333333333333333,
             "#9c179e"
            ],
            [
             0.4444444444444444,
             "#bd3786"
            ],
            [
             0.5555555555555556,
             "#d8576b"
            ],
            [
             0.6666666666666666,
             "#ed7953"
            ],
            [
             0.7777777777777778,
             "#fb9f3a"
            ],
            [
             0.8888888888888888,
             "#fdca26"
            ],
            [
             1,
             "#f0f921"
            ]
           ],
           "sequentialminus": [
            [
             0,
             "#0d0887"
            ],
            [
             0.1111111111111111,
             "#46039f"
            ],
            [
             0.2222222222222222,
             "#7201a8"
            ],
            [
             0.3333333333333333,
             "#9c179e"
            ],
            [
             0.4444444444444444,
             "#bd3786"
            ],
            [
             0.5555555555555556,
             "#d8576b"
            ],
            [
             0.6666666666666666,
             "#ed7953"
            ],
            [
             0.7777777777777778,
             "#fb9f3a"
            ],
            [
             0.8888888888888888,
             "#fdca26"
            ],
            [
             1,
             "#f0f921"
            ]
           ]
          },
          "colorway": [
           "#636efa",
           "#EF553B",
           "#00cc96",
           "#ab63fa",
           "#FFA15A",
           "#19d3f3",
           "#FF6692",
           "#B6E880",
           "#FF97FF",
           "#FECB52"
          ],
          "font": {
           "color": "#2a3f5f"
          },
          "geo": {
           "bgcolor": "white",
           "lakecolor": "white",
           "landcolor": "#E5ECF6",
           "showlakes": true,
           "showland": true,
           "subunitcolor": "white"
          },
          "hoverlabel": {
           "align": "left"
          },
          "hovermode": "closest",
          "mapbox": {
           "style": "light"
          },
          "paper_bgcolor": "white",
          "plot_bgcolor": "#E5ECF6",
          "polar": {
           "angularaxis": {
            "gridcolor": "white",
            "linecolor": "white",
            "ticks": ""
           },
           "bgcolor": "#E5ECF6",
           "radialaxis": {
            "gridcolor": "white",
            "linecolor": "white",
            "ticks": ""
           }
          },
          "scene": {
           "xaxis": {
            "backgroundcolor": "#E5ECF6",
            "gridcolor": "white",
            "gridwidth": 2,
            "linecolor": "white",
            "showbackground": true,
            "ticks": "",
            "zerolinecolor": "white"
           },
           "yaxis": {
            "backgroundcolor": "#E5ECF6",
            "gridcolor": "white",
            "gridwidth": 2,
            "linecolor": "white",
            "showbackground": true,
            "ticks": "",
            "zerolinecolor": "white"
           },
           "zaxis": {
            "backgroundcolor": "#E5ECF6",
            "gridcolor": "white",
            "gridwidth": 2,
            "linecolor": "white",
            "showbackground": true,
            "ticks": "",
            "zerolinecolor": "white"
           }
          },
          "shapedefaults": {
           "line": {
            "color": "#2a3f5f"
           }
          },
          "ternary": {
           "aaxis": {
            "gridcolor": "white",
            "linecolor": "white",
            "ticks": ""
           },
           "baxis": {
            "gridcolor": "white",
            "linecolor": "white",
            "ticks": ""
           },
           "bgcolor": "#E5ECF6",
           "caxis": {
            "gridcolor": "white",
            "linecolor": "white",
            "ticks": ""
           }
          },
          "title": {
           "x": 0.05
          },
          "xaxis": {
           "automargin": true,
           "gridcolor": "white",
           "linecolor": "white",
           "ticks": "",
           "title": {
            "standoff": 15
           },
           "zerolinecolor": "white",
           "zerolinewidth": 2
          },
          "yaxis": {
           "automargin": true,
           "gridcolor": "white",
           "linecolor": "white",
           "ticks": "",
           "title": {
            "standoff": 15
           },
           "zerolinecolor": "white",
           "zerolinewidth": 2
          }
         }
        },
        "title": {
         "text": "Page cache hit vs miss ratio at different packet rate"
        },
        "xaxis": {
         "anchor": "y",
         "domain": [
          0,
          1
         ],
         "title": {
          "text": "Packets Per Second (thousand)"
         }
        },
        "yaxis": {
         "anchor": "x",
         "domain": [
          0,
          1
         ],
         "title": {
          "text": "Count"
         }
        }
       }
      }
     },
     "metadata": {},
     "output_type": "display_data"
    }
   ],
   "source": [
    "cachestat_df = spark.read.option(\"basePath\", \"../ansible/.results\").json(\n",
    "\"../ansible/.results/kpps=*/tool=cachestat\")\n",
    "cachestat_fig = px.bar(cachestat_df.toPandas(), x=\"kpps\", y=[\"HITS\", \"MISSES\", \"DIRTIES\"], barmode='group',\n",
    "            title=\"Page cache hit vs miss ratio at different packet rate\",\n",
    "            labels={\n",
    "                     \"kpps\": \"Packets Per Second (thousand)\",\n",
    "                     \"value\": \"Count\",\n",
    "                     \"variable\": \"Cache Operation\"\n",
    "                 })\n",
    "cachestat_fig.update_traces(textfont_size=12, textangle=0, textposition=\"outside\", cliponaxis=False)\n",
    "cachestat_fig.show()\n",
    "cachestat_fig.write_image(\"images/cachestat.jpeg\")\n",
    "with open(html_output_file, 'a') as f:\n",
    "    f.write(cachestat_fig.to_html(full_html=False, include_plotlyjs='cdn'))"
   ]
  },
  {
   "cell_type": "code",
   "execution_count": 16,
   "metadata": {},
   "outputs": [],
   "source": [
    "with open(html_output_file, 'a') as f:\n",
    "    f.write('<h2 id=\"disk-metrics\"> Disk I/O Metrics </h2>')"
   ]
  },
  {
   "cell_type": "code",
   "execution_count": 17,
   "metadata": {},
   "outputs": [
    {
     "data": {
      "application/vnd.plotly.v1+json": {
       "config": {
        "plotlyServerURL": "https://plot.ly"
       },
       "data": [
        {
         "alignmentgroup": "True",
         "hovertemplate": "Packets Per Second (thousand)=100<br>Latency (usecs)=%{x}<br>Number of I/O=%{y}<extra></extra>",
         "legendgroup": "100",
         "marker": {
          "color": "#636efa",
          "pattern": {
           "shape": ""
          }
         },
         "name": "100",
         "offsetgroup": "100",
         "orientation": "v",
         "showlegend": true,
         "textposition": "auto",
         "type": "bar",
         "x": [
          "0-1",
          "2-3",
          "4-7",
          "8-15",
          "16-31",
          "32-63",
          "64-127",
          "128-255",
          "256-511",
          "512-1023",
          "1024-2047",
          "2048-4095",
          "4096-8191",
          "8192-16383",
          "16384-32767"
         ],
         "xaxis": "x",
         "y": [
          0,
          0,
          0,
          0,
          0,
          0,
          0,
          0,
          0,
          0,
          30,
          15,
          3,
          0,
          1
         ],
         "yaxis": "y"
        },
        {
         "alignmentgroup": "True",
         "hovertemplate": "Packets Per Second (thousand)=200<br>Latency (usecs)=%{x}<br>Number of I/O=%{y}<extra></extra>",
         "legendgroup": "200",
         "marker": {
          "color": "#EF553B",
          "pattern": {
           "shape": ""
          }
         },
         "name": "200",
         "offsetgroup": "200",
         "orientation": "v",
         "showlegend": true,
         "textposition": "auto",
         "type": "bar",
         "x": [
          "0-1",
          "2-3",
          "4-7",
          "8-15",
          "16-31",
          "32-63",
          "64-127",
          "128-255",
          "256-511",
          "512-1023",
          "1024-2047",
          "2048-4095",
          "4096-8191",
          "8192-16383",
          "16384-32767"
         ],
         "xaxis": "x",
         "y": [
          0,
          0,
          0,
          0,
          0,
          0,
          0,
          0,
          0,
          0,
          29,
          15,
          2,
          0,
          1
         ],
         "yaxis": "y"
        },
        {
         "alignmentgroup": "True",
         "hovertemplate": "Packets Per Second (thousand)=10<br>Latency (usecs)=%{x}<br>Number of I/O=%{y}<extra></extra>",
         "legendgroup": "10",
         "marker": {
          "color": "#00cc96",
          "pattern": {
           "shape": ""
          }
         },
         "name": "10",
         "offsetgroup": "10",
         "orientation": "v",
         "showlegend": true,
         "textposition": "auto",
         "type": "bar",
         "x": [
          "0-1",
          "2-3",
          "4-7",
          "8-15",
          "16-31",
          "32-63",
          "64-127",
          "128-255",
          "256-511",
          "512-1023",
          "1024-2047",
          "2048-4095",
          "4096-8191",
          "8192-16383"
         ],
         "xaxis": "x",
         "y": [
          0,
          0,
          0,
          0,
          0,
          0,
          0,
          0,
          0,
          0,
          30,
          15,
          15,
          1
         ],
         "yaxis": "y"
        },
        {
         "alignmentgroup": "True",
         "hovertemplate": "Packets Per Second (thousand)=400<br>Latency (usecs)=%{x}<br>Number of I/O=%{y}<extra></extra>",
         "legendgroup": "400",
         "marker": {
          "color": "#ab63fa",
          "pattern": {
           "shape": ""
          }
         },
         "name": "400",
         "offsetgroup": "400",
         "orientation": "v",
         "showlegend": true,
         "textposition": "auto",
         "type": "bar",
         "x": [
          "0-1",
          "2-3",
          "4-7",
          "8-15",
          "16-31",
          "32-63",
          "64-127",
          "128-255",
          "256-511",
          "512-1023",
          "1024-2047",
          "2048-4095",
          "4096-8191",
          "8192-16383"
         ],
         "xaxis": "x",
         "y": [
          0,
          0,
          0,
          0,
          0,
          0,
          0,
          0,
          0,
          1,
          29,
          15,
          11,
          3
         ],
         "yaxis": "y"
        },
        {
         "alignmentgroup": "True",
         "hovertemplate": "Packets Per Second (thousand)=1<br>Latency (usecs)=%{x}<br>Number of I/O=%{y}<extra></extra>",
         "legendgroup": "1",
         "marker": {
          "color": "#FFA15A",
          "pattern": {
           "shape": ""
          }
         },
         "name": "1",
         "offsetgroup": "1",
         "orientation": "v",
         "showlegend": true,
         "textposition": "auto",
         "type": "bar",
         "x": [
          "0-1",
          "2-3",
          "4-7",
          "8-15",
          "16-31",
          "32-63",
          "64-127",
          "128-255",
          "256-511",
          "512-1023",
          "1024-2047",
          "2048-4095",
          "4096-8191",
          "8192-16383"
         ],
         "xaxis": "x",
         "y": [
          0,
          0,
          0,
          0,
          0,
          0,
          0,
          0,
          0,
          0,
          29,
          16,
          11,
          2
         ],
         "yaxis": "y"
        },
        {
         "alignmentgroup": "True",
         "hovertemplate": "Packets Per Second (thousand)=50<br>Latency (usecs)=%{x}<br>Number of I/O=%{y}<extra></extra>",
         "legendgroup": "50",
         "marker": {
          "color": "#19d3f3",
          "pattern": {
           "shape": ""
          }
         },
         "name": "50",
         "offsetgroup": "50",
         "orientation": "v",
         "showlegend": true,
         "textposition": "auto",
         "type": "bar",
         "x": [
          "0-1",
          "2-3",
          "4-7",
          "8-15",
          "16-31",
          "32-63",
          "64-127",
          "128-255",
          "256-511",
          "512-1023",
          "1024-2047",
          "2048-4095",
          "4096-8191",
          "8192-16383"
         ],
         "xaxis": "x",
         "y": [
          0,
          0,
          0,
          0,
          0,
          0,
          0,
          0,
          0,
          2,
          28,
          15,
          10,
          2
         ],
         "yaxis": "y"
        },
        {
         "alignmentgroup": "True",
         "hovertemplate": "Packets Per Second (thousand)=300<br>Latency (usecs)=%{x}<br>Number of I/O=%{y}<extra></extra>",
         "legendgroup": "300",
         "marker": {
          "color": "#FF6692",
          "pattern": {
           "shape": ""
          }
         },
         "name": "300",
         "offsetgroup": "300",
         "orientation": "v",
         "showlegend": true,
         "textposition": "auto",
         "type": "bar",
         "x": [
          "0-1",
          "2-3",
          "4-7",
          "8-15",
          "16-31",
          "32-63",
          "64-127",
          "128-255",
          "256-511",
          "512-1023",
          "1024-2047",
          "2048-4095",
          "4096-8191",
          "8192-16383"
         ],
         "xaxis": "x",
         "y": [
          0,
          0,
          0,
          0,
          0,
          0,
          0,
          0,
          0,
          0,
          29,
          14,
          7,
          1
         ],
         "yaxis": "y"
        },
        {
         "alignmentgroup": "True",
         "hovertemplate": "Packets Per Second (thousand)=500<br>Latency (usecs)=%{x}<br>Number of I/O=%{y}<extra></extra>",
         "legendgroup": "500",
         "marker": {
          "color": "#B6E880",
          "pattern": {
           "shape": ""
          }
         },
         "name": "500",
         "offsetgroup": "500",
         "orientation": "v",
         "showlegend": true,
         "textposition": "auto",
         "type": "bar",
         "x": [
          "0-1",
          "2-3",
          "4-7",
          "8-15",
          "16-31",
          "32-63",
          "64-127",
          "128-255",
          "256-511",
          "512-1023",
          "1024-2047",
          "2048-4095",
          "4096-8191",
          "8192-16383"
         ],
         "xaxis": "x",
         "y": [
          0,
          0,
          0,
          0,
          0,
          0,
          0,
          0,
          0,
          0,
          30,
          23,
          7,
          3
         ],
         "yaxis": "y"
        },
        {
         "alignmentgroup": "True",
         "hovertemplate": "Packets Per Second (thousand)=600<br>Latency (usecs)=%{x}<br>Number of I/O=%{y}<extra></extra>",
         "legendgroup": "600",
         "marker": {
          "color": "#FF97FF",
          "pattern": {
           "shape": ""
          }
         },
         "name": "600",
         "offsetgroup": "600",
         "orientation": "v",
         "showlegend": true,
         "textposition": "auto",
         "type": "bar",
         "x": [
          "0-1",
          "2-3",
          "4-7",
          "8-15",
          "16-31",
          "32-63",
          "64-127",
          "128-255",
          "256-511",
          "512-1023",
          "1024-2047",
          "2048-4095",
          "4096-8191",
          "8192-16383"
         ],
         "xaxis": "x",
         "y": [
          0,
          0,
          0,
          0,
          0,
          0,
          0,
          0,
          0,
          2,
          28,
          17,
          6,
          1
         ],
         "yaxis": "y"
        }
       ],
       "layout": {
        "barmode": "group",
        "legend": {
         "title": {
          "text": "Packets Per Second (thousand)"
         },
         "tracegroupgap": 0
        },
        "template": {
         "data": {
          "bar": [
           {
            "error_x": {
             "color": "#2a3f5f"
            },
            "error_y": {
             "color": "#2a3f5f"
            },
            "marker": {
             "line": {
              "color": "#E5ECF6",
              "width": 0.5
             },
             "pattern": {
              "fillmode": "overlay",
              "size": 10,
              "solidity": 0.2
             }
            },
            "type": "bar"
           }
          ],
          "barpolar": [
           {
            "marker": {
             "line": {
              "color": "#E5ECF6",
              "width": 0.5
             },
             "pattern": {
              "fillmode": "overlay",
              "size": 10,
              "solidity": 0.2
             }
            },
            "type": "barpolar"
           }
          ],
          "carpet": [
           {
            "aaxis": {
             "endlinecolor": "#2a3f5f",
             "gridcolor": "white",
             "linecolor": "white",
             "minorgridcolor": "white",
             "startlinecolor": "#2a3f5f"
            },
            "baxis": {
             "endlinecolor": "#2a3f5f",
             "gridcolor": "white",
             "linecolor": "white",
             "minorgridcolor": "white",
             "startlinecolor": "#2a3f5f"
            },
            "type": "carpet"
           }
          ],
          "choropleth": [
           {
            "colorbar": {
             "outlinewidth": 0,
             "ticks": ""
            },
            "type": "choropleth"
           }
          ],
          "contour": [
           {
            "colorbar": {
             "outlinewidth": 0,
             "ticks": ""
            },
            "colorscale": [
             [
              0,
              "#0d0887"
             ],
             [
              0.1111111111111111,
              "#46039f"
             ],
             [
              0.2222222222222222,
              "#7201a8"
             ],
             [
              0.3333333333333333,
              "#9c179e"
             ],
             [
              0.4444444444444444,
              "#bd3786"
             ],
             [
              0.5555555555555556,
              "#d8576b"
             ],
             [
              0.6666666666666666,
              "#ed7953"
             ],
             [
              0.7777777777777778,
              "#fb9f3a"
             ],
             [
              0.8888888888888888,
              "#fdca26"
             ],
             [
              1,
              "#f0f921"
             ]
            ],
            "type": "contour"
           }
          ],
          "contourcarpet": [
           {
            "colorbar": {
             "outlinewidth": 0,
             "ticks": ""
            },
            "type": "contourcarpet"
           }
          ],
          "heatmap": [
           {
            "colorbar": {
             "outlinewidth": 0,
             "ticks": ""
            },
            "colorscale": [
             [
              0,
              "#0d0887"
             ],
             [
              0.1111111111111111,
              "#46039f"
             ],
             [
              0.2222222222222222,
              "#7201a8"
             ],
             [
              0.3333333333333333,
              "#9c179e"
             ],
             [
              0.4444444444444444,
              "#bd3786"
             ],
             [
              0.5555555555555556,
              "#d8576b"
             ],
             [
              0.6666666666666666,
              "#ed7953"
             ],
             [
              0.7777777777777778,
              "#fb9f3a"
             ],
             [
              0.8888888888888888,
              "#fdca26"
             ],
             [
              1,
              "#f0f921"
             ]
            ],
            "type": "heatmap"
           }
          ],
          "heatmapgl": [
           {
            "colorbar": {
             "outlinewidth": 0,
             "ticks": ""
            },
            "colorscale": [
             [
              0,
              "#0d0887"
             ],
             [
              0.1111111111111111,
              "#46039f"
             ],
             [
              0.2222222222222222,
              "#7201a8"
             ],
             [
              0.3333333333333333,
              "#9c179e"
             ],
             [
              0.4444444444444444,
              "#bd3786"
             ],
             [
              0.5555555555555556,
              "#d8576b"
             ],
             [
              0.6666666666666666,
              "#ed7953"
             ],
             [
              0.7777777777777778,
              "#fb9f3a"
             ],
             [
              0.8888888888888888,
              "#fdca26"
             ],
             [
              1,
              "#f0f921"
             ]
            ],
            "type": "heatmapgl"
           }
          ],
          "histogram": [
           {
            "marker": {
             "pattern": {
              "fillmode": "overlay",
              "size": 10,
              "solidity": 0.2
             }
            },
            "type": "histogram"
           }
          ],
          "histogram2d": [
           {
            "colorbar": {
             "outlinewidth": 0,
             "ticks": ""
            },
            "colorscale": [
             [
              0,
              "#0d0887"
             ],
             [
              0.1111111111111111,
              "#46039f"
             ],
             [
              0.2222222222222222,
              "#7201a8"
             ],
             [
              0.3333333333333333,
              "#9c179e"
             ],
             [
              0.4444444444444444,
              "#bd3786"
             ],
             [
              0.5555555555555556,
              "#d8576b"
             ],
             [
              0.6666666666666666,
              "#ed7953"
             ],
             [
              0.7777777777777778,
              "#fb9f3a"
             ],
             [
              0.8888888888888888,
              "#fdca26"
             ],
             [
              1,
              "#f0f921"
             ]
            ],
            "type": "histogram2d"
           }
          ],
          "histogram2dcontour": [
           {
            "colorbar": {
             "outlinewidth": 0,
             "ticks": ""
            },
            "colorscale": [
             [
              0,
              "#0d0887"
             ],
             [
              0.1111111111111111,
              "#46039f"
             ],
             [
              0.2222222222222222,
              "#7201a8"
             ],
             [
              0.3333333333333333,
              "#9c179e"
             ],
             [
              0.4444444444444444,
              "#bd3786"
             ],
             [
              0.5555555555555556,
              "#d8576b"
             ],
             [
              0.6666666666666666,
              "#ed7953"
             ],
             [
              0.7777777777777778,
              "#fb9f3a"
             ],
             [
              0.8888888888888888,
              "#fdca26"
             ],
             [
              1,
              "#f0f921"
             ]
            ],
            "type": "histogram2dcontour"
           }
          ],
          "mesh3d": [
           {
            "colorbar": {
             "outlinewidth": 0,
             "ticks": ""
            },
            "type": "mesh3d"
           }
          ],
          "parcoords": [
           {
            "line": {
             "colorbar": {
              "outlinewidth": 0,
              "ticks": ""
             }
            },
            "type": "parcoords"
           }
          ],
          "pie": [
           {
            "automargin": true,
            "type": "pie"
           }
          ],
          "scatter": [
           {
            "marker": {
             "colorbar": {
              "outlinewidth": 0,
              "ticks": ""
             }
            },
            "type": "scatter"
           }
          ],
          "scatter3d": [
           {
            "line": {
             "colorbar": {
              "outlinewidth": 0,
              "ticks": ""
             }
            },
            "marker": {
             "colorbar": {
              "outlinewidth": 0,
              "ticks": ""
             }
            },
            "type": "scatter3d"
           }
          ],
          "scattercarpet": [
           {
            "marker": {
             "colorbar": {
              "outlinewidth": 0,
              "ticks": ""
             }
            },
            "type": "scattercarpet"
           }
          ],
          "scattergeo": [
           {
            "marker": {
             "colorbar": {
              "outlinewidth": 0,
              "ticks": ""
             }
            },
            "type": "scattergeo"
           }
          ],
          "scattergl": [
           {
            "marker": {
             "colorbar": {
              "outlinewidth": 0,
              "ticks": ""
             }
            },
            "type": "scattergl"
           }
          ],
          "scattermapbox": [
           {
            "marker": {
             "colorbar": {
              "outlinewidth": 0,
              "ticks": ""
             }
            },
            "type": "scattermapbox"
           }
          ],
          "scatterpolar": [
           {
            "marker": {
             "colorbar": {
              "outlinewidth": 0,
              "ticks": ""
             }
            },
            "type": "scatterpolar"
           }
          ],
          "scatterpolargl": [
           {
            "marker": {
             "colorbar": {
              "outlinewidth": 0,
              "ticks": ""
             }
            },
            "type": "scatterpolargl"
           }
          ],
          "scatterternary": [
           {
            "marker": {
             "colorbar": {
              "outlinewidth": 0,
              "ticks": ""
             }
            },
            "type": "scatterternary"
           }
          ],
          "surface": [
           {
            "colorbar": {
             "outlinewidth": 0,
             "ticks": ""
            },
            "colorscale": [
             [
              0,
              "#0d0887"
             ],
             [
              0.1111111111111111,
              "#46039f"
             ],
             [
              0.2222222222222222,
              "#7201a8"
             ],
             [
              0.3333333333333333,
              "#9c179e"
             ],
             [
              0.4444444444444444,
              "#bd3786"
             ],
             [
              0.5555555555555556,
              "#d8576b"
             ],
             [
              0.6666666666666666,
              "#ed7953"
             ],
             [
              0.7777777777777778,
              "#fb9f3a"
             ],
             [
              0.8888888888888888,
              "#fdca26"
             ],
             [
              1,
              "#f0f921"
             ]
            ],
            "type": "surface"
           }
          ],
          "table": [
           {
            "cells": {
             "fill": {
              "color": "#EBF0F8"
             },
             "line": {
              "color": "white"
             }
            },
            "header": {
             "fill": {
              "color": "#C8D4E3"
             },
             "line": {
              "color": "white"
             }
            },
            "type": "table"
           }
          ]
         },
         "layout": {
          "annotationdefaults": {
           "arrowcolor": "#2a3f5f",
           "arrowhead": 0,
           "arrowwidth": 1
          },
          "autotypenumbers": "strict",
          "coloraxis": {
           "colorbar": {
            "outlinewidth": 0,
            "ticks": ""
           }
          },
          "colorscale": {
           "diverging": [
            [
             0,
             "#8e0152"
            ],
            [
             0.1,
             "#c51b7d"
            ],
            [
             0.2,
             "#de77ae"
            ],
            [
             0.3,
             "#f1b6da"
            ],
            [
             0.4,
             "#fde0ef"
            ],
            [
             0.5,
             "#f7f7f7"
            ],
            [
             0.6,
             "#e6f5d0"
            ],
            [
             0.7,
             "#b8e186"
            ],
            [
             0.8,
             "#7fbc41"
            ],
            [
             0.9,
             "#4d9221"
            ],
            [
             1,
             "#276419"
            ]
           ],
           "sequential": [
            [
             0,
             "#0d0887"
            ],
            [
             0.1111111111111111,
             "#46039f"
            ],
            [
             0.2222222222222222,
             "#7201a8"
            ],
            [
             0.3333333333333333,
             "#9c179e"
            ],
            [
             0.4444444444444444,
             "#bd3786"
            ],
            [
             0.5555555555555556,
             "#d8576b"
            ],
            [
             0.6666666666666666,
             "#ed7953"
            ],
            [
             0.7777777777777778,
             "#fb9f3a"
            ],
            [
             0.8888888888888888,
             "#fdca26"
            ],
            [
             1,
             "#f0f921"
            ]
           ],
           "sequentialminus": [
            [
             0,
             "#0d0887"
            ],
            [
             0.1111111111111111,
             "#46039f"
            ],
            [
             0.2222222222222222,
             "#7201a8"
            ],
            [
             0.3333333333333333,
             "#9c179e"
            ],
            [
             0.4444444444444444,
             "#bd3786"
            ],
            [
             0.5555555555555556,
             "#d8576b"
            ],
            [
             0.6666666666666666,
             "#ed7953"
            ],
            [
             0.7777777777777778,
             "#fb9f3a"
            ],
            [
             0.8888888888888888,
             "#fdca26"
            ],
            [
             1,
             "#f0f921"
            ]
           ]
          },
          "colorway": [
           "#636efa",
           "#EF553B",
           "#00cc96",
           "#ab63fa",
           "#FFA15A",
           "#19d3f3",
           "#FF6692",
           "#B6E880",
           "#FF97FF",
           "#FECB52"
          ],
          "font": {
           "color": "#2a3f5f"
          },
          "geo": {
           "bgcolor": "white",
           "lakecolor": "white",
           "landcolor": "#E5ECF6",
           "showlakes": true,
           "showland": true,
           "subunitcolor": "white"
          },
          "hoverlabel": {
           "align": "left"
          },
          "hovermode": "closest",
          "mapbox": {
           "style": "light"
          },
          "paper_bgcolor": "white",
          "plot_bgcolor": "#E5ECF6",
          "polar": {
           "angularaxis": {
            "gridcolor": "white",
            "linecolor": "white",
            "ticks": ""
           },
           "bgcolor": "#E5ECF6",
           "radialaxis": {
            "gridcolor": "white",
            "linecolor": "white",
            "ticks": ""
           }
          },
          "scene": {
           "xaxis": {
            "backgroundcolor": "#E5ECF6",
            "gridcolor": "white",
            "gridwidth": 2,
            "linecolor": "white",
            "showbackground": true,
            "ticks": "",
            "zerolinecolor": "white"
           },
           "yaxis": {
            "backgroundcolor": "#E5ECF6",
            "gridcolor": "white",
            "gridwidth": 2,
            "linecolor": "white",
            "showbackground": true,
            "ticks": "",
            "zerolinecolor": "white"
           },
           "zaxis": {
            "backgroundcolor": "#E5ECF6",
            "gridcolor": "white",
            "gridwidth": 2,
            "linecolor": "white",
            "showbackground": true,
            "ticks": "",
            "zerolinecolor": "white"
           }
          },
          "shapedefaults": {
           "line": {
            "color": "#2a3f5f"
           }
          },
          "ternary": {
           "aaxis": {
            "gridcolor": "white",
            "linecolor": "white",
            "ticks": ""
           },
           "baxis": {
            "gridcolor": "white",
            "linecolor": "white",
            "ticks": ""
           },
           "bgcolor": "#E5ECF6",
           "caxis": {
            "gridcolor": "white",
            "linecolor": "white",
            "ticks": ""
           }
          },
          "title": {
           "x": 0.05
          },
          "xaxis": {
           "automargin": true,
           "gridcolor": "white",
           "linecolor": "white",
           "ticks": "",
           "title": {
            "standoff": 15
           },
           "zerolinecolor": "white",
           "zerolinewidth": 2
          },
          "yaxis": {
           "automargin": true,
           "gridcolor": "white",
           "linecolor": "white",
           "ticks": "",
           "title": {
            "standoff": 15
           },
           "zerolinecolor": "white",
           "zerolinewidth": 2
          }
         }
        },
        "title": {
         "text": "Block I/O device latency"
        },
        "xaxis": {
         "anchor": "y",
         "domain": [
          0,
          1
         ],
         "title": {
          "text": "Latency (usecs)"
         }
        },
        "yaxis": {
         "anchor": "x",
         "domain": [
          0,
          1
         ],
         "title": {
          "text": "Number of I/O"
         }
        }
       }
      }
     },
     "metadata": {},
     "output_type": "display_data"
    }
   ],
   "source": [
    "biolatency_df = spark.read.option(\"basePath\", \"../ansible/.results\").json(\"../ansible/.results/kpps=*/tool=biolatency\").select(\n",
    "    \"kpps\", \"ts\", \"val_type\", \"tool\",\n",
    "    explode(\"data\").alias(\"dataExplode\")\n",
    ").select(col(\"kpps\").cast(StringType()), \"ts\", \"val_type\", \"tool\", \"dataExplode.*\", concat_ws('-',col('dataExplode.interval-start'),col('dataExplode.interval-end')).alias(\"interval\"))\n",
    "biolatency_fig = px.bar(biolatency_df.toPandas(), x=\"interval\", y=\"count\", color=\"kpps\", barmode=\"group\",\n",
    "        title=\"Block I/O device latency\",\n",
    "        labels={\n",
    "                    \"kpps\": \"Packets Per Second (thousand)\",\n",
    "                    \"count\": \"Number of I/O\",\n",
    "                    \"interval\": \"Latency (usecs)\"\n",
    "                })\n",
    "biolatency_fig.show()\n",
    "biolatency_fig.write_image(\"images/biolatency.jpeg\")\n",
    "with open(html_output_file, 'a') as f:\n",
    "    f.write(biolatency_fig.to_html(full_html=False, include_plotlyjs='cdn'))"
   ]
  },
  {
   "cell_type": "code",
   "execution_count": 18,
   "metadata": {},
   "outputs": [],
   "source": [
    "with open(html_output_file, 'a') as f:\n",
    "    f.write('<h2 id=\"networking-metrics\"> Netowrking Metrics </h2>')"
   ]
  },
  {
   "cell_type": "code",
   "execution_count": 19,
   "metadata": {},
   "outputs": [
    {
     "data": {
      "application/vnd.plotly.v1+json": {
       "config": {
        "plotlyServerURL": "https://plot.ly"
       },
       "data": [
        {
         "alignmentgroup": "True",
         "hovertemplate": "Packets Per Second (thousand)=400<br>action=@nic_recv_bytes<br>Packet Size (bytes)=%{x}<br>Number of Packets=%{y}<extra></extra>",
         "legendgroup": "400",
         "marker": {
          "color": "#636efa",
          "pattern": {
           "shape": ""
          }
         },
         "name": "400",
         "offsetgroup": "400",
         "orientation": "v",
         "showlegend": true,
         "textposition": "auto",
         "type": "bar",
         "x": [
          "63 - 32",
          "63 - 32",
          "127 - 64",
          "255 - 128",
          "511 - 256",
          "1023 - 512",
          "2047 - 1024",
          "31 - 16",
          "63 - 32",
          "127 - 64"
         ],
         "xaxis": "x",
         "y": [
          8861968,
          85,
          0,
          24,
          0,
          11,
          12,
          2,
          11136,
          1
         ],
         "yaxis": "y"
        },
        {
         "alignmentgroup": "True",
         "hovertemplate": "Packets Per Second (thousand)=400<br>action=@nic_send_bytes<br>Packet Size (bytes)=%{x}<br>Number of Packets=%{y}<extra></extra>",
         "legendgroup": "400",
         "marker": {
          "color": "#636efa",
          "pattern": {
           "shape": ""
          }
         },
         "name": "400",
         "offsetgroup": "400",
         "orientation": "v",
         "showlegend": false,
         "textposition": "auto",
         "type": "bar",
         "x": [
          "63 - 32",
          "127 - 64",
          "63 - 32",
          "127 - 64",
          "255 - 128",
          "511 - 256",
          "1023 - 512",
          "2047 - 1024",
          "4095 - 2048",
          "63 - 32",
          "127 - 64"
         ],
         "xaxis": "x2",
         "y": [
          2,
          5457434,
          1,
          120,
          6,
          33,
          0,
          0,
          10,
          2,
          5457434
         ],
         "yaxis": "y2"
        },
        {
         "alignmentgroup": "True",
         "hovertemplate": "Packets Per Second (thousand)=400<br>action=@recv_bytes<br>Packet Size (bytes)=%{x}<br>Number of Packets=%{y}<extra></extra>",
         "legendgroup": "400",
         "marker": {
          "color": "#636efa",
          "pattern": {
           "shape": ""
          }
         },
         "name": "400",
         "offsetgroup": "400",
         "orientation": "v",
         "showlegend": false,
         "textposition": "auto",
         "type": "bar",
         "x": [
          "63 - 32",
          "63 - 32",
          "127 - 64",
          "255 - 128",
          "511 - 256",
          "1023 - 512",
          "2047 - 1024",
          "4095 - 2048",
          "31 - 16",
          "63 - 32",
          "127 - 64"
         ],
         "xaxis": "x3",
         "y": [
          8851256,
          85,
          0,
          24,
          0,
          0,
          1,
          11,
          2,
          11136,
          1
         ],
         "yaxis": "y3"
        },
        {
         "alignmentgroup": "True",
         "hovertemplate": "Packets Per Second (thousand)=400<br>action=@send_bytes<br>Packet Size (bytes)=%{x}<br>Number of Packets=%{y}<extra></extra>",
         "legendgroup": "400",
         "marker": {
          "color": "#636efa",
          "pattern": {
           "shape": ""
          }
         },
         "name": "400",
         "offsetgroup": "400",
         "orientation": "v",
         "showlegend": false,
         "textposition": "auto",
         "type": "bar",
         "x": [
          "63 - 32",
          "127 - 64",
          "63 - 32",
          "127 - 64",
          "255 - 128",
          "511 - 256",
          "1023 - 512",
          "2047 - 1024",
          "4095 - 2048",
          "63 - 32",
          "127 - 64"
         ],
         "xaxis": "x4",
         "y": [
          2,
          5449786,
          1,
          120,
          6,
          33,
          0,
          0,
          10,
          2,
          5449786
         ],
         "yaxis": "y4"
        },
        {
         "alignmentgroup": "True",
         "hovertemplate": "Packets Per Second (thousand)=600<br>action=@nic_recv_bytes<br>Packet Size (bytes)=%{x}<br>Number of Packets=%{y}<extra></extra>",
         "legendgroup": "600",
         "marker": {
          "color": "#EF553B",
          "pattern": {
           "shape": ""
          }
         },
         "name": "600",
         "offsetgroup": "600",
         "orientation": "v",
         "showlegend": true,
         "textposition": "auto",
         "type": "bar",
         "x": [
          "63 - 32",
          "63 - 32",
          "127 - 64",
          "255 - 128",
          "511 - 256",
          "1023 - 512",
          "2047 - 1024",
          "31 - 16",
          "63 - 32",
          "127 - 64"
         ],
         "xaxis": "x",
         "y": [
          9120624,
          89,
          2,
          24,
          0,
          11,
          12,
          3,
          0,
          1
         ],
         "yaxis": "y"
        },
        {
         "alignmentgroup": "True",
         "hovertemplate": "Packets Per Second (thousand)=600<br>action=@nic_send_bytes<br>Packet Size (bytes)=%{x}<br>Number of Packets=%{y}<extra></extra>",
         "legendgroup": "600",
         "marker": {
          "color": "#EF553B",
          "pattern": {
           "shape": ""
          }
         },
         "name": "600",
         "offsetgroup": "600",
         "orientation": "v",
         "showlegend": false,
         "textposition": "auto",
         "type": "bar",
         "x": [
          "63 - 32",
          "127 - 64",
          "63 - 32",
          "127 - 64",
          "255 - 128",
          "511 - 256",
          "1023 - 512",
          "2047 - 1024",
          "4095 - 2048",
          "63 - 32",
          "127 - 64"
         ],
         "xaxis": "x2",
         "y": [
          3,
          5407956,
          2,
          124,
          6,
          33,
          0,
          0,
          10,
          3,
          5407956
         ],
         "yaxis": "y2"
        },
        {
         "alignmentgroup": "True",
         "hovertemplate": "Packets Per Second (thousand)=600<br>action=@recv_bytes<br>Packet Size (bytes)=%{x}<br>Number of Packets=%{y}<extra></extra>",
         "legendgroup": "600",
         "marker": {
          "color": "#EF553B",
          "pattern": {
           "shape": ""
          }
         },
         "name": "600",
         "offsetgroup": "600",
         "orientation": "v",
         "showlegend": false,
         "textposition": "auto",
         "type": "bar",
         "x": [
          "63 - 32",
          "63 - 32",
          "127 - 64",
          "255 - 128",
          "511 - 256",
          "1023 - 512",
          "2047 - 1024",
          "4095 - 2048",
          "31 - 16",
          "63 - 32",
          "127 - 64"
         ],
         "xaxis": "x3",
         "y": [
          9111664,
          89,
          2,
          24,
          0,
          0,
          1,
          11,
          3,
          0,
          1
         ],
         "yaxis": "y3"
        },
        {
         "alignmentgroup": "True",
         "hovertemplate": "Packets Per Second (thousand)=600<br>action=@send_bytes<br>Packet Size (bytes)=%{x}<br>Number of Packets=%{y}<extra></extra>",
         "legendgroup": "600",
         "marker": {
          "color": "#EF553B",
          "pattern": {
           "shape": ""
          }
         },
         "name": "600",
         "offsetgroup": "600",
         "orientation": "v",
         "showlegend": false,
         "textposition": "auto",
         "type": "bar",
         "x": [
          "63 - 32",
          "127 - 64",
          "63 - 32",
          "127 - 64",
          "255 - 128",
          "511 - 256",
          "1023 - 512",
          "2047 - 1024",
          "4095 - 2048",
          "63 - 32",
          "127 - 64"
         ],
         "xaxis": "x4",
         "y": [
          3,
          5399625,
          2,
          124,
          6,
          33,
          0,
          0,
          10,
          3,
          5399625
         ],
         "yaxis": "y4"
        },
        {
         "alignmentgroup": "True",
         "hovertemplate": "Packets Per Second (thousand)=200<br>action=@nic_recv_bytes<br>Packet Size (bytes)=%{x}<br>Number of Packets=%{y}<extra></extra>",
         "legendgroup": "200",
         "marker": {
          "color": "#00cc96",
          "pattern": {
           "shape": ""
          }
         },
         "name": "200",
         "offsetgroup": "200",
         "orientation": "v",
         "showlegend": true,
         "textposition": "auto",
         "type": "bar",
         "x": [
          "63 - 32",
          "63 - 32",
          "127 - 64",
          "255 - 128",
          "511 - 256",
          "1023 - 512",
          "2047 - 1024",
          "31 - 16",
          "127 - 64"
         ],
         "xaxis": "x",
         "y": [
          8815942,
          85,
          1,
          24,
          0,
          11,
          12,
          2,
          1
         ],
         "yaxis": "y"
        },
        {
         "alignmentgroup": "True",
         "hovertemplate": "Packets Per Second (thousand)=200<br>action=@nic_send_bytes<br>Packet Size (bytes)=%{x}<br>Number of Packets=%{y}<extra></extra>",
         "legendgroup": "200",
         "marker": {
          "color": "#00cc96",
          "pattern": {
           "shape": ""
          }
         },
         "name": "200",
         "offsetgroup": "200",
         "orientation": "v",
         "showlegend": false,
         "textposition": "auto",
         "type": "bar",
         "x": [
          "63 - 32",
          "127 - 64",
          "63 - 32",
          "127 - 64",
          "255 - 128",
          "511 - 256",
          "1023 - 512",
          "2047 - 1024",
          "4095 - 2048",
          "63 - 32",
          "127 - 64"
         ],
         "xaxis": "x2",
         "y": [
          2,
          5429376,
          2,
          120,
          6,
          33,
          0,
          0,
          10,
          2,
          5429376
         ],
         "yaxis": "y2"
        },
        {
         "alignmentgroup": "True",
         "hovertemplate": "Packets Per Second (thousand)=200<br>action=@recv_bytes<br>Packet Size (bytes)=%{x}<br>Number of Packets=%{y}<extra></extra>",
         "legendgroup": "200",
         "marker": {
          "color": "#00cc96",
          "pattern": {
           "shape": ""
          }
         },
         "name": "200",
         "offsetgroup": "200",
         "orientation": "v",
         "showlegend": false,
         "textposition": "auto",
         "type": "bar",
         "x": [
          "63 - 32",
          "63 - 32",
          "127 - 64",
          "255 - 128",
          "511 - 256",
          "1023 - 512",
          "2047 - 1024",
          "4095 - 2048",
          "31 - 16",
          "127 - 64"
         ],
         "xaxis": "x3",
         "y": [
          8806338,
          85,
          1,
          24,
          0,
          0,
          1,
          11,
          2,
          1
         ],
         "yaxis": "y3"
        },
        {
         "alignmentgroup": "True",
         "hovertemplate": "Packets Per Second (thousand)=200<br>action=@send_bytes<br>Packet Size (bytes)=%{x}<br>Number of Packets=%{y}<extra></extra>",
         "legendgroup": "200",
         "marker": {
          "color": "#00cc96",
          "pattern": {
           "shape": ""
          }
         },
         "name": "200",
         "offsetgroup": "200",
         "orientation": "v",
         "showlegend": false,
         "textposition": "auto",
         "type": "bar",
         "x": [
          "63 - 32",
          "127 - 64",
          "63 - 32",
          "127 - 64",
          "255 - 128",
          "511 - 256",
          "1023 - 512",
          "2047 - 1024",
          "4095 - 2048",
          "63 - 32",
          "127 - 64"
         ],
         "xaxis": "x4",
         "y": [
          2,
          5421536,
          2,
          120,
          6,
          33,
          0,
          0,
          10,
          2,
          5421536
         ],
         "yaxis": "y4"
        },
        {
         "alignmentgroup": "True",
         "hovertemplate": "Packets Per Second (thousand)=10<br>action=@nic_recv_bytes<br>Packet Size (bytes)=%{x}<br>Number of Packets=%{y}<extra></extra>",
         "legendgroup": "10",
         "marker": {
          "color": "#ab63fa",
          "pattern": {
           "shape": ""
          }
         },
         "name": "10",
         "offsetgroup": "10",
         "orientation": "v",
         "showlegend": true,
         "textposition": "auto",
         "type": "bar",
         "x": [
          "63 - 32",
          "63 - 32",
          "127 - 64",
          "255 - 128",
          "511 - 256",
          "1023 - 512",
          "2047 - 1024",
          "31 - 16",
          "63 - 32"
         ],
         "xaxis": "x",
         "y": [
          599590,
          86,
          2,
          24,
          0,
          11,
          12,
          2,
          1020
         ],
         "yaxis": "y"
        },
        {
         "alignmentgroup": "True",
         "hovertemplate": "Packets Per Second (thousand)=10<br>action=@nic_send_bytes<br>Packet Size (bytes)=%{x}<br>Number of Packets=%{y}<extra></extra>",
         "legendgroup": "10",
         "marker": {
          "color": "#ab63fa",
          "pattern": {
           "shape": ""
          }
         },
         "name": "10",
         "offsetgroup": "10",
         "orientation": "v",
         "showlegend": false,
         "textposition": "auto",
         "type": "bar",
         "x": [
          "63 - 32",
          "127 - 64",
          "63 - 32",
          "127 - 64",
          "255 - 128",
          "511 - 256",
          "1023 - 512",
          "2047 - 1024",
          "4095 - 2048",
          "63 - 32",
          "127 - 64"
         ],
         "xaxis": "x2",
         "y": [
          2,
          600930,
          1,
          122,
          6,
          33,
          0,
          0,
          10,
          2,
          600930
         ],
         "yaxis": "y2"
        },
        {
         "alignmentgroup": "True",
         "hovertemplate": "Packets Per Second (thousand)=10<br>action=@recv_bytes<br>Packet Size (bytes)=%{x}<br>Number of Packets=%{y}<extra></extra>",
         "legendgroup": "10",
         "marker": {
          "color": "#ab63fa",
          "pattern": {
           "shape": ""
          }
         },
         "name": "10",
         "offsetgroup": "10",
         "orientation": "v",
         "showlegend": false,
         "textposition": "auto",
         "type": "bar",
         "x": [
          "63 - 32",
          "63 - 32",
          "127 - 64",
          "255 - 128",
          "511 - 256",
          "1023 - 512",
          "2047 - 1024",
          "4095 - 2048",
          "31 - 16",
          "63 - 32"
         ],
         "xaxis": "x3",
         "y": [
          598990,
          86,
          2,
          24,
          0,
          0,
          1,
          11,
          2,
          1020
         ],
         "yaxis": "y3"
        },
        {
         "alignmentgroup": "True",
         "hovertemplate": "Packets Per Second (thousand)=10<br>action=@send_bytes<br>Packet Size (bytes)=%{x}<br>Number of Packets=%{y}<extra></extra>",
         "legendgroup": "10",
         "marker": {
          "color": "#ab63fa",
          "pattern": {
           "shape": ""
          }
         },
         "name": "10",
         "offsetgroup": "10",
         "orientation": "v",
         "showlegend": false,
         "textposition": "auto",
         "type": "bar",
         "x": [
          "63 - 32",
          "127 - 64",
          "63 - 32",
          "127 - 64",
          "255 - 128",
          "511 - 256",
          "1023 - 512",
          "2047 - 1024",
          "4095 - 2048",
          "63 - 32",
          "127 - 64"
         ],
         "xaxis": "x4",
         "y": [
          2,
          600300,
          1,
          122,
          6,
          33,
          0,
          0,
          10,
          2,
          600300
         ],
         "yaxis": "y4"
        },
        {
         "alignmentgroup": "True",
         "hovertemplate": "Packets Per Second (thousand)=500<br>action=@nic_recv_bytes<br>Packet Size (bytes)=%{x}<br>Number of Packets=%{y}<extra></extra>",
         "legendgroup": "500",
         "marker": {
          "color": "#FFA15A",
          "pattern": {
           "shape": ""
          }
         },
         "name": "500",
         "offsetgroup": "500",
         "orientation": "v",
         "showlegend": true,
         "textposition": "auto",
         "type": "bar",
         "x": [
          "63 - 32",
          "63 - 32",
          "127 - 64",
          "255 - 128",
          "511 - 256",
          "1023 - 512",
          "2047 - 1024",
          "31 - 16",
          "63 - 32"
         ],
         "xaxis": "x",
         "y": [
          8859810,
          87,
          2,
          24,
          0,
          11,
          12,
          2,
          12416
         ],
         "yaxis": "y"
        },
        {
         "alignmentgroup": "True",
         "hovertemplate": "Packets Per Second (thousand)=500<br>action=@nic_send_bytes<br>Packet Size (bytes)=%{x}<br>Number of Packets=%{y}<extra></extra>",
         "legendgroup": "500",
         "marker": {
          "color": "#FFA15A",
          "pattern": {
           "shape": ""
          }
         },
         "name": "500",
         "offsetgroup": "500",
         "orientation": "v",
         "showlegend": false,
         "textposition": "auto",
         "type": "bar",
         "x": [
          "63 - 32",
          "127 - 64",
          "127 - 64",
          "255 - 128",
          "511 - 256",
          "1023 - 512",
          "2047 - 1024",
          "4095 - 2048",
          "63 - 32",
          "127 - 64"
         ],
         "xaxis": "x2",
         "y": [
          2,
          5443918,
          124,
          6,
          33,
          0,
          0,
          10,
          2,
          5443918
         ],
         "yaxis": "y2"
        },
        {
         "alignmentgroup": "True",
         "hovertemplate": "Packets Per Second (thousand)=500<br>action=@recv_bytes<br>Packet Size (bytes)=%{x}<br>Number of Packets=%{y}<extra></extra>",
         "legendgroup": "500",
         "marker": {
          "color": "#FFA15A",
          "pattern": {
           "shape": ""
          }
         },
         "name": "500",
         "offsetgroup": "500",
         "orientation": "v",
         "showlegend": false,
         "textposition": "auto",
         "type": "bar",
         "x": [
          "63 - 32",
          "63 - 32",
          "127 - 64",
          "255 - 128",
          "511 - 256",
          "1023 - 512",
          "2047 - 1024",
          "4095 - 2048",
          "31 - 16",
          "63 - 32"
         ],
         "xaxis": "x3",
         "y": [
          8848294,
          87,
          2,
          24,
          0,
          0,
          1,
          11,
          2,
          12416
         ],
         "yaxis": "y3"
        },
        {
         "alignmentgroup": "True",
         "hovertemplate": "Packets Per Second (thousand)=500<br>action=@send_bytes<br>Packet Size (bytes)=%{x}<br>Number of Packets=%{y}<extra></extra>",
         "legendgroup": "500",
         "marker": {
          "color": "#FFA15A",
          "pattern": {
           "shape": ""
          }
         },
         "name": "500",
         "offsetgroup": "500",
         "orientation": "v",
         "showlegend": false,
         "textposition": "auto",
         "type": "bar",
         "x": [
          "63 - 32",
          "127 - 64",
          "127 - 64",
          "255 - 128",
          "511 - 256",
          "1023 - 512",
          "2047 - 1024",
          "4095 - 2048",
          "63 - 32",
          "127 - 64"
         ],
         "xaxis": "x4",
         "y": [
          2,
          5435529,
          124,
          6,
          33,
          0,
          0,
          10,
          2,
          5435529
         ],
         "yaxis": "y4"
        },
        {
         "alignmentgroup": "True",
         "hovertemplate": "Packets Per Second (thousand)=300<br>action=@nic_recv_bytes<br>Packet Size (bytes)=%{x}<br>Number of Packets=%{y}<extra></extra>",
         "legendgroup": "300",
         "marker": {
          "color": "#19d3f3",
          "pattern": {
           "shape": ""
          }
         },
         "name": "300",
         "offsetgroup": "300",
         "orientation": "v",
         "showlegend": true,
         "textposition": "auto",
         "type": "bar",
         "x": [
          "63 - 32",
          "63 - 32",
          "127 - 64",
          "255 - 128",
          "511 - 256",
          "1023 - 512",
          "2047 - 1024",
          "31 - 16"
         ],
         "xaxis": "x",
         "y": [
          8867124,
          86,
          2,
          24,
          0,
          11,
          12,
          2
         ],
         "yaxis": "y"
        },
        {
         "alignmentgroup": "True",
         "hovertemplate": "Packets Per Second (thousand)=300<br>action=@nic_send_bytes<br>Packet Size (bytes)=%{x}<br>Number of Packets=%{y}<extra></extra>",
         "legendgroup": "300",
         "marker": {
          "color": "#19d3f3",
          "pattern": {
           "shape": ""
          }
         },
         "name": "300",
         "offsetgroup": "300",
         "orientation": "v",
         "showlegend": false,
         "textposition": "auto",
         "type": "bar",
         "x": [
          "63 - 32",
          "127 - 64",
          "63 - 32",
          "127 - 64",
          "255 - 128",
          "511 - 256",
          "1023 - 512",
          "2047 - 1024",
          "4095 - 2048",
          "63 - 32",
          "127 - 64"
         ],
         "xaxis": "x2",
         "y": [
          2,
          5427033,
          1,
          123,
          6,
          33,
          0,
          0,
          10,
          2,
          5427033
         ],
         "yaxis": "y2"
        },
        {
         "alignmentgroup": "True",
         "hovertemplate": "Packets Per Second (thousand)=300<br>action=@recv_bytes<br>Packet Size (bytes)=%{x}<br>Number of Packets=%{y}<extra></extra>",
         "legendgroup": "300",
         "marker": {
          "color": "#19d3f3",
          "pattern": {
           "shape": ""
          }
         },
         "name": "300",
         "offsetgroup": "300",
         "orientation": "v",
         "showlegend": false,
         "textposition": "auto",
         "type": "bar",
         "x": [
          "63 - 32",
          "63 - 32",
          "127 - 64",
          "255 - 128",
          "511 - 256",
          "1023 - 512",
          "2047 - 1024",
          "4095 - 2048",
          "31 - 16"
         ],
         "xaxis": "x3",
         "y": [
          8859268,
          86,
          2,
          24,
          0,
          0,
          1,
          11,
          2
         ],
         "yaxis": "y3"
        },
        {
         "alignmentgroup": "True",
         "hovertemplate": "Packets Per Second (thousand)=300<br>action=@send_bytes<br>Packet Size (bytes)=%{x}<br>Number of Packets=%{y}<extra></extra>",
         "legendgroup": "300",
         "marker": {
          "color": "#19d3f3",
          "pattern": {
           "shape": ""
          }
         },
         "name": "300",
         "offsetgroup": "300",
         "orientation": "v",
         "showlegend": false,
         "textposition": "auto",
         "type": "bar",
         "x": [
          "63 - 32",
          "127 - 64",
          "63 - 32",
          "127 - 64",
          "255 - 128",
          "511 - 256",
          "1023 - 512",
          "2047 - 1024",
          "4095 - 2048",
          "63 - 32",
          "127 - 64"
         ],
         "xaxis": "x4",
         "y": [
          2,
          5421092,
          1,
          123,
          6,
          33,
          0,
          0,
          10,
          2,
          5421092
         ],
         "yaxis": "y4"
        },
        {
         "alignmentgroup": "True",
         "hovertemplate": "Packets Per Second (thousand)=100<br>action=@nic_recv_bytes<br>Packet Size (bytes)=%{x}<br>Number of Packets=%{y}<extra></extra>",
         "legendgroup": "100",
         "marker": {
          "color": "#FF6692",
          "pattern": {
           "shape": ""
          }
         },
         "name": "100",
         "offsetgroup": "100",
         "orientation": "v",
         "showlegend": true,
         "textposition": "auto",
         "type": "bar",
         "x": [
          "63 - 32",
          "63 - 32",
          "127 - 64",
          "255 - 128",
          "511 - 256",
          "1023 - 512",
          "2047 - 1024",
          "31 - 16"
         ],
         "xaxis": "x",
         "y": [
          6006566,
          85,
          1,
          24,
          0,
          11,
          12,
          2
         ],
         "yaxis": "y"
        },
        {
         "alignmentgroup": "True",
         "hovertemplate": "Packets Per Second (thousand)=100<br>action=@nic_send_bytes<br>Packet Size (bytes)=%{x}<br>Number of Packets=%{y}<extra></extra>",
         "legendgroup": "100",
         "marker": {
          "color": "#FF6692",
          "pattern": {
           "shape": ""
          }
         },
         "name": "100",
         "offsetgroup": "100",
         "orientation": "v",
         "showlegend": false,
         "textposition": "auto",
         "type": "bar",
         "x": [
          "63 - 32",
          "127 - 64",
          "63 - 32",
          "127 - 64",
          "255 - 128",
          "511 - 256",
          "1023 - 512",
          "2047 - 1024",
          "4095 - 2048",
          "63 - 32",
          "127 - 64"
         ],
         "xaxis": "x2",
         "y": [
          2,
          5369912,
          1,
          120,
          6,
          33,
          0,
          1,
          10,
          2,
          5369912
         ],
         "yaxis": "y2"
        },
        {
         "alignmentgroup": "True",
         "hovertemplate": "Packets Per Second (thousand)=100<br>action=@recv_bytes<br>Packet Size (bytes)=%{x}<br>Number of Packets=%{y}<extra></extra>",
         "legendgroup": "100",
         "marker": {
          "color": "#FF6692",
          "pattern": {
           "shape": ""
          }
         },
         "name": "100",
         "offsetgroup": "100",
         "orientation": "v",
         "showlegend": false,
         "textposition": "auto",
         "type": "bar",
         "x": [
          "63 - 32",
          "63 - 32",
          "127 - 64",
          "255 - 128",
          "511 - 256",
          "1023 - 512",
          "2047 - 1024",
          "4095 - 2048",
          "31 - 16"
         ],
         "xaxis": "x3",
         "y": [
          6000098,
          85,
          1,
          24,
          0,
          0,
          1,
          11,
          2
         ],
         "yaxis": "y3"
        },
        {
         "alignmentgroup": "True",
         "hovertemplate": "Packets Per Second (thousand)=100<br>action=@send_bytes<br>Packet Size (bytes)=%{x}<br>Number of Packets=%{y}<extra></extra>",
         "legendgroup": "100",
         "marker": {
          "color": "#FF6692",
          "pattern": {
           "shape": ""
          }
         },
         "name": "100",
         "offsetgroup": "100",
         "orientation": "v",
         "showlegend": false,
         "textposition": "auto",
         "type": "bar",
         "x": [
          "63 - 32",
          "127 - 64",
          "63 - 32",
          "127 - 64",
          "255 - 128",
          "511 - 256",
          "1023 - 512",
          "2047 - 1024",
          "4095 - 2048",
          "63 - 32",
          "127 - 64"
         ],
         "xaxis": "x4",
         "y": [
          2,
          5362769,
          1,
          120,
          6,
          33,
          0,
          1,
          10,
          2,
          5362769
         ],
         "yaxis": "y4"
        },
        {
         "alignmentgroup": "True",
         "hovertemplate": "Packets Per Second (thousand)=50<br>action=@nic_recv_bytes<br>Packet Size (bytes)=%{x}<br>Number of Packets=%{y}<extra></extra>",
         "legendgroup": "50",
         "marker": {
          "color": "#B6E880",
          "pattern": {
           "shape": ""
          }
         },
         "name": "50",
         "offsetgroup": "50",
         "orientation": "v",
         "showlegend": true,
         "textposition": "auto",
         "type": "bar",
         "x": [
          "63 - 32",
          "63 - 32",
          "127 - 64",
          "255 - 128",
          "511 - 256",
          "1023 - 512",
          "2047 - 1024",
          "31 - 16"
         ],
         "xaxis": "x",
         "y": [
          3003865,
          86,
          1,
          24,
          0,
          11,
          12,
          1
         ],
         "yaxis": "y"
        },
        {
         "alignmentgroup": "True",
         "hovertemplate": "Packets Per Second (thousand)=50<br>action=@nic_send_bytes<br>Packet Size (bytes)=%{x}<br>Number of Packets=%{y}<extra></extra>",
         "legendgroup": "50",
         "marker": {
          "color": "#B6E880",
          "pattern": {
           "shape": ""
          }
         },
         "name": "50",
         "offsetgroup": "50",
         "orientation": "v",
         "showlegend": false,
         "textposition": "auto",
         "type": "bar",
         "x": [
          "63 - 32",
          "127 - 64",
          "127 - 64",
          "255 - 128",
          "511 - 256",
          "1023 - 512",
          "2047 - 1024",
          "4095 - 2048",
          "63 - 32",
          "127 - 64"
         ],
         "xaxis": "x2",
         "y": [
          1,
          3005846,
          122,
          6,
          33,
          0,
          2,
          10,
          1,
          3005846
         ],
         "yaxis": "y2"
        },
        {
         "alignmentgroup": "True",
         "hovertemplate": "Packets Per Second (thousand)=50<br>action=@recv_bytes<br>Packet Size (bytes)=%{x}<br>Number of Packets=%{y}<extra></extra>",
         "legendgroup": "50",
         "marker": {
          "color": "#B6E880",
          "pattern": {
           "shape": ""
          }
         },
         "name": "50",
         "offsetgroup": "50",
         "orientation": "v",
         "showlegend": false,
         "textposition": "auto",
         "type": "bar",
         "x": [
          "63 - 32",
          "63 - 32",
          "127 - 64",
          "255 - 128",
          "511 - 256",
          "1023 - 512",
          "2047 - 1024",
          "4095 - 2048",
          "31 - 16"
         ],
         "xaxis": "x3",
         "y": [
          3000049,
          86,
          1,
          24,
          0,
          0,
          1,
          11,
          1
         ],
         "yaxis": "y3"
        },
        {
         "alignmentgroup": "True",
         "hovertemplate": "Packets Per Second (thousand)=50<br>action=@send_bytes<br>Packet Size (bytes)=%{x}<br>Number of Packets=%{y}<extra></extra>",
         "legendgroup": "50",
         "marker": {
          "color": "#B6E880",
          "pattern": {
           "shape": ""
          }
         },
         "name": "50",
         "offsetgroup": "50",
         "orientation": "v",
         "showlegend": false,
         "textposition": "auto",
         "type": "bar",
         "x": [
          "63 - 32",
          "127 - 64",
          "127 - 64",
          "255 - 128",
          "511 - 256",
          "1023 - 512",
          "2047 - 1024",
          "4095 - 2048",
          "63 - 32",
          "127 - 64"
         ],
         "xaxis": "x4",
         "y": [
          1,
          3001484,
          122,
          6,
          33,
          0,
          2,
          10,
          1,
          3001484
         ],
         "yaxis": "y4"
        },
        {
         "alignmentgroup": "True",
         "hovertemplate": "Packets Per Second (thousand)=1<br>action=@nic_recv_bytes<br>Packet Size (bytes)=%{x}<br>Number of Packets=%{y}<extra></extra>",
         "legendgroup": "1",
         "marker": {
          "color": "#FF97FF",
          "pattern": {
           "shape": ""
          }
         },
         "name": "1",
         "offsetgroup": "1",
         "orientation": "v",
         "showlegend": true,
         "textposition": "auto",
         "type": "bar",
         "x": [
          "63 - 32",
          "63 - 32",
          "127 - 64",
          "255 - 128",
          "511 - 256",
          "1023 - 512",
          "2047 - 1024",
          "31 - 16"
         ],
         "xaxis": "x",
         "y": [
          60058,
          89,
          2,
          25,
          0,
          11,
          12,
          2
         ],
         "yaxis": "y"
        },
        {
         "alignmentgroup": "True",
         "hovertemplate": "Packets Per Second (thousand)=1<br>action=@nic_send_bytes<br>Packet Size (bytes)=%{x}<br>Number of Packets=%{y}<extra></extra>",
         "legendgroup": "1",
         "marker": {
          "color": "#FF97FF",
          "pattern": {
           "shape": ""
          }
         },
         "name": "1",
         "offsetgroup": "1",
         "orientation": "v",
         "showlegend": false,
         "textposition": "auto",
         "type": "bar",
         "x": [
          "63 - 32",
          "127 - 64",
          "127 - 64",
          "255 - 128",
          "511 - 256",
          "1023 - 512",
          "2047 - 1024",
          "4095 - 2048",
          "63 - 32",
          "127 - 64"
         ],
         "xaxis": "x2",
         "y": [
          2,
          60089,
          126,
          6,
          35,
          0,
          0,
          11,
          2,
          60089
         ],
         "yaxis": "y2"
        },
        {
         "alignmentgroup": "True",
         "hovertemplate": "Packets Per Second (thousand)=1<br>action=@recv_bytes<br>Packet Size (bytes)=%{x}<br>Number of Packets=%{y}<extra></extra>",
         "legendgroup": "1",
         "marker": {
          "color": "#FF97FF",
          "pattern": {
           "shape": ""
          }
         },
         "name": "1",
         "offsetgroup": "1",
         "orientation": "v",
         "showlegend": false,
         "textposition": "auto",
         "type": "bar",
         "x": [
          "63 - 32",
          "63 - 32",
          "127 - 64",
          "255 - 128",
          "511 - 256",
          "1023 - 512",
          "2047 - 1024",
          "4095 - 2048",
          "31 - 16"
         ],
         "xaxis": "x3",
         "y": [
          60001,
          89,
          2,
          25,
          0,
          0,
          1,
          11,
          2
         ],
         "yaxis": "y3"
        },
        {
         "alignmentgroup": "True",
         "hovertemplate": "Packets Per Second (thousand)=1<br>action=@send_bytes<br>Packet Size (bytes)=%{x}<br>Number of Packets=%{y}<extra></extra>",
         "legendgroup": "1",
         "marker": {
          "color": "#FF97FF",
          "pattern": {
           "shape": ""
          }
         },
         "name": "1",
         "offsetgroup": "1",
         "orientation": "v",
         "showlegend": false,
         "textposition": "auto",
         "type": "bar",
         "x": [
          "63 - 32",
          "127 - 64",
          "127 - 64",
          "255 - 128",
          "511 - 256",
          "1023 - 512",
          "2047 - 1024",
          "4095 - 2048",
          "63 - 32",
          "127 - 64"
         ],
         "xaxis": "x4",
         "y": [
          2,
          60027,
          126,
          6,
          35,
          0,
          0,
          11,
          2,
          60027
         ],
         "yaxis": "y4"
        }
       ],
       "layout": {
        "annotations": [
         {
          "font": {},
          "showarrow": false,
          "text": "action=@nic_recv_bytes",
          "x": 0.1175,
          "xanchor": "center",
          "xref": "paper",
          "y": 1,
          "yanchor": "bottom",
          "yref": "paper"
         },
         {
          "font": {},
          "showarrow": false,
          "text": "action=@nic_send_bytes",
          "x": 0.3725,
          "xanchor": "center",
          "xref": "paper",
          "y": 1,
          "yanchor": "bottom",
          "yref": "paper"
         },
         {
          "font": {},
          "showarrow": false,
          "text": "action=@recv_bytes",
          "x": 0.6275,
          "xanchor": "center",
          "xref": "paper",
          "y": 1,
          "yanchor": "bottom",
          "yref": "paper"
         },
         {
          "font": {},
          "showarrow": false,
          "text": "action=@send_bytes",
          "x": 0.8824999999999998,
          "xanchor": "center",
          "xref": "paper",
          "y": 1,
          "yanchor": "bottom",
          "yref": "paper"
         }
        ],
        "barmode": "group",
        "legend": {
         "title": {
          "text": "Packets Per Second (thousand)"
         },
         "tracegroupgap": 0
        },
        "template": {
         "data": {
          "bar": [
           {
            "error_x": {
             "color": "#2a3f5f"
            },
            "error_y": {
             "color": "#2a3f5f"
            },
            "marker": {
             "line": {
              "color": "#E5ECF6",
              "width": 0.5
             },
             "pattern": {
              "fillmode": "overlay",
              "size": 10,
              "solidity": 0.2
             }
            },
            "type": "bar"
           }
          ],
          "barpolar": [
           {
            "marker": {
             "line": {
              "color": "#E5ECF6",
              "width": 0.5
             },
             "pattern": {
              "fillmode": "overlay",
              "size": 10,
              "solidity": 0.2
             }
            },
            "type": "barpolar"
           }
          ],
          "carpet": [
           {
            "aaxis": {
             "endlinecolor": "#2a3f5f",
             "gridcolor": "white",
             "linecolor": "white",
             "minorgridcolor": "white",
             "startlinecolor": "#2a3f5f"
            },
            "baxis": {
             "endlinecolor": "#2a3f5f",
             "gridcolor": "white",
             "linecolor": "white",
             "minorgridcolor": "white",
             "startlinecolor": "#2a3f5f"
            },
            "type": "carpet"
           }
          ],
          "choropleth": [
           {
            "colorbar": {
             "outlinewidth": 0,
             "ticks": ""
            },
            "type": "choropleth"
           }
          ],
          "contour": [
           {
            "colorbar": {
             "outlinewidth": 0,
             "ticks": ""
            },
            "colorscale": [
             [
              0,
              "#0d0887"
             ],
             [
              0.1111111111111111,
              "#46039f"
             ],
             [
              0.2222222222222222,
              "#7201a8"
             ],
             [
              0.3333333333333333,
              "#9c179e"
             ],
             [
              0.4444444444444444,
              "#bd3786"
             ],
             [
              0.5555555555555556,
              "#d8576b"
             ],
             [
              0.6666666666666666,
              "#ed7953"
             ],
             [
              0.7777777777777778,
              "#fb9f3a"
             ],
             [
              0.8888888888888888,
              "#fdca26"
             ],
             [
              1,
              "#f0f921"
             ]
            ],
            "type": "contour"
           }
          ],
          "contourcarpet": [
           {
            "colorbar": {
             "outlinewidth": 0,
             "ticks": ""
            },
            "type": "contourcarpet"
           }
          ],
          "heatmap": [
           {
            "colorbar": {
             "outlinewidth": 0,
             "ticks": ""
            },
            "colorscale": [
             [
              0,
              "#0d0887"
             ],
             [
              0.1111111111111111,
              "#46039f"
             ],
             [
              0.2222222222222222,
              "#7201a8"
             ],
             [
              0.3333333333333333,
              "#9c179e"
             ],
             [
              0.4444444444444444,
              "#bd3786"
             ],
             [
              0.5555555555555556,
              "#d8576b"
             ],
             [
              0.6666666666666666,
              "#ed7953"
             ],
             [
              0.7777777777777778,
              "#fb9f3a"
             ],
             [
              0.8888888888888888,
              "#fdca26"
             ],
             [
              1,
              "#f0f921"
             ]
            ],
            "type": "heatmap"
           }
          ],
          "heatmapgl": [
           {
            "colorbar": {
             "outlinewidth": 0,
             "ticks": ""
            },
            "colorscale": [
             [
              0,
              "#0d0887"
             ],
             [
              0.1111111111111111,
              "#46039f"
             ],
             [
              0.2222222222222222,
              "#7201a8"
             ],
             [
              0.3333333333333333,
              "#9c179e"
             ],
             [
              0.4444444444444444,
              "#bd3786"
             ],
             [
              0.5555555555555556,
              "#d8576b"
             ],
             [
              0.6666666666666666,
              "#ed7953"
             ],
             [
              0.7777777777777778,
              "#fb9f3a"
             ],
             [
              0.8888888888888888,
              "#fdca26"
             ],
             [
              1,
              "#f0f921"
             ]
            ],
            "type": "heatmapgl"
           }
          ],
          "histogram": [
           {
            "marker": {
             "pattern": {
              "fillmode": "overlay",
              "size": 10,
              "solidity": 0.2
             }
            },
            "type": "histogram"
           }
          ],
          "histogram2d": [
           {
            "colorbar": {
             "outlinewidth": 0,
             "ticks": ""
            },
            "colorscale": [
             [
              0,
              "#0d0887"
             ],
             [
              0.1111111111111111,
              "#46039f"
             ],
             [
              0.2222222222222222,
              "#7201a8"
             ],
             [
              0.3333333333333333,
              "#9c179e"
             ],
             [
              0.4444444444444444,
              "#bd3786"
             ],
             [
              0.5555555555555556,
              "#d8576b"
             ],
             [
              0.6666666666666666,
              "#ed7953"
             ],
             [
              0.7777777777777778,
              "#fb9f3a"
             ],
             [
              0.8888888888888888,
              "#fdca26"
             ],
             [
              1,
              "#f0f921"
             ]
            ],
            "type": "histogram2d"
           }
          ],
          "histogram2dcontour": [
           {
            "colorbar": {
             "outlinewidth": 0,
             "ticks": ""
            },
            "colorscale": [
             [
              0,
              "#0d0887"
             ],
             [
              0.1111111111111111,
              "#46039f"
             ],
             [
              0.2222222222222222,
              "#7201a8"
             ],
             [
              0.3333333333333333,
              "#9c179e"
             ],
             [
              0.4444444444444444,
              "#bd3786"
             ],
             [
              0.5555555555555556,
              "#d8576b"
             ],
             [
              0.6666666666666666,
              "#ed7953"
             ],
             [
              0.7777777777777778,
              "#fb9f3a"
             ],
             [
              0.8888888888888888,
              "#fdca26"
             ],
             [
              1,
              "#f0f921"
             ]
            ],
            "type": "histogram2dcontour"
           }
          ],
          "mesh3d": [
           {
            "colorbar": {
             "outlinewidth": 0,
             "ticks": ""
            },
            "type": "mesh3d"
           }
          ],
          "parcoords": [
           {
            "line": {
             "colorbar": {
              "outlinewidth": 0,
              "ticks": ""
             }
            },
            "type": "parcoords"
           }
          ],
          "pie": [
           {
            "automargin": true,
            "type": "pie"
           }
          ],
          "scatter": [
           {
            "marker": {
             "colorbar": {
              "outlinewidth": 0,
              "ticks": ""
             }
            },
            "type": "scatter"
           }
          ],
          "scatter3d": [
           {
            "line": {
             "colorbar": {
              "outlinewidth": 0,
              "ticks": ""
             }
            },
            "marker": {
             "colorbar": {
              "outlinewidth": 0,
              "ticks": ""
             }
            },
            "type": "scatter3d"
           }
          ],
          "scattercarpet": [
           {
            "marker": {
             "colorbar": {
              "outlinewidth": 0,
              "ticks": ""
             }
            },
            "type": "scattercarpet"
           }
          ],
          "scattergeo": [
           {
            "marker": {
             "colorbar": {
              "outlinewidth": 0,
              "ticks": ""
             }
            },
            "type": "scattergeo"
           }
          ],
          "scattergl": [
           {
            "marker": {
             "colorbar": {
              "outlinewidth": 0,
              "ticks": ""
             }
            },
            "type": "scattergl"
           }
          ],
          "scattermapbox": [
           {
            "marker": {
             "colorbar": {
              "outlinewidth": 0,
              "ticks": ""
             }
            },
            "type": "scattermapbox"
           }
          ],
          "scatterpolar": [
           {
            "marker": {
             "colorbar": {
              "outlinewidth": 0,
              "ticks": ""
             }
            },
            "type": "scatterpolar"
           }
          ],
          "scatterpolargl": [
           {
            "marker": {
             "colorbar": {
              "outlinewidth": 0,
              "ticks": ""
             }
            },
            "type": "scatterpolargl"
           }
          ],
          "scatterternary": [
           {
            "marker": {
             "colorbar": {
              "outlinewidth": 0,
              "ticks": ""
             }
            },
            "type": "scatterternary"
           }
          ],
          "surface": [
           {
            "colorbar": {
             "outlinewidth": 0,
             "ticks": ""
            },
            "colorscale": [
             [
              0,
              "#0d0887"
             ],
             [
              0.1111111111111111,
              "#46039f"
             ],
             [
              0.2222222222222222,
              "#7201a8"
             ],
             [
              0.3333333333333333,
              "#9c179e"
             ],
             [
              0.4444444444444444,
              "#bd3786"
             ],
             [
              0.5555555555555556,
              "#d8576b"
             ],
             [
              0.6666666666666666,
              "#ed7953"
             ],
             [
              0.7777777777777778,
              "#fb9f3a"
             ],
             [
              0.8888888888888888,
              "#fdca26"
             ],
             [
              1,
              "#f0f921"
             ]
            ],
            "type": "surface"
           }
          ],
          "table": [
           {
            "cells": {
             "fill": {
              "color": "#EBF0F8"
             },
             "line": {
              "color": "white"
             }
            },
            "header": {
             "fill": {
              "color": "#C8D4E3"
             },
             "line": {
              "color": "white"
             }
            },
            "type": "table"
           }
          ]
         },
         "layout": {
          "annotationdefaults": {
           "arrowcolor": "#2a3f5f",
           "arrowhead": 0,
           "arrowwidth": 1
          },
          "autotypenumbers": "strict",
          "coloraxis": {
           "colorbar": {
            "outlinewidth": 0,
            "ticks": ""
           }
          },
          "colorscale": {
           "diverging": [
            [
             0,
             "#8e0152"
            ],
            [
             0.1,
             "#c51b7d"
            ],
            [
             0.2,
             "#de77ae"
            ],
            [
             0.3,
             "#f1b6da"
            ],
            [
             0.4,
             "#fde0ef"
            ],
            [
             0.5,
             "#f7f7f7"
            ],
            [
             0.6,
             "#e6f5d0"
            ],
            [
             0.7,
             "#b8e186"
            ],
            [
             0.8,
             "#7fbc41"
            ],
            [
             0.9,
             "#4d9221"
            ],
            [
             1,
             "#276419"
            ]
           ],
           "sequential": [
            [
             0,
             "#0d0887"
            ],
            [
             0.1111111111111111,
             "#46039f"
            ],
            [
             0.2222222222222222,
             "#7201a8"
            ],
            [
             0.3333333333333333,
             "#9c179e"
            ],
            [
             0.4444444444444444,
             "#bd3786"
            ],
            [
             0.5555555555555556,
             "#d8576b"
            ],
            [
             0.6666666666666666,
             "#ed7953"
            ],
            [
             0.7777777777777778,
             "#fb9f3a"
            ],
            [
             0.8888888888888888,
             "#fdca26"
            ],
            [
             1,
             "#f0f921"
            ]
           ],
           "sequentialminus": [
            [
             0,
             "#0d0887"
            ],
            [
             0.1111111111111111,
             "#46039f"
            ],
            [
             0.2222222222222222,
             "#7201a8"
            ],
            [
             0.3333333333333333,
             "#9c179e"
            ],
            [
             0.4444444444444444,
             "#bd3786"
            ],
            [
             0.5555555555555556,
             "#d8576b"
            ],
            [
             0.6666666666666666,
             "#ed7953"
            ],
            [
             0.7777777777777778,
             "#fb9f3a"
            ],
            [
             0.8888888888888888,
             "#fdca26"
            ],
            [
             1,
             "#f0f921"
            ]
           ]
          },
          "colorway": [
           "#636efa",
           "#EF553B",
           "#00cc96",
           "#ab63fa",
           "#FFA15A",
           "#19d3f3",
           "#FF6692",
           "#B6E880",
           "#FF97FF",
           "#FECB52"
          ],
          "font": {
           "color": "#2a3f5f"
          },
          "geo": {
           "bgcolor": "white",
           "lakecolor": "white",
           "landcolor": "#E5ECF6",
           "showlakes": true,
           "showland": true,
           "subunitcolor": "white"
          },
          "hoverlabel": {
           "align": "left"
          },
          "hovermode": "closest",
          "mapbox": {
           "style": "light"
          },
          "paper_bgcolor": "white",
          "plot_bgcolor": "#E5ECF6",
          "polar": {
           "angularaxis": {
            "gridcolor": "white",
            "linecolor": "white",
            "ticks": ""
           },
           "bgcolor": "#E5ECF6",
           "radialaxis": {
            "gridcolor": "white",
            "linecolor": "white",
            "ticks": ""
           }
          },
          "scene": {
           "xaxis": {
            "backgroundcolor": "#E5ECF6",
            "gridcolor": "white",
            "gridwidth": 2,
            "linecolor": "white",
            "showbackground": true,
            "ticks": "",
            "zerolinecolor": "white"
           },
           "yaxis": {
            "backgroundcolor": "#E5ECF6",
            "gridcolor": "white",
            "gridwidth": 2,
            "linecolor": "white",
            "showbackground": true,
            "ticks": "",
            "zerolinecolor": "white"
           },
           "zaxis": {
            "backgroundcolor": "#E5ECF6",
            "gridcolor": "white",
            "gridwidth": 2,
            "linecolor": "white",
            "showbackground": true,
            "ticks": "",
            "zerolinecolor": "white"
           }
          },
          "shapedefaults": {
           "line": {
            "color": "#2a3f5f"
           }
          },
          "ternary": {
           "aaxis": {
            "gridcolor": "white",
            "linecolor": "white",
            "ticks": ""
           },
           "baxis": {
            "gridcolor": "white",
            "linecolor": "white",
            "ticks": ""
           },
           "bgcolor": "#E5ECF6",
           "caxis": {
            "gridcolor": "white",
            "linecolor": "white",
            "ticks": ""
           }
          },
          "title": {
           "x": 0.05
          },
          "xaxis": {
           "automargin": true,
           "gridcolor": "white",
           "linecolor": "white",
           "ticks": "",
           "title": {
            "standoff": 15
           },
           "zerolinecolor": "white",
           "zerolinewidth": 2
          },
          "yaxis": {
           "automargin": true,
           "gridcolor": "white",
           "linecolor": "white",
           "ticks": "",
           "title": {
            "standoff": 15
           },
           "zerolinecolor": "white",
           "zerolinewidth": 2
          }
         }
        },
        "title": {
         "text": "Packet Distribution"
        },
        "xaxis": {
         "anchor": "y",
         "domain": [
          0,
          0.235
         ],
         "title": {
          "text": "Packet Size (bytes)"
         }
        },
        "xaxis2": {
         "anchor": "y2",
         "domain": [
          0.255,
          0.49
         ],
         "matches": "x",
         "title": {
          "text": "Packet Size (bytes)"
         }
        },
        "xaxis3": {
         "anchor": "y3",
         "domain": [
          0.51,
          0.745
         ],
         "matches": "x",
         "title": {
          "text": "Packet Size (bytes)"
         }
        },
        "xaxis4": {
         "anchor": "y4",
         "domain": [
          0.7649999999999999,
          0.9999999999999999
         ],
         "matches": "x",
         "title": {
          "text": "Packet Size (bytes)"
         }
        },
        "yaxis": {
         "anchor": "x",
         "domain": [
          0,
          1
         ],
         "title": {
          "text": "Number of Packets"
         }
        },
        "yaxis2": {
         "anchor": "x2",
         "domain": [
          0,
          1
         ],
         "matches": "y",
         "showticklabels": false
        },
        "yaxis3": {
         "anchor": "x3",
         "domain": [
          0,
          1
         ],
         "matches": "y",
         "showticklabels": false
        },
        "yaxis4": {
         "anchor": "x4",
         "domain": [
          0,
          1
         ],
         "matches": "y",
         "showticklabels": false
        }
       }
      }
     },
     "metadata": {},
     "output_type": "display_data"
    }
   ],
   "source": [
    "from pyspark.sql.types import StructType,StructField, StringType, IntegerType\n",
    "data_df = spark.read.option(\"basePath\", \"../ansible/.results\").json(\"../ansible/.results/kpps=*/tool=netsize\")\n",
    "schema = StructType([\n",
    "  StructField('type', StringType(), True),\n",
    "  StructField('kpps', StringType(), True),\n",
    "  StructField('count', IntegerType(), True),\n",
    "  StructField('min', IntegerType(), True),\n",
    "  StructField('max', IntegerType(), True),\n",
    "  StructField('device', StringType(), True),\n",
    "  StructField('action', StringType(), True),\n",
    "  ])\n",
    "\n",
    "#Create empty DataFrame directly.\n",
    "netsize_df = spark.createDataFrame([], schema)\n",
    "\n",
    "types = data_df.select(\"data.*\").columns\n",
    "data_df = data_df.select(\"*\", \"data.*\").drop(\"data\")\n",
    "for t in types: # for action of the actions -> e.g., recv_bytes\n",
    "  columns = data_df.select(\"{}.*\".format(t)).columns\n",
    "  for c in columns: # for each device -> e.g., eth0\n",
    "      df = data_df.select(\"type\", \"kpps\", \"tool\", explode(\"{}.{}\".format(t, c)).alias(\"dataExplode\")).select(\"type\", \"kpps\", \"dataExplode.*\").withColumn('device', lit(c)).withColumn('action', lit(t))\n",
    "      netsize_df = netsize_df.union(df)\n",
    "\n",
    "netsize_df = netsize_df.select(\"*\", concat_ws(' - ',col('min'),col('max')).alias(\"interval\"))\n",
    "netsize_fig = px.bar(netsize_df.toPandas(), x=\"interval\", y=\"count\", color=\"kpps\", barmode=\"group\", facet_col=\"action\",\n",
    "        title=\"Packet Distribution\",\n",
    "        labels={\n",
    "                    \"kpps\": \"Packets Per Second (thousand)\",\n",
    "                    \"count\": \"Number of Packets\",\n",
    "                    \"interval\": \"Packet Size (bytes)\"\n",
    "                })\n",
    "netsize_fig.show()\n",
    "netsize_fig.write_image(\"images/netsize.jpeg\")\n",
    "with open(html_output_file, 'a') as f:\n",
    "    f.write(netsize_fig.to_html(full_html=False, include_plotlyjs='cdn'))"
   ]
  },
  {
   "cell_type": "code",
   "execution_count": 20,
   "metadata": {},
   "outputs": [
    {
     "data": {
      "application/vnd.plotly.v1+json": {
       "config": {
        "plotlyServerURL": "https://plot.ly"
       },
       "data": [
        {
         "alignmentgroup": "True",
         "hovertemplate": "Packets Per Second (thousand)=100<br>device=enP33017s2<br>Latency (usecs)=%{x}<br>Number of Packets=%{y}<extra></extra>",
         "legendgroup": "100",
         "marker": {
          "color": "#636efa",
          "pattern": {
           "shape": ""
          }
         },
         "name": "100",
         "offsetgroup": "100",
         "orientation": "v",
         "showlegend": true,
         "textposition": "auto",
         "type": "bar",
         "x": [
          "1 - 1",
          "3 - 2",
          "7 - 4",
          "15 - 8",
          "31 - 16",
          "63 - 32",
          "127 - 64",
          "255 - 128",
          "511 - 256",
          "1023 - 512"
         ],
         "xaxis": "x2",
         "y": [
          84,
          160293,
          365379,
          209946,
          318528,
          336599,
          3521342,
          555578,
          172,
          91
         ],
         "yaxis": "y2"
        },
        {
         "alignmentgroup": "True",
         "hovertemplate": "Packets Per Second (thousand)=100<br>device=eth0<br>Latency (usecs)=%{x}<br>Number of Packets=%{y}<extra></extra>",
         "legendgroup": "100",
         "marker": {
          "color": "#636efa",
          "pattern": {
           "shape": ""
          }
         },
         "name": "100",
         "offsetgroup": "100",
         "orientation": "v",
         "showlegend": false,
         "textposition": "auto",
         "type": "bar",
         "x": [
          "63 - 32",
          "127 - 64",
          "255 - 128",
          "511 - 256",
          "1023 - 512"
         ],
         "xaxis": "x",
         "y": [
          32,
          68,
          44,
          25,
          2
         ],
         "yaxis": "y"
        },
        {
         "alignmentgroup": "True",
         "hovertemplate": "Packets Per Second (thousand)=200<br>device=enP33017s2<br>Latency (usecs)=%{x}<br>Number of Packets=%{y}<extra></extra>",
         "legendgroup": "200",
         "marker": {
          "color": "#EF553B",
          "pattern": {
           "shape": ""
          }
         },
         "name": "200",
         "offsetgroup": "200",
         "orientation": "v",
         "showlegend": true,
         "textposition": "auto",
         "type": "bar",
         "x": [
          "1 - 1",
          "3 - 2",
          "7 - 4",
          "15 - 8",
          "31 - 16",
          "63 - 32",
          "127 - 64",
          "255 - 128",
          "511 - 256"
         ],
         "xaxis": "x2",
         "y": [
          103,
          94354,
          323937,
          40607,
          81279,
          424222,
          3926552,
          598167,
          8
         ],
         "yaxis": "y2"
        },
        {
         "alignmentgroup": "True",
         "hovertemplate": "Packets Per Second (thousand)=200<br>device=eth0<br>Latency (usecs)=%{x}<br>Number of Packets=%{y}<extra></extra>",
         "legendgroup": "200",
         "marker": {
          "color": "#EF553B",
          "pattern": {
           "shape": ""
          }
         },
         "name": "200",
         "offsetgroup": "200",
         "orientation": "v",
         "showlegend": false,
         "textposition": "auto",
         "type": "bar",
         "x": [
          "63 - 32",
          "127 - 64",
          "255 - 128",
          "511 - 256",
          "1023 - 512",
          "2047 - 1024",
          "4095 - 2048",
          "8191 - 4096",
          "16383 - 8192"
         ],
         "xaxis": "x",
         "y": [
          29,
          73,
          38,
          33,
          2,
          1,
          1,
          0,
          2
         ],
         "yaxis": "y"
        },
        {
         "alignmentgroup": "True",
         "hovertemplate": "Packets Per Second (thousand)=500<br>device=enP33017s2<br>Latency (usecs)=%{x}<br>Number of Packets=%{y}<extra></extra>",
         "legendgroup": "500",
         "marker": {
          "color": "#00cc96",
          "pattern": {
           "shape": ""
          }
         },
         "name": "500",
         "offsetgroup": "500",
         "orientation": "v",
         "showlegend": true,
         "textposition": "auto",
         "type": "bar",
         "x": [
          "1 - 1",
          "3 - 2",
          "7 - 4",
          "15 - 8",
          "31 - 16",
          "63 - 32",
          "127 - 64",
          "255 - 128"
         ],
         "xaxis": "x2",
         "y": [
          60,
          89436,
          313194,
          15815,
          37106,
          337370,
          4110577,
          598597
         ],
         "yaxis": "y2"
        },
        {
         "alignmentgroup": "True",
         "hovertemplate": "Packets Per Second (thousand)=500<br>device=eth0<br>Latency (usecs)=%{x}<br>Number of Packets=%{y}<extra></extra>",
         "legendgroup": "500",
         "marker": {
          "color": "#00cc96",
          "pattern": {
           "shape": ""
          }
         },
         "name": "500",
         "offsetgroup": "500",
         "orientation": "v",
         "showlegend": false,
         "textposition": "auto",
         "type": "bar",
         "x": [
          "63 - 32",
          "127 - 64",
          "255 - 128",
          "511 - 256",
          "1023 - 512",
          "2047 - 1024",
          "4095 - 2048",
          "8191 - 4096",
          "16383 - 8192"
         ],
         "xaxis": "x",
         "y": [
          47,
          66,
          43,
          19,
          0,
          0,
          1,
          0,
          1
         ],
         "yaxis": "y"
        },
        {
         "alignmentgroup": "True",
         "hovertemplate": "Packets Per Second (thousand)=600<br>device=enP33017s2<br>Latency (usecs)=%{x}<br>Number of Packets=%{y}<extra></extra>",
         "legendgroup": "600",
         "marker": {
          "color": "#ab63fa",
          "pattern": {
           "shape": ""
          }
         },
         "name": "600",
         "offsetgroup": "600",
         "orientation": "v",
         "showlegend": true,
         "textposition": "auto",
         "type": "bar",
         "x": [
          "1 - 1",
          "3 - 2",
          "7 - 4",
          "15 - 8",
          "31 - 16",
          "63 - 32",
          "127 - 64",
          "255 - 128",
          "511 - 256",
          "1023 - 512"
         ],
         "xaxis": "x2",
         "y": [
          53,
          97478,
          307275,
          19154,
          32215,
          303331,
          4111749,
          612721,
          215,
          14
         ],
         "yaxis": "y2"
        },
        {
         "alignmentgroup": "True",
         "hovertemplate": "Packets Per Second (thousand)=600<br>device=eth0<br>Latency (usecs)=%{x}<br>Number of Packets=%{y}<extra></extra>",
         "legendgroup": "600",
         "marker": {
          "color": "#ab63fa",
          "pattern": {
           "shape": ""
          }
         },
         "name": "600",
         "offsetgroup": "600",
         "orientation": "v",
         "showlegend": false,
         "textposition": "auto",
         "type": "bar",
         "x": [
          "63 - 32",
          "127 - 64",
          "255 - 128",
          "511 - 256",
          "1023 - 512"
         ],
         "xaxis": "x",
         "y": [
          28,
          77,
          37,
          29,
          1
         ],
         "yaxis": "y"
        },
        {
         "alignmentgroup": "True",
         "hovertemplate": "Packets Per Second (thousand)=300<br>device=enP33017s2<br>Latency (usecs)=%{x}<br>Number of Packets=%{y}<extra></extra>",
         "legendgroup": "300",
         "marker": {
          "color": "#FFA15A",
          "pattern": {
           "shape": ""
          }
         },
         "name": "300",
         "offsetgroup": "300",
         "orientation": "v",
         "showlegend": true,
         "textposition": "auto",
         "type": "bar",
         "x": [
          "1 - 1",
          "3 - 2",
          "7 - 4",
          "15 - 8",
          "31 - 16",
          "63 - 32",
          "127 - 64",
          "255 - 128"
         ],
         "xaxis": "x2",
         "y": [
          65,
          97771,
          312929,
          26619,
          38445,
          301881,
          4102197,
          632668
         ],
         "yaxis": "y2"
        },
        {
         "alignmentgroup": "True",
         "hovertemplate": "Packets Per Second (thousand)=300<br>device=eth0<br>Latency (usecs)=%{x}<br>Number of Packets=%{y}<extra></extra>",
         "legendgroup": "300",
         "marker": {
          "color": "#FFA15A",
          "pattern": {
           "shape": ""
          }
         },
         "name": "300",
         "offsetgroup": "300",
         "orientation": "v",
         "showlegend": false,
         "textposition": "auto",
         "type": "bar",
         "x": [
          "63 - 32",
          "127 - 64",
          "255 - 128",
          "511 - 256",
          "1023 - 512",
          "2047 - 1024",
          "4095 - 2048"
         ],
         "xaxis": "x",
         "y": [
          19,
          70,
          55,
          28,
          1,
          0,
          1
         ],
         "yaxis": "y"
        },
        {
         "alignmentgroup": "True",
         "hovertemplate": "Packets Per Second (thousand)=400<br>device=enP33017s2<br>Latency (usecs)=%{x}<br>Number of Packets=%{y}<extra></extra>",
         "legendgroup": "400",
         "marker": {
          "color": "#19d3f3",
          "pattern": {
           "shape": ""
          }
         },
         "name": "400",
         "offsetgroup": "400",
         "orientation": "v",
         "showlegend": true,
         "textposition": "auto",
         "type": "bar",
         "x": [
          "1 - 1",
          "3 - 2",
          "7 - 4",
          "15 - 8",
          "31 - 16",
          "63 - 32",
          "127 - 64",
          "255 - 128",
          "511 - 256",
          "1023 - 512"
         ],
         "xaxis": "x2",
         "y": [
          40,
          88286,
          317419,
          19027,
          34720,
          314271,
          4146101,
          629826,
          340,
          24
         ],
         "yaxis": "y2"
        },
        {
         "alignmentgroup": "True",
         "hovertemplate": "Packets Per Second (thousand)=400<br>device=eth0<br>Latency (usecs)=%{x}<br>Number of Packets=%{y}<extra></extra>",
         "legendgroup": "400",
         "marker": {
          "color": "#19d3f3",
          "pattern": {
           "shape": ""
          }
         },
         "name": "400",
         "offsetgroup": "400",
         "orientation": "v",
         "showlegend": false,
         "textposition": "auto",
         "type": "bar",
         "x": [
          "63 - 32",
          "127 - 64",
          "255 - 128",
          "511 - 256"
         ],
         "xaxis": "x",
         "y": [
          39,
          65,
          38,
          29
         ],
         "yaxis": "y"
        },
        {
         "alignmentgroup": "True",
         "hovertemplate": "Packets Per Second (thousand)=10<br>device=enP33017s2<br>Latency (usecs)=%{x}<br>Number of Packets=%{y}<extra></extra>",
         "legendgroup": "10",
         "marker": {
          "color": "#FF6692",
          "pattern": {
           "shape": ""
          }
         },
         "name": "10",
         "offsetgroup": "10",
         "orientation": "v",
         "showlegend": true,
         "textposition": "auto",
         "type": "bar",
         "x": [
          "3 - 2",
          "7 - 4",
          "15 - 8",
          "31 - 16",
          "63 - 32",
          "127 - 64",
          "255 - 128"
         ],
         "xaxis": "x2",
         "y": [
          7587,
          26420,
          57894,
          32631,
          194966,
          252560,
          27944
         ],
         "yaxis": "y2"
        },
        {
         "alignmentgroup": "True",
         "hovertemplate": "Packets Per Second (thousand)=10<br>device=eth0<br>Latency (usecs)=%{x}<br>Number of Packets=%{y}<extra></extra>",
         "legendgroup": "10",
         "marker": {
          "color": "#FF6692",
          "pattern": {
           "shape": ""
          }
         },
         "name": "10",
         "offsetgroup": "10",
         "orientation": "v",
         "showlegend": false,
         "textposition": "auto",
         "type": "bar",
         "x": [
          "63 - 32",
          "127 - 64",
          "255 - 128",
          "511 - 256",
          "1023 - 512",
          "2047 - 1024",
          "4095 - 2048",
          "8191 - 4096"
         ],
         "xaxis": "x",
         "y": [
          26,
          60,
          42,
          37,
          7,
          1,
          0,
          1
         ],
         "yaxis": "y"
        },
        {
         "alignmentgroup": "True",
         "hovertemplate": "Packets Per Second (thousand)=1<br>device=enP33017s2<br>Latency (usecs)=%{x}<br>Number of Packets=%{y}<extra></extra>",
         "legendgroup": "1",
         "marker": {
          "color": "#B6E880",
          "pattern": {
           "shape": ""
          }
         },
         "name": "1",
         "offsetgroup": "1",
         "orientation": "v",
         "showlegend": true,
         "textposition": "auto",
         "type": "bar",
         "x": [
          "1 - 1",
          "3 - 2",
          "7 - 4",
          "15 - 8",
          "31 - 16",
          "63 - 32",
          "127 - 64",
          "255 - 128"
         ],
         "xaxis": "x2",
         "y": [
          51,
          93159,
          312170,
          18136,
          24270,
          291415,
          4148142,
          634913
         ],
         "yaxis": "y2"
        },
        {
         "alignmentgroup": "True",
         "hovertemplate": "Packets Per Second (thousand)=1<br>device=eth0<br>Latency (usecs)=%{x}<br>Number of Packets=%{y}<extra></extra>",
         "legendgroup": "1",
         "marker": {
          "color": "#B6E880",
          "pattern": {
           "shape": ""
          }
         },
         "name": "1",
         "offsetgroup": "1",
         "orientation": "v",
         "showlegend": false,
         "textposition": "auto",
         "type": "bar",
         "x": [
          "63 - 32",
          "127 - 64",
          "255 - 128",
          "511 - 256"
         ],
         "xaxis": "x",
         "y": [
          45,
          63,
          49,
          18
         ],
         "yaxis": "y"
        },
        {
         "alignmentgroup": "True",
         "hovertemplate": "Packets Per Second (thousand)=50<br>device=enP33017s2<br>Latency (usecs)=%{x}<br>Number of Packets=%{y}<extra></extra>",
         "legendgroup": "50",
         "marker": {
          "color": "#FF97FF",
          "pattern": {
           "shape": ""
          }
         },
         "name": "50",
         "offsetgroup": "50",
         "orientation": "v",
         "showlegend": true,
         "textposition": "auto",
         "type": "bar",
         "x": [
          "1 - 1",
          "3 - 2",
          "7 - 4",
          "15 - 8",
          "31 - 16",
          "63 - 32",
          "127 - 64",
          "255 - 128"
         ],
         "xaxis": "x2",
         "y": [
          70,
          83224,
          237078,
          215207,
          252261,
          397687,
          1557366,
          257127
         ],
         "yaxis": "y2"
        },
        {
         "alignmentgroup": "True",
         "hovertemplate": "Packets Per Second (thousand)=50<br>device=eth0<br>Latency (usecs)=%{x}<br>Number of Packets=%{y}<extra></extra>",
         "legendgroup": "50",
         "marker": {
          "color": "#FF97FF",
          "pattern": {
           "shape": ""
          }
         },
         "name": "50",
         "offsetgroup": "50",
         "orientation": "v",
         "showlegend": false,
         "textposition": "auto",
         "type": "bar",
         "x": [
          "63 - 32",
          "127 - 64",
          "255 - 128",
          "511 - 256",
          "1023 - 512"
         ],
         "xaxis": "x",
         "y": [
          24,
          76,
          53,
          32,
          2
         ],
         "yaxis": "y"
        }
       ],
       "layout": {
        "annotations": [
         {
          "font": {},
          "showarrow": false,
          "text": "device=eth0",
          "textangle": 90,
          "x": 0.98,
          "xanchor": "left",
          "xref": "paper",
          "y": 0.2425,
          "yanchor": "middle",
          "yref": "paper"
         },
         {
          "font": {},
          "showarrow": false,
          "text": "device=enP33017s2",
          "textangle": 90,
          "x": 0.98,
          "xanchor": "left",
          "xref": "paper",
          "y": 0.7575000000000001,
          "yanchor": "middle",
          "yref": "paper"
         }
        ],
        "barmode": "group",
        "legend": {
         "title": {
          "text": "Packets Per Second (thousand)"
         },
         "tracegroupgap": 0
        },
        "template": {
         "data": {
          "bar": [
           {
            "error_x": {
             "color": "#2a3f5f"
            },
            "error_y": {
             "color": "#2a3f5f"
            },
            "marker": {
             "line": {
              "color": "#E5ECF6",
              "width": 0.5
             },
             "pattern": {
              "fillmode": "overlay",
              "size": 10,
              "solidity": 0.2
             }
            },
            "type": "bar"
           }
          ],
          "barpolar": [
           {
            "marker": {
             "line": {
              "color": "#E5ECF6",
              "width": 0.5
             },
             "pattern": {
              "fillmode": "overlay",
              "size": 10,
              "solidity": 0.2
             }
            },
            "type": "barpolar"
           }
          ],
          "carpet": [
           {
            "aaxis": {
             "endlinecolor": "#2a3f5f",
             "gridcolor": "white",
             "linecolor": "white",
             "minorgridcolor": "white",
             "startlinecolor": "#2a3f5f"
            },
            "baxis": {
             "endlinecolor": "#2a3f5f",
             "gridcolor": "white",
             "linecolor": "white",
             "minorgridcolor": "white",
             "startlinecolor": "#2a3f5f"
            },
            "type": "carpet"
           }
          ],
          "choropleth": [
           {
            "colorbar": {
             "outlinewidth": 0,
             "ticks": ""
            },
            "type": "choropleth"
           }
          ],
          "contour": [
           {
            "colorbar": {
             "outlinewidth": 0,
             "ticks": ""
            },
            "colorscale": [
             [
              0,
              "#0d0887"
             ],
             [
              0.1111111111111111,
              "#46039f"
             ],
             [
              0.2222222222222222,
              "#7201a8"
             ],
             [
              0.3333333333333333,
              "#9c179e"
             ],
             [
              0.4444444444444444,
              "#bd3786"
             ],
             [
              0.5555555555555556,
              "#d8576b"
             ],
             [
              0.6666666666666666,
              "#ed7953"
             ],
             [
              0.7777777777777778,
              "#fb9f3a"
             ],
             [
              0.8888888888888888,
              "#fdca26"
             ],
             [
              1,
              "#f0f921"
             ]
            ],
            "type": "contour"
           }
          ],
          "contourcarpet": [
           {
            "colorbar": {
             "outlinewidth": 0,
             "ticks": ""
            },
            "type": "contourcarpet"
           }
          ],
          "heatmap": [
           {
            "colorbar": {
             "outlinewidth": 0,
             "ticks": ""
            },
            "colorscale": [
             [
              0,
              "#0d0887"
             ],
             [
              0.1111111111111111,
              "#46039f"
             ],
             [
              0.2222222222222222,
              "#7201a8"
             ],
             [
              0.3333333333333333,
              "#9c179e"
             ],
             [
              0.4444444444444444,
              "#bd3786"
             ],
             [
              0.5555555555555556,
              "#d8576b"
             ],
             [
              0.6666666666666666,
              "#ed7953"
             ],
             [
              0.7777777777777778,
              "#fb9f3a"
             ],
             [
              0.8888888888888888,
              "#fdca26"
             ],
             [
              1,
              "#f0f921"
             ]
            ],
            "type": "heatmap"
           }
          ],
          "heatmapgl": [
           {
            "colorbar": {
             "outlinewidth": 0,
             "ticks": ""
            },
            "colorscale": [
             [
              0,
              "#0d0887"
             ],
             [
              0.1111111111111111,
              "#46039f"
             ],
             [
              0.2222222222222222,
              "#7201a8"
             ],
             [
              0.3333333333333333,
              "#9c179e"
             ],
             [
              0.4444444444444444,
              "#bd3786"
             ],
             [
              0.5555555555555556,
              "#d8576b"
             ],
             [
              0.6666666666666666,
              "#ed7953"
             ],
             [
              0.7777777777777778,
              "#fb9f3a"
             ],
             [
              0.8888888888888888,
              "#fdca26"
             ],
             [
              1,
              "#f0f921"
             ]
            ],
            "type": "heatmapgl"
           }
          ],
          "histogram": [
           {
            "marker": {
             "pattern": {
              "fillmode": "overlay",
              "size": 10,
              "solidity": 0.2
             }
            },
            "type": "histogram"
           }
          ],
          "histogram2d": [
           {
            "colorbar": {
             "outlinewidth": 0,
             "ticks": ""
            },
            "colorscale": [
             [
              0,
              "#0d0887"
             ],
             [
              0.1111111111111111,
              "#46039f"
             ],
             [
              0.2222222222222222,
              "#7201a8"
             ],
             [
              0.3333333333333333,
              "#9c179e"
             ],
             [
              0.4444444444444444,
              "#bd3786"
             ],
             [
              0.5555555555555556,
              "#d8576b"
             ],
             [
              0.6666666666666666,
              "#ed7953"
             ],
             [
              0.7777777777777778,
              "#fb9f3a"
             ],
             [
              0.8888888888888888,
              "#fdca26"
             ],
             [
              1,
              "#f0f921"
             ]
            ],
            "type": "histogram2d"
           }
          ],
          "histogram2dcontour": [
           {
            "colorbar": {
             "outlinewidth": 0,
             "ticks": ""
            },
            "colorscale": [
             [
              0,
              "#0d0887"
             ],
             [
              0.1111111111111111,
              "#46039f"
             ],
             [
              0.2222222222222222,
              "#7201a8"
             ],
             [
              0.3333333333333333,
              "#9c179e"
             ],
             [
              0.4444444444444444,
              "#bd3786"
             ],
             [
              0.5555555555555556,
              "#d8576b"
             ],
             [
              0.6666666666666666,
              "#ed7953"
             ],
             [
              0.7777777777777778,
              "#fb9f3a"
             ],
             [
              0.8888888888888888,
              "#fdca26"
             ],
             [
              1,
              "#f0f921"
             ]
            ],
            "type": "histogram2dcontour"
           }
          ],
          "mesh3d": [
           {
            "colorbar": {
             "outlinewidth": 0,
             "ticks": ""
            },
            "type": "mesh3d"
           }
          ],
          "parcoords": [
           {
            "line": {
             "colorbar": {
              "outlinewidth": 0,
              "ticks": ""
             }
            },
            "type": "parcoords"
           }
          ],
          "pie": [
           {
            "automargin": true,
            "type": "pie"
           }
          ],
          "scatter": [
           {
            "marker": {
             "colorbar": {
              "outlinewidth": 0,
              "ticks": ""
             }
            },
            "type": "scatter"
           }
          ],
          "scatter3d": [
           {
            "line": {
             "colorbar": {
              "outlinewidth": 0,
              "ticks": ""
             }
            },
            "marker": {
             "colorbar": {
              "outlinewidth": 0,
              "ticks": ""
             }
            },
            "type": "scatter3d"
           }
          ],
          "scattercarpet": [
           {
            "marker": {
             "colorbar": {
              "outlinewidth": 0,
              "ticks": ""
             }
            },
            "type": "scattercarpet"
           }
          ],
          "scattergeo": [
           {
            "marker": {
             "colorbar": {
              "outlinewidth": 0,
              "ticks": ""
             }
            },
            "type": "scattergeo"
           }
          ],
          "scattergl": [
           {
            "marker": {
             "colorbar": {
              "outlinewidth": 0,
              "ticks": ""
             }
            },
            "type": "scattergl"
           }
          ],
          "scattermapbox": [
           {
            "marker": {
             "colorbar": {
              "outlinewidth": 0,
              "ticks": ""
             }
            },
            "type": "scattermapbox"
           }
          ],
          "scatterpolar": [
           {
            "marker": {
             "colorbar": {
              "outlinewidth": 0,
              "ticks": ""
             }
            },
            "type": "scatterpolar"
           }
          ],
          "scatterpolargl": [
           {
            "marker": {
             "colorbar": {
              "outlinewidth": 0,
              "ticks": ""
             }
            },
            "type": "scatterpolargl"
           }
          ],
          "scatterternary": [
           {
            "marker": {
             "colorbar": {
              "outlinewidth": 0,
              "ticks": ""
             }
            },
            "type": "scatterternary"
           }
          ],
          "surface": [
           {
            "colorbar": {
             "outlinewidth": 0,
             "ticks": ""
            },
            "colorscale": [
             [
              0,
              "#0d0887"
             ],
             [
              0.1111111111111111,
              "#46039f"
             ],
             [
              0.2222222222222222,
              "#7201a8"
             ],
             [
              0.3333333333333333,
              "#9c179e"
             ],
             [
              0.4444444444444444,
              "#bd3786"
             ],
             [
              0.5555555555555556,
              "#d8576b"
             ],
             [
              0.6666666666666666,
              "#ed7953"
             ],
             [
              0.7777777777777778,
              "#fb9f3a"
             ],
             [
              0.8888888888888888,
              "#fdca26"
             ],
             [
              1,
              "#f0f921"
             ]
            ],
            "type": "surface"
           }
          ],
          "table": [
           {
            "cells": {
             "fill": {
              "color": "#EBF0F8"
             },
             "line": {
              "color": "white"
             }
            },
            "header": {
             "fill": {
              "color": "#C8D4E3"
             },
             "line": {
              "color": "white"
             }
            },
            "type": "table"
           }
          ]
         },
         "layout": {
          "annotationdefaults": {
           "arrowcolor": "#2a3f5f",
           "arrowhead": 0,
           "arrowwidth": 1
          },
          "autotypenumbers": "strict",
          "coloraxis": {
           "colorbar": {
            "outlinewidth": 0,
            "ticks": ""
           }
          },
          "colorscale": {
           "diverging": [
            [
             0,
             "#8e0152"
            ],
            [
             0.1,
             "#c51b7d"
            ],
            [
             0.2,
             "#de77ae"
            ],
            [
             0.3,
             "#f1b6da"
            ],
            [
             0.4,
             "#fde0ef"
            ],
            [
             0.5,
             "#f7f7f7"
            ],
            [
             0.6,
             "#e6f5d0"
            ],
            [
             0.7,
             "#b8e186"
            ],
            [
             0.8,
             "#7fbc41"
            ],
            [
             0.9,
             "#4d9221"
            ],
            [
             1,
             "#276419"
            ]
           ],
           "sequential": [
            [
             0,
             "#0d0887"
            ],
            [
             0.1111111111111111,
             "#46039f"
            ],
            [
             0.2222222222222222,
             "#7201a8"
            ],
            [
             0.3333333333333333,
             "#9c179e"
            ],
            [
             0.4444444444444444,
             "#bd3786"
            ],
            [
             0.5555555555555556,
             "#d8576b"
            ],
            [
             0.6666666666666666,
             "#ed7953"
            ],
            [
             0.7777777777777778,
             "#fb9f3a"
            ],
            [
             0.8888888888888888,
             "#fdca26"
            ],
            [
             1,
             "#f0f921"
            ]
           ],
           "sequentialminus": [
            [
             0,
             "#0d0887"
            ],
            [
             0.1111111111111111,
             "#46039f"
            ],
            [
             0.2222222222222222,
             "#7201a8"
            ],
            [
             0.3333333333333333,
             "#9c179e"
            ],
            [
             0.4444444444444444,
             "#bd3786"
            ],
            [
             0.5555555555555556,
             "#d8576b"
            ],
            [
             0.6666666666666666,
             "#ed7953"
            ],
            [
             0.7777777777777778,
             "#fb9f3a"
            ],
            [
             0.8888888888888888,
             "#fdca26"
            ],
            [
             1,
             "#f0f921"
            ]
           ]
          },
          "colorway": [
           "#636efa",
           "#EF553B",
           "#00cc96",
           "#ab63fa",
           "#FFA15A",
           "#19d3f3",
           "#FF6692",
           "#B6E880",
           "#FF97FF",
           "#FECB52"
          ],
          "font": {
           "color": "#2a3f5f"
          },
          "geo": {
           "bgcolor": "white",
           "lakecolor": "white",
           "landcolor": "#E5ECF6",
           "showlakes": true,
           "showland": true,
           "subunitcolor": "white"
          },
          "hoverlabel": {
           "align": "left"
          },
          "hovermode": "closest",
          "mapbox": {
           "style": "light"
          },
          "paper_bgcolor": "white",
          "plot_bgcolor": "#E5ECF6",
          "polar": {
           "angularaxis": {
            "gridcolor": "white",
            "linecolor": "white",
            "ticks": ""
           },
           "bgcolor": "#E5ECF6",
           "radialaxis": {
            "gridcolor": "white",
            "linecolor": "white",
            "ticks": ""
           }
          },
          "scene": {
           "xaxis": {
            "backgroundcolor": "#E5ECF6",
            "gridcolor": "white",
            "gridwidth": 2,
            "linecolor": "white",
            "showbackground": true,
            "ticks": "",
            "zerolinecolor": "white"
           },
           "yaxis": {
            "backgroundcolor": "#E5ECF6",
            "gridcolor": "white",
            "gridwidth": 2,
            "linecolor": "white",
            "showbackground": true,
            "ticks": "",
            "zerolinecolor": "white"
           },
           "zaxis": {
            "backgroundcolor": "#E5ECF6",
            "gridcolor": "white",
            "gridwidth": 2,
            "linecolor": "white",
            "showbackground": true,
            "ticks": "",
            "zerolinecolor": "white"
           }
          },
          "shapedefaults": {
           "line": {
            "color": "#2a3f5f"
           }
          },
          "ternary": {
           "aaxis": {
            "gridcolor": "white",
            "linecolor": "white",
            "ticks": ""
           },
           "baxis": {
            "gridcolor": "white",
            "linecolor": "white",
            "ticks": ""
           },
           "bgcolor": "#E5ECF6",
           "caxis": {
            "gridcolor": "white",
            "linecolor": "white",
            "ticks": ""
           }
          },
          "title": {
           "x": 0.05
          },
          "xaxis": {
           "automargin": true,
           "gridcolor": "white",
           "linecolor": "white",
           "ticks": "",
           "title": {
            "standoff": 15
           },
           "zerolinecolor": "white",
           "zerolinewidth": 2
          },
          "yaxis": {
           "automargin": true,
           "gridcolor": "white",
           "linecolor": "white",
           "ticks": "",
           "title": {
            "standoff": 15
           },
           "zerolinecolor": "white",
           "zerolinewidth": 2
          }
         }
        },
        "title": {
         "text": "Latency of the device queue"
        },
        "xaxis": {
         "anchor": "y",
         "domain": [
          0,
          0.98
         ],
         "title": {
          "text": "Latency (usecs)"
         }
        },
        "xaxis2": {
         "anchor": "y2",
         "domain": [
          0,
          0.98
         ],
         "matches": "x",
         "showticklabels": false
        },
        "yaxis": {
         "anchor": "x",
         "domain": [
          0,
          0.485
         ],
         "title": {
          "text": "Number of Packets"
         }
        },
        "yaxis2": {
         "anchor": "x2",
         "domain": [
          0.515,
          1
         ],
         "matches": "y",
         "title": {
          "text": "Number of Packets"
         }
        }
       }
      }
     },
     "metadata": {},
     "output_type": "display_data"
    }
   ],
   "source": [
    "from pyspark.sql.types import StructType,StructField, StringType, IntegerType\n",
    "data_df = spark.read.option(\"basePath\", \"../ansible/.results\").json(\"../ansible/.results/kpps=*/tool=nettxlat-dev\")\n",
    "schema = StructType([\n",
    "  StructField('type', StringType(), True),\n",
    "  StructField('kpps', StringType(), True),\n",
    "  StructField('count', IntegerType(), True),\n",
    "  StructField('min', IntegerType(), True),\n",
    "  StructField('max', IntegerType(), True),\n",
    "  StructField('device', StringType(), True),\n",
    "  ])\n",
    "\n",
    "#Create empty DataFrame directly.\n",
    "nettxlat_df = spark.createDataFrame([], schema)\n",
    "\n",
    "columns = data_df.select(\"data.@us.*\").columns\n",
    "data_df = data_df.select(\"*\", \"data.@us.*\").drop(\"data\")\n",
    "\n",
    "for c in columns: # for each device -> e.g., eth0\n",
    "    df = data_df.select(\"type\", \"kpps\", \"tool\", explode(c).alias(\"dataExplode\")).select(\"type\", \"kpps\", \"dataExplode.*\").withColumn('device', lit(c))\n",
    "    nettxlat_df = nettxlat_df.union(df)\n",
    "\n",
    "nettxlat_df = nettxlat_df.select(\"*\", concat_ws(' - ',col('min'),col('max')).alias(\"interval\"))\n",
    "nettxlat_fig = px.bar(nettxlat_df.toPandas(), x=\"interval\", y=\"count\", color=\"kpps\", barmode=\"group\", facet_row=\"device\",\n",
    "        title=\"Latency of the device queue\",\n",
    "        labels={\n",
    "                    \"kpps\": \"Packets Per Second (thousand)\",\n",
    "                    \"count\": \"Number of Packets\",\n",
    "                    \"interval\": \"Latency (usecs)\"\n",
    "                })\n",
    "nettxlat_fig.show()\n",
    "nettxlat_fig.write_image(\"images/nettxlat.jpeg\")\n",
    "with open(html_output_file, 'a') as f:\n",
    "    f.write(nettxlat_fig.to_html(full_html=False, include_plotlyjs='cdn'))"
   ]
  },
  {
   "cell_type": "code",
   "execution_count": 21,
   "metadata": {},
   "outputs": [
    {
     "data": {
      "application/vnd.plotly.v1+json": {
       "config": {
        "plotlyServerURL": "https://plot.ly"
       },
       "data": [
        {
         "alignmentgroup": "True",
         "hovertemplate": "Packets Per Second (thousand)=300<br>Lifetime/Age (usecs)=%{x}<br>Number of kernel buffers=%{y}<extra></extra>",
         "legendgroup": "300",
         "marker": {
          "color": "#636efa",
          "pattern": {
           "shape": ""
          }
         },
         "name": "300",
         "offsetgroup": "300",
         "orientation": "v",
         "showlegend": true,
         "textposition": "auto",
         "type": "bar",
         "x": [
          "1024 - 2047",
          "2048 - 4095",
          "4096 - 8191",
          "8192 - 16383",
          "16384 - 32767",
          "32768 - 65535",
          "65536 - 131071",
          "131072 - 262143",
          "262144 - 524287",
          "524288 - 1048575",
          "1048576 - 2097151",
          "2097152 - 4194303",
          "4194304 - 8388607",
          "8388608 - 16777215",
          "16777216 - 33554431",
          "33554432 - 67108863",
          "67108864 - 134217727",
          "134217728 - 268435455",
          "268435456 - 536870911",
          "536870912 - 1073741823",
          "1073741824 - 2147483647",
          "-2147483648 - 0"
         ],
         "xaxis": "x",
         "y": [
          1,
          430,
          1524188,
          1958429,
          5754,
          110,
          53,
          69,
          103,
          538,
          1628,
          15616,
          4915578,
          465,
          288,
          199,
          94,
          53,
          48,
          31,
          89,
          83
         ],
         "yaxis": "y"
        },
        {
         "alignmentgroup": "True",
         "hovertemplate": "Packets Per Second (thousand)=200<br>Lifetime/Age (usecs)=%{x}<br>Number of kernel buffers=%{y}<extra></extra>",
         "legendgroup": "200",
         "marker": {
          "color": "#EF553B",
          "pattern": {
           "shape": ""
          }
         },
         "name": "200",
         "offsetgroup": "200",
         "orientation": "v",
         "showlegend": true,
         "textposition": "auto",
         "type": "bar",
         "x": [
          "1024 - 2047",
          "2048 - 4095",
          "4096 - 8191",
          "8192 - 16383",
          "16384 - 32767",
          "32768 - 65535",
          "65536 - 131071",
          "131072 - 262143",
          "262144 - 524287",
          "524288 - 1048575",
          "1048576 - 2097151",
          "2097152 - 4194303",
          "4194304 - 8388607",
          "8388608 - 16777215",
          "16777216 - 33554431",
          "33554432 - 67108863",
          "67108864 - 134217727",
          "134217728 - 268435455",
          "268435456 - 536870911",
          "536870912 - 1073741823",
          "1073741824 - 2147483647",
          "-2147483648 - 0"
         ],
         "xaxis": "x",
         "y": [
          3,
          348,
          1613994,
          1939719,
          5681,
          104,
          89,
          104,
          145,
          476,
          1733,
          23745,
          5012871,
          3,
          25,
          30,
          12,
          6,
          0,
          5,
          26,
          122
         ],
         "yaxis": "y"
        },
        {
         "alignmentgroup": "True",
         "hovertemplate": "Packets Per Second (thousand)=1<br>Lifetime/Age (usecs)=%{x}<br>Number of kernel buffers=%{y}<extra></extra>",
         "legendgroup": "1",
         "marker": {
          "color": "#00cc96",
          "pattern": {
           "shape": ""
          }
         },
         "name": "1",
         "offsetgroup": "1",
         "orientation": "v",
         "showlegend": true,
         "textposition": "auto",
         "type": "bar",
         "x": [
          "1024 - 2047",
          "2048 - 4095",
          "4096 - 8191",
          "8192 - 16383",
          "16384 - 32767",
          "32768 - 65535",
          "65536 - 131071",
          "131072 - 262143",
          "262144 - 524287",
          "524288 - 1048575",
          "1048576 - 2097151",
          "2097152 - 4194303",
          "4194304 - 8388607",
          "8388608 - 16777215",
          "16777216 - 33554431",
          "33554432 - 67108863",
          "67108864 - 134217727",
          "134217728 - 268435455",
          "268435456 - 536870911",
          "536870912 - 1073741823",
          "1073741824 - 2147483647",
          "-2147483648 - 0"
         ],
         "xaxis": "x",
         "y": [
          1,
          412,
          1704889,
          1877329,
          5505,
          125,
          26,
          42,
          39,
          126,
          612,
          28921,
          5115979,
          61,
          112,
          76,
          6,
          38,
          32,
          99,
          43,
          36
         ],
         "yaxis": "y"
        },
        {
         "alignmentgroup": "True",
         "hovertemplate": "Packets Per Second (thousand)=400<br>Lifetime/Age (usecs)=%{x}<br>Number of kernel buffers=%{y}<extra></extra>",
         "legendgroup": "400",
         "marker": {
          "color": "#ab63fa",
          "pattern": {
           "shape": ""
          }
         },
         "name": "400",
         "offsetgroup": "400",
         "orientation": "v",
         "showlegend": true,
         "textposition": "auto",
         "type": "bar",
         "x": [
          "1024 - 2047",
          "2048 - 4095",
          "4096 - 8191",
          "8192 - 16383",
          "16384 - 32767",
          "32768 - 65535",
          "65536 - 131071",
          "131072 - 262143",
          "262144 - 524287",
          "524288 - 1048575",
          "1048576 - 2097151",
          "2097152 - 4194303",
          "4194304 - 8388607",
          "8388608 - 16777215",
          "16777216 - 33554431",
          "33554432 - 67108863",
          "67108864 - 134217727",
          "134217728 - 268435455",
          "268435456 - 536870911",
          "536870912 - 1073741823",
          "1073741824 - 2147483647",
          "-2147483648 - 0"
         ],
         "xaxis": "x",
         "y": [
          2,
          323,
          1394053,
          1925232,
          5478,
          102,
          49,
          96,
          87,
          255,
          718,
          22073,
          4652803,
          27,
          8,
          32,
          89,
          106,
          11,
          26,
          71,
          77
         ],
         "yaxis": "y"
        },
        {
         "alignmentgroup": "True",
         "hovertemplate": "Packets Per Second (thousand)=100<br>Lifetime/Age (usecs)=%{x}<br>Number of kernel buffers=%{y}<extra></extra>",
         "legendgroup": "100",
         "marker": {
          "color": "#FFA15A",
          "pattern": {
           "shape": ""
          }
         },
         "name": "100",
         "offsetgroup": "100",
         "orientation": "v",
         "showlegend": true,
         "textposition": "auto",
         "type": "bar",
         "x": [
          "1024 - 2047",
          "2048 - 4095",
          "4096 - 8191",
          "8192 - 16383",
          "16384 - 32767",
          "32768 - 65535",
          "65536 - 131071",
          "131072 - 262143",
          "262144 - 524287",
          "524288 - 1048575",
          "1048576 - 2097151",
          "2097152 - 4194303",
          "4194304 - 8388607",
          "8388608 - 16777215",
          "16777216 - 33554431",
          "33554432 - 67108863",
          "67108864 - 134217727",
          "134217728 - 268435455",
          "268435456 - 536870911",
          "536870912 - 1073741823",
          "1073741824 - 2147483647",
          "-2147483648 - 0"
         ],
         "xaxis": "x",
         "y": [
          1,
          257,
          278422,
          548566,
          1263,
          1695,
          154,
          217,
          405,
          1463,
          5677,
          27310,
          4957071,
          8,
          69,
          71,
          48,
          1,
          3,
          1,
          2,
          34
         ],
         "yaxis": "y"
        },
        {
         "alignmentgroup": "True",
         "hovertemplate": "Packets Per Second (thousand)=500<br>Lifetime/Age (usecs)=%{x}<br>Number of kernel buffers=%{y}<extra></extra>",
         "legendgroup": "500",
         "marker": {
          "color": "#19d3f3",
          "pattern": {
           "shape": ""
          }
         },
         "name": "500",
         "offsetgroup": "500",
         "orientation": "v",
         "showlegend": true,
         "textposition": "auto",
         "type": "bar",
         "x": [
          "1024 - 2047",
          "2048 - 4095",
          "4096 - 8191",
          "8192 - 16383",
          "16384 - 32767",
          "32768 - 65535",
          "65536 - 131071",
          "131072 - 262143",
          "262144 - 524287",
          "524288 - 1048575",
          "1048576 - 2097151",
          "2097152 - 4194303",
          "4194304 - 8388607",
          "8388608 - 16777215",
          "16777216 - 33554431",
          "33554432 - 67108863",
          "67108864 - 134217727",
          "134217728 - 268435455",
          "268435456 - 536870911",
          "536870912 - 1073741823",
          "1073741824 - 2147483647",
          "-2147483648 - 0"
         ],
         "xaxis": "x",
         "y": [
          1,
          323,
          1127856,
          2194651,
          2266,
          106,
          19,
          30,
          26,
          31,
          118,
          2679,
          4397953,
          50,
          63,
          87,
          27,
          9,
          23,
          64,
          33,
          89
         ],
         "yaxis": "y"
        },
        {
         "alignmentgroup": "True",
         "hovertemplate": "Packets Per Second (thousand)=50<br>Lifetime/Age (usecs)=%{x}<br>Number of kernel buffers=%{y}<extra></extra>",
         "legendgroup": "50",
         "marker": {
          "color": "#FF6692",
          "pattern": {
           "shape": ""
          }
         },
         "name": "50",
         "offsetgroup": "50",
         "orientation": "v",
         "showlegend": true,
         "textposition": "auto",
         "type": "bar",
         "x": [
          "2048 - 4095",
          "4096 - 8191",
          "8192 - 16383",
          "16384 - 32767",
          "32768 - 65535",
          "65536 - 131071",
          "131072 - 262143",
          "262144 - 524287",
          "524288 - 1048575",
          "1048576 - 2097151",
          "2097152 - 4194303",
          "4194304 - 8388607",
          "8388608 - 16777215",
          "16777216 - 33554431",
          "33554432 - 67108863",
          "67108864 - 134217727",
          "134217728 - 268435455",
          "268435456 - 536870911",
          "536870912 - 1073741823",
          "1073741824 - 2147483647",
          "-2147483648 - 0"
         ],
         "xaxis": "x",
         "y": [
          8,
          5,
          1164,
          49201,
          193084,
          713972,
          1381666,
          440689,
          180955,
          30981,
          5726,
          997,
          27,
          9,
          0,
          0,
          5,
          0,
          1,
          13,
          37
         ],
         "yaxis": "y"
        },
        {
         "alignmentgroup": "True",
         "hovertemplate": "Packets Per Second (thousand)=600<br>Lifetime/Age (usecs)=%{x}<br>Number of kernel buffers=%{y}<extra></extra>",
         "legendgroup": "600",
         "marker": {
          "color": "#B6E880",
          "pattern": {
           "shape": ""
          }
         },
         "name": "600",
         "offsetgroup": "600",
         "orientation": "v",
         "showlegend": true,
         "textposition": "auto",
         "type": "bar",
         "x": [
          "2048 - 4095",
          "4096 - 8191",
          "8192 - 16383",
          "16384 - 32767",
          "32768 - 65535",
          "65536 - 131071",
          "131072 - 262143",
          "262144 - 524287",
          "524288 - 1048575",
          "1048576 - 2097151",
          "2097152 - 4194303",
          "4194304 - 8388607",
          "8388608 - 16777215",
          "16777216 - 33554431",
          "33554432 - 67108863",
          "67108864 - 134217727",
          "134217728 - 268435455",
          "268435456 - 536870911",
          "536870912 - 1073741823",
          "1073741824 - 2147483647",
          "-2147483648 - 0"
         ],
         "xaxis": "x",
         "y": [
          318,
          1464833,
          1890083,
          5288,
          106,
          25,
          32,
          29,
          42,
          140,
          7568,
          4419247,
          43,
          532,
          36,
          4,
          16,
          0,
          0,
          38,
          23
         ],
         "yaxis": "y"
        },
        {
         "alignmentgroup": "True",
         "hovertemplate": "Packets Per Second (thousand)=10<br>Lifetime/Age (usecs)=%{x}<br>Number of kernel buffers=%{y}<extra></extra>",
         "legendgroup": "10",
         "marker": {
          "color": "#FF97FF",
          "pattern": {
           "shape": ""
          }
         },
         "name": "10",
         "offsetgroup": "10",
         "orientation": "v",
         "showlegend": true,
         "textposition": "auto",
         "type": "bar",
         "x": [
          "2048 - 4095",
          "4096 - 8191",
          "8192 - 16383",
          "16384 - 32767",
          "32768 - 65535",
          "65536 - 131071",
          "131072 - 262143",
          "262144 - 524287",
          "524288 - 1048575",
          "1048576 - 2097151",
          "2097152 - 4194303",
          "4194304 - 8388607",
          "8388608 - 16777215",
          "16777216 - 33554431",
          "33554432 - 67108863",
          "67108864 - 134217727",
          "134217728 - 268435455",
          "268435456 - 536870911",
          "536870912 - 1073741823",
          "1073741824 - 2147483647",
          "-2147483648 - 0"
         ],
         "xaxis": "x",
         "y": [
          8,
          5,
          4,
          36556,
          142953,
          251153,
          162277,
          4763,
          2248,
          84,
          9,
          6,
          6,
          0,
          0,
          0,
          2,
          0,
          1,
          1,
          25
         ],
         "yaxis": "y"
        }
       ],
       "layout": {
        "barmode": "group",
        "legend": {
         "title": {
          "text": "Packets Per Second (thousand)"
         },
         "tracegroupgap": 0
        },
        "template": {
         "data": {
          "bar": [
           {
            "error_x": {
             "color": "#2a3f5f"
            },
            "error_y": {
             "color": "#2a3f5f"
            },
            "marker": {
             "line": {
              "color": "#E5ECF6",
              "width": 0.5
             },
             "pattern": {
              "fillmode": "overlay",
              "size": 10,
              "solidity": 0.2
             }
            },
            "type": "bar"
           }
          ],
          "barpolar": [
           {
            "marker": {
             "line": {
              "color": "#E5ECF6",
              "width": 0.5
             },
             "pattern": {
              "fillmode": "overlay",
              "size": 10,
              "solidity": 0.2
             }
            },
            "type": "barpolar"
           }
          ],
          "carpet": [
           {
            "aaxis": {
             "endlinecolor": "#2a3f5f",
             "gridcolor": "white",
             "linecolor": "white",
             "minorgridcolor": "white",
             "startlinecolor": "#2a3f5f"
            },
            "baxis": {
             "endlinecolor": "#2a3f5f",
             "gridcolor": "white",
             "linecolor": "white",
             "minorgridcolor": "white",
             "startlinecolor": "#2a3f5f"
            },
            "type": "carpet"
           }
          ],
          "choropleth": [
           {
            "colorbar": {
             "outlinewidth": 0,
             "ticks": ""
            },
            "type": "choropleth"
           }
          ],
          "contour": [
           {
            "colorbar": {
             "outlinewidth": 0,
             "ticks": ""
            },
            "colorscale": [
             [
              0,
              "#0d0887"
             ],
             [
              0.1111111111111111,
              "#46039f"
             ],
             [
              0.2222222222222222,
              "#7201a8"
             ],
             [
              0.3333333333333333,
              "#9c179e"
             ],
             [
              0.4444444444444444,
              "#bd3786"
             ],
             [
              0.5555555555555556,
              "#d8576b"
             ],
             [
              0.6666666666666666,
              "#ed7953"
             ],
             [
              0.7777777777777778,
              "#fb9f3a"
             ],
             [
              0.8888888888888888,
              "#fdca26"
             ],
             [
              1,
              "#f0f921"
             ]
            ],
            "type": "contour"
           }
          ],
          "contourcarpet": [
           {
            "colorbar": {
             "outlinewidth": 0,
             "ticks": ""
            },
            "type": "contourcarpet"
           }
          ],
          "heatmap": [
           {
            "colorbar": {
             "outlinewidth": 0,
             "ticks": ""
            },
            "colorscale": [
             [
              0,
              "#0d0887"
             ],
             [
              0.1111111111111111,
              "#46039f"
             ],
             [
              0.2222222222222222,
              "#7201a8"
             ],
             [
              0.3333333333333333,
              "#9c179e"
             ],
             [
              0.4444444444444444,
              "#bd3786"
             ],
             [
              0.5555555555555556,
              "#d8576b"
             ],
             [
              0.6666666666666666,
              "#ed7953"
             ],
             [
              0.7777777777777778,
              "#fb9f3a"
             ],
             [
              0.8888888888888888,
              "#fdca26"
             ],
             [
              1,
              "#f0f921"
             ]
            ],
            "type": "heatmap"
           }
          ],
          "heatmapgl": [
           {
            "colorbar": {
             "outlinewidth": 0,
             "ticks": ""
            },
            "colorscale": [
             [
              0,
              "#0d0887"
             ],
             [
              0.1111111111111111,
              "#46039f"
             ],
             [
              0.2222222222222222,
              "#7201a8"
             ],
             [
              0.3333333333333333,
              "#9c179e"
             ],
             [
              0.4444444444444444,
              "#bd3786"
             ],
             [
              0.5555555555555556,
              "#d8576b"
             ],
             [
              0.6666666666666666,
              "#ed7953"
             ],
             [
              0.7777777777777778,
              "#fb9f3a"
             ],
             [
              0.8888888888888888,
              "#fdca26"
             ],
             [
              1,
              "#f0f921"
             ]
            ],
            "type": "heatmapgl"
           }
          ],
          "histogram": [
           {
            "marker": {
             "pattern": {
              "fillmode": "overlay",
              "size": 10,
              "solidity": 0.2
             }
            },
            "type": "histogram"
           }
          ],
          "histogram2d": [
           {
            "colorbar": {
             "outlinewidth": 0,
             "ticks": ""
            },
            "colorscale": [
             [
              0,
              "#0d0887"
             ],
             [
              0.1111111111111111,
              "#46039f"
             ],
             [
              0.2222222222222222,
              "#7201a8"
             ],
             [
              0.3333333333333333,
              "#9c179e"
             ],
             [
              0.4444444444444444,
              "#bd3786"
             ],
             [
              0.5555555555555556,
              "#d8576b"
             ],
             [
              0.6666666666666666,
              "#ed7953"
             ],
             [
              0.7777777777777778,
              "#fb9f3a"
             ],
             [
              0.8888888888888888,
              "#fdca26"
             ],
             [
              1,
              "#f0f921"
             ]
            ],
            "type": "histogram2d"
           }
          ],
          "histogram2dcontour": [
           {
            "colorbar": {
             "outlinewidth": 0,
             "ticks": ""
            },
            "colorscale": [
             [
              0,
              "#0d0887"
             ],
             [
              0.1111111111111111,
              "#46039f"
             ],
             [
              0.2222222222222222,
              "#7201a8"
             ],
             [
              0.3333333333333333,
              "#9c179e"
             ],
             [
              0.4444444444444444,
              "#bd3786"
             ],
             [
              0.5555555555555556,
              "#d8576b"
             ],
             [
              0.6666666666666666,
              "#ed7953"
             ],
             [
              0.7777777777777778,
              "#fb9f3a"
             ],
             [
              0.8888888888888888,
              "#fdca26"
             ],
             [
              1,
              "#f0f921"
             ]
            ],
            "type": "histogram2dcontour"
           }
          ],
          "mesh3d": [
           {
            "colorbar": {
             "outlinewidth": 0,
             "ticks": ""
            },
            "type": "mesh3d"
           }
          ],
          "parcoords": [
           {
            "line": {
             "colorbar": {
              "outlinewidth": 0,
              "ticks": ""
             }
            },
            "type": "parcoords"
           }
          ],
          "pie": [
           {
            "automargin": true,
            "type": "pie"
           }
          ],
          "scatter": [
           {
            "marker": {
             "colorbar": {
              "outlinewidth": 0,
              "ticks": ""
             }
            },
            "type": "scatter"
           }
          ],
          "scatter3d": [
           {
            "line": {
             "colorbar": {
              "outlinewidth": 0,
              "ticks": ""
             }
            },
            "marker": {
             "colorbar": {
              "outlinewidth": 0,
              "ticks": ""
             }
            },
            "type": "scatter3d"
           }
          ],
          "scattercarpet": [
           {
            "marker": {
             "colorbar": {
              "outlinewidth": 0,
              "ticks": ""
             }
            },
            "type": "scattercarpet"
           }
          ],
          "scattergeo": [
           {
            "marker": {
             "colorbar": {
              "outlinewidth": 0,
              "ticks": ""
             }
            },
            "type": "scattergeo"
           }
          ],
          "scattergl": [
           {
            "marker": {
             "colorbar": {
              "outlinewidth": 0,
              "ticks": ""
             }
            },
            "type": "scattergl"
           }
          ],
          "scattermapbox": [
           {
            "marker": {
             "colorbar": {
              "outlinewidth": 0,
              "ticks": ""
             }
            },
            "type": "scattermapbox"
           }
          ],
          "scatterpolar": [
           {
            "marker": {
             "colorbar": {
              "outlinewidth": 0,
              "ticks": ""
             }
            },
            "type": "scatterpolar"
           }
          ],
          "scatterpolargl": [
           {
            "marker": {
             "colorbar": {
              "outlinewidth": 0,
              "ticks": ""
             }
            },
            "type": "scatterpolargl"
           }
          ],
          "scatterternary": [
           {
            "marker": {
             "colorbar": {
              "outlinewidth": 0,
              "ticks": ""
             }
            },
            "type": "scatterternary"
           }
          ],
          "surface": [
           {
            "colorbar": {
             "outlinewidth": 0,
             "ticks": ""
            },
            "colorscale": [
             [
              0,
              "#0d0887"
             ],
             [
              0.1111111111111111,
              "#46039f"
             ],
             [
              0.2222222222222222,
              "#7201a8"
             ],
             [
              0.3333333333333333,
              "#9c179e"
             ],
             [
              0.4444444444444444,
              "#bd3786"
             ],
             [
              0.5555555555555556,
              "#d8576b"
             ],
             [
              0.6666666666666666,
              "#ed7953"
             ],
             [
              0.7777777777777778,
              "#fb9f3a"
             ],
             [
              0.8888888888888888,
              "#fdca26"
             ],
             [
              1,
              "#f0f921"
             ]
            ],
            "type": "surface"
           }
          ],
          "table": [
           {
            "cells": {
             "fill": {
              "color": "#EBF0F8"
             },
             "line": {
              "color": "white"
             }
            },
            "header": {
             "fill": {
              "color": "#C8D4E3"
             },
             "line": {
              "color": "white"
             }
            },
            "type": "table"
           }
          ]
         },
         "layout": {
          "annotationdefaults": {
           "arrowcolor": "#2a3f5f",
           "arrowhead": 0,
           "arrowwidth": 1
          },
          "autotypenumbers": "strict",
          "coloraxis": {
           "colorbar": {
            "outlinewidth": 0,
            "ticks": ""
           }
          },
          "colorscale": {
           "diverging": [
            [
             0,
             "#8e0152"
            ],
            [
             0.1,
             "#c51b7d"
            ],
            [
             0.2,
             "#de77ae"
            ],
            [
             0.3,
             "#f1b6da"
            ],
            [
             0.4,
             "#fde0ef"
            ],
            [
             0.5,
             "#f7f7f7"
            ],
            [
             0.6,
             "#e6f5d0"
            ],
            [
             0.7,
             "#b8e186"
            ],
            [
             0.8,
             "#7fbc41"
            ],
            [
             0.9,
             "#4d9221"
            ],
            [
             1,
             "#276419"
            ]
           ],
           "sequential": [
            [
             0,
             "#0d0887"
            ],
            [
             0.1111111111111111,
             "#46039f"
            ],
            [
             0.2222222222222222,
             "#7201a8"
            ],
            [
             0.3333333333333333,
             "#9c179e"
            ],
            [
             0.4444444444444444,
             "#bd3786"
            ],
            [
             0.5555555555555556,
             "#d8576b"
            ],
            [
             0.6666666666666666,
             "#ed7953"
            ],
            [
             0.7777777777777778,
             "#fb9f3a"
            ],
            [
             0.8888888888888888,
             "#fdca26"
            ],
            [
             1,
             "#f0f921"
            ]
           ],
           "sequentialminus": [
            [
             0,
             "#0d0887"
            ],
            [
             0.1111111111111111,
             "#46039f"
            ],
            [
             0.2222222222222222,
             "#7201a8"
            ],
            [
             0.3333333333333333,
             "#9c179e"
            ],
            [
             0.4444444444444444,
             "#bd3786"
            ],
            [
             0.5555555555555556,
             "#d8576b"
            ],
            [
             0.6666666666666666,
             "#ed7953"
            ],
            [
             0.7777777777777778,
             "#fb9f3a"
            ],
            [
             0.8888888888888888,
             "#fdca26"
            ],
            [
             1,
             "#f0f921"
            ]
           ]
          },
          "colorway": [
           "#636efa",
           "#EF553B",
           "#00cc96",
           "#ab63fa",
           "#FFA15A",
           "#19d3f3",
           "#FF6692",
           "#B6E880",
           "#FF97FF",
           "#FECB52"
          ],
          "font": {
           "color": "#2a3f5f"
          },
          "geo": {
           "bgcolor": "white",
           "lakecolor": "white",
           "landcolor": "#E5ECF6",
           "showlakes": true,
           "showland": true,
           "subunitcolor": "white"
          },
          "hoverlabel": {
           "align": "left"
          },
          "hovermode": "closest",
          "mapbox": {
           "style": "light"
          },
          "paper_bgcolor": "white",
          "plot_bgcolor": "#E5ECF6",
          "polar": {
           "angularaxis": {
            "gridcolor": "white",
            "linecolor": "white",
            "ticks": ""
           },
           "bgcolor": "#E5ECF6",
           "radialaxis": {
            "gridcolor": "white",
            "linecolor": "white",
            "ticks": ""
           }
          },
          "scene": {
           "xaxis": {
            "backgroundcolor": "#E5ECF6",
            "gridcolor": "white",
            "gridwidth": 2,
            "linecolor": "white",
            "showbackground": true,
            "ticks": "",
            "zerolinecolor": "white"
           },
           "yaxis": {
            "backgroundcolor": "#E5ECF6",
            "gridcolor": "white",
            "gridwidth": 2,
            "linecolor": "white",
            "showbackground": true,
            "ticks": "",
            "zerolinecolor": "white"
           },
           "zaxis": {
            "backgroundcolor": "#E5ECF6",
            "gridcolor": "white",
            "gridwidth": 2,
            "linecolor": "white",
            "showbackground": true,
            "ticks": "",
            "zerolinecolor": "white"
           }
          },
          "shapedefaults": {
           "line": {
            "color": "#2a3f5f"
           }
          },
          "ternary": {
           "aaxis": {
            "gridcolor": "white",
            "linecolor": "white",
            "ticks": ""
           },
           "baxis": {
            "gridcolor": "white",
            "linecolor": "white",
            "ticks": ""
           },
           "bgcolor": "#E5ECF6",
           "caxis": {
            "gridcolor": "white",
            "linecolor": "white",
            "ticks": ""
           }
          },
          "title": {
           "x": 0.05
          },
          "xaxis": {
           "automargin": true,
           "gridcolor": "white",
           "linecolor": "white",
           "ticks": "",
           "title": {
            "standoff": 15
           },
           "zerolinecolor": "white",
           "zerolinewidth": 2
          },
          "yaxis": {
           "automargin": true,
           "gridcolor": "white",
           "linecolor": "white",
           "ticks": "",
           "title": {
            "standoff": 15
           },
           "zerolinecolor": "white",
           "zerolinewidth": 2
          }
         }
        },
        "title": {
         "text": "Distribution of lifespan or age of the kernel buffers"
        },
        "xaxis": {
         "anchor": "y",
         "domain": [
          0,
          1
         ],
         "title": {
          "text": "Lifetime/Age (usecs)"
         }
        },
        "yaxis": {
         "anchor": "x",
         "domain": [
          0,
          1
         ],
         "title": {
          "text": "Number of kernel buffers"
         }
        }
       }
      }
     },
     "metadata": {},
     "output_type": "display_data"
    }
   ],
   "source": [
    "data_df = spark.read.option(\"basePath\", \"../ansible/.results\").json(\"../ansible/.results/kpps=*/tool=skblife\")\n",
    "schema = StructType([\n",
    "  StructField('kpps', StringType(), True),\n",
    "  StructField('type', IntegerType(), True),\n",
    "  StructField('count', IntegerType(), True),\n",
    "  StructField('min', IntegerType(), True),\n",
    "  StructField('max', IntegerType(), True),\n",
    "  StructField('interval', StringType(), True),\n",
    "  ])\n",
    "\n",
    "#Create empty DataFrame directly.\n",
    "skblife_df = spark.createDataFrame([], schema)\n",
    "\n",
    "data_df = data_df.select(\"*\", explode('data.@skb_residency_nsecs').alias(\"dataExplode\")).select(\"type\", \"kpps\", \"dataExplode.*\")\n",
    "data_df = data_df.select(col(\"kpps\").cast(StringType()), \"type\", \"count\", \"min\", \"max\", concat_ws(' - ',col('min'),col('max')).alias(\"interval\"))\n",
    "skblife_df = skblife_df.union(data_df)\n",
    "skblife_fig = px.bar(skblife_df.toPandas(), x=\"interval\", y=\"count\", color=\"kpps\", barmode=\"group\",\n",
    "        title=\"Distribution of lifespan or age of the kernel buffers\",\n",
    "        labels={\n",
    "                    \"kpps\": \"Packets Per Second (thousand)\",\n",
    "                    \"count\": \"Number of kernel buffers\",\n",
    "                    \"interval\": \"Lifetime/Age (usecs)\"\n",
    "                })\n",
    "skblife_fig.show()\n",
    "skblife_fig.write_image(\"images/skblife.jpeg\")\n",
    "with open(html_output_file, 'a') as f:\n",
    "    f.write(skblife_fig.to_html(full_html=False, include_plotlyjs='cdn'))"
   ]
  },
  {
   "cell_type": "code",
   "execution_count": 22,
   "metadata": {},
   "outputs": [
    {
     "data": {
      "application/vnd.plotly.v1+json": {
       "config": {
        "plotlyServerURL": "https://plot.ly"
       },
       "data": [
        {
         "alignmentgroup": "True",
         "hovertemplate": "Packets Per Second (thousand)=50<br>action=@rmem_alloc<br>Buffer Size=%{x}<br>Number of Sock RCV calls=%{y}<extra></extra>",
         "legendgroup": "50",
         "marker": {
          "color": "#636efa",
          "pattern": {
           "shape": ""
          }
         },
         "name": "50",
         "offsetgroup": "50",
         "orientation": "v",
         "showlegend": true,
         "textposition": "auto",
         "type": "bar",
         "x": [
          "0 - 0",
          "1 - 1",
          "3 - 2",
          "7 - 4",
          "15 - 8",
          "31 - 16",
          "63 - 32",
          "127 - 64",
          "255 - 128",
          "511 - 256",
          "1023 - 512",
          "2047 - 1024",
          "4095 - 2048",
          "8191 - 4096",
          "16383 - 8192",
          "32767 - 16384",
          "65535 - 32768",
          "131071 - 65536",
          "262143 - 131072",
          "524287 - 262144"
         ],
         "xaxis": "x",
         "y": [
          86049,
          0,
          0,
          0,
          0,
          0,
          0,
          0,
          0,
          0,
          219,
          766,
          2390,
          70858,
          1516232,
          1193056,
          179734,
          21980,
          18078,
          122
         ],
         "yaxis": "y"
        },
        {
         "alignmentgroup": "True",
         "hovertemplate": "Packets Per Second (thousand)=50<br>action=@rmem_limit<br>Buffer Size=%{x}<br>Number of Sock RCV calls=%{y}<extra></extra>",
         "legendgroup": "50",
         "marker": {
          "color": "#636efa",
          "pattern": {
           "shape": ""
          }
         },
         "name": "50",
         "offsetgroup": "50",
         "orientation": "v",
         "showlegend": false,
         "textposition": "auto",
         "type": "bar",
         "x": [
          "262143 - 131072",
          "524287 - 262144",
          "1048575 - 524288",
          "2097151 - 1048576",
          "4194303 - 2097152",
          "8388607 - 4194304",
          "16777215 - 8388608",
          "33554431 - 16777216",
          "67108863 - 33554432",
          "134217727 - 67108864",
          "268435455 - 134217728",
          "536870911 - 268435456"
         ],
         "xaxis": "x2",
         "y": [
          59,
          3089412,
          0,
          0,
          0,
          0,
          0,
          1,
          0,
          0,
          0,
          12
         ],
         "yaxis": "y2"
        },
        {
         "alignmentgroup": "True",
         "hovertemplate": "Packets Per Second (thousand)=100<br>action=@rmem_alloc<br>Buffer Size=%{x}<br>Number of Sock RCV calls=%{y}<extra></extra>",
         "legendgroup": "100",
         "marker": {
          "color": "#EF553B",
          "pattern": {
           "shape": ""
          }
         },
         "name": "100",
         "offsetgroup": "100",
         "orientation": "v",
         "showlegend": true,
         "textposition": "auto",
         "type": "bar",
         "x": [
          "0 - 0",
          "1 - 1",
          "3 - 2",
          "7 - 4",
          "15 - 8",
          "31 - 16",
          "63 - 32",
          "127 - 64",
          "255 - 128",
          "511 - 256",
          "1023 - 512",
          "2047 - 1024",
          "4095 - 2048",
          "8191 - 4096",
          "16383 - 8192",
          "32767 - 16384",
          "65535 - 32768",
          "131071 - 65536",
          "262143 - 131072",
          "524287 - 262144"
         ],
         "xaxis": "x",
         "y": [
          28,
          0,
          0,
          0,
          0,
          0,
          0,
          0,
          0,
          0,
          13,
          25,
          11,
          17,
          67,
          207,
          607,
          7903,
          23755,
          5761574
         ],
         "yaxis": "y"
        },
        {
         "alignmentgroup": "True",
         "hovertemplate": "Packets Per Second (thousand)=100<br>action=@rmem_limit<br>Buffer Size=%{x}<br>Number of Sock RCV calls=%{y}<extra></extra>",
         "legendgroup": "100",
         "marker": {
          "color": "#EF553B",
          "pattern": {
           "shape": ""
          }
         },
         "name": "100",
         "offsetgroup": "100",
         "orientation": "v",
         "showlegend": false,
         "textposition": "auto",
         "type": "bar",
         "x": [
          "262143 - 131072",
          "524287 - 262144",
          "1048575 - 524288",
          "2097151 - 1048576",
          "4194303 - 2097152",
          "8388607 - 4194304",
          "16777215 - 8388608",
          "33554431 - 16777216",
          "67108863 - 33554432",
          "134217727 - 67108864",
          "268435455 - 134217728",
          "536870911 - 268435456"
         ],
         "xaxis": "x2",
         "y": [
          58,
          5794137,
          0,
          0,
          0,
          0,
          0,
          0,
          0,
          0,
          0,
          12
         ],
         "yaxis": "y2"
        },
        {
         "alignmentgroup": "True",
         "hovertemplate": "Packets Per Second (thousand)=400<br>action=@rmem_alloc<br>Buffer Size=%{x}<br>Number of Sock RCV calls=%{y}<extra></extra>",
         "legendgroup": "400",
         "marker": {
          "color": "#00cc96",
          "pattern": {
           "shape": ""
          }
         },
         "name": "400",
         "offsetgroup": "400",
         "orientation": "v",
         "showlegend": true,
         "textposition": "auto",
         "type": "bar",
         "x": [
          "0 - 0",
          "1 - 1",
          "3 - 2",
          "7 - 4",
          "15 - 8",
          "31 - 16",
          "63 - 32",
          "127 - 64",
          "255 - 128",
          "511 - 256",
          "1023 - 512",
          "2047 - 1024",
          "4095 - 2048",
          "8191 - 4096",
          "16383 - 8192",
          "32767 - 16384",
          "65535 - 32768",
          "131071 - 65536",
          "262143 - 131072",
          "524287 - 262144"
         ],
         "xaxis": "x",
         "y": [
          6,
          0,
          0,
          0,
          0,
          0,
          0,
          0,
          0,
          0,
          15,
          26,
          11,
          5,
          20,
          10,
          96,
          974,
          2325,
          5877983
         ],
         "yaxis": "y"
        },
        {
         "alignmentgroup": "True",
         "hovertemplate": "Packets Per Second (thousand)=400<br>action=@rmem_limit<br>Buffer Size=%{x}<br>Number of Sock RCV calls=%{y}<extra></extra>",
         "legendgroup": "400",
         "marker": {
          "color": "#00cc96",
          "pattern": {
           "shape": ""
          }
         },
         "name": "400",
         "offsetgroup": "400",
         "orientation": "v",
         "showlegend": false,
         "textposition": "auto",
         "type": "bar",
         "x": [
          "262143 - 131072",
          "524287 - 262144",
          "1048575 - 524288",
          "2097151 - 1048576",
          "4194303 - 2097152",
          "8388607 - 4194304",
          "16777215 - 8388608",
          "33554431 - 16777216",
          "67108863 - 33554432",
          "134217727 - 67108864",
          "268435455 - 134217728",
          "536870911 - 268435456"
         ],
         "xaxis": "x2",
         "y": [
          59,
          5881398,
          0,
          0,
          0,
          0,
          0,
          0,
          0,
          0,
          0,
          14
         ],
         "yaxis": "y2"
        },
        {
         "alignmentgroup": "True",
         "hovertemplate": "Packets Per Second (thousand)=200<br>action=@rmem_alloc<br>Buffer Size=%{x}<br>Number of Sock RCV calls=%{y}<extra></extra>",
         "legendgroup": "200",
         "marker": {
          "color": "#ab63fa",
          "pattern": {
           "shape": ""
          }
         },
         "name": "200",
         "offsetgroup": "200",
         "orientation": "v",
         "showlegend": true,
         "textposition": "auto",
         "type": "bar",
         "x": [
          "0 - 0",
          "1 - 1",
          "3 - 2",
          "7 - 4",
          "15 - 8",
          "31 - 16",
          "63 - 32",
          "127 - 64",
          "255 - 128",
          "511 - 256",
          "1023 - 512",
          "2047 - 1024",
          "4095 - 2048",
          "8191 - 4096",
          "16383 - 8192",
          "32767 - 16384",
          "65535 - 32768",
          "131071 - 65536",
          "262143 - 131072",
          "524287 - 262144"
         ],
         "xaxis": "x",
         "y": [
          23,
          0,
          0,
          0,
          0,
          0,
          0,
          0,
          0,
          0,
          9,
          44,
          11,
          5,
          22,
          1,
          57,
          997,
          1943,
          5808072
         ],
         "yaxis": "y"
        },
        {
         "alignmentgroup": "True",
         "hovertemplate": "Packets Per Second (thousand)=200<br>action=@rmem_limit<br>Buffer Size=%{x}<br>Number of Sock RCV calls=%{y}<extra></extra>",
         "legendgroup": "200",
         "marker": {
          "color": "#ab63fa",
          "pattern": {
           "shape": ""
          }
         },
         "name": "200",
         "offsetgroup": "200",
         "orientation": "v",
         "showlegend": false,
         "textposition": "auto",
         "type": "bar",
         "x": [
          "262143 - 131072",
          "524287 - 262144",
          "1048575 - 524288",
          "2097151 - 1048576",
          "4194303 - 2097152",
          "8388607 - 4194304",
          "16777215 - 8388608",
          "33554431 - 16777216",
          "67108863 - 33554432",
          "134217727 - 67108864",
          "268435455 - 134217728",
          "536870911 - 268435456"
         ],
         "xaxis": "x2",
         "y": [
          101,
          5811073,
          0,
          0,
          0,
          0,
          0,
          4,
          0,
          0,
          0,
          6
         ],
         "yaxis": "y2"
        },
        {
         "alignmentgroup": "True",
         "hovertemplate": "Packets Per Second (thousand)=300<br>action=@rmem_alloc<br>Buffer Size=%{x}<br>Number of Sock RCV calls=%{y}<extra></extra>",
         "legendgroup": "300",
         "marker": {
          "color": "#FFA15A",
          "pattern": {
           "shape": ""
          }
         },
         "name": "300",
         "offsetgroup": "300",
         "orientation": "v",
         "showlegend": true,
         "textposition": "auto",
         "type": "bar",
         "x": [
          "0 - 0",
          "1 - 1",
          "3 - 2",
          "7 - 4",
          "15 - 8",
          "31 - 16",
          "63 - 32",
          "127 - 64",
          "255 - 128",
          "511 - 256",
          "1023 - 512",
          "2047 - 1024",
          "4095 - 2048",
          "8191 - 4096",
          "16383 - 8192",
          "32767 - 16384",
          "65535 - 32768",
          "131071 - 65536",
          "262143 - 131072",
          "524287 - 262144"
         ],
         "xaxis": "x",
         "y": [
          6,
          0,
          0,
          0,
          0,
          0,
          0,
          0,
          0,
          0,
          12,
          25,
          11,
          3,
          21,
          3,
          13,
          884,
          2346,
          5820662
         ],
         "yaxis": "y"
        },
        {
         "alignmentgroup": "True",
         "hovertemplate": "Packets Per Second (thousand)=300<br>action=@rmem_limit<br>Buffer Size=%{x}<br>Number of Sock RCV calls=%{y}<extra></extra>",
         "legendgroup": "300",
         "marker": {
          "color": "#FFA15A",
          "pattern": {
           "shape": ""
          }
         },
         "name": "300",
         "offsetgroup": "300",
         "orientation": "v",
         "showlegend": false,
         "textposition": "auto",
         "type": "bar",
         "x": [
          "262143 - 131072",
          "524287 - 262144",
          "1048575 - 524288",
          "2097151 - 1048576",
          "4194303 - 2097152",
          "8388607 - 4194304",
          "16777215 - 8388608",
          "33554431 - 16777216",
          "67108863 - 33554432",
          "134217727 - 67108864",
          "268435455 - 134217728",
          "536870911 - 268435456"
         ],
         "xaxis": "x2",
         "y": [
          57,
          5823917,
          0,
          0,
          0,
          0,
          0,
          0,
          0,
          0,
          0,
          12
         ],
         "yaxis": "y2"
        },
        {
         "alignmentgroup": "True",
         "hovertemplate": "Packets Per Second (thousand)=1<br>action=@rmem_alloc<br>Buffer Size=%{x}<br>Number of Sock RCV calls=%{y}<extra></extra>",
         "legendgroup": "1",
         "marker": {
          "color": "#19d3f3",
          "pattern": {
           "shape": ""
          }
         },
         "name": "1",
         "offsetgroup": "1",
         "orientation": "v",
         "showlegend": true,
         "textposition": "auto",
         "type": "bar",
         "x": [
          "0 - 0",
          "1 - 1",
          "3 - 2",
          "7 - 4",
          "15 - 8",
          "31 - 16",
          "63 - 32",
          "127 - 64",
          "255 - 128",
          "511 - 256",
          "1023 - 512",
          "2047 - 1024",
          "4095 - 2048",
          "8191 - 4096",
          "16383 - 8192",
          "32767 - 16384",
          "65535 - 32768",
          "131071 - 65536",
          "262143 - 131072",
          "524287 - 262144"
         ],
         "xaxis": "x",
         "y": [
          2,
          0,
          0,
          0,
          0,
          0,
          0,
          0,
          0,
          0,
          12,
          25,
          11,
          3,
          18,
          2,
          6,
          706,
          1638,
          5856268
         ],
         "yaxis": "y"
        },
        {
         "alignmentgroup": "True",
         "hovertemplate": "Packets Per Second (thousand)=1<br>action=@rmem_limit<br>Buffer Size=%{x}<br>Number of Sock RCV calls=%{y}<extra></extra>",
         "legendgroup": "1",
         "marker": {
          "color": "#19d3f3",
          "pattern": {
           "shape": ""
          }
         },
         "name": "1",
         "offsetgroup": "1",
         "orientation": "v",
         "showlegend": false,
         "textposition": "auto",
         "type": "bar",
         "x": [
          "262143 - 131072",
          "524287 - 262144",
          "1048575 - 524288",
          "2097151 - 1048576",
          "4194303 - 2097152",
          "8388607 - 4194304",
          "16777215 - 8388608",
          "33554431 - 16777216",
          "67108863 - 33554432",
          "134217727 - 67108864",
          "268435455 - 134217728",
          "536870911 - 268435456"
         ],
         "xaxis": "x2",
         "y": [
          57,
          5858622,
          0,
          0,
          0,
          0,
          0,
          0,
          0,
          0,
          0,
          12
         ],
         "yaxis": "y2"
        },
        {
         "alignmentgroup": "True",
         "hovertemplate": "Packets Per Second (thousand)=600<br>action=@rmem_alloc<br>Buffer Size=%{x}<br>Number of Sock RCV calls=%{y}<extra></extra>",
         "legendgroup": "600",
         "marker": {
          "color": "#FF6692",
          "pattern": {
           "shape": ""
          }
         },
         "name": "600",
         "offsetgroup": "600",
         "orientation": "v",
         "showlegend": true,
         "textposition": "auto",
         "type": "bar",
         "x": [
          "0 - 0",
          "1 - 1",
          "3 - 2",
          "7 - 4",
          "15 - 8",
          "31 - 16",
          "63 - 32",
          "127 - 64",
          "255 - 128",
          "511 - 256",
          "1023 - 512",
          "2047 - 1024",
          "4095 - 2048",
          "8191 - 4096",
          "16383 - 8192",
          "32767 - 16384",
          "65535 - 32768",
          "131071 - 65536",
          "262143 - 131072",
          "524287 - 262144"
         ],
         "xaxis": "x",
         "y": [
          3,
          0,
          0,
          0,
          0,
          0,
          0,
          0,
          0,
          0,
          16,
          25,
          11,
          3,
          18,
          0,
          0,
          0,
          0,
          5780610
         ],
         "yaxis": "y"
        },
        {
         "alignmentgroup": "True",
         "hovertemplate": "Packets Per Second (thousand)=600<br>action=@rmem_limit<br>Buffer Size=%{x}<br>Number of Sock RCV calls=%{y}<extra></extra>",
         "legendgroup": "600",
         "marker": {
          "color": "#FF6692",
          "pattern": {
           "shape": ""
          }
         },
         "name": "600",
         "offsetgroup": "600",
         "orientation": "v",
         "showlegend": false,
         "textposition": "auto",
         "type": "bar",
         "x": [
          "262143 - 131072",
          "524287 - 262144",
          "1048575 - 524288",
          "2097151 - 1048576",
          "4194303 - 2097152",
          "8388607 - 4194304",
          "16777215 - 8388608",
          "33554431 - 16777216",
          "67108863 - 33554432",
          "134217727 - 67108864",
          "268435455 - 134217728",
          "536870911 - 268435456"
         ],
         "xaxis": "x2",
         "y": [
          58,
          5780613,
          1,
          0,
          0,
          0,
          0,
          0,
          0,
          0,
          0,
          14
         ],
         "yaxis": "y2"
        },
        {
         "alignmentgroup": "True",
         "hovertemplate": "Packets Per Second (thousand)=500<br>action=@rmem_alloc<br>Buffer Size=%{x}<br>Number of Sock RCV calls=%{y}<extra></extra>",
         "legendgroup": "500",
         "marker": {
          "color": "#B6E880",
          "pattern": {
           "shape": ""
          }
         },
         "name": "500",
         "offsetgroup": "500",
         "orientation": "v",
         "showlegend": true,
         "textposition": "auto",
         "type": "bar",
         "x": [
          "0 - 0",
          "1 - 1",
          "3 - 2",
          "7 - 4",
          "15 - 8",
          "31 - 16",
          "63 - 32",
          "127 - 64",
          "255 - 128",
          "511 - 256",
          "1023 - 512",
          "2047 - 1024",
          "4095 - 2048",
          "8191 - 4096",
          "16383 - 8192",
          "32767 - 16384",
          "65535 - 32768",
          "131071 - 65536",
          "262143 - 131072",
          "524287 - 262144"
         ],
         "xaxis": "x",
         "y": [
          3,
          0,
          0,
          0,
          0,
          0,
          0,
          0,
          0,
          0,
          18,
          25,
          11,
          3,
          18,
          0,
          0,
          0,
          0,
          5719530
         ],
         "yaxis": "y"
        },
        {
         "alignmentgroup": "True",
         "hovertemplate": "Packets Per Second (thousand)=500<br>action=@rmem_limit<br>Buffer Size=%{x}<br>Number of Sock RCV calls=%{y}<extra></extra>",
         "legendgroup": "500",
         "marker": {
          "color": "#B6E880",
          "pattern": {
           "shape": ""
          }
         },
         "name": "500",
         "offsetgroup": "500",
         "orientation": "v",
         "showlegend": false,
         "textposition": "auto",
         "type": "bar",
         "x": [
          "262143 - 131072",
          "524287 - 262144",
          "1048575 - 524288",
          "2097151 - 1048576",
          "4194303 - 2097152",
          "8388607 - 4194304",
          "16777215 - 8388608",
          "33554431 - 16777216",
          "67108863 - 33554432",
          "134217727 - 67108864",
          "268435455 - 134217728",
          "536870911 - 268435456"
         ],
         "xaxis": "x2",
         "y": [
          58,
          5719533,
          0,
          0,
          1,
          0,
          0,
          0,
          0,
          0,
          0,
          16
         ],
         "yaxis": "y2"
        },
        {
         "alignmentgroup": "True",
         "hovertemplate": "Packets Per Second (thousand)=10<br>action=@rmem_alloc<br>Buffer Size=%{x}<br>Number of Sock RCV calls=%{y}<extra></extra>",
         "legendgroup": "10",
         "marker": {
          "color": "#FF97FF",
          "pattern": {
           "shape": ""
          }
         },
         "name": "10",
         "offsetgroup": "10",
         "orientation": "v",
         "showlegend": true,
         "textposition": "auto",
         "type": "bar",
         "x": [
          "0 - 0",
          "1 - 1",
          "3 - 2",
          "7 - 4",
          "15 - 8",
          "31 - 16",
          "63 - 32",
          "127 - 64",
          "255 - 128",
          "511 - 256",
          "1023 - 512",
          "2047 - 1024",
          "4095 - 2048",
          "8191 - 4096",
          "16383 - 8192",
          "32767 - 16384",
          "65535 - 32768"
         ],
         "xaxis": "x",
         "y": [
          59347,
          0,
          0,
          0,
          0,
          0,
          0,
          0,
          0,
          0,
          67,
          235,
          95,
          592372,
          1384,
          2761,
          3588
         ],
         "yaxis": "y"
        },
        {
         "alignmentgroup": "True",
         "hovertemplate": "Packets Per Second (thousand)=10<br>action=@rmem_limit<br>Buffer Size=%{x}<br>Number of Sock RCV calls=%{y}<extra></extra>",
         "legendgroup": "10",
         "marker": {
          "color": "#FF97FF",
          "pattern": {
           "shape": ""
          }
         },
         "name": "10",
         "offsetgroup": "10",
         "orientation": "v",
         "showlegend": false,
         "textposition": "auto",
         "type": "bar",
         "x": [
          "262143 - 131072",
          "524287 - 262144",
          "1048575 - 524288",
          "2097151 - 1048576",
          "4194303 - 2097152",
          "8388607 - 4194304",
          "16777215 - 8388608",
          "33554431 - 16777216",
          "67108863 - 33554432",
          "134217727 - 67108864",
          "268435455 - 134217728",
          "536870911 - 268435456"
         ],
         "xaxis": "x2",
         "y": [
          57,
          659780,
          0,
          0,
          0,
          0,
          0,
          0,
          0,
          0,
          0,
          12
         ],
         "yaxis": "y2"
        }
       ],
       "layout": {
        "annotations": [
         {
          "font": {},
          "showarrow": false,
          "text": "action=@rmem_alloc",
          "x": 0.245,
          "xanchor": "center",
          "xref": "paper",
          "y": 1,
          "yanchor": "bottom",
          "yref": "paper"
         },
         {
          "font": {},
          "showarrow": false,
          "text": "action=@rmem_limit",
          "x": 0.755,
          "xanchor": "center",
          "xref": "paper",
          "y": 1,
          "yanchor": "bottom",
          "yref": "paper"
         }
        ],
        "barmode": "group",
        "legend": {
         "title": {
          "text": "Packets Per Second (thousand)"
         },
         "tracegroupgap": 0
        },
        "template": {
         "data": {
          "bar": [
           {
            "error_x": {
             "color": "#2a3f5f"
            },
            "error_y": {
             "color": "#2a3f5f"
            },
            "marker": {
             "line": {
              "color": "#E5ECF6",
              "width": 0.5
             },
             "pattern": {
              "fillmode": "overlay",
              "size": 10,
              "solidity": 0.2
             }
            },
            "type": "bar"
           }
          ],
          "barpolar": [
           {
            "marker": {
             "line": {
              "color": "#E5ECF6",
              "width": 0.5
             },
             "pattern": {
              "fillmode": "overlay",
              "size": 10,
              "solidity": 0.2
             }
            },
            "type": "barpolar"
           }
          ],
          "carpet": [
           {
            "aaxis": {
             "endlinecolor": "#2a3f5f",
             "gridcolor": "white",
             "linecolor": "white",
             "minorgridcolor": "white",
             "startlinecolor": "#2a3f5f"
            },
            "baxis": {
             "endlinecolor": "#2a3f5f",
             "gridcolor": "white",
             "linecolor": "white",
             "minorgridcolor": "white",
             "startlinecolor": "#2a3f5f"
            },
            "type": "carpet"
           }
          ],
          "choropleth": [
           {
            "colorbar": {
             "outlinewidth": 0,
             "ticks": ""
            },
            "type": "choropleth"
           }
          ],
          "contour": [
           {
            "colorbar": {
             "outlinewidth": 0,
             "ticks": ""
            },
            "colorscale": [
             [
              0,
              "#0d0887"
             ],
             [
              0.1111111111111111,
              "#46039f"
             ],
             [
              0.2222222222222222,
              "#7201a8"
             ],
             [
              0.3333333333333333,
              "#9c179e"
             ],
             [
              0.4444444444444444,
              "#bd3786"
             ],
             [
              0.5555555555555556,
              "#d8576b"
             ],
             [
              0.6666666666666666,
              "#ed7953"
             ],
             [
              0.7777777777777778,
              "#fb9f3a"
             ],
             [
              0.8888888888888888,
              "#fdca26"
             ],
             [
              1,
              "#f0f921"
             ]
            ],
            "type": "contour"
           }
          ],
          "contourcarpet": [
           {
            "colorbar": {
             "outlinewidth": 0,
             "ticks": ""
            },
            "type": "contourcarpet"
           }
          ],
          "heatmap": [
           {
            "colorbar": {
             "outlinewidth": 0,
             "ticks": ""
            },
            "colorscale": [
             [
              0,
              "#0d0887"
             ],
             [
              0.1111111111111111,
              "#46039f"
             ],
             [
              0.2222222222222222,
              "#7201a8"
             ],
             [
              0.3333333333333333,
              "#9c179e"
             ],
             [
              0.4444444444444444,
              "#bd3786"
             ],
             [
              0.5555555555555556,
              "#d8576b"
             ],
             [
              0.6666666666666666,
              "#ed7953"
             ],
             [
              0.7777777777777778,
              "#fb9f3a"
             ],
             [
              0.8888888888888888,
              "#fdca26"
             ],
             [
              1,
              "#f0f921"
             ]
            ],
            "type": "heatmap"
           }
          ],
          "heatmapgl": [
           {
            "colorbar": {
             "outlinewidth": 0,
             "ticks": ""
            },
            "colorscale": [
             [
              0,
              "#0d0887"
             ],
             [
              0.1111111111111111,
              "#46039f"
             ],
             [
              0.2222222222222222,
              "#7201a8"
             ],
             [
              0.3333333333333333,
              "#9c179e"
             ],
             [
              0.4444444444444444,
              "#bd3786"
             ],
             [
              0.5555555555555556,
              "#d8576b"
             ],
             [
              0.6666666666666666,
              "#ed7953"
             ],
             [
              0.7777777777777778,
              "#fb9f3a"
             ],
             [
              0.8888888888888888,
              "#fdca26"
             ],
             [
              1,
              "#f0f921"
             ]
            ],
            "type": "heatmapgl"
           }
          ],
          "histogram": [
           {
            "marker": {
             "pattern": {
              "fillmode": "overlay",
              "size": 10,
              "solidity": 0.2
             }
            },
            "type": "histogram"
           }
          ],
          "histogram2d": [
           {
            "colorbar": {
             "outlinewidth": 0,
             "ticks": ""
            },
            "colorscale": [
             [
              0,
              "#0d0887"
             ],
             [
              0.1111111111111111,
              "#46039f"
             ],
             [
              0.2222222222222222,
              "#7201a8"
             ],
             [
              0.3333333333333333,
              "#9c179e"
             ],
             [
              0.4444444444444444,
              "#bd3786"
             ],
             [
              0.5555555555555556,
              "#d8576b"
             ],
             [
              0.6666666666666666,
              "#ed7953"
             ],
             [
              0.7777777777777778,
              "#fb9f3a"
             ],
             [
              0.8888888888888888,
              "#fdca26"
             ],
             [
              1,
              "#f0f921"
             ]
            ],
            "type": "histogram2d"
           }
          ],
          "histogram2dcontour": [
           {
            "colorbar": {
             "outlinewidth": 0,
             "ticks": ""
            },
            "colorscale": [
             [
              0,
              "#0d0887"
             ],
             [
              0.1111111111111111,
              "#46039f"
             ],
             [
              0.2222222222222222,
              "#7201a8"
             ],
             [
              0.3333333333333333,
              "#9c179e"
             ],
             [
              0.4444444444444444,
              "#bd3786"
             ],
             [
              0.5555555555555556,
              "#d8576b"
             ],
             [
              0.6666666666666666,
              "#ed7953"
             ],
             [
              0.7777777777777778,
              "#fb9f3a"
             ],
             [
              0.8888888888888888,
              "#fdca26"
             ],
             [
              1,
              "#f0f921"
             ]
            ],
            "type": "histogram2dcontour"
           }
          ],
          "mesh3d": [
           {
            "colorbar": {
             "outlinewidth": 0,
             "ticks": ""
            },
            "type": "mesh3d"
           }
          ],
          "parcoords": [
           {
            "line": {
             "colorbar": {
              "outlinewidth": 0,
              "ticks": ""
             }
            },
            "type": "parcoords"
           }
          ],
          "pie": [
           {
            "automargin": true,
            "type": "pie"
           }
          ],
          "scatter": [
           {
            "marker": {
             "colorbar": {
              "outlinewidth": 0,
              "ticks": ""
             }
            },
            "type": "scatter"
           }
          ],
          "scatter3d": [
           {
            "line": {
             "colorbar": {
              "outlinewidth": 0,
              "ticks": ""
             }
            },
            "marker": {
             "colorbar": {
              "outlinewidth": 0,
              "ticks": ""
             }
            },
            "type": "scatter3d"
           }
          ],
          "scattercarpet": [
           {
            "marker": {
             "colorbar": {
              "outlinewidth": 0,
              "ticks": ""
             }
            },
            "type": "scattercarpet"
           }
          ],
          "scattergeo": [
           {
            "marker": {
             "colorbar": {
              "outlinewidth": 0,
              "ticks": ""
             }
            },
            "type": "scattergeo"
           }
          ],
          "scattergl": [
           {
            "marker": {
             "colorbar": {
              "outlinewidth": 0,
              "ticks": ""
             }
            },
            "type": "scattergl"
           }
          ],
          "scattermapbox": [
           {
            "marker": {
             "colorbar": {
              "outlinewidth": 0,
              "ticks": ""
             }
            },
            "type": "scattermapbox"
           }
          ],
          "scatterpolar": [
           {
            "marker": {
             "colorbar": {
              "outlinewidth": 0,
              "ticks": ""
             }
            },
            "type": "scatterpolar"
           }
          ],
          "scatterpolargl": [
           {
            "marker": {
             "colorbar": {
              "outlinewidth": 0,
              "ticks": ""
             }
            },
            "type": "scatterpolargl"
           }
          ],
          "scatterternary": [
           {
            "marker": {
             "colorbar": {
              "outlinewidth": 0,
              "ticks": ""
             }
            },
            "type": "scatterternary"
           }
          ],
          "surface": [
           {
            "colorbar": {
             "outlinewidth": 0,
             "ticks": ""
            },
            "colorscale": [
             [
              0,
              "#0d0887"
             ],
             [
              0.1111111111111111,
              "#46039f"
             ],
             [
              0.2222222222222222,
              "#7201a8"
             ],
             [
              0.3333333333333333,
              "#9c179e"
             ],
             [
              0.4444444444444444,
              "#bd3786"
             ],
             [
              0.5555555555555556,
              "#d8576b"
             ],
             [
              0.6666666666666666,
              "#ed7953"
             ],
             [
              0.7777777777777778,
              "#fb9f3a"
             ],
             [
              0.8888888888888888,
              "#fdca26"
             ],
             [
              1,
              "#f0f921"
             ]
            ],
            "type": "surface"
           }
          ],
          "table": [
           {
            "cells": {
             "fill": {
              "color": "#EBF0F8"
             },
             "line": {
              "color": "white"
             }
            },
            "header": {
             "fill": {
              "color": "#C8D4E3"
             },
             "line": {
              "color": "white"
             }
            },
            "type": "table"
           }
          ]
         },
         "layout": {
          "annotationdefaults": {
           "arrowcolor": "#2a3f5f",
           "arrowhead": 0,
           "arrowwidth": 1
          },
          "autotypenumbers": "strict",
          "coloraxis": {
           "colorbar": {
            "outlinewidth": 0,
            "ticks": ""
           }
          },
          "colorscale": {
           "diverging": [
            [
             0,
             "#8e0152"
            ],
            [
             0.1,
             "#c51b7d"
            ],
            [
             0.2,
             "#de77ae"
            ],
            [
             0.3,
             "#f1b6da"
            ],
            [
             0.4,
             "#fde0ef"
            ],
            [
             0.5,
             "#f7f7f7"
            ],
            [
             0.6,
             "#e6f5d0"
            ],
            [
             0.7,
             "#b8e186"
            ],
            [
             0.8,
             "#7fbc41"
            ],
            [
             0.9,
             "#4d9221"
            ],
            [
             1,
             "#276419"
            ]
           ],
           "sequential": [
            [
             0,
             "#0d0887"
            ],
            [
             0.1111111111111111,
             "#46039f"
            ],
            [
             0.2222222222222222,
             "#7201a8"
            ],
            [
             0.3333333333333333,
             "#9c179e"
            ],
            [
             0.4444444444444444,
             "#bd3786"
            ],
            [
             0.5555555555555556,
             "#d8576b"
            ],
            [
             0.6666666666666666,
             "#ed7953"
            ],
            [
             0.7777777777777778,
             "#fb9f3a"
            ],
            [
             0.8888888888888888,
             "#fdca26"
            ],
            [
             1,
             "#f0f921"
            ]
           ],
           "sequentialminus": [
            [
             0,
             "#0d0887"
            ],
            [
             0.1111111111111111,
             "#46039f"
            ],
            [
             0.2222222222222222,
             "#7201a8"
            ],
            [
             0.3333333333333333,
             "#9c179e"
            ],
            [
             0.4444444444444444,
             "#bd3786"
            ],
            [
             0.5555555555555556,
             "#d8576b"
            ],
            [
             0.6666666666666666,
             "#ed7953"
            ],
            [
             0.7777777777777778,
             "#fb9f3a"
            ],
            [
             0.8888888888888888,
             "#fdca26"
            ],
            [
             1,
             "#f0f921"
            ]
           ]
          },
          "colorway": [
           "#636efa",
           "#EF553B",
           "#00cc96",
           "#ab63fa",
           "#FFA15A",
           "#19d3f3",
           "#FF6692",
           "#B6E880",
           "#FF97FF",
           "#FECB52"
          ],
          "font": {
           "color": "#2a3f5f"
          },
          "geo": {
           "bgcolor": "white",
           "lakecolor": "white",
           "landcolor": "#E5ECF6",
           "showlakes": true,
           "showland": true,
           "subunitcolor": "white"
          },
          "hoverlabel": {
           "align": "left"
          },
          "hovermode": "closest",
          "mapbox": {
           "style": "light"
          },
          "paper_bgcolor": "white",
          "plot_bgcolor": "#E5ECF6",
          "polar": {
           "angularaxis": {
            "gridcolor": "white",
            "linecolor": "white",
            "ticks": ""
           },
           "bgcolor": "#E5ECF6",
           "radialaxis": {
            "gridcolor": "white",
            "linecolor": "white",
            "ticks": ""
           }
          },
          "scene": {
           "xaxis": {
            "backgroundcolor": "#E5ECF6",
            "gridcolor": "white",
            "gridwidth": 2,
            "linecolor": "white",
            "showbackground": true,
            "ticks": "",
            "zerolinecolor": "white"
           },
           "yaxis": {
            "backgroundcolor": "#E5ECF6",
            "gridcolor": "white",
            "gridwidth": 2,
            "linecolor": "white",
            "showbackground": true,
            "ticks": "",
            "zerolinecolor": "white"
           },
           "zaxis": {
            "backgroundcolor": "#E5ECF6",
            "gridcolor": "white",
            "gridwidth": 2,
            "linecolor": "white",
            "showbackground": true,
            "ticks": "",
            "zerolinecolor": "white"
           }
          },
          "shapedefaults": {
           "line": {
            "color": "#2a3f5f"
           }
          },
          "ternary": {
           "aaxis": {
            "gridcolor": "white",
            "linecolor": "white",
            "ticks": ""
           },
           "baxis": {
            "gridcolor": "white",
            "linecolor": "white",
            "ticks": ""
           },
           "bgcolor": "#E5ECF6",
           "caxis": {
            "gridcolor": "white",
            "linecolor": "white",
            "ticks": ""
           }
          },
          "title": {
           "x": 0.05
          },
          "xaxis": {
           "automargin": true,
           "gridcolor": "white",
           "linecolor": "white",
           "ticks": "",
           "title": {
            "standoff": 15
           },
           "zerolinecolor": "white",
           "zerolinewidth": 2
          },
          "yaxis": {
           "automargin": true,
           "gridcolor": "white",
           "linecolor": "white",
           "ticks": "",
           "title": {
            "standoff": 15
           },
           "zerolinecolor": "white",
           "zerolinewidth": 2
          }
         }
        },
        "title": {
         "text": "The number of packets and allocated size of the socket buffers and their limits"
        },
        "xaxis": {
         "anchor": "y",
         "domain": [
          0,
          0.49
         ],
         "title": {
          "text": "Buffer Size"
         }
        },
        "xaxis2": {
         "anchor": "y2",
         "domain": [
          0.51,
          1
         ],
         "matches": "x",
         "title": {
          "text": "Buffer Size"
         }
        },
        "yaxis": {
         "anchor": "x",
         "domain": [
          0,
          1
         ],
         "title": {
          "text": "Number of Sock RCV calls"
         }
        },
        "yaxis2": {
         "anchor": "x2",
         "domain": [
          0,
          1
         ],
         "matches": "y",
         "showticklabels": false
        }
       }
      }
     },
     "metadata": {},
     "output_type": "display_data"
    }
   ],
   "source": [
    "from pyspark.sql.types import StructType,StructField, StringType, IntegerType\n",
    "data_df = spark.read.option(\"basePath\", \"../ansible/.results\").json(\"../ansible/.results/kpps=*/tool=sormem\")\n",
    "schema = StructType([\n",
    "  StructField('type', StringType(), True),\n",
    "  StructField('kpps', StringType(), True),\n",
    "  StructField('count', IntegerType(), True),\n",
    "  StructField('min', IntegerType(), True),\n",
    "  StructField('max', IntegerType(), True),\n",
    "  StructField('action', StringType(), True),\n",
    "  ])\n",
    "\n",
    "#Create empty DataFrame directly.\n",
    "sormem_df = spark.createDataFrame([], schema)\n",
    "\n",
    "columns = data_df.select(\"data.*\").columns\n",
    "data_df = data_df.select(\"*\", \"data.*\").drop(\"data\")\n",
    "for c in columns:\n",
    "    df = data_df.select(\"*\", explode(c).alias(\"dataExplode\")).select(\"type\", \"kpps\", \"dataExplode.*\").withColumn('action', lit(c))\n",
    "    sormem_df = sormem_df.union(df)\n",
    "\n",
    "sormem_df = sormem_df.select(\"*\", concat_ws(' - ',col('min'),col('max')).alias(\"interval\"))\n",
    "sormem_fig = px.bar(sormem_df.toPandas(), x=\"interval\", y=\"count\", color=\"kpps\", barmode=\"group\", facet_col=\"action\",\n",
    "        title=\"The number of packets and allocated size of the socket buffers and their limits\",\n",
    "        labels={\n",
    "                    \"kpps\": \"Packets Per Second (thousand)\",\n",
    "                    \"count\": \"Number of Sock RCV calls\",\n",
    "                    \"interval\": \"Buffer Size\"\n",
    "                })\n",
    "sormem_fig.show()\n",
    "sormem_fig.write_image(\"images/sormem.jpeg\")\n",
    "with open(html_output_file, 'a') as f:\n",
    "    f.write(sormem_fig.to_html(full_html=False, include_plotlyjs='cdn'))"
   ]
  },
  {
   "cell_type": "code",
   "execution_count": 23,
   "metadata": {},
   "outputs": [
    {
     "data": {
      "application/vnd.plotly.v1+json": {
       "config": {
        "plotlyServerURL": "https://plot.ly"
       },
       "data": [
        {
         "alignmentgroup": "True",
         "hovertemplate": "Hardware Interupts=mlx5_async@pci:80f9:00:02.0<br>Packets Per Second (thousand)=%{x}<br>Time (usecs)=%{y}<extra></extra>",
         "legendgroup": "mlx5_async@pci:80f9:00:02.0",
         "marker": {
          "color": "#636efa",
          "pattern": {
           "shape": ""
          }
         },
         "name": "mlx5_async@pci:80f9:00:02.0",
         "offsetgroup": "mlx5_async@pci:80f9:00:02.0",
         "orientation": "v",
         "showlegend": true,
         "textposition": "auto",
         "type": "bar",
         "x": [
          300,
          500,
          10,
          50,
          600,
          400,
          200,
          100
         ],
         "xaxis": "x",
         "y": [
          10325.946,
          11138.256,
          13108.789,
          24101.196,
          8426.549,
          9764.036,
          10430.096,
          24779.6
         ],
         "yaxis": "y"
        },
        {
         "alignmentgroup": "True",
         "hovertemplate": "Hardware Interupts=ata_piix<br>Packets Per Second (thousand)=%{x}<br>Time (usecs)=%{y}<extra></extra>",
         "legendgroup": "ata_piix",
         "marker": {
          "color": "#EF553B",
          "pattern": {
           "shape": ""
          }
         },
         "name": "ata_piix",
         "offsetgroup": "ata_piix",
         "orientation": "v",
         "showlegend": true,
         "textposition": "auto",
         "type": "bar",
         "x": [
          300,
          500,
          10,
          50,
          600,
          400,
          200,
          100
         ],
         "xaxis": "x",
         "y": [
          16707.776,
          16638.272,
          16068.293,
          16853.671,
          16790.481,
          16885.414,
          16239.801,
          16087
         ],
         "yaxis": "y"
        },
        {
         "alignmentgroup": "True",
         "hovertemplate": "Hardware Interupts=mlx5_comp0@pci:80f9:00:02.0<br>Packets Per Second (thousand)=%{x}<br>Time (usecs)=%{y}<extra></extra>",
         "legendgroup": "mlx5_comp0@pci:80f9:00:02.0",
         "marker": {
          "color": "#00cc96",
          "pattern": {
           "shape": ""
          }
         },
         "name": "mlx5_comp0@pci:80f9:00:02.0",
         "offsetgroup": "mlx5_comp0@pci:80f9:00:02.0",
         "orientation": "v",
         "showlegend": true,
         "textposition": "auto",
         "type": "bar",
         "x": [
          300,
          500,
          10,
          50,
          600,
          400,
          200,
          100
         ],
         "xaxis": "x",
         "y": [
          134529.973,
          120805.439,
          107372.539,
          171188.969,
          118629.293,
          123299.186,
          130058.78,
          231834.9
         ],
         "yaxis": "y"
        },
        {
         "alignmentgroup": "True",
         "hovertemplate": "Hardware Interupts=mlx5_comp9@pci:80f9:00:02.0<br>Packets Per Second (thousand)=%{x}<br>Time (usecs)=%{y}<extra></extra>",
         "legendgroup": "mlx5_comp9@pci:80f9:00:02.0",
         "marker": {
          "color": "#ab63fa",
          "pattern": {
           "shape": ""
          }
         },
         "name": "mlx5_comp9@pci:80f9:00:02.0",
         "offsetgroup": "mlx5_comp9@pci:80f9:00:02.0",
         "orientation": "v",
         "showlegend": true,
         "textposition": "auto",
         "type": "bar",
         "x": [
          300,
          500,
          10,
          50,
          600,
          400,
          200,
          100
         ],
         "xaxis": "x",
         "y": [
          399639.533,
          327705.589,
          216669.235,
          286099.181,
          313760.425,
          381068.377,
          359710.3,
          449185.4
         ],
         "yaxis": "y"
        }
       ],
       "layout": {
        "barmode": "relative",
        "legend": {
         "title": {
          "text": "Hardware Interupts"
         },
         "tracegroupgap": 0
        },
        "template": {
         "data": {
          "bar": [
           {
            "error_x": {
             "color": "#2a3f5f"
            },
            "error_y": {
             "color": "#2a3f5f"
            },
            "marker": {
             "line": {
              "color": "#E5ECF6",
              "width": 0.5
             },
             "pattern": {
              "fillmode": "overlay",
              "size": 10,
              "solidity": 0.2
             }
            },
            "type": "bar"
           }
          ],
          "barpolar": [
           {
            "marker": {
             "line": {
              "color": "#E5ECF6",
              "width": 0.5
             },
             "pattern": {
              "fillmode": "overlay",
              "size": 10,
              "solidity": 0.2
             }
            },
            "type": "barpolar"
           }
          ],
          "carpet": [
           {
            "aaxis": {
             "endlinecolor": "#2a3f5f",
             "gridcolor": "white",
             "linecolor": "white",
             "minorgridcolor": "white",
             "startlinecolor": "#2a3f5f"
            },
            "baxis": {
             "endlinecolor": "#2a3f5f",
             "gridcolor": "white",
             "linecolor": "white",
             "minorgridcolor": "white",
             "startlinecolor": "#2a3f5f"
            },
            "type": "carpet"
           }
          ],
          "choropleth": [
           {
            "colorbar": {
             "outlinewidth": 0,
             "ticks": ""
            },
            "type": "choropleth"
           }
          ],
          "contour": [
           {
            "colorbar": {
             "outlinewidth": 0,
             "ticks": ""
            },
            "colorscale": [
             [
              0,
              "#0d0887"
             ],
             [
              0.1111111111111111,
              "#46039f"
             ],
             [
              0.2222222222222222,
              "#7201a8"
             ],
             [
              0.3333333333333333,
              "#9c179e"
             ],
             [
              0.4444444444444444,
              "#bd3786"
             ],
             [
              0.5555555555555556,
              "#d8576b"
             ],
             [
              0.6666666666666666,
              "#ed7953"
             ],
             [
              0.7777777777777778,
              "#fb9f3a"
             ],
             [
              0.8888888888888888,
              "#fdca26"
             ],
             [
              1,
              "#f0f921"
             ]
            ],
            "type": "contour"
           }
          ],
          "contourcarpet": [
           {
            "colorbar": {
             "outlinewidth": 0,
             "ticks": ""
            },
            "type": "contourcarpet"
           }
          ],
          "heatmap": [
           {
            "colorbar": {
             "outlinewidth": 0,
             "ticks": ""
            },
            "colorscale": [
             [
              0,
              "#0d0887"
             ],
             [
              0.1111111111111111,
              "#46039f"
             ],
             [
              0.2222222222222222,
              "#7201a8"
             ],
             [
              0.3333333333333333,
              "#9c179e"
             ],
             [
              0.4444444444444444,
              "#bd3786"
             ],
             [
              0.5555555555555556,
              "#d8576b"
             ],
             [
              0.6666666666666666,
              "#ed7953"
             ],
             [
              0.7777777777777778,
              "#fb9f3a"
             ],
             [
              0.8888888888888888,
              "#fdca26"
             ],
             [
              1,
              "#f0f921"
             ]
            ],
            "type": "heatmap"
           }
          ],
          "heatmapgl": [
           {
            "colorbar": {
             "outlinewidth": 0,
             "ticks": ""
            },
            "colorscale": [
             [
              0,
              "#0d0887"
             ],
             [
              0.1111111111111111,
              "#46039f"
             ],
             [
              0.2222222222222222,
              "#7201a8"
             ],
             [
              0.3333333333333333,
              "#9c179e"
             ],
             [
              0.4444444444444444,
              "#bd3786"
             ],
             [
              0.5555555555555556,
              "#d8576b"
             ],
             [
              0.6666666666666666,
              "#ed7953"
             ],
             [
              0.7777777777777778,
              "#fb9f3a"
             ],
             [
              0.8888888888888888,
              "#fdca26"
             ],
             [
              1,
              "#f0f921"
             ]
            ],
            "type": "heatmapgl"
           }
          ],
          "histogram": [
           {
            "marker": {
             "pattern": {
              "fillmode": "overlay",
              "size": 10,
              "solidity": 0.2
             }
            },
            "type": "histogram"
           }
          ],
          "histogram2d": [
           {
            "colorbar": {
             "outlinewidth": 0,
             "ticks": ""
            },
            "colorscale": [
             [
              0,
              "#0d0887"
             ],
             [
              0.1111111111111111,
              "#46039f"
             ],
             [
              0.2222222222222222,
              "#7201a8"
             ],
             [
              0.3333333333333333,
              "#9c179e"
             ],
             [
              0.4444444444444444,
              "#bd3786"
             ],
             [
              0.5555555555555556,
              "#d8576b"
             ],
             [
              0.6666666666666666,
              "#ed7953"
             ],
             [
              0.7777777777777778,
              "#fb9f3a"
             ],
             [
              0.8888888888888888,
              "#fdca26"
             ],
             [
              1,
              "#f0f921"
             ]
            ],
            "type": "histogram2d"
           }
          ],
          "histogram2dcontour": [
           {
            "colorbar": {
             "outlinewidth": 0,
             "ticks": ""
            },
            "colorscale": [
             [
              0,
              "#0d0887"
             ],
             [
              0.1111111111111111,
              "#46039f"
             ],
             [
              0.2222222222222222,
              "#7201a8"
             ],
             [
              0.3333333333333333,
              "#9c179e"
             ],
             [
              0.4444444444444444,
              "#bd3786"
             ],
             [
              0.5555555555555556,
              "#d8576b"
             ],
             [
              0.6666666666666666,
              "#ed7953"
             ],
             [
              0.7777777777777778,
              "#fb9f3a"
             ],
             [
              0.8888888888888888,
              "#fdca26"
             ],
             [
              1,
              "#f0f921"
             ]
            ],
            "type": "histogram2dcontour"
           }
          ],
          "mesh3d": [
           {
            "colorbar": {
             "outlinewidth": 0,
             "ticks": ""
            },
            "type": "mesh3d"
           }
          ],
          "parcoords": [
           {
            "line": {
             "colorbar": {
              "outlinewidth": 0,
              "ticks": ""
             }
            },
            "type": "parcoords"
           }
          ],
          "pie": [
           {
            "automargin": true,
            "type": "pie"
           }
          ],
          "scatter": [
           {
            "marker": {
             "colorbar": {
              "outlinewidth": 0,
              "ticks": ""
             }
            },
            "type": "scatter"
           }
          ],
          "scatter3d": [
           {
            "line": {
             "colorbar": {
              "outlinewidth": 0,
              "ticks": ""
             }
            },
            "marker": {
             "colorbar": {
              "outlinewidth": 0,
              "ticks": ""
             }
            },
            "type": "scatter3d"
           }
          ],
          "scattercarpet": [
           {
            "marker": {
             "colorbar": {
              "outlinewidth": 0,
              "ticks": ""
             }
            },
            "type": "scattercarpet"
           }
          ],
          "scattergeo": [
           {
            "marker": {
             "colorbar": {
              "outlinewidth": 0,
              "ticks": ""
             }
            },
            "type": "scattergeo"
           }
          ],
          "scattergl": [
           {
            "marker": {
             "colorbar": {
              "outlinewidth": 0,
              "ticks": ""
             }
            },
            "type": "scattergl"
           }
          ],
          "scattermapbox": [
           {
            "marker": {
             "colorbar": {
              "outlinewidth": 0,
              "ticks": ""
             }
            },
            "type": "scattermapbox"
           }
          ],
          "scatterpolar": [
           {
            "marker": {
             "colorbar": {
              "outlinewidth": 0,
              "ticks": ""
             }
            },
            "type": "scatterpolar"
           }
          ],
          "scatterpolargl": [
           {
            "marker": {
             "colorbar": {
              "outlinewidth": 0,
              "ticks": ""
             }
            },
            "type": "scatterpolargl"
           }
          ],
          "scatterternary": [
           {
            "marker": {
             "colorbar": {
              "outlinewidth": 0,
              "ticks": ""
             }
            },
            "type": "scatterternary"
           }
          ],
          "surface": [
           {
            "colorbar": {
             "outlinewidth": 0,
             "ticks": ""
            },
            "colorscale": [
             [
              0,
              "#0d0887"
             ],
             [
              0.1111111111111111,
              "#46039f"
             ],
             [
              0.2222222222222222,
              "#7201a8"
             ],
             [
              0.3333333333333333,
              "#9c179e"
             ],
             [
              0.4444444444444444,
              "#bd3786"
             ],
             [
              0.5555555555555556,
              "#d8576b"
             ],
             [
              0.6666666666666666,
              "#ed7953"
             ],
             [
              0.7777777777777778,
              "#fb9f3a"
             ],
             [
              0.8888888888888888,
              "#fdca26"
             ],
             [
              1,
              "#f0f921"
             ]
            ],
            "type": "surface"
           }
          ],
          "table": [
           {
            "cells": {
             "fill": {
              "color": "#EBF0F8"
             },
             "line": {
              "color": "white"
             }
            },
            "header": {
             "fill": {
              "color": "#C8D4E3"
             },
             "line": {
              "color": "white"
             }
            },
            "type": "table"
           }
          ]
         },
         "layout": {
          "annotationdefaults": {
           "arrowcolor": "#2a3f5f",
           "arrowhead": 0,
           "arrowwidth": 1
          },
          "autotypenumbers": "strict",
          "coloraxis": {
           "colorbar": {
            "outlinewidth": 0,
            "ticks": ""
           }
          },
          "colorscale": {
           "diverging": [
            [
             0,
             "#8e0152"
            ],
            [
             0.1,
             "#c51b7d"
            ],
            [
             0.2,
             "#de77ae"
            ],
            [
             0.3,
             "#f1b6da"
            ],
            [
             0.4,
             "#fde0ef"
            ],
            [
             0.5,
             "#f7f7f7"
            ],
            [
             0.6,
             "#e6f5d0"
            ],
            [
             0.7,
             "#b8e186"
            ],
            [
             0.8,
             "#7fbc41"
            ],
            [
             0.9,
             "#4d9221"
            ],
            [
             1,
             "#276419"
            ]
           ],
           "sequential": [
            [
             0,
             "#0d0887"
            ],
            [
             0.1111111111111111,
             "#46039f"
            ],
            [
             0.2222222222222222,
             "#7201a8"
            ],
            [
             0.3333333333333333,
             "#9c179e"
            ],
            [
             0.4444444444444444,
             "#bd3786"
            ],
            [
             0.5555555555555556,
             "#d8576b"
            ],
            [
             0.6666666666666666,
             "#ed7953"
            ],
            [
             0.7777777777777778,
             "#fb9f3a"
            ],
            [
             0.8888888888888888,
             "#fdca26"
            ],
            [
             1,
             "#f0f921"
            ]
           ],
           "sequentialminus": [
            [
             0,
             "#0d0887"
            ],
            [
             0.1111111111111111,
             "#46039f"
            ],
            [
             0.2222222222222222,
             "#7201a8"
            ],
            [
             0.3333333333333333,
             "#9c179e"
            ],
            [
             0.4444444444444444,
             "#bd3786"
            ],
            [
             0.5555555555555556,
             "#d8576b"
            ],
            [
             0.6666666666666666,
             "#ed7953"
            ],
            [
             0.7777777777777778,
             "#fb9f3a"
            ],
            [
             0.8888888888888888,
             "#fdca26"
            ],
            [
             1,
             "#f0f921"
            ]
           ]
          },
          "colorway": [
           "#636efa",
           "#EF553B",
           "#00cc96",
           "#ab63fa",
           "#FFA15A",
           "#19d3f3",
           "#FF6692",
           "#B6E880",
           "#FF97FF",
           "#FECB52"
          ],
          "font": {
           "color": "#2a3f5f"
          },
          "geo": {
           "bgcolor": "white",
           "lakecolor": "white",
           "landcolor": "#E5ECF6",
           "showlakes": true,
           "showland": true,
           "subunitcolor": "white"
          },
          "hoverlabel": {
           "align": "left"
          },
          "hovermode": "closest",
          "mapbox": {
           "style": "light"
          },
          "paper_bgcolor": "white",
          "plot_bgcolor": "#E5ECF6",
          "polar": {
           "angularaxis": {
            "gridcolor": "white",
            "linecolor": "white",
            "ticks": ""
           },
           "bgcolor": "#E5ECF6",
           "radialaxis": {
            "gridcolor": "white",
            "linecolor": "white",
            "ticks": ""
           }
          },
          "scene": {
           "xaxis": {
            "backgroundcolor": "#E5ECF6",
            "gridcolor": "white",
            "gridwidth": 2,
            "linecolor": "white",
            "showbackground": true,
            "ticks": "",
            "zerolinecolor": "white"
           },
           "yaxis": {
            "backgroundcolor": "#E5ECF6",
            "gridcolor": "white",
            "gridwidth": 2,
            "linecolor": "white",
            "showbackground": true,
            "ticks": "",
            "zerolinecolor": "white"
           },
           "zaxis": {
            "backgroundcolor": "#E5ECF6",
            "gridcolor": "white",
            "gridwidth": 2,
            "linecolor": "white",
            "showbackground": true,
            "ticks": "",
            "zerolinecolor": "white"
           }
          },
          "shapedefaults": {
           "line": {
            "color": "#2a3f5f"
           }
          },
          "ternary": {
           "aaxis": {
            "gridcolor": "white",
            "linecolor": "white",
            "ticks": ""
           },
           "baxis": {
            "gridcolor": "white",
            "linecolor": "white",
            "ticks": ""
           },
           "bgcolor": "#E5ECF6",
           "caxis": {
            "gridcolor": "white",
            "linecolor": "white",
            "ticks": ""
           }
          },
          "title": {
           "x": 0.05
          },
          "xaxis": {
           "automargin": true,
           "gridcolor": "white",
           "linecolor": "white",
           "ticks": "",
           "title": {
            "standoff": 15
           },
           "zerolinecolor": "white",
           "zerolinewidth": 2
          },
          "yaxis": {
           "automargin": true,
           "gridcolor": "white",
           "linecolor": "white",
           "ticks": "",
           "title": {
            "standoff": 15
           },
           "zerolinecolor": "white",
           "zerolinewidth": 2
          }
         }
        },
        "title": {
         "text": "Total time spent servicing hard IRQs (hard interrupts)"
        },
        "xaxis": {
         "anchor": "y",
         "domain": [
          0,
          1
         ],
         "title": {
          "text": "Packets Per Second (thousand)"
         }
        },
        "yaxis": {
         "anchor": "x",
         "domain": [
          0,
          1
         ],
         "title": {
          "text": "Time (usecs)"
         }
        }
       }
      }
     },
     "metadata": {},
     "output_type": "display_data"
    }
   ],
   "source": [
    "hardirqs_count_df = spark.read.option(\"basePath\", \"../ansible/.results\").json(\n",
    "\"../ansible/.results/kpps=*/tool=hardirqs-count\")\n",
    "# print(df.rdd.getNumPartitions())\n",
    "import plotly.express as px\n",
    "hardirqs_count_fig = px.bar(hardirqs_count_df.toPandas(), x=\"kpps\", y=\"count\", color=\"hardirq\",\n",
    "            title=\"Total time spent servicing hard IRQs (hard interrupts)\",\n",
    "            labels={\n",
    "                    \"kpps\": \"Packets Per Second (thousand)\",\n",
    "                    \"count\": \"Time (usecs)\",\n",
    "                    \"hardirq\": \"Hardware Interupts\"\n",
    "                })\n",
    "hardirqs_count_fig.show()\n",
    "hardirqs_count_fig.write_image(\"images/hardirqs-count.jpeg\")\n",
    "with open(html_output_file, 'a') as f:\n",
    "    f.write(hardirqs_count_fig.to_html(full_html=False, include_plotlyjs='cdn'))"
   ]
  },
  {
   "cell_type": "code",
   "execution_count": 24,
   "metadata": {},
   "outputs": [
    {
     "data": {
      "application/vnd.plotly.v1+json": {
       "config": {
        "plotlyServerURL": "https://plot.ly"
       },
       "data": [
        {
         "alignmentgroup": "True",
         "hovertemplate": "Packets Per Second (thousand)=10<br>Time (usecs)=%{x}<br>Number of Hardware IRQs=%{y}<extra></extra>",
         "legendgroup": "10",
         "marker": {
          "color": "#636efa",
          "pattern": {
           "shape": ""
          }
         },
         "name": "10",
         "offsetgroup": "10",
         "orientation": "v",
         "showlegend": true,
         "textposition": "auto",
         "type": "bar",
         "x": [
          "0-1",
          "2-3",
          "4-7",
          "8-15",
          "16-31",
          "0-1",
          "2-3",
          "4-7",
          "8-15",
          "16-31",
          "32-63",
          "0-1",
          "2-3",
          "4-7",
          "8-15",
          "16-31",
          "32-63",
          "0-1",
          "2-3",
          "4-7",
          "8-15",
          "16-31",
          "32-63",
          "64-127",
          "128-255",
          "256-511",
          "512-1023",
          "0-1",
          "2-3",
          "4-7",
          "8-15"
         ],
         "xaxis": "x",
         "y": [
          36246,
          22455,
          468,
          203,
          9,
          102479,
          50173,
          351,
          168,
          9,
          1,
          0,
          0,
          423,
          559,
          164,
          1,
          0,
          0,
          0,
          0,
          0,
          0,
          22,
          7,
          29,
          2,
          0,
          0,
          0,
          1
         ],
         "yaxis": "y"
        },
        {
         "alignmentgroup": "True",
         "hovertemplate": "Packets Per Second (thousand)=50<br>Time (usecs)=%{x}<br>Number of Hardware IRQs=%{y}<extra></extra>",
         "legendgroup": "50",
         "marker": {
          "color": "#EF553B",
          "pattern": {
           "shape": ""
          }
         },
         "name": "50",
         "offsetgroup": "50",
         "orientation": "v",
         "showlegend": true,
         "textposition": "auto",
         "type": "bar",
         "x": [
          "0-1",
          "2-3",
          "4-7",
          "8-15",
          "16-31",
          "32-63",
          "0-1",
          "2-3",
          "4-7",
          "8-15",
          "16-31",
          "0-1",
          "2-3",
          "4-7",
          "8-15",
          "16-31",
          "0-1",
          "2-3",
          "4-7",
          "8-15",
          "16-31",
          "32-63",
          "64-127",
          "128-255",
          "256-511",
          "512-1023"
         ],
         "xaxis": "x",
         "y": [
          0,
          6,
          2314,
          574,
          227,
          1,
          100736,
          26798,
          376,
          148,
          32,
          248276,
          25533,
          119,
          160,
          20,
          0,
          0,
          0,
          0,
          0,
          0,
          27,
          3,
          28,
          2
         ],
         "yaxis": "y"
        },
        {
         "alignmentgroup": "True",
         "hovertemplate": "Packets Per Second (thousand)=1<br>Time (usecs)=%{x}<br>Number of Hardware IRQs=%{y}<extra></extra>",
         "legendgroup": "1",
         "marker": {
          "color": "#00cc96",
          "pattern": {
           "shape": ""
          }
         },
         "name": "1",
         "offsetgroup": "1",
         "orientation": "v",
         "showlegend": true,
         "textposition": "auto",
         "type": "bar",
         "x": [
          "0-1",
          "2-3",
          "4-7",
          "8-15",
          "16-31",
          "0-1",
          "2-3",
          "4-7",
          "8-15",
          "16-31",
          "0-1",
          "2-3",
          "4-7",
          "8-15",
          "16-31",
          "32-63",
          "64-127",
          "128-255",
          "256-511",
          "512-1023",
          "0-1",
          "2-3",
          "4-7",
          "8-15",
          "16-31",
          "32-63"
         ],
         "xaxis": "x",
         "y": [
          39253,
          19817,
          359,
          117,
          3,
          37406,
          21359,
          539,
          155,
          9,
          0,
          0,
          0,
          0,
          0,
          0,
          28,
          2,
          25,
          5,
          0,
          0,
          195,
          651,
          237,
          8
         ],
         "yaxis": "y"
        },
        {
         "alignmentgroup": "True",
         "hovertemplate": "Packets Per Second (thousand)=100<br>Time (usecs)=%{x}<br>Number of Hardware IRQs=%{y}<extra></extra>",
         "legendgroup": "100",
         "marker": {
          "color": "#ab63fa",
          "pattern": {
           "shape": ""
          }
         },
         "name": "100",
         "offsetgroup": "100",
         "orientation": "v",
         "showlegend": true,
         "textposition": "auto",
         "type": "bar",
         "x": [
          "0-1",
          "2-3",
          "4-7",
          "8-15",
          "16-31",
          "0-1",
          "2-3",
          "4-7",
          "8-15",
          "16-31",
          "0-1",
          "2-3",
          "4-7",
          "8-15",
          "16-31",
          "32-63",
          "0-1",
          "2-3",
          "4-7",
          "8-15",
          "16-31",
          "32-63",
          "64-127",
          "128-255",
          "256-511",
          "512-1023"
         ],
         "xaxis": "x",
         "y": [
          242089,
          1011,
          72,
          46,
          41,
          563364,
          746,
          42,
          58,
          32,
          0,
          0,
          3080,
          616,
          6,
          1,
          0,
          0,
          0,
          0,
          0,
          0,
          21,
          9,
          26,
          4
         ],
         "yaxis": "y"
        },
        {
         "alignmentgroup": "True",
         "hovertemplate": "Packets Per Second (thousand)=300<br>Time (usecs)=%{x}<br>Number of Hardware IRQs=%{y}<extra></extra>",
         "legendgroup": "300",
         "marker": {
          "color": "#FFA15A",
          "pattern": {
           "shape": ""
          }
         },
         "name": "300",
         "offsetgroup": "300",
         "orientation": "v",
         "showlegend": true,
         "textposition": "auto",
         "type": "bar",
         "x": [
          "0-1",
          "2-3",
          "4-7",
          "8-15",
          "16-31",
          "0-1",
          "2-3",
          "4-7",
          "8-15",
          "16-31",
          "0-1",
          "2-3",
          "4-7",
          "8-15",
          "16-31",
          "32-63",
          "64-127",
          "128-255",
          "256-511",
          "512-1023",
          "0-1",
          "2-3",
          "4-7",
          "8-15",
          "16-31"
         ],
         "xaxis": "x",
         "y": [
          444914,
          23,
          3,
          40,
          46,
          135852,
          446,
          118,
          23,
          52,
          0,
          0,
          0,
          0,
          0,
          0,
          22,
          8,
          29,
          1,
          0,
          5,
          195,
          913,
          2
         ],
         "yaxis": "y"
        },
        {
         "alignmentgroup": "True",
         "hovertemplate": "Packets Per Second (thousand)=200<br>Time (usecs)=%{x}<br>Number of Hardware IRQs=%{y}<extra></extra>",
         "legendgroup": "200",
         "marker": {
          "color": "#19d3f3",
          "pattern": {
           "shape": ""
          }
         },
         "name": "200",
         "offsetgroup": "200",
         "orientation": "v",
         "showlegend": true,
         "textposition": "auto",
         "type": "bar",
         "x": [
          "0-1",
          "2-3",
          "4-7",
          "8-15",
          "16-31",
          "0-1",
          "2-3",
          "4-7",
          "8-15",
          "16-31",
          "0-1",
          "2-3",
          "4-7",
          "8-15",
          "16-31",
          "32-63",
          "64-127",
          "128-255",
          "256-511",
          "512-1023",
          "0-1",
          "2-3",
          "4-7",
          "8-15",
          "16-31"
         ],
         "xaxis": "x",
         "y": [
          451658,
          31,
          2,
          42,
          35,
          0,
          3,
          138,
          964,
          3,
          0,
          0,
          0,
          0,
          0,
          0,
          26,
          4,
          25,
          5,
          126037,
          458,
          139,
          29,
          40
         ],
         "yaxis": "y"
        },
        {
         "alignmentgroup": "True",
         "hovertemplate": "Packets Per Second (thousand)=400<br>Time (usecs)=%{x}<br>Number of Hardware IRQs=%{y}<extra></extra>",
         "legendgroup": "400",
         "marker": {
          "color": "#FF6692",
          "pattern": {
           "shape": ""
          }
         },
         "name": "400",
         "offsetgroup": "400",
         "orientation": "v",
         "showlegend": true,
         "textposition": "auto",
         "type": "bar",
         "x": [
          "0-1",
          "2-3",
          "4-7",
          "8-15",
          "16-31",
          "0-1",
          "2-3",
          "4-7",
          "8-15",
          "16-31",
          "0-1",
          "2-3",
          "4-7",
          "8-15",
          "16-31",
          "0-1",
          "2-3",
          "4-7",
          "8-15",
          "16-31",
          "32-63",
          "64-127",
          "128-255",
          "256-511"
         ],
         "xaxis": "x",
         "y": [
          0,
          3,
          196,
          841,
          3,
          385639,
          47,
          2,
          28,
          36,
          125221,
          651,
          86,
          23,
          38,
          0,
          0,
          0,
          0,
          0,
          0,
          27,
          2,
          29
         ],
         "yaxis": "y"
        }
       ],
       "layout": {
        "barmode": "group",
        "legend": {
         "title": {
          "text": "Packets Per Second (thousand)"
         },
         "tracegroupgap": 0
        },
        "template": {
         "data": {
          "bar": [
           {
            "error_x": {
             "color": "#2a3f5f"
            },
            "error_y": {
             "color": "#2a3f5f"
            },
            "marker": {
             "line": {
              "color": "#E5ECF6",
              "width": 0.5
             },
             "pattern": {
              "fillmode": "overlay",
              "size": 10,
              "solidity": 0.2
             }
            },
            "type": "bar"
           }
          ],
          "barpolar": [
           {
            "marker": {
             "line": {
              "color": "#E5ECF6",
              "width": 0.5
             },
             "pattern": {
              "fillmode": "overlay",
              "size": 10,
              "solidity": 0.2
             }
            },
            "type": "barpolar"
           }
          ],
          "carpet": [
           {
            "aaxis": {
             "endlinecolor": "#2a3f5f",
             "gridcolor": "white",
             "linecolor": "white",
             "minorgridcolor": "white",
             "startlinecolor": "#2a3f5f"
            },
            "baxis": {
             "endlinecolor": "#2a3f5f",
             "gridcolor": "white",
             "linecolor": "white",
             "minorgridcolor": "white",
             "startlinecolor": "#2a3f5f"
            },
            "type": "carpet"
           }
          ],
          "choropleth": [
           {
            "colorbar": {
             "outlinewidth": 0,
             "ticks": ""
            },
            "type": "choropleth"
           }
          ],
          "contour": [
           {
            "colorbar": {
             "outlinewidth": 0,
             "ticks": ""
            },
            "colorscale": [
             [
              0,
              "#0d0887"
             ],
             [
              0.1111111111111111,
              "#46039f"
             ],
             [
              0.2222222222222222,
              "#7201a8"
             ],
             [
              0.3333333333333333,
              "#9c179e"
             ],
             [
              0.4444444444444444,
              "#bd3786"
             ],
             [
              0.5555555555555556,
              "#d8576b"
             ],
             [
              0.6666666666666666,
              "#ed7953"
             ],
             [
              0.7777777777777778,
              "#fb9f3a"
             ],
             [
              0.8888888888888888,
              "#fdca26"
             ],
             [
              1,
              "#f0f921"
             ]
            ],
            "type": "contour"
           }
          ],
          "contourcarpet": [
           {
            "colorbar": {
             "outlinewidth": 0,
             "ticks": ""
            },
            "type": "contourcarpet"
           }
          ],
          "heatmap": [
           {
            "colorbar": {
             "outlinewidth": 0,
             "ticks": ""
            },
            "colorscale": [
             [
              0,
              "#0d0887"
             ],
             [
              0.1111111111111111,
              "#46039f"
             ],
             [
              0.2222222222222222,
              "#7201a8"
             ],
             [
              0.3333333333333333,
              "#9c179e"
             ],
             [
              0.4444444444444444,
              "#bd3786"
             ],
             [
              0.5555555555555556,
              "#d8576b"
             ],
             [
              0.6666666666666666,
              "#ed7953"
             ],
             [
              0.7777777777777778,
              "#fb9f3a"
             ],
             [
              0.8888888888888888,
              "#fdca26"
             ],
             [
              1,
              "#f0f921"
             ]
            ],
            "type": "heatmap"
           }
          ],
          "heatmapgl": [
           {
            "colorbar": {
             "outlinewidth": 0,
             "ticks": ""
            },
            "colorscale": [
             [
              0,
              "#0d0887"
             ],
             [
              0.1111111111111111,
              "#46039f"
             ],
             [
              0.2222222222222222,
              "#7201a8"
             ],
             [
              0.3333333333333333,
              "#9c179e"
             ],
             [
              0.4444444444444444,
              "#bd3786"
             ],
             [
              0.5555555555555556,
              "#d8576b"
             ],
             [
              0.6666666666666666,
              "#ed7953"
             ],
             [
              0.7777777777777778,
              "#fb9f3a"
             ],
             [
              0.8888888888888888,
              "#fdca26"
             ],
             [
              1,
              "#f0f921"
             ]
            ],
            "type": "heatmapgl"
           }
          ],
          "histogram": [
           {
            "marker": {
             "pattern": {
              "fillmode": "overlay",
              "size": 10,
              "solidity": 0.2
             }
            },
            "type": "histogram"
           }
          ],
          "histogram2d": [
           {
            "colorbar": {
             "outlinewidth": 0,
             "ticks": ""
            },
            "colorscale": [
             [
              0,
              "#0d0887"
             ],
             [
              0.1111111111111111,
              "#46039f"
             ],
             [
              0.2222222222222222,
              "#7201a8"
             ],
             [
              0.3333333333333333,
              "#9c179e"
             ],
             [
              0.4444444444444444,
              "#bd3786"
             ],
             [
              0.5555555555555556,
              "#d8576b"
             ],
             [
              0.6666666666666666,
              "#ed7953"
             ],
             [
              0.7777777777777778,
              "#fb9f3a"
             ],
             [
              0.8888888888888888,
              "#fdca26"
             ],
             [
              1,
              "#f0f921"
             ]
            ],
            "type": "histogram2d"
           }
          ],
          "histogram2dcontour": [
           {
            "colorbar": {
             "outlinewidth": 0,
             "ticks": ""
            },
            "colorscale": [
             [
              0,
              "#0d0887"
             ],
             [
              0.1111111111111111,
              "#46039f"
             ],
             [
              0.2222222222222222,
              "#7201a8"
             ],
             [
              0.3333333333333333,
              "#9c179e"
             ],
             [
              0.4444444444444444,
              "#bd3786"
             ],
             [
              0.5555555555555556,
              "#d8576b"
             ],
             [
              0.6666666666666666,
              "#ed7953"
             ],
             [
              0.7777777777777778,
              "#fb9f3a"
             ],
             [
              0.8888888888888888,
              "#fdca26"
             ],
             [
              1,
              "#f0f921"
             ]
            ],
            "type": "histogram2dcontour"
           }
          ],
          "mesh3d": [
           {
            "colorbar": {
             "outlinewidth": 0,
             "ticks": ""
            },
            "type": "mesh3d"
           }
          ],
          "parcoords": [
           {
            "line": {
             "colorbar": {
              "outlinewidth": 0,
              "ticks": ""
             }
            },
            "type": "parcoords"
           }
          ],
          "pie": [
           {
            "automargin": true,
            "type": "pie"
           }
          ],
          "scatter": [
           {
            "marker": {
             "colorbar": {
              "outlinewidth": 0,
              "ticks": ""
             }
            },
            "type": "scatter"
           }
          ],
          "scatter3d": [
           {
            "line": {
             "colorbar": {
              "outlinewidth": 0,
              "ticks": ""
             }
            },
            "marker": {
             "colorbar": {
              "outlinewidth": 0,
              "ticks": ""
             }
            },
            "type": "scatter3d"
           }
          ],
          "scattercarpet": [
           {
            "marker": {
             "colorbar": {
              "outlinewidth": 0,
              "ticks": ""
             }
            },
            "type": "scattercarpet"
           }
          ],
          "scattergeo": [
           {
            "marker": {
             "colorbar": {
              "outlinewidth": 0,
              "ticks": ""
             }
            },
            "type": "scattergeo"
           }
          ],
          "scattergl": [
           {
            "marker": {
             "colorbar": {
              "outlinewidth": 0,
              "ticks": ""
             }
            },
            "type": "scattergl"
           }
          ],
          "scattermapbox": [
           {
            "marker": {
             "colorbar": {
              "outlinewidth": 0,
              "ticks": ""
             }
            },
            "type": "scattermapbox"
           }
          ],
          "scatterpolar": [
           {
            "marker": {
             "colorbar": {
              "outlinewidth": 0,
              "ticks": ""
             }
            },
            "type": "scatterpolar"
           }
          ],
          "scatterpolargl": [
           {
            "marker": {
             "colorbar": {
              "outlinewidth": 0,
              "ticks": ""
             }
            },
            "type": "scatterpolargl"
           }
          ],
          "scatterternary": [
           {
            "marker": {
             "colorbar": {
              "outlinewidth": 0,
              "ticks": ""
             }
            },
            "type": "scatterternary"
           }
          ],
          "surface": [
           {
            "colorbar": {
             "outlinewidth": 0,
             "ticks": ""
            },
            "colorscale": [
             [
              0,
              "#0d0887"
             ],
             [
              0.1111111111111111,
              "#46039f"
             ],
             [
              0.2222222222222222,
              "#7201a8"
             ],
             [
              0.3333333333333333,
              "#9c179e"
             ],
             [
              0.4444444444444444,
              "#bd3786"
             ],
             [
              0.5555555555555556,
              "#d8576b"
             ],
             [
              0.6666666666666666,
              "#ed7953"
             ],
             [
              0.7777777777777778,
              "#fb9f3a"
             ],
             [
              0.8888888888888888,
              "#fdca26"
             ],
             [
              1,
              "#f0f921"
             ]
            ],
            "type": "surface"
           }
          ],
          "table": [
           {
            "cells": {
             "fill": {
              "color": "#EBF0F8"
             },
             "line": {
              "color": "white"
             }
            },
            "header": {
             "fill": {
              "color": "#C8D4E3"
             },
             "line": {
              "color": "white"
             }
            },
            "type": "table"
           }
          ]
         },
         "layout": {
          "annotationdefaults": {
           "arrowcolor": "#2a3f5f",
           "arrowhead": 0,
           "arrowwidth": 1
          },
          "autotypenumbers": "strict",
          "coloraxis": {
           "colorbar": {
            "outlinewidth": 0,
            "ticks": ""
           }
          },
          "colorscale": {
           "diverging": [
            [
             0,
             "#8e0152"
            ],
            [
             0.1,
             "#c51b7d"
            ],
            [
             0.2,
             "#de77ae"
            ],
            [
             0.3,
             "#f1b6da"
            ],
            [
             0.4,
             "#fde0ef"
            ],
            [
             0.5,
             "#f7f7f7"
            ],
            [
             0.6,
             "#e6f5d0"
            ],
            [
             0.7,
             "#b8e186"
            ],
            [
             0.8,
             "#7fbc41"
            ],
            [
             0.9,
             "#4d9221"
            ],
            [
             1,
             "#276419"
            ]
           ],
           "sequential": [
            [
             0,
             "#0d0887"
            ],
            [
             0.1111111111111111,
             "#46039f"
            ],
            [
             0.2222222222222222,
             "#7201a8"
            ],
            [
             0.3333333333333333,
             "#9c179e"
            ],
            [
             0.4444444444444444,
             "#bd3786"
            ],
            [
             0.5555555555555556,
             "#d8576b"
            ],
            [
             0.6666666666666666,
             "#ed7953"
            ],
            [
             0.7777777777777778,
             "#fb9f3a"
            ],
            [
             0.8888888888888888,
             "#fdca26"
            ],
            [
             1,
             "#f0f921"
            ]
           ],
           "sequentialminus": [
            [
             0,
             "#0d0887"
            ],
            [
             0.1111111111111111,
             "#46039f"
            ],
            [
             0.2222222222222222,
             "#7201a8"
            ],
            [
             0.3333333333333333,
             "#9c179e"
            ],
            [
             0.4444444444444444,
             "#bd3786"
            ],
            [
             0.5555555555555556,
             "#d8576b"
            ],
            [
             0.6666666666666666,
             "#ed7953"
            ],
            [
             0.7777777777777778,
             "#fb9f3a"
            ],
            [
             0.8888888888888888,
             "#fdca26"
            ],
            [
             1,
             "#f0f921"
            ]
           ]
          },
          "colorway": [
           "#636efa",
           "#EF553B",
           "#00cc96",
           "#ab63fa",
           "#FFA15A",
           "#19d3f3",
           "#FF6692",
           "#B6E880",
           "#FF97FF",
           "#FECB52"
          ],
          "font": {
           "color": "#2a3f5f"
          },
          "geo": {
           "bgcolor": "white",
           "lakecolor": "white",
           "landcolor": "#E5ECF6",
           "showlakes": true,
           "showland": true,
           "subunitcolor": "white"
          },
          "hoverlabel": {
           "align": "left"
          },
          "hovermode": "closest",
          "mapbox": {
           "style": "light"
          },
          "paper_bgcolor": "white",
          "plot_bgcolor": "#E5ECF6",
          "polar": {
           "angularaxis": {
            "gridcolor": "white",
            "linecolor": "white",
            "ticks": ""
           },
           "bgcolor": "#E5ECF6",
           "radialaxis": {
            "gridcolor": "white",
            "linecolor": "white",
            "ticks": ""
           }
          },
          "scene": {
           "xaxis": {
            "backgroundcolor": "#E5ECF6",
            "gridcolor": "white",
            "gridwidth": 2,
            "linecolor": "white",
            "showbackground": true,
            "ticks": "",
            "zerolinecolor": "white"
           },
           "yaxis": {
            "backgroundcolor": "#E5ECF6",
            "gridcolor": "white",
            "gridwidth": 2,
            "linecolor": "white",
            "showbackground": true,
            "ticks": "",
            "zerolinecolor": "white"
           },
           "zaxis": {
            "backgroundcolor": "#E5ECF6",
            "gridcolor": "white",
            "gridwidth": 2,
            "linecolor": "white",
            "showbackground": true,
            "ticks": "",
            "zerolinecolor": "white"
           }
          },
          "shapedefaults": {
           "line": {
            "color": "#2a3f5f"
           }
          },
          "ternary": {
           "aaxis": {
            "gridcolor": "white",
            "linecolor": "white",
            "ticks": ""
           },
           "baxis": {
            "gridcolor": "white",
            "linecolor": "white",
            "ticks": ""
           },
           "bgcolor": "#E5ECF6",
           "caxis": {
            "gridcolor": "white",
            "linecolor": "white",
            "ticks": ""
           }
          },
          "title": {
           "x": 0.05
          },
          "xaxis": {
           "automargin": true,
           "gridcolor": "white",
           "linecolor": "white",
           "ticks": "",
           "title": {
            "standoff": 15
           },
           "zerolinecolor": "white",
           "zerolinewidth": 2
          },
          "yaxis": {
           "automargin": true,
           "gridcolor": "white",
           "linecolor": "white",
           "ticks": "",
           "title": {
            "standoff": 15
           },
           "zerolinecolor": "white",
           "zerolinewidth": 2
          }
         }
        },
        "title": {
         "text": "The number of Hardware IRQ per duration distribution"
        },
        "xaxis": {
         "anchor": "y",
         "domain": [
          0,
          1
         ],
         "title": {
          "text": "Time (usecs)"
         }
        },
        "yaxis": {
         "anchor": "x",
         "domain": [
          0,
          1
         ],
         "title": {
          "text": "Number of Hardware IRQs"
         }
        }
       }
      }
     },
     "metadata": {},
     "output_type": "display_data"
    }
   ],
   "source": [
    "hardirqs_dist_df = spark.read.option(\"basePath\", \"../ansible/.results\").json(\n",
    "\"../ansible/.results/kpps=*/tool=hardirqs-dist\").select(\n",
    "    \"kpps\", \"ts\", \"val_type\", \"tool\",\n",
    "    explode(\"data\").alias(\"dataExplode\")\n",
    ").select(col(\"kpps\").cast(StringType()), \"ts\", \"val_type\", \"tool\", \"dataExplode.*\", concat_ws('-',col('dataExplode.interval-start'),col('dataExplode.interval-end')).alias(\"interval\"))\n",
    "import plotly.express as px\n",
    "hardirqs_dist_fig = px.bar(hardirqs_dist_df.toPandas(), x=\"interval\", y=\"count\", color=\"kpps\", barmode=\"group\",\n",
    "        title=\"The number of Hardware IRQ per duration distribution\",\n",
    "        labels={\n",
    "                    \"kpps\": \"Packets Per Second (thousand)\",\n",
    "                    \"count\": \"Number of Hardware IRQs\",\n",
    "                    \"interval\": \"Time (usecs)\"\n",
    "                })\n",
    "hardirqs_dist_fig.show()\n",
    "hardirqs_dist_fig.write_image(\"images/hardirqs-dist.jpeg\")\n",
    "with open(html_output_file, 'a') as f:\n",
    "    f.write(hardirqs_dist_fig.to_html(full_html=False, include_plotlyjs='cdn'))"
   ]
  },
  {
   "cell_type": "code",
   "execution_count": 25,
   "metadata": {},
   "outputs": [
    {
     "data": {
      "application/vnd.plotly.v1+json": {
       "config": {
        "plotlyServerURL": "https://plot.ly"
       },
       "data": [
        {
         "alignmentgroup": "True",
         "hovertemplate": "softirq=net_tx<br>Packets Per Second (thousand)=%{x}<br>Time (usecs)=%{y}<extra></extra>",
         "legendgroup": "net_tx",
         "marker": {
          "color": "#636efa",
          "pattern": {
           "shape": ""
          }
         },
         "name": "net_tx",
         "offsetgroup": "net_tx",
         "orientation": "v",
         "showlegend": true,
         "textposition": "auto",
         "type": "bar",
         "x": [
          500,
          50,
          1,
          300,
          200,
          10,
          100,
          600,
          400
         ],
         "xaxis": "x",
         "y": [
          184.902,
          202.903,
          187.498,
          184.202,
          187.6,
          208.101,
          225.9,
          187.1,
          196.6
         ],
         "yaxis": "y"
        },
        {
         "alignmentgroup": "True",
         "hovertemplate": "softirq=block<br>Packets Per Second (thousand)=%{x}<br>Time (usecs)=%{y}<extra></extra>",
         "legendgroup": "block",
         "marker": {
          "color": "#EF553B",
          "pattern": {
           "shape": ""
          }
         },
         "name": "block",
         "offsetgroup": "block",
         "orientation": "v",
         "showlegend": true,
         "textposition": "auto",
         "type": "bar",
         "x": [
          500,
          50,
          1,
          300,
          200,
          10,
          100,
          600,
          400
         ],
         "xaxis": "x",
         "y": [
          896.906,
          1231.104,
          882.799,
          820.301,
          764.501,
          932.8,
          1108.4,
          830.3,
          789.1
         ],
         "yaxis": "y"
        },
        {
         "alignmentgroup": "True",
         "hovertemplate": "softirq=rcu<br>Packets Per Second (thousand)=%{x}<br>Time (usecs)=%{y}<extra></extra>",
         "legendgroup": "rcu",
         "marker": {
          "color": "#00cc96",
          "pattern": {
           "shape": ""
          }
         },
         "name": "rcu",
         "offsetgroup": "rcu",
         "orientation": "v",
         "showlegend": true,
         "textposition": "auto",
         "type": "bar",
         "x": [
          500,
          50,
          1,
          300,
          200,
          10,
          100,
          600,
          400
         ],
         "xaxis": "x",
         "y": [
          1394.704,
          1349.502,
          1493.596,
          1485.107,
          1503.503,
          1362.81,
          1410.3,
          1443.2,
          1362.7
         ],
         "yaxis": "y"
        },
        {
         "alignmentgroup": "True",
         "hovertemplate": "softirq=timer<br>Packets Per Second (thousand)=%{x}<br>Time (usecs)=%{y}<extra></extra>",
         "legendgroup": "timer",
         "marker": {
          "color": "#ab63fa",
          "pattern": {
           "shape": ""
          }
         },
         "name": "timer",
         "offsetgroup": "timer",
         "orientation": "v",
         "showlegend": true,
         "textposition": "auto",
         "type": "bar",
         "x": [
          500,
          50,
          1,
          300,
          200,
          10,
          100,
          600,
          400
         ],
         "xaxis": "x",
         "y": [
          10557.441,
          11659.253,
          10110.193,
          10075.148,
          10837.128,
          13731.149,
          10151.2,
          9637.1,
          11073.5
         ],
         "yaxis": "y"
        },
        {
         "alignmentgroup": "True",
         "hovertemplate": "softirq=sched<br>Packets Per Second (thousand)=%{x}<br>Time (usecs)=%{y}<extra></extra>",
         "legendgroup": "sched",
         "marker": {
          "color": "#FFA15A",
          "pattern": {
           "shape": ""
          }
         },
         "name": "sched",
         "offsetgroup": "sched",
         "orientation": "v",
         "showlegend": true,
         "textposition": "auto",
         "type": "bar",
         "x": [
          500,
          50,
          1,
          300,
          200,
          10,
          100,
          600,
          400
         ],
         "xaxis": "x",
         "y": [
          22876.797,
          33487.762,
          18970.584,
          19680.591,
          21314.372,
          11583.051,
          25074.801,
          21163.601,
          19836.4
         ],
         "yaxis": "y"
        },
        {
         "alignmentgroup": "True",
         "hovertemplate": "softirq=tasklet<br>Packets Per Second (thousand)=%{x}<br>Time (usecs)=%{y}<extra></extra>",
         "legendgroup": "tasklet",
         "marker": {
          "color": "#19d3f3",
          "pattern": {
           "shape": ""
          }
         },
         "name": "tasklet",
         "offsetgroup": "tasklet",
         "orientation": "v",
         "showlegend": true,
         "textposition": "auto",
         "type": "bar",
         "x": [
          500,
          50,
          1,
          300,
          200,
          10,
          100,
          600,
          400
         ],
         "xaxis": "x",
         "y": [
          150223.839,
          161269.736,
          142860.521,
          159384.605,
          160238.38,
          114960.591,
          236841.708,
          148572.404,
          154530.494
         ],
         "yaxis": "y"
        },
        {
         "alignmentgroup": "True",
         "hovertemplate": "softirq=net_rx<br>Packets Per Second (thousand)=%{x}<br>Time (usecs)=%{y}<extra></extra>",
         "legendgroup": "net_rx",
         "marker": {
          "color": "#FF6692",
          "pattern": {
           "shape": ""
          }
         },
         "name": "net_rx",
         "offsetgroup": "net_rx",
         "orientation": "v",
         "showlegend": true,
         "textposition": "auto",
         "type": "bar",
         "x": [
          500,
          50,
          1,
          300,
          200,
          10,
          100,
          600,
          400
         ],
         "xaxis": "x",
         "y": [
          11923604.254,
          6551307.786,
          11591724.769,
          11628826.513,
          11653267.511,
          2321874.466,
          9155104.554,
          11741371.878,
          11610036.722
         ],
         "yaxis": "y"
        }
       ],
       "layout": {
        "barmode": "relative",
        "legend": {
         "title": {
          "text": "softirq"
         },
         "tracegroupgap": 0
        },
        "template": {
         "data": {
          "bar": [
           {
            "error_x": {
             "color": "#2a3f5f"
            },
            "error_y": {
             "color": "#2a3f5f"
            },
            "marker": {
             "line": {
              "color": "#E5ECF6",
              "width": 0.5
             },
             "pattern": {
              "fillmode": "overlay",
              "size": 10,
              "solidity": 0.2
             }
            },
            "type": "bar"
           }
          ],
          "barpolar": [
           {
            "marker": {
             "line": {
              "color": "#E5ECF6",
              "width": 0.5
             },
             "pattern": {
              "fillmode": "overlay",
              "size": 10,
              "solidity": 0.2
             }
            },
            "type": "barpolar"
           }
          ],
          "carpet": [
           {
            "aaxis": {
             "endlinecolor": "#2a3f5f",
             "gridcolor": "white",
             "linecolor": "white",
             "minorgridcolor": "white",
             "startlinecolor": "#2a3f5f"
            },
            "baxis": {
             "endlinecolor": "#2a3f5f",
             "gridcolor": "white",
             "linecolor": "white",
             "minorgridcolor": "white",
             "startlinecolor": "#2a3f5f"
            },
            "type": "carpet"
           }
          ],
          "choropleth": [
           {
            "colorbar": {
             "outlinewidth": 0,
             "ticks": ""
            },
            "type": "choropleth"
           }
          ],
          "contour": [
           {
            "colorbar": {
             "outlinewidth": 0,
             "ticks": ""
            },
            "colorscale": [
             [
              0,
              "#0d0887"
             ],
             [
              0.1111111111111111,
              "#46039f"
             ],
             [
              0.2222222222222222,
              "#7201a8"
             ],
             [
              0.3333333333333333,
              "#9c179e"
             ],
             [
              0.4444444444444444,
              "#bd3786"
             ],
             [
              0.5555555555555556,
              "#d8576b"
             ],
             [
              0.6666666666666666,
              "#ed7953"
             ],
             [
              0.7777777777777778,
              "#fb9f3a"
             ],
             [
              0.8888888888888888,
              "#fdca26"
             ],
             [
              1,
              "#f0f921"
             ]
            ],
            "type": "contour"
           }
          ],
          "contourcarpet": [
           {
            "colorbar": {
             "outlinewidth": 0,
             "ticks": ""
            },
            "type": "contourcarpet"
           }
          ],
          "heatmap": [
           {
            "colorbar": {
             "outlinewidth": 0,
             "ticks": ""
            },
            "colorscale": [
             [
              0,
              "#0d0887"
             ],
             [
              0.1111111111111111,
              "#46039f"
             ],
             [
              0.2222222222222222,
              "#7201a8"
             ],
             [
              0.3333333333333333,
              "#9c179e"
             ],
             [
              0.4444444444444444,
              "#bd3786"
             ],
             [
              0.5555555555555556,
              "#d8576b"
             ],
             [
              0.6666666666666666,
              "#ed7953"
             ],
             [
              0.7777777777777778,
              "#fb9f3a"
             ],
             [
              0.8888888888888888,
              "#fdca26"
             ],
             [
              1,
              "#f0f921"
             ]
            ],
            "type": "heatmap"
           }
          ],
          "heatmapgl": [
           {
            "colorbar": {
             "outlinewidth": 0,
             "ticks": ""
            },
            "colorscale": [
             [
              0,
              "#0d0887"
             ],
             [
              0.1111111111111111,
              "#46039f"
             ],
             [
              0.2222222222222222,
              "#7201a8"
             ],
             [
              0.3333333333333333,
              "#9c179e"
             ],
             [
              0.4444444444444444,
              "#bd3786"
             ],
             [
              0.5555555555555556,
              "#d8576b"
             ],
             [
              0.6666666666666666,
              "#ed7953"
             ],
             [
              0.7777777777777778,
              "#fb9f3a"
             ],
             [
              0.8888888888888888,
              "#fdca26"
             ],
             [
              1,
              "#f0f921"
             ]
            ],
            "type": "heatmapgl"
           }
          ],
          "histogram": [
           {
            "marker": {
             "pattern": {
              "fillmode": "overlay",
              "size": 10,
              "solidity": 0.2
             }
            },
            "type": "histogram"
           }
          ],
          "histogram2d": [
           {
            "colorbar": {
             "outlinewidth": 0,
             "ticks": ""
            },
            "colorscale": [
             [
              0,
              "#0d0887"
             ],
             [
              0.1111111111111111,
              "#46039f"
             ],
             [
              0.2222222222222222,
              "#7201a8"
             ],
             [
              0.3333333333333333,
              "#9c179e"
             ],
             [
              0.4444444444444444,
              "#bd3786"
             ],
             [
              0.5555555555555556,
              "#d8576b"
             ],
             [
              0.6666666666666666,
              "#ed7953"
             ],
             [
              0.7777777777777778,
              "#fb9f3a"
             ],
             [
              0.8888888888888888,
              "#fdca26"
             ],
             [
              1,
              "#f0f921"
             ]
            ],
            "type": "histogram2d"
           }
          ],
          "histogram2dcontour": [
           {
            "colorbar": {
             "outlinewidth": 0,
             "ticks": ""
            },
            "colorscale": [
             [
              0,
              "#0d0887"
             ],
             [
              0.1111111111111111,
              "#46039f"
             ],
             [
              0.2222222222222222,
              "#7201a8"
             ],
             [
              0.3333333333333333,
              "#9c179e"
             ],
             [
              0.4444444444444444,
              "#bd3786"
             ],
             [
              0.5555555555555556,
              "#d8576b"
             ],
             [
              0.6666666666666666,
              "#ed7953"
             ],
             [
              0.7777777777777778,
              "#fb9f3a"
             ],
             [
              0.8888888888888888,
              "#fdca26"
             ],
             [
              1,
              "#f0f921"
             ]
            ],
            "type": "histogram2dcontour"
           }
          ],
          "mesh3d": [
           {
            "colorbar": {
             "outlinewidth": 0,
             "ticks": ""
            },
            "type": "mesh3d"
           }
          ],
          "parcoords": [
           {
            "line": {
             "colorbar": {
              "outlinewidth": 0,
              "ticks": ""
             }
            },
            "type": "parcoords"
           }
          ],
          "pie": [
           {
            "automargin": true,
            "type": "pie"
           }
          ],
          "scatter": [
           {
            "marker": {
             "colorbar": {
              "outlinewidth": 0,
              "ticks": ""
             }
            },
            "type": "scatter"
           }
          ],
          "scatter3d": [
           {
            "line": {
             "colorbar": {
              "outlinewidth": 0,
              "ticks": ""
             }
            },
            "marker": {
             "colorbar": {
              "outlinewidth": 0,
              "ticks": ""
             }
            },
            "type": "scatter3d"
           }
          ],
          "scattercarpet": [
           {
            "marker": {
             "colorbar": {
              "outlinewidth": 0,
              "ticks": ""
             }
            },
            "type": "scattercarpet"
           }
          ],
          "scattergeo": [
           {
            "marker": {
             "colorbar": {
              "outlinewidth": 0,
              "ticks": ""
             }
            },
            "type": "scattergeo"
           }
          ],
          "scattergl": [
           {
            "marker": {
             "colorbar": {
              "outlinewidth": 0,
              "ticks": ""
             }
            },
            "type": "scattergl"
           }
          ],
          "scattermapbox": [
           {
            "marker": {
             "colorbar": {
              "outlinewidth": 0,
              "ticks": ""
             }
            },
            "type": "scattermapbox"
           }
          ],
          "scatterpolar": [
           {
            "marker": {
             "colorbar": {
              "outlinewidth": 0,
              "ticks": ""
             }
            },
            "type": "scatterpolar"
           }
          ],
          "scatterpolargl": [
           {
            "marker": {
             "colorbar": {
              "outlinewidth": 0,
              "ticks": ""
             }
            },
            "type": "scatterpolargl"
           }
          ],
          "scatterternary": [
           {
            "marker": {
             "colorbar": {
              "outlinewidth": 0,
              "ticks": ""
             }
            },
            "type": "scatterternary"
           }
          ],
          "surface": [
           {
            "colorbar": {
             "outlinewidth": 0,
             "ticks": ""
            },
            "colorscale": [
             [
              0,
              "#0d0887"
             ],
             [
              0.1111111111111111,
              "#46039f"
             ],
             [
              0.2222222222222222,
              "#7201a8"
             ],
             [
              0.3333333333333333,
              "#9c179e"
             ],
             [
              0.4444444444444444,
              "#bd3786"
             ],
             [
              0.5555555555555556,
              "#d8576b"
             ],
             [
              0.6666666666666666,
              "#ed7953"
             ],
             [
              0.7777777777777778,
              "#fb9f3a"
             ],
             [
              0.8888888888888888,
              "#fdca26"
             ],
             [
              1,
              "#f0f921"
             ]
            ],
            "type": "surface"
           }
          ],
          "table": [
           {
            "cells": {
             "fill": {
              "color": "#EBF0F8"
             },
             "line": {
              "color": "white"
             }
            },
            "header": {
             "fill": {
              "color": "#C8D4E3"
             },
             "line": {
              "color": "white"
             }
            },
            "type": "table"
           }
          ]
         },
         "layout": {
          "annotationdefaults": {
           "arrowcolor": "#2a3f5f",
           "arrowhead": 0,
           "arrowwidth": 1
          },
          "autotypenumbers": "strict",
          "coloraxis": {
           "colorbar": {
            "outlinewidth": 0,
            "ticks": ""
           }
          },
          "colorscale": {
           "diverging": [
            [
             0,
             "#8e0152"
            ],
            [
             0.1,
             "#c51b7d"
            ],
            [
             0.2,
             "#de77ae"
            ],
            [
             0.3,
             "#f1b6da"
            ],
            [
             0.4,
             "#fde0ef"
            ],
            [
             0.5,
             "#f7f7f7"
            ],
            [
             0.6,
             "#e6f5d0"
            ],
            [
             0.7,
             "#b8e186"
            ],
            [
             0.8,
             "#7fbc41"
            ],
            [
             0.9,
             "#4d9221"
            ],
            [
             1,
             "#276419"
            ]
           ],
           "sequential": [
            [
             0,
             "#0d0887"
            ],
            [
             0.1111111111111111,
             "#46039f"
            ],
            [
             0.2222222222222222,
             "#7201a8"
            ],
            [
             0.3333333333333333,
             "#9c179e"
            ],
            [
             0.4444444444444444,
             "#bd3786"
            ],
            [
             0.5555555555555556,
             "#d8576b"
            ],
            [
             0.6666666666666666,
             "#ed7953"
            ],
            [
             0.7777777777777778,
             "#fb9f3a"
            ],
            [
             0.8888888888888888,
             "#fdca26"
            ],
            [
             1,
             "#f0f921"
            ]
           ],
           "sequentialminus": [
            [
             0,
             "#0d0887"
            ],
            [
             0.1111111111111111,
             "#46039f"
            ],
            [
             0.2222222222222222,
             "#7201a8"
            ],
            [
             0.3333333333333333,
             "#9c179e"
            ],
            [
             0.4444444444444444,
             "#bd3786"
            ],
            [
             0.5555555555555556,
             "#d8576b"
            ],
            [
             0.6666666666666666,
             "#ed7953"
            ],
            [
             0.7777777777777778,
             "#fb9f3a"
            ],
            [
             0.8888888888888888,
             "#fdca26"
            ],
            [
             1,
             "#f0f921"
            ]
           ]
          },
          "colorway": [
           "#636efa",
           "#EF553B",
           "#00cc96",
           "#ab63fa",
           "#FFA15A",
           "#19d3f3",
           "#FF6692",
           "#B6E880",
           "#FF97FF",
           "#FECB52"
          ],
          "font": {
           "color": "#2a3f5f"
          },
          "geo": {
           "bgcolor": "white",
           "lakecolor": "white",
           "landcolor": "#E5ECF6",
           "showlakes": true,
           "showland": true,
           "subunitcolor": "white"
          },
          "hoverlabel": {
           "align": "left"
          },
          "hovermode": "closest",
          "mapbox": {
           "style": "light"
          },
          "paper_bgcolor": "white",
          "plot_bgcolor": "#E5ECF6",
          "polar": {
           "angularaxis": {
            "gridcolor": "white",
            "linecolor": "white",
            "ticks": ""
           },
           "bgcolor": "#E5ECF6",
           "radialaxis": {
            "gridcolor": "white",
            "linecolor": "white",
            "ticks": ""
           }
          },
          "scene": {
           "xaxis": {
            "backgroundcolor": "#E5ECF6",
            "gridcolor": "white",
            "gridwidth": 2,
            "linecolor": "white",
            "showbackground": true,
            "ticks": "",
            "zerolinecolor": "white"
           },
           "yaxis": {
            "backgroundcolor": "#E5ECF6",
            "gridcolor": "white",
            "gridwidth": 2,
            "linecolor": "white",
            "showbackground": true,
            "ticks": "",
            "zerolinecolor": "white"
           },
           "zaxis": {
            "backgroundcolor": "#E5ECF6",
            "gridcolor": "white",
            "gridwidth": 2,
            "linecolor": "white",
            "showbackground": true,
            "ticks": "",
            "zerolinecolor": "white"
           }
          },
          "shapedefaults": {
           "line": {
            "color": "#2a3f5f"
           }
          },
          "ternary": {
           "aaxis": {
            "gridcolor": "white",
            "linecolor": "white",
            "ticks": ""
           },
           "baxis": {
            "gridcolor": "white",
            "linecolor": "white",
            "ticks": ""
           },
           "bgcolor": "#E5ECF6",
           "caxis": {
            "gridcolor": "white",
            "linecolor": "white",
            "ticks": ""
           }
          },
          "title": {
           "x": 0.05
          },
          "xaxis": {
           "automargin": true,
           "gridcolor": "white",
           "linecolor": "white",
           "ticks": "",
           "title": {
            "standoff": 15
           },
           "zerolinecolor": "white",
           "zerolinewidth": 2
          },
          "yaxis": {
           "automargin": true,
           "gridcolor": "white",
           "linecolor": "white",
           "ticks": "",
           "title": {
            "standoff": 15
           },
           "zerolinecolor": "white",
           "zerolinewidth": 2
          }
         }
        },
        "title": {
         "text": "Total time spent servicing soft IRQs"
        },
        "xaxis": {
         "anchor": "y",
         "domain": [
          0,
          1
         ],
         "title": {
          "text": "Packets Per Second (thousand)"
         }
        },
        "yaxis": {
         "anchor": "x",
         "domain": [
          0,
          1
         ],
         "title": {
          "text": "Time (usecs)"
         }
        }
       }
      }
     },
     "metadata": {},
     "output_type": "display_data"
    }
   ],
   "source": [
    "softirqs_count_df = spark.read.option(\"basePath\", \"../ansible/.results\").json(\n",
    "\"../ansible/.results/kpps=*/tool=softirqs-count\")\n",
    "# print(df.rdd.getNumPartitions())\n",
    "import plotly.express as px\n",
    "softirqs_count_fig = px.bar(softirqs_count_df.toPandas(), x=\"kpps\", y=\"count\", color=\"softirq\",\n",
    "            title=\"Total time spent servicing soft IRQs\",\n",
    "            labels={\n",
    "                    \"kpps\": \"Packets Per Second (thousand)\",\n",
    "                    \"count\": \"Time (usecs)\",\n",
    "                    \"hardirq\": \"Hardware Interupts\"\n",
    "                })\n",
    "softirqs_count_fig.show()\n",
    "softirqs_count_fig.write_image(\"images/softirqs-count.jpeg\")\n",
    "with open(html_output_file, 'a') as f:\n",
    "    f.write(softirqs_count_fig.to_html(full_html=False, include_plotlyjs='cdn'))"
   ]
  },
  {
   "cell_type": "code",
   "execution_count": 26,
   "metadata": {},
   "outputs": [
    {
     "name": "stdout",
     "output_type": "stream",
     "text": [
      "root\n",
      " |-- kpps: string (nullable = true)\n",
      " |-- ts: string (nullable = true)\n",
      " |-- val_type: string (nullable = true)\n",
      " |-- tool: string (nullable = true)\n",
      " |-- count: long (nullable = true)\n",
      " |-- interval-end: long (nullable = true)\n",
      " |-- interval-start: long (nullable = true)\n",
      " |-- interval: string (nullable = false)\n",
      "\n"
     ]
    },
    {
     "data": {
      "application/vnd.plotly.v1+json": {
       "config": {
        "plotlyServerURL": "https://plot.ly"
       },
       "data": [
        {
         "alignmentgroup": "True",
         "hovertemplate": "Packets Per Second (thousand)=50<br>Time (usecs)=%{x}<br>Number of Soft IRQs=%{y}<extra></extra>",
         "legendgroup": "50",
         "marker": {
          "color": "#636efa",
          "pattern": {
           "shape": ""
          }
         },
         "name": "50",
         "offsetgroup": "50",
         "orientation": "v",
         "showlegend": true,
         "textposition": "auto",
         "type": "bar",
         "x": [
          "0-1",
          "2-3",
          "4-7",
          "8-15",
          "16-31",
          "32-63",
          "0-1",
          "2-3",
          "4-7",
          "8-15",
          "16-31",
          "32-63",
          "0-1",
          "2-3",
          "4-7",
          "8-15",
          "16-31",
          "32-63",
          "0-1",
          "2-3",
          "4-7",
          "8-15",
          "16-31",
          "0-1",
          "2-3",
          "4-7",
          "8-15",
          "16-31",
          "32-63",
          "64-127",
          "128-255",
          "0-1",
          "2-3",
          "4-7",
          "8-15",
          "16-31",
          "32-63",
          "64-127",
          "0-1",
          "2-3",
          "4-7",
          "8-15",
          "16-31",
          "32-63"
         ],
         "xaxis": "x",
         "y": [
          68,
          174,
          636,
          388,
          106,
          9,
          451,
          72,
          39,
          25,
          8,
          5,
          0,
          0,
          0,
          0,
          6,
          2,
          403759,
          263,
          26,
          109,
          12,
          17736,
          120056,
          66996,
          68593,
          70917,
          47072,
          12868,
          128,
          5327,
          2471,
          1225,
          394,
          81,
          7,
          1,
          0,
          2,
          1,
          11,
          37,
          2
         ],
         "yaxis": "y"
        },
        {
         "alignmentgroup": "True",
         "hovertemplate": "Packets Per Second (thousand)=10<br>Time (usecs)=%{x}<br>Number of Soft IRQs=%{y}<extra></extra>",
         "legendgroup": "10",
         "marker": {
          "color": "#EF553B",
          "pattern": {
           "shape": ""
          }
         },
         "name": "10",
         "offsetgroup": "10",
         "orientation": "v",
         "showlegend": true,
         "textposition": "auto",
         "type": "bar",
         "x": [
          "0-1",
          "2-3",
          "4-7",
          "8-15",
          "16-31",
          "32-63",
          "64-127",
          "128-255",
          "0-1",
          "2-3",
          "4-7",
          "8-15",
          "16-31",
          "0-1",
          "2-3",
          "4-7",
          "8-15",
          "16-31",
          "32-63",
          "0-1",
          "2-3",
          "4-7",
          "8-15",
          "16-31",
          "32-63",
          "64-127",
          "0-1",
          "2-3",
          "4-7",
          "8-15",
          "16-31",
          "32-63",
          "0-1",
          "2-3",
          "4-7",
          "8-15",
          "16-31",
          "32-63",
          "0-1",
          "2-3",
          "4-7",
          "8-15",
          "16-31",
          "32-63"
         ],
         "xaxis": "x",
         "y": [
          227,
          69527,
          65655,
          9871,
          34852,
          24670,
          247,
          52,
          205319,
          33,
          17,
          107,
          15,
          0,
          0,
          0,
          0,
          5,
          3,
          294,
          109,
          45,
          35,
          5,
          4,
          1,
          1762,
          1863,
          863,
          178,
          33,
          6,
          0,
          0,
          1,
          27,
          20,
          3,
          11,
          78,
          479,
          584,
          154,
          24
         ],
         "yaxis": "y"
        },
        {
         "alignmentgroup": "True",
         "hovertemplate": "Packets Per Second (thousand)=100<br>Time (usecs)=%{x}<br>Number of Soft IRQs=%{y}<extra></extra>",
         "legendgroup": "100",
         "marker": {
          "color": "#00cc96",
          "pattern": {
           "shape": ""
          }
         },
         "name": "100",
         "offsetgroup": "100",
         "orientation": "v",
         "showlegend": true,
         "textposition": "auto",
         "type": "bar",
         "x": [
          "0-1",
          "2-3",
          "4-7",
          "8-15",
          "16-31",
          "32-63",
          "0-1",
          "2-3",
          "4-7",
          "8-15",
          "16-31",
          "32-63",
          "64-127",
          "128-255",
          "0-1",
          "2-3",
          "4-7",
          "8-15",
          "16-31",
          "32-63",
          "64-127",
          "0-1",
          "2-3",
          "4-7",
          "8-15",
          "16-31",
          "32-63",
          "0-1",
          "2-3",
          "4-7",
          "8-15",
          "16-31",
          "0-1",
          "2-3",
          "4-7",
          "8-15",
          "16-31",
          "0-1",
          "2-3",
          "4-7",
          "8-15",
          "16-31"
         ],
         "xaxis": "x",
         "y": [
          4769,
          1912,
          1293,
          385,
          88,
          3,
          73842,
          261914,
          139159,
          152792,
          109760,
          72786,
          1326,
          250,
          422,
          48,
          57,
          21,
          6,
          2,
          3,
          66,
          148,
          776,
          336,
          61,
          2,
          0,
          20,
          13,
          19,
          42,
          44,
          8,
          6,
          2,
          8,
          802680,
          877,
          12,
          73,
          24
         ],
         "yaxis": "y"
        },
        {
         "alignmentgroup": "True",
         "hovertemplate": "Packets Per Second (thousand)=300<br>Time (usecs)=%{x}<br>Number of Soft IRQs=%{y}<extra></extra>",
         "legendgroup": "300",
         "marker": {
          "color": "#ab63fa",
          "pattern": {
           "shape": ""
          }
         },
         "name": "300",
         "offsetgroup": "300",
         "orientation": "v",
         "showlegend": true,
         "textposition": "auto",
         "type": "bar",
         "x": [
          "0-1",
          "2-3",
          "4-7",
          "8-15",
          "16-31",
          "32-63",
          "0-1",
          "2-3",
          "4-7",
          "8-15",
          "16-31",
          "0-1",
          "2-3",
          "4-7",
          "8-15",
          "16-31",
          "32-63",
          "64-127",
          "0-1",
          "2-3",
          "4-7",
          "8-15",
          "16-31",
          "32-63",
          "0-1",
          "2-3",
          "4-7",
          "8-15",
          "16-31",
          "32-63",
          "64-127",
          "128-255",
          "0-1",
          "2-3",
          "4-7",
          "8-15",
          "16-31",
          "0-1",
          "2-3",
          "4-7",
          "8-15",
          "16-31"
         ],
         "xaxis": "x",
         "y": [
          237,
          1736,
          1509,
          384,
          68,
          1,
          0,
          3,
          1,
          16,
          33,
          477,
          48,
          58,
          25,
          5,
          3,
          1,
          22,
          144,
          869,
          340,
          57,
          9,
          50410,
          201622,
          30652,
          193901,
          47879,
          104372,
          24166,
          5,
          573901,
          902,
          10,
          50,
          7,
          0,
          0,
          0,
          0,
          8
         ],
         "yaxis": "y"
        },
        {
         "alignmentgroup": "True",
         "hovertemplate": "Packets Per Second (thousand)=500<br>Time (usecs)=%{x}<br>Number of Soft IRQs=%{y}<extra></extra>",
         "legendgroup": "500",
         "marker": {
          "color": "#FFA15A",
          "pattern": {
           "shape": ""
          }
         },
         "name": "500",
         "offsetgroup": "500",
         "orientation": "v",
         "showlegend": true,
         "textposition": "auto",
         "type": "bar",
         "x": [
          "0-1",
          "2-3",
          "4-7",
          "8-15",
          "16-31",
          "32-63",
          "64-127",
          "128-255",
          "0-1",
          "2-3",
          "4-7",
          "8-15",
          "16-31",
          "32-63",
          "0-1",
          "2-3",
          "4-7",
          "8-15",
          "16-31",
          "32-63",
          "0-1",
          "2-3",
          "4-7",
          "8-15",
          "16-31",
          "0-1",
          "2-3",
          "4-7",
          "8-15",
          "16-31",
          "32-63",
          "0-1",
          "2-3",
          "4-7",
          "8-15",
          "16-31",
          "0-1",
          "2-3",
          "4-7",
          "8-15",
          "16-31"
         ],
         "xaxis": "x",
         "y": [
          57171,
          210763,
          67947,
          167509,
          36488,
          97641,
          34419,
          29,
          588,
          107,
          110,
          28,
          11,
          4,
          321,
          1194,
          1535,
          906,
          82,
          5,
          579077,
          1615,
          11,
          47,
          7,
          70,
          134,
          766,
          432,
          79,
          7,
          5,
          12,
          15,
          28,
          43,
          0,
          0,
          0,
          0,
          8
         ],
         "yaxis": "y"
        },
        {
         "alignmentgroup": "True",
         "hovertemplate": "Packets Per Second (thousand)=200<br>Time (usecs)=%{x}<br>Number of Soft IRQs=%{y}<extra></extra>",
         "legendgroup": "200",
         "marker": {
          "color": "#19d3f3",
          "pattern": {
           "shape": ""
          }
         },
         "name": "200",
         "offsetgroup": "200",
         "orientation": "v",
         "showlegend": true,
         "textposition": "auto",
         "type": "bar",
         "x": [
          "0-1",
          "2-3",
          "4-7",
          "8-15",
          "16-31",
          "32-63",
          "0-1",
          "2-3",
          "4-7",
          "8-15",
          "16-31",
          "32-63",
          "64-127",
          "128-255",
          "0-1",
          "2-3",
          "4-7",
          "8-15",
          "16-31",
          "0-1",
          "2-3",
          "4-7",
          "8-15",
          "16-31",
          "32-63",
          "0-1",
          "2-3",
          "4-7",
          "8-15",
          "16-31",
          "0-1",
          "2-3",
          "4-7",
          "8-15",
          "16-31",
          "0-1",
          "2-3",
          "4-7",
          "8-15",
          "16-31",
          "32-63"
         ],
         "xaxis": "x",
         "y": [
          460,
          67,
          63,
          21,
          3,
          4,
          51582,
          201120,
          11974,
          204498,
          47478,
          102585,
          25445,
          39,
          1,
          4,
          2,
          25,
          21,
          300,
          1480,
          1293,
          656,
          66,
          3,
          1,
          0,
          0,
          0,
          8,
          564614,
          1664,
          12,
          65,
          13,
          22,
          195,
          647,
          484,
          63,
          3
         ],
         "yaxis": "y"
        },
        {
         "alignmentgroup": "True",
         "hovertemplate": "Packets Per Second (thousand)=600<br>Time (usecs)=%{x}<br>Number of Soft IRQs=%{y}<extra></extra>",
         "legendgroup": "600",
         "marker": {
          "color": "#FF6692",
          "pattern": {
           "shape": ""
          }
         },
         "name": "600",
         "offsetgroup": "600",
         "orientation": "v",
         "showlegend": true,
         "textposition": "auto",
         "type": "bar",
         "x": [
          "0-1",
          "2-3",
          "4-7",
          "8-15",
          "16-31",
          "32-63",
          "0-1",
          "2-3",
          "4-7",
          "8-15",
          "16-31",
          "32-63",
          "64-127",
          "128-255",
          "0-1",
          "2-3",
          "4-7",
          "8-15",
          "16-31",
          "32-63",
          "0-1",
          "2-3",
          "4-7",
          "8-15",
          "16-31",
          "0-1",
          "2-3",
          "4-7",
          "8-15",
          "16-31",
          "0-1",
          "2-3",
          "4-7",
          "8-15",
          "16-31",
          "32-63",
          "0-1",
          "2-3",
          "4-7",
          "8-15",
          "16-31"
         ],
         "xaxis": "x",
         "y": [
          204,
          1721,
          1315,
          568,
          106,
          5,
          17421,
          186107,
          9386,
          202214,
          43161,
          105932,
          25271,
          1,
          437,
          43,
          65,
          17,
          5,
          5,
          0,
          3,
          0,
          14,
          34,
          502693,
          1223,
          11,
          60,
          16,
          42,
          152,
          802,
          357,
          71,
          3,
          1,
          0,
          0,
          0,
          8
         ],
         "yaxis": "y"
        },
        {
         "alignmentgroup": "True",
         "hovertemplate": "Packets Per Second (thousand)=1<br>Time (usecs)=%{x}<br>Number of Soft IRQs=%{y}<extra></extra>",
         "legendgroup": "1",
         "marker": {
          "color": "#B6E880",
          "pattern": {
           "shape": ""
          }
         },
         "name": "1",
         "offsetgroup": "1",
         "orientation": "v",
         "showlegend": true,
         "textposition": "auto",
         "type": "bar",
         "x": [
          "0-1",
          "2-3",
          "4-7",
          "8-15",
          "16-31",
          "0-1",
          "2-3",
          "4-7",
          "8-15",
          "16-31",
          "32-63",
          "0-1",
          "2-3",
          "4-7",
          "8-15",
          "16-31",
          "32-63",
          "0-1",
          "2-3",
          "4-7",
          "8-15",
          "16-31",
          "32-63",
          "64-127",
          "128-255",
          "0-1",
          "2-3",
          "4-7",
          "8-15",
          "16-31",
          "0-1",
          "2-3",
          "4-7",
          "8-15",
          "16-31",
          "0-1",
          "2-3",
          "4-7",
          "8-15",
          "16-31",
          "32-63"
         ],
         "xaxis": "x",
         "y": [
          3,
          0,
          0,
          0,
          7,
          438,
          38,
          61,
          22,
          4,
          3,
          248,
          1607,
          1484,
          504,
          54,
          1,
          154738,
          225484,
          7171,
          196301,
          37608,
          103149,
          28821,
          2,
          654481,
          770,
          3,
          65,
          20,
          0,
          6,
          1,
          15,
          34,
          15,
          162,
          859,
          299,
          54,
          7
         ],
         "yaxis": "y"
        },
        {
         "alignmentgroup": "True",
         "hovertemplate": "Packets Per Second (thousand)=400<br>Time (usecs)=%{x}<br>Number of Soft IRQs=%{y}<extra></extra>",
         "legendgroup": "400",
         "marker": {
          "color": "#FF97FF",
          "pattern": {
           "shape": ""
          }
         },
         "name": "400",
         "offsetgroup": "400",
         "orientation": "v",
         "showlegend": true,
         "textposition": "auto",
         "type": "bar",
         "x": [
          "0-1",
          "2-3",
          "4-7",
          "8-15",
          "16-31",
          "32-63",
          "64-127",
          "128-255",
          "0-1",
          "2-3",
          "4-7",
          "8-15",
          "16-31",
          "0-1",
          "2-3",
          "4-7",
          "8-15",
          "16-31",
          "32-63",
          "0-1",
          "2-3",
          "4-7",
          "8-15",
          "16-31",
          "0-1",
          "2-3",
          "4-7",
          "8-15",
          "16-31",
          "32-63",
          "0-1",
          "2-3",
          "4-7",
          "8-15",
          "16-31",
          "0-1",
          "2-3",
          "4-7",
          "8-15",
          "16-31",
          "32-63"
         ],
         "xaxis": "x",
         "y": [
          66152,
          208258,
          63333,
          178388,
          43227,
          103345,
          25441,
          2,
          603871,
          1052,
          6,
          58,
          20,
          382,
          1490,
          1607,
          458,
          79,
          4,
          5,
          0,
          2,
          0,
          8,
          537,
          41,
          55,
          25,
          6,
          2,
          0,
          0,
          2,
          9,
          39,
          36,
          281,
          849,
          234,
          65,
          5
         ],
         "yaxis": "y"
        }
       ],
       "layout": {
        "barmode": "group",
        "legend": {
         "title": {
          "text": "Packets Per Second (thousand)"
         },
         "tracegroupgap": 0
        },
        "template": {
         "data": {
          "bar": [
           {
            "error_x": {
             "color": "#2a3f5f"
            },
            "error_y": {
             "color": "#2a3f5f"
            },
            "marker": {
             "line": {
              "color": "#E5ECF6",
              "width": 0.5
             },
             "pattern": {
              "fillmode": "overlay",
              "size": 10,
              "solidity": 0.2
             }
            },
            "type": "bar"
           }
          ],
          "barpolar": [
           {
            "marker": {
             "line": {
              "color": "#E5ECF6",
              "width": 0.5
             },
             "pattern": {
              "fillmode": "overlay",
              "size": 10,
              "solidity": 0.2
             }
            },
            "type": "barpolar"
           }
          ],
          "carpet": [
           {
            "aaxis": {
             "endlinecolor": "#2a3f5f",
             "gridcolor": "white",
             "linecolor": "white",
             "minorgridcolor": "white",
             "startlinecolor": "#2a3f5f"
            },
            "baxis": {
             "endlinecolor": "#2a3f5f",
             "gridcolor": "white",
             "linecolor": "white",
             "minorgridcolor": "white",
             "startlinecolor": "#2a3f5f"
            },
            "type": "carpet"
           }
          ],
          "choropleth": [
           {
            "colorbar": {
             "outlinewidth": 0,
             "ticks": ""
            },
            "type": "choropleth"
           }
          ],
          "contour": [
           {
            "colorbar": {
             "outlinewidth": 0,
             "ticks": ""
            },
            "colorscale": [
             [
              0,
              "#0d0887"
             ],
             [
              0.1111111111111111,
              "#46039f"
             ],
             [
              0.2222222222222222,
              "#7201a8"
             ],
             [
              0.3333333333333333,
              "#9c179e"
             ],
             [
              0.4444444444444444,
              "#bd3786"
             ],
             [
              0.5555555555555556,
              "#d8576b"
             ],
             [
              0.6666666666666666,
              "#ed7953"
             ],
             [
              0.7777777777777778,
              "#fb9f3a"
             ],
             [
              0.8888888888888888,
              "#fdca26"
             ],
             [
              1,
              "#f0f921"
             ]
            ],
            "type": "contour"
           }
          ],
          "contourcarpet": [
           {
            "colorbar": {
             "outlinewidth": 0,
             "ticks": ""
            },
            "type": "contourcarpet"
           }
          ],
          "heatmap": [
           {
            "colorbar": {
             "outlinewidth": 0,
             "ticks": ""
            },
            "colorscale": [
             [
              0,
              "#0d0887"
             ],
             [
              0.1111111111111111,
              "#46039f"
             ],
             [
              0.2222222222222222,
              "#7201a8"
             ],
             [
              0.3333333333333333,
              "#9c179e"
             ],
             [
              0.4444444444444444,
              "#bd3786"
             ],
             [
              0.5555555555555556,
              "#d8576b"
             ],
             [
              0.6666666666666666,
              "#ed7953"
             ],
             [
              0.7777777777777778,
              "#fb9f3a"
             ],
             [
              0.8888888888888888,
              "#fdca26"
             ],
             [
              1,
              "#f0f921"
             ]
            ],
            "type": "heatmap"
           }
          ],
          "heatmapgl": [
           {
            "colorbar": {
             "outlinewidth": 0,
             "ticks": ""
            },
            "colorscale": [
             [
              0,
              "#0d0887"
             ],
             [
              0.1111111111111111,
              "#46039f"
             ],
             [
              0.2222222222222222,
              "#7201a8"
             ],
             [
              0.3333333333333333,
              "#9c179e"
             ],
             [
              0.4444444444444444,
              "#bd3786"
             ],
             [
              0.5555555555555556,
              "#d8576b"
             ],
             [
              0.6666666666666666,
              "#ed7953"
             ],
             [
              0.7777777777777778,
              "#fb9f3a"
             ],
             [
              0.8888888888888888,
              "#fdca26"
             ],
             [
              1,
              "#f0f921"
             ]
            ],
            "type": "heatmapgl"
           }
          ],
          "histogram": [
           {
            "marker": {
             "pattern": {
              "fillmode": "overlay",
              "size": 10,
              "solidity": 0.2
             }
            },
            "type": "histogram"
           }
          ],
          "histogram2d": [
           {
            "colorbar": {
             "outlinewidth": 0,
             "ticks": ""
            },
            "colorscale": [
             [
              0,
              "#0d0887"
             ],
             [
              0.1111111111111111,
              "#46039f"
             ],
             [
              0.2222222222222222,
              "#7201a8"
             ],
             [
              0.3333333333333333,
              "#9c179e"
             ],
             [
              0.4444444444444444,
              "#bd3786"
             ],
             [
              0.5555555555555556,
              "#d8576b"
             ],
             [
              0.6666666666666666,
              "#ed7953"
             ],
             [
              0.7777777777777778,
              "#fb9f3a"
             ],
             [
              0.8888888888888888,
              "#fdca26"
             ],
             [
              1,
              "#f0f921"
             ]
            ],
            "type": "histogram2d"
           }
          ],
          "histogram2dcontour": [
           {
            "colorbar": {
             "outlinewidth": 0,
             "ticks": ""
            },
            "colorscale": [
             [
              0,
              "#0d0887"
             ],
             [
              0.1111111111111111,
              "#46039f"
             ],
             [
              0.2222222222222222,
              "#7201a8"
             ],
             [
              0.3333333333333333,
              "#9c179e"
             ],
             [
              0.4444444444444444,
              "#bd3786"
             ],
             [
              0.5555555555555556,
              "#d8576b"
             ],
             [
              0.6666666666666666,
              "#ed7953"
             ],
             [
              0.7777777777777778,
              "#fb9f3a"
             ],
             [
              0.8888888888888888,
              "#fdca26"
             ],
             [
              1,
              "#f0f921"
             ]
            ],
            "type": "histogram2dcontour"
           }
          ],
          "mesh3d": [
           {
            "colorbar": {
             "outlinewidth": 0,
             "ticks": ""
            },
            "type": "mesh3d"
           }
          ],
          "parcoords": [
           {
            "line": {
             "colorbar": {
              "outlinewidth": 0,
              "ticks": ""
             }
            },
            "type": "parcoords"
           }
          ],
          "pie": [
           {
            "automargin": true,
            "type": "pie"
           }
          ],
          "scatter": [
           {
            "marker": {
             "colorbar": {
              "outlinewidth": 0,
              "ticks": ""
             }
            },
            "type": "scatter"
           }
          ],
          "scatter3d": [
           {
            "line": {
             "colorbar": {
              "outlinewidth": 0,
              "ticks": ""
             }
            },
            "marker": {
             "colorbar": {
              "outlinewidth": 0,
              "ticks": ""
             }
            },
            "type": "scatter3d"
           }
          ],
          "scattercarpet": [
           {
            "marker": {
             "colorbar": {
              "outlinewidth": 0,
              "ticks": ""
             }
            },
            "type": "scattercarpet"
           }
          ],
          "scattergeo": [
           {
            "marker": {
             "colorbar": {
              "outlinewidth": 0,
              "ticks": ""
             }
            },
            "type": "scattergeo"
           }
          ],
          "scattergl": [
           {
            "marker": {
             "colorbar": {
              "outlinewidth": 0,
              "ticks": ""
             }
            },
            "type": "scattergl"
           }
          ],
          "scattermapbox": [
           {
            "marker": {
             "colorbar": {
              "outlinewidth": 0,
              "ticks": ""
             }
            },
            "type": "scattermapbox"
           }
          ],
          "scatterpolar": [
           {
            "marker": {
             "colorbar": {
              "outlinewidth": 0,
              "ticks": ""
             }
            },
            "type": "scatterpolar"
           }
          ],
          "scatterpolargl": [
           {
            "marker": {
             "colorbar": {
              "outlinewidth": 0,
              "ticks": ""
             }
            },
            "type": "scatterpolargl"
           }
          ],
          "scatterternary": [
           {
            "marker": {
             "colorbar": {
              "outlinewidth": 0,
              "ticks": ""
             }
            },
            "type": "scatterternary"
           }
          ],
          "surface": [
           {
            "colorbar": {
             "outlinewidth": 0,
             "ticks": ""
            },
            "colorscale": [
             [
              0,
              "#0d0887"
             ],
             [
              0.1111111111111111,
              "#46039f"
             ],
             [
              0.2222222222222222,
              "#7201a8"
             ],
             [
              0.3333333333333333,
              "#9c179e"
             ],
             [
              0.4444444444444444,
              "#bd3786"
             ],
             [
              0.5555555555555556,
              "#d8576b"
             ],
             [
              0.6666666666666666,
              "#ed7953"
             ],
             [
              0.7777777777777778,
              "#fb9f3a"
             ],
             [
              0.8888888888888888,
              "#fdca26"
             ],
             [
              1,
              "#f0f921"
             ]
            ],
            "type": "surface"
           }
          ],
          "table": [
           {
            "cells": {
             "fill": {
              "color": "#EBF0F8"
             },
             "line": {
              "color": "white"
             }
            },
            "header": {
             "fill": {
              "color": "#C8D4E3"
             },
             "line": {
              "color": "white"
             }
            },
            "type": "table"
           }
          ]
         },
         "layout": {
          "annotationdefaults": {
           "arrowcolor": "#2a3f5f",
           "arrowhead": 0,
           "arrowwidth": 1
          },
          "autotypenumbers": "strict",
          "coloraxis": {
           "colorbar": {
            "outlinewidth": 0,
            "ticks": ""
           }
          },
          "colorscale": {
           "diverging": [
            [
             0,
             "#8e0152"
            ],
            [
             0.1,
             "#c51b7d"
            ],
            [
             0.2,
             "#de77ae"
            ],
            [
             0.3,
             "#f1b6da"
            ],
            [
             0.4,
             "#fde0ef"
            ],
            [
             0.5,
             "#f7f7f7"
            ],
            [
             0.6,
             "#e6f5d0"
            ],
            [
             0.7,
             "#b8e186"
            ],
            [
             0.8,
             "#7fbc41"
            ],
            [
             0.9,
             "#4d9221"
            ],
            [
             1,
             "#276419"
            ]
           ],
           "sequential": [
            [
             0,
             "#0d0887"
            ],
            [
             0.1111111111111111,
             "#46039f"
            ],
            [
             0.2222222222222222,
             "#7201a8"
            ],
            [
             0.3333333333333333,
             "#9c179e"
            ],
            [
             0.4444444444444444,
             "#bd3786"
            ],
            [
             0.5555555555555556,
             "#d8576b"
            ],
            [
             0.6666666666666666,
             "#ed7953"
            ],
            [
             0.7777777777777778,
             "#fb9f3a"
            ],
            [
             0.8888888888888888,
             "#fdca26"
            ],
            [
             1,
             "#f0f921"
            ]
           ],
           "sequentialminus": [
            [
             0,
             "#0d0887"
            ],
            [
             0.1111111111111111,
             "#46039f"
            ],
            [
             0.2222222222222222,
             "#7201a8"
            ],
            [
             0.3333333333333333,
             "#9c179e"
            ],
            [
             0.4444444444444444,
             "#bd3786"
            ],
            [
             0.5555555555555556,
             "#d8576b"
            ],
            [
             0.6666666666666666,
             "#ed7953"
            ],
            [
             0.7777777777777778,
             "#fb9f3a"
            ],
            [
             0.8888888888888888,
             "#fdca26"
            ],
            [
             1,
             "#f0f921"
            ]
           ]
          },
          "colorway": [
           "#636efa",
           "#EF553B",
           "#00cc96",
           "#ab63fa",
           "#FFA15A",
           "#19d3f3",
           "#FF6692",
           "#B6E880",
           "#FF97FF",
           "#FECB52"
          ],
          "font": {
           "color": "#2a3f5f"
          },
          "geo": {
           "bgcolor": "white",
           "lakecolor": "white",
           "landcolor": "#E5ECF6",
           "showlakes": true,
           "showland": true,
           "subunitcolor": "white"
          },
          "hoverlabel": {
           "align": "left"
          },
          "hovermode": "closest",
          "mapbox": {
           "style": "light"
          },
          "paper_bgcolor": "white",
          "plot_bgcolor": "#E5ECF6",
          "polar": {
           "angularaxis": {
            "gridcolor": "white",
            "linecolor": "white",
            "ticks": ""
           },
           "bgcolor": "#E5ECF6",
           "radialaxis": {
            "gridcolor": "white",
            "linecolor": "white",
            "ticks": ""
           }
          },
          "scene": {
           "xaxis": {
            "backgroundcolor": "#E5ECF6",
            "gridcolor": "white",
            "gridwidth": 2,
            "linecolor": "white",
            "showbackground": true,
            "ticks": "",
            "zerolinecolor": "white"
           },
           "yaxis": {
            "backgroundcolor": "#E5ECF6",
            "gridcolor": "white",
            "gridwidth": 2,
            "linecolor": "white",
            "showbackground": true,
            "ticks": "",
            "zerolinecolor": "white"
           },
           "zaxis": {
            "backgroundcolor": "#E5ECF6",
            "gridcolor": "white",
            "gridwidth": 2,
            "linecolor": "white",
            "showbackground": true,
            "ticks": "",
            "zerolinecolor": "white"
           }
          },
          "shapedefaults": {
           "line": {
            "color": "#2a3f5f"
           }
          },
          "ternary": {
           "aaxis": {
            "gridcolor": "white",
            "linecolor": "white",
            "ticks": ""
           },
           "baxis": {
            "gridcolor": "white",
            "linecolor": "white",
            "ticks": ""
           },
           "bgcolor": "#E5ECF6",
           "caxis": {
            "gridcolor": "white",
            "linecolor": "white",
            "ticks": ""
           }
          },
          "title": {
           "x": 0.05
          },
          "xaxis": {
           "automargin": true,
           "gridcolor": "white",
           "linecolor": "white",
           "ticks": "",
           "title": {
            "standoff": 15
           },
           "zerolinecolor": "white",
           "zerolinewidth": 2
          },
          "yaxis": {
           "automargin": true,
           "gridcolor": "white",
           "linecolor": "white",
           "ticks": "",
           "title": {
            "standoff": 15
           },
           "zerolinecolor": "white",
           "zerolinewidth": 2
          }
         }
        },
        "title": {
         "text": "The number of SOFTIRQ per duration distribution"
        },
        "xaxis": {
         "anchor": "y",
         "domain": [
          0,
          1
         ],
         "title": {
          "text": "Time (usecs)"
         }
        },
        "yaxis": {
         "anchor": "x",
         "domain": [
          0,
          1
         ],
         "title": {
          "text": "Number of Soft IRQs"
         }
        }
       }
      }
     },
     "metadata": {},
     "output_type": "display_data"
    }
   ],
   "source": [
    "softirqs_dist_df = spark.read.option(\"basePath\", \"../ansible/.results\").json(\n",
    "\"../ansible/.results/kpps=*/tool=softirqs-dist\").select(\n",
    "    \"kpps\", \"ts\", \"val_type\", \"tool\",\n",
    "    explode(\"data\").alias(\"dataExplode\")\n",
    ").select(col(\"kpps\").cast(StringType()), \"ts\", \"val_type\", \"tool\", \"dataExplode.*\", concat_ws('-',col('dataExplode.interval-start'),col('dataExplode.interval-end')).alias(\"interval\"))\n",
    "# print(df.rdd.getNumPartitions())\n",
    "softirqs_dist_df.printSchema()\n",
    "import plotly.express as px\n",
    "# softirqs_dist_df = softirqs_dist_df.select(\"*\", concat_ws(' - ',col('interval-start'),col('interval-end')).alias(\"interval\"))\n",
    "softirqs_dist_fig = px.bar(softirqs_dist_df.toPandas(), x=\"interval\", y=\"count\", color=\"kpps\", barmode=\"group\",\n",
    "        title=\"The number of SOFTIRQ per duration distribution\",\n",
    "        labels={\n",
    "                    \"kpps\": \"Packets Per Second (thousand)\",\n",
    "                    \"count\": \"Number of Soft IRQs\",\n",
    "                    \"interval\": \"Time (usecs)\"\n",
    "                })\n",
    "softirqs_dist_fig.show()\n",
    "softirqs_dist_fig.write_image(\"images/softirqs-dist.jpeg\")\n",
    "with open(html_output_file, 'a') as f:\n",
    "    f.write(softirqs_dist_fig.to_html(full_html=False, include_plotlyjs='cdn'))"
   ]
  },
  {
   "cell_type": "code",
   "execution_count": 27,
   "metadata": {},
   "outputs": [],
   "source": [
    "with open(html_output_file, 'a') as f:\n",
    "    f.write('<h2 id=\"flame-graphs\"> Flame Graphs for analysing code paths </h2>')"
   ]
  },
  {
   "cell_type": "code",
   "execution_count": 28,
   "metadata": {},
   "outputs": [],
   "source": [
    "import base64\n",
    "\n",
    "file_list = glob.glob('../ansible/.results/kpps=*/tool=profile/*.txt')\n",
    "with open(html_output_file, 'a') as f:\n",
    "    f.write('<div id=\"profile\">')\n",
    "    for file in file_list:\n",
    "        try:\n",
    "            kpps = re.search('../ansible/.results/kpps=(.+?)/tool=profile/(.+?).txt', file).group(1)\n",
    "            os.system(\"../FlameGraph/flamegraph.pl --color=java --title='On-CPU Time Flame Graph for {} kpps' < {} > images/{}kpps_profile.svg\".format(kpps, file, kpps))\n",
    "            with open(\"images/{}kpps_profile.svg\".format(kpps), \"rb\") as image_file:\n",
    "                kpps_profile = str(base64.b64encode(image_file.read()),'utf-8')\n",
    "                f.write('<img id=\"1kpps_profile\" src=\"data:image/svg+xml;base64,{}\" />'.format(kpps_profile))\n",
    "        except AttributeError:\n",
    "            print(\"Error creating profile svg files\")\n",
    "\n",
    "    f.write('</div>')\n",
    "\n"
   ]
  },
  {
   "cell_type": "code",
   "execution_count": 29,
   "metadata": {},
   "outputs": [],
   "source": [
    "with open(html_output_file, 'a') as f:\n",
    "    f.write('<div id=\"offcputime\">')\n",
    "    file_list = glob.glob('../ansible/.results/kpps=*/tool=offcputime/*.txt')\n",
    "    for file in file_list:\n",
    "        try:\n",
    "            kpps = re.search('../ansible/.results/kpps=(.+?)/tool=offcputime/(.+?).txt', file).group(1)\n",
    "            os.system(\"../FlameGraph/flamegraph.pl --hash --bgcolors=blue --title='Off-CPU Time Flame Graph for {} kpps' < {} > images/{}kpps_offcputime.svg\".format(kpps, file, kpps))\n",
    "            with open(\"images/{}kpps_offcputime.svg\".format(kpps), \"rb\") as image_file:\n",
    "                kpps_offcputime = str(base64.b64encode(image_file.read()),'utf-8')\n",
    "                f.write('<img src=\"data:image/svg+xml;base64,{}\" />'.format(kpps_offcputime))\n",
    "        except AttributeError:\n",
    "            print(\"Error creating offcputime svg files\")\n",
    "    f.write('</div>')"
   ]
  },
  {
   "cell_type": "code",
   "execution_count": 30,
   "metadata": {},
   "outputs": [],
   "source": [
    "\n",
    "file_list = glob.glob('../ansible/.results/kpps=*/tool=page_fault-user/*.txt')\n",
    "with open(html_output_file, 'a') as f:\n",
    "    f.write('<div id=\"page_fault-user\">')\n",
    "    for file in file_list:\n",
    "        try:\n",
    "            kpps = re.search('../ansible/.results/kpps=(.+?)/tool=page_fault-user/(.+?).txt', file).group(1)\n",
    "            os.system(\"../FlameGraph/flamegraph.pl --hash --width=800 --title='Page Fault Flame Graph for {} kpps' --colors=java --bgcolor=green < {} > images/{}kpps_page_fault-user.svg\".format(kpps, file, kpps))\n",
    "            with open(\"images/{}kpps_page_fault-user.svg\".format(kpps), \"rb\") as image_file:\n",
    "                kpps_page_fault_user = str(base64.b64encode(image_file.read()),'utf-8')\n",
    "                f.write('<img src=\"data:image/svg+xml;base64,{}\" />'.format(kpps_page_fault_user))\n",
    "        except AttributeError:\n",
    "            print(\"Error creating page_fault-user svg files\")\n",
    "    f.write('</div>')"
   ]
  },
  {
   "cell_type": "code",
   "execution_count": 31,
   "metadata": {},
   "outputs": [],
   "source": [
    "file_list = glob.glob('../ansible/.results/kpps=*/tool=page_fault-kernel/*.txt')\n",
    "with open(html_output_file, 'a') as f:\n",
    "    f.write('<div id=\"page_fault-kernel\">')\n",
    "    for file in file_list:\n",
    "        try:\n",
    "            kpps = re.search('../ansible/.results/kpps=(.+?)/tool=page_fault-kernel/(.+?).txt', file).group(1)\n",
    "            os.system(\"../FlameGraph/flamegraph.pl --hash --width=800 --title='Kernel Page Fault Flame Graph for {} kpps' --colors=java --bgcolor=green < {} > images/{}kpps_page_fault-kernel.svg\".format(kpps, file, kpps))\n",
    "            with open(\"images/{}kpps_page_fault-kernel.svg\".format(kpps), \"rb\") as image_file:\n",
    "                kpps_page_fault_kernel = str(base64.b64encode(image_file.read()),'utf-8')\n",
    "                f.write('<img src=\"data:image/svg+xml;base64,{}\" />'.format(kpps_page_fault_kernel))\n",
    "        except AttributeError:\n",
    "            print(\"Error creating page_fault-kernel svg files\")\n",
    "    f.write('</div>')"
   ]
  },
  {
   "cell_type": "code",
   "execution_count": 32,
   "metadata": {},
   "outputs": [],
   "source": [
    "# import base64\n",
    "\n",
    "# with open('images/1kpps_profile.svg', \"rb\") as image_file:\n",
    "#     kpps_profile = str(base64.b64encode(image_file.read()),'utf-8')\n",
    "\n",
    "# with open('p_graph.html', 'a') as f:\n",
    "#     f.write('<h1>Open GiLAN Testbed Results</h1>')\n",
    "#     f.write('<div><a href=\"#1kpps_profile\">See code path</a></div>')\n",
    "#     f.write('<img id=\"1kpps_profile\" src=\"data:image/svg+xml;base64,{}\" />'.format(kpps_profile))\n",
    "#     f.write(biolatency_fig.to_html(full_html=False, include_plotlyjs='cdn'))\n",
    "#     f.write(skblife_fig.to_html(full_html=False, include_plotlyjs='cdn'))\n",
    "#     f.write(filetop_read_fig.to_html(full_html=False, include_plotlyjs='cdn'))\n",
    "#     f.write(filetop_write_fig.to_html(full_html=False, include_plotlyjs='cdn'))\n",
    "#     f.write(netsize_fig.to_html(full_html=False, include_plotlyjs='cdn'))\n",
    "#     f.write(runqlat_fig.to_html(full_html=False, include_plotlyjs='cdn'))\n",
    "#     f.write(cachestat_fig.to_html(full_html=False, include_plotlyjs='cdn'))\n",
    "#     f.write(sormem_fig.to_html(full_html=False, include_plotlyjs='cdn'))\n",
    "#     f.write(vfsstat_fig.to_html(full_html=False, include_plotlyjs='cdn'))\n",
    "#     f.write(hardirqs_count_fig.to_html(full_html=False, include_plotlyjs='cdn'))\n",
    "#     f.write(hardirqs_dist_fig.to_html(full_html=False, include_plotlyjs='cdn'))\n",
    "#     f.write(softirqs_count_fig.to_html(full_html=False, include_plotlyjs='cdn'))\n",
    "#     f.write(softirqs_dist_fig.to_html(full_html=False, include_plotlyjs='cdn'))\n",
    "#     f.write(nettxlat_fig.to_html(full_html=False, include_plotlyjs='cdn'))\n",
    "#     f.write(vfsstat_fig.to_html(full_html=False, include_plotlyjs='cdn'))\n",
    "#     f.write(vfssize_fig_1.to_html(full_html=False, include_plotlyjs='cdn'))\n",
    "#     f.write(vfssize_fig_2.to_html(full_html=False, include_plotlyjs='cdn'))\n",
    "#     f.write(vfssize_fig_3.to_html(full_html=False, include_plotlyjs='cdn'))\n",
    "#     f.write(sys_enter_brk_fig.to_html(full_html=False, include_plotlyjs='cdn'))\n",
    "    # f.write(vfsstat_fig.to_html(full_html=False, include_plotlyjs='cdn'))"
   ]
  }
 ],
 "metadata": {
  "interpreter": {
   "hash": "cb9c01251a6b5cf58836c259c538b5dde6512319ef3f5f95bc6e9f7b332cfcb3"
  },
  "kernelspec": {
   "display_name": "Python 3.8.2 64-bit ('.venv': venv)",
   "language": "python",
   "name": "python3"
  },
  "language_info": {
   "codemirror_mode": {
    "name": "ipython",
    "version": 3
   },
   "file_extension": ".py",
   "mimetype": "text/x-python",
   "name": "python",
   "nbconvert_exporter": "python",
   "pygments_lexer": "ipython3",
   "version": "3.8.2"
  },
  "orig_nbformat": 4
 },
 "nbformat": 4,
 "nbformat_minor": 2
}
