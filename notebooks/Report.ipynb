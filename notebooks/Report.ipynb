{
 "cells": [
  {
   "cell_type": "code",
   "execution_count": 2,
   "metadata": {},
   "outputs": [
    {
     "name": "stderr",
     "output_type": "stream",
     "text": [
      "22/09/17 16:31:59 WARN Utils: Your hostname, tariro-ThinkPad-T440p resolves to a loopback address: 127.0.1.1; using 192.168.1.153 instead (on interface wlp4s0)\n",
      "22/09/17 16:31:59 WARN Utils: Set SPARK_LOCAL_IP if you need to bind to another address\n",
      "WARNING: An illegal reflective access operation has occurred\n",
      "WARNING: Illegal reflective access by org.apache.spark.unsafe.Platform (file:/opt/spark/jars/spark-unsafe_2.12-3.2.2.jar) to constructor java.nio.DirectByteBuffer(long,int)\n",
      "WARNING: Please consider reporting this to the maintainers of org.apache.spark.unsafe.Platform\n",
      "WARNING: Use --illegal-access=warn to enable warnings of further illegal reflective access operations\n",
      "WARNING: All illegal access operations will be denied in a future release\n",
      "Using Spark's default log4j profile: org/apache/spark/log4j-defaults.properties\n",
      "Setting default log level to \"WARN\".\n",
      "To adjust logging level use sc.setLogLevel(newLevel). For SparkR, use setLogLevel(newLevel).\n",
      "22/09/17 16:32:00 WARN NativeCodeLoader: Unable to load native-hadoop library for your platform... using builtin-java classes where applicable\n",
      "/home/tariro/.local/lib/python3.10/site-packages/pyspark/sql/context.py:77: FutureWarning: Deprecated in 3.0.0. Use SparkSession.builder.getOrCreate() instead.\n",
      "  warnings.warn(\n"
     ]
    }
   ],
   "source": [
    "# configure spark variables\n",
    "from pyspark.context import SparkContext\n",
    "from pyspark.sql.context import SQLContext\n",
    "from pyspark.sql.session import SparkSession\n",
    "from pyspark.sql.functions import *\n",
    "from pyspark.sql.types import *\n",
    "    \n",
    "sc = SparkContext()\n",
    "sqlContext = SQLContext(sc)\n",
    "spark = SparkSession(sc)\n",
    "\n",
    "# load up other dependencies\n",
    "import re\n",
    "import pandas as pd\n",
    "\n",
    "import glob\n",
    "import matplotlib.pyplot as plt\n",
    "import numpy as np"
   ]
  },
  {
   "cell_type": "code",
   "execution_count": 4,
   "metadata": {},
   "outputs": [],
   "source": [
    "import os\n",
    "if not os.path.exists(\"images\"):\n",
    "    os.mkdir(\"images\")\n",
    "\n",
    "import os\n",
    "import glob\n",
    "import plotly.express as px\n",
    "from plotly.subplots import make_subplots\n",
    "from pyspark.sql.types import StructType,StructField, StringType, IntegerType"
   ]
  },
  {
   "cell_type": "code",
   "execution_count": 6,
   "metadata": {},
   "outputs": [],
   "source": [
    "html_output_file = '../index.html'\n",
    "with open(html_output_file, 'w') as f:\n",
    "    f.write('<h1>Open GiLAN Testbed Results</h1>')\n",
    "    f.write('<h3> The graphs summaries the NFV performance metrics<h3>')\n",
    "    f.write('<h4> CPU  <h4>')\n",
    "    f.write('<h5><a href=\"#cpu-metrics\"> Skip to results </a></h5>')\n",
    "    f.write('<p> The CPU is responsible for executing all workloads on the NFV. Like other resources, the CPU is managed by the kernel. The user-level applications access CPU resources by sending system calls to the kernel. The kernel also receives other system call requests from different processes; memory loads and stores can issue page faults system calls. The primary consumers of CPU resources are threads (also called tasks), which belong to procedures, kernel routines and interrupt routes. The kernel manages the sharing via a CPU scheduler.</p>')\n",
    "    f.write('<p> There are three thread states: ON-PROC for threads running on a CPU, RUNNABLE for threads that could run but are waiting their turn, and SLEEP for blocked lines on another event, including uninterruptible waits. These can be categorised into two for more accessible analysis, on-CPU referring to ON-PROC, and off-CPU referring to all other states, where the thread is not running on a CPU. Lines leave the CPU in one of two ways: (1) voluntary if they block on I/O, a lock, or asleep, or (2) involuntary if they have exceeded their scheduled allocation of CPU time. When a CPU switches from running one process or thread to another, it switches address spaces and other metadata. This process is called context switching; it also consumes the CPU resources. All these processes, described, in general, consume the CPU time. In addition to the time, another CPU resource used by the methods, kernel routines and interrupts routines is the CPU cache.</p>')\n",
    "    f.write('<p> There are typically multiple levels of CPU cache, increasing in both size and latency. The caches end with the last-level store (LLC), large (Mbytes) and slower. On a processor with three levels of supplies, the LLC is also the Level 3 cache. Processes are instructions to be interpreted and run by the CPU. This set of instructions is typically loaded from RAM and cached into the CPU cache for faster access. The CPU first checks the lower cache, i.e., L1 cache. If the CPU finds the data, this is called a hit. If the CPU does not see the data, it looks for it in L2 and then L3. If the CPU does not find the data in any memory caches, it can access it from your system memory (RAM). When that happens, it is known as a cache miss. In general, a cache miss means high latency, i.e., the time needed to access data from memory. </p>')\n",
    "\n",
    "    f.write('<h4> Memory <h4>')\n",
    "    f.write('<h5><a href=\"#memory-metrics\"> Skip to results </a> </h5>')\n",
    "    f.write('<p> The kernel and processor are responsible for mapping the virtual memory to physical memory. For efficiency, memory mappings are created in groups of memory called <em>pages</em>. When an application starts, it begins with a request for memory allocation. In the case that there is no free memory on the heap, the syscall <em>brk()</em> is issued to extend the size of the bank. However, if there is free memory on the heap, a new memory segment is created via the <em>mmap()</em> syscall. Initially, this virtual memory mapping does not have a corresponding physical memory allocation. Therefore when the application tries to access this allocated memory segment, the error called <em>page fault</em> occurs on the MMU. The kernel then handles the page fault, mapping from the virtual to physical memory. The amount of physical memory allocated to a process is called resident set size (RSS). When there is too much memory demand on the system, the kernel page-out daemon (kswapd) may look for memory pages to free. Three types of pages can be released in their order: pages that we read but not modified (backed by disk) these can be immediately rid, pages that have been modified (dirty) these need to be written to disk before they can be freed and pages of application memory (anonymous) these must be stored on a swap device before they can be released. kswapd, a page-out daemon, runs periodically to scan for inactive and active pages with no memory to free. It is woken up when free memory crosses a low threshold and goes back to sleep when it crosses a high threshold. Swapping usually causes applications to run much more slowly.</p>')\n",
    "\n",
    "    f.write('<h4>Filesytem <h4>')\n",
    "    f.write('<h5><a href=\"#filesystem-metrics\"> Skip to results </a> </h5>')\n",
    "    f.write('<p> The file system that applications usually interact with directly and file systems can use caching, read-ahead, buffering, and asynchronous I/O to avoid exposing disk I/O latency to the application. Logical I/O describes requests to the file system. If these requests must be served from the storage devices, they become physical I/O. Not all I/O will; many logical read requests may be returned from the file system cache and never become physical I/O. File systems are accessed via a virtual file system (VFS). It provides operations for reading, writing, opening, closing, etc., which are mapped by file systems to their internal functions. Linux uses multiple caches to improve the performance of storage I/O via the file system. These are Page cache: This contains virtual memory pages and enhances the performance of file and directory I/O. Inode cache, which are data structures used by file systems to describe their stored objects. The directory cache caches mappings from directory entry names to VFS inodes, improving the performance of pathname lookups. The page cache grows to be the largest of all these because it caches the contents of files and includes “dirty” pages that have been modified but not yet written to disk.</p>')\n",
    "\n",
    "    f.write('<h4>Disk I/O <h4>')\n",
    "    f.write('<h5><a href=\"#disk-metrics\"> Skip to results </a> </h5>')\n",
    "    f.write('<p> Linux exposes rotational magnetic media, flash-based storage, and network storage as storage devices. Therefore, disk I/O refers to I/O operations on these devices. Disk I/O is a common source of performance issues because I/O latency on storage devices is orders of magnitude slower than the nanosecond or microsecond speed of CPU and memory operations. Block I/O refers to device access in blocks. I/O is queued and scheduled in the block layer. The wait time is spent in the block layer scheduler queues and device dispatcher queues from the operating system. Service time is the time from device issue to completion. This may include the time spent waiting in an on-device line. Request time is the overall time from when an I/O was inserted into the OS queues to its completion. The request time matters the most, as that is the time that applications must wait if I/O is synchronous.</p>')\n",
    "\n",
    "    f.write('<h4>Networking<h4>')\n",
    "    f.write('<h5><a href=\"#networking-metrics\"> Skip to results </a> </h5>')\n",
    "    f.write('<p> Networking is a complex part of the Linux system. It involves many different layers and protocols, including the application, protocol libraries, syscalls, TCP or UDP, IP, and device drivers for the network interface. In general, the Networking system can be broken down into four. The NIC and Device Driver Processing first reads packets from the NIC and puts them into kernel buffers. Besides the NIC and Device driver, this process includes the DMA and particular memory regions on the RAM for storing receive and transmit packets called rings and the NAPI system for poling packets from these rings to the kernel buffers. It also incorporates some early packet processing hooks like XDP and AF\\_XDP and can have custom drivers that bypass the kernel (i.e., the following two processes) like DPDK. Following is the Socket processing. This part also includes queuing and different queuing disciplines. It also incorporates some packet processing hooks like TC, Netfilter etc., which can alter the flow of the networking stack. After that is the  Protocol processing layer, which applies functions for different IP and transport protocols, both these protocols run under the context of SoftIrq. Lastly is the application process. The application receives and sends packets on the destination socket</p>')\n",
    "    \n",
    "    f.write('<h4>Flame Graphs to analyse code paths<h4>')\n",
    "    f.write('<h5><a href=\"#flame-graphs\"> Skip to results </a> </h5>')\n",
    "    f.write('<p> A flame graph visualizes a distributed request trace and represents each service call that occurred during the requests execution path with a timed, color-coded, horizontal bar. Flame graphs for distributed traces include error and latency data to help developers identify and fix bottlenecks in their applications..</p>')"
   ]
  },
  {
   "cell_type": "code",
   "execution_count": 7,
   "metadata": {},
   "outputs": [],
   "source": [
    "with open(html_output_file, 'a') as f:\n",
    "    f.write('<h2 id=\"cpu-metrics\"> CPU Metrics </h2>')\n",
    "    f.write('<p> To analyse the performance of the CPU along with the performance of the processes, kernel routines or interrupt routines, it is essential to look at some key insights from the performance data. Firstly, it is necessary to know <em>the processes that have run and their age/lifespan</em>. This can also be used to identify issues with short-lived processes. After which, it is essential to look at the <em>time each of the methods spends waiting for its turn on the CPU</em>. Given this information, we can also find the time that the processes spend off-CPU either voluntary or involuntary leaving the CPU, lastly in cases where we see performance issues from this data, e.g., a process consuming a lot of time on-CPU or a process spending a lot of time off-CPU. It would be helpful to analyse all <em>code paths that are consuming CPU resources</em> and the <em>code path resulting in the process being off-CPU</em>.</p>')\n",
    "    f.write('<p> As mentioned earlier, another CPU resource outside time is the CPU cache. This can also be a factor for processes with multiple lifespans. To diagnose this, it is essential to get the <em>number of cache misses of the LLC</em> as well as <em>the hit ratios of the LLC</em>. However this two metrics cannot be collected on virtual machines like in the case of Cloud-Based NFVI.  The prototyping system in this study collects, and presents this data, both as summary graphs and raw data from analysis </p>')"
   ]
  },
  {
   "cell_type": "code",
   "execution_count": 8,
   "metadata": {},
   "outputs": [
    {
     "data": {
      "application/vnd.plotly.v1+json": {
       "config": {
        "plotlyServerURL": "https://plot.ly"
       },
       "data": [
        {
         "alignmentgroup": "True",
         "hovertemplate": "Packets Per Second (thousand)=1<br>Latency (usecs)=%{x}<br>Number of Processes=%{y}<extra></extra>",
         "legendgroup": "1",
         "marker": {
          "color": "#0d0887",
          "pattern": {
           "shape": ""
          }
         },
         "name": "1",
         "offsetgroup": "1",
         "orientation": "v",
         "showlegend": true,
         "textposition": "auto",
         "type": "bar",
         "x": [
          "0-1",
          "2-3",
          "4-7",
          "8-15",
          "16-31",
          "32-63",
          "64-127",
          "128-255",
          "256-511",
          "512-1023",
          "1024-2047",
          "2048-4095",
          "4096-8191",
          "8192-16383"
         ],
         "xaxis": "x",
         "y": [
          3621,
          5250,
          7623,
          12810,
          22686,
          28865,
          22385,
          3468,
          834,
          738,
          478,
          339,
          120,
          14
         ],
         "yaxis": "y"
        },
        {
         "alignmentgroup": "True",
         "hovertemplate": "Packets Per Second (thousand)=5<br>Latency (usecs)=%{x}<br>Number of Processes=%{y}<extra></extra>",
         "legendgroup": "5",
         "marker": {
          "color": "#46039f",
          "pattern": {
           "shape": ""
          }
         },
         "name": "5",
         "offsetgroup": "5",
         "orientation": "v",
         "showlegend": true,
         "textposition": "auto",
         "type": "bar",
         "x": [
          "0-1",
          "2-3",
          "4-7",
          "8-15",
          "16-31",
          "32-63",
          "64-127",
          "128-255",
          "256-511",
          "512-1023",
          "1024-2047",
          "2048-4095",
          "4096-8191",
          "8192-16383",
          "16384-32767"
         ],
         "xaxis": "x",
         "y": [
          3627,
          5713,
          9003,
          22771,
          30180,
          22171,
          11253,
          2465,
          822,
          643,
          512,
          285,
          112,
          17,
          1
         ],
         "yaxis": "y"
        },
        {
         "alignmentgroup": "True",
         "hovertemplate": "Packets Per Second (thousand)=10<br>Latency (usecs)=%{x}<br>Number of Processes=%{y}<extra></extra>",
         "legendgroup": "10",
         "marker": {
          "color": "#7201a8",
          "pattern": {
           "shape": ""
          }
         },
         "name": "10",
         "offsetgroup": "10",
         "orientation": "v",
         "showlegend": true,
         "textposition": "auto",
         "type": "bar",
         "x": [
          "0-1",
          "2-3",
          "4-7",
          "8-15",
          "16-31",
          "32-63",
          "64-127",
          "128-255",
          "256-511",
          "512-1023",
          "1024-2047",
          "2048-4095",
          "4096-8191",
          "8192-16383"
         ],
         "xaxis": "x",
         "y": [
          2442,
          4928,
          8124,
          15542,
          27349,
          29351,
          17489,
          2968,
          857,
          669,
          493,
          279,
          141,
          28
         ],
         "yaxis": "y"
        },
        {
         "alignmentgroup": "True",
         "hovertemplate": "Packets Per Second (thousand)=50<br>Latency (usecs)=%{x}<br>Number of Processes=%{y}<extra></extra>",
         "legendgroup": "50",
         "marker": {
          "color": "#9c179e",
          "pattern": {
           "shape": ""
          }
         },
         "name": "50",
         "offsetgroup": "50",
         "orientation": "v",
         "showlegend": true,
         "textposition": "auto",
         "type": "bar",
         "x": [
          "0-1",
          "2-3",
          "4-7",
          "8-15",
          "16-31",
          "32-63",
          "64-127",
          "128-255",
          "256-511",
          "512-1023",
          "1024-2047",
          "2048-4095",
          "4096-8191",
          "8192-16383"
         ],
         "xaxis": "x",
         "y": [
          2974,
          5025,
          7734,
          15491,
          26424,
          25961,
          18343,
          2739,
          842,
          598,
          369,
          279,
          103,
          14
         ],
         "yaxis": "y"
        },
        {
         "alignmentgroup": "True",
         "hovertemplate": "Packets Per Second (thousand)=100<br>Latency (usecs)=%{x}<br>Number of Processes=%{y}<extra></extra>",
         "legendgroup": "100",
         "marker": {
          "color": "#bd3786",
          "pattern": {
           "shape": ""
          }
         },
         "name": "100",
         "offsetgroup": "100",
         "orientation": "v",
         "showlegend": true,
         "textposition": "auto",
         "type": "bar",
         "x": [
          "0-1",
          "2-3",
          "4-7",
          "8-15",
          "16-31",
          "32-63",
          "64-127",
          "128-255",
          "256-511",
          "512-1023",
          "1024-2047",
          "2048-4095",
          "4096-8191",
          "8192-16383",
          "16384-32767"
         ],
         "xaxis": "x",
         "y": [
          2915,
          4701,
          7403,
          14724,
          26507,
          26740,
          19987,
          3538,
          1001,
          786,
          518,
          295,
          143,
          28,
          6
         ],
         "yaxis": "y"
        },
        {
         "alignmentgroup": "True",
         "hovertemplate": "Packets Per Second (thousand)=200<br>Latency (usecs)=%{x}<br>Number of Processes=%{y}<extra></extra>",
         "legendgroup": "200",
         "marker": {
          "color": "#d8576b",
          "pattern": {
           "shape": ""
          }
         },
         "name": "200",
         "offsetgroup": "200",
         "orientation": "v",
         "showlegend": true,
         "textposition": "auto",
         "type": "bar",
         "x": [
          "0-1",
          "2-3",
          "4-7",
          "8-15",
          "16-31",
          "32-63",
          "64-127",
          "128-255",
          "256-511",
          "512-1023",
          "1024-2047",
          "2048-4095",
          "4096-8191",
          "8192-16383",
          "16384-32767"
         ],
         "xaxis": "x",
         "y": [
          3010,
          4956,
          7203,
          12032,
          23953,
          28366,
          23148,
          3805,
          938,
          734,
          503,
          322,
          158,
          26,
          3
         ],
         "yaxis": "y"
        },
        {
         "alignmentgroup": "True",
         "hovertemplate": "Packets Per Second (thousand)=300<br>Latency (usecs)=%{x}<br>Number of Processes=%{y}<extra></extra>",
         "legendgroup": "300",
         "marker": {
          "color": "#ed7953",
          "pattern": {
           "shape": ""
          }
         },
         "name": "300",
         "offsetgroup": "300",
         "orientation": "v",
         "showlegend": true,
         "textposition": "auto",
         "type": "bar",
         "x": [
          "0-1",
          "2-3",
          "4-7",
          "8-15",
          "16-31",
          "32-63",
          "64-127",
          "128-255",
          "256-511",
          "512-1023",
          "1024-2047",
          "2048-4095",
          "4096-8191",
          "8192-16383",
          "16384-32767"
         ],
         "xaxis": "x",
         "y": [
          3263,
          4336,
          5896,
          10728,
          21097,
          28705,
          25580,
          3224,
          955,
          757,
          586,
          412,
          208,
          33,
          5
         ],
         "yaxis": "y"
        },
        {
         "alignmentgroup": "True",
         "hovertemplate": "Packets Per Second (thousand)=400<br>Latency (usecs)=%{x}<br>Number of Processes=%{y}<extra></extra>",
         "legendgroup": "400",
         "marker": {
          "color": "#fb9f3a",
          "pattern": {
           "shape": ""
          }
         },
         "name": "400",
         "offsetgroup": "400",
         "orientation": "v",
         "showlegend": true,
         "textposition": "auto",
         "type": "bar",
         "x": [
          "0-1",
          "2-3",
          "4-7",
          "8-15",
          "16-31",
          "32-63",
          "64-127",
          "128-255",
          "256-511",
          "512-1023",
          "1024-2047",
          "2048-4095",
          "4096-8191",
          "8192-16383",
          "16384-32767",
          "32768-65535"
         ],
         "xaxis": "x",
         "y": [
          4361,
          5388,
          7717,
          16903,
          28834,
          25568,
          14164,
          2975,
          933,
          681,
          482,
          315,
          123,
          15,
          1,
          1
         ],
         "yaxis": "y"
        },
        {
         "alignmentgroup": "True",
         "hovertemplate": "Packets Per Second (thousand)=500<br>Latency (usecs)=%{x}<br>Number of Processes=%{y}<extra></extra>",
         "legendgroup": "500",
         "marker": {
          "color": "#fdca26",
          "pattern": {
           "shape": ""
          }
         },
         "name": "500",
         "offsetgroup": "500",
         "orientation": "v",
         "showlegend": true,
         "textposition": "auto",
         "type": "bar",
         "x": [
          "0-1",
          "2-3",
          "4-7",
          "8-15",
          "16-31",
          "32-63",
          "64-127",
          "128-255",
          "256-511",
          "512-1023",
          "1024-2047",
          "2048-4095",
          "4096-8191",
          "8192-16383",
          "16384-32767"
         ],
         "xaxis": "x",
         "y": [
          4223,
          5459,
          7840,
          14970,
          23208,
          26060,
          19689,
          5824,
          946,
          644,
          478,
          338,
          183,
          29,
          4
         ],
         "yaxis": "y"
        }
       ],
       "layout": {
        "barmode": "group",
        "legend": {
         "title": {
          "text": "Packets Per Second (thousand)"
         },
         "tracegroupgap": 0
        },
        "template": {
         "data": {
          "bar": [
           {
            "error_x": {
             "color": "#2a3f5f"
            },
            "error_y": {
             "color": "#2a3f5f"
            },
            "marker": {
             "line": {
              "color": "#E5ECF6",
              "width": 0.5
             },
             "pattern": {
              "fillmode": "overlay",
              "size": 10,
              "solidity": 0.2
             }
            },
            "type": "bar"
           }
          ],
          "barpolar": [
           {
            "marker": {
             "line": {
              "color": "#E5ECF6",
              "width": 0.5
             },
             "pattern": {
              "fillmode": "overlay",
              "size": 10,
              "solidity": 0.2
             }
            },
            "type": "barpolar"
           }
          ],
          "carpet": [
           {
            "aaxis": {
             "endlinecolor": "#2a3f5f",
             "gridcolor": "white",
             "linecolor": "white",
             "minorgridcolor": "white",
             "startlinecolor": "#2a3f5f"
            },
            "baxis": {
             "endlinecolor": "#2a3f5f",
             "gridcolor": "white",
             "linecolor": "white",
             "minorgridcolor": "white",
             "startlinecolor": "#2a3f5f"
            },
            "type": "carpet"
           }
          ],
          "choropleth": [
           {
            "colorbar": {
             "outlinewidth": 0,
             "ticks": ""
            },
            "type": "choropleth"
           }
          ],
          "contour": [
           {
            "colorbar": {
             "outlinewidth": 0,
             "ticks": ""
            },
            "colorscale": [
             [
              0,
              "#0d0887"
             ],
             [
              0.1111111111111111,
              "#46039f"
             ],
             [
              0.2222222222222222,
              "#7201a8"
             ],
             [
              0.3333333333333333,
              "#9c179e"
             ],
             [
              0.4444444444444444,
              "#bd3786"
             ],
             [
              0.5555555555555556,
              "#d8576b"
             ],
             [
              0.6666666666666666,
              "#ed7953"
             ],
             [
              0.7777777777777778,
              "#fb9f3a"
             ],
             [
              0.8888888888888888,
              "#fdca26"
             ],
             [
              1,
              "#f0f921"
             ]
            ],
            "type": "contour"
           }
          ],
          "contourcarpet": [
           {
            "colorbar": {
             "outlinewidth": 0,
             "ticks": ""
            },
            "type": "contourcarpet"
           }
          ],
          "heatmap": [
           {
            "colorbar": {
             "outlinewidth": 0,
             "ticks": ""
            },
            "colorscale": [
             [
              0,
              "#0d0887"
             ],
             [
              0.1111111111111111,
              "#46039f"
             ],
             [
              0.2222222222222222,
              "#7201a8"
             ],
             [
              0.3333333333333333,
              "#9c179e"
             ],
             [
              0.4444444444444444,
              "#bd3786"
             ],
             [
              0.5555555555555556,
              "#d8576b"
             ],
             [
              0.6666666666666666,
              "#ed7953"
             ],
             [
              0.7777777777777778,
              "#fb9f3a"
             ],
             [
              0.8888888888888888,
              "#fdca26"
             ],
             [
              1,
              "#f0f921"
             ]
            ],
            "type": "heatmap"
           }
          ],
          "heatmapgl": [
           {
            "colorbar": {
             "outlinewidth": 0,
             "ticks": ""
            },
            "colorscale": [
             [
              0,
              "#0d0887"
             ],
             [
              0.1111111111111111,
              "#46039f"
             ],
             [
              0.2222222222222222,
              "#7201a8"
             ],
             [
              0.3333333333333333,
              "#9c179e"
             ],
             [
              0.4444444444444444,
              "#bd3786"
             ],
             [
              0.5555555555555556,
              "#d8576b"
             ],
             [
              0.6666666666666666,
              "#ed7953"
             ],
             [
              0.7777777777777778,
              "#fb9f3a"
             ],
             [
              0.8888888888888888,
              "#fdca26"
             ],
             [
              1,
              "#f0f921"
             ]
            ],
            "type": "heatmapgl"
           }
          ],
          "histogram": [
           {
            "marker": {
             "pattern": {
              "fillmode": "overlay",
              "size": 10,
              "solidity": 0.2
             }
            },
            "type": "histogram"
           }
          ],
          "histogram2d": [
           {
            "colorbar": {
             "outlinewidth": 0,
             "ticks": ""
            },
            "colorscale": [
             [
              0,
              "#0d0887"
             ],
             [
              0.1111111111111111,
              "#46039f"
             ],
             [
              0.2222222222222222,
              "#7201a8"
             ],
             [
              0.3333333333333333,
              "#9c179e"
             ],
             [
              0.4444444444444444,
              "#bd3786"
             ],
             [
              0.5555555555555556,
              "#d8576b"
             ],
             [
              0.6666666666666666,
              "#ed7953"
             ],
             [
              0.7777777777777778,
              "#fb9f3a"
             ],
             [
              0.8888888888888888,
              "#fdca26"
             ],
             [
              1,
              "#f0f921"
             ]
            ],
            "type": "histogram2d"
           }
          ],
          "histogram2dcontour": [
           {
            "colorbar": {
             "outlinewidth": 0,
             "ticks": ""
            },
            "colorscale": [
             [
              0,
              "#0d0887"
             ],
             [
              0.1111111111111111,
              "#46039f"
             ],
             [
              0.2222222222222222,
              "#7201a8"
             ],
             [
              0.3333333333333333,
              "#9c179e"
             ],
             [
              0.4444444444444444,
              "#bd3786"
             ],
             [
              0.5555555555555556,
              "#d8576b"
             ],
             [
              0.6666666666666666,
              "#ed7953"
             ],
             [
              0.7777777777777778,
              "#fb9f3a"
             ],
             [
              0.8888888888888888,
              "#fdca26"
             ],
             [
              1,
              "#f0f921"
             ]
            ],
            "type": "histogram2dcontour"
           }
          ],
          "mesh3d": [
           {
            "colorbar": {
             "outlinewidth": 0,
             "ticks": ""
            },
            "type": "mesh3d"
           }
          ],
          "parcoords": [
           {
            "line": {
             "colorbar": {
              "outlinewidth": 0,
              "ticks": ""
             }
            },
            "type": "parcoords"
           }
          ],
          "pie": [
           {
            "automargin": true,
            "type": "pie"
           }
          ],
          "scatter": [
           {
            "fillpattern": {
             "fillmode": "overlay",
             "size": 10,
             "solidity": 0.2
            },
            "type": "scatter"
           }
          ],
          "scatter3d": [
           {
            "line": {
             "colorbar": {
              "outlinewidth": 0,
              "ticks": ""
             }
            },
            "marker": {
             "colorbar": {
              "outlinewidth": 0,
              "ticks": ""
             }
            },
            "type": "scatter3d"
           }
          ],
          "scattercarpet": [
           {
            "marker": {
             "colorbar": {
              "outlinewidth": 0,
              "ticks": ""
             }
            },
            "type": "scattercarpet"
           }
          ],
          "scattergeo": [
           {
            "marker": {
             "colorbar": {
              "outlinewidth": 0,
              "ticks": ""
             }
            },
            "type": "scattergeo"
           }
          ],
          "scattergl": [
           {
            "marker": {
             "colorbar": {
              "outlinewidth": 0,
              "ticks": ""
             }
            },
            "type": "scattergl"
           }
          ],
          "scattermapbox": [
           {
            "marker": {
             "colorbar": {
              "outlinewidth": 0,
              "ticks": ""
             }
            },
            "type": "scattermapbox"
           }
          ],
          "scatterpolar": [
           {
            "marker": {
             "colorbar": {
              "outlinewidth": 0,
              "ticks": ""
             }
            },
            "type": "scatterpolar"
           }
          ],
          "scatterpolargl": [
           {
            "marker": {
             "colorbar": {
              "outlinewidth": 0,
              "ticks": ""
             }
            },
            "type": "scatterpolargl"
           }
          ],
          "scatterternary": [
           {
            "marker": {
             "colorbar": {
              "outlinewidth": 0,
              "ticks": ""
             }
            },
            "type": "scatterternary"
           }
          ],
          "surface": [
           {
            "colorbar": {
             "outlinewidth": 0,
             "ticks": ""
            },
            "colorscale": [
             [
              0,
              "#0d0887"
             ],
             [
              0.1111111111111111,
              "#46039f"
             ],
             [
              0.2222222222222222,
              "#7201a8"
             ],
             [
              0.3333333333333333,
              "#9c179e"
             ],
             [
              0.4444444444444444,
              "#bd3786"
             ],
             [
              0.5555555555555556,
              "#d8576b"
             ],
             [
              0.6666666666666666,
              "#ed7953"
             ],
             [
              0.7777777777777778,
              "#fb9f3a"
             ],
             [
              0.8888888888888888,
              "#fdca26"
             ],
             [
              1,
              "#f0f921"
             ]
            ],
            "type": "surface"
           }
          ],
          "table": [
           {
            "cells": {
             "fill": {
              "color": "#EBF0F8"
             },
             "line": {
              "color": "white"
             }
            },
            "header": {
             "fill": {
              "color": "#C8D4E3"
             },
             "line": {
              "color": "white"
             }
            },
            "type": "table"
           }
          ]
         },
         "layout": {
          "annotationdefaults": {
           "arrowcolor": "#2a3f5f",
           "arrowhead": 0,
           "arrowwidth": 1
          },
          "autotypenumbers": "strict",
          "coloraxis": {
           "colorbar": {
            "outlinewidth": 0,
            "ticks": ""
           }
          },
          "colorscale": {
           "diverging": [
            [
             0,
             "#8e0152"
            ],
            [
             0.1,
             "#c51b7d"
            ],
            [
             0.2,
             "#de77ae"
            ],
            [
             0.3,
             "#f1b6da"
            ],
            [
             0.4,
             "#fde0ef"
            ],
            [
             0.5,
             "#f7f7f7"
            ],
            [
             0.6,
             "#e6f5d0"
            ],
            [
             0.7,
             "#b8e186"
            ],
            [
             0.8,
             "#7fbc41"
            ],
            [
             0.9,
             "#4d9221"
            ],
            [
             1,
             "#276419"
            ]
           ],
           "sequential": [
            [
             0,
             "#0d0887"
            ],
            [
             0.1111111111111111,
             "#46039f"
            ],
            [
             0.2222222222222222,
             "#7201a8"
            ],
            [
             0.3333333333333333,
             "#9c179e"
            ],
            [
             0.4444444444444444,
             "#bd3786"
            ],
            [
             0.5555555555555556,
             "#d8576b"
            ],
            [
             0.6666666666666666,
             "#ed7953"
            ],
            [
             0.7777777777777778,
             "#fb9f3a"
            ],
            [
             0.8888888888888888,
             "#fdca26"
            ],
            [
             1,
             "#f0f921"
            ]
           ],
           "sequentialminus": [
            [
             0,
             "#0d0887"
            ],
            [
             0.1111111111111111,
             "#46039f"
            ],
            [
             0.2222222222222222,
             "#7201a8"
            ],
            [
             0.3333333333333333,
             "#9c179e"
            ],
            [
             0.4444444444444444,
             "#bd3786"
            ],
            [
             0.5555555555555556,
             "#d8576b"
            ],
            [
             0.6666666666666666,
             "#ed7953"
            ],
            [
             0.7777777777777778,
             "#fb9f3a"
            ],
            [
             0.8888888888888888,
             "#fdca26"
            ],
            [
             1,
             "#f0f921"
            ]
           ]
          },
          "colorway": [
           "#636efa",
           "#EF553B",
           "#00cc96",
           "#ab63fa",
           "#FFA15A",
           "#19d3f3",
           "#FF6692",
           "#B6E880",
           "#FF97FF",
           "#FECB52"
          ],
          "font": {
           "color": "#2a3f5f"
          },
          "geo": {
           "bgcolor": "white",
           "lakecolor": "white",
           "landcolor": "#E5ECF6",
           "showlakes": true,
           "showland": true,
           "subunitcolor": "white"
          },
          "hoverlabel": {
           "align": "left"
          },
          "hovermode": "closest",
          "mapbox": {
           "style": "light"
          },
          "paper_bgcolor": "white",
          "plot_bgcolor": "#E5ECF6",
          "polar": {
           "angularaxis": {
            "gridcolor": "white",
            "linecolor": "white",
            "ticks": ""
           },
           "bgcolor": "#E5ECF6",
           "radialaxis": {
            "gridcolor": "white",
            "linecolor": "white",
            "ticks": ""
           }
          },
          "scene": {
           "xaxis": {
            "backgroundcolor": "#E5ECF6",
            "gridcolor": "white",
            "gridwidth": 2,
            "linecolor": "white",
            "showbackground": true,
            "ticks": "",
            "zerolinecolor": "white"
           },
           "yaxis": {
            "backgroundcolor": "#E5ECF6",
            "gridcolor": "white",
            "gridwidth": 2,
            "linecolor": "white",
            "showbackground": true,
            "ticks": "",
            "zerolinecolor": "white"
           },
           "zaxis": {
            "backgroundcolor": "#E5ECF6",
            "gridcolor": "white",
            "gridwidth": 2,
            "linecolor": "white",
            "showbackground": true,
            "ticks": "",
            "zerolinecolor": "white"
           }
          },
          "shapedefaults": {
           "line": {
            "color": "#2a3f5f"
           }
          },
          "ternary": {
           "aaxis": {
            "gridcolor": "white",
            "linecolor": "white",
            "ticks": ""
           },
           "baxis": {
            "gridcolor": "white",
            "linecolor": "white",
            "ticks": ""
           },
           "bgcolor": "#E5ECF6",
           "caxis": {
            "gridcolor": "white",
            "linecolor": "white",
            "ticks": ""
           }
          },
          "title": {
           "x": 0.05
          },
          "xaxis": {
           "automargin": true,
           "gridcolor": "white",
           "linecolor": "white",
           "ticks": "",
           "title": {
            "standoff": 15
           },
           "zerolinecolor": "white",
           "zerolinewidth": 2
          },
          "yaxis": {
           "automargin": true,
           "gridcolor": "white",
           "linecolor": "white",
           "ticks": "",
           "title": {
            "standoff": 15
           },
           "zerolinecolor": "white",
           "zerolinewidth": 2
          }
         }
        },
        "title": {
         "text": "Time each of the processes spends waiting for its turn on CPU"
        },
        "xaxis": {
         "anchor": "y",
         "domain": [
          0,
          1
         ],
         "title": {
          "text": "Latency (usecs)"
         }
        },
        "yaxis": {
         "anchor": "x",
         "domain": [
          0,
          1
         ],
         "title": {
          "text": "Number of Processes"
         }
        }
       }
      }
     },
     "metadata": {},
     "output_type": "display_data"
    }
   ],
   "source": [
    "runqlat_df = spark.read.option(\"basePath\", \"../ansible/.results\").json(\"../ansible/.results/kpps=*/tool=runqlat\").select(\n",
    "    \"kpps\", \"ts\", \"val_type\", \"tool\",\n",
    "    explode(\"data\").alias(\"dataExplode\")\n",
    ").orderBy(col('kpps')).select(col(\"kpps\").cast(StringType()), \"ts\", \"val_type\", \"tool\", \"dataExplode.*\", concat_ws('-',col('dataExplode.interval-start'),col('dataExplode.interval-end')).alias(\"interval\"))\n",
    "runqlat_fig = px.bar(runqlat_df.toPandas(), x=\"interval\", y=\"count\", color=\"kpps\", barmode=\"group\",\n",
    "        title=\"Time each of the processes spends waiting for its turn on CPU\",\n",
    "        color_discrete_sequence=px.colors.sequential.Plasma,\n",
    "        labels={\n",
    "                    \"kpps\": \"Packets Per Second (thousand)\",\n",
    "                    \"count\": \"Number of Processes\",\n",
    "                    \"interval\": \"Latency (usecs)\"\n",
    "        })\n",
    "runqlat_fig.show()\n",
    "runqlat_fig.write_image(\"images/runqlat.jpeg\")\n",
    "with open(html_output_file, 'a') as f:\n",
    "    f.write(runqlat_fig.to_html(full_html=False, include_plotlyjs='cdn'))"
   ]
  },
  {
   "cell_type": "code",
   "execution_count": 9,
   "metadata": {},
   "outputs": [],
   "source": [
    "with open(html_output_file, 'a') as f:\n",
    "    f.write('<div><a href=\"#profile\">See code paths that are consuming CPU resources</a></div>')"
   ]
  },
  {
   "cell_type": "code",
   "execution_count": 10,
   "metadata": {},
   "outputs": [],
   "source": [
    "with open(html_output_file, 'a') as f:\n",
    "    f.write('<div><a href=\"#offcputime\">See code paths casing processes to go Off-CPU</a></div>')"
   ]
  },
  {
   "cell_type": "code",
   "execution_count": 11,
   "metadata": {},
   "outputs": [],
   "source": [
    "with open(html_output_file, 'a') as f:\n",
    "    f.write('<h2 id=\"memory-metrics\"> Memory Metrics </h2>')\n",
    "    f.write('<p> Memory operations can be frequent; therefore, to reduce overheads, it is important to look at some of the non-frequent events that can give insights into the performance of the memory resource. The relatively infrequent activities are: <em>brk()</em> and <em>mmap()</em> calls, <em>page faults</em>, and <em>page-outs</em>. An important is to know the number of memory requests that result in a new segment on the heap, i.e., <em>requests for mappings</em>. Following, it is beneficial to know the <em>code path responsible for heap extension</em> which can review the portion that resulted in extending the heap. Another import operation is page fault, which results in latency and growth of a process RSS. Likewise, it is important to know the <em>code path responsible for page faults</em>. As the system reclaims memory, we would also want to know the <em>process affected and the latency: the time taken for the reclaim</em>. </p>')"
   ]
  },
  {
   "cell_type": "code",
   "execution_count": 12,
   "metadata": {},
   "outputs": [
    {
     "name": "stderr",
     "output_type": "stream",
     "text": [
      "                                                                                \r"
     ]
    },
    {
     "data": {
      "application/vnd.plotly.v1+json": {
       "config": {
        "plotlyServerURL": "https://plot.ly"
       },
       "data": [
        {
         "branchvalues": "total",
         "customdata": [
          [
           48,
           "5"
          ],
          [
           91,
           "runc:[2:INIT]"
          ],
          [
           1,
           "bpftrace"
          ],
          [
           6,
           "ausf-healthchec"
          ],
          [
           6,
           "spgwu-healthche"
          ],
          [
           48,
           "dumpe2fs"
          ],
          [
           22,
           "mysql-healthche"
          ],
          [
           6,
           "nrf-healthcheck"
          ],
          [
           196,
           "grep"
          ],
          [
           22,
           "mysql-healthche"
          ],
          [
           98,
           "runc:[2:INIT]"
          ],
          [
           48,
           "5"
          ],
          [
           84,
           "dumpe2fs"
          ],
          [
           210,
           "grep"
          ],
          [
           6,
           "ausf-healthchec"
          ],
          [
           6,
           "nrf-healthcheck"
          ],
          [
           1,
           "bpftrace"
          ],
          [
           6,
           "spgwu-healthche"
          ],
          [
           39,
           "5"
          ],
          [
           6,
           "ausf-healthchec"
          ],
          [
           210,
           "grep"
          ],
          [
           1,
           "bpftrace"
          ],
          [
           3,
           "nrf-healthcheck"
          ],
          [
           98,
           "runc:[2:INIT]"
          ],
          [
           54,
           "dumpe2fs"
          ],
          [
           22,
           "mysql-healthche"
          ],
          [
           3,
           "spgwu-healthche"
          ],
          [
           3,
           "nrf-healthcheck"
          ],
          [
           54,
           "ifconfig"
          ],
          [
           66,
           "dumpe2fs"
          ],
          [
           22,
           "mysql-healthche"
          ],
          [
           52,
           "sh"
          ],
          [
           1,
           "bpftrace"
          ],
          [
           6,
           "spgwu-healthche"
          ],
          [
           45,
           "5"
          ],
          [
           54,
           "awk"
          ],
          [
           54,
           "awk"
          ],
          [
           72,
           "dumpe2fs"
          ],
          [
           1,
           "bpftrace"
          ],
          [
           52,
           "sh"
          ],
          [
           6,
           "spgwu-healthche"
          ],
          [
           22,
           "mysql-healthche"
          ],
          [
           6,
           "nrf-healthcheck"
          ],
          [
           48,
           "5"
          ],
          [
           54,
           "ifconfig"
          ],
          [
           22,
           "mysql-healthche"
          ],
          [
           45,
           "awk"
          ],
          [
           6,
           "nrf-healthcheck"
          ],
          [
           6,
           "spgwu-healthche"
          ],
          [
           84,
           "dumpe2fs"
          ],
          [
           45,
           "5"
          ],
          [
           45,
           "ifconfig"
          ],
          [
           43,
           "sh"
          ],
          [
           1,
           "bpftrace"
          ],
          [
           6,
           "udm-healthcheck"
          ],
          [
           34,
           "mysqladmin"
          ],
          [
           45,
           "5"
          ],
          [
           72,
           "dumpe2fs"
          ],
          [
           6,
           "nrf-healthcheck"
          ],
          [
           51,
           "ifconfig"
          ],
          [
           51,
           "awk"
          ],
          [
           42,
           "cat"
          ],
          [
           49,
           "sh"
          ],
          [
           6,
           "nrf-healthcheck"
          ],
          [
           72,
           "dumpe2fs"
          ],
          [
           42,
           "cat"
          ],
          [
           54,
           "awk"
          ],
          [
           6,
           "udm-healthcheck"
          ],
          [
           52,
           "sh"
          ],
          [
           54,
           "ifconfig"
          ],
          [
           34,
           "mysqladmin"
          ],
          [
           48,
           "5"
          ],
          [
           6,
           "nrf-healthcheck"
          ],
          [
           96,
           "dumpe2fs"
          ],
          [
           48,
           "5"
          ],
          [
           48,
           "ifconfig"
          ],
          [
           6,
           "udm-healthcheck"
          ],
          [
           48,
           "awk"
          ],
          [
           33,
           "cat"
          ],
          [
           49,
           "sh"
          ],
          [
           34,
           "mysqladmin"
          ],
          [
           6,
           "amf-healthcheck"
          ],
          [
           49,
           "sh"
          ],
          [
           51,
           "ifconfig"
          ],
          [
           48,
           "exe"
          ],
          [
           48,
           "runc"
          ],
          [
           39,
           "cat"
          ],
          [
           34,
           "mysqladmin"
          ],
          [
           6,
           "udm-healthcheck"
          ],
          [
           51,
           "awk"
          ],
          [
           6,
           "udm-healthcheck"
          ],
          [
           54,
           "ifconfig"
          ],
          [
           48,
           "exe"
          ],
          [
           48,
           "runc"
          ],
          [
           34,
           "mysqladmin"
          ],
          [
           42,
           "cat"
          ],
          [
           52,
           "sh"
          ],
          [
           54,
           "awk"
          ],
          [
           6,
           "amf-healthcheck"
          ],
          [
           52,
           "sh"
          ],
          [
           6,
           "udm-healthcheck"
          ],
          [
           34,
           "mysqladmin"
          ],
          [
           39,
           "runc"
          ],
          [
           54,
           "ifconfig"
          ],
          [
           6,
           "amf-healthcheck"
          ],
          [
           39,
           "exe"
          ],
          [
           39,
           "cat"
          ],
          [
           54,
           "awk"
          ],
          [
           10,
           "mysql"
          ],
          [
           45,
           "runc"
          ],
          [
           6,
           "udm-healthcheck"
          ],
          [
           6,
           "amf-healthcheck"
          ],
          [
           34,
           "mysqladmin"
          ],
          [
           39,
           "cat"
          ],
          [
           52,
           "bash"
          ],
          [
           45,
           "exe"
          ],
          [
           6,
           "smf-healthcheck"
          ],
          [
           6,
           "amf-healthcheck"
          ],
          [
           6,
           "smf-healthcheck"
          ],
          [
           34,
           "mysqladmin"
          ],
          [
           6,
           "udm-healthcheck"
          ],
          [
           10,
           "mysql"
          ],
          [
           48,
           "runc"
          ],
          [
           42,
           "cat"
          ],
          [
           48,
           "exe"
          ],
          [
           52,
           "bash"
          ],
          [
           6,
           "udm-healthcheck"
          ],
          [
           34,
           "mysqladmin"
          ],
          [
           42,
           "cat"
          ],
          [
           45,
           "runc"
          ],
          [
           43,
           "bash"
          ],
          [
           3,
           "smf-healthcheck"
          ],
          [
           10,
           "mysql"
          ],
          [
           6,
           "amf-healthcheck"
          ],
          [
           45,
           "exe"
          ],
          [
           0,
           "dbus-daemon"
          ],
          [
           49,
           "bash"
          ],
          [
           6,
           "smf-healthcheck"
          ],
          [
           6,
           "amf-healthcheck"
          ],
          [
           6,
           "udr-healthcheck"
          ],
          [
           45,
           "runc"
          ],
          [
           10,
           "mysql"
          ],
          [
           54,
           "netstat"
          ],
          [
           45,
           "exe"
          ],
          [
           6,
           "udr-healthcheck"
          ],
          [
           6,
           "smf-healthcheck"
          ],
          [
           52,
           "bash"
          ],
          [
           0,
           "dbus-daemon"
          ],
          [
           6,
           "amf-healthcheck"
          ],
          [
           10,
           "mysql"
          ],
          [
           48,
           "runc"
          ],
          [
           54,
           "netstat"
          ],
          [
           48,
           "exe"
          ],
          [
           10,
           "mysql"
          ],
          [
           6,
           "smf-healthcheck"
          ],
          [
           49,
           "bash"
          ],
          [
           48,
           "exe"
          ],
          [
           6,
           "amf-healthcheck"
          ],
          [
           3,
           "udr-healthcheck"
          ],
          [
           0,
           "dbus-daemon"
          ],
          [
           48,
           "runc"
          ],
          [
           45,
           "netstat"
          ],
          [
           6,
           "ausf-healthchec"
          ],
          [
           10,
           "mysql"
          ],
          [
           3,
           "smf-healthcheck"
          ],
          [
           0,
           "dbus-daemon"
          ],
          [
           6,
           "udr-healthcheck"
          ],
          [
           49,
           "bash"
          ],
          [
           210,
           "grep"
          ],
          [
           51,
           "netstat"
          ],
          [
           98,
           "runc:[2:INIT]"
          ],
          [
           6,
           "smf-healthcheck"
          ],
          [
           6,
           "udr-healthcheck"
          ],
          [
           98,
           "runc:[2:INIT]"
          ],
          [
           2,
           "dbus-daemon"
          ],
          [
           6,
           "ausf-healthchec"
          ],
          [
           10,
           "mysql"
          ],
          [
           54,
           "netstat"
          ],
          [
           210,
           "grep"
          ],
          [
           52,
           "bash"
          ],
          [
           6,
           "smf-healthcheck"
          ],
          [
           170,
           "grep"
          ],
          [
           6,
           "ausf-healthchec"
          ],
          [
           52,
           "bash"
          ],
          [
           10,
           "mysql"
          ],
          [
           6,
           "udr-healthcheck"
          ],
          [
           48,
           "netstat"
          ],
          [
           77,
           "runc:[2:INIT]"
          ],
          [
           2,
           "dbus-daemon"
          ],
          [
           22,
           "mysql-healthche"
          ],
          [
           1,
           "bpftrace"
          ],
          [
           6,
           "spgwu-healthche"
          ],
          [
           91,
           "runc:[2:INIT]"
          ],
          [
           196,
           "grep"
          ],
          [
           6,
           "ausf-healthchec"
          ],
          [
           0,
           "dbus-daemon"
          ],
          [
           6,
           "udr-healthcheck"
          ],
          [
           51,
           "netstat"
          ],
          [
           210,
           "grep"
          ],
          [
           6,
           "spgwu-healthche"
          ],
          [
           6,
           "udr-healthcheck"
          ],
          [
           22,
           "mysql-healthche"
          ],
          [
           98,
           "runc:[2:INIT]"
          ],
          [
           1,
           "bpftrace"
          ],
          [
           6,
           "ausf-healthchec"
          ],
          [
           54,
           "netstat"
          ],
          [
           0,
           "dbus-daemon"
          ],
          [
           6,
           "spgwu-healthche"
          ],
          [
           22,
           "mysql-healthche"
          ],
          [
           0,
           "dbus-daemon"
          ],
          [
           54,
           "netstat"
          ],
          [
           190,
           "grep"
          ],
          [
           98,
           "runc:[2:INIT]"
          ],
          [
           6,
           "ausf-healthchec"
          ],
          [
           1,
           "bpftrace"
          ],
          [
           6,
           "udr-healthcheck"
          ],
          [
           917,
           "(?)"
          ],
          [
           953,
           "(?)"
          ],
          [
           772,
           "(?)"
          ],
          [
           884,
           "(?)"
          ],
          [
           943,
           "(?)"
          ],
          [
           896,
           "(?)"
          ],
          [
           890,
           "(?)"
          ],
          [
           941,
           "(?)"
          ],
          [
           965,
           "(?)"
          ]
         ],
         "domain": {
          "x": [
           0,
           1
          ],
          "y": [
           0,
           1
          ]
         },
         "hovertemplate": "labels=%{label}<br>count=%{customdata[0]}<br>parent=%{parent}<br>id=%{id}<br>process=%{customdata[1]}<extra></extra>",
         "ids": [
          "1/5",
          "5/runc:[2:INIT]",
          "200/bpftrace",
          "5/ausf-healthchec",
          "200/spgwu-healthche",
          "1/dumpe2fs",
          "200/mysql-healthche",
          "1/nrf-healthcheck",
          "5/grep",
          "300/mysql-healthche",
          "50/runc:[2:INIT]",
          "10/5",
          "10/dumpe2fs",
          "50/grep",
          "50/ausf-healthchec",
          "10/nrf-healthcheck",
          "300/bpftrace",
          "300/spgwu-healthche",
          "100/5",
          "500/ausf-healthchec",
          "500/grep",
          "400/bpftrace",
          "100/nrf-healthcheck",
          "500/runc:[2:INIT]",
          "100/dumpe2fs",
          "400/mysql-healthche",
          "400/spgwu-healthche",
          "200/nrf-healthcheck",
          "1/ifconfig",
          "200/dumpe2fs",
          "5/mysql-healthche",
          "1/sh",
          "5/bpftrace",
          "5/spgwu-healthche",
          "200/5",
          "1/awk",
          "10/awk",
          "300/dumpe2fs",
          "50/bpftrace",
          "10/sh",
          "50/spgwu-healthche",
          "50/mysql-healthche",
          "300/nrf-healthcheck",
          "300/5",
          "10/ifconfig",
          "500/mysql-healthche",
          "100/awk",
          "400/nrf-healthcheck",
          "500/spgwu-healthche",
          "400/dumpe2fs",
          "400/5",
          "100/ifconfig",
          "100/sh",
          "500/bpftrace",
          "1/udm-healthcheck",
          "1/mysqladmin",
          "5/5",
          "5/dumpe2fs",
          "5/nrf-healthcheck",
          "200/ifconfig",
          "200/awk",
          "1/cat",
          "200/sh",
          "50/nrf-healthcheck",
          "50/dumpe2fs",
          "10/cat",
          "300/awk",
          "10/udm-healthcheck",
          "300/sh",
          "300/ifconfig",
          "10/mysqladmin",
          "50/5",
          "500/nrf-healthcheck",
          "500/dumpe2fs",
          "500/5",
          "400/ifconfig",
          "100/udm-healthcheck",
          "400/awk",
          "100/cat",
          "400/sh",
          "100/mysqladmin",
          "1/amf-healthcheck",
          "5/sh",
          "5/ifconfig",
          "1/exe",
          "1/runc",
          "200/cat",
          "200/mysqladmin",
          "200/udm-healthcheck",
          "5/awk",
          "300/udm-healthcheck",
          "50/ifconfig",
          "10/exe",
          "10/runc",
          "300/mysqladmin",
          "300/cat",
          "50/sh",
          "50/awk",
          "10/amf-healthcheck",
          "500/sh",
          "400/udm-healthcheck",
          "400/mysqladmin",
          "100/runc",
          "500/ifconfig",
          "100/amf-healthcheck",
          "100/exe",
          "400/cat",
          "500/awk",
          "1/mysql",
          "200/runc",
          "5/udm-healthcheck",
          "200/amf-healthcheck",
          "5/mysqladmin",
          "5/cat",
          "1/bash",
          "200/exe",
          "1/smf-healthcheck",
          "300/amf-healthcheck",
          "10/smf-healthcheck",
          "50/mysqladmin",
          "50/udm-healthcheck",
          "10/mysql",
          "300/runc",
          "50/cat",
          "300/exe",
          "10/bash",
          "500/udm-healthcheck",
          "500/mysqladmin",
          "500/cat",
          "400/runc",
          "100/bash",
          "100/smf-healthcheck",
          "100/mysql",
          "400/amf-healthcheck",
          "400/exe",
          "1/dbus-daemon",
          "200/bash",
          "200/smf-healthcheck",
          "5/amf-healthcheck",
          "1/udr-healthcheck",
          "5/runc",
          "200/mysql",
          "1/netstat",
          "5/exe",
          "10/udr-healthcheck",
          "300/smf-healthcheck",
          "300/bash",
          "10/dbus-daemon",
          "50/amf-healthcheck",
          "300/mysql",
          "50/runc",
          "10/netstat",
          "50/exe",
          "400/mysql",
          "400/smf-healthcheck",
          "400/bash",
          "500/exe",
          "500/amf-healthcheck",
          "100/udr-healthcheck",
          "100/dbus-daemon",
          "500/runc",
          "100/netstat",
          "1/ausf-healthchec",
          "5/mysql",
          "5/smf-healthcheck",
          "200/dbus-daemon",
          "200/udr-healthcheck",
          "5/bash",
          "1/grep",
          "200/netstat",
          "1/runc:[2:INIT]",
          "50/smf-healthcheck",
          "300/udr-healthcheck",
          "10/runc:[2:INIT]",
          "300/dbus-daemon",
          "10/ausf-healthchec",
          "50/mysql",
          "300/netstat",
          "10/grep",
          "50/bash",
          "500/smf-healthcheck",
          "100/grep",
          "100/ausf-healthchec",
          "500/bash",
          "500/mysql",
          "400/udr-healthcheck",
          "400/netstat",
          "100/runc:[2:INIT]",
          "400/dbus-daemon",
          "1/mysql-healthche",
          "1/bpftrace",
          "1/spgwu-healthche",
          "200/runc:[2:INIT]",
          "200/grep",
          "200/ausf-healthchec",
          "5/dbus-daemon",
          "5/udr-healthcheck",
          "5/netstat",
          "300/grep",
          "10/spgwu-healthche",
          "50/udr-healthcheck",
          "10/mysql-healthche",
          "300/runc:[2:INIT]",
          "10/bpftrace",
          "300/ausf-healthchec",
          "50/netstat",
          "50/dbus-daemon",
          "100/spgwu-healthche",
          "100/mysql-healthche",
          "500/dbus-daemon",
          "500/netstat",
          "400/grep",
          "400/runc:[2:INIT]",
          "400/ausf-healthchec",
          "100/bpftrace",
          "500/udr-healthcheck",
          "1",
          "10",
          "100",
          "200",
          "300",
          "400",
          "5",
          "50",
          "500"
         ],
         "labels": [
          "5",
          "runc:[2:INIT]",
          "bpftrace",
          "ausf-healthchec",
          "spgwu-healthche",
          "dumpe2fs",
          "mysql-healthche",
          "nrf-healthcheck",
          "grep",
          "mysql-healthche",
          "runc:[2:INIT]",
          "5",
          "dumpe2fs",
          "grep",
          "ausf-healthchec",
          "nrf-healthcheck",
          "bpftrace",
          "spgwu-healthche",
          "5",
          "ausf-healthchec",
          "grep",
          "bpftrace",
          "nrf-healthcheck",
          "runc:[2:INIT]",
          "dumpe2fs",
          "mysql-healthche",
          "spgwu-healthche",
          "nrf-healthcheck",
          "ifconfig",
          "dumpe2fs",
          "mysql-healthche",
          "sh",
          "bpftrace",
          "spgwu-healthche",
          "5",
          "awk",
          "awk",
          "dumpe2fs",
          "bpftrace",
          "sh",
          "spgwu-healthche",
          "mysql-healthche",
          "nrf-healthcheck",
          "5",
          "ifconfig",
          "mysql-healthche",
          "awk",
          "nrf-healthcheck",
          "spgwu-healthche",
          "dumpe2fs",
          "5",
          "ifconfig",
          "sh",
          "bpftrace",
          "udm-healthcheck",
          "mysqladmin",
          "5",
          "dumpe2fs",
          "nrf-healthcheck",
          "ifconfig",
          "awk",
          "cat",
          "sh",
          "nrf-healthcheck",
          "dumpe2fs",
          "cat",
          "awk",
          "udm-healthcheck",
          "sh",
          "ifconfig",
          "mysqladmin",
          "5",
          "nrf-healthcheck",
          "dumpe2fs",
          "5",
          "ifconfig",
          "udm-healthcheck",
          "awk",
          "cat",
          "sh",
          "mysqladmin",
          "amf-healthcheck",
          "sh",
          "ifconfig",
          "exe",
          "runc",
          "cat",
          "mysqladmin",
          "udm-healthcheck",
          "awk",
          "udm-healthcheck",
          "ifconfig",
          "exe",
          "runc",
          "mysqladmin",
          "cat",
          "sh",
          "awk",
          "amf-healthcheck",
          "sh",
          "udm-healthcheck",
          "mysqladmin",
          "runc",
          "ifconfig",
          "amf-healthcheck",
          "exe",
          "cat",
          "awk",
          "mysql",
          "runc",
          "udm-healthcheck",
          "amf-healthcheck",
          "mysqladmin",
          "cat",
          "bash",
          "exe",
          "smf-healthcheck",
          "amf-healthcheck",
          "smf-healthcheck",
          "mysqladmin",
          "udm-healthcheck",
          "mysql",
          "runc",
          "cat",
          "exe",
          "bash",
          "udm-healthcheck",
          "mysqladmin",
          "cat",
          "runc",
          "bash",
          "smf-healthcheck",
          "mysql",
          "amf-healthcheck",
          "exe",
          "dbus-daemon",
          "bash",
          "smf-healthcheck",
          "amf-healthcheck",
          "udr-healthcheck",
          "runc",
          "mysql",
          "netstat",
          "exe",
          "udr-healthcheck",
          "smf-healthcheck",
          "bash",
          "dbus-daemon",
          "amf-healthcheck",
          "mysql",
          "runc",
          "netstat",
          "exe",
          "mysql",
          "smf-healthcheck",
          "bash",
          "exe",
          "amf-healthcheck",
          "udr-healthcheck",
          "dbus-daemon",
          "runc",
          "netstat",
          "ausf-healthchec",
          "mysql",
          "smf-healthcheck",
          "dbus-daemon",
          "udr-healthcheck",
          "bash",
          "grep",
          "netstat",
          "runc:[2:INIT]",
          "smf-healthcheck",
          "udr-healthcheck",
          "runc:[2:INIT]",
          "dbus-daemon",
          "ausf-healthchec",
          "mysql",
          "netstat",
          "grep",
          "bash",
          "smf-healthcheck",
          "grep",
          "ausf-healthchec",
          "bash",
          "mysql",
          "udr-healthcheck",
          "netstat",
          "runc:[2:INIT]",
          "dbus-daemon",
          "mysql-healthche",
          "bpftrace",
          "spgwu-healthche",
          "runc:[2:INIT]",
          "grep",
          "ausf-healthchec",
          "dbus-daemon",
          "udr-healthcheck",
          "netstat",
          "grep",
          "spgwu-healthche",
          "udr-healthcheck",
          "mysql-healthche",
          "runc:[2:INIT]",
          "bpftrace",
          "ausf-healthchec",
          "netstat",
          "dbus-daemon",
          "spgwu-healthche",
          "mysql-healthche",
          "dbus-daemon",
          "netstat",
          "grep",
          "runc:[2:INIT]",
          "ausf-healthchec",
          "bpftrace",
          "udr-healthcheck",
          "1",
          "10",
          "100",
          "200",
          "300",
          "400",
          "5",
          "50",
          "500"
         ],
         "marker": {
          "colors": [
           "#636efa",
           "#EF553B",
           "#00cc96",
           "#ab63fa",
           "#FFA15A",
           "#19d3f3",
           "#FF6692",
           "#B6E880",
           "#FF97FF",
           "#FF6692",
           "#EF553B",
           "#636efa",
           "#19d3f3",
           "#FF97FF",
           "#ab63fa",
           "#B6E880",
           "#00cc96",
           "#FFA15A",
           "#636efa",
           "#ab63fa",
           "#FF97FF",
           "#00cc96",
           "#B6E880",
           "#EF553B",
           "#19d3f3",
           "#FF6692",
           "#FFA15A",
           "#B6E880",
           "#FECB52",
           "#19d3f3",
           "#FF6692",
           "#636efa",
           "#00cc96",
           "#FFA15A",
           "#636efa",
           "#EF553B",
           "#EF553B",
           "#19d3f3",
           "#00cc96",
           "#636efa",
           "#FFA15A",
           "#FF6692",
           "#B6E880",
           "#636efa",
           "#FECB52",
           "#FF6692",
           "#EF553B",
           "#B6E880",
           "#FFA15A",
           "#19d3f3",
           "#636efa",
           "#FECB52",
           "#636efa",
           "#00cc96",
           "#00cc96",
           "#ab63fa",
           "#636efa",
           "#19d3f3",
           "#B6E880",
           "#FECB52",
           "#EF553B",
           "#FFA15A",
           "#636efa",
           "#B6E880",
           "#19d3f3",
           "#FFA15A",
           "#EF553B",
           "#00cc96",
           "#636efa",
           "#FECB52",
           "#ab63fa",
           "#636efa",
           "#B6E880",
           "#19d3f3",
           "#636efa",
           "#FECB52",
           "#00cc96",
           "#EF553B",
           "#FFA15A",
           "#636efa",
           "#ab63fa",
           "#19d3f3",
           "#636efa",
           "#FECB52",
           "#FF6692",
           "#B6E880",
           "#FFA15A",
           "#ab63fa",
           "#00cc96",
           "#EF553B",
           "#00cc96",
           "#FECB52",
           "#FF6692",
           "#B6E880",
           "#ab63fa",
           "#FFA15A",
           "#636efa",
           "#EF553B",
           "#19d3f3",
           "#636efa",
           "#00cc96",
           "#ab63fa",
           "#B6E880",
           "#FECB52",
           "#19d3f3",
           "#FF6692",
           "#FFA15A",
           "#EF553B",
           "#FF97FF",
           "#B6E880",
           "#00cc96",
           "#19d3f3",
           "#ab63fa",
           "#FFA15A",
           "#FECB52",
           "#FF6692",
           "#636efa",
           "#19d3f3",
           "#636efa",
           "#ab63fa",
           "#00cc96",
           "#FF97FF",
           "#B6E880",
           "#FFA15A",
           "#FF6692",
           "#FECB52",
           "#00cc96",
           "#ab63fa",
           "#FFA15A",
           "#B6E880",
           "#FECB52",
           "#636efa",
           "#FF97FF",
           "#19d3f3",
           "#FF6692",
           "#EF553B",
           "#FECB52",
           "#636efa",
           "#19d3f3",
           "#00cc96",
           "#B6E880",
           "#FF97FF",
           "#ab63fa",
           "#FF6692",
           "#00cc96",
           "#636efa",
           "#FECB52",
           "#EF553B",
           "#19d3f3",
           "#FF97FF",
           "#B6E880",
           "#ab63fa",
           "#FF6692",
           "#FF97FF",
           "#636efa",
           "#FECB52",
           "#FF6692",
           "#19d3f3",
           "#00cc96",
           "#EF553B",
           "#B6E880",
           "#ab63fa",
           "#ab63fa",
           "#FF97FF",
           "#636efa",
           "#EF553B",
           "#00cc96",
           "#FECB52",
           "#FF97FF",
           "#ab63fa",
           "#EF553B",
           "#636efa",
           "#00cc96",
           "#EF553B",
           "#EF553B",
           "#ab63fa",
           "#FF97FF",
           "#ab63fa",
           "#FF97FF",
           "#FECB52",
           "#636efa",
           "#FF97FF",
           "#ab63fa",
           "#FECB52",
           "#FF97FF",
           "#00cc96",
           "#ab63fa",
           "#EF553B",
           "#EF553B",
           "#FF6692",
           "#00cc96",
           "#FFA15A",
           "#EF553B",
           "#FF97FF",
           "#ab63fa",
           "#EF553B",
           "#00cc96",
           "#ab63fa",
           "#FF97FF",
           "#FFA15A",
           "#00cc96",
           "#FF6692",
           "#EF553B",
           "#00cc96",
           "#ab63fa",
           "#ab63fa",
           "#EF553B",
           "#FFA15A",
           "#FF6692",
           "#EF553B",
           "#ab63fa",
           "#FF97FF",
           "#EF553B",
           "#ab63fa",
           "#00cc96",
           "#00cc96",
           "#FFA15A",
           "#FFA15A",
           "#FFA15A",
           "#FFA15A",
           "#FFA15A",
           "#FFA15A",
           "#FFA15A",
           "#FFA15A",
           "#FFA15A"
          ]
         },
         "name": "",
         "parents": [
          "1",
          "5",
          "200",
          "5",
          "200",
          "1",
          "200",
          "1",
          "5",
          "300",
          "50",
          "10",
          "10",
          "50",
          "50",
          "10",
          "300",
          "300",
          "100",
          "500",
          "500",
          "400",
          "100",
          "500",
          "100",
          "400",
          "400",
          "200",
          "1",
          "200",
          "5",
          "1",
          "5",
          "5",
          "200",
          "1",
          "10",
          "300",
          "50",
          "10",
          "50",
          "50",
          "300",
          "300",
          "10",
          "500",
          "100",
          "400",
          "500",
          "400",
          "400",
          "100",
          "100",
          "500",
          "1",
          "1",
          "5",
          "5",
          "5",
          "200",
          "200",
          "1",
          "200",
          "50",
          "50",
          "10",
          "300",
          "10",
          "300",
          "300",
          "10",
          "50",
          "500",
          "500",
          "500",
          "400",
          "100",
          "400",
          "100",
          "400",
          "100",
          "1",
          "5",
          "5",
          "1",
          "1",
          "200",
          "200",
          "200",
          "5",
          "300",
          "50",
          "10",
          "10",
          "300",
          "300",
          "50",
          "50",
          "10",
          "500",
          "400",
          "400",
          "100",
          "500",
          "100",
          "100",
          "400",
          "500",
          "1",
          "200",
          "5",
          "200",
          "5",
          "5",
          "1",
          "200",
          "1",
          "300",
          "10",
          "50",
          "50",
          "10",
          "300",
          "50",
          "300",
          "10",
          "500",
          "500",
          "500",
          "400",
          "100",
          "100",
          "100",
          "400",
          "400",
          "1",
          "200",
          "200",
          "5",
          "1",
          "5",
          "200",
          "1",
          "5",
          "10",
          "300",
          "300",
          "10",
          "50",
          "300",
          "50",
          "10",
          "50",
          "400",
          "400",
          "400",
          "500",
          "500",
          "100",
          "100",
          "500",
          "100",
          "1",
          "5",
          "5",
          "200",
          "200",
          "5",
          "1",
          "200",
          "1",
          "50",
          "300",
          "10",
          "300",
          "10",
          "50",
          "300",
          "10",
          "50",
          "500",
          "100",
          "100",
          "500",
          "500",
          "400",
          "400",
          "100",
          "400",
          "1",
          "1",
          "1",
          "200",
          "200",
          "200",
          "5",
          "5",
          "5",
          "300",
          "10",
          "50",
          "10",
          "300",
          "10",
          "300",
          "50",
          "50",
          "100",
          "100",
          "500",
          "500",
          "400",
          "400",
          "400",
          "100",
          "500",
          "",
          "",
          "",
          "",
          "",
          "",
          "",
          "",
          ""
         ],
         "type": "sunburst",
         "values": [
          48,
          91,
          1,
          6,
          6,
          48,
          22,
          6,
          196,
          22,
          98,
          48,
          84,
          210,
          6,
          6,
          1,
          6,
          39,
          6,
          210,
          1,
          3,
          98,
          54,
          22,
          3,
          3,
          54,
          66,
          22,
          52,
          1,
          6,
          45,
          54,
          54,
          72,
          1,
          52,
          6,
          22,
          6,
          48,
          54,
          22,
          45,
          6,
          6,
          84,
          45,
          45,
          43,
          1,
          6,
          34,
          45,
          72,
          6,
          51,
          51,
          42,
          49,
          6,
          72,
          42,
          54,
          6,
          52,
          54,
          34,
          48,
          6,
          96,
          48,
          48,
          6,
          48,
          33,
          49,
          34,
          6,
          49,
          51,
          48,
          48,
          39,
          34,
          6,
          51,
          6,
          54,
          48,
          48,
          34,
          42,
          52,
          54,
          6,
          52,
          6,
          34,
          39,
          54,
          6,
          39,
          39,
          54,
          10,
          45,
          6,
          6,
          34,
          39,
          52,
          45,
          6,
          6,
          6,
          34,
          6,
          10,
          48,
          42,
          48,
          52,
          6,
          34,
          42,
          45,
          43,
          3,
          10,
          6,
          45,
          0,
          49,
          6,
          6,
          6,
          45,
          10,
          54,
          45,
          6,
          6,
          52,
          0,
          6,
          10,
          48,
          54,
          48,
          10,
          6,
          49,
          48,
          6,
          3,
          0,
          48,
          45,
          6,
          10,
          3,
          0,
          6,
          49,
          210,
          51,
          98,
          6,
          6,
          98,
          2,
          6,
          10,
          54,
          210,
          52,
          6,
          170,
          6,
          52,
          10,
          6,
          48,
          77,
          2,
          22,
          1,
          6,
          91,
          196,
          6,
          0,
          6,
          51,
          210,
          6,
          6,
          22,
          98,
          1,
          6,
          54,
          0,
          6,
          22,
          0,
          54,
          190,
          98,
          6,
          1,
          6,
          917,
          953,
          772,
          884,
          943,
          896,
          890,
          941,
          965
         ]
        }
       ],
       "layout": {
        "legend": {
         "tracegroupgap": 0
        },
        "template": {
         "data": {
          "bar": [
           {
            "error_x": {
             "color": "#2a3f5f"
            },
            "error_y": {
             "color": "#2a3f5f"
            },
            "marker": {
             "line": {
              "color": "#E5ECF6",
              "width": 0.5
             },
             "pattern": {
              "fillmode": "overlay",
              "size": 10,
              "solidity": 0.2
             }
            },
            "type": "bar"
           }
          ],
          "barpolar": [
           {
            "marker": {
             "line": {
              "color": "#E5ECF6",
              "width": 0.5
             },
             "pattern": {
              "fillmode": "overlay",
              "size": 10,
              "solidity": 0.2
             }
            },
            "type": "barpolar"
           }
          ],
          "carpet": [
           {
            "aaxis": {
             "endlinecolor": "#2a3f5f",
             "gridcolor": "white",
             "linecolor": "white",
             "minorgridcolor": "white",
             "startlinecolor": "#2a3f5f"
            },
            "baxis": {
             "endlinecolor": "#2a3f5f",
             "gridcolor": "white",
             "linecolor": "white",
             "minorgridcolor": "white",
             "startlinecolor": "#2a3f5f"
            },
            "type": "carpet"
           }
          ],
          "choropleth": [
           {
            "colorbar": {
             "outlinewidth": 0,
             "ticks": ""
            },
            "type": "choropleth"
           }
          ],
          "contour": [
           {
            "colorbar": {
             "outlinewidth": 0,
             "ticks": ""
            },
            "colorscale": [
             [
              0,
              "#0d0887"
             ],
             [
              0.1111111111111111,
              "#46039f"
             ],
             [
              0.2222222222222222,
              "#7201a8"
             ],
             [
              0.3333333333333333,
              "#9c179e"
             ],
             [
              0.4444444444444444,
              "#bd3786"
             ],
             [
              0.5555555555555556,
              "#d8576b"
             ],
             [
              0.6666666666666666,
              "#ed7953"
             ],
             [
              0.7777777777777778,
              "#fb9f3a"
             ],
             [
              0.8888888888888888,
              "#fdca26"
             ],
             [
              1,
              "#f0f921"
             ]
            ],
            "type": "contour"
           }
          ],
          "contourcarpet": [
           {
            "colorbar": {
             "outlinewidth": 0,
             "ticks": ""
            },
            "type": "contourcarpet"
           }
          ],
          "heatmap": [
           {
            "colorbar": {
             "outlinewidth": 0,
             "ticks": ""
            },
            "colorscale": [
             [
              0,
              "#0d0887"
             ],
             [
              0.1111111111111111,
              "#46039f"
             ],
             [
              0.2222222222222222,
              "#7201a8"
             ],
             [
              0.3333333333333333,
              "#9c179e"
             ],
             [
              0.4444444444444444,
              "#bd3786"
             ],
             [
              0.5555555555555556,
              "#d8576b"
             ],
             [
              0.6666666666666666,
              "#ed7953"
             ],
             [
              0.7777777777777778,
              "#fb9f3a"
             ],
             [
              0.8888888888888888,
              "#fdca26"
             ],
             [
              1,
              "#f0f921"
             ]
            ],
            "type": "heatmap"
           }
          ],
          "heatmapgl": [
           {
            "colorbar": {
             "outlinewidth": 0,
             "ticks": ""
            },
            "colorscale": [
             [
              0,
              "#0d0887"
             ],
             [
              0.1111111111111111,
              "#46039f"
             ],
             [
              0.2222222222222222,
              "#7201a8"
             ],
             [
              0.3333333333333333,
              "#9c179e"
             ],
             [
              0.4444444444444444,
              "#bd3786"
             ],
             [
              0.5555555555555556,
              "#d8576b"
             ],
             [
              0.6666666666666666,
              "#ed7953"
             ],
             [
              0.7777777777777778,
              "#fb9f3a"
             ],
             [
              0.8888888888888888,
              "#fdca26"
             ],
             [
              1,
              "#f0f921"
             ]
            ],
            "type": "heatmapgl"
           }
          ],
          "histogram": [
           {
            "marker": {
             "pattern": {
              "fillmode": "overlay",
              "size": 10,
              "solidity": 0.2
             }
            },
            "type": "histogram"
           }
          ],
          "histogram2d": [
           {
            "colorbar": {
             "outlinewidth": 0,
             "ticks": ""
            },
            "colorscale": [
             [
              0,
              "#0d0887"
             ],
             [
              0.1111111111111111,
              "#46039f"
             ],
             [
              0.2222222222222222,
              "#7201a8"
             ],
             [
              0.3333333333333333,
              "#9c179e"
             ],
             [
              0.4444444444444444,
              "#bd3786"
             ],
             [
              0.5555555555555556,
              "#d8576b"
             ],
             [
              0.6666666666666666,
              "#ed7953"
             ],
             [
              0.7777777777777778,
              "#fb9f3a"
             ],
             [
              0.8888888888888888,
              "#fdca26"
             ],
             [
              1,
              "#f0f921"
             ]
            ],
            "type": "histogram2d"
           }
          ],
          "histogram2dcontour": [
           {
            "colorbar": {
             "outlinewidth": 0,
             "ticks": ""
            },
            "colorscale": [
             [
              0,
              "#0d0887"
             ],
             [
              0.1111111111111111,
              "#46039f"
             ],
             [
              0.2222222222222222,
              "#7201a8"
             ],
             [
              0.3333333333333333,
              "#9c179e"
             ],
             [
              0.4444444444444444,
              "#bd3786"
             ],
             [
              0.5555555555555556,
              "#d8576b"
             ],
             [
              0.6666666666666666,
              "#ed7953"
             ],
             [
              0.7777777777777778,
              "#fb9f3a"
             ],
             [
              0.8888888888888888,
              "#fdca26"
             ],
             [
              1,
              "#f0f921"
             ]
            ],
            "type": "histogram2dcontour"
           }
          ],
          "mesh3d": [
           {
            "colorbar": {
             "outlinewidth": 0,
             "ticks": ""
            },
            "type": "mesh3d"
           }
          ],
          "parcoords": [
           {
            "line": {
             "colorbar": {
              "outlinewidth": 0,
              "ticks": ""
             }
            },
            "type": "parcoords"
           }
          ],
          "pie": [
           {
            "automargin": true,
            "type": "pie"
           }
          ],
          "scatter": [
           {
            "fillpattern": {
             "fillmode": "overlay",
             "size": 10,
             "solidity": 0.2
            },
            "type": "scatter"
           }
          ],
          "scatter3d": [
           {
            "line": {
             "colorbar": {
              "outlinewidth": 0,
              "ticks": ""
             }
            },
            "marker": {
             "colorbar": {
              "outlinewidth": 0,
              "ticks": ""
             }
            },
            "type": "scatter3d"
           }
          ],
          "scattercarpet": [
           {
            "marker": {
             "colorbar": {
              "outlinewidth": 0,
              "ticks": ""
             }
            },
            "type": "scattercarpet"
           }
          ],
          "scattergeo": [
           {
            "marker": {
             "colorbar": {
              "outlinewidth": 0,
              "ticks": ""
             }
            },
            "type": "scattergeo"
           }
          ],
          "scattergl": [
           {
            "marker": {
             "colorbar": {
              "outlinewidth": 0,
              "ticks": ""
             }
            },
            "type": "scattergl"
           }
          ],
          "scattermapbox": [
           {
            "marker": {
             "colorbar": {
              "outlinewidth": 0,
              "ticks": ""
             }
            },
            "type": "scattermapbox"
           }
          ],
          "scatterpolar": [
           {
            "marker": {
             "colorbar": {
              "outlinewidth": 0,
              "ticks": ""
             }
            },
            "type": "scatterpolar"
           }
          ],
          "scatterpolargl": [
           {
            "marker": {
             "colorbar": {
              "outlinewidth": 0,
              "ticks": ""
             }
            },
            "type": "scatterpolargl"
           }
          ],
          "scatterternary": [
           {
            "marker": {
             "colorbar": {
              "outlinewidth": 0,
              "ticks": ""
             }
            },
            "type": "scatterternary"
           }
          ],
          "surface": [
           {
            "colorbar": {
             "outlinewidth": 0,
             "ticks": ""
            },
            "colorscale": [
             [
              0,
              "#0d0887"
             ],
             [
              0.1111111111111111,
              "#46039f"
             ],
             [
              0.2222222222222222,
              "#7201a8"
             ],
             [
              0.3333333333333333,
              "#9c179e"
             ],
             [
              0.4444444444444444,
              "#bd3786"
             ],
             [
              0.5555555555555556,
              "#d8576b"
             ],
             [
              0.6666666666666666,
              "#ed7953"
             ],
             [
              0.7777777777777778,
              "#fb9f3a"
             ],
             [
              0.8888888888888888,
              "#fdca26"
             ],
             [
              1,
              "#f0f921"
             ]
            ],
            "type": "surface"
           }
          ],
          "table": [
           {
            "cells": {
             "fill": {
              "color": "#EBF0F8"
             },
             "line": {
              "color": "white"
             }
            },
            "header": {
             "fill": {
              "color": "#C8D4E3"
             },
             "line": {
              "color": "white"
             }
            },
            "type": "table"
           }
          ]
         },
         "layout": {
          "annotationdefaults": {
           "arrowcolor": "#2a3f5f",
           "arrowhead": 0,
           "arrowwidth": 1
          },
          "autotypenumbers": "strict",
          "coloraxis": {
           "colorbar": {
            "outlinewidth": 0,
            "ticks": ""
           }
          },
          "colorscale": {
           "diverging": [
            [
             0,
             "#8e0152"
            ],
            [
             0.1,
             "#c51b7d"
            ],
            [
             0.2,
             "#de77ae"
            ],
            [
             0.3,
             "#f1b6da"
            ],
            [
             0.4,
             "#fde0ef"
            ],
            [
             0.5,
             "#f7f7f7"
            ],
            [
             0.6,
             "#e6f5d0"
            ],
            [
             0.7,
             "#b8e186"
            ],
            [
             0.8,
             "#7fbc41"
            ],
            [
             0.9,
             "#4d9221"
            ],
            [
             1,
             "#276419"
            ]
           ],
           "sequential": [
            [
             0,
             "#0d0887"
            ],
            [
             0.1111111111111111,
             "#46039f"
            ],
            [
             0.2222222222222222,
             "#7201a8"
            ],
            [
             0.3333333333333333,
             "#9c179e"
            ],
            [
             0.4444444444444444,
             "#bd3786"
            ],
            [
             0.5555555555555556,
             "#d8576b"
            ],
            [
             0.6666666666666666,
             "#ed7953"
            ],
            [
             0.7777777777777778,
             "#fb9f3a"
            ],
            [
             0.8888888888888888,
             "#fdca26"
            ],
            [
             1,
             "#f0f921"
            ]
           ],
           "sequentialminus": [
            [
             0,
             "#0d0887"
            ],
            [
             0.1111111111111111,
             "#46039f"
            ],
            [
             0.2222222222222222,
             "#7201a8"
            ],
            [
             0.3333333333333333,
             "#9c179e"
            ],
            [
             0.4444444444444444,
             "#bd3786"
            ],
            [
             0.5555555555555556,
             "#d8576b"
            ],
            [
             0.6666666666666666,
             "#ed7953"
            ],
            [
             0.7777777777777778,
             "#fb9f3a"
            ],
            [
             0.8888888888888888,
             "#fdca26"
            ],
            [
             1,
             "#f0f921"
            ]
           ]
          },
          "colorway": [
           "#636efa",
           "#EF553B",
           "#00cc96",
           "#ab63fa",
           "#FFA15A",
           "#19d3f3",
           "#FF6692",
           "#B6E880",
           "#FF97FF",
           "#FECB52"
          ],
          "font": {
           "color": "#2a3f5f"
          },
          "geo": {
           "bgcolor": "white",
           "lakecolor": "white",
           "landcolor": "#E5ECF6",
           "showlakes": true,
           "showland": true,
           "subunitcolor": "white"
          },
          "hoverlabel": {
           "align": "left"
          },
          "hovermode": "closest",
          "mapbox": {
           "style": "light"
          },
          "paper_bgcolor": "white",
          "plot_bgcolor": "#E5ECF6",
          "polar": {
           "angularaxis": {
            "gridcolor": "white",
            "linecolor": "white",
            "ticks": ""
           },
           "bgcolor": "#E5ECF6",
           "radialaxis": {
            "gridcolor": "white",
            "linecolor": "white",
            "ticks": ""
           }
          },
          "scene": {
           "xaxis": {
            "backgroundcolor": "#E5ECF6",
            "gridcolor": "white",
            "gridwidth": 2,
            "linecolor": "white",
            "showbackground": true,
            "ticks": "",
            "zerolinecolor": "white"
           },
           "yaxis": {
            "backgroundcolor": "#E5ECF6",
            "gridcolor": "white",
            "gridwidth": 2,
            "linecolor": "white",
            "showbackground": true,
            "ticks": "",
            "zerolinecolor": "white"
           },
           "zaxis": {
            "backgroundcolor": "#E5ECF6",
            "gridcolor": "white",
            "gridwidth": 2,
            "linecolor": "white",
            "showbackground": true,
            "ticks": "",
            "zerolinecolor": "white"
           }
          },
          "shapedefaults": {
           "line": {
            "color": "#2a3f5f"
           }
          },
          "ternary": {
           "aaxis": {
            "gridcolor": "white",
            "linecolor": "white",
            "ticks": ""
           },
           "baxis": {
            "gridcolor": "white",
            "linecolor": "white",
            "ticks": ""
           },
           "bgcolor": "#E5ECF6",
           "caxis": {
            "gridcolor": "white",
            "linecolor": "white",
            "ticks": ""
           }
          },
          "title": {
           "x": 0.05
          },
          "xaxis": {
           "automargin": true,
           "gridcolor": "white",
           "linecolor": "white",
           "ticks": "",
           "title": {
            "standoff": 15
           },
           "zerolinecolor": "white",
           "zerolinewidth": 2
          },
          "yaxis": {
           "automargin": true,
           "gridcolor": "white",
           "linecolor": "white",
           "ticks": "",
           "title": {
            "standoff": 15
           },
           "zerolinecolor": "white",
           "zerolinewidth": 2
          }
         }
        },
        "title": {
         "text": "Processes responsible for heap extension"
        }
       }
      }
     },
     "metadata": {},
     "output_type": "display_data"
    }
   ],
   "source": [
    "data_df = spark.read.option(\"basePath\", \"../ansible/.results\").json(\n",
    "\"../ansible/.results/kpps=*/tool=sys_enter_brk-kernel\")\n",
    "\n",
    "schema = StructType([\n",
    "  StructField('type', StringType(), True),\n",
    "  StructField('kpps', StringType(), True),\n",
    "  StructField('count', IntegerType(), True),\n",
    "  StructField('process', IntegerType(), True),\n",
    "  ])\n",
    "\n",
    "#Create empty DataFrame directly.\n",
    "sys_enter_brk_df = spark.createDataFrame([], schema)\n",
    "\n",
    "columns = data_df.select(\"data.@.*\").columns\n",
    "data_df = data_df.select(\"*\", \"data.@.*\").drop(\"data\")\n",
    "\n",
    "for c in columns:\n",
    "  try:\n",
    "    df = data_df.select(\"type\", \"kpps\", col(c).alias('count')).withColumn('process', lit(c))\n",
    "    sys_enter_brk_df = sys_enter_brk_df.union(df)\n",
    "  except:\n",
    "    print(\"Failed to find {</em>\".format(c))\n",
    "\n",
    "sys_enter_brk_fig = px.sunburst(sys_enter_brk_df.orderBy(col('kpps')).toPandas(), path=['kpps', 'process'], values='count',\n",
    "                  color='process', hover_data=['count'],\n",
    "                  title=\"Processes responsible for heap extension\")\n",
    "sys_enter_brk_fig.show()\n",
    "sys_enter_brk_fig.write_image(\"images/sys_enter_brk.jpeg\")\n",
    "with open(html_output_file, 'a') as f:\n",
    "    f.write(sys_enter_brk_fig.to_html(full_html=False, include_plotlyjs='cdn'))"
   ]
  },
  {
   "cell_type": "code",
   "execution_count": 13,
   "metadata": {},
   "outputs": [],
   "source": [
    "with open(html_output_file, 'a') as f:\n",
    "    f.write('<div><a href=\"#page_fault-user\">See user code path responsible for page faults</a></div>')\n",
    "    f.write('<div><a href=\"#page_fault-kernel\">See kernel code path responsible for page faults</a></div>')"
   ]
  },
  {
   "cell_type": "code",
   "execution_count": 14,
   "metadata": {},
   "outputs": [],
   "source": [
    "with open(html_output_file, 'a') as f:\n",
    "    f.write('<h2 id=\"filesystem-metrics\"> Filesystem Metrics </h2>')\n",
    "    f.write('<p> Firstly, we would want to <em>characterisation virtual file system operations</em>. This helps us know what the process is spending the most time doing on the filesystem - reads and writes (I/O), creates, opens, and syncs. After that, it is essential to know the size of data in for the <em>read and write operations by the process names</em>. This can assist in diagnosing the process responsible for the degraded filesystem performance in such cases. In the same manner, in the case of frequent VFS open operation, it is essential to know the <em>processes responsible for opening files</em>. While the earlier results can help in understanding the processes, it is also necessary to know the <em>filenames with the most frequently read and written</em>. This at a high level can expose some configuration errors, for example, verbose logging in production. This is the case for the Bind9 VNF in our case. Since sockets are also perceived as filenames, this can also show the frequency of sockets reads and writes. As mentioned earlier, the filesystem uses cache to avoid exposing disk I/O latency; therefore, another critical performance factor to consider is how the stock is performing. Applications are affected mainly by page cache; examining <em>the page cache hit ratio over time</em> can give insights on the NFV configuration tuning needed.</p>')"
   ]
  },
  {
   "cell_type": "code",
   "execution_count": 15,
   "metadata": {},
   "outputs": [
    {
     "data": {
      "application/vnd.plotly.v1+json": {
       "config": {
        "plotlyServerURL": "https://plot.ly"
       },
       "data": [
        {
         "alignmentgroup": "True",
         "cliponaxis": false,
         "hovertemplate": "VFS operation=WRITE<br>Packets Per Second (thousand)=%{x}<br>Count=%{y}<extra></extra>",
         "legendgroup": "WRITE",
         "marker": {
          "color": "#636efa",
          "pattern": {
           "shape": ""
          }
         },
         "name": "WRITE",
         "offsetgroup": "WRITE",
         "orientation": "v",
         "showlegend": true,
         "textangle": 0,
         "textfont": {
          "size": 12
         },
         "textposition": "outside",
         "type": "bar",
         "x": [
          200,
          10,
          5,
          50,
          1,
          400,
          500,
          300,
          100
         ],
         "xaxis": "x",
         "y": [
          160.45,
          149.55,
          153.55,
          153.65,
          149.05,
          190.2,
          195.45,
          188.5,
          159.85
         ],
         "yaxis": "y"
        },
        {
         "alignmentgroup": "True",
         "cliponaxis": false,
         "hovertemplate": "VFS operation=READ<br>Packets Per Second (thousand)=%{x}<br>Count=%{y}<extra></extra>",
         "legendgroup": "READ",
         "marker": {
          "color": "#EF553B",
          "pattern": {
           "shape": ""
          }
         },
         "name": "READ",
         "offsetgroup": "READ",
         "orientation": "v",
         "showlegend": true,
         "textangle": 0,
         "textfont": {
          "size": 12
         },
         "textposition": "outside",
         "type": "bar",
         "x": [
          200,
          10,
          5,
          50,
          1,
          400,
          500,
          300,
          100
         ],
         "xaxis": "x",
         "y": [
          4619.55,
          4655.45,
          4686.6,
          4672.8,
          4647.75,
          4719.85,
          4731.3,
          4720.05,
          4666.6
         ],
         "yaxis": "y"
        },
        {
         "alignmentgroup": "True",
         "cliponaxis": false,
         "hovertemplate": "VFS operation=OPEN<br>Packets Per Second (thousand)=%{x}<br>Count=%{y}<extra></extra>",
         "legendgroup": "OPEN",
         "marker": {
          "color": "#00cc96",
          "pattern": {
           "shape": ""
          }
         },
         "name": "OPEN",
         "offsetgroup": "OPEN",
         "orientation": "v",
         "showlegend": true,
         "textangle": 0,
         "textfont": {
          "size": 12
         },
         "textposition": "outside",
         "type": "bar",
         "x": [
          200,
          10,
          5,
          50,
          1,
          400,
          500,
          300,
          100
         ],
         "xaxis": "x",
         "y": [
          515.05,
          581.85,
          610.35,
          611.35,
          606.2,
          655.65,
          652.15,
          605.6,
          584.6
         ],
         "yaxis": "y"
        },
        {
         "alignmentgroup": "True",
         "cliponaxis": false,
         "hovertemplate": "VFS operation=FSYNC<br>Packets Per Second (thousand)=%{x}<br>Count=%{y}<extra></extra>",
         "legendgroup": "FSYNC",
         "marker": {
          "color": "#ab63fa",
          "pattern": {
           "shape": ""
          }
         },
         "name": "FSYNC",
         "offsetgroup": "FSYNC",
         "orientation": "v",
         "showlegend": true,
         "textangle": 0,
         "textfont": {
          "size": 12
         },
         "textposition": "outside",
         "type": "bar",
         "x": [
          200,
          10,
          5,
          50,
          1,
          400,
          500,
          300,
          100
         ],
         "xaxis": "x",
         "y": [
          0,
          0,
          0,
          0,
          0,
          0,
          0,
          0,
          0
         ],
         "yaxis": "y"
        },
        {
         "alignmentgroup": "True",
         "cliponaxis": false,
         "hovertemplate": "VFS operation=CREATE<br>Packets Per Second (thousand)=%{x}<br>Count=%{y}<extra></extra>",
         "legendgroup": "CREATE",
         "marker": {
          "color": "#FFA15A",
          "pattern": {
           "shape": ""
          }
         },
         "name": "CREATE",
         "offsetgroup": "CREATE",
         "orientation": "v",
         "showlegend": true,
         "textangle": 0,
         "textfont": {
          "size": 12
         },
         "textposition": "outside",
         "type": "bar",
         "x": [
          200,
          10,
          5,
          50,
          1,
          400,
          500,
          300,
          100
         ],
         "xaxis": "x",
         "y": [
          0,
          0,
          0,
          0,
          0,
          0,
          0,
          0,
          0
         ],
         "yaxis": "y"
        }
       ],
       "layout": {
        "barmode": "group",
        "legend": {
         "title": {
          "text": "VFS operation"
         },
         "tracegroupgap": 0
        },
        "template": {
         "data": {
          "bar": [
           {
            "error_x": {
             "color": "#2a3f5f"
            },
            "error_y": {
             "color": "#2a3f5f"
            },
            "marker": {
             "line": {
              "color": "#E5ECF6",
              "width": 0.5
             },
             "pattern": {
              "fillmode": "overlay",
              "size": 10,
              "solidity": 0.2
             }
            },
            "type": "bar"
           }
          ],
          "barpolar": [
           {
            "marker": {
             "line": {
              "color": "#E5ECF6",
              "width": 0.5
             },
             "pattern": {
              "fillmode": "overlay",
              "size": 10,
              "solidity": 0.2
             }
            },
            "type": "barpolar"
           }
          ],
          "carpet": [
           {
            "aaxis": {
             "endlinecolor": "#2a3f5f",
             "gridcolor": "white",
             "linecolor": "white",
             "minorgridcolor": "white",
             "startlinecolor": "#2a3f5f"
            },
            "baxis": {
             "endlinecolor": "#2a3f5f",
             "gridcolor": "white",
             "linecolor": "white",
             "minorgridcolor": "white",
             "startlinecolor": "#2a3f5f"
            },
            "type": "carpet"
           }
          ],
          "choropleth": [
           {
            "colorbar": {
             "outlinewidth": 0,
             "ticks": ""
            },
            "type": "choropleth"
           }
          ],
          "contour": [
           {
            "colorbar": {
             "outlinewidth": 0,
             "ticks": ""
            },
            "colorscale": [
             [
              0,
              "#0d0887"
             ],
             [
              0.1111111111111111,
              "#46039f"
             ],
             [
              0.2222222222222222,
              "#7201a8"
             ],
             [
              0.3333333333333333,
              "#9c179e"
             ],
             [
              0.4444444444444444,
              "#bd3786"
             ],
             [
              0.5555555555555556,
              "#d8576b"
             ],
             [
              0.6666666666666666,
              "#ed7953"
             ],
             [
              0.7777777777777778,
              "#fb9f3a"
             ],
             [
              0.8888888888888888,
              "#fdca26"
             ],
             [
              1,
              "#f0f921"
             ]
            ],
            "type": "contour"
           }
          ],
          "contourcarpet": [
           {
            "colorbar": {
             "outlinewidth": 0,
             "ticks": ""
            },
            "type": "contourcarpet"
           }
          ],
          "heatmap": [
           {
            "colorbar": {
             "outlinewidth": 0,
             "ticks": ""
            },
            "colorscale": [
             [
              0,
              "#0d0887"
             ],
             [
              0.1111111111111111,
              "#46039f"
             ],
             [
              0.2222222222222222,
              "#7201a8"
             ],
             [
              0.3333333333333333,
              "#9c179e"
             ],
             [
              0.4444444444444444,
              "#bd3786"
             ],
             [
              0.5555555555555556,
              "#d8576b"
             ],
             [
              0.6666666666666666,
              "#ed7953"
             ],
             [
              0.7777777777777778,
              "#fb9f3a"
             ],
             [
              0.8888888888888888,
              "#fdca26"
             ],
             [
              1,
              "#f0f921"
             ]
            ],
            "type": "heatmap"
           }
          ],
          "heatmapgl": [
           {
            "colorbar": {
             "outlinewidth": 0,
             "ticks": ""
            },
            "colorscale": [
             [
              0,
              "#0d0887"
             ],
             [
              0.1111111111111111,
              "#46039f"
             ],
             [
              0.2222222222222222,
              "#7201a8"
             ],
             [
              0.3333333333333333,
              "#9c179e"
             ],
             [
              0.4444444444444444,
              "#bd3786"
             ],
             [
              0.5555555555555556,
              "#d8576b"
             ],
             [
              0.6666666666666666,
              "#ed7953"
             ],
             [
              0.7777777777777778,
              "#fb9f3a"
             ],
             [
              0.8888888888888888,
              "#fdca26"
             ],
             [
              1,
              "#f0f921"
             ]
            ],
            "type": "heatmapgl"
           }
          ],
          "histogram": [
           {
            "marker": {
             "pattern": {
              "fillmode": "overlay",
              "size": 10,
              "solidity": 0.2
             }
            },
            "type": "histogram"
           }
          ],
          "histogram2d": [
           {
            "colorbar": {
             "outlinewidth": 0,
             "ticks": ""
            },
            "colorscale": [
             [
              0,
              "#0d0887"
             ],
             [
              0.1111111111111111,
              "#46039f"
             ],
             [
              0.2222222222222222,
              "#7201a8"
             ],
             [
              0.3333333333333333,
              "#9c179e"
             ],
             [
              0.4444444444444444,
              "#bd3786"
             ],
             [
              0.5555555555555556,
              "#d8576b"
             ],
             [
              0.6666666666666666,
              "#ed7953"
             ],
             [
              0.7777777777777778,
              "#fb9f3a"
             ],
             [
              0.8888888888888888,
              "#fdca26"
             ],
             [
              1,
              "#f0f921"
             ]
            ],
            "type": "histogram2d"
           }
          ],
          "histogram2dcontour": [
           {
            "colorbar": {
             "outlinewidth": 0,
             "ticks": ""
            },
            "colorscale": [
             [
              0,
              "#0d0887"
             ],
             [
              0.1111111111111111,
              "#46039f"
             ],
             [
              0.2222222222222222,
              "#7201a8"
             ],
             [
              0.3333333333333333,
              "#9c179e"
             ],
             [
              0.4444444444444444,
              "#bd3786"
             ],
             [
              0.5555555555555556,
              "#d8576b"
             ],
             [
              0.6666666666666666,
              "#ed7953"
             ],
             [
              0.7777777777777778,
              "#fb9f3a"
             ],
             [
              0.8888888888888888,
              "#fdca26"
             ],
             [
              1,
              "#f0f921"
             ]
            ],
            "type": "histogram2dcontour"
           }
          ],
          "mesh3d": [
           {
            "colorbar": {
             "outlinewidth": 0,
             "ticks": ""
            },
            "type": "mesh3d"
           }
          ],
          "parcoords": [
           {
            "line": {
             "colorbar": {
              "outlinewidth": 0,
              "ticks": ""
             }
            },
            "type": "parcoords"
           }
          ],
          "pie": [
           {
            "automargin": true,
            "type": "pie"
           }
          ],
          "scatter": [
           {
            "fillpattern": {
             "fillmode": "overlay",
             "size": 10,
             "solidity": 0.2
            },
            "type": "scatter"
           }
          ],
          "scatter3d": [
           {
            "line": {
             "colorbar": {
              "outlinewidth": 0,
              "ticks": ""
             }
            },
            "marker": {
             "colorbar": {
              "outlinewidth": 0,
              "ticks": ""
             }
            },
            "type": "scatter3d"
           }
          ],
          "scattercarpet": [
           {
            "marker": {
             "colorbar": {
              "outlinewidth": 0,
              "ticks": ""
             }
            },
            "type": "scattercarpet"
           }
          ],
          "scattergeo": [
           {
            "marker": {
             "colorbar": {
              "outlinewidth": 0,
              "ticks": ""
             }
            },
            "type": "scattergeo"
           }
          ],
          "scattergl": [
           {
            "marker": {
             "colorbar": {
              "outlinewidth": 0,
              "ticks": ""
             }
            },
            "type": "scattergl"
           }
          ],
          "scattermapbox": [
           {
            "marker": {
             "colorbar": {
              "outlinewidth": 0,
              "ticks": ""
             }
            },
            "type": "scattermapbox"
           }
          ],
          "scatterpolar": [
           {
            "marker": {
             "colorbar": {
              "outlinewidth": 0,
              "ticks": ""
             }
            },
            "type": "scatterpolar"
           }
          ],
          "scatterpolargl": [
           {
            "marker": {
             "colorbar": {
              "outlinewidth": 0,
              "ticks": ""
             }
            },
            "type": "scatterpolargl"
           }
          ],
          "scatterternary": [
           {
            "marker": {
             "colorbar": {
              "outlinewidth": 0,
              "ticks": ""
             }
            },
            "type": "scatterternary"
           }
          ],
          "surface": [
           {
            "colorbar": {
             "outlinewidth": 0,
             "ticks": ""
            },
            "colorscale": [
             [
              0,
              "#0d0887"
             ],
             [
              0.1111111111111111,
              "#46039f"
             ],
             [
              0.2222222222222222,
              "#7201a8"
             ],
             [
              0.3333333333333333,
              "#9c179e"
             ],
             [
              0.4444444444444444,
              "#bd3786"
             ],
             [
              0.5555555555555556,
              "#d8576b"
             ],
             [
              0.6666666666666666,
              "#ed7953"
             ],
             [
              0.7777777777777778,
              "#fb9f3a"
             ],
             [
              0.8888888888888888,
              "#fdca26"
             ],
             [
              1,
              "#f0f921"
             ]
            ],
            "type": "surface"
           }
          ],
          "table": [
           {
            "cells": {
             "fill": {
              "color": "#EBF0F8"
             },
             "line": {
              "color": "white"
             }
            },
            "header": {
             "fill": {
              "color": "#C8D4E3"
             },
             "line": {
              "color": "white"
             }
            },
            "type": "table"
           }
          ]
         },
         "layout": {
          "annotationdefaults": {
           "arrowcolor": "#2a3f5f",
           "arrowhead": 0,
           "arrowwidth": 1
          },
          "autotypenumbers": "strict",
          "coloraxis": {
           "colorbar": {
            "outlinewidth": 0,
            "ticks": ""
           }
          },
          "colorscale": {
           "diverging": [
            [
             0,
             "#8e0152"
            ],
            [
             0.1,
             "#c51b7d"
            ],
            [
             0.2,
             "#de77ae"
            ],
            [
             0.3,
             "#f1b6da"
            ],
            [
             0.4,
             "#fde0ef"
            ],
            [
             0.5,
             "#f7f7f7"
            ],
            [
             0.6,
             "#e6f5d0"
            ],
            [
             0.7,
             "#b8e186"
            ],
            [
             0.8,
             "#7fbc41"
            ],
            [
             0.9,
             "#4d9221"
            ],
            [
             1,
             "#276419"
            ]
           ],
           "sequential": [
            [
             0,
             "#0d0887"
            ],
            [
             0.1111111111111111,
             "#46039f"
            ],
            [
             0.2222222222222222,
             "#7201a8"
            ],
            [
             0.3333333333333333,
             "#9c179e"
            ],
            [
             0.4444444444444444,
             "#bd3786"
            ],
            [
             0.5555555555555556,
             "#d8576b"
            ],
            [
             0.6666666666666666,
             "#ed7953"
            ],
            [
             0.7777777777777778,
             "#fb9f3a"
            ],
            [
             0.8888888888888888,
             "#fdca26"
            ],
            [
             1,
             "#f0f921"
            ]
           ],
           "sequentialminus": [
            [
             0,
             "#0d0887"
            ],
            [
             0.1111111111111111,
             "#46039f"
            ],
            [
             0.2222222222222222,
             "#7201a8"
            ],
            [
             0.3333333333333333,
             "#9c179e"
            ],
            [
             0.4444444444444444,
             "#bd3786"
            ],
            [
             0.5555555555555556,
             "#d8576b"
            ],
            [
             0.6666666666666666,
             "#ed7953"
            ],
            [
             0.7777777777777778,
             "#fb9f3a"
            ],
            [
             0.8888888888888888,
             "#fdca26"
            ],
            [
             1,
             "#f0f921"
            ]
           ]
          },
          "colorway": [
           "#636efa",
           "#EF553B",
           "#00cc96",
           "#ab63fa",
           "#FFA15A",
           "#19d3f3",
           "#FF6692",
           "#B6E880",
           "#FF97FF",
           "#FECB52"
          ],
          "font": {
           "color": "#2a3f5f"
          },
          "geo": {
           "bgcolor": "white",
           "lakecolor": "white",
           "landcolor": "#E5ECF6",
           "showlakes": true,
           "showland": true,
           "subunitcolor": "white"
          },
          "hoverlabel": {
           "align": "left"
          },
          "hovermode": "closest",
          "mapbox": {
           "style": "light"
          },
          "paper_bgcolor": "white",
          "plot_bgcolor": "#E5ECF6",
          "polar": {
           "angularaxis": {
            "gridcolor": "white",
            "linecolor": "white",
            "ticks": ""
           },
           "bgcolor": "#E5ECF6",
           "radialaxis": {
            "gridcolor": "white",
            "linecolor": "white",
            "ticks": ""
           }
          },
          "scene": {
           "xaxis": {
            "backgroundcolor": "#E5ECF6",
            "gridcolor": "white",
            "gridwidth": 2,
            "linecolor": "white",
            "showbackground": true,
            "ticks": "",
            "zerolinecolor": "white"
           },
           "yaxis": {
            "backgroundcolor": "#E5ECF6",
            "gridcolor": "white",
            "gridwidth": 2,
            "linecolor": "white",
            "showbackground": true,
            "ticks": "",
            "zerolinecolor": "white"
           },
           "zaxis": {
            "backgroundcolor": "#E5ECF6",
            "gridcolor": "white",
            "gridwidth": 2,
            "linecolor": "white",
            "showbackground": true,
            "ticks": "",
            "zerolinecolor": "white"
           }
          },
          "shapedefaults": {
           "line": {
            "color": "#2a3f5f"
           }
          },
          "ternary": {
           "aaxis": {
            "gridcolor": "white",
            "linecolor": "white",
            "ticks": ""
           },
           "baxis": {
            "gridcolor": "white",
            "linecolor": "white",
            "ticks": ""
           },
           "bgcolor": "#E5ECF6",
           "caxis": {
            "gridcolor": "white",
            "linecolor": "white",
            "ticks": ""
           }
          },
          "title": {
           "x": 0.05
          },
          "xaxis": {
           "automargin": true,
           "gridcolor": "white",
           "linecolor": "white",
           "ticks": "",
           "title": {
            "standoff": 15
           },
           "zerolinecolor": "white",
           "zerolinewidth": 2
          },
          "yaxis": {
           "automargin": true,
           "gridcolor": "white",
           "linecolor": "white",
           "ticks": "",
           "title": {
            "standoff": 15
           },
           "zerolinecolor": "white",
           "zerolinewidth": 2
          }
         }
        },
        "title": {
         "text": "High-level workload characterization of virtual file system operations"
        },
        "xaxis": {
         "anchor": "y",
         "domain": [
          0,
          1
         ],
         "title": {
          "text": "Packets Per Second (thousand)"
         }
        },
        "yaxis": {
         "anchor": "x",
         "domain": [
          0,
          1
         ],
         "title": {
          "text": "Count"
         }
        }
       }
      }
     },
     "metadata": {},
     "output_type": "display_data"
    }
   ],
   "source": [
    "vfsstat_df = spark.read.option(\"basePath\", \"../ansible/.results\").json(\n",
    "\"../ansible/.results/kpps=*/tool=vfsstat\")\n",
    "vfsstat_fig = px.bar(vfsstat_df.toPandas(), x=\"kpps\", y=[\"WRITE\", \"READ\", \"OPEN\", \"FSYNC\", \"CREATE\"], barmode='group',\n",
    "            title=\"High-level workload characterization of virtual file system operations\",\n",
    "            labels={\n",
    "                     \"kpps\": \"Packets Per Second (thousand)\",\n",
    "                     \"value\": \"Count\",\n",
    "                     \"variable\": \"VFS operation\"\n",
    "            })\n",
    "vfsstat_fig.update_traces(textfont_size=12, textangle=0, textposition=\"outside\", cliponaxis=False)\n",
    "vfsstat_fig.show()\n",
    "vfsstat_fig.write_image(\"images/vfsstat.jpeg\")\n",
    "with open(html_output_file, 'a') as f:\n",
    "    f.write(vfsstat_fig.to_html(full_html=False, include_plotlyjs='cdn'))\n"
   ]
  },
  {
   "cell_type": "code",
   "execution_count": 13,
   "metadata": {},
   "outputs": [
    {
     "name": "stderr",
     "output_type": "stream",
     "text": [
      "22/09/17 15:11:16 WARN package: Truncated the string representation of a plan since it was too large. This behavior can be adjusted by setting 'spark.sql.debug.maxToStringFields'.\n",
      "Exception in thread \"RemoteBlock-temp-file-clean-thread\" Exception in thread \"refresh progress\" java.lang.OutOfMemoryError: Java heap space\n",
      "java.lang.OutOfMemoryError: Java heap space\n",
      "\tat scala.Option.map(Option.scala:230)\n",
      "\tat org.apache.spark.status.AppStatusStore.activeStages(AppStatusStore.scala:114)\n",
      "\tat org.apache.spark.ui.ConsoleProgressBar.org$apache$spark$ui$ConsoleProgressBar$$refresh(ConsoleProgressBar.scala:64)\n",
      "\tat org.apache.spark.ui.ConsoleProgressBar$$anon$1.run(ConsoleProgressBar.scala:52)\n",
      "\tat java.base/java.util.TimerThread.mainLoop(Timer.java:556)\n",
      "\tat java.base/java.util.TimerThread.run(Timer.java:506)\n",
      "22/09/17 15:14:44 ERROR Utils: uncaught error in thread Spark Context Cleaner, stopping SparkContext\n",
      "java.lang.OutOfMemoryError: Java heap space\n",
      "22/09/17 15:14:44 ERROR Utils: throw uncaught fatal error in thread Spark Context Cleaner\n",
      "java.lang.OutOfMemoryError: Java heap space\n",
      "Exception in thread \"Spark Context Cleaner\" java.lang.OutOfMemoryError: Java heap space\n"
     ]
    },
    {
     "name": "stdout",
     "output_type": "stream",
     "text": [
      "Failed to find bash,libnsl-2_27_so\n",
      "Failed to find bash,libtinfo_so_5_9\n",
      "Failed to find bash,meminfo\n",
      "Failed to find bash,passwd\n",
      "Failed to find bash,smf-healthcheck_sh\n",
      "Failed to find bash,spgwu-healthcheck_sh\n",
      "Failed to find cat,amf_conf\n",
      "Failed to find cat,libc-2_27_so\n",
      "Failed to find cat,nrf_conf\n",
      "Failed to find cat,udr_conf\n",
      "Failed to find containerd-shim,22ae1f2e8cde196166c3a3a37a10be3ea0ebb170f16b4730d6b1de683a94125\n",
      "Failed to find containerd-shim,2e982c46f13f387f0e775227fad8ea3cc1732d87022e7c2e9094502bea3031d\n",
      "Failed to find containerd-shim,3d00afe330338a513524bf8e674236863da3d2571469b0216780168629ea122\n",
      "Failed to find containerd-shim,4f2d8bb4e913f073c56720a7d07445f20cf9d383e87de18170a968ec7821654\n",
      "Failed to find containerd-shim,FIFO\n",
      "Failed to find containerd-shim,UNIX\n",
      "Failed to find containerd-shim,b3711071e575edefc69ae7658f9ca8fde2c2af9222cba22e54bf7a0e4e32e00\n",
      "Failed to find containerd-shim,dec83d05e97b2855a25ad65e249d5e1d34def682aeb7a415a4d63a09bfe67c5\n",
      "Failed to find containerd-shim,e70605205fd7603abf1265cbe9307dad00f61d63dc970b8deb116efe9eaeb43\n",
      "Failed to find containerd-shim,runc-process1010429699\n",
      "Failed to find containerd-shim,runc-process1010906184\n",
      "Failed to find containerd-shim,runc-process1018608529\n",
      "Failed to find containerd-shim,runc-process1020398182\n",
      "Failed to find containerd-shim,runc-process1076452317\n",
      "Failed to find containerd-shim,runc-process1080935180\n",
      "Failed to find containerd-shim,runc-process108096040\n",
      "Failed to find containerd-shim,runc-process1087430418\n",
      "Failed to find containerd-shim,runc-process1093297956\n",
      "Failed to find containerd-shim,runc-process1164067678\n",
      "Failed to find containerd-shim,runc-process1176205865\n",
      "Failed to find containerd-shim,runc-process1189005161\n",
      "Failed to find containerd-shim,runc-process1195416660\n",
      "Failed to find containerd-shim,runc-process1214243290\n",
      "Failed to find containerd-shim,runc-process121700806\n",
      "Failed to find containerd-shim,runc-process1226256412\n",
      "Failed to find containerd-shim,runc-process123017572\n",
      "Failed to find containerd-shim,runc-process1235301138\n",
      "Failed to find containerd-shim,runc-process1241026082\n",
      "Failed to find containerd-shim,runc-process1294364583\n",
      "Failed to find containerd-shim,runc-process1308297389\n",
      "Failed to find containerd-shim,runc-process1315174132\n",
      "Failed to find containerd-shim,runc-process1315991842\n",
      "Failed to find containerd-shim,runc-process1328762247\n",
      "Failed to find containerd-shim,runc-process1334012810\n",
      "Failed to find containerd-shim,runc-process1358849398\n",
      "Failed to find containerd-shim,runc-process1377652745\n",
      "Failed to find containerd-shim,runc-process1397264023\n",
      "Failed to find containerd-shim,runc-process1400316378\n",
      "Failed to find containerd-shim,runc-process1412854275\n",
      "Failed to find containerd-shim,runc-process1421030398\n",
      "Failed to find containerd-shim,runc-process1473453483\n",
      "Failed to find containerd-shim,runc-process147626755\n",
      "Failed to find containerd-shim,runc-process1496866874\n",
      "Failed to find containerd-shim,runc-process1511452924\n",
      "Failed to find containerd-shim,runc-process1518177414\n",
      "Failed to find containerd-shim,runc-process1518747297\n",
      "Failed to find containerd-shim,runc-process1527396135\n",
      "Failed to find containerd-shim,runc-process1530369405\n",
      "Failed to find containerd-shim,runc-process1541521379\n",
      "Failed to find containerd-shim,runc-process1595808662\n",
      "Failed to find containerd-shim,runc-process1598612610\n",
      "Failed to find containerd-shim,runc-process1600819105\n",
      "Failed to find containerd-shim,runc-process1605731218\n",
      "Failed to find containerd-shim,runc-process1613859681\n",
      "Failed to find containerd-shim,runc-process162362377\n",
      "Failed to find containerd-shim,runc-process1636772523\n",
      "Failed to find containerd-shim,runc-process1649202671\n",
      "Failed to find containerd-shim,runc-process1653509548\n",
      "Failed to find containerd-shim,runc-process1681262458\n",
      "Failed to find containerd-shim,runc-process1681833428\n",
      "Failed to find containerd-shim,runc-process1697940156\n",
      "Failed to find containerd-shim,runc-process1699921498\n",
      "Failed to find containerd-shim,runc-process1709972060\n",
      "Failed to find containerd-shim,runc-process1718096895\n",
      "Failed to find containerd-shim,runc-process1726383584\n",
      "Failed to find containerd-shim,runc-process172990954\n",
      "Failed to find containerd-shim,runc-process1741199213\n",
      "Failed to find containerd-shim,runc-process176278496\n",
      "Failed to find containerd-shim,runc-process1784550782\n",
      "Failed to find containerd-shim,runc-process1785955528\n",
      "Failed to find containerd-shim,runc-process1791327860\n",
      "Failed to find containerd-shim,runc-process1804123815\n",
      "Failed to find containerd-shim,runc-process180485911\n",
      "Failed to find containerd-shim,runc-process18072948\n",
      "Failed to find containerd-shim,runc-process1811350613\n",
      "Failed to find containerd-shim,runc-process181564774\n",
      "Failed to find containerd-shim,runc-process1817180326\n",
      "Failed to find containerd-shim,runc-process1834662186\n",
      "Failed to find containerd-shim,runc-process184709383\n",
      "Failed to find containerd-shim,runc-process1870111290\n",
      "Failed to find containerd-shim,runc-process1878775036\n",
      "Failed to find containerd-shim,runc-process1897606075\n",
      "Failed to find containerd-shim,runc-process1939514718\n",
      "Failed to find containerd-shim,runc-process1946534371\n",
      "Failed to find containerd-shim,runc-process1949918587\n",
      "Failed to find containerd-shim,runc-process1971714154\n",
      "Failed to find containerd-shim,runc-process199226225\n",
      "Failed to find containerd-shim,runc-process1992286016\n",
      "Failed to find containerd-shim,runc-process1996367001\n",
      "Failed to find containerd-shim,runc-process2002785534\n",
      "Failed to find containerd-shim,runc-process2003575511\n",
      "Failed to find containerd-shim,runc-process2008844817\n",
      "Failed to find containerd-shim,runc-process2011490578\n",
      "Failed to find containerd-shim,runc-process2013504838\n",
      "Failed to find containerd-shim,runc-process2017279269\n",
      "Failed to find containerd-shim,runc-process203989776\n",
      "Failed to find containerd-shim,runc-process2046627401\n",
      "Failed to find containerd-shim,runc-process2049705833\n",
      "Failed to find containerd-shim,runc-process2074035747\n",
      "Failed to find containerd-shim,runc-process2086115986\n",
      "Failed to find containerd-shim,runc-process2093617688\n",
      "Failed to find containerd-shim,runc-process2095284328\n",
      "Failed to find containerd-shim,runc-process2107665206\n"
     ]
    },
    {
     "name": "stderr",
     "output_type": "stream",
     "text": [
      "ERROR:root:KeyboardInterrupt while sending command.\n",
      "Traceback (most recent call last):\n",
      "  File \"/home/tariro/.local/lib/python3.10/site-packages/py4j/java_gateway.py\", line 1038, in send_command\n",
      "    response = connection.send_command(command)\n",
      "  File \"/home/tariro/.local/lib/python3.10/site-packages/py4j/clientserver.py\", line 511, in send_command\n",
      "    answer = smart_decode(self.stream.readline()[:-1])\n",
      "  File \"/usr/lib/python3.10/socket.py\", line 705, in readinto\n",
      "    return self._sock.recv_into(b)\n",
      "KeyboardInterrupt\n"
     ]
    },
    {
     "name": "stdout",
     "output_type": "stream",
     "text": [
      "Failed to find containerd-shim,runc-process2111710143\n"
     ]
    }
   ],
   "source": [
    "from pyspark.sql.types import StructType,StructField, StringType, IntegerType\n",
    "data_df = spark.read.option(\"basePath\", \"../ansible/.results\").json(\"../ansible/.results/kpps=*/tool=vfssize\")\n",
    "schema = StructType([\n",
    "  StructField('type', StringType(), True),\n",
    "  StructField('kpps', IntegerType(), True),\n",
    "  StructField('count', IntegerType(), True),\n",
    "  StructField('min', IntegerType(), True),\n",
    "  StructField('max', IntegerType(), True),\n",
    "  StructField('device', StringType(), True),\n",
    "  StructField('program', StringType(), True),\n",
    "  StructField('filename', StringType(), True),\n",
    "  ])\n",
    "\n",
    "#Create empty DataFrame directly.\n",
    "vfssize_df = spark.createDataFrame([], schema)\n",
    "\n",
    "columns = data_df.select(\"data.@.*\").columns\n",
    "columns = [c.replace('.', '_') for c in columns]\n",
    "data_df = data_df.select(\"*\", \"data.@.*\").drop(\"data\")\n",
    "data_df = data_df.toDF(*(c.replace('.', '_') for c in data_df.columns))\n",
    "for c in columns:\n",
    "  try:\n",
    "    df = data_df.select(\"*\", explode(c).alias(\"dataExplode\")).select(\"type\", \"kpps\", \"dataExplode.*\").withColumn('device', lit(c)).withColumn('program', lit(c.split(',')[0])).withColumn('filename', lit(c.split(',')[1]))\n",
    "    vfssize_df = vfssize_df.union(df)\n",
    "  except:\n",
    "    print(\"Failed to find {}\".format(c))\n",
    "\n",
    "vfssize_df = vfssize_df.orderBy(col('kpps')).select(\"*\", concat_ws(' - ',col('min'),col('max')).alias(\"interval\"))\n",
    "\n",
    "vfssize_fig_1 = px.scatter(vfssize_df.toPandas(), x=\"interval\", y=\"kpps\",\n",
    "\t         size=\"count\", color=\"program\",\n",
    "             title=\"The frequency of I/O per proccess name per I/O size\",\n",
    "            labels={\n",
    "                        \"kpps\": \"Packets Per Second (thousand)\",\n",
    "                        \"count\": \"Number of I/O operations\",\n",
    "                        \"interval\": \"I/O Size (bytes)\"\n",
    "                    })\n",
    "vfssize_fig_1.show()\n",
    "vfssize_fig_1.write_image(\"images/vfssize-process.jpeg\")\n",
    "vfssize_fig_2 = px.scatter(vfssize_df.toPandas(), x=\"interval\", y=\"kpps\",\n",
    "\t         size=\"count\", color=\"filename\",\n",
    "             title=\"The frequency of I/O per filename per I/O size\",\n",
    "            labels={\n",
    "                        \"kpps\": \"Packets Per Second (thousand)\",\n",
    "                        \"count\": \"Number of I/O operations\",\n",
    "                        \"interval\": \"I/O Size (bytes)\"\n",
    "                    })\n",
    "vfssize_fig_2.show()\n",
    "vfssize_fig_2.write_image(\"images/vfssize-filename.jpeg\")\n",
    "pd_df = vfssize_df.toPandas()\n",
    "pd_df['kpps'] = pd_df['kpps'].astype(str)\n",
    "vfssize_fig_3 = px.bar(pd_df, x=\"interval\", y=\"count\", color=\"kpps\", barmode=\"group\",\n",
    "        title=\"Time each of the processes spends waiting for its turn on CPU\",\n",
    "        color_discrete_sequence=px.colors.sequential.Plasma,\n",
    "        labels={\n",
    "                    \"kpps\": \"Packets Per Second (thousand)\",\n",
    "                    \"count\": \"Number of I/O operations\",\n",
    "                    \"interval\": \"I/O Size (bytes)\"\n",
    "                })\n",
    "vfssize_fig_3.show()\n",
    "vfssize_fig_3.write_image(\"images/vfssize.jpeg\")\n",
    "with open(html_output_file, 'a') as f:\n",
    "    f.write(vfssize_fig_1.to_html(full_html=False, include_plotlyjs='cdn'))\n",
    "    f.write(vfssize_fig_2.to_html(full_html=False, include_plotlyjs='cdn'))\n",
    "    f.write(vfssize_fig_3.to_html(full_html=False, include_plotlyjs='cdn'))"
   ]
  },
  {
   "cell_type": "code",
   "execution_count": 16,
   "metadata": {},
   "outputs": [
    {
     "data": {
      "application/vnd.plotly.v1+json": {
       "config": {
        "plotlyServerURL": "https://plot.ly"
       },
       "data": [
        {
         "branchvalues": "total",
         "customdata": [
          [
           "(?)",
           "(?)"
          ],
          [
           30,
           "init-stdout"
          ],
          [
           "(?)",
           "init-stdout"
          ],
          [
           "(?)",
           "init-stdout"
          ],
          [
           "(?)",
           "init-stdout"
          ],
          [
           28,
           "init-stdout"
          ],
          [
           24,
           "init-stdout"
          ],
          [
           160,
           "uevent"
          ],
          [
           180,
           "current"
          ],
          [
           12,
           "cmdline"
          ],
          [
           "(?)",
           "cmdline"
          ],
          [
           2,
           "cmdline"
          ],
          [
           "(?)",
           "cmdline"
          ],
          [
           "(?)",
           "(?)"
          ],
          [
           "(?)",
           "(?)"
          ],
          [
           "(?)",
           "init-stdout"
          ],
          [
           "(?)",
           "(?)"
          ],
          [
           "(?)",
           "(?)"
          ],
          [
           160,
           "b252:1"
          ],
          [
           160,
           "b252:1"
          ],
          [
           "(?)",
           "(?)"
          ],
          [
           142,
           "b252:1"
          ],
          [
           "(?)",
           "b252:1"
          ],
          [
           "(?)",
           "UNIX"
          ],
          [
           "(?)",
           "UNIX"
          ],
          [
           "(?)",
           "(?)"
          ],
          [
           "(?)",
           "UNIX"
          ],
          [
           "(?)",
           "UNIX"
          ],
          [
           "(?)",
           "UNIX"
          ],
          [
           "(?)",
           "UNIX"
          ],
          [
           "(?)",
           "UNIX"
          ],
          [
           160,
           "uevent"
          ],
          [
           "(?)",
           "(?)"
          ],
          [
           160,
           "uevent"
          ],
          [
           "(?)",
           "UNIX"
          ],
          [
           "(?)",
           "init-stdout"
          ],
          [
           "(?)",
           "(?)"
          ],
          [
           "(?)",
           "UNIX"
          ],
          [
           226,
           "current"
          ],
          [
           "(?)",
           "uevent"
          ],
          [
           142,
           "uevent"
          ],
          [
           164,
           "uevent"
          ],
          [
           12,
           "cmdline"
          ],
          [
           10,
           "cmdline"
          ],
          [
           16,
           "cmdline"
          ],
          [
           8,
           "cmdline"
          ],
          [
           473,
           "mountinfo"
          ],
          [
           "(?)",
           "init-stdout"
          ],
          [
           "(?)",
           "cmdline"
          ],
          [
           164,
           "b252:1"
          ]
         ],
         "domain": {
          "x": [
           0,
           1
          ],
          "y": [
           0,
           1
          ]
         },
         "hovertemplate": "labels=%{label}<br>R_Kb=%{value}<br>parent=%{parent}<br>id=%{id}<br>Number of file reads=%{customdata[0]}<br>File names=%{customdata[1]}<extra></extra>",
         "ids": [
          "500",
          "300/init-stdout",
          "200/init-stdout",
          "100/init-stdout",
          "50/init-stdout",
          "10/init-stdout",
          "5/init-stdout",
          "200/uevent",
          "300/current",
          "500/cmdline",
          "400/cmdline",
          "300/cmdline",
          "200/cmdline",
          "1",
          "5",
          "400/init-stdout",
          "10",
          "100",
          "200/b252:1",
          "50/b252:1",
          "200",
          "5/b252:1",
          "1/b252:1",
          "500/UNIX",
          "400/UNIX",
          "50",
          "300/UNIX",
          "200/UNIX",
          "100/UNIX",
          "50/UNIX",
          "10/UNIX",
          "100/uevent",
          "300",
          "50/uevent",
          "1/UNIX",
          "1/init-stdout",
          "400",
          "5/UNIX",
          "500/current",
          "1/uevent",
          "5/uevent",
          "10/uevent",
          "50/cmdline",
          "10/cmdline",
          "5/cmdline",
          "1/cmdline",
          "5/mountinfo",
          "500/init-stdout",
          "100/cmdline",
          "10/b252:1"
         ],
         "labels": [
          "500",
          "init-stdout",
          "init-stdout",
          "init-stdout",
          "init-stdout",
          "init-stdout",
          "init-stdout",
          "uevent",
          "current",
          "cmdline",
          "cmdline",
          "cmdline",
          "cmdline",
          "1",
          "5",
          "init-stdout",
          "10",
          "100",
          "b252:1",
          "b252:1",
          "200",
          "b252:1",
          "b252:1",
          "UNIX",
          "UNIX",
          "50",
          "UNIX",
          "UNIX",
          "UNIX",
          "UNIX",
          "UNIX",
          "uevent",
          "300",
          "uevent",
          "UNIX",
          "init-stdout",
          "400",
          "UNIX",
          "current",
          "uevent",
          "uevent",
          "uevent",
          "cmdline",
          "cmdline",
          "cmdline",
          "cmdline",
          "mountinfo",
          "init-stdout",
          "cmdline",
          "b252:1"
         ],
         "marker": {
          "colors": [
           "#636efa",
           "#EF553B",
           "#EF553B",
           "#EF553B",
           "#EF553B",
           "#EF553B",
           "#EF553B",
           "#00cc96",
           "#ab63fa",
           "#FFA15A",
           "#FFA15A",
           "#FFA15A",
           "#FFA15A",
           "#636efa",
           "#636efa",
           "#EF553B",
           "#636efa",
           "#636efa",
           "#19d3f3",
           "#19d3f3",
           "#636efa",
           "#19d3f3",
           "#19d3f3",
           "#FF6692",
           "#FF6692",
           "#636efa",
           "#FF6692",
           "#FF6692",
           "#FF6692",
           "#FF6692",
           "#FF6692",
           "#00cc96",
           "#636efa",
           "#00cc96",
           "#FF6692",
           "#EF553B",
           "#636efa",
           "#FF6692",
           "#ab63fa",
           "#00cc96",
           "#00cc96",
           "#00cc96",
           "#FFA15A",
           "#FFA15A",
           "#FFA15A",
           "#FFA15A",
           "#B6E880",
           "#EF553B",
           "#FFA15A",
           "#19d3f3"
          ]
         },
         "name": "",
         "parents": [
          "",
          "300",
          "200",
          "100",
          "50",
          "10",
          "5",
          "200",
          "300",
          "500",
          "400",
          "300",
          "200",
          "",
          "",
          "400",
          "",
          "",
          "200",
          "50",
          "",
          "5",
          "1",
          "500",
          "400",
          "",
          "300",
          "200",
          "100",
          "50",
          "10",
          "100",
          "",
          "50",
          "1",
          "1",
          "",
          "5",
          "500",
          "1",
          "5",
          "10",
          "50",
          "10",
          "5",
          "1",
          "5",
          "500",
          "100",
          "10"
         ],
         "type": "sunburst",
         "values": [
          116211.1171875,
          960,
          3456,
          8480,
          1984,
          896,
          768,
          640,
          2879.296875,
          49140,
          49140,
          8190,
          49140,
          96392,
          126466,
          7200,
          99334,
          99192,
          640,
          1280,
          111156,
          1136,
          1256,
          59136,
          60320,
          113140,
          50144,
          57280,
          57312,
          59456,
          55520,
          640,
          62173.296875,
          1280,
          59872,
          1248,
          116660,
          56960,
          3615.1171875,
          1256,
          1136,
          656,
          49140,
          40950,
          65520,
          32760,
          946,
          4320,
          32760,
          1312
         ]
        }
       ],
       "layout": {
        "legend": {
         "tracegroupgap": 0
        },
        "template": {
         "data": {
          "bar": [
           {
            "error_x": {
             "color": "#2a3f5f"
            },
            "error_y": {
             "color": "#2a3f5f"
            },
            "marker": {
             "line": {
              "color": "#E5ECF6",
              "width": 0.5
             },
             "pattern": {
              "fillmode": "overlay",
              "size": 10,
              "solidity": 0.2
             }
            },
            "type": "bar"
           }
          ],
          "barpolar": [
           {
            "marker": {
             "line": {
              "color": "#E5ECF6",
              "width": 0.5
             },
             "pattern": {
              "fillmode": "overlay",
              "size": 10,
              "solidity": 0.2
             }
            },
            "type": "barpolar"
           }
          ],
          "carpet": [
           {
            "aaxis": {
             "endlinecolor": "#2a3f5f",
             "gridcolor": "white",
             "linecolor": "white",
             "minorgridcolor": "white",
             "startlinecolor": "#2a3f5f"
            },
            "baxis": {
             "endlinecolor": "#2a3f5f",
             "gridcolor": "white",
             "linecolor": "white",
             "minorgridcolor": "white",
             "startlinecolor": "#2a3f5f"
            },
            "type": "carpet"
           }
          ],
          "choropleth": [
           {
            "colorbar": {
             "outlinewidth": 0,
             "ticks": ""
            },
            "type": "choropleth"
           }
          ],
          "contour": [
           {
            "colorbar": {
             "outlinewidth": 0,
             "ticks": ""
            },
            "colorscale": [
             [
              0,
              "#0d0887"
             ],
             [
              0.1111111111111111,
              "#46039f"
             ],
             [
              0.2222222222222222,
              "#7201a8"
             ],
             [
              0.3333333333333333,
              "#9c179e"
             ],
             [
              0.4444444444444444,
              "#bd3786"
             ],
             [
              0.5555555555555556,
              "#d8576b"
             ],
             [
              0.6666666666666666,
              "#ed7953"
             ],
             [
              0.7777777777777778,
              "#fb9f3a"
             ],
             [
              0.8888888888888888,
              "#fdca26"
             ],
             [
              1,
              "#f0f921"
             ]
            ],
            "type": "contour"
           }
          ],
          "contourcarpet": [
           {
            "colorbar": {
             "outlinewidth": 0,
             "ticks": ""
            },
            "type": "contourcarpet"
           }
          ],
          "heatmap": [
           {
            "colorbar": {
             "outlinewidth": 0,
             "ticks": ""
            },
            "colorscale": [
             [
              0,
              "#0d0887"
             ],
             [
              0.1111111111111111,
              "#46039f"
             ],
             [
              0.2222222222222222,
              "#7201a8"
             ],
             [
              0.3333333333333333,
              "#9c179e"
             ],
             [
              0.4444444444444444,
              "#bd3786"
             ],
             [
              0.5555555555555556,
              "#d8576b"
             ],
             [
              0.6666666666666666,
              "#ed7953"
             ],
             [
              0.7777777777777778,
              "#fb9f3a"
             ],
             [
              0.8888888888888888,
              "#fdca26"
             ],
             [
              1,
              "#f0f921"
             ]
            ],
            "type": "heatmap"
           }
          ],
          "heatmapgl": [
           {
            "colorbar": {
             "outlinewidth": 0,
             "ticks": ""
            },
            "colorscale": [
             [
              0,
              "#0d0887"
             ],
             [
              0.1111111111111111,
              "#46039f"
             ],
             [
              0.2222222222222222,
              "#7201a8"
             ],
             [
              0.3333333333333333,
              "#9c179e"
             ],
             [
              0.4444444444444444,
              "#bd3786"
             ],
             [
              0.5555555555555556,
              "#d8576b"
             ],
             [
              0.6666666666666666,
              "#ed7953"
             ],
             [
              0.7777777777777778,
              "#fb9f3a"
             ],
             [
              0.8888888888888888,
              "#fdca26"
             ],
             [
              1,
              "#f0f921"
             ]
            ],
            "type": "heatmapgl"
           }
          ],
          "histogram": [
           {
            "marker": {
             "pattern": {
              "fillmode": "overlay",
              "size": 10,
              "solidity": 0.2
             }
            },
            "type": "histogram"
           }
          ],
          "histogram2d": [
           {
            "colorbar": {
             "outlinewidth": 0,
             "ticks": ""
            },
            "colorscale": [
             [
              0,
              "#0d0887"
             ],
             [
              0.1111111111111111,
              "#46039f"
             ],
             [
              0.2222222222222222,
              "#7201a8"
             ],
             [
              0.3333333333333333,
              "#9c179e"
             ],
             [
              0.4444444444444444,
              "#bd3786"
             ],
             [
              0.5555555555555556,
              "#d8576b"
             ],
             [
              0.6666666666666666,
              "#ed7953"
             ],
             [
              0.7777777777777778,
              "#fb9f3a"
             ],
             [
              0.8888888888888888,
              "#fdca26"
             ],
             [
              1,
              "#f0f921"
             ]
            ],
            "type": "histogram2d"
           }
          ],
          "histogram2dcontour": [
           {
            "colorbar": {
             "outlinewidth": 0,
             "ticks": ""
            },
            "colorscale": [
             [
              0,
              "#0d0887"
             ],
             [
              0.1111111111111111,
              "#46039f"
             ],
             [
              0.2222222222222222,
              "#7201a8"
             ],
             [
              0.3333333333333333,
              "#9c179e"
             ],
             [
              0.4444444444444444,
              "#bd3786"
             ],
             [
              0.5555555555555556,
              "#d8576b"
             ],
             [
              0.6666666666666666,
              "#ed7953"
             ],
             [
              0.7777777777777778,
              "#fb9f3a"
             ],
             [
              0.8888888888888888,
              "#fdca26"
             ],
             [
              1,
              "#f0f921"
             ]
            ],
            "type": "histogram2dcontour"
           }
          ],
          "mesh3d": [
           {
            "colorbar": {
             "outlinewidth": 0,
             "ticks": ""
            },
            "type": "mesh3d"
           }
          ],
          "parcoords": [
           {
            "line": {
             "colorbar": {
              "outlinewidth": 0,
              "ticks": ""
             }
            },
            "type": "parcoords"
           }
          ],
          "pie": [
           {
            "automargin": true,
            "type": "pie"
           }
          ],
          "scatter": [
           {
            "fillpattern": {
             "fillmode": "overlay",
             "size": 10,
             "solidity": 0.2
            },
            "type": "scatter"
           }
          ],
          "scatter3d": [
           {
            "line": {
             "colorbar": {
              "outlinewidth": 0,
              "ticks": ""
             }
            },
            "marker": {
             "colorbar": {
              "outlinewidth": 0,
              "ticks": ""
             }
            },
            "type": "scatter3d"
           }
          ],
          "scattercarpet": [
           {
            "marker": {
             "colorbar": {
              "outlinewidth": 0,
              "ticks": ""
             }
            },
            "type": "scattercarpet"
           }
          ],
          "scattergeo": [
           {
            "marker": {
             "colorbar": {
              "outlinewidth": 0,
              "ticks": ""
             }
            },
            "type": "scattergeo"
           }
          ],
          "scattergl": [
           {
            "marker": {
             "colorbar": {
              "outlinewidth": 0,
              "ticks": ""
             }
            },
            "type": "scattergl"
           }
          ],
          "scattermapbox": [
           {
            "marker": {
             "colorbar": {
              "outlinewidth": 0,
              "ticks": ""
             }
            },
            "type": "scattermapbox"
           }
          ],
          "scatterpolar": [
           {
            "marker": {
             "colorbar": {
              "outlinewidth": 0,
              "ticks": ""
             }
            },
            "type": "scatterpolar"
           }
          ],
          "scatterpolargl": [
           {
            "marker": {
             "colorbar": {
              "outlinewidth": 0,
              "ticks": ""
             }
            },
            "type": "scatterpolargl"
           }
          ],
          "scatterternary": [
           {
            "marker": {
             "colorbar": {
              "outlinewidth": 0,
              "ticks": ""
             }
            },
            "type": "scatterternary"
           }
          ],
          "surface": [
           {
            "colorbar": {
             "outlinewidth": 0,
             "ticks": ""
            },
            "colorscale": [
             [
              0,
              "#0d0887"
             ],
             [
              0.1111111111111111,
              "#46039f"
             ],
             [
              0.2222222222222222,
              "#7201a8"
             ],
             [
              0.3333333333333333,
              "#9c179e"
             ],
             [
              0.4444444444444444,
              "#bd3786"
             ],
             [
              0.5555555555555556,
              "#d8576b"
             ],
             [
              0.6666666666666666,
              "#ed7953"
             ],
             [
              0.7777777777777778,
              "#fb9f3a"
             ],
             [
              0.8888888888888888,
              "#fdca26"
             ],
             [
              1,
              "#f0f921"
             ]
            ],
            "type": "surface"
           }
          ],
          "table": [
           {
            "cells": {
             "fill": {
              "color": "#EBF0F8"
             },
             "line": {
              "color": "white"
             }
            },
            "header": {
             "fill": {
              "color": "#C8D4E3"
             },
             "line": {
              "color": "white"
             }
            },
            "type": "table"
           }
          ]
         },
         "layout": {
          "annotationdefaults": {
           "arrowcolor": "#2a3f5f",
           "arrowhead": 0,
           "arrowwidth": 1
          },
          "autotypenumbers": "strict",
          "coloraxis": {
           "colorbar": {
            "outlinewidth": 0,
            "ticks": ""
           }
          },
          "colorscale": {
           "diverging": [
            [
             0,
             "#8e0152"
            ],
            [
             0.1,
             "#c51b7d"
            ],
            [
             0.2,
             "#de77ae"
            ],
            [
             0.3,
             "#f1b6da"
            ],
            [
             0.4,
             "#fde0ef"
            ],
            [
             0.5,
             "#f7f7f7"
            ],
            [
             0.6,
             "#e6f5d0"
            ],
            [
             0.7,
             "#b8e186"
            ],
            [
             0.8,
             "#7fbc41"
            ],
            [
             0.9,
             "#4d9221"
            ],
            [
             1,
             "#276419"
            ]
           ],
           "sequential": [
            [
             0,
             "#0d0887"
            ],
            [
             0.1111111111111111,
             "#46039f"
            ],
            [
             0.2222222222222222,
             "#7201a8"
            ],
            [
             0.3333333333333333,
             "#9c179e"
            ],
            [
             0.4444444444444444,
             "#bd3786"
            ],
            [
             0.5555555555555556,
             "#d8576b"
            ],
            [
             0.6666666666666666,
             "#ed7953"
            ],
            [
             0.7777777777777778,
             "#fb9f3a"
            ],
            [
             0.8888888888888888,
             "#fdca26"
            ],
            [
             1,
             "#f0f921"
            ]
           ],
           "sequentialminus": [
            [
             0,
             "#0d0887"
            ],
            [
             0.1111111111111111,
             "#46039f"
            ],
            [
             0.2222222222222222,
             "#7201a8"
            ],
            [
             0.3333333333333333,
             "#9c179e"
            ],
            [
             0.4444444444444444,
             "#bd3786"
            ],
            [
             0.5555555555555556,
             "#d8576b"
            ],
            [
             0.6666666666666666,
             "#ed7953"
            ],
            [
             0.7777777777777778,
             "#fb9f3a"
            ],
            [
             0.8888888888888888,
             "#fdca26"
            ],
            [
             1,
             "#f0f921"
            ]
           ]
          },
          "colorway": [
           "#636efa",
           "#EF553B",
           "#00cc96",
           "#ab63fa",
           "#FFA15A",
           "#19d3f3",
           "#FF6692",
           "#B6E880",
           "#FF97FF",
           "#FECB52"
          ],
          "font": {
           "color": "#2a3f5f"
          },
          "geo": {
           "bgcolor": "white",
           "lakecolor": "white",
           "landcolor": "#E5ECF6",
           "showlakes": true,
           "showland": true,
           "subunitcolor": "white"
          },
          "hoverlabel": {
           "align": "left"
          },
          "hovermode": "closest",
          "mapbox": {
           "style": "light"
          },
          "paper_bgcolor": "white",
          "plot_bgcolor": "#E5ECF6",
          "polar": {
           "angularaxis": {
            "gridcolor": "white",
            "linecolor": "white",
            "ticks": ""
           },
           "bgcolor": "#E5ECF6",
           "radialaxis": {
            "gridcolor": "white",
            "linecolor": "white",
            "ticks": ""
           }
          },
          "scene": {
           "xaxis": {
            "backgroundcolor": "#E5ECF6",
            "gridcolor": "white",
            "gridwidth": 2,
            "linecolor": "white",
            "showbackground": true,
            "ticks": "",
            "zerolinecolor": "white"
           },
           "yaxis": {
            "backgroundcolor": "#E5ECF6",
            "gridcolor": "white",
            "gridwidth": 2,
            "linecolor": "white",
            "showbackground": true,
            "ticks": "",
            "zerolinecolor": "white"
           },
           "zaxis": {
            "backgroundcolor": "#E5ECF6",
            "gridcolor": "white",
            "gridwidth": 2,
            "linecolor": "white",
            "showbackground": true,
            "ticks": "",
            "zerolinecolor": "white"
           }
          },
          "shapedefaults": {
           "line": {
            "color": "#2a3f5f"
           }
          },
          "ternary": {
           "aaxis": {
            "gridcolor": "white",
            "linecolor": "white",
            "ticks": ""
           },
           "baxis": {
            "gridcolor": "white",
            "linecolor": "white",
            "ticks": ""
           },
           "bgcolor": "#E5ECF6",
           "caxis": {
            "gridcolor": "white",
            "linecolor": "white",
            "ticks": ""
           }
          },
          "title": {
           "x": 0.05
          },
          "xaxis": {
           "automargin": true,
           "gridcolor": "white",
           "linecolor": "white",
           "ticks": "",
           "title": {
            "standoff": 15
           },
           "zerolinecolor": "white",
           "zerolinewidth": 2
          },
          "yaxis": {
           "automargin": true,
           "gridcolor": "white",
           "linecolor": "white",
           "ticks": "",
           "title": {
            "standoff": 15
           },
           "zerolinecolor": "white",
           "zerolinewidth": 2
          }
         }
        },
        "title": {
         "text": "Most frequently read filenames - including TCP sockets"
        }
       }
      }
     },
     "metadata": {},
     "output_type": "display_data"
    },
    {
     "data": {
      "application/vnd.plotly.v1+json": {
       "config": {
        "plotlyServerURL": "https://plot.ly"
       },
       "data": [
        {
         "branchvalues": "total",
         "customdata": [
          [
           "(?)",
           "(?)"
          ],
          [
           0,
           "init-stdout"
          ],
          [
           0,
           "init-stdout"
          ],
          [
           0,
           "init-stdout"
          ],
          [
           0,
           "init-stdout"
          ],
          [
           0,
           "init-stdout"
          ],
          [
           0,
           "init-stdout"
          ],
          [
           0,
           "uevent"
          ],
          [
           0,
           "current"
          ],
          [
           0,
           "cmdline"
          ],
          [
           0,
           "cmdline"
          ],
          [
           0,
           "cmdline"
          ],
          [
           0,
           "cmdline"
          ],
          [
           "(?)",
           "(?)"
          ],
          [
           "(?)",
           "(?)"
          ],
          [
           0,
           "init-stdout"
          ],
          [
           "(?)",
           "(?)"
          ],
          [
           "(?)",
           "(?)"
          ],
          [
           0,
           "b252:1"
          ],
          [
           0,
           "b252:1"
          ],
          [
           "(?)",
           "(?)"
          ],
          [
           0,
           "b252:1"
          ],
          [
           0,
           "b252:1"
          ],
          [
           "(?)",
           "UNIX"
          ],
          [
           "(?)",
           "UNIX"
          ],
          [
           "(?)",
           "(?)"
          ],
          [
           "(?)",
           "UNIX"
          ],
          [
           "(?)",
           "UNIX"
          ],
          [
           "(?)",
           "UNIX"
          ],
          [
           "(?)",
           "UNIX"
          ],
          [
           "(?)",
           "UNIX"
          ],
          [
           0,
           "uevent"
          ],
          [
           "(?)",
           "(?)"
          ],
          [
           0,
           "uevent"
          ],
          [
           "(?)",
           "UNIX"
          ],
          [
           0,
           "init-stdout"
          ],
          [
           "(?)",
           "(?)"
          ],
          [
           "(?)",
           "UNIX"
          ],
          [
           0,
           "current"
          ],
          [
           0,
           "uevent"
          ],
          [
           0,
           "uevent"
          ],
          [
           0,
           "uevent"
          ],
          [
           0,
           "cmdline"
          ],
          [
           0,
           "cmdline"
          ],
          [
           0,
           "cmdline"
          ],
          [
           0,
           "cmdline"
          ],
          [
           0,
           "mountinfo"
          ],
          [
           0,
           "init-stdout"
          ],
          [
           0,
           "cmdline"
          ],
          [
           0,
           "b252:1"
          ]
         ],
         "domain": {
          "x": [
           0,
           1
          ],
          "y": [
           0,
           1
          ]
         },
         "hovertemplate": "labels=%{label}<br>W_Kb=%{value}<br>parent=%{parent}<br>id=%{id}<br>WRITES=%{customdata[0]}<br>FILE=%{customdata[1]}<extra></extra>",
         "ids": [
          "500",
          "300/init-stdout",
          "200/init-stdout",
          "100/init-stdout",
          "50/init-stdout",
          "10/init-stdout",
          "5/init-stdout",
          "200/uevent",
          "300/current",
          "500/cmdline",
          "400/cmdline",
          "300/cmdline",
          "200/cmdline",
          "1",
          "5",
          "400/init-stdout",
          "10",
          "100",
          "200/b252:1",
          "50/b252:1",
          "200",
          "5/b252:1",
          "1/b252:1",
          "500/UNIX",
          "400/UNIX",
          "50",
          "300/UNIX",
          "200/UNIX",
          "100/UNIX",
          "50/UNIX",
          "10/UNIX",
          "100/uevent",
          "300",
          "50/uevent",
          "1/UNIX",
          "1/init-stdout",
          "400",
          "5/UNIX",
          "500/current",
          "1/uevent",
          "5/uevent",
          "10/uevent",
          "50/cmdline",
          "10/cmdline",
          "5/cmdline",
          "1/cmdline",
          "5/mountinfo",
          "500/init-stdout",
          "100/cmdline",
          "10/b252:1"
         ],
         "labels": [
          "500",
          "init-stdout",
          "init-stdout",
          "init-stdout",
          "init-stdout",
          "init-stdout",
          "init-stdout",
          "uevent",
          "current",
          "cmdline",
          "cmdline",
          "cmdline",
          "cmdline",
          "1",
          "5",
          "init-stdout",
          "10",
          "100",
          "b252:1",
          "b252:1",
          "200",
          "b252:1",
          "b252:1",
          "UNIX",
          "UNIX",
          "50",
          "UNIX",
          "UNIX",
          "UNIX",
          "UNIX",
          "UNIX",
          "uevent",
          "300",
          "uevent",
          "UNIX",
          "init-stdout",
          "400",
          "UNIX",
          "current",
          "uevent",
          "uevent",
          "uevent",
          "cmdline",
          "cmdline",
          "cmdline",
          "cmdline",
          "mountinfo",
          "init-stdout",
          "cmdline",
          "b252:1"
         ],
         "marker": {
          "colors": [
           "#636efa",
           "#EF553B",
           "#EF553B",
           "#EF553B",
           "#EF553B",
           "#EF553B",
           "#EF553B",
           "#00cc96",
           "#ab63fa",
           "#FFA15A",
           "#FFA15A",
           "#FFA15A",
           "#FFA15A",
           "#636efa",
           "#636efa",
           "#EF553B",
           "#636efa",
           "#636efa",
           "#19d3f3",
           "#19d3f3",
           "#636efa",
           "#19d3f3",
           "#19d3f3",
           "#FF6692",
           "#FF6692",
           "#636efa",
           "#FF6692",
           "#FF6692",
           "#FF6692",
           "#FF6692",
           "#FF6692",
           "#00cc96",
           "#636efa",
           "#00cc96",
           "#FF6692",
           "#EF553B",
           "#636efa",
           "#FF6692",
           "#ab63fa",
           "#00cc96",
           "#00cc96",
           "#00cc96",
           "#FFA15A",
           "#FFA15A",
           "#FFA15A",
           "#FFA15A",
           "#B6E880",
           "#EF553B",
           "#FFA15A",
           "#19d3f3"
          ]
         },
         "name": "",
         "parents": [
          "",
          "300",
          "200",
          "100",
          "50",
          "10",
          "5",
          "200",
          "300",
          "500",
          "400",
          "300",
          "200",
          "",
          "",
          "400",
          "",
          "",
          "200",
          "50",
          "",
          "5",
          "1",
          "500",
          "400",
          "",
          "300",
          "200",
          "100",
          "50",
          "10",
          "100",
          "",
          "50",
          "1",
          "1",
          "",
          "5",
          "500",
          "1",
          "5",
          "10",
          "50",
          "10",
          "5",
          "1",
          "5",
          "500",
          "100",
          "10"
         ],
         "type": "sunburst",
         "values": [
          1412.994140625,
          0,
          0,
          0,
          0,
          0,
          0,
          0,
          0,
          0,
          0,
          0,
          0,
          1413.1103515625,
          1326.5263671875,
          0,
          1368.6435546875,
          1413.724609375,
          0,
          0,
          1412.439453125,
          0,
          0,
          1412.994140625,
          1413.0146484375,
          1413.6103515625,
          1242.470703125,
          1412.439453125,
          1413.724609375,
          1413.6103515625,
          1368.6435546875,
          0,
          1242.470703125,
          0,
          1413.1103515625,
          0,
          1413.0146484375,
          1326.5263671875,
          0,
          0,
          0,
          0,
          0,
          0,
          0,
          0,
          0,
          0,
          0,
          0
         ]
        }
       ],
       "layout": {
        "legend": {
         "tracegroupgap": 0
        },
        "template": {
         "data": {
          "bar": [
           {
            "error_x": {
             "color": "#2a3f5f"
            },
            "error_y": {
             "color": "#2a3f5f"
            },
            "marker": {
             "line": {
              "color": "#E5ECF6",
              "width": 0.5
             },
             "pattern": {
              "fillmode": "overlay",
              "size": 10,
              "solidity": 0.2
             }
            },
            "type": "bar"
           }
          ],
          "barpolar": [
           {
            "marker": {
             "line": {
              "color": "#E5ECF6",
              "width": 0.5
             },
             "pattern": {
              "fillmode": "overlay",
              "size": 10,
              "solidity": 0.2
             }
            },
            "type": "barpolar"
           }
          ],
          "carpet": [
           {
            "aaxis": {
             "endlinecolor": "#2a3f5f",
             "gridcolor": "white",
             "linecolor": "white",
             "minorgridcolor": "white",
             "startlinecolor": "#2a3f5f"
            },
            "baxis": {
             "endlinecolor": "#2a3f5f",
             "gridcolor": "white",
             "linecolor": "white",
             "minorgridcolor": "white",
             "startlinecolor": "#2a3f5f"
            },
            "type": "carpet"
           }
          ],
          "choropleth": [
           {
            "colorbar": {
             "outlinewidth": 0,
             "ticks": ""
            },
            "type": "choropleth"
           }
          ],
          "contour": [
           {
            "colorbar": {
             "outlinewidth": 0,
             "ticks": ""
            },
            "colorscale": [
             [
              0,
              "#0d0887"
             ],
             [
              0.1111111111111111,
              "#46039f"
             ],
             [
              0.2222222222222222,
              "#7201a8"
             ],
             [
              0.3333333333333333,
              "#9c179e"
             ],
             [
              0.4444444444444444,
              "#bd3786"
             ],
             [
              0.5555555555555556,
              "#d8576b"
             ],
             [
              0.6666666666666666,
              "#ed7953"
             ],
             [
              0.7777777777777778,
              "#fb9f3a"
             ],
             [
              0.8888888888888888,
              "#fdca26"
             ],
             [
              1,
              "#f0f921"
             ]
            ],
            "type": "contour"
           }
          ],
          "contourcarpet": [
           {
            "colorbar": {
             "outlinewidth": 0,
             "ticks": ""
            },
            "type": "contourcarpet"
           }
          ],
          "heatmap": [
           {
            "colorbar": {
             "outlinewidth": 0,
             "ticks": ""
            },
            "colorscale": [
             [
              0,
              "#0d0887"
             ],
             [
              0.1111111111111111,
              "#46039f"
             ],
             [
              0.2222222222222222,
              "#7201a8"
             ],
             [
              0.3333333333333333,
              "#9c179e"
             ],
             [
              0.4444444444444444,
              "#bd3786"
             ],
             [
              0.5555555555555556,
              "#d8576b"
             ],
             [
              0.6666666666666666,
              "#ed7953"
             ],
             [
              0.7777777777777778,
              "#fb9f3a"
             ],
             [
              0.8888888888888888,
              "#fdca26"
             ],
             [
              1,
              "#f0f921"
             ]
            ],
            "type": "heatmap"
           }
          ],
          "heatmapgl": [
           {
            "colorbar": {
             "outlinewidth": 0,
             "ticks": ""
            },
            "colorscale": [
             [
              0,
              "#0d0887"
             ],
             [
              0.1111111111111111,
              "#46039f"
             ],
             [
              0.2222222222222222,
              "#7201a8"
             ],
             [
              0.3333333333333333,
              "#9c179e"
             ],
             [
              0.4444444444444444,
              "#bd3786"
             ],
             [
              0.5555555555555556,
              "#d8576b"
             ],
             [
              0.6666666666666666,
              "#ed7953"
             ],
             [
              0.7777777777777778,
              "#fb9f3a"
             ],
             [
              0.8888888888888888,
              "#fdca26"
             ],
             [
              1,
              "#f0f921"
             ]
            ],
            "type": "heatmapgl"
           }
          ],
          "histogram": [
           {
            "marker": {
             "pattern": {
              "fillmode": "overlay",
              "size": 10,
              "solidity": 0.2
             }
            },
            "type": "histogram"
           }
          ],
          "histogram2d": [
           {
            "colorbar": {
             "outlinewidth": 0,
             "ticks": ""
            },
            "colorscale": [
             [
              0,
              "#0d0887"
             ],
             [
              0.1111111111111111,
              "#46039f"
             ],
             [
              0.2222222222222222,
              "#7201a8"
             ],
             [
              0.3333333333333333,
              "#9c179e"
             ],
             [
              0.4444444444444444,
              "#bd3786"
             ],
             [
              0.5555555555555556,
              "#d8576b"
             ],
             [
              0.6666666666666666,
              "#ed7953"
             ],
             [
              0.7777777777777778,
              "#fb9f3a"
             ],
             [
              0.8888888888888888,
              "#fdca26"
             ],
             [
              1,
              "#f0f921"
             ]
            ],
            "type": "histogram2d"
           }
          ],
          "histogram2dcontour": [
           {
            "colorbar": {
             "outlinewidth": 0,
             "ticks": ""
            },
            "colorscale": [
             [
              0,
              "#0d0887"
             ],
             [
              0.1111111111111111,
              "#46039f"
             ],
             [
              0.2222222222222222,
              "#7201a8"
             ],
             [
              0.3333333333333333,
              "#9c179e"
             ],
             [
              0.4444444444444444,
              "#bd3786"
             ],
             [
              0.5555555555555556,
              "#d8576b"
             ],
             [
              0.6666666666666666,
              "#ed7953"
             ],
             [
              0.7777777777777778,
              "#fb9f3a"
             ],
             [
              0.8888888888888888,
              "#fdca26"
             ],
             [
              1,
              "#f0f921"
             ]
            ],
            "type": "histogram2dcontour"
           }
          ],
          "mesh3d": [
           {
            "colorbar": {
             "outlinewidth": 0,
             "ticks": ""
            },
            "type": "mesh3d"
           }
          ],
          "parcoords": [
           {
            "line": {
             "colorbar": {
              "outlinewidth": 0,
              "ticks": ""
             }
            },
            "type": "parcoords"
           }
          ],
          "pie": [
           {
            "automargin": true,
            "type": "pie"
           }
          ],
          "scatter": [
           {
            "fillpattern": {
             "fillmode": "overlay",
             "size": 10,
             "solidity": 0.2
            },
            "type": "scatter"
           }
          ],
          "scatter3d": [
           {
            "line": {
             "colorbar": {
              "outlinewidth": 0,
              "ticks": ""
             }
            },
            "marker": {
             "colorbar": {
              "outlinewidth": 0,
              "ticks": ""
             }
            },
            "type": "scatter3d"
           }
          ],
          "scattercarpet": [
           {
            "marker": {
             "colorbar": {
              "outlinewidth": 0,
              "ticks": ""
             }
            },
            "type": "scattercarpet"
           }
          ],
          "scattergeo": [
           {
            "marker": {
             "colorbar": {
              "outlinewidth": 0,
              "ticks": ""
             }
            },
            "type": "scattergeo"
           }
          ],
          "scattergl": [
           {
            "marker": {
             "colorbar": {
              "outlinewidth": 0,
              "ticks": ""
             }
            },
            "type": "scattergl"
           }
          ],
          "scattermapbox": [
           {
            "marker": {
             "colorbar": {
              "outlinewidth": 0,
              "ticks": ""
             }
            },
            "type": "scattermapbox"
           }
          ],
          "scatterpolar": [
           {
            "marker": {
             "colorbar": {
              "outlinewidth": 0,
              "ticks": ""
             }
            },
            "type": "scatterpolar"
           }
          ],
          "scatterpolargl": [
           {
            "marker": {
             "colorbar": {
              "outlinewidth": 0,
              "ticks": ""
             }
            },
            "type": "scatterpolargl"
           }
          ],
          "scatterternary": [
           {
            "marker": {
             "colorbar": {
              "outlinewidth": 0,
              "ticks": ""
             }
            },
            "type": "scatterternary"
           }
          ],
          "surface": [
           {
            "colorbar": {
             "outlinewidth": 0,
             "ticks": ""
            },
            "colorscale": [
             [
              0,
              "#0d0887"
             ],
             [
              0.1111111111111111,
              "#46039f"
             ],
             [
              0.2222222222222222,
              "#7201a8"
             ],
             [
              0.3333333333333333,
              "#9c179e"
             ],
             [
              0.4444444444444444,
              "#bd3786"
             ],
             [
              0.5555555555555556,
              "#d8576b"
             ],
             [
              0.6666666666666666,
              "#ed7953"
             ],
             [
              0.7777777777777778,
              "#fb9f3a"
             ],
             [
              0.8888888888888888,
              "#fdca26"
             ],
             [
              1,
              "#f0f921"
             ]
            ],
            "type": "surface"
           }
          ],
          "table": [
           {
            "cells": {
             "fill": {
              "color": "#EBF0F8"
             },
             "line": {
              "color": "white"
             }
            },
            "header": {
             "fill": {
              "color": "#C8D4E3"
             },
             "line": {
              "color": "white"
             }
            },
            "type": "table"
           }
          ]
         },
         "layout": {
          "annotationdefaults": {
           "arrowcolor": "#2a3f5f",
           "arrowhead": 0,
           "arrowwidth": 1
          },
          "autotypenumbers": "strict",
          "coloraxis": {
           "colorbar": {
            "outlinewidth": 0,
            "ticks": ""
           }
          },
          "colorscale": {
           "diverging": [
            [
             0,
             "#8e0152"
            ],
            [
             0.1,
             "#c51b7d"
            ],
            [
             0.2,
             "#de77ae"
            ],
            [
             0.3,
             "#f1b6da"
            ],
            [
             0.4,
             "#fde0ef"
            ],
            [
             0.5,
             "#f7f7f7"
            ],
            [
             0.6,
             "#e6f5d0"
            ],
            [
             0.7,
             "#b8e186"
            ],
            [
             0.8,
             "#7fbc41"
            ],
            [
             0.9,
             "#4d9221"
            ],
            [
             1,
             "#276419"
            ]
           ],
           "sequential": [
            [
             0,
             "#0d0887"
            ],
            [
             0.1111111111111111,
             "#46039f"
            ],
            [
             0.2222222222222222,
             "#7201a8"
            ],
            [
             0.3333333333333333,
             "#9c179e"
            ],
            [
             0.4444444444444444,
             "#bd3786"
            ],
            [
             0.5555555555555556,
             "#d8576b"
            ],
            [
             0.6666666666666666,
             "#ed7953"
            ],
            [
             0.7777777777777778,
             "#fb9f3a"
            ],
            [
             0.8888888888888888,
             "#fdca26"
            ],
            [
             1,
             "#f0f921"
            ]
           ],
           "sequentialminus": [
            [
             0,
             "#0d0887"
            ],
            [
             0.1111111111111111,
             "#46039f"
            ],
            [
             0.2222222222222222,
             "#7201a8"
            ],
            [
             0.3333333333333333,
             "#9c179e"
            ],
            [
             0.4444444444444444,
             "#bd3786"
            ],
            [
             0.5555555555555556,
             "#d8576b"
            ],
            [
             0.6666666666666666,
             "#ed7953"
            ],
            [
             0.7777777777777778,
             "#fb9f3a"
            ],
            [
             0.8888888888888888,
             "#fdca26"
            ],
            [
             1,
             "#f0f921"
            ]
           ]
          },
          "colorway": [
           "#636efa",
           "#EF553B",
           "#00cc96",
           "#ab63fa",
           "#FFA15A",
           "#19d3f3",
           "#FF6692",
           "#B6E880",
           "#FF97FF",
           "#FECB52"
          ],
          "font": {
           "color": "#2a3f5f"
          },
          "geo": {
           "bgcolor": "white",
           "lakecolor": "white",
           "landcolor": "#E5ECF6",
           "showlakes": true,
           "showland": true,
           "subunitcolor": "white"
          },
          "hoverlabel": {
           "align": "left"
          },
          "hovermode": "closest",
          "mapbox": {
           "style": "light"
          },
          "paper_bgcolor": "white",
          "plot_bgcolor": "#E5ECF6",
          "polar": {
           "angularaxis": {
            "gridcolor": "white",
            "linecolor": "white",
            "ticks": ""
           },
           "bgcolor": "#E5ECF6",
           "radialaxis": {
            "gridcolor": "white",
            "linecolor": "white",
            "ticks": ""
           }
          },
          "scene": {
           "xaxis": {
            "backgroundcolor": "#E5ECF6",
            "gridcolor": "white",
            "gridwidth": 2,
            "linecolor": "white",
            "showbackground": true,
            "ticks": "",
            "zerolinecolor": "white"
           },
           "yaxis": {
            "backgroundcolor": "#E5ECF6",
            "gridcolor": "white",
            "gridwidth": 2,
            "linecolor": "white",
            "showbackground": true,
            "ticks": "",
            "zerolinecolor": "white"
           },
           "zaxis": {
            "backgroundcolor": "#E5ECF6",
            "gridcolor": "white",
            "gridwidth": 2,
            "linecolor": "white",
            "showbackground": true,
            "ticks": "",
            "zerolinecolor": "white"
           }
          },
          "shapedefaults": {
           "line": {
            "color": "#2a3f5f"
           }
          },
          "ternary": {
           "aaxis": {
            "gridcolor": "white",
            "linecolor": "white",
            "ticks": ""
           },
           "baxis": {
            "gridcolor": "white",
            "linecolor": "white",
            "ticks": ""
           },
           "bgcolor": "#E5ECF6",
           "caxis": {
            "gridcolor": "white",
            "linecolor": "white",
            "ticks": ""
           }
          },
          "title": {
           "x": 0.05
          },
          "xaxis": {
           "automargin": true,
           "gridcolor": "white",
           "linecolor": "white",
           "ticks": "",
           "title": {
            "standoff": 15
           },
           "zerolinecolor": "white",
           "zerolinewidth": 2
          },
          "yaxis": {
           "automargin": true,
           "gridcolor": "white",
           "linecolor": "white",
           "ticks": "",
           "title": {
            "standoff": 15
           },
           "zerolinecolor": "white",
           "zerolinewidth": 2
          }
         }
        },
        "title": {
         "text": "Most frequently written filenames - including TCP sockets"
        }
       }
      }
     },
     "metadata": {},
     "output_type": "display_data"
    }
   ],
   "source": [
    "filetop_df = spark.read.option(\"basePath\", \"../ansible/.results\").json(\n",
    "\"../ansible/.results/kpps=*/tool=filetop\")\n",
    "# Reads\n",
    "filetop_read_fig = px.sunburst(filetop_df.toPandas(), path=['kpps', 'FILE'], values='R_Kb',\n",
    "                  color='FILE', hover_data=['READS'],\n",
    "                  title=\"Most frequently read filenames - including TCP sockets\",\n",
    "                  labels={\n",
    "                    \"kpps\": \"Packets Per Second (thousand)\",\n",
    "                    \"READS\": \"Number of file reads\",\n",
    "                    \"FILE\": \"File names\"\n",
    "                })\n",
    "filetop_read_fig.show()\n",
    "filetop_read_fig.write_image(\"images/filetop-reads.jpeg\")\n",
    "# Writes\n",
    "filetop_write_fig = px.sunburst(filetop_df.toPandas(), path=['kpps', 'FILE'], values='W_Kb',\n",
    "                  color='FILE', hover_data=['WRITES'],\n",
    "                  title=\"Most frequently written filenames - including TCP sockets\")\n",
    "filetop_write_fig.show()\n",
    "filetop_write_fig.write_image(\"images/filetop-writes.jpeg\")\n",
    "with open(html_output_file, 'a') as f:\n",
    "    f.write(filetop_read_fig.to_html(full_html=False, include_plotlyjs='cdn'))\n",
    "    f.write(filetop_write_fig.to_html(full_html=False, include_plotlyjs='cdn'))"
   ]
  },
  {
   "cell_type": "code",
   "execution_count": 17,
   "metadata": {},
   "outputs": [
    {
     "data": {
      "application/vnd.plotly.v1+json": {
       "config": {
        "plotlyServerURL": "https://plot.ly"
       },
       "data": [
        {
         "alignmentgroup": "True",
         "cliponaxis": false,
         "hovertemplate": "Cache Operation=HITS<br>Packets Per Second (thousand)=%{x}<br>Count=%{y}<extra></extra>",
         "legendgroup": "HITS",
         "marker": {
          "color": "#636efa",
          "pattern": {
           "shape": ""
          }
         },
         "name": "HITS",
         "offsetgroup": "HITS",
         "orientation": "v",
         "showlegend": true,
         "textangle": 0,
         "textfont": {
          "size": 12
         },
         "textposition": "outside",
         "type": "bar",
         "x": [
          1,
          100,
          10,
          400,
          200,
          500,
          50,
          5,
          300
         ],
         "xaxis": "x",
         "y": [
          295907,
          300657,
          296035,
          297612,
          301904,
          300747,
          300159,
          290071,
          302230
         ],
         "yaxis": "y"
        },
        {
         "alignmentgroup": "True",
         "cliponaxis": false,
         "hovertemplate": "Cache Operation=MISSES<br>Packets Per Second (thousand)=%{x}<br>Count=%{y}<extra></extra>",
         "legendgroup": "MISSES",
         "marker": {
          "color": "#EF553B",
          "pattern": {
           "shape": ""
          }
         },
         "name": "MISSES",
         "offsetgroup": "MISSES",
         "orientation": "v",
         "showlegend": true,
         "textangle": 0,
         "textfont": {
          "size": 12
         },
         "textposition": "outside",
         "type": "bar",
         "x": [
          1,
          100,
          10,
          400,
          200,
          500,
          50,
          5,
          300
         ],
         "xaxis": "x",
         "y": [
          0,
          0,
          0,
          0,
          0,
          0,
          0,
          0,
          0
         ],
         "yaxis": "y"
        },
        {
         "alignmentgroup": "True",
         "cliponaxis": false,
         "hovertemplate": "Cache Operation=DIRTIES<br>Packets Per Second (thousand)=%{x}<br>Count=%{y}<extra></extra>",
         "legendgroup": "DIRTIES",
         "marker": {
          "color": "#00cc96",
          "pattern": {
           "shape": ""
          }
         },
         "name": "DIRTIES",
         "offsetgroup": "DIRTIES",
         "orientation": "v",
         "showlegend": true,
         "textangle": 0,
         "textfont": {
          "size": 12
         },
         "textposition": "outside",
         "type": "bar",
         "x": [
          1,
          100,
          10,
          400,
          200,
          500,
          50,
          5,
          300
         ],
         "xaxis": "x",
         "y": [
          916,
          941,
          829,
          1248,
          889,
          1340,
          934,
          802,
          1116
         ],
         "yaxis": "y"
        }
       ],
       "layout": {
        "barmode": "group",
        "legend": {
         "title": {
          "text": "Cache Operation"
         },
         "tracegroupgap": 0
        },
        "template": {
         "data": {
          "bar": [
           {
            "error_x": {
             "color": "#2a3f5f"
            },
            "error_y": {
             "color": "#2a3f5f"
            },
            "marker": {
             "line": {
              "color": "#E5ECF6",
              "width": 0.5
             },
             "pattern": {
              "fillmode": "overlay",
              "size": 10,
              "solidity": 0.2
             }
            },
            "type": "bar"
           }
          ],
          "barpolar": [
           {
            "marker": {
             "line": {
              "color": "#E5ECF6",
              "width": 0.5
             },
             "pattern": {
              "fillmode": "overlay",
              "size": 10,
              "solidity": 0.2
             }
            },
            "type": "barpolar"
           }
          ],
          "carpet": [
           {
            "aaxis": {
             "endlinecolor": "#2a3f5f",
             "gridcolor": "white",
             "linecolor": "white",
             "minorgridcolor": "white",
             "startlinecolor": "#2a3f5f"
            },
            "baxis": {
             "endlinecolor": "#2a3f5f",
             "gridcolor": "white",
             "linecolor": "white",
             "minorgridcolor": "white",
             "startlinecolor": "#2a3f5f"
            },
            "type": "carpet"
           }
          ],
          "choropleth": [
           {
            "colorbar": {
             "outlinewidth": 0,
             "ticks": ""
            },
            "type": "choropleth"
           }
          ],
          "contour": [
           {
            "colorbar": {
             "outlinewidth": 0,
             "ticks": ""
            },
            "colorscale": [
             [
              0,
              "#0d0887"
             ],
             [
              0.1111111111111111,
              "#46039f"
             ],
             [
              0.2222222222222222,
              "#7201a8"
             ],
             [
              0.3333333333333333,
              "#9c179e"
             ],
             [
              0.4444444444444444,
              "#bd3786"
             ],
             [
              0.5555555555555556,
              "#d8576b"
             ],
             [
              0.6666666666666666,
              "#ed7953"
             ],
             [
              0.7777777777777778,
              "#fb9f3a"
             ],
             [
              0.8888888888888888,
              "#fdca26"
             ],
             [
              1,
              "#f0f921"
             ]
            ],
            "type": "contour"
           }
          ],
          "contourcarpet": [
           {
            "colorbar": {
             "outlinewidth": 0,
             "ticks": ""
            },
            "type": "contourcarpet"
           }
          ],
          "heatmap": [
           {
            "colorbar": {
             "outlinewidth": 0,
             "ticks": ""
            },
            "colorscale": [
             [
              0,
              "#0d0887"
             ],
             [
              0.1111111111111111,
              "#46039f"
             ],
             [
              0.2222222222222222,
              "#7201a8"
             ],
             [
              0.3333333333333333,
              "#9c179e"
             ],
             [
              0.4444444444444444,
              "#bd3786"
             ],
             [
              0.5555555555555556,
              "#d8576b"
             ],
             [
              0.6666666666666666,
              "#ed7953"
             ],
             [
              0.7777777777777778,
              "#fb9f3a"
             ],
             [
              0.8888888888888888,
              "#fdca26"
             ],
             [
              1,
              "#f0f921"
             ]
            ],
            "type": "heatmap"
           }
          ],
          "heatmapgl": [
           {
            "colorbar": {
             "outlinewidth": 0,
             "ticks": ""
            },
            "colorscale": [
             [
              0,
              "#0d0887"
             ],
             [
              0.1111111111111111,
              "#46039f"
             ],
             [
              0.2222222222222222,
              "#7201a8"
             ],
             [
              0.3333333333333333,
              "#9c179e"
             ],
             [
              0.4444444444444444,
              "#bd3786"
             ],
             [
              0.5555555555555556,
              "#d8576b"
             ],
             [
              0.6666666666666666,
              "#ed7953"
             ],
             [
              0.7777777777777778,
              "#fb9f3a"
             ],
             [
              0.8888888888888888,
              "#fdca26"
             ],
             [
              1,
              "#f0f921"
             ]
            ],
            "type": "heatmapgl"
           }
          ],
          "histogram": [
           {
            "marker": {
             "pattern": {
              "fillmode": "overlay",
              "size": 10,
              "solidity": 0.2
             }
            },
            "type": "histogram"
           }
          ],
          "histogram2d": [
           {
            "colorbar": {
             "outlinewidth": 0,
             "ticks": ""
            },
            "colorscale": [
             [
              0,
              "#0d0887"
             ],
             [
              0.1111111111111111,
              "#46039f"
             ],
             [
              0.2222222222222222,
              "#7201a8"
             ],
             [
              0.3333333333333333,
              "#9c179e"
             ],
             [
              0.4444444444444444,
              "#bd3786"
             ],
             [
              0.5555555555555556,
              "#d8576b"
             ],
             [
              0.6666666666666666,
              "#ed7953"
             ],
             [
              0.7777777777777778,
              "#fb9f3a"
             ],
             [
              0.8888888888888888,
              "#fdca26"
             ],
             [
              1,
              "#f0f921"
             ]
            ],
            "type": "histogram2d"
           }
          ],
          "histogram2dcontour": [
           {
            "colorbar": {
             "outlinewidth": 0,
             "ticks": ""
            },
            "colorscale": [
             [
              0,
              "#0d0887"
             ],
             [
              0.1111111111111111,
              "#46039f"
             ],
             [
              0.2222222222222222,
              "#7201a8"
             ],
             [
              0.3333333333333333,
              "#9c179e"
             ],
             [
              0.4444444444444444,
              "#bd3786"
             ],
             [
              0.5555555555555556,
              "#d8576b"
             ],
             [
              0.6666666666666666,
              "#ed7953"
             ],
             [
              0.7777777777777778,
              "#fb9f3a"
             ],
             [
              0.8888888888888888,
              "#fdca26"
             ],
             [
              1,
              "#f0f921"
             ]
            ],
            "type": "histogram2dcontour"
           }
          ],
          "mesh3d": [
           {
            "colorbar": {
             "outlinewidth": 0,
             "ticks": ""
            },
            "type": "mesh3d"
           }
          ],
          "parcoords": [
           {
            "line": {
             "colorbar": {
              "outlinewidth": 0,
              "ticks": ""
             }
            },
            "type": "parcoords"
           }
          ],
          "pie": [
           {
            "automargin": true,
            "type": "pie"
           }
          ],
          "scatter": [
           {
            "fillpattern": {
             "fillmode": "overlay",
             "size": 10,
             "solidity": 0.2
            },
            "type": "scatter"
           }
          ],
          "scatter3d": [
           {
            "line": {
             "colorbar": {
              "outlinewidth": 0,
              "ticks": ""
             }
            },
            "marker": {
             "colorbar": {
              "outlinewidth": 0,
              "ticks": ""
             }
            },
            "type": "scatter3d"
           }
          ],
          "scattercarpet": [
           {
            "marker": {
             "colorbar": {
              "outlinewidth": 0,
              "ticks": ""
             }
            },
            "type": "scattercarpet"
           }
          ],
          "scattergeo": [
           {
            "marker": {
             "colorbar": {
              "outlinewidth": 0,
              "ticks": ""
             }
            },
            "type": "scattergeo"
           }
          ],
          "scattergl": [
           {
            "marker": {
             "colorbar": {
              "outlinewidth": 0,
              "ticks": ""
             }
            },
            "type": "scattergl"
           }
          ],
          "scattermapbox": [
           {
            "marker": {
             "colorbar": {
              "outlinewidth": 0,
              "ticks": ""
             }
            },
            "type": "scattermapbox"
           }
          ],
          "scatterpolar": [
           {
            "marker": {
             "colorbar": {
              "outlinewidth": 0,
              "ticks": ""
             }
            },
            "type": "scatterpolar"
           }
          ],
          "scatterpolargl": [
           {
            "marker": {
             "colorbar": {
              "outlinewidth": 0,
              "ticks": ""
             }
            },
            "type": "scatterpolargl"
           }
          ],
          "scatterternary": [
           {
            "marker": {
             "colorbar": {
              "outlinewidth": 0,
              "ticks": ""
             }
            },
            "type": "scatterternary"
           }
          ],
          "surface": [
           {
            "colorbar": {
             "outlinewidth": 0,
             "ticks": ""
            },
            "colorscale": [
             [
              0,
              "#0d0887"
             ],
             [
              0.1111111111111111,
              "#46039f"
             ],
             [
              0.2222222222222222,
              "#7201a8"
             ],
             [
              0.3333333333333333,
              "#9c179e"
             ],
             [
              0.4444444444444444,
              "#bd3786"
             ],
             [
              0.5555555555555556,
              "#d8576b"
             ],
             [
              0.6666666666666666,
              "#ed7953"
             ],
             [
              0.7777777777777778,
              "#fb9f3a"
             ],
             [
              0.8888888888888888,
              "#fdca26"
             ],
             [
              1,
              "#f0f921"
             ]
            ],
            "type": "surface"
           }
          ],
          "table": [
           {
            "cells": {
             "fill": {
              "color": "#EBF0F8"
             },
             "line": {
              "color": "white"
             }
            },
            "header": {
             "fill": {
              "color": "#C8D4E3"
             },
             "line": {
              "color": "white"
             }
            },
            "type": "table"
           }
          ]
         },
         "layout": {
          "annotationdefaults": {
           "arrowcolor": "#2a3f5f",
           "arrowhead": 0,
           "arrowwidth": 1
          },
          "autotypenumbers": "strict",
          "coloraxis": {
           "colorbar": {
            "outlinewidth": 0,
            "ticks": ""
           }
          },
          "colorscale": {
           "diverging": [
            [
             0,
             "#8e0152"
            ],
            [
             0.1,
             "#c51b7d"
            ],
            [
             0.2,
             "#de77ae"
            ],
            [
             0.3,
             "#f1b6da"
            ],
            [
             0.4,
             "#fde0ef"
            ],
            [
             0.5,
             "#f7f7f7"
            ],
            [
             0.6,
             "#e6f5d0"
            ],
            [
             0.7,
             "#b8e186"
            ],
            [
             0.8,
             "#7fbc41"
            ],
            [
             0.9,
             "#4d9221"
            ],
            [
             1,
             "#276419"
            ]
           ],
           "sequential": [
            [
             0,
             "#0d0887"
            ],
            [
             0.1111111111111111,
             "#46039f"
            ],
            [
             0.2222222222222222,
             "#7201a8"
            ],
            [
             0.3333333333333333,
             "#9c179e"
            ],
            [
             0.4444444444444444,
             "#bd3786"
            ],
            [
             0.5555555555555556,
             "#d8576b"
            ],
            [
             0.6666666666666666,
             "#ed7953"
            ],
            [
             0.7777777777777778,
             "#fb9f3a"
            ],
            [
             0.8888888888888888,
             "#fdca26"
            ],
            [
             1,
             "#f0f921"
            ]
           ],
           "sequentialminus": [
            [
             0,
             "#0d0887"
            ],
            [
             0.1111111111111111,
             "#46039f"
            ],
            [
             0.2222222222222222,
             "#7201a8"
            ],
            [
             0.3333333333333333,
             "#9c179e"
            ],
            [
             0.4444444444444444,
             "#bd3786"
            ],
            [
             0.5555555555555556,
             "#d8576b"
            ],
            [
             0.6666666666666666,
             "#ed7953"
            ],
            [
             0.7777777777777778,
             "#fb9f3a"
            ],
            [
             0.8888888888888888,
             "#fdca26"
            ],
            [
             1,
             "#f0f921"
            ]
           ]
          },
          "colorway": [
           "#636efa",
           "#EF553B",
           "#00cc96",
           "#ab63fa",
           "#FFA15A",
           "#19d3f3",
           "#FF6692",
           "#B6E880",
           "#FF97FF",
           "#FECB52"
          ],
          "font": {
           "color": "#2a3f5f"
          },
          "geo": {
           "bgcolor": "white",
           "lakecolor": "white",
           "landcolor": "#E5ECF6",
           "showlakes": true,
           "showland": true,
           "subunitcolor": "white"
          },
          "hoverlabel": {
           "align": "left"
          },
          "hovermode": "closest",
          "mapbox": {
           "style": "light"
          },
          "paper_bgcolor": "white",
          "plot_bgcolor": "#E5ECF6",
          "polar": {
           "angularaxis": {
            "gridcolor": "white",
            "linecolor": "white",
            "ticks": ""
           },
           "bgcolor": "#E5ECF6",
           "radialaxis": {
            "gridcolor": "white",
            "linecolor": "white",
            "ticks": ""
           }
          },
          "scene": {
           "xaxis": {
            "backgroundcolor": "#E5ECF6",
            "gridcolor": "white",
            "gridwidth": 2,
            "linecolor": "white",
            "showbackground": true,
            "ticks": "",
            "zerolinecolor": "white"
           },
           "yaxis": {
            "backgroundcolor": "#E5ECF6",
            "gridcolor": "white",
            "gridwidth": 2,
            "linecolor": "white",
            "showbackground": true,
            "ticks": "",
            "zerolinecolor": "white"
           },
           "zaxis": {
            "backgroundcolor": "#E5ECF6",
            "gridcolor": "white",
            "gridwidth": 2,
            "linecolor": "white",
            "showbackground": true,
            "ticks": "",
            "zerolinecolor": "white"
           }
          },
          "shapedefaults": {
           "line": {
            "color": "#2a3f5f"
           }
          },
          "ternary": {
           "aaxis": {
            "gridcolor": "white",
            "linecolor": "white",
            "ticks": ""
           },
           "baxis": {
            "gridcolor": "white",
            "linecolor": "white",
            "ticks": ""
           },
           "bgcolor": "#E5ECF6",
           "caxis": {
            "gridcolor": "white",
            "linecolor": "white",
            "ticks": ""
           }
          },
          "title": {
           "x": 0.05
          },
          "xaxis": {
           "automargin": true,
           "gridcolor": "white",
           "linecolor": "white",
           "ticks": "",
           "title": {
            "standoff": 15
           },
           "zerolinecolor": "white",
           "zerolinewidth": 2
          },
          "yaxis": {
           "automargin": true,
           "gridcolor": "white",
           "linecolor": "white",
           "ticks": "",
           "title": {
            "standoff": 15
           },
           "zerolinecolor": "white",
           "zerolinewidth": 2
          }
         }
        },
        "title": {
         "text": "Page cache hit vs miss ratio at different packet rate"
        },
        "xaxis": {
         "anchor": "y",
         "domain": [
          0,
          1
         ],
         "title": {
          "text": "Packets Per Second (thousand)"
         }
        },
        "yaxis": {
         "anchor": "x",
         "domain": [
          0,
          1
         ],
         "title": {
          "text": "Count"
         }
        }
       }
      }
     },
     "metadata": {},
     "output_type": "display_data"
    }
   ],
   "source": [
    "cachestat_df = spark.read.option(\"basePath\", \"../ansible/.results\").json(\n",
    "\"../ansible/.results/kpps=*/tool=cachestat\")\n",
    "cachestat_fig = px.bar(cachestat_df.toPandas(), x=\"kpps\", y=[\"HITS\", \"MISSES\", \"DIRTIES\"], barmode='group',\n",
    "            title=\"Page cache hit vs miss ratio at different packet rate\",\n",
    "            labels={\n",
    "                     \"kpps\": \"Packets Per Second (thousand)\",\n",
    "                     \"value\": \"Count\",\n",
    "                     \"variable\": \"Cache Operation\"\n",
    "                 })\n",
    "cachestat_fig.update_traces(textfont_size=12, textangle=0, textposition=\"outside\", cliponaxis=False)\n",
    "cachestat_fig.show()\n",
    "cachestat_fig.write_image(\"images/cachestat.jpeg\")\n",
    "with open(html_output_file, 'a') as f:\n",
    "    f.write(cachestat_fig.to_html(full_html=False, include_plotlyjs='cdn'))"
   ]
  },
  {
   "cell_type": "code",
   "execution_count": 18,
   "metadata": {},
   "outputs": [],
   "source": [
    "with open(html_output_file, 'a') as f:\n",
    "    f.write('<h2 id=\"disk-metrics\"> Disk I/O Metrics </h2>')\n",
    "    f.write('<p> To first evaluate the performance of Disk I/O, we would want to know the overall <em>block I/O device latency</em>. This refers to the time from issuing a request to the device, to when it completes, including time spent queued in the operating system. While latency can show the overall performance of the Disk I/O, to remediate them, it would be essential to get more details, like the <em>processes performing I/O on disk and the bite-size</em>. In addition to the overall latency request time, it is also necessary to know the <em>time requests were queued in the I/O scheduler in the block layer</em>.</p>')"
   ]
  },
  {
   "cell_type": "code",
   "execution_count": 19,
   "metadata": {},
   "outputs": [
    {
     "data": {
      "application/vnd.plotly.v1+json": {
       "config": {
        "plotlyServerURL": "https://plot.ly"
       },
       "data": [
        {
         "alignmentgroup": "True",
         "hovertemplate": "Packets Per Second (thousand)=1<br>Latency (usecs)=%{x}<br>Number of I/O=%{y}<extra></extra>",
         "legendgroup": "1",
         "marker": {
          "color": "#0d0887",
          "pattern": {
           "shape": ""
          }
         },
         "name": "1",
         "offsetgroup": "1",
         "orientation": "v",
         "showlegend": true,
         "textposition": "auto",
         "type": "bar",
         "x": [
          "0-1",
          "2-3",
          "4-7",
          "8-15",
          "16-31",
          "32-63",
          "64-127",
          "128-255",
          "256-511",
          "512-1023",
          "1024-2047",
          "2048-4095",
          "4096-8191"
         ],
         "xaxis": "x",
         "y": [
          0,
          0,
          0,
          0,
          0,
          0,
          2,
          111,
          280,
          217,
          23,
          2,
          3
         ],
         "yaxis": "y"
        },
        {
         "alignmentgroup": "True",
         "hovertemplate": "Packets Per Second (thousand)=5<br>Latency (usecs)=%{x}<br>Number of I/O=%{y}<extra></extra>",
         "legendgroup": "5",
         "marker": {
          "color": "#46039f",
          "pattern": {
           "shape": ""
          }
         },
         "name": "5",
         "offsetgroup": "5",
         "orientation": "v",
         "showlegend": true,
         "textposition": "auto",
         "type": "bar",
         "x": [
          "0-1",
          "2-3",
          "4-7",
          "8-15",
          "16-31",
          "32-63",
          "64-127",
          "128-255",
          "256-511",
          "512-1023",
          "1024-2047",
          "2048-4095"
         ],
         "xaxis": "x",
         "y": [
          0,
          0,
          0,
          0,
          0,
          0,
          4,
          72,
          175,
          35,
          0,
          1
         ],
         "yaxis": "y"
        },
        {
         "alignmentgroup": "True",
         "hovertemplate": "Packets Per Second (thousand)=10<br>Latency (usecs)=%{x}<br>Number of I/O=%{y}<extra></extra>",
         "legendgroup": "10",
         "marker": {
          "color": "#7201a8",
          "pattern": {
           "shape": ""
          }
         },
         "name": "10",
         "offsetgroup": "10",
         "orientation": "v",
         "showlegend": true,
         "textposition": "auto",
         "type": "bar",
         "x": [
          "0-1",
          "2-3",
          "4-7",
          "8-15",
          "16-31",
          "32-63",
          "64-127",
          "128-255",
          "256-511",
          "512-1023",
          "1024-2047",
          "2048-4095",
          "4096-8191",
          "8192-16383",
          "16384-32767",
          "32768-65535"
         ],
         "xaxis": "x",
         "y": [
          0,
          0,
          0,
          0,
          0,
          0,
          4,
          76,
          237,
          107,
          171,
          12,
          21,
          44,
          1,
          1
         ],
         "yaxis": "y"
        },
        {
         "alignmentgroup": "True",
         "hovertemplate": "Packets Per Second (thousand)=50<br>Latency (usecs)=%{x}<br>Number of I/O=%{y}<extra></extra>",
         "legendgroup": "50",
         "marker": {
          "color": "#9c179e",
          "pattern": {
           "shape": ""
          }
         },
         "name": "50",
         "offsetgroup": "50",
         "orientation": "v",
         "showlegend": true,
         "textposition": "auto",
         "type": "bar",
         "x": [
          "0-1",
          "2-3",
          "4-7",
          "8-15",
          "16-31",
          "32-63",
          "64-127",
          "128-255",
          "256-511",
          "512-1023",
          "1024-2047",
          "2048-4095",
          "4096-8191",
          "8192-16383",
          "16384-32767"
         ],
         "xaxis": "x",
         "y": [
          0,
          0,
          0,
          0,
          0,
          0,
          14,
          184,
          291,
          173,
          40,
          2,
          9,
          12,
          6
         ],
         "yaxis": "y"
        },
        {
         "alignmentgroup": "True",
         "hovertemplate": "Packets Per Second (thousand)=100<br>Latency (usecs)=%{x}<br>Number of I/O=%{y}<extra></extra>",
         "legendgroup": "100",
         "marker": {
          "color": "#bd3786",
          "pattern": {
           "shape": ""
          }
         },
         "name": "100",
         "offsetgroup": "100",
         "orientation": "v",
         "showlegend": true,
         "textposition": "auto",
         "type": "bar",
         "x": [
          "0-1",
          "2-3",
          "4-7",
          "8-15",
          "16-31",
          "32-63",
          "64-127",
          "128-255",
          "256-511",
          "512-1023",
          "1024-2047"
         ],
         "xaxis": "x",
         "y": [
          0,
          0,
          0,
          0,
          0,
          0,
          26,
          309,
          275,
          56,
          3
         ],
         "yaxis": "y"
        },
        {
         "alignmentgroup": "True",
         "hovertemplate": "Packets Per Second (thousand)=200<br>Latency (usecs)=%{x}<br>Number of I/O=%{y}<extra></extra>",
         "legendgroup": "200",
         "marker": {
          "color": "#d8576b",
          "pattern": {
           "shape": ""
          }
         },
         "name": "200",
         "offsetgroup": "200",
         "orientation": "v",
         "showlegend": true,
         "textposition": "auto",
         "type": "bar",
         "x": [
          "0-1",
          "2-3",
          "4-7",
          "8-15",
          "16-31",
          "32-63",
          "64-127",
          "128-255",
          "256-511",
          "512-1023",
          "1024-2047",
          "2048-4095",
          "4096-8191",
          "8192-16383"
         ],
         "xaxis": "x",
         "y": [
          0,
          0,
          0,
          0,
          0,
          1,
          3,
          76,
          152,
          89,
          9,
          10,
          11,
          20
         ],
         "yaxis": "y"
        },
        {
         "alignmentgroup": "True",
         "hovertemplate": "Packets Per Second (thousand)=300<br>Latency (usecs)=%{x}<br>Number of I/O=%{y}<extra></extra>",
         "legendgroup": "300",
         "marker": {
          "color": "#ed7953",
          "pattern": {
           "shape": ""
          }
         },
         "name": "300",
         "offsetgroup": "300",
         "orientation": "v",
         "showlegend": true,
         "textposition": "auto",
         "type": "bar",
         "x": [
          "0-1",
          "2-3",
          "4-7",
          "8-15",
          "16-31",
          "32-63",
          "64-127",
          "128-255",
          "256-511",
          "512-1023",
          "1024-2047",
          "2048-4095",
          "4096-8191",
          "8192-16383",
          "16384-32767",
          "32768-65535",
          "65536-131071"
         ],
         "xaxis": "x",
         "y": [
          0,
          0,
          0,
          0,
          0,
          0,
          7,
          79,
          177,
          45,
          0,
          1,
          16,
          0,
          1,
          1,
          1
         ],
         "yaxis": "y"
        },
        {
         "alignmentgroup": "True",
         "hovertemplate": "Packets Per Second (thousand)=400<br>Latency (usecs)=%{x}<br>Number of I/O=%{y}<extra></extra>",
         "legendgroup": "400",
         "marker": {
          "color": "#fb9f3a",
          "pattern": {
           "shape": ""
          }
         },
         "name": "400",
         "offsetgroup": "400",
         "orientation": "v",
         "showlegend": true,
         "textposition": "auto",
         "type": "bar",
         "x": [
          "0-1",
          "2-3",
          "4-7",
          "8-15",
          "16-31",
          "32-63",
          "64-127",
          "128-255",
          "256-511",
          "512-1023",
          "1024-2047",
          "2048-4095",
          "4096-8191",
          "8192-16383",
          "16384-32767",
          "32768-65535",
          "65536-131071",
          "131072-262143",
          "262144-524287",
          "524288-1048575",
          "1048576-2097151",
          "2097152-4194303",
          "4194304-8388607",
          "8388608-16777215"
         ],
         "xaxis": "x",
         "y": [
          0,
          0,
          0,
          0,
          0,
          0,
          4,
          71,
          213,
          140,
          117,
          110,
          3,
          0,
          0,
          0,
          0,
          0,
          0,
          0,
          4,
          0,
          0,
          1
         ],
         "yaxis": "y"
        },
        {
         "alignmentgroup": "True",
         "hovertemplate": "Packets Per Second (thousand)=500<br>Latency (usecs)=%{x}<br>Number of I/O=%{y}<extra></extra>",
         "legendgroup": "500",
         "marker": {
          "color": "#fdca26",
          "pattern": {
           "shape": ""
          }
         },
         "name": "500",
         "offsetgroup": "500",
         "orientation": "v",
         "showlegend": true,
         "textposition": "auto",
         "type": "bar",
         "x": [
          "0-1",
          "2-3",
          "4-7",
          "8-15",
          "16-31",
          "32-63",
          "64-127",
          "128-255",
          "256-511",
          "512-1023",
          "1024-2047",
          "2048-4095",
          "4096-8191",
          "8192-16383",
          "16384-32767",
          "32768-65535",
          "65536-131071",
          "131072-262143",
          "262144-524287",
          "524288-1048575",
          "1048576-2097151",
          "2097152-4194303",
          "4194304-8388607",
          "8388608-16777215"
         ],
         "xaxis": "x",
         "y": [
          0,
          0,
          0,
          0,
          0,
          0,
          5,
          79,
          159,
          75,
          2,
          0,
          0,
          0,
          0,
          0,
          0,
          0,
          0,
          0,
          0,
          0,
          0,
          1
         ],
         "yaxis": "y"
        }
       ],
       "layout": {
        "barmode": "group",
        "legend": {
         "title": {
          "text": "Packets Per Second (thousand)"
         },
         "tracegroupgap": 0
        },
        "template": {
         "data": {
          "bar": [
           {
            "error_x": {
             "color": "#2a3f5f"
            },
            "error_y": {
             "color": "#2a3f5f"
            },
            "marker": {
             "line": {
              "color": "#E5ECF6",
              "width": 0.5
             },
             "pattern": {
              "fillmode": "overlay",
              "size": 10,
              "solidity": 0.2
             }
            },
            "type": "bar"
           }
          ],
          "barpolar": [
           {
            "marker": {
             "line": {
              "color": "#E5ECF6",
              "width": 0.5
             },
             "pattern": {
              "fillmode": "overlay",
              "size": 10,
              "solidity": 0.2
             }
            },
            "type": "barpolar"
           }
          ],
          "carpet": [
           {
            "aaxis": {
             "endlinecolor": "#2a3f5f",
             "gridcolor": "white",
             "linecolor": "white",
             "minorgridcolor": "white",
             "startlinecolor": "#2a3f5f"
            },
            "baxis": {
             "endlinecolor": "#2a3f5f",
             "gridcolor": "white",
             "linecolor": "white",
             "minorgridcolor": "white",
             "startlinecolor": "#2a3f5f"
            },
            "type": "carpet"
           }
          ],
          "choropleth": [
           {
            "colorbar": {
             "outlinewidth": 0,
             "ticks": ""
            },
            "type": "choropleth"
           }
          ],
          "contour": [
           {
            "colorbar": {
             "outlinewidth": 0,
             "ticks": ""
            },
            "colorscale": [
             [
              0,
              "#0d0887"
             ],
             [
              0.1111111111111111,
              "#46039f"
             ],
             [
              0.2222222222222222,
              "#7201a8"
             ],
             [
              0.3333333333333333,
              "#9c179e"
             ],
             [
              0.4444444444444444,
              "#bd3786"
             ],
             [
              0.5555555555555556,
              "#d8576b"
             ],
             [
              0.6666666666666666,
              "#ed7953"
             ],
             [
              0.7777777777777778,
              "#fb9f3a"
             ],
             [
              0.8888888888888888,
              "#fdca26"
             ],
             [
              1,
              "#f0f921"
             ]
            ],
            "type": "contour"
           }
          ],
          "contourcarpet": [
           {
            "colorbar": {
             "outlinewidth": 0,
             "ticks": ""
            },
            "type": "contourcarpet"
           }
          ],
          "heatmap": [
           {
            "colorbar": {
             "outlinewidth": 0,
             "ticks": ""
            },
            "colorscale": [
             [
              0,
              "#0d0887"
             ],
             [
              0.1111111111111111,
              "#46039f"
             ],
             [
              0.2222222222222222,
              "#7201a8"
             ],
             [
              0.3333333333333333,
              "#9c179e"
             ],
             [
              0.4444444444444444,
              "#bd3786"
             ],
             [
              0.5555555555555556,
              "#d8576b"
             ],
             [
              0.6666666666666666,
              "#ed7953"
             ],
             [
              0.7777777777777778,
              "#fb9f3a"
             ],
             [
              0.8888888888888888,
              "#fdca26"
             ],
             [
              1,
              "#f0f921"
             ]
            ],
            "type": "heatmap"
           }
          ],
          "heatmapgl": [
           {
            "colorbar": {
             "outlinewidth": 0,
             "ticks": ""
            },
            "colorscale": [
             [
              0,
              "#0d0887"
             ],
             [
              0.1111111111111111,
              "#46039f"
             ],
             [
              0.2222222222222222,
              "#7201a8"
             ],
             [
              0.3333333333333333,
              "#9c179e"
             ],
             [
              0.4444444444444444,
              "#bd3786"
             ],
             [
              0.5555555555555556,
              "#d8576b"
             ],
             [
              0.6666666666666666,
              "#ed7953"
             ],
             [
              0.7777777777777778,
              "#fb9f3a"
             ],
             [
              0.8888888888888888,
              "#fdca26"
             ],
             [
              1,
              "#f0f921"
             ]
            ],
            "type": "heatmapgl"
           }
          ],
          "histogram": [
           {
            "marker": {
             "pattern": {
              "fillmode": "overlay",
              "size": 10,
              "solidity": 0.2
             }
            },
            "type": "histogram"
           }
          ],
          "histogram2d": [
           {
            "colorbar": {
             "outlinewidth": 0,
             "ticks": ""
            },
            "colorscale": [
             [
              0,
              "#0d0887"
             ],
             [
              0.1111111111111111,
              "#46039f"
             ],
             [
              0.2222222222222222,
              "#7201a8"
             ],
             [
              0.3333333333333333,
              "#9c179e"
             ],
             [
              0.4444444444444444,
              "#bd3786"
             ],
             [
              0.5555555555555556,
              "#d8576b"
             ],
             [
              0.6666666666666666,
              "#ed7953"
             ],
             [
              0.7777777777777778,
              "#fb9f3a"
             ],
             [
              0.8888888888888888,
              "#fdca26"
             ],
             [
              1,
              "#f0f921"
             ]
            ],
            "type": "histogram2d"
           }
          ],
          "histogram2dcontour": [
           {
            "colorbar": {
             "outlinewidth": 0,
             "ticks": ""
            },
            "colorscale": [
             [
              0,
              "#0d0887"
             ],
             [
              0.1111111111111111,
              "#46039f"
             ],
             [
              0.2222222222222222,
              "#7201a8"
             ],
             [
              0.3333333333333333,
              "#9c179e"
             ],
             [
              0.4444444444444444,
              "#bd3786"
             ],
             [
              0.5555555555555556,
              "#d8576b"
             ],
             [
              0.6666666666666666,
              "#ed7953"
             ],
             [
              0.7777777777777778,
              "#fb9f3a"
             ],
             [
              0.8888888888888888,
              "#fdca26"
             ],
             [
              1,
              "#f0f921"
             ]
            ],
            "type": "histogram2dcontour"
           }
          ],
          "mesh3d": [
           {
            "colorbar": {
             "outlinewidth": 0,
             "ticks": ""
            },
            "type": "mesh3d"
           }
          ],
          "parcoords": [
           {
            "line": {
             "colorbar": {
              "outlinewidth": 0,
              "ticks": ""
             }
            },
            "type": "parcoords"
           }
          ],
          "pie": [
           {
            "automargin": true,
            "type": "pie"
           }
          ],
          "scatter": [
           {
            "fillpattern": {
             "fillmode": "overlay",
             "size": 10,
             "solidity": 0.2
            },
            "type": "scatter"
           }
          ],
          "scatter3d": [
           {
            "line": {
             "colorbar": {
              "outlinewidth": 0,
              "ticks": ""
             }
            },
            "marker": {
             "colorbar": {
              "outlinewidth": 0,
              "ticks": ""
             }
            },
            "type": "scatter3d"
           }
          ],
          "scattercarpet": [
           {
            "marker": {
             "colorbar": {
              "outlinewidth": 0,
              "ticks": ""
             }
            },
            "type": "scattercarpet"
           }
          ],
          "scattergeo": [
           {
            "marker": {
             "colorbar": {
              "outlinewidth": 0,
              "ticks": ""
             }
            },
            "type": "scattergeo"
           }
          ],
          "scattergl": [
           {
            "marker": {
             "colorbar": {
              "outlinewidth": 0,
              "ticks": ""
             }
            },
            "type": "scattergl"
           }
          ],
          "scattermapbox": [
           {
            "marker": {
             "colorbar": {
              "outlinewidth": 0,
              "ticks": ""
             }
            },
            "type": "scattermapbox"
           }
          ],
          "scatterpolar": [
           {
            "marker": {
             "colorbar": {
              "outlinewidth": 0,
              "ticks": ""
             }
            },
            "type": "scatterpolar"
           }
          ],
          "scatterpolargl": [
           {
            "marker": {
             "colorbar": {
              "outlinewidth": 0,
              "ticks": ""
             }
            },
            "type": "scatterpolargl"
           }
          ],
          "scatterternary": [
           {
            "marker": {
             "colorbar": {
              "outlinewidth": 0,
              "ticks": ""
             }
            },
            "type": "scatterternary"
           }
          ],
          "surface": [
           {
            "colorbar": {
             "outlinewidth": 0,
             "ticks": ""
            },
            "colorscale": [
             [
              0,
              "#0d0887"
             ],
             [
              0.1111111111111111,
              "#46039f"
             ],
             [
              0.2222222222222222,
              "#7201a8"
             ],
             [
              0.3333333333333333,
              "#9c179e"
             ],
             [
              0.4444444444444444,
              "#bd3786"
             ],
             [
              0.5555555555555556,
              "#d8576b"
             ],
             [
              0.6666666666666666,
              "#ed7953"
             ],
             [
              0.7777777777777778,
              "#fb9f3a"
             ],
             [
              0.8888888888888888,
              "#fdca26"
             ],
             [
              1,
              "#f0f921"
             ]
            ],
            "type": "surface"
           }
          ],
          "table": [
           {
            "cells": {
             "fill": {
              "color": "#EBF0F8"
             },
             "line": {
              "color": "white"
             }
            },
            "header": {
             "fill": {
              "color": "#C8D4E3"
             },
             "line": {
              "color": "white"
             }
            },
            "type": "table"
           }
          ]
         },
         "layout": {
          "annotationdefaults": {
           "arrowcolor": "#2a3f5f",
           "arrowhead": 0,
           "arrowwidth": 1
          },
          "autotypenumbers": "strict",
          "coloraxis": {
           "colorbar": {
            "outlinewidth": 0,
            "ticks": ""
           }
          },
          "colorscale": {
           "diverging": [
            [
             0,
             "#8e0152"
            ],
            [
             0.1,
             "#c51b7d"
            ],
            [
             0.2,
             "#de77ae"
            ],
            [
             0.3,
             "#f1b6da"
            ],
            [
             0.4,
             "#fde0ef"
            ],
            [
             0.5,
             "#f7f7f7"
            ],
            [
             0.6,
             "#e6f5d0"
            ],
            [
             0.7,
             "#b8e186"
            ],
            [
             0.8,
             "#7fbc41"
            ],
            [
             0.9,
             "#4d9221"
            ],
            [
             1,
             "#276419"
            ]
           ],
           "sequential": [
            [
             0,
             "#0d0887"
            ],
            [
             0.1111111111111111,
             "#46039f"
            ],
            [
             0.2222222222222222,
             "#7201a8"
            ],
            [
             0.3333333333333333,
             "#9c179e"
            ],
            [
             0.4444444444444444,
             "#bd3786"
            ],
            [
             0.5555555555555556,
             "#d8576b"
            ],
            [
             0.6666666666666666,
             "#ed7953"
            ],
            [
             0.7777777777777778,
             "#fb9f3a"
            ],
            [
             0.8888888888888888,
             "#fdca26"
            ],
            [
             1,
             "#f0f921"
            ]
           ],
           "sequentialminus": [
            [
             0,
             "#0d0887"
            ],
            [
             0.1111111111111111,
             "#46039f"
            ],
            [
             0.2222222222222222,
             "#7201a8"
            ],
            [
             0.3333333333333333,
             "#9c179e"
            ],
            [
             0.4444444444444444,
             "#bd3786"
            ],
            [
             0.5555555555555556,
             "#d8576b"
            ],
            [
             0.6666666666666666,
             "#ed7953"
            ],
            [
             0.7777777777777778,
             "#fb9f3a"
            ],
            [
             0.8888888888888888,
             "#fdca26"
            ],
            [
             1,
             "#f0f921"
            ]
           ]
          },
          "colorway": [
           "#636efa",
           "#EF553B",
           "#00cc96",
           "#ab63fa",
           "#FFA15A",
           "#19d3f3",
           "#FF6692",
           "#B6E880",
           "#FF97FF",
           "#FECB52"
          ],
          "font": {
           "color": "#2a3f5f"
          },
          "geo": {
           "bgcolor": "white",
           "lakecolor": "white",
           "landcolor": "#E5ECF6",
           "showlakes": true,
           "showland": true,
           "subunitcolor": "white"
          },
          "hoverlabel": {
           "align": "left"
          },
          "hovermode": "closest",
          "mapbox": {
           "style": "light"
          },
          "paper_bgcolor": "white",
          "plot_bgcolor": "#E5ECF6",
          "polar": {
           "angularaxis": {
            "gridcolor": "white",
            "linecolor": "white",
            "ticks": ""
           },
           "bgcolor": "#E5ECF6",
           "radialaxis": {
            "gridcolor": "white",
            "linecolor": "white",
            "ticks": ""
           }
          },
          "scene": {
           "xaxis": {
            "backgroundcolor": "#E5ECF6",
            "gridcolor": "white",
            "gridwidth": 2,
            "linecolor": "white",
            "showbackground": true,
            "ticks": "",
            "zerolinecolor": "white"
           },
           "yaxis": {
            "backgroundcolor": "#E5ECF6",
            "gridcolor": "white",
            "gridwidth": 2,
            "linecolor": "white",
            "showbackground": true,
            "ticks": "",
            "zerolinecolor": "white"
           },
           "zaxis": {
            "backgroundcolor": "#E5ECF6",
            "gridcolor": "white",
            "gridwidth": 2,
            "linecolor": "white",
            "showbackground": true,
            "ticks": "",
            "zerolinecolor": "white"
           }
          },
          "shapedefaults": {
           "line": {
            "color": "#2a3f5f"
           }
          },
          "ternary": {
           "aaxis": {
            "gridcolor": "white",
            "linecolor": "white",
            "ticks": ""
           },
           "baxis": {
            "gridcolor": "white",
            "linecolor": "white",
            "ticks": ""
           },
           "bgcolor": "#E5ECF6",
           "caxis": {
            "gridcolor": "white",
            "linecolor": "white",
            "ticks": ""
           }
          },
          "title": {
           "x": 0.05
          },
          "xaxis": {
           "automargin": true,
           "gridcolor": "white",
           "linecolor": "white",
           "ticks": "",
           "title": {
            "standoff": 15
           },
           "zerolinecolor": "white",
           "zerolinewidth": 2
          },
          "yaxis": {
           "automargin": true,
           "gridcolor": "white",
           "linecolor": "white",
           "ticks": "",
           "title": {
            "standoff": 15
           },
           "zerolinecolor": "white",
           "zerolinewidth": 2
          }
         }
        },
        "title": {
         "text": "Block I/O device latency"
        },
        "xaxis": {
         "anchor": "y",
         "domain": [
          0,
          1
         ],
         "title": {
          "text": "Latency (usecs)"
         }
        },
        "yaxis": {
         "anchor": "x",
         "domain": [
          0,
          1
         ],
         "title": {
          "text": "Number of I/O"
         }
        }
       }
      }
     },
     "metadata": {},
     "output_type": "display_data"
    }
   ],
   "source": [
    "biolatency_df = spark.read.option(\"basePath\", \"../ansible/.results\").json(\"../ansible/.results/kpps=*/tool=biolatency\").select(\n",
    "    \"kpps\", \"ts\", \"val_type\", \"tool\",\n",
    "    explode(\"data\").alias(\"dataExplode\")\n",
    ").orderBy(col('kpps')).select(col(\"kpps\").cast(StringType()), \"ts\", \"val_type\", \"tool\", \"dataExplode.*\", concat_ws('-',col('dataExplode.interval-start'),col('dataExplode.interval-end')).alias(\"interval\"))\n",
    "biolatency_fig = px.bar(biolatency_df.toPandas(), x=\"interval\", y=\"count\", color=\"kpps\", barmode=\"group\",\n",
    "        title=\"Block I/O device latency\",\n",
    "        color_discrete_sequence=px.colors.sequential.Plasma,\n",
    "        labels={\n",
    "                    \"kpps\": \"Packets Per Second (thousand)\",\n",
    "                    \"count\": \"Number of I/O\",\n",
    "                    \"interval\": \"Latency (usecs)\"\n",
    "                })\n",
    "biolatency_fig.show()\n",
    "biolatency_fig.write_image(\"images/biolatency.jpeg\")\n",
    "with open(html_output_file, 'a') as f:\n",
    "    f.write(biolatency_fig.to_html(full_html=False, include_plotlyjs='cdn'))"
   ]
  },
  {
   "cell_type": "code",
   "execution_count": 20,
   "metadata": {},
   "outputs": [],
   "source": [
    "with open(html_output_file, 'a') as f:\n",
    "    f.write('<h2 id=\"networking-metrics\"> Netowrking Metrics </h2>')\n",
    "    f.write('<p> To draw insights on the performance of the networking on the NFV and for the VNF, the initial bit is that we will need to know the <em>number of packets being received and their sizes</em>. After that, we would want to see the <em>latency of the device queue</em>, i.e., the time from when the packets have been pushed into the device layer for sending until the packages are sent out as signalled by NAPI. After that, we would want to know the <em>time spent on the queuing disciplines</em>. Next, we would want to see the <em>latency for IP protocol connections and the process of making the connection</em>. Following this, we would also like to know the <em>lifespan of the kernel buffers</em> that are used to pass packets across the networking stack. This can show the latency within the networking stack. While this shows the latency, it won’t show the packet drops. For this, it would be essential to know <em>the number of packets and allocated size of the socket buffers and their limits</em>. Packets are dropped when the socket limits have been reached. </p>')"
   ]
  },
  {
   "cell_type": "code",
   "execution_count": 21,
   "metadata": {},
   "outputs": [
    {
     "name": "stderr",
     "output_type": "stream",
     "text": [
      "                                                                                \r"
     ]
    },
    {
     "data": {
      "application/vnd.plotly.v1+json": {
       "config": {
        "plotlyServerURL": "https://plot.ly"
       },
       "data": [
        {
         "alignmentgroup": "True",
         "hovertemplate": "Packets Per Second (thousand)=1<br>action=@nic_recv_bytes<br>Packet Size (bytes)=%{x}<br>Number of Packets=%{y}<extra></extra>",
         "legendgroup": "1",
         "marker": {
          "color": "#0d0887",
          "pattern": {
           "shape": ""
          }
         },
         "name": "1",
         "offsetgroup": "1",
         "orientation": "v",
         "showlegend": true,
         "textposition": "auto",
         "type": "bar",
         "x": [
          "31 - 16",
          "63 - 32",
          "127 - 64"
         ],
         "xaxis": "x",
         "y": [
          1,
          2,
          1
         ],
         "yaxis": "y"
        },
        {
         "alignmentgroup": "True",
         "hovertemplate": "Packets Per Second (thousand)=1<br>action=@nic_send_bytes<br>Packet Size (bytes)=%{x}<br>Number of Packets=%{y}<extra></extra>",
         "legendgroup": "1",
         "marker": {
          "color": "#0d0887",
          "pattern": {
           "shape": ""
          }
         },
         "name": "1",
         "offsetgroup": "1",
         "orientation": "v",
         "showlegend": false,
         "textposition": "auto",
         "type": "bar",
         "x": [
          "63 - 32",
          "127 - 64",
          "63 - 32",
          "127 - 64",
          "63 - 32",
          "127 - 64",
          "255 - 128",
          "511 - 256",
          "1023 - 512",
          "2047 - 1024",
          "4095 - 2048",
          "127 - 64",
          "255 - 128",
          "511 - 256",
          "1023 - 512",
          "2047 - 1024",
          "4095 - 2048",
          "127 - 64",
          "255 - 128",
          "511 - 256",
          "1023 - 512",
          "2047 - 1024",
          "4095 - 2048",
          "127 - 64",
          "255 - 128",
          "127 - 64",
          "255 - 128",
          "63 - 32",
          "127 - 64",
          "63 - 32",
          "127 - 64",
          "255 - 128",
          "63 - 32",
          "127 - 64",
          "255 - 128",
          "127 - 64",
          "255 - 128"
         ],
         "xaxis": "x2",
         "y": [
          3,
          1,
          2,
          1,
          18,
          241,
          30,
          24,
          0,
          0,
          6,
          130,
          6,
          24,
          0,
          0,
          6,
          150,
          0,
          24,
          0,
          0,
          6,
          18,
          6,
          18,
          6,
          3,
          1,
          8,
          18,
          6,
          8,
          18,
          6,
          18,
          6
         ],
         "yaxis": "y2"
        },
        {
         "alignmentgroup": "True",
         "hovertemplate": "Packets Per Second (thousand)=1<br>action=@recv_bytes<br>Packet Size (bytes)=%{x}<br>Number of Packets=%{y}<extra></extra>",
         "legendgroup": "1",
         "marker": {
          "color": "#0d0887",
          "pattern": {
           "shape": ""
          }
         },
         "name": "1",
         "offsetgroup": "1",
         "orientation": "v",
         "showlegend": false,
         "textposition": "auto",
         "type": "bar",
         "x": [
          "31 - 16",
          "63 - 32",
          "127 - 64",
          "31 - 16",
          "63 - 32",
          "127 - 64",
          "31 - 16",
          "63 - 32",
          "127 - 64",
          "255 - 128",
          "511 - 256",
          "1023 - 512",
          "2047 - 1024",
          "4095 - 2048",
          "63 - 32",
          "127 - 64",
          "255 - 128",
          "511 - 256",
          "1023 - 512",
          "2047 - 1024",
          "4095 - 2048",
          "63 - 32",
          "127 - 64",
          "255 - 128",
          "63 - 32",
          "127 - 64",
          "255 - 128",
          "511 - 256",
          "63 - 32",
          "127 - 64",
          "255 - 128",
          "511 - 256",
          "31 - 16",
          "63 - 32",
          "127 - 64",
          "31 - 16",
          "63 - 32",
          "127 - 64",
          "255 - 128",
          "511 - 256",
          "1023 - 512",
          "2047 - 1024",
          "4095 - 2048",
          "31 - 16",
          "63 - 32",
          "127 - 64",
          "255 - 128",
          "511 - 256",
          "63 - 32",
          "127 - 64",
          "255 - 128",
          "511 - 256"
         ],
         "xaxis": "x3",
         "y": [
          1,
          1,
          1,
          1,
          2,
          1,
          5,
          254,
          1,
          30,
          24,
          0,
          0,
          6,
          100,
          30,
          6,
          24,
          0,
          0,
          6,
          90,
          0,
          30,
          30,
          0,
          0,
          6,
          30,
          0,
          0,
          6,
          1,
          1,
          1,
          2,
          36,
          0,
          0,
          0,
          0,
          0,
          6,
          2,
          36,
          0,
          0,
          6,
          30,
          0,
          0,
          6
         ],
         "yaxis": "y3"
        },
        {
         "alignmentgroup": "True",
         "hovertemplate": "Packets Per Second (thousand)=1<br>action=@send_bytes<br>Packet Size (bytes)=%{x}<br>Number of Packets=%{y}<extra></extra>",
         "legendgroup": "1",
         "marker": {
          "color": "#0d0887",
          "pattern": {
           "shape": ""
          }
         },
         "name": "1",
         "offsetgroup": "1",
         "orientation": "v",
         "showlegend": false,
         "textposition": "auto",
         "type": "bar",
         "x": [
          "63 - 32",
          "127 - 64",
          "63 - 32",
          "127 - 64",
          "63 - 32",
          "127 - 64",
          "255 - 128",
          "511 - 256",
          "1023 - 512",
          "2047 - 1024",
          "4095 - 2048",
          "127 - 64",
          "255 - 128",
          "511 - 256",
          "1023 - 512",
          "2047 - 1024",
          "4095 - 2048",
          "127 - 64",
          "255 - 128",
          "511 - 256",
          "1023 - 512",
          "2047 - 1024",
          "4095 - 2048",
          "127 - 64",
          "255 - 128",
          "127 - 64",
          "255 - 128",
          "63 - 32",
          "127 - 64",
          "63 - 32",
          "127 - 64",
          "255 - 128",
          "63 - 32",
          "127 - 64",
          "255 - 128",
          "127 - 64",
          "255 - 128"
         ],
         "xaxis": "x4",
         "y": [
          3,
          1,
          2,
          1,
          18,
          241,
          30,
          24,
          0,
          0,
          6,
          130,
          6,
          24,
          0,
          0,
          6,
          150,
          0,
          24,
          0,
          0,
          6,
          18,
          6,
          18,
          6,
          3,
          1,
          8,
          18,
          6,
          8,
          18,
          6,
          18,
          6
         ],
         "yaxis": "y4"
        },
        {
         "alignmentgroup": "True",
         "hovertemplate": "Packets Per Second (thousand)=5<br>action=@nic_recv_bytes<br>Packet Size (bytes)=%{x}<br>Number of Packets=%{y}<extra></extra>",
         "legendgroup": "5",
         "marker": {
          "color": "#46039f",
          "pattern": {
           "shape": ""
          }
         },
         "name": "5",
         "offsetgroup": "5",
         "orientation": "v",
         "showlegend": true,
         "textposition": "auto",
         "type": "bar",
         "x": [
          "63 - 32",
          "127 - 64"
         ],
         "xaxis": "x",
         "y": [
          2,
          2
         ],
         "yaxis": "y"
        },
        {
         "alignmentgroup": "True",
         "hovertemplate": "Packets Per Second (thousand)=5<br>action=@nic_send_bytes<br>Packet Size (bytes)=%{x}<br>Number of Packets=%{y}<extra></extra>",
         "legendgroup": "5",
         "marker": {
          "color": "#46039f",
          "pattern": {
           "shape": ""
          }
         },
         "name": "5",
         "offsetgroup": "5",
         "orientation": "v",
         "showlegend": false,
         "textposition": "auto",
         "type": "bar",
         "x": [
          "63 - 32",
          "127 - 64",
          "63 - 32",
          "127 - 64",
          "63 - 32",
          "127 - 64",
          "255 - 128",
          "511 - 256",
          "127 - 64",
          "255 - 128",
          "511 - 256",
          "1023 - 512",
          "2047 - 1024",
          "4095 - 2048",
          "63 - 32",
          "127 - 64",
          "127 - 64",
          "255 - 128",
          "511 - 256",
          "127 - 64",
          "255 - 128",
          "63 - 32",
          "127 - 64",
          "255 - 128",
          "63 - 32",
          "127 - 64",
          "63 - 32",
          "63 - 32",
          "127 - 64",
          "255 - 128",
          "127 - 64",
          "255 - 128"
         ],
         "xaxis": "x2",
         "y": [
          3,
          2,
          1,
          2,
          24,
          197,
          24,
          24,
          130,
          6,
          24,
          0,
          0,
          6,
          2,
          2,
          120,
          0,
          24,
          18,
          6,
          2,
          19,
          6,
          3,
          2,
          9,
          9,
          18,
          6,
          18,
          6
         ],
         "yaxis": "y2"
        },
        {
         "alignmentgroup": "True",
         "hovertemplate": "Packets Per Second (thousand)=5<br>action=@recv_bytes<br>Packet Size (bytes)=%{x}<br>Number of Packets=%{y}<extra></extra>",
         "legendgroup": "5",
         "marker": {
          "color": "#46039f",
          "pattern": {
           "shape": ""
          }
         },
         "name": "5",
         "offsetgroup": "5",
         "orientation": "v",
         "showlegend": false,
         "textposition": "auto",
         "type": "bar",
         "x": [
          "31 - 16",
          "63 - 32",
          "127 - 64",
          "63 - 32",
          "127 - 64",
          "31 - 16",
          "63 - 32",
          "127 - 64",
          "255 - 128",
          "511 - 256",
          "63 - 32",
          "127 - 64",
          "255 - 128",
          "511 - 256",
          "1023 - 512",
          "2047 - 1024",
          "4095 - 2048",
          "31 - 16",
          "63 - 32",
          "127 - 64",
          "63 - 32",
          "127 - 64",
          "255 - 128",
          "63 - 32",
          "127 - 64",
          "255 - 128",
          "511 - 256",
          "31 - 16",
          "63 - 32",
          "127 - 64",
          "255 - 128",
          "511 - 256",
          "31 - 16",
          "63 - 32",
          "127 - 64",
          "31 - 16",
          "63 - 32",
          "31 - 16",
          "63 - 32",
          "127 - 64",
          "255 - 128",
          "511 - 256",
          "63 - 32",
          "127 - 64",
          "255 - 128",
          "511 - 256"
         ],
         "xaxis": "x3",
         "y": [
          1,
          1,
          2,
          2,
          2,
          11,
          207,
          4,
          24,
          24,
          100,
          30,
          6,
          24,
          0,
          0,
          6,
          2,
          0,
          1,
          72,
          0,
          24,
          30,
          0,
          0,
          6,
          2,
          31,
          1,
          0,
          6,
          1,
          1,
          2,
          3,
          6,
          3,
          36,
          0,
          0,
          6,
          30,
          0,
          0,
          6
         ],
         "yaxis": "y3"
        },
        {
         "alignmentgroup": "True",
         "hovertemplate": "Packets Per Second (thousand)=5<br>action=@send_bytes<br>Packet Size (bytes)=%{x}<br>Number of Packets=%{y}<extra></extra>",
         "legendgroup": "5",
         "marker": {
          "color": "#46039f",
          "pattern": {
           "shape": ""
          }
         },
         "name": "5",
         "offsetgroup": "5",
         "orientation": "v",
         "showlegend": false,
         "textposition": "auto",
         "type": "bar",
         "x": [
          "63 - 32",
          "127 - 64",
          "63 - 32",
          "127 - 64",
          "63 - 32",
          "127 - 64",
          "255 - 128",
          "511 - 256",
          "127 - 64",
          "255 - 128",
          "511 - 256",
          "1023 - 512",
          "2047 - 1024",
          "4095 - 2048",
          "63 - 32",
          "127 - 64",
          "127 - 64",
          "255 - 128",
          "511 - 256",
          "127 - 64",
          "255 - 128",
          "63 - 32",
          "127 - 64",
          "255 - 128",
          "63 - 32",
          "127 - 64",
          "63 - 32",
          "63 - 32",
          "127 - 64",
          "255 - 128",
          "127 - 64",
          "255 - 128"
         ],
         "xaxis": "x4",
         "y": [
          3,
          2,
          1,
          2,
          24,
          197,
          24,
          24,
          130,
          6,
          24,
          0,
          0,
          6,
          2,
          2,
          120,
          0,
          24,
          18,
          6,
          2,
          19,
          6,
          3,
          2,
          9,
          9,
          18,
          6,
          18,
          6
         ],
         "yaxis": "y4"
        },
        {
         "alignmentgroup": "True",
         "hovertemplate": "Packets Per Second (thousand)=10<br>action=@nic_recv_bytes<br>Packet Size (bytes)=%{x}<br>Number of Packets=%{y}<extra></extra>",
         "legendgroup": "10",
         "marker": {
          "color": "#7201a8",
          "pattern": {
           "shape": ""
          }
         },
         "name": "10",
         "offsetgroup": "10",
         "orientation": "v",
         "showlegend": true,
         "textposition": "auto",
         "type": "bar",
         "x": [
          "63 - 32",
          "127 - 64"
         ],
         "xaxis": "x",
         "y": [
          2,
          2
         ],
         "yaxis": "y"
        },
        {
         "alignmentgroup": "True",
         "hovertemplate": "Packets Per Second (thousand)=10<br>action=@nic_send_bytes<br>Packet Size (bytes)=%{x}<br>Number of Packets=%{y}<extra></extra>",
         "legendgroup": "10",
         "marker": {
          "color": "#7201a8",
          "pattern": {
           "shape": ""
          }
         },
         "name": "10",
         "offsetgroup": "10",
         "orientation": "v",
         "showlegend": false,
         "textposition": "auto",
         "type": "bar",
         "x": [
          "63 - 32",
          "127 - 64",
          "63 - 32",
          "127 - 64",
          "63 - 32",
          "127 - 64",
          "255 - 128",
          "511 - 256",
          "127 - 64",
          "255 - 128",
          "511 - 256",
          "1023 - 512",
          "2047 - 1024",
          "4095 - 2048",
          "127 - 64",
          "255 - 128",
          "511 - 256",
          "127 - 64",
          "255 - 128",
          "127 - 64",
          "255 - 128",
          "63 - 32",
          "127 - 64",
          "127 - 64",
          "255 - 128",
          "127 - 64",
          "255 - 128"
         ],
         "xaxis": "x2",
         "y": [
          3,
          2,
          1,
          2,
          2,
          194,
          24,
          24,
          132,
          6,
          24,
          0,
          0,
          6,
          120,
          0,
          24,
          18,
          6,
          18,
          6,
          3,
          2,
          18,
          6,
          18,
          6
         ],
         "yaxis": "y2"
        },
        {
         "alignmentgroup": "True",
         "hovertemplate": "Packets Per Second (thousand)=10<br>action=@recv_bytes<br>Packet Size (bytes)=%{x}<br>Number of Packets=%{y}<extra></extra>",
         "legendgroup": "10",
         "marker": {
          "color": "#7201a8",
          "pattern": {
           "shape": ""
          }
         },
         "name": "10",
         "offsetgroup": "10",
         "orientation": "v",
         "showlegend": false,
         "textposition": "auto",
         "type": "bar",
         "x": [
          "31 - 16",
          "63 - 32",
          "127 - 64",
          "63 - 32",
          "127 - 64",
          "31 - 16",
          "63 - 32",
          "127 - 64",
          "255 - 128",
          "511 - 256",
          "63 - 32",
          "127 - 64",
          "255 - 128",
          "511 - 256",
          "1023 - 512",
          "2047 - 1024",
          "4095 - 2048",
          "63 - 32",
          "127 - 64",
          "255 - 128",
          "63 - 32",
          "127 - 64",
          "255 - 128",
          "511 - 256",
          "63 - 32",
          "127 - 64",
          "255 - 128",
          "511 - 256",
          "31 - 16",
          "63 - 32",
          "127 - 64",
          "63 - 32",
          "127 - 64",
          "255 - 128",
          "511 - 256",
          "63 - 32",
          "127 - 64",
          "255 - 128",
          "511 - 256"
         ],
         "xaxis": "x3",
         "y": [
          1,
          1,
          2,
          2,
          2,
          1,
          194,
          2,
          24,
          24,
          102,
          30,
          6,
          24,
          0,
          0,
          6,
          72,
          0,
          24,
          30,
          0,
          0,
          6,
          30,
          0,
          0,
          6,
          1,
          1,
          2,
          30,
          0,
          0,
          6,
          30,
          0,
          0,
          6
         ],
         "yaxis": "y3"
        },
        {
         "alignmentgroup": "True",
         "hovertemplate": "Packets Per Second (thousand)=10<br>action=@send_bytes<br>Packet Size (bytes)=%{x}<br>Number of Packets=%{y}<extra></extra>",
         "legendgroup": "10",
         "marker": {
          "color": "#7201a8",
          "pattern": {
           "shape": ""
          }
         },
         "name": "10",
         "offsetgroup": "10",
         "orientation": "v",
         "showlegend": false,
         "textposition": "auto",
         "type": "bar",
         "x": [
          "63 - 32",
          "127 - 64",
          "63 - 32",
          "127 - 64",
          "63 - 32",
          "127 - 64",
          "255 - 128",
          "511 - 256",
          "127 - 64",
          "255 - 128",
          "511 - 256",
          "1023 - 512",
          "2047 - 1024",
          "4095 - 2048",
          "127 - 64",
          "255 - 128",
          "511 - 256",
          "127 - 64",
          "255 - 128",
          "127 - 64",
          "255 - 128",
          "63 - 32",
          "127 - 64",
          "127 - 64",
          "255 - 128",
          "127 - 64",
          "255 - 128"
         ],
         "xaxis": "x4",
         "y": [
          3,
          2,
          1,
          2,
          2,
          194,
          24,
          24,
          132,
          6,
          24,
          0,
          0,
          6,
          120,
          0,
          24,
          18,
          6,
          18,
          6,
          3,
          2,
          18,
          6,
          18,
          6
         ],
         "yaxis": "y4"
        },
        {
         "alignmentgroup": "True",
         "hovertemplate": "Packets Per Second (thousand)=50<br>action=@nic_recv_bytes<br>Packet Size (bytes)=%{x}<br>Number of Packets=%{y}<extra></extra>",
         "legendgroup": "50",
         "marker": {
          "color": "#9c179e",
          "pattern": {
           "shape": ""
          }
         },
         "name": "50",
         "offsetgroup": "50",
         "orientation": "v",
         "showlegend": true,
         "textposition": "auto",
         "type": "bar",
         "x": [
          "63 - 32",
          "127 - 64"
         ],
         "xaxis": "x",
         "y": [
          2,
          1
         ],
         "yaxis": "y"
        },
        {
         "alignmentgroup": "True",
         "hovertemplate": "Packets Per Second (thousand)=50<br>action=@nic_send_bytes<br>Packet Size (bytes)=%{x}<br>Number of Packets=%{y}<extra></extra>",
         "legendgroup": "50",
         "marker": {
          "color": "#9c179e",
          "pattern": {
           "shape": ""
          }
         },
         "name": "50",
         "offsetgroup": "50",
         "orientation": "v",
         "showlegend": false,
         "textposition": "auto",
         "type": "bar",
         "x": [
          "63 - 32",
          "127 - 64",
          "63 - 32",
          "127 - 64",
          "63 - 32",
          "127 - 64",
          "255 - 128",
          "511 - 256",
          "127 - 64",
          "255 - 128",
          "511 - 256",
          "1023 - 512",
          "2047 - 1024",
          "4095 - 2048",
          "127 - 64",
          "255 - 128",
          "511 - 256",
          "127 - 64",
          "255 - 128",
          "127 - 64",
          "255 - 128",
          "63 - 32",
          "127 - 64",
          "127 - 64",
          "255 - 128",
          "127 - 64",
          "255 - 128"
         ],
         "xaxis": "x2",
         "y": [
          3,
          1,
          1,
          1,
          2,
          185,
          23,
          23,
          132,
          6,
          24,
          0,
          0,
          6,
          115,
          0,
          23,
          15,
          5,
          18,
          6,
          3,
          1,
          18,
          6,
          18,
          6
         ],
         "yaxis": "y2"
        },
        {
         "alignmentgroup": "True",
         "hovertemplate": "Packets Per Second (thousand)=50<br>action=@recv_bytes<br>Packet Size (bytes)=%{x}<br>Number of Packets=%{y}<extra></extra>",
         "legendgroup": "50",
         "marker": {
          "color": "#9c179e",
          "pattern": {
           "shape": ""
          }
         },
         "name": "50",
         "offsetgroup": "50",
         "orientation": "v",
         "showlegend": false,
         "textposition": "auto",
         "type": "bar",
         "x": [
          "31 - 16",
          "63 - 32",
          "127 - 64",
          "63 - 32",
          "127 - 64",
          "31 - 16",
          "63 - 32",
          "127 - 64",
          "255 - 128",
          "511 - 256",
          "63 - 32",
          "127 - 64",
          "255 - 128",
          "511 - 256",
          "1023 - 512",
          "2047 - 1024",
          "4095 - 2048",
          "63 - 32",
          "127 - 64",
          "255 - 128",
          "63 - 32",
          "127 - 64",
          "255 - 128",
          "511 - 256",
          "63 - 32",
          "127 - 64",
          "255 - 128",
          "511 - 256",
          "31 - 16",
          "63 - 32",
          "127 - 64",
          "63 - 32",
          "127 - 64",
          "255 - 128",
          "511 - 256",
          "63 - 32",
          "127 - 64",
          "255 - 128",
          "511 - 256"
         ],
         "xaxis": "x3",
         "y": [
          1,
          1,
          1,
          2,
          1,
          1,
          186,
          1,
          23,
          23,
          102,
          30,
          6,
          24,
          0,
          0,
          6,
          69,
          0,
          23,
          25,
          0,
          0,
          5,
          30,
          0,
          0,
          6,
          1,
          1,
          1,
          30,
          0,
          0,
          6,
          30,
          0,
          0,
          6
         ],
         "yaxis": "y3"
        },
        {
         "alignmentgroup": "True",
         "hovertemplate": "Packets Per Second (thousand)=50<br>action=@send_bytes<br>Packet Size (bytes)=%{x}<br>Number of Packets=%{y}<extra></extra>",
         "legendgroup": "50",
         "marker": {
          "color": "#9c179e",
          "pattern": {
           "shape": ""
          }
         },
         "name": "50",
         "offsetgroup": "50",
         "orientation": "v",
         "showlegend": false,
         "textposition": "auto",
         "type": "bar",
         "x": [
          "63 - 32",
          "127 - 64",
          "63 - 32",
          "127 - 64",
          "63 - 32",
          "127 - 64",
          "255 - 128",
          "511 - 256",
          "127 - 64",
          "255 - 128",
          "511 - 256",
          "1023 - 512",
          "2047 - 1024",
          "4095 - 2048",
          "127 - 64",
          "255 - 128",
          "511 - 256",
          "127 - 64",
          "255 - 128",
          "127 - 64",
          "255 - 128",
          "63 - 32",
          "127 - 64",
          "127 - 64",
          "255 - 128",
          "127 - 64",
          "255 - 128"
         ],
         "xaxis": "x4",
         "y": [
          3,
          1,
          1,
          1,
          2,
          185,
          23,
          23,
          132,
          6,
          24,
          0,
          0,
          6,
          115,
          0,
          23,
          15,
          5,
          18,
          6,
          3,
          1,
          18,
          6,
          18,
          6
         ],
         "yaxis": "y4"
        },
        {
         "alignmentgroup": "True",
         "hovertemplate": "Packets Per Second (thousand)=100<br>action=@nic_recv_bytes<br>Packet Size (bytes)=%{x}<br>Number of Packets=%{y}<extra></extra>",
         "legendgroup": "100",
         "marker": {
          "color": "#bd3786",
          "pattern": {
           "shape": ""
          }
         },
         "name": "100",
         "offsetgroup": "100",
         "orientation": "v",
         "showlegend": true,
         "textposition": "auto",
         "type": "bar",
         "x": [
          "63 - 32",
          "127 - 64"
         ],
         "xaxis": "x",
         "y": [
          3,
          2
         ],
         "yaxis": "y"
        },
        {
         "alignmentgroup": "True",
         "hovertemplate": "Packets Per Second (thousand)=100<br>action=@nic_send_bytes<br>Packet Size (bytes)=%{x}<br>Number of Packets=%{y}<extra></extra>",
         "legendgroup": "100",
         "marker": {
          "color": "#bd3786",
          "pattern": {
           "shape": ""
          }
         },
         "name": "100",
         "offsetgroup": "100",
         "orientation": "v",
         "showlegend": false,
         "textposition": "auto",
         "type": "bar",
         "x": [
          "63 - 32",
          "127 - 64",
          "63 - 32",
          "127 - 64",
          "63 - 32",
          "127 - 64",
          "255 - 128",
          "511 - 256",
          "127 - 64",
          "255 - 128",
          "511 - 256",
          "1023 - 512",
          "2047 - 1024",
          "4095 - 2048",
          "127 - 64",
          "255 - 128",
          "511 - 256",
          "127 - 64",
          "255 - 128",
          "127 - 64",
          "255 - 128",
          "63 - 32",
          "127 - 64",
          "127 - 64",
          "255 - 128",
          "127 - 64",
          "255 - 128"
         ],
         "xaxis": "x2",
         "y": [
          3,
          2,
          1,
          3,
          2,
          194,
          24,
          24,
          131,
          6,
          24,
          0,
          0,
          6,
          120,
          0,
          24,
          18,
          6,
          18,
          6,
          3,
          2,
          18,
          6,
          18,
          6
         ],
         "yaxis": "y2"
        },
        {
         "alignmentgroup": "True",
         "hovertemplate": "Packets Per Second (thousand)=100<br>action=@recv_bytes<br>Packet Size (bytes)=%{x}<br>Number of Packets=%{y}<extra></extra>",
         "legendgroup": "100",
         "marker": {
          "color": "#bd3786",
          "pattern": {
           "shape": ""
          }
         },
         "name": "100",
         "offsetgroup": "100",
         "orientation": "v",
         "showlegend": false,
         "textposition": "auto",
         "type": "bar",
         "x": [
          "31 - 16",
          "63 - 32",
          "127 - 64",
          "63 - 32",
          "127 - 64",
          "31 - 16",
          "63 - 32",
          "127 - 64",
          "255 - 128",
          "511 - 256",
          "63 - 32",
          "127 - 64",
          "255 - 128",
          "511 - 256",
          "1023 - 512",
          "2047 - 1024",
          "4095 - 2048",
          "63 - 32",
          "127 - 64",
          "255 - 128",
          "63 - 32",
          "127 - 64",
          "255 - 128",
          "511 - 256",
          "63 - 32",
          "127 - 64",
          "255 - 128",
          "511 - 256",
          "31 - 16",
          "63 - 32",
          "127 - 64",
          "63 - 32",
          "127 - 64",
          "255 - 128",
          "511 - 256",
          "63 - 32",
          "127 - 64",
          "255 - 128",
          "511 - 256"
         ],
         "xaxis": "x3",
         "y": [
          1,
          1,
          2,
          3,
          2,
          1,
          194,
          2,
          24,
          24,
          101,
          30,
          6,
          24,
          0,
          0,
          6,
          72,
          0,
          24,
          30,
          0,
          0,
          6,
          30,
          0,
          0,
          6,
          1,
          1,
          2,
          30,
          0,
          0,
          6,
          30,
          0,
          0,
          6
         ],
         "yaxis": "y3"
        },
        {
         "alignmentgroup": "True",
         "hovertemplate": "Packets Per Second (thousand)=100<br>action=@send_bytes<br>Packet Size (bytes)=%{x}<br>Number of Packets=%{y}<extra></extra>",
         "legendgroup": "100",
         "marker": {
          "color": "#bd3786",
          "pattern": {
           "shape": ""
          }
         },
         "name": "100",
         "offsetgroup": "100",
         "orientation": "v",
         "showlegend": false,
         "textposition": "auto",
         "type": "bar",
         "x": [
          "63 - 32",
          "127 - 64",
          "63 - 32",
          "127 - 64",
          "63 - 32",
          "127 - 64",
          "255 - 128",
          "511 - 256",
          "127 - 64",
          "255 - 128",
          "511 - 256",
          "1023 - 512",
          "2047 - 1024",
          "4095 - 2048",
          "127 - 64",
          "255 - 128",
          "511 - 256",
          "127 - 64",
          "255 - 128",
          "127 - 64",
          "255 - 128",
          "63 - 32",
          "127 - 64",
          "127 - 64",
          "255 - 128",
          "127 - 64",
          "255 - 128"
         ],
         "xaxis": "x4",
         "y": [
          3,
          2,
          1,
          3,
          2,
          194,
          24,
          24,
          131,
          6,
          24,
          0,
          0,
          6,
          120,
          0,
          24,
          18,
          6,
          18,
          6,
          3,
          2,
          18,
          6,
          18,
          6
         ],
         "yaxis": "y4"
        },
        {
         "alignmentgroup": "True",
         "hovertemplate": "Packets Per Second (thousand)=200<br>action=@nic_recv_bytes<br>Packet Size (bytes)=%{x}<br>Number of Packets=%{y}<extra></extra>",
         "legendgroup": "200",
         "marker": {
          "color": "#d8576b",
          "pattern": {
           "shape": ""
          }
         },
         "name": "200",
         "offsetgroup": "200",
         "orientation": "v",
         "showlegend": true,
         "textposition": "auto",
         "type": "bar",
         "x": [
          "63 - 32",
          "127 - 64"
         ],
         "xaxis": "x",
         "y": [
          2,
          2
         ],
         "yaxis": "y"
        },
        {
         "alignmentgroup": "True",
         "hovertemplate": "Packets Per Second (thousand)=200<br>action=@nic_send_bytes<br>Packet Size (bytes)=%{x}<br>Number of Packets=%{y}<extra></extra>",
         "legendgroup": "200",
         "marker": {
          "color": "#d8576b",
          "pattern": {
           "shape": ""
          }
         },
         "name": "200",
         "offsetgroup": "200",
         "orientation": "v",
         "showlegend": false,
         "textposition": "auto",
         "type": "bar",
         "x": [
          "63 - 32",
          "127 - 64",
          "63 - 32",
          "127 - 64",
          "63 - 32",
          "127 - 64",
          "255 - 128",
          "511 - 256",
          "127 - 64",
          "255 - 128",
          "511 - 256",
          "1023 - 512",
          "2047 - 1024",
          "4095 - 2048",
          "63 - 32",
          "127 - 64",
          "127 - 64",
          "255 - 128",
          "511 - 256",
          "127 - 64",
          "255 - 128",
          "63 - 32",
          "127 - 64",
          "255 - 128",
          "63 - 32",
          "127 - 64",
          "127 - 64",
          "255 - 128",
          "127 - 64",
          "255 - 128"
         ],
         "xaxis": "x2",
         "y": [
          3,
          2,
          1,
          2,
          6,
          197,
          24,
          24,
          130,
          6,
          24,
          0,
          0,
          6,
          2,
          2,
          120,
          0,
          24,
          18,
          6,
          2,
          19,
          6,
          3,
          2,
          18,
          6,
          18,
          6
         ],
         "yaxis": "y2"
        },
        {
         "alignmentgroup": "True",
         "hovertemplate": "Packets Per Second (thousand)=200<br>action=@recv_bytes<br>Packet Size (bytes)=%{x}<br>Number of Packets=%{y}<extra></extra>",
         "legendgroup": "200",
         "marker": {
          "color": "#d8576b",
          "pattern": {
           "shape": ""
          }
         },
         "name": "200",
         "offsetgroup": "200",
         "orientation": "v",
         "showlegend": false,
         "textposition": "auto",
         "type": "bar",
         "x": [
          "31 - 16",
          "63 - 32",
          "127 - 64",
          "63 - 32",
          "127 - 64",
          "31 - 16",
          "63 - 32",
          "127 - 64",
          "255 - 128",
          "511 - 256",
          "63 - 32",
          "127 - 64",
          "255 - 128",
          "511 - 256",
          "1023 - 512",
          "2047 - 1024",
          "4095 - 2048",
          "31 - 16",
          "63 - 32",
          "127 - 64",
          "63 - 32",
          "127 - 64",
          "255 - 128",
          "63 - 32",
          "127 - 64",
          "255 - 128",
          "511 - 256",
          "31 - 16",
          "63 - 32",
          "127 - 64",
          "255 - 128",
          "511 - 256",
          "31 - 16",
          "63 - 32",
          "127 - 64",
          "63 - 32",
          "127 - 64",
          "255 - 128",
          "511 - 256",
          "63 - 32",
          "127 - 64",
          "255 - 128",
          "511 - 256"
         ],
         "xaxis": "x3",
         "y": [
          1,
          1,
          2,
          2,
          2,
          5,
          195,
          4,
          24,
          24,
          100,
          30,
          6,
          24,
          0,
          0,
          6,
          2,
          0,
          1,
          72,
          0,
          24,
          30,
          0,
          0,
          6,
          2,
          31,
          1,
          0,
          6,
          1,
          1,
          2,
          30,
          0,
          0,
          6,
          30,
          0,
          0,
          6
         ],
         "yaxis": "y3"
        },
        {
         "alignmentgroup": "True",
         "hovertemplate": "Packets Per Second (thousand)=200<br>action=@send_bytes<br>Packet Size (bytes)=%{x}<br>Number of Packets=%{y}<extra></extra>",
         "legendgroup": "200",
         "marker": {
          "color": "#d8576b",
          "pattern": {
           "shape": ""
          }
         },
         "name": "200",
         "offsetgroup": "200",
         "orientation": "v",
         "showlegend": false,
         "textposition": "auto",
         "type": "bar",
         "x": [
          "63 - 32",
          "127 - 64",
          "63 - 32",
          "127 - 64",
          "63 - 32",
          "127 - 64",
          "255 - 128",
          "511 - 256",
          "127 - 64",
          "255 - 128",
          "511 - 256",
          "1023 - 512",
          "2047 - 1024",
          "4095 - 2048",
          "63 - 32",
          "127 - 64",
          "127 - 64",
          "255 - 128",
          "511 - 256",
          "127 - 64",
          "255 - 128",
          "63 - 32",
          "127 - 64",
          "255 - 128",
          "63 - 32",
          "127 - 64",
          "127 - 64",
          "255 - 128",
          "127 - 64",
          "255 - 128"
         ],
         "xaxis": "x4",
         "y": [
          3,
          2,
          1,
          2,
          6,
          197,
          24,
          24,
          130,
          6,
          24,
          0,
          0,
          6,
          2,
          2,
          120,
          0,
          24,
          18,
          6,
          2,
          19,
          6,
          3,
          2,
          18,
          6,
          18,
          6
         ],
         "yaxis": "y4"
        },
        {
         "alignmentgroup": "True",
         "hovertemplate": "Packets Per Second (thousand)=300<br>action=@nic_recv_bytes<br>Packet Size (bytes)=%{x}<br>Number of Packets=%{y}<extra></extra>",
         "legendgroup": "300",
         "marker": {
          "color": "#ed7953",
          "pattern": {
           "shape": ""
          }
         },
         "name": "300",
         "offsetgroup": "300",
         "orientation": "v",
         "showlegend": true,
         "textposition": "auto",
         "type": "bar",
         "x": [
          "31 - 16",
          "63 - 32",
          "127 - 64"
         ],
         "xaxis": "x",
         "y": [
          1,
          2,
          1
         ],
         "yaxis": "y"
        },
        {
         "alignmentgroup": "True",
         "hovertemplate": "Packets Per Second (thousand)=300<br>action=@nic_send_bytes<br>Packet Size (bytes)=%{x}<br>Number of Packets=%{y}<extra></extra>",
         "legendgroup": "300",
         "marker": {
          "color": "#ed7953",
          "pattern": {
           "shape": ""
          }
         },
         "name": "300",
         "offsetgroup": "300",
         "orientation": "v",
         "showlegend": false,
         "textposition": "auto",
         "type": "bar",
         "x": [
          "63 - 32",
          "127 - 64",
          "63 - 32",
          "127 - 64",
          "63 - 32",
          "127 - 64",
          "255 - 128",
          "511 - 256",
          "127 - 64",
          "255 - 128",
          "511 - 256",
          "1023 - 512",
          "2047 - 1024",
          "4095 - 2048",
          "127 - 64",
          "255 - 128",
          "511 - 256",
          "127 - 64",
          "255 - 128",
          "127 - 64",
          "255 - 128",
          "63 - 32",
          "127 - 64",
          "127 - 64",
          "255 - 128",
          "127 - 64",
          "255 - 128"
         ],
         "xaxis": "x2",
         "y": [
          4,
          1,
          2,
          1,
          3,
          193,
          24,
          24,
          131,
          6,
          24,
          0,
          0,
          6,
          120,
          0,
          24,
          18,
          6,
          18,
          6,
          4,
          1,
          18,
          6,
          18,
          6
         ],
         "yaxis": "y2"
        },
        {
         "alignmentgroup": "True",
         "hovertemplate": "Packets Per Second (thousand)=300<br>action=@recv_bytes<br>Packet Size (bytes)=%{x}<br>Number of Packets=%{y}<extra></extra>",
         "legendgroup": "300",
         "marker": {
          "color": "#ed7953",
          "pattern": {
           "shape": ""
          }
         },
         "name": "300",
         "offsetgroup": "300",
         "orientation": "v",
         "showlegend": false,
         "textposition": "auto",
         "type": "bar",
         "x": [
          "31 - 16",
          "63 - 32",
          "127 - 64",
          "31 - 16",
          "63 - 32",
          "127 - 64",
          "31 - 16",
          "63 - 32",
          "127 - 64",
          "255 - 128",
          "511 - 256",
          "63 - 32",
          "127 - 64",
          "255 - 128",
          "511 - 256",
          "1023 - 512",
          "2047 - 1024",
          "4095 - 2048",
          "63 - 32",
          "127 - 64",
          "255 - 128",
          "63 - 32",
          "127 - 64",
          "255 - 128",
          "511 - 256",
          "63 - 32",
          "127 - 64",
          "255 - 128",
          "511 - 256",
          "31 - 16",
          "63 - 32",
          "127 - 64",
          "63 - 32",
          "127 - 64",
          "255 - 128",
          "511 - 256",
          "63 - 32",
          "127 - 64",
          "255 - 128",
          "511 - 256"
         ],
         "xaxis": "x3",
         "y": [
          2,
          1,
          1,
          1,
          2,
          1,
          2,
          194,
          1,
          24,
          24,
          101,
          30,
          6,
          24,
          0,
          0,
          6,
          72,
          0,
          24,
          30,
          0,
          0,
          6,
          30,
          0,
          0,
          6,
          2,
          1,
          1,
          30,
          0,
          0,
          6,
          30,
          0,
          0,
          6
         ],
         "yaxis": "y3"
        },
        {
         "alignmentgroup": "True",
         "hovertemplate": "Packets Per Second (thousand)=300<br>action=@send_bytes<br>Packet Size (bytes)=%{x}<br>Number of Packets=%{y}<extra></extra>",
         "legendgroup": "300",
         "marker": {
          "color": "#ed7953",
          "pattern": {
           "shape": ""
          }
         },
         "name": "300",
         "offsetgroup": "300",
         "orientation": "v",
         "showlegend": false,
         "textposition": "auto",
         "type": "bar",
         "x": [
          "63 - 32",
          "127 - 64",
          "63 - 32",
          "127 - 64",
          "63 - 32",
          "127 - 64",
          "255 - 128",
          "511 - 256",
          "127 - 64",
          "255 - 128",
          "511 - 256",
          "1023 - 512",
          "2047 - 1024",
          "4095 - 2048",
          "127 - 64",
          "255 - 128",
          "511 - 256",
          "127 - 64",
          "255 - 128",
          "127 - 64",
          "255 - 128",
          "63 - 32",
          "127 - 64",
          "127 - 64",
          "255 - 128",
          "127 - 64",
          "255 - 128"
         ],
         "xaxis": "x4",
         "y": [
          4,
          1,
          2,
          1,
          3,
          193,
          24,
          24,
          131,
          6,
          24,
          0,
          0,
          6,
          120,
          0,
          24,
          18,
          6,
          18,
          6,
          4,
          1,
          18,
          6,
          18,
          6
         ],
         "yaxis": "y4"
        },
        {
         "alignmentgroup": "True",
         "hovertemplate": "Packets Per Second (thousand)=400<br>action=@nic_recv_bytes<br>Packet Size (bytes)=%{x}<br>Number of Packets=%{y}<extra></extra>",
         "legendgroup": "400",
         "marker": {
          "color": "#fb9f3a",
          "pattern": {
           "shape": ""
          }
         },
         "name": "400",
         "offsetgroup": "400",
         "orientation": "v",
         "showlegend": true,
         "textposition": "auto",
         "type": "bar",
         "x": [
          "63 - 32",
          "127 - 64"
         ],
         "xaxis": "x",
         "y": [
          2,
          2
         ],
         "yaxis": "y"
        },
        {
         "alignmentgroup": "True",
         "hovertemplate": "Packets Per Second (thousand)=400<br>action=@nic_send_bytes<br>Packet Size (bytes)=%{x}<br>Number of Packets=%{y}<extra></extra>",
         "legendgroup": "400",
         "marker": {
          "color": "#fb9f3a",
          "pattern": {
           "shape": ""
          }
         },
         "name": "400",
         "offsetgroup": "400",
         "orientation": "v",
         "showlegend": false,
         "textposition": "auto",
         "type": "bar",
         "x": [
          "63 - 32",
          "127 - 64",
          "63 - 32",
          "127 - 64",
          "63 - 32",
          "127 - 64",
          "255 - 128",
          "511 - 256",
          "127 - 64",
          "255 - 128",
          "511 - 256",
          "1023 - 512",
          "2047 - 1024",
          "4095 - 2048",
          "127 - 64",
          "255 - 128",
          "511 - 256",
          "127 - 64",
          "255 - 128",
          "127 - 64",
          "255 - 128",
          "63 - 32",
          "127 - 64",
          "127 - 64",
          "255 - 128",
          "127 - 64",
          "255 - 128"
         ],
         "xaxis": "x2",
         "y": [
          3,
          2,
          1,
          2,
          2,
          194,
          24,
          24,
          126,
          6,
          24,
          0,
          0,
          6,
          120,
          0,
          24,
          18,
          6,
          18,
          6,
          3,
          2,
          18,
          6,
          18,
          6
         ],
         "yaxis": "y2"
        },
        {
         "alignmentgroup": "True",
         "hovertemplate": "Packets Per Second (thousand)=400<br>action=@recv_bytes<br>Packet Size (bytes)=%{x}<br>Number of Packets=%{y}<extra></extra>",
         "legendgroup": "400",
         "marker": {
          "color": "#fb9f3a",
          "pattern": {
           "shape": ""
          }
         },
         "name": "400",
         "offsetgroup": "400",
         "orientation": "v",
         "showlegend": false,
         "textposition": "auto",
         "type": "bar",
         "x": [
          "31 - 16",
          "63 - 32",
          "127 - 64",
          "63 - 32",
          "127 - 64",
          "31 - 16",
          "63 - 32",
          "127 - 64",
          "255 - 128",
          "511 - 256",
          "63 - 32",
          "127 - 64",
          "255 - 128",
          "511 - 256",
          "1023 - 512",
          "2047 - 1024",
          "4095 - 2048",
          "63 - 32",
          "127 - 64",
          "255 - 128",
          "63 - 32",
          "127 - 64",
          "255 - 128",
          "511 - 256",
          "63 - 32",
          "127 - 64",
          "255 - 128",
          "511 - 256",
          "31 - 16",
          "63 - 32",
          "127 - 64",
          "63 - 32",
          "127 - 64",
          "255 - 128",
          "511 - 256",
          "63 - 32",
          "127 - 64",
          "255 - 128",
          "511 - 256"
         ],
         "xaxis": "x3",
         "y": [
          1,
          1,
          2,
          2,
          2,
          1,
          194,
          2,
          24,
          24,
          96,
          30,
          6,
          24,
          0,
          0,
          6,
          72,
          0,
          24,
          30,
          0,
          0,
          6,
          30,
          0,
          0,
          6,
          1,
          1,
          2,
          30,
          0,
          0,
          6,
          30,
          0,
          0,
          6
         ],
         "yaxis": "y3"
        },
        {
         "alignmentgroup": "True",
         "hovertemplate": "Packets Per Second (thousand)=400<br>action=@send_bytes<br>Packet Size (bytes)=%{x}<br>Number of Packets=%{y}<extra></extra>",
         "legendgroup": "400",
         "marker": {
          "color": "#fb9f3a",
          "pattern": {
           "shape": ""
          }
         },
         "name": "400",
         "offsetgroup": "400",
         "orientation": "v",
         "showlegend": false,
         "textposition": "auto",
         "type": "bar",
         "x": [
          "63 - 32",
          "127 - 64",
          "63 - 32",
          "127 - 64",
          "63 - 32",
          "127 - 64",
          "255 - 128",
          "511 - 256",
          "127 - 64",
          "255 - 128",
          "511 - 256",
          "1023 - 512",
          "2047 - 1024",
          "4095 - 2048",
          "127 - 64",
          "255 - 128",
          "511 - 256",
          "127 - 64",
          "255 - 128",
          "127 - 64",
          "255 - 128",
          "63 - 32",
          "127 - 64",
          "127 - 64",
          "255 - 128",
          "127 - 64",
          "255 - 128"
         ],
         "xaxis": "x4",
         "y": [
          3,
          2,
          1,
          2,
          2,
          194,
          24,
          24,
          126,
          6,
          24,
          0,
          0,
          6,
          120,
          0,
          24,
          18,
          6,
          18,
          6,
          3,
          2,
          18,
          6,
          18,
          6
         ],
         "yaxis": "y4"
        },
        {
         "alignmentgroup": "True",
         "hovertemplate": "Packets Per Second (thousand)=500<br>action=@nic_recv_bytes<br>Packet Size (bytes)=%{x}<br>Number of Packets=%{y}<extra></extra>",
         "legendgroup": "500",
         "marker": {
          "color": "#fdca26",
          "pattern": {
           "shape": ""
          }
         },
         "name": "500",
         "offsetgroup": "500",
         "orientation": "v",
         "showlegend": true,
         "textposition": "auto",
         "type": "bar",
         "x": [
          "31 - 16",
          "63 - 32",
          "127 - 64"
         ],
         "xaxis": "x",
         "y": [
          1,
          2,
          1
         ],
         "yaxis": "y"
        },
        {
         "alignmentgroup": "True",
         "hovertemplate": "Packets Per Second (thousand)=500<br>action=@nic_send_bytes<br>Packet Size (bytes)=%{x}<br>Number of Packets=%{y}<extra></extra>",
         "legendgroup": "500",
         "marker": {
          "color": "#fdca26",
          "pattern": {
           "shape": ""
          }
         },
         "name": "500",
         "offsetgroup": "500",
         "orientation": "v",
         "showlegend": false,
         "textposition": "auto",
         "type": "bar",
         "x": [
          "63 - 32",
          "127 - 64",
          "63 - 32",
          "127 - 64",
          "63 - 32",
          "127 - 64",
          "255 - 128",
          "511 - 256",
          "127 - 64",
          "255 - 128",
          "511 - 256",
          "1023 - 512",
          "2047 - 1024",
          "4095 - 2048",
          "127 - 64",
          "255 - 128",
          "511 - 256",
          "127 - 64",
          "255 - 128",
          "127 - 64",
          "255 - 128",
          "63 - 32",
          "127 - 64",
          "127 - 64",
          "255 - 128",
          "127 - 64",
          "255 - 128"
         ],
         "xaxis": "x2",
         "y": [
          3,
          1,
          2,
          1,
          2,
          193,
          24,
          24,
          130,
          6,
          24,
          0,
          0,
          6,
          120,
          0,
          24,
          18,
          6,
          18,
          6,
          3,
          1,
          18,
          6,
          18,
          6
         ],
         "yaxis": "y2"
        },
        {
         "alignmentgroup": "True",
         "hovertemplate": "Packets Per Second (thousand)=500<br>action=@recv_bytes<br>Packet Size (bytes)=%{x}<br>Number of Packets=%{y}<extra></extra>",
         "legendgroup": "500",
         "marker": {
          "color": "#fdca26",
          "pattern": {
           "shape": ""
          }
         },
         "name": "500",
         "offsetgroup": "500",
         "orientation": "v",
         "showlegend": false,
         "textposition": "auto",
         "type": "bar",
         "x": [
          "31 - 16",
          "63 - 32",
          "127 - 64",
          "31 - 16",
          "63 - 32",
          "127 - 64",
          "31 - 16",
          "63 - 32",
          "127 - 64",
          "255 - 128",
          "511 - 256",
          "63 - 32",
          "127 - 64",
          "255 - 128",
          "511 - 256",
          "1023 - 512",
          "2047 - 1024",
          "4095 - 2048",
          "63 - 32",
          "127 - 64",
          "255 - 128",
          "63 - 32",
          "127 - 64",
          "255 - 128",
          "511 - 256",
          "63 - 32",
          "127 - 64",
          "255 - 128",
          "511 - 256",
          "31 - 16",
          "63 - 32",
          "127 - 64",
          "63 - 32",
          "127 - 64",
          "255 - 128",
          "511 - 256",
          "63 - 32",
          "127 - 64",
          "255 - 128",
          "511 - 256"
         ],
         "xaxis": "x3",
         "y": [
          1,
          1,
          1,
          1,
          2,
          1,
          1,
          194,
          1,
          24,
          24,
          100,
          30,
          6,
          24,
          0,
          0,
          6,
          72,
          0,
          24,
          30,
          0,
          0,
          6,
          30,
          0,
          0,
          6,
          1,
          1,
          1,
          30,
          0,
          0,
          6,
          30,
          0,
          0,
          6
         ],
         "yaxis": "y3"
        },
        {
         "alignmentgroup": "True",
         "hovertemplate": "Packets Per Second (thousand)=500<br>action=@send_bytes<br>Packet Size (bytes)=%{x}<br>Number of Packets=%{y}<extra></extra>",
         "legendgroup": "500",
         "marker": {
          "color": "#fdca26",
          "pattern": {
           "shape": ""
          }
         },
         "name": "500",
         "offsetgroup": "500",
         "orientation": "v",
         "showlegend": false,
         "textposition": "auto",
         "type": "bar",
         "x": [
          "63 - 32",
          "127 - 64",
          "63 - 32",
          "127 - 64",
          "63 - 32",
          "127 - 64",
          "255 - 128",
          "511 - 256",
          "127 - 64",
          "255 - 128",
          "511 - 256",
          "1023 - 512",
          "2047 - 1024",
          "4095 - 2048",
          "127 - 64",
          "255 - 128",
          "511 - 256",
          "127 - 64",
          "255 - 128",
          "127 - 64",
          "255 - 128",
          "63 - 32",
          "127 - 64",
          "127 - 64",
          "255 - 128",
          "127 - 64",
          "255 - 128"
         ],
         "xaxis": "x4",
         "y": [
          3,
          1,
          2,
          1,
          2,
          193,
          24,
          24,
          130,
          6,
          24,
          0,
          0,
          6,
          120,
          0,
          24,
          18,
          6,
          18,
          6,
          3,
          1,
          18,
          6,
          18,
          6
         ],
         "yaxis": "y4"
        }
       ],
       "layout": {
        "annotations": [
         {
          "font": {},
          "showarrow": false,
          "text": "action=@nic_recv_bytes",
          "x": 0.1175,
          "xanchor": "center",
          "xref": "paper",
          "y": 1,
          "yanchor": "bottom",
          "yref": "paper"
         },
         {
          "font": {},
          "showarrow": false,
          "text": "action=@nic_send_bytes",
          "x": 0.3725,
          "xanchor": "center",
          "xref": "paper",
          "y": 1,
          "yanchor": "bottom",
          "yref": "paper"
         },
         {
          "font": {},
          "showarrow": false,
          "text": "action=@recv_bytes",
          "x": 0.6275,
          "xanchor": "center",
          "xref": "paper",
          "y": 1,
          "yanchor": "bottom",
          "yref": "paper"
         },
         {
          "font": {},
          "showarrow": false,
          "text": "action=@send_bytes",
          "x": 0.8824999999999998,
          "xanchor": "center",
          "xref": "paper",
          "y": 1,
          "yanchor": "bottom",
          "yref": "paper"
         }
        ],
        "barmode": "group",
        "legend": {
         "title": {
          "text": "Packets Per Second (thousand)"
         },
         "tracegroupgap": 0
        },
        "template": {
         "data": {
          "bar": [
           {
            "error_x": {
             "color": "#2a3f5f"
            },
            "error_y": {
             "color": "#2a3f5f"
            },
            "marker": {
             "line": {
              "color": "#E5ECF6",
              "width": 0.5
             },
             "pattern": {
              "fillmode": "overlay",
              "size": 10,
              "solidity": 0.2
             }
            },
            "type": "bar"
           }
          ],
          "barpolar": [
           {
            "marker": {
             "line": {
              "color": "#E5ECF6",
              "width": 0.5
             },
             "pattern": {
              "fillmode": "overlay",
              "size": 10,
              "solidity": 0.2
             }
            },
            "type": "barpolar"
           }
          ],
          "carpet": [
           {
            "aaxis": {
             "endlinecolor": "#2a3f5f",
             "gridcolor": "white",
             "linecolor": "white",
             "minorgridcolor": "white",
             "startlinecolor": "#2a3f5f"
            },
            "baxis": {
             "endlinecolor": "#2a3f5f",
             "gridcolor": "white",
             "linecolor": "white",
             "minorgridcolor": "white",
             "startlinecolor": "#2a3f5f"
            },
            "type": "carpet"
           }
          ],
          "choropleth": [
           {
            "colorbar": {
             "outlinewidth": 0,
             "ticks": ""
            },
            "type": "choropleth"
           }
          ],
          "contour": [
           {
            "colorbar": {
             "outlinewidth": 0,
             "ticks": ""
            },
            "colorscale": [
             [
              0,
              "#0d0887"
             ],
             [
              0.1111111111111111,
              "#46039f"
             ],
             [
              0.2222222222222222,
              "#7201a8"
             ],
             [
              0.3333333333333333,
              "#9c179e"
             ],
             [
              0.4444444444444444,
              "#bd3786"
             ],
             [
              0.5555555555555556,
              "#d8576b"
             ],
             [
              0.6666666666666666,
              "#ed7953"
             ],
             [
              0.7777777777777778,
              "#fb9f3a"
             ],
             [
              0.8888888888888888,
              "#fdca26"
             ],
             [
              1,
              "#f0f921"
             ]
            ],
            "type": "contour"
           }
          ],
          "contourcarpet": [
           {
            "colorbar": {
             "outlinewidth": 0,
             "ticks": ""
            },
            "type": "contourcarpet"
           }
          ],
          "heatmap": [
           {
            "colorbar": {
             "outlinewidth": 0,
             "ticks": ""
            },
            "colorscale": [
             [
              0,
              "#0d0887"
             ],
             [
              0.1111111111111111,
              "#46039f"
             ],
             [
              0.2222222222222222,
              "#7201a8"
             ],
             [
              0.3333333333333333,
              "#9c179e"
             ],
             [
              0.4444444444444444,
              "#bd3786"
             ],
             [
              0.5555555555555556,
              "#d8576b"
             ],
             [
              0.6666666666666666,
              "#ed7953"
             ],
             [
              0.7777777777777778,
              "#fb9f3a"
             ],
             [
              0.8888888888888888,
              "#fdca26"
             ],
             [
              1,
              "#f0f921"
             ]
            ],
            "type": "heatmap"
           }
          ],
          "heatmapgl": [
           {
            "colorbar": {
             "outlinewidth": 0,
             "ticks": ""
            },
            "colorscale": [
             [
              0,
              "#0d0887"
             ],
             [
              0.1111111111111111,
              "#46039f"
             ],
             [
              0.2222222222222222,
              "#7201a8"
             ],
             [
              0.3333333333333333,
              "#9c179e"
             ],
             [
              0.4444444444444444,
              "#bd3786"
             ],
             [
              0.5555555555555556,
              "#d8576b"
             ],
             [
              0.6666666666666666,
              "#ed7953"
             ],
             [
              0.7777777777777778,
              "#fb9f3a"
             ],
             [
              0.8888888888888888,
              "#fdca26"
             ],
             [
              1,
              "#f0f921"
             ]
            ],
            "type": "heatmapgl"
           }
          ],
          "histogram": [
           {
            "marker": {
             "pattern": {
              "fillmode": "overlay",
              "size": 10,
              "solidity": 0.2
             }
            },
            "type": "histogram"
           }
          ],
          "histogram2d": [
           {
            "colorbar": {
             "outlinewidth": 0,
             "ticks": ""
            },
            "colorscale": [
             [
              0,
              "#0d0887"
             ],
             [
              0.1111111111111111,
              "#46039f"
             ],
             [
              0.2222222222222222,
              "#7201a8"
             ],
             [
              0.3333333333333333,
              "#9c179e"
             ],
             [
              0.4444444444444444,
              "#bd3786"
             ],
             [
              0.5555555555555556,
              "#d8576b"
             ],
             [
              0.6666666666666666,
              "#ed7953"
             ],
             [
              0.7777777777777778,
              "#fb9f3a"
             ],
             [
              0.8888888888888888,
              "#fdca26"
             ],
             [
              1,
              "#f0f921"
             ]
            ],
            "type": "histogram2d"
           }
          ],
          "histogram2dcontour": [
           {
            "colorbar": {
             "outlinewidth": 0,
             "ticks": ""
            },
            "colorscale": [
             [
              0,
              "#0d0887"
             ],
             [
              0.1111111111111111,
              "#46039f"
             ],
             [
              0.2222222222222222,
              "#7201a8"
             ],
             [
              0.3333333333333333,
              "#9c179e"
             ],
             [
              0.4444444444444444,
              "#bd3786"
             ],
             [
              0.5555555555555556,
              "#d8576b"
             ],
             [
              0.6666666666666666,
              "#ed7953"
             ],
             [
              0.7777777777777778,
              "#fb9f3a"
             ],
             [
              0.8888888888888888,
              "#fdca26"
             ],
             [
              1,
              "#f0f921"
             ]
            ],
            "type": "histogram2dcontour"
           }
          ],
          "mesh3d": [
           {
            "colorbar": {
             "outlinewidth": 0,
             "ticks": ""
            },
            "type": "mesh3d"
           }
          ],
          "parcoords": [
           {
            "line": {
             "colorbar": {
              "outlinewidth": 0,
              "ticks": ""
             }
            },
            "type": "parcoords"
           }
          ],
          "pie": [
           {
            "automargin": true,
            "type": "pie"
           }
          ],
          "scatter": [
           {
            "fillpattern": {
             "fillmode": "overlay",
             "size": 10,
             "solidity": 0.2
            },
            "type": "scatter"
           }
          ],
          "scatter3d": [
           {
            "line": {
             "colorbar": {
              "outlinewidth": 0,
              "ticks": ""
             }
            },
            "marker": {
             "colorbar": {
              "outlinewidth": 0,
              "ticks": ""
             }
            },
            "type": "scatter3d"
           }
          ],
          "scattercarpet": [
           {
            "marker": {
             "colorbar": {
              "outlinewidth": 0,
              "ticks": ""
             }
            },
            "type": "scattercarpet"
           }
          ],
          "scattergeo": [
           {
            "marker": {
             "colorbar": {
              "outlinewidth": 0,
              "ticks": ""
             }
            },
            "type": "scattergeo"
           }
          ],
          "scattergl": [
           {
            "marker": {
             "colorbar": {
              "outlinewidth": 0,
              "ticks": ""
             }
            },
            "type": "scattergl"
           }
          ],
          "scattermapbox": [
           {
            "marker": {
             "colorbar": {
              "outlinewidth": 0,
              "ticks": ""
             }
            },
            "type": "scattermapbox"
           }
          ],
          "scatterpolar": [
           {
            "marker": {
             "colorbar": {
              "outlinewidth": 0,
              "ticks": ""
             }
            },
            "type": "scatterpolar"
           }
          ],
          "scatterpolargl": [
           {
            "marker": {
             "colorbar": {
              "outlinewidth": 0,
              "ticks": ""
             }
            },
            "type": "scatterpolargl"
           }
          ],
          "scatterternary": [
           {
            "marker": {
             "colorbar": {
              "outlinewidth": 0,
              "ticks": ""
             }
            },
            "type": "scatterternary"
           }
          ],
          "surface": [
           {
            "colorbar": {
             "outlinewidth": 0,
             "ticks": ""
            },
            "colorscale": [
             [
              0,
              "#0d0887"
             ],
             [
              0.1111111111111111,
              "#46039f"
             ],
             [
              0.2222222222222222,
              "#7201a8"
             ],
             [
              0.3333333333333333,
              "#9c179e"
             ],
             [
              0.4444444444444444,
              "#bd3786"
             ],
             [
              0.5555555555555556,
              "#d8576b"
             ],
             [
              0.6666666666666666,
              "#ed7953"
             ],
             [
              0.7777777777777778,
              "#fb9f3a"
             ],
             [
              0.8888888888888888,
              "#fdca26"
             ],
             [
              1,
              "#f0f921"
             ]
            ],
            "type": "surface"
           }
          ],
          "table": [
           {
            "cells": {
             "fill": {
              "color": "#EBF0F8"
             },
             "line": {
              "color": "white"
             }
            },
            "header": {
             "fill": {
              "color": "#C8D4E3"
             },
             "line": {
              "color": "white"
             }
            },
            "type": "table"
           }
          ]
         },
         "layout": {
          "annotationdefaults": {
           "arrowcolor": "#2a3f5f",
           "arrowhead": 0,
           "arrowwidth": 1
          },
          "autotypenumbers": "strict",
          "coloraxis": {
           "colorbar": {
            "outlinewidth": 0,
            "ticks": ""
           }
          },
          "colorscale": {
           "diverging": [
            [
             0,
             "#8e0152"
            ],
            [
             0.1,
             "#c51b7d"
            ],
            [
             0.2,
             "#de77ae"
            ],
            [
             0.3,
             "#f1b6da"
            ],
            [
             0.4,
             "#fde0ef"
            ],
            [
             0.5,
             "#f7f7f7"
            ],
            [
             0.6,
             "#e6f5d0"
            ],
            [
             0.7,
             "#b8e186"
            ],
            [
             0.8,
             "#7fbc41"
            ],
            [
             0.9,
             "#4d9221"
            ],
            [
             1,
             "#276419"
            ]
           ],
           "sequential": [
            [
             0,
             "#0d0887"
            ],
            [
             0.1111111111111111,
             "#46039f"
            ],
            [
             0.2222222222222222,
             "#7201a8"
            ],
            [
             0.3333333333333333,
             "#9c179e"
            ],
            [
             0.4444444444444444,
             "#bd3786"
            ],
            [
             0.5555555555555556,
             "#d8576b"
            ],
            [
             0.6666666666666666,
             "#ed7953"
            ],
            [
             0.7777777777777778,
             "#fb9f3a"
            ],
            [
             0.8888888888888888,
             "#fdca26"
            ],
            [
             1,
             "#f0f921"
            ]
           ],
           "sequentialminus": [
            [
             0,
             "#0d0887"
            ],
            [
             0.1111111111111111,
             "#46039f"
            ],
            [
             0.2222222222222222,
             "#7201a8"
            ],
            [
             0.3333333333333333,
             "#9c179e"
            ],
            [
             0.4444444444444444,
             "#bd3786"
            ],
            [
             0.5555555555555556,
             "#d8576b"
            ],
            [
             0.6666666666666666,
             "#ed7953"
            ],
            [
             0.7777777777777778,
             "#fb9f3a"
            ],
            [
             0.8888888888888888,
             "#fdca26"
            ],
            [
             1,
             "#f0f921"
            ]
           ]
          },
          "colorway": [
           "#636efa",
           "#EF553B",
           "#00cc96",
           "#ab63fa",
           "#FFA15A",
           "#19d3f3",
           "#FF6692",
           "#B6E880",
           "#FF97FF",
           "#FECB52"
          ],
          "font": {
           "color": "#2a3f5f"
          },
          "geo": {
           "bgcolor": "white",
           "lakecolor": "white",
           "landcolor": "#E5ECF6",
           "showlakes": true,
           "showland": true,
           "subunitcolor": "white"
          },
          "hoverlabel": {
           "align": "left"
          },
          "hovermode": "closest",
          "mapbox": {
           "style": "light"
          },
          "paper_bgcolor": "white",
          "plot_bgcolor": "#E5ECF6",
          "polar": {
           "angularaxis": {
            "gridcolor": "white",
            "linecolor": "white",
            "ticks": ""
           },
           "bgcolor": "#E5ECF6",
           "radialaxis": {
            "gridcolor": "white",
            "linecolor": "white",
            "ticks": ""
           }
          },
          "scene": {
           "xaxis": {
            "backgroundcolor": "#E5ECF6",
            "gridcolor": "white",
            "gridwidth": 2,
            "linecolor": "white",
            "showbackground": true,
            "ticks": "",
            "zerolinecolor": "white"
           },
           "yaxis": {
            "backgroundcolor": "#E5ECF6",
            "gridcolor": "white",
            "gridwidth": 2,
            "linecolor": "white",
            "showbackground": true,
            "ticks": "",
            "zerolinecolor": "white"
           },
           "zaxis": {
            "backgroundcolor": "#E5ECF6",
            "gridcolor": "white",
            "gridwidth": 2,
            "linecolor": "white",
            "showbackground": true,
            "ticks": "",
            "zerolinecolor": "white"
           }
          },
          "shapedefaults": {
           "line": {
            "color": "#2a3f5f"
           }
          },
          "ternary": {
           "aaxis": {
            "gridcolor": "white",
            "linecolor": "white",
            "ticks": ""
           },
           "baxis": {
            "gridcolor": "white",
            "linecolor": "white",
            "ticks": ""
           },
           "bgcolor": "#E5ECF6",
           "caxis": {
            "gridcolor": "white",
            "linecolor": "white",
            "ticks": ""
           }
          },
          "title": {
           "x": 0.05
          },
          "xaxis": {
           "automargin": true,
           "gridcolor": "white",
           "linecolor": "white",
           "ticks": "",
           "title": {
            "standoff": 15
           },
           "zerolinecolor": "white",
           "zerolinewidth": 2
          },
          "yaxis": {
           "automargin": true,
           "gridcolor": "white",
           "linecolor": "white",
           "ticks": "",
           "title": {
            "standoff": 15
           },
           "zerolinecolor": "white",
           "zerolinewidth": 2
          }
         }
        },
        "title": {
         "text": "Packet Distribution"
        },
        "xaxis": {
         "anchor": "y",
         "domain": [
          0,
          0.235
         ],
         "title": {
          "text": "Packet Size (bytes)"
         }
        },
        "xaxis2": {
         "anchor": "y2",
         "domain": [
          0.255,
          0.49
         ],
         "matches": "x",
         "title": {
          "text": "Packet Size (bytes)"
         }
        },
        "xaxis3": {
         "anchor": "y3",
         "domain": [
          0.51,
          0.745
         ],
         "matches": "x",
         "title": {
          "text": "Packet Size (bytes)"
         }
        },
        "xaxis4": {
         "anchor": "y4",
         "domain": [
          0.7649999999999999,
          0.9999999999999999
         ],
         "matches": "x",
         "title": {
          "text": "Packet Size (bytes)"
         }
        },
        "yaxis": {
         "anchor": "x",
         "domain": [
          0,
          1
         ],
         "title": {
          "text": "Number of Packets"
         }
        },
        "yaxis2": {
         "anchor": "x2",
         "domain": [
          0,
          1
         ],
         "matches": "y",
         "showticklabels": false
        },
        "yaxis3": {
         "anchor": "x3",
         "domain": [
          0,
          1
         ],
         "matches": "y",
         "showticklabels": false
        },
        "yaxis4": {
         "anchor": "x4",
         "domain": [
          0,
          1
         ],
         "matches": "y",
         "showticklabels": false
        }
       }
      }
     },
     "metadata": {},
     "output_type": "display_data"
    }
   ],
   "source": [
    "from pyspark.sql.types import StructType,StructField, StringType, IntegerType\n",
    "data_df = spark.read.option(\"basePath\", \"../ansible/.results\").json(\"../ansible/.results/kpps=*/tool=netsize\")\n",
    "schema = StructType([\n",
    "  StructField('type', StringType(), True),\n",
    "  StructField('kpps', IntegerType(), True),\n",
    "  StructField('count', IntegerType(), True),\n",
    "  StructField('min', IntegerType(), True),\n",
    "  StructField('max', IntegerType(), True),\n",
    "  StructField('device', StringType(), True),\n",
    "  StructField('action', StringType(), True),\n",
    "  ])\n",
    "\n",
    "#Create empty DataFrame directly.\n",
    "netsize_df = spark.createDataFrame([], schema)\n",
    "\n",
    "types = data_df.select(\"data.*\").columns\n",
    "data_df = data_df.select(\"*\", \"data.*\").drop(\"data\")\n",
    "for t in types: # for action of the actions -> e.g., recv_bytes\n",
    "  columns = data_df.select(\"{}.*\".format(t)).columns\n",
    "  for c in columns: # for each device -> e.g., eth0\n",
    "      df = data_df.select(\"type\", \"kpps\", \"tool\", explode(\"{}.{}\".format(t, c)).alias(\"dataExplode\")).select(\"type\", \"kpps\", \"dataExplode.*\").withColumn('device', lit(c)).withColumn('action', lit(t))\n",
    "      netsize_df = netsize_df.union(df)\n",
    "\n",
    "netsize_df = netsize_df.orderBy(col('kpps')).select(\"*\", concat_ws(' - ',col('min'),col('max')).alias(\"interval\"))\n",
    "pd_df = netsize_df.toPandas()\n",
    "pd_df['kpps'] = pd_df['kpps'].astype(str)\n",
    "netsize_fig = px.bar(pd_df, x=\"interval\", y=\"count\", color=\"kpps\", barmode=\"group\", facet_col=\"action\",\n",
    "        title=\"Packet Distribution\",\n",
    "        color_discrete_sequence=px.colors.sequential.Plasma,\n",
    "        labels={\n",
    "                    \"kpps\": \"Packets Per Second (thousand)\",\n",
    "                    \"count\": \"Number of Packets\",\n",
    "                    \"interval\": \"Packet Size (bytes)\"\n",
    "                })\n",
    "netsize_fig.show()\n",
    "netsize_fig.write_image(\"images/netsize.jpeg\")\n",
    "with open(html_output_file, 'a') as f:\n",
    "    f.write(netsize_fig.to_html(full_html=False, include_plotlyjs='cdn'))"
   ]
  },
  {
   "cell_type": "code",
   "execution_count": 22,
   "metadata": {},
   "outputs": [
    {
     "ename": "AnalysisException",
     "evalue": "Found duplicate column(s) in the data schema: `eth0`",
     "output_type": "error",
     "traceback": [
      "\u001b[0;31m---------------------------------------------------------------------------\u001b[0m",
      "\u001b[0;31mAnalysisException\u001b[0m                         Traceback (most recent call last)",
      "Cell \u001b[0;32mIn [22], line 2\u001b[0m\n\u001b[1;32m      1\u001b[0m \u001b[38;5;28;01mfrom\u001b[39;00m \u001b[38;5;21;01mpyspark\u001b[39;00m\u001b[38;5;21;01m.\u001b[39;00m\u001b[38;5;21;01msql\u001b[39;00m\u001b[38;5;21;01m.\u001b[39;00m\u001b[38;5;21;01mtypes\u001b[39;00m \u001b[38;5;28;01mimport\u001b[39;00m StructType,StructField, StringType, IntegerType\n\u001b[0;32m----> 2\u001b[0m data_df \u001b[38;5;241m=\u001b[39m \u001b[43mspark\u001b[49m\u001b[38;5;241;43m.\u001b[39;49m\u001b[43mread\u001b[49m\u001b[38;5;241;43m.\u001b[39;49m\u001b[43moption\u001b[49m\u001b[43m(\u001b[49m\u001b[38;5;124;43m\"\u001b[39;49m\u001b[38;5;124;43mbasePath\u001b[39;49m\u001b[38;5;124;43m\"\u001b[39;49m\u001b[43m,\u001b[49m\u001b[43m \u001b[49m\u001b[38;5;124;43m\"\u001b[39;49m\u001b[38;5;124;43m../ansible/.results\u001b[39;49m\u001b[38;5;124;43m\"\u001b[39;49m\u001b[43m)\u001b[49m\u001b[38;5;241;43m.\u001b[39;49m\u001b[43mjson\u001b[49m\u001b[43m(\u001b[49m\u001b[38;5;124;43m\"\u001b[39;49m\u001b[38;5;124;43m../ansible/.results/kpps=*/tool=nettxlat-dev\u001b[39;49m\u001b[38;5;124;43m\"\u001b[39;49m\u001b[43m)\u001b[49m\n\u001b[1;32m      3\u001b[0m schema \u001b[38;5;241m=\u001b[39m StructType([\n\u001b[1;32m      4\u001b[0m   StructField(\u001b[38;5;124m'\u001b[39m\u001b[38;5;124mtype\u001b[39m\u001b[38;5;124m'\u001b[39m, StringType(), \u001b[38;5;28;01mTrue\u001b[39;00m),\n\u001b[1;32m      5\u001b[0m   StructField(\u001b[38;5;124m'\u001b[39m\u001b[38;5;124mkpps\u001b[39m\u001b[38;5;124m'\u001b[39m, IntegerType(), \u001b[38;5;28;01mTrue\u001b[39;00m),\n\u001b[0;32m   (...)\u001b[0m\n\u001b[1;32m      9\u001b[0m   StructField(\u001b[38;5;124m'\u001b[39m\u001b[38;5;124mdevice\u001b[39m\u001b[38;5;124m'\u001b[39m, StringType(), \u001b[38;5;28;01mTrue\u001b[39;00m),\n\u001b[1;32m     10\u001b[0m   ])\n\u001b[1;32m     12\u001b[0m \u001b[38;5;66;03m#Create empty DataFrame directly.\u001b[39;00m\n",
      "File \u001b[0;32m~/.local/lib/python3.10/site-packages/pyspark/sql/readwriter.py:229\u001b[0m, in \u001b[0;36mDataFrameReader.json\u001b[0;34m(self, path, schema, primitivesAsString, prefersDecimal, allowComments, allowUnquotedFieldNames, allowSingleQuotes, allowNumericLeadingZero, allowBackslashEscapingAnyCharacter, mode, columnNameOfCorruptRecord, dateFormat, timestampFormat, multiLine, allowUnquotedControlChars, lineSep, samplingRatio, dropFieldIfAllNull, encoding, locale, pathGlobFilter, recursiveFileLookup, allowNonNumericNumbers, modifiedBefore, modifiedAfter)\u001b[0m\n\u001b[1;32m    227\u001b[0m     path \u001b[39m=\u001b[39m [path]\n\u001b[1;32m    228\u001b[0m \u001b[39mif\u001b[39;00m \u001b[39mtype\u001b[39m(path) \u001b[39m==\u001b[39m \u001b[39mlist\u001b[39m:\n\u001b[0;32m--> 229\u001b[0m     \u001b[39mreturn\u001b[39;00m \u001b[39mself\u001b[39m\u001b[39m.\u001b[39m_df(\u001b[39mself\u001b[39;49m\u001b[39m.\u001b[39;49m_jreader\u001b[39m.\u001b[39;49mjson(\u001b[39mself\u001b[39;49m\u001b[39m.\u001b[39;49m_spark\u001b[39m.\u001b[39;49m_sc\u001b[39m.\u001b[39;49m_jvm\u001b[39m.\u001b[39;49mPythonUtils\u001b[39m.\u001b[39;49mtoSeq(path)))\n\u001b[1;32m    230\u001b[0m \u001b[39melif\u001b[39;00m \u001b[39misinstance\u001b[39m(path, RDD):\n\u001b[1;32m    231\u001b[0m     \u001b[39mdef\u001b[39;00m \u001b[39mfunc\u001b[39m(iterator):\n",
      "File \u001b[0;32m~/.local/lib/python3.10/site-packages/py4j/java_gateway.py:1321\u001b[0m, in \u001b[0;36mJavaMember.__call__\u001b[0;34m(self, *args)\u001b[0m\n\u001b[1;32m   1315\u001b[0m command \u001b[39m=\u001b[39m proto\u001b[39m.\u001b[39mCALL_COMMAND_NAME \u001b[39m+\u001b[39m\\\n\u001b[1;32m   1316\u001b[0m     \u001b[39mself\u001b[39m\u001b[39m.\u001b[39mcommand_header \u001b[39m+\u001b[39m\\\n\u001b[1;32m   1317\u001b[0m     args_command \u001b[39m+\u001b[39m\\\n\u001b[1;32m   1318\u001b[0m     proto\u001b[39m.\u001b[39mEND_COMMAND_PART\n\u001b[1;32m   1320\u001b[0m answer \u001b[39m=\u001b[39m \u001b[39mself\u001b[39m\u001b[39m.\u001b[39mgateway_client\u001b[39m.\u001b[39msend_command(command)\n\u001b[0;32m-> 1321\u001b[0m return_value \u001b[39m=\u001b[39m get_return_value(\n\u001b[1;32m   1322\u001b[0m     answer, \u001b[39mself\u001b[39;49m\u001b[39m.\u001b[39;49mgateway_client, \u001b[39mself\u001b[39;49m\u001b[39m.\u001b[39;49mtarget_id, \u001b[39mself\u001b[39;49m\u001b[39m.\u001b[39;49mname)\n\u001b[1;32m   1324\u001b[0m \u001b[39mfor\u001b[39;00m temp_arg \u001b[39min\u001b[39;00m temp_args:\n\u001b[1;32m   1325\u001b[0m     temp_arg\u001b[39m.\u001b[39m_detach()\n",
      "File \u001b[0;32m~/.local/lib/python3.10/site-packages/pyspark/sql/utils.py:117\u001b[0m, in \u001b[0;36mcapture_sql_exception.<locals>.deco\u001b[0;34m(*a, **kw)\u001b[0m\n\u001b[1;32m    113\u001b[0m converted \u001b[39m=\u001b[39m convert_exception(e\u001b[39m.\u001b[39mjava_exception)\n\u001b[1;32m    114\u001b[0m \u001b[39mif\u001b[39;00m \u001b[39mnot\u001b[39;00m \u001b[39misinstance\u001b[39m(converted, UnknownException):\n\u001b[1;32m    115\u001b[0m     \u001b[39m# Hide where the exception came from that shows a non-Pythonic\u001b[39;00m\n\u001b[1;32m    116\u001b[0m     \u001b[39m# JVM exception message.\u001b[39;00m\n\u001b[0;32m--> 117\u001b[0m     \u001b[39mraise\u001b[39;00m converted \u001b[39mfrom\u001b[39;00m \u001b[39mNone\u001b[39m\n\u001b[1;32m    118\u001b[0m \u001b[39melse\u001b[39;00m:\n\u001b[1;32m    119\u001b[0m     \u001b[39mraise\u001b[39;00m\n",
      "\u001b[0;31mAnalysisException\u001b[0m: Found duplicate column(s) in the data schema: `eth0`"
     ]
    }
   ],
   "source": [
    "from pyspark.sql.types import StructType,StructField, StringType, IntegerType\n",
    "data_df = spark.read.option(\"basePath\", \"../ansible/.results\").json(\"../ansible/.results/kpps=*/tool=nettxlat-dev\")\n",
    "schema = StructType([\n",
    "  StructField('type', StringType(), True),\n",
    "  StructField('kpps', IntegerType(), True),\n",
    "  StructField('count', IntegerType(), True),\n",
    "  StructField('min', IntegerType(), True),\n",
    "  StructField('max', IntegerType(), True),\n",
    "  StructField('device', StringType(), True),\n",
    "  ])\n",
    "\n",
    "#Create empty DataFrame directly.\n",
    "nettxlat_df = spark.createDataFrame([], schema)\n",
    "\n",
    "columns = data_df.select(\"data.@us.*\").columns\n",
    "data_df = data_df.select(\"*\", \"data.@us.*\").drop(\"data\")\n",
    "\n",
    "for c in columns: # for each device -> e.g., eth0\n",
    "    df = data_df.select(\"type\", \"kpps\", \"tool\", explode(c).alias(\"dataExplode\")).select(\"type\", \"kpps\", \"dataExplode.*\").withColumn('device', lit(c))\n",
    "    nettxlat_df = nettxlat_df.union(df)\n",
    "\n",
    "nettxlat_df = nettxlat_df.orderBy(col('kpps')).select(\"*\", concat_ws(' - ',col('min'),col('max')).alias(\"interval\"))\n",
    "pd_df = nettxlat_df.toPandas()\n",
    "pd_df['kpps'] = pd_df['kpps'].astype(str)\n",
    "nettxlat_fig = px.bar(pd_df, x=\"interval\", y=\"count\", color=\"kpps\", barmode=\"group\", facet_row=\"device\",\n",
    "        title=\"Latency of the device queue\",\n",
    "        color_discrete_sequence=px.colors.sequential.Plasma,\n",
    "        labels={\n",
    "                    \"kpps\": \"Packets Per Second (thousand)\",\n",
    "                    \"count\": \"Number of Packets\",\n",
    "                    \"interval\": \"Latency (usecs)\"\n",
    "                })\n",
    "nettxlat_fig.show()\n",
    "nettxlat_fig.write_image(\"images/nettxlat.jpeg\")\n",
    "with open(html_output_file, 'a') as f:\n",
    "    f.write(nettxlat_fig.to_html(full_html=False, include_plotlyjs='cdn'))"
   ]
  },
  {
   "cell_type": "code",
   "execution_count": 23,
   "metadata": {},
   "outputs": [
    {
     "data": {
      "application/vnd.plotly.v1+json": {
       "config": {
        "plotlyServerURL": "https://plot.ly"
       },
       "data": [
        {
         "alignmentgroup": "True",
         "hovertemplate": "Packets Per Second (thousand)=1<br>Lifetime/Age (usecs)=%{x}<br>Number of kernel buffers=%{y}<extra></extra>",
         "legendgroup": "1",
         "marker": {
          "color": "#0d0887",
          "pattern": {
           "shape": ""
          }
         },
         "name": "1",
         "offsetgroup": "1",
         "orientation": "v",
         "showlegend": true,
         "textposition": "auto",
         "type": "bar",
         "x": [
          "1024 - 2047",
          "2048 - 4095",
          "4096 - 8191",
          "8192 - 16383",
          "16384 - 32767",
          "32768 - 65535",
          "65536 - 131071",
          "131072 - 262143",
          "262144 - 524287",
          "524288 - 1048575",
          "1048576 - 2097151",
          "2097152 - 4194303",
          "4194304 - 8388607",
          "8388608 - 16777215",
          "16777216 - 33554431",
          "33554432 - 67108863"
         ],
         "xaxis": "x",
         "y": [
          2,
          259,
          366,
          607,
          1571,
          1727,
          1206,
          995,
          1107,
          873,
          605,
          359,
          184,
          30,
          24,
          10
         ],
         "yaxis": "y"
        },
        {
         "alignmentgroup": "True",
         "hovertemplate": "Packets Per Second (thousand)=5<br>Lifetime/Age (usecs)=%{x}<br>Number of kernel buffers=%{y}<extra></extra>",
         "legendgroup": "5",
         "marker": {
          "color": "#46039f",
          "pattern": {
           "shape": ""
          }
         },
         "name": "5",
         "offsetgroup": "5",
         "orientation": "v",
         "showlegend": true,
         "textposition": "auto",
         "type": "bar",
         "x": [
          "512 - 1023",
          "1024 - 2047",
          "2048 - 4095",
          "4096 - 8191",
          "8192 - 16383",
          "16384 - 32767",
          "32768 - 65535",
          "65536 - 131071",
          "131072 - 262143",
          "262144 - 524287",
          "524288 - 1048575",
          "1048576 - 2097151",
          "2097152 - 4194303",
          "4194304 - 8388607",
          "8388608 - 16777215",
          "16777216 - 33554431",
          "33554432 - 67108863"
         ],
         "xaxis": "x",
         "y": [
          2,
          8,
          294,
          345,
          627,
          1668,
          1549,
          988,
          1020,
          1341,
          990,
          698,
          487,
          197,
          38,
          27,
          5
         ],
         "yaxis": "y"
        },
        {
         "alignmentgroup": "True",
         "hovertemplate": "Packets Per Second (thousand)=10<br>Lifetime/Age (usecs)=%{x}<br>Number of kernel buffers=%{y}<extra></extra>",
         "legendgroup": "10",
         "marker": {
          "color": "#7201a8",
          "pattern": {
           "shape": ""
          }
         },
         "name": "10",
         "offsetgroup": "10",
         "orientation": "v",
         "showlegend": true,
         "textposition": "auto",
         "type": "bar",
         "x": [
          "1024 - 2047",
          "2048 - 4095",
          "4096 - 8191",
          "8192 - 16383",
          "16384 - 32767",
          "32768 - 65535",
          "65536 - 131071",
          "131072 - 262143",
          "262144 - 524287",
          "524288 - 1048575",
          "1048576 - 2097151",
          "2097152 - 4194303",
          "4194304 - 8388607",
          "8388608 - 16777215",
          "16777216 - 33554431",
          "33554432 - 67108863"
         ],
         "xaxis": "x",
         "y": [
          3,
          266,
          368,
          576,
          1606,
          1824,
          1007,
          819,
          737,
          878,
          997,
          536,
          201,
          16,
          31,
          7
         ],
         "yaxis": "y"
        },
        {
         "alignmentgroup": "True",
         "hovertemplate": "Packets Per Second (thousand)=50<br>Lifetime/Age (usecs)=%{x}<br>Number of kernel buffers=%{y}<extra></extra>",
         "legendgroup": "50",
         "marker": {
          "color": "#9c179e",
          "pattern": {
           "shape": ""
          }
         },
         "name": "50",
         "offsetgroup": "50",
         "orientation": "v",
         "showlegend": true,
         "textposition": "auto",
         "type": "bar",
         "x": [
          "1024 - 2047",
          "2048 - 4095",
          "4096 - 8191",
          "8192 - 16383",
          "16384 - 32767",
          "32768 - 65535",
          "65536 - 131071",
          "131072 - 262143",
          "262144 - 524287",
          "524288 - 1048575",
          "1048576 - 2097151",
          "2097152 - 4194303",
          "4194304 - 8388607",
          "8388608 - 16777215",
          "16777216 - 33554431",
          "33554432 - 67108863"
         ],
         "xaxis": "x",
         "y": [
          5,
          330,
          392,
          566,
          1669,
          1599,
          904,
          1029,
          1577,
          915,
          696,
          414,
          174,
          14,
          33,
          4
         ],
         "yaxis": "y"
        },
        {
         "alignmentgroup": "True",
         "hovertemplate": "Packets Per Second (thousand)=100<br>Lifetime/Age (usecs)=%{x}<br>Number of kernel buffers=%{y}<extra></extra>",
         "legendgroup": "100",
         "marker": {
          "color": "#bd3786",
          "pattern": {
           "shape": ""
          }
         },
         "name": "100",
         "offsetgroup": "100",
         "orientation": "v",
         "showlegend": true,
         "textposition": "auto",
         "type": "bar",
         "x": [
          "1024 - 2047",
          "2048 - 4095",
          "4096 - 8191",
          "8192 - 16383",
          "16384 - 32767",
          "32768 - 65535",
          "65536 - 131071",
          "131072 - 262143",
          "262144 - 524287",
          "524288 - 1048575",
          "1048576 - 2097151",
          "2097152 - 4194303",
          "4194304 - 8388607",
          "8388608 - 16777215",
          "16777216 - 33554431",
          "33554432 - 67108863"
         ],
         "xaxis": "x",
         "y": [
          1,
          289,
          327,
          478,
          1273,
          1309,
          960,
          952,
          1041,
          1137,
          707,
          428,
          180,
          49,
          26,
          9
         ],
         "yaxis": "y"
        },
        {
         "alignmentgroup": "True",
         "hovertemplate": "Packets Per Second (thousand)=200<br>Lifetime/Age (usecs)=%{x}<br>Number of kernel buffers=%{y}<extra></extra>",
         "legendgroup": "200",
         "marker": {
          "color": "#d8576b",
          "pattern": {
           "shape": ""
          }
         },
         "name": "200",
         "offsetgroup": "200",
         "orientation": "v",
         "showlegend": true,
         "textposition": "auto",
         "type": "bar",
         "x": [
          "512 - 1023",
          "1024 - 2047",
          "2048 - 4095",
          "4096 - 8191",
          "8192 - 16383",
          "16384 - 32767",
          "32768 - 65535",
          "65536 - 131071",
          "131072 - 262143",
          "262144 - 524287",
          "524288 - 1048575",
          "1048576 - 2097151",
          "2097152 - 4194303",
          "4194304 - 8388607",
          "8388608 - 16777215",
          "16777216 - 33554431",
          "33554432 - 67108863"
         ],
         "xaxis": "x",
         "y": [
          1,
          9,
          320,
          394,
          635,
          1606,
          1474,
          926,
          1151,
          1526,
          828,
          488,
          428,
          147,
          30,
          19,
          12
         ],
         "yaxis": "y"
        },
        {
         "alignmentgroup": "True",
         "hovertemplate": "Packets Per Second (thousand)=300<br>Lifetime/Age (usecs)=%{x}<br>Number of kernel buffers=%{y}<extra></extra>",
         "legendgroup": "300",
         "marker": {
          "color": "#ed7953",
          "pattern": {
           "shape": ""
          }
         },
         "name": "300",
         "offsetgroup": "300",
         "orientation": "v",
         "showlegend": true,
         "textposition": "auto",
         "type": "bar",
         "x": [
          "1024 - 2047",
          "2048 - 4095",
          "4096 - 8191",
          "8192 - 16383",
          "16384 - 32767",
          "32768 - 65535",
          "65536 - 131071",
          "131072 - 262143",
          "262144 - 524287",
          "524288 - 1048575",
          "1048576 - 2097151",
          "2097152 - 4194303",
          "4194304 - 8388607",
          "8388608 - 16777215",
          "16777216 - 33554431",
          "33554432 - 67108863"
         ],
         "xaxis": "x",
         "y": [
          7,
          293,
          336,
          545,
          1523,
          1525,
          1007,
          876,
          879,
          942,
          669,
          438,
          142,
          33,
          20,
          7
         ],
         "yaxis": "y"
        },
        {
         "alignmentgroup": "True",
         "hovertemplate": "Packets Per Second (thousand)=400<br>Lifetime/Age (usecs)=%{x}<br>Number of kernel buffers=%{y}<extra></extra>",
         "legendgroup": "400",
         "marker": {
          "color": "#fb9f3a",
          "pattern": {
           "shape": ""
          }
         },
         "name": "400",
         "offsetgroup": "400",
         "orientation": "v",
         "showlegend": true,
         "textposition": "auto",
         "type": "bar",
         "x": [
          "1024 - 2047",
          "2048 - 4095",
          "4096 - 8191",
          "8192 - 16383",
          "16384 - 32767",
          "32768 - 65535",
          "65536 - 131071",
          "131072 - 262143",
          "262144 - 524287",
          "524288 - 1048575",
          "1048576 - 2097151",
          "2097152 - 4194303",
          "4194304 - 8388607",
          "8388608 - 16777215",
          "16777216 - 33554431",
          "33554432 - 67108863"
         ],
         "xaxis": "x",
         "y": [
          6,
          313,
          356,
          590,
          1561,
          1496,
          794,
          969,
          1117,
          1046,
          707,
          653,
          231,
          25,
          25,
          7
         ],
         "yaxis": "y"
        },
        {
         "alignmentgroup": "True",
         "hovertemplate": "Packets Per Second (thousand)=500<br>Lifetime/Age (usecs)=%{x}<br>Number of kernel buffers=%{y}<extra></extra>",
         "legendgroup": "500",
         "marker": {
          "color": "#fdca26",
          "pattern": {
           "shape": ""
          }
         },
         "name": "500",
         "offsetgroup": "500",
         "orientation": "v",
         "showlegend": true,
         "textposition": "auto",
         "type": "bar",
         "x": [
          "1024 - 2047",
          "2048 - 4095",
          "4096 - 8191",
          "8192 - 16383",
          "16384 - 32767",
          "32768 - 65535",
          "65536 - 131071",
          "131072 - 262143",
          "262144 - 524287",
          "524288 - 1048575",
          "1048576 - 2097151",
          "2097152 - 4194303",
          "4194304 - 8388607",
          "8388608 - 16777215",
          "16777216 - 33554431",
          "33554432 - 67108863"
         ],
         "xaxis": "x",
         "y": [
          4,
          274,
          359,
          514,
          1488,
          1356,
          1019,
          942,
          1138,
          1047,
          698,
          732,
          288,
          55,
          28,
          11
         ],
         "yaxis": "y"
        }
       ],
       "layout": {
        "barmode": "group",
        "legend": {
         "title": {
          "text": "Packets Per Second (thousand)"
         },
         "tracegroupgap": 0
        },
        "template": {
         "data": {
          "bar": [
           {
            "error_x": {
             "color": "#2a3f5f"
            },
            "error_y": {
             "color": "#2a3f5f"
            },
            "marker": {
             "line": {
              "color": "#E5ECF6",
              "width": 0.5
             },
             "pattern": {
              "fillmode": "overlay",
              "size": 10,
              "solidity": 0.2
             }
            },
            "type": "bar"
           }
          ],
          "barpolar": [
           {
            "marker": {
             "line": {
              "color": "#E5ECF6",
              "width": 0.5
             },
             "pattern": {
              "fillmode": "overlay",
              "size": 10,
              "solidity": 0.2
             }
            },
            "type": "barpolar"
           }
          ],
          "carpet": [
           {
            "aaxis": {
             "endlinecolor": "#2a3f5f",
             "gridcolor": "white",
             "linecolor": "white",
             "minorgridcolor": "white",
             "startlinecolor": "#2a3f5f"
            },
            "baxis": {
             "endlinecolor": "#2a3f5f",
             "gridcolor": "white",
             "linecolor": "white",
             "minorgridcolor": "white",
             "startlinecolor": "#2a3f5f"
            },
            "type": "carpet"
           }
          ],
          "choropleth": [
           {
            "colorbar": {
             "outlinewidth": 0,
             "ticks": ""
            },
            "type": "choropleth"
           }
          ],
          "contour": [
           {
            "colorbar": {
             "outlinewidth": 0,
             "ticks": ""
            },
            "colorscale": [
             [
              0,
              "#0d0887"
             ],
             [
              0.1111111111111111,
              "#46039f"
             ],
             [
              0.2222222222222222,
              "#7201a8"
             ],
             [
              0.3333333333333333,
              "#9c179e"
             ],
             [
              0.4444444444444444,
              "#bd3786"
             ],
             [
              0.5555555555555556,
              "#d8576b"
             ],
             [
              0.6666666666666666,
              "#ed7953"
             ],
             [
              0.7777777777777778,
              "#fb9f3a"
             ],
             [
              0.8888888888888888,
              "#fdca26"
             ],
             [
              1,
              "#f0f921"
             ]
            ],
            "type": "contour"
           }
          ],
          "contourcarpet": [
           {
            "colorbar": {
             "outlinewidth": 0,
             "ticks": ""
            },
            "type": "contourcarpet"
           }
          ],
          "heatmap": [
           {
            "colorbar": {
             "outlinewidth": 0,
             "ticks": ""
            },
            "colorscale": [
             [
              0,
              "#0d0887"
             ],
             [
              0.1111111111111111,
              "#46039f"
             ],
             [
              0.2222222222222222,
              "#7201a8"
             ],
             [
              0.3333333333333333,
              "#9c179e"
             ],
             [
              0.4444444444444444,
              "#bd3786"
             ],
             [
              0.5555555555555556,
              "#d8576b"
             ],
             [
              0.6666666666666666,
              "#ed7953"
             ],
             [
              0.7777777777777778,
              "#fb9f3a"
             ],
             [
              0.8888888888888888,
              "#fdca26"
             ],
             [
              1,
              "#f0f921"
             ]
            ],
            "type": "heatmap"
           }
          ],
          "heatmapgl": [
           {
            "colorbar": {
             "outlinewidth": 0,
             "ticks": ""
            },
            "colorscale": [
             [
              0,
              "#0d0887"
             ],
             [
              0.1111111111111111,
              "#46039f"
             ],
             [
              0.2222222222222222,
              "#7201a8"
             ],
             [
              0.3333333333333333,
              "#9c179e"
             ],
             [
              0.4444444444444444,
              "#bd3786"
             ],
             [
              0.5555555555555556,
              "#d8576b"
             ],
             [
              0.6666666666666666,
              "#ed7953"
             ],
             [
              0.7777777777777778,
              "#fb9f3a"
             ],
             [
              0.8888888888888888,
              "#fdca26"
             ],
             [
              1,
              "#f0f921"
             ]
            ],
            "type": "heatmapgl"
           }
          ],
          "histogram": [
           {
            "marker": {
             "pattern": {
              "fillmode": "overlay",
              "size": 10,
              "solidity": 0.2
             }
            },
            "type": "histogram"
           }
          ],
          "histogram2d": [
           {
            "colorbar": {
             "outlinewidth": 0,
             "ticks": ""
            },
            "colorscale": [
             [
              0,
              "#0d0887"
             ],
             [
              0.1111111111111111,
              "#46039f"
             ],
             [
              0.2222222222222222,
              "#7201a8"
             ],
             [
              0.3333333333333333,
              "#9c179e"
             ],
             [
              0.4444444444444444,
              "#bd3786"
             ],
             [
              0.5555555555555556,
              "#d8576b"
             ],
             [
              0.6666666666666666,
              "#ed7953"
             ],
             [
              0.7777777777777778,
              "#fb9f3a"
             ],
             [
              0.8888888888888888,
              "#fdca26"
             ],
             [
              1,
              "#f0f921"
             ]
            ],
            "type": "histogram2d"
           }
          ],
          "histogram2dcontour": [
           {
            "colorbar": {
             "outlinewidth": 0,
             "ticks": ""
            },
            "colorscale": [
             [
              0,
              "#0d0887"
             ],
             [
              0.1111111111111111,
              "#46039f"
             ],
             [
              0.2222222222222222,
              "#7201a8"
             ],
             [
              0.3333333333333333,
              "#9c179e"
             ],
             [
              0.4444444444444444,
              "#bd3786"
             ],
             [
              0.5555555555555556,
              "#d8576b"
             ],
             [
              0.6666666666666666,
              "#ed7953"
             ],
             [
              0.7777777777777778,
              "#fb9f3a"
             ],
             [
              0.8888888888888888,
              "#fdca26"
             ],
             [
              1,
              "#f0f921"
             ]
            ],
            "type": "histogram2dcontour"
           }
          ],
          "mesh3d": [
           {
            "colorbar": {
             "outlinewidth": 0,
             "ticks": ""
            },
            "type": "mesh3d"
           }
          ],
          "parcoords": [
           {
            "line": {
             "colorbar": {
              "outlinewidth": 0,
              "ticks": ""
             }
            },
            "type": "parcoords"
           }
          ],
          "pie": [
           {
            "automargin": true,
            "type": "pie"
           }
          ],
          "scatter": [
           {
            "fillpattern": {
             "fillmode": "overlay",
             "size": 10,
             "solidity": 0.2
            },
            "type": "scatter"
           }
          ],
          "scatter3d": [
           {
            "line": {
             "colorbar": {
              "outlinewidth": 0,
              "ticks": ""
             }
            },
            "marker": {
             "colorbar": {
              "outlinewidth": 0,
              "ticks": ""
             }
            },
            "type": "scatter3d"
           }
          ],
          "scattercarpet": [
           {
            "marker": {
             "colorbar": {
              "outlinewidth": 0,
              "ticks": ""
             }
            },
            "type": "scattercarpet"
           }
          ],
          "scattergeo": [
           {
            "marker": {
             "colorbar": {
              "outlinewidth": 0,
              "ticks": ""
             }
            },
            "type": "scattergeo"
           }
          ],
          "scattergl": [
           {
            "marker": {
             "colorbar": {
              "outlinewidth": 0,
              "ticks": ""
             }
            },
            "type": "scattergl"
           }
          ],
          "scattermapbox": [
           {
            "marker": {
             "colorbar": {
              "outlinewidth": 0,
              "ticks": ""
             }
            },
            "type": "scattermapbox"
           }
          ],
          "scatterpolar": [
           {
            "marker": {
             "colorbar": {
              "outlinewidth": 0,
              "ticks": ""
             }
            },
            "type": "scatterpolar"
           }
          ],
          "scatterpolargl": [
           {
            "marker": {
             "colorbar": {
              "outlinewidth": 0,
              "ticks": ""
             }
            },
            "type": "scatterpolargl"
           }
          ],
          "scatterternary": [
           {
            "marker": {
             "colorbar": {
              "outlinewidth": 0,
              "ticks": ""
             }
            },
            "type": "scatterternary"
           }
          ],
          "surface": [
           {
            "colorbar": {
             "outlinewidth": 0,
             "ticks": ""
            },
            "colorscale": [
             [
              0,
              "#0d0887"
             ],
             [
              0.1111111111111111,
              "#46039f"
             ],
             [
              0.2222222222222222,
              "#7201a8"
             ],
             [
              0.3333333333333333,
              "#9c179e"
             ],
             [
              0.4444444444444444,
              "#bd3786"
             ],
             [
              0.5555555555555556,
              "#d8576b"
             ],
             [
              0.6666666666666666,
              "#ed7953"
             ],
             [
              0.7777777777777778,
              "#fb9f3a"
             ],
             [
              0.8888888888888888,
              "#fdca26"
             ],
             [
              1,
              "#f0f921"
             ]
            ],
            "type": "surface"
           }
          ],
          "table": [
           {
            "cells": {
             "fill": {
              "color": "#EBF0F8"
             },
             "line": {
              "color": "white"
             }
            },
            "header": {
             "fill": {
              "color": "#C8D4E3"
             },
             "line": {
              "color": "white"
             }
            },
            "type": "table"
           }
          ]
         },
         "layout": {
          "annotationdefaults": {
           "arrowcolor": "#2a3f5f",
           "arrowhead": 0,
           "arrowwidth": 1
          },
          "autotypenumbers": "strict",
          "coloraxis": {
           "colorbar": {
            "outlinewidth": 0,
            "ticks": ""
           }
          },
          "colorscale": {
           "diverging": [
            [
             0,
             "#8e0152"
            ],
            [
             0.1,
             "#c51b7d"
            ],
            [
             0.2,
             "#de77ae"
            ],
            [
             0.3,
             "#f1b6da"
            ],
            [
             0.4,
             "#fde0ef"
            ],
            [
             0.5,
             "#f7f7f7"
            ],
            [
             0.6,
             "#e6f5d0"
            ],
            [
             0.7,
             "#b8e186"
            ],
            [
             0.8,
             "#7fbc41"
            ],
            [
             0.9,
             "#4d9221"
            ],
            [
             1,
             "#276419"
            ]
           ],
           "sequential": [
            [
             0,
             "#0d0887"
            ],
            [
             0.1111111111111111,
             "#46039f"
            ],
            [
             0.2222222222222222,
             "#7201a8"
            ],
            [
             0.3333333333333333,
             "#9c179e"
            ],
            [
             0.4444444444444444,
             "#bd3786"
            ],
            [
             0.5555555555555556,
             "#d8576b"
            ],
            [
             0.6666666666666666,
             "#ed7953"
            ],
            [
             0.7777777777777778,
             "#fb9f3a"
            ],
            [
             0.8888888888888888,
             "#fdca26"
            ],
            [
             1,
             "#f0f921"
            ]
           ],
           "sequentialminus": [
            [
             0,
             "#0d0887"
            ],
            [
             0.1111111111111111,
             "#46039f"
            ],
            [
             0.2222222222222222,
             "#7201a8"
            ],
            [
             0.3333333333333333,
             "#9c179e"
            ],
            [
             0.4444444444444444,
             "#bd3786"
            ],
            [
             0.5555555555555556,
             "#d8576b"
            ],
            [
             0.6666666666666666,
             "#ed7953"
            ],
            [
             0.7777777777777778,
             "#fb9f3a"
            ],
            [
             0.8888888888888888,
             "#fdca26"
            ],
            [
             1,
             "#f0f921"
            ]
           ]
          },
          "colorway": [
           "#636efa",
           "#EF553B",
           "#00cc96",
           "#ab63fa",
           "#FFA15A",
           "#19d3f3",
           "#FF6692",
           "#B6E880",
           "#FF97FF",
           "#FECB52"
          ],
          "font": {
           "color": "#2a3f5f"
          },
          "geo": {
           "bgcolor": "white",
           "lakecolor": "white",
           "landcolor": "#E5ECF6",
           "showlakes": true,
           "showland": true,
           "subunitcolor": "white"
          },
          "hoverlabel": {
           "align": "left"
          },
          "hovermode": "closest",
          "mapbox": {
           "style": "light"
          },
          "paper_bgcolor": "white",
          "plot_bgcolor": "#E5ECF6",
          "polar": {
           "angularaxis": {
            "gridcolor": "white",
            "linecolor": "white",
            "ticks": ""
           },
           "bgcolor": "#E5ECF6",
           "radialaxis": {
            "gridcolor": "white",
            "linecolor": "white",
            "ticks": ""
           }
          },
          "scene": {
           "xaxis": {
            "backgroundcolor": "#E5ECF6",
            "gridcolor": "white",
            "gridwidth": 2,
            "linecolor": "white",
            "showbackground": true,
            "ticks": "",
            "zerolinecolor": "white"
           },
           "yaxis": {
            "backgroundcolor": "#E5ECF6",
            "gridcolor": "white",
            "gridwidth": 2,
            "linecolor": "white",
            "showbackground": true,
            "ticks": "",
            "zerolinecolor": "white"
           },
           "zaxis": {
            "backgroundcolor": "#E5ECF6",
            "gridcolor": "white",
            "gridwidth": 2,
            "linecolor": "white",
            "showbackground": true,
            "ticks": "",
            "zerolinecolor": "white"
           }
          },
          "shapedefaults": {
           "line": {
            "color": "#2a3f5f"
           }
          },
          "ternary": {
           "aaxis": {
            "gridcolor": "white",
            "linecolor": "white",
            "ticks": ""
           },
           "baxis": {
            "gridcolor": "white",
            "linecolor": "white",
            "ticks": ""
           },
           "bgcolor": "#E5ECF6",
           "caxis": {
            "gridcolor": "white",
            "linecolor": "white",
            "ticks": ""
           }
          },
          "title": {
           "x": 0.05
          },
          "xaxis": {
           "automargin": true,
           "gridcolor": "white",
           "linecolor": "white",
           "ticks": "",
           "title": {
            "standoff": 15
           },
           "zerolinecolor": "white",
           "zerolinewidth": 2
          },
          "yaxis": {
           "automargin": true,
           "gridcolor": "white",
           "linecolor": "white",
           "ticks": "",
           "title": {
            "standoff": 15
           },
           "zerolinecolor": "white",
           "zerolinewidth": 2
          }
         }
        },
        "title": {
         "text": "Distribution of lifespan or age of the kernel buffers"
        },
        "xaxis": {
         "anchor": "y",
         "domain": [
          0,
          1
         ],
         "title": {
          "text": "Lifetime/Age (usecs)"
         }
        },
        "yaxis": {
         "anchor": "x",
         "domain": [
          0,
          1
         ],
         "title": {
          "text": "Number of kernel buffers"
         }
        }
       }
      }
     },
     "metadata": {},
     "output_type": "display_data"
    }
   ],
   "source": [
    "data_df = spark.read.option(\"basePath\", \"../ansible/.results\").json(\"../ansible/.results/kpps=*/tool=skblife\")\n",
    "schema = StructType([\n",
    "  StructField('kpps', IntegerType(), True),\n",
    "  StructField('type', IntegerType(), True),\n",
    "  StructField('count', IntegerType(), True),\n",
    "  StructField('min', IntegerType(), True),\n",
    "  StructField('max', IntegerType(), True),\n",
    "  StructField('interval', StringType(), True),\n",
    "  ])\n",
    "\n",
    "#Create empty DataFrame directly.\n",
    "skblife_df = spark.createDataFrame([], schema)\n",
    "\n",
    "data_df = data_df.select(\"*\", explode('data.@skb_residency_nsecs').alias(\"dataExplode\")).select(\"type\", \"kpps\", \"dataExplode.*\")\n",
    "data_df = data_df.orderBy(col('kpps')).select(col(\"kpps\").cast(StringType()), \"type\", \"count\", \"min\", \"max\", concat_ws(' - ',col('min'),col('max')).alias(\"interval\"))\n",
    "skblife_df = skblife_df.union(data_df)\n",
    "\n",
    "skblife_fig = px.bar(skblife_df.toPandas(), x=\"interval\", y=\"count\", color=\"kpps\", barmode=\"group\",\n",
    "        title=\"Distribution of lifespan or age of the kernel buffers\",\n",
    "        color_discrete_sequence=px.colors.sequential.Plasma,\n",
    "        labels={\n",
    "                    \"kpps\": \"Packets Per Second (thousand)\",\n",
    "                    \"count\": \"Number of kernel buffers\",\n",
    "                    \"interval\": \"Lifetime/Age (usecs)\"\n",
    "                })\n",
    "skblife_fig.show()\n",
    "skblife_fig.write_image(\"images/skblife.jpeg\")\n",
    "with open(html_output_file, 'a') as f:\n",
    "    f.write(skblife_fig.to_html(full_html=False, include_plotlyjs='cdn'))"
   ]
  },
  {
   "cell_type": "code",
   "execution_count": 24,
   "metadata": {},
   "outputs": [
    {
     "data": {
      "application/vnd.plotly.v1+json": {
       "config": {
        "plotlyServerURL": "https://plot.ly"
       },
       "data": [
        {
         "alignmentgroup": "True",
         "hovertemplate": "Packets Per Second (thousand)=1<br>action=@rmem_alloc<br>Buffer Size=%{x}<br>Number of Sock RCV calls=%{y}<extra></extra>",
         "legendgroup": "1",
         "marker": {
          "color": "#0d0887",
          "pattern": {
           "shape": ""
          }
         },
         "name": "1",
         "offsetgroup": "1",
         "orientation": "v",
         "showlegend": true,
         "textposition": "auto",
         "type": "bar",
         "x": [
          "0 - 0",
          "1 - 1",
          "3 - 2",
          "7 - 4",
          "15 - 8",
          "31 - 16",
          "63 - 32",
          "127 - 64",
          "255 - 128",
          "511 - 256",
          "1023 - 512",
          "2047 - 1024",
          "4095 - 2048",
          "8191 - 4096"
         ],
         "xaxis": "x",
         "y": [
          14596,
          0,
          0,
          0,
          0,
          0,
          0,
          0,
          0,
          0,
          5,
          225,
          42,
          6
         ],
         "yaxis": "y"
        },
        {
         "alignmentgroup": "True",
         "hovertemplate": "Packets Per Second (thousand)=1<br>action=@rmem_limit<br>Buffer Size=%{x}<br>Number of Sock RCV calls=%{y}<extra></extra>",
         "legendgroup": "1",
         "marker": {
          "color": "#0d0887",
          "pattern": {
           "shape": ""
          }
         },
         "name": "1",
         "offsetgroup": "1",
         "orientation": "v",
         "showlegend": false,
         "textposition": "auto",
         "type": "bar",
         "x": [
          "262143 - 131072",
          "524287 - 262144",
          "1048575 - 524288",
          "2097151 - 1048576",
          "4194303 - 2097152",
          "8388607 - 4194304",
          "16777215 - 8388608",
          "33554431 - 16777216",
          "67108863 - 33554432",
          "134217727 - 67108864",
          "268435455 - 134217728",
          "536870911 - 268435456"
         ],
         "xaxis": "x2",
         "y": [
          10913,
          3765,
          0,
          0,
          0,
          0,
          0,
          192,
          0,
          0,
          0,
          4
         ],
         "yaxis": "y2"
        },
        {
         "alignmentgroup": "True",
         "hovertemplate": "Packets Per Second (thousand)=5<br>action=@rmem_alloc<br>Buffer Size=%{x}<br>Number of Sock RCV calls=%{y}<extra></extra>",
         "legendgroup": "5",
         "marker": {
          "color": "#46039f",
          "pattern": {
           "shape": ""
          }
         },
         "name": "5",
         "offsetgroup": "5",
         "orientation": "v",
         "showlegend": true,
         "textposition": "auto",
         "type": "bar",
         "x": [
          "0 - 0",
          "1 - 1",
          "3 - 2",
          "7 - 4",
          "15 - 8",
          "31 - 16",
          "63 - 32",
          "127 - 64",
          "255 - 128",
          "511 - 256",
          "1023 - 512",
          "2047 - 1024",
          "4095 - 2048"
         ],
         "xaxis": "x",
         "y": [
          14035,
          0,
          0,
          0,
          0,
          0,
          0,
          0,
          0,
          0,
          8,
          216,
          43
         ],
         "yaxis": "y"
        },
        {
         "alignmentgroup": "True",
         "hovertemplate": "Packets Per Second (thousand)=5<br>action=@rmem_limit<br>Buffer Size=%{x}<br>Number of Sock RCV calls=%{y}<extra></extra>",
         "legendgroup": "5",
         "marker": {
          "color": "#46039f",
          "pattern": {
           "shape": ""
          }
         },
         "name": "5",
         "offsetgroup": "5",
         "orientation": "v",
         "showlegend": false,
         "textposition": "auto",
         "type": "bar",
         "x": [
          "262143 - 131072",
          "524287 - 262144",
          "1048575 - 524288",
          "2097151 - 1048576",
          "4194303 - 2097152",
          "8388607 - 4194304",
          "16777215 - 8388608",
          "33554431 - 16777216",
          "67108863 - 33554432",
          "134217727 - 67108864",
          "268435455 - 134217728",
          "536870911 - 268435456"
         ],
         "xaxis": "x2",
         "y": [
          10519,
          3604,
          0,
          0,
          0,
          0,
          0,
          174,
          0,
          0,
          0,
          5
         ],
         "yaxis": "y2"
        },
        {
         "alignmentgroup": "True",
         "hovertemplate": "Packets Per Second (thousand)=10<br>action=@rmem_alloc<br>Buffer Size=%{x}<br>Number of Sock RCV calls=%{y}<extra></extra>",
         "legendgroup": "10",
         "marker": {
          "color": "#7201a8",
          "pattern": {
           "shape": ""
          }
         },
         "name": "10",
         "offsetgroup": "10",
         "orientation": "v",
         "showlegend": true,
         "textposition": "auto",
         "type": "bar",
         "x": [
          "0 - 0",
          "1 - 1",
          "3 - 2",
          "7 - 4",
          "15 - 8",
          "31 - 16",
          "63 - 32",
          "127 - 64",
          "255 - 128",
          "511 - 256",
          "1023 - 512",
          "2047 - 1024",
          "4095 - 2048"
         ],
         "xaxis": "x",
         "y": [
          13993,
          0,
          0,
          0,
          0,
          0,
          0,
          0,
          0,
          0,
          16,
          217,
          44
         ],
         "yaxis": "y"
        },
        {
         "alignmentgroup": "True",
         "hovertemplate": "Packets Per Second (thousand)=10<br>action=@rmem_limit<br>Buffer Size=%{x}<br>Number of Sock RCV calls=%{y}<extra></extra>",
         "legendgroup": "10",
         "marker": {
          "color": "#7201a8",
          "pattern": {
           "shape": ""
          }
         },
         "name": "10",
         "offsetgroup": "10",
         "orientation": "v",
         "showlegend": false,
         "textposition": "auto",
         "type": "bar",
         "x": [
          "262143 - 131072",
          "524287 - 262144",
          "1048575 - 524288",
          "2097151 - 1048576",
          "4194303 - 2097152",
          "8388607 - 4194304",
          "16777215 - 8388608",
          "33554431 - 16777216",
          "67108863 - 33554432",
          "134217727 - 67108864",
          "268435455 - 134217728",
          "536870911 - 268435456"
         ],
         "xaxis": "x2",
         "y": [
          10651,
          3450,
          0,
          0,
          0,
          0,
          0,
          156,
          0,
          0,
          0,
          13
         ],
         "yaxis": "y2"
        },
        {
         "alignmentgroup": "True",
         "hovertemplate": "Packets Per Second (thousand)=50<br>action=@rmem_alloc<br>Buffer Size=%{x}<br>Number of Sock RCV calls=%{y}<extra></extra>",
         "legendgroup": "50",
         "marker": {
          "color": "#9c179e",
          "pattern": {
           "shape": ""
          }
         },
         "name": "50",
         "offsetgroup": "50",
         "orientation": "v",
         "showlegend": true,
         "textposition": "auto",
         "type": "bar",
         "x": [
          "0 - 0",
          "1 - 1",
          "3 - 2",
          "7 - 4",
          "15 - 8",
          "31 - 16",
          "63 - 32",
          "127 - 64",
          "255 - 128",
          "511 - 256",
          "1023 - 512",
          "2047 - 1024",
          "4095 - 2048"
         ],
         "xaxis": "x",
         "y": [
          14480,
          0,
          0,
          0,
          0,
          0,
          0,
          0,
          0,
          0,
          16,
          220,
          43
         ],
         "yaxis": "y"
        },
        {
         "alignmentgroup": "True",
         "hovertemplate": "Packets Per Second (thousand)=50<br>action=@rmem_limit<br>Buffer Size=%{x}<br>Number of Sock RCV calls=%{y}<extra></extra>",
         "legendgroup": "50",
         "marker": {
          "color": "#9c179e",
          "pattern": {
           "shape": ""
          }
         },
         "name": "50",
         "offsetgroup": "50",
         "orientation": "v",
         "showlegend": false,
         "textposition": "auto",
         "type": "bar",
         "x": [
          "262143 - 131072",
          "524287 - 262144",
          "1048575 - 524288",
          "2097151 - 1048576",
          "4194303 - 2097152",
          "8388607 - 4194304",
          "16777215 - 8388608",
          "33554431 - 16777216",
          "67108863 - 33554432",
          "134217727 - 67108864",
          "268435455 - 134217728",
          "536870911 - 268435456"
         ],
         "xaxis": "x2",
         "y": [
          10667,
          3888,
          0,
          0,
          3,
          0,
          0,
          192,
          0,
          0,
          0,
          9
         ],
         "yaxis": "y2"
        },
        {
         "alignmentgroup": "True",
         "hovertemplate": "Packets Per Second (thousand)=100<br>action=@rmem_alloc<br>Buffer Size=%{x}<br>Number of Sock RCV calls=%{y}<extra></extra>",
         "legendgroup": "100",
         "marker": {
          "color": "#bd3786",
          "pattern": {
           "shape": ""
          }
         },
         "name": "100",
         "offsetgroup": "100",
         "orientation": "v",
         "showlegend": true,
         "textposition": "auto",
         "type": "bar",
         "x": [
          "0 - 0",
          "1 - 1",
          "3 - 2",
          "7 - 4",
          "15 - 8",
          "31 - 16",
          "63 - 32",
          "127 - 64",
          "255 - 128",
          "511 - 256",
          "1023 - 512",
          "2047 - 1024",
          "4095 - 2048"
         ],
         "xaxis": "x",
         "y": [
          14058,
          0,
          0,
          0,
          0,
          0,
          0,
          0,
          0,
          0,
          22,
          219,
          46
         ],
         "yaxis": "y"
        },
        {
         "alignmentgroup": "True",
         "hovertemplate": "Packets Per Second (thousand)=100<br>action=@rmem_limit<br>Buffer Size=%{x}<br>Number of Sock RCV calls=%{y}<extra></extra>",
         "legendgroup": "100",
         "marker": {
          "color": "#bd3786",
          "pattern": {
           "shape": ""
          }
         },
         "name": "100",
         "offsetgroup": "100",
         "orientation": "v",
         "showlegend": false,
         "textposition": "auto",
         "type": "bar",
         "x": [
          "262143 - 131072",
          "524287 - 262144",
          "1048575 - 524288",
          "2097151 - 1048576",
          "4194303 - 2097152",
          "8388607 - 4194304",
          "16777215 - 8388608",
          "33554431 - 16777216",
          "67108863 - 33554432",
          "134217727 - 67108864",
          "268435455 - 134217728",
          "536870911 - 268435456"
         ],
         "xaxis": "x2",
         "y": [
          10400,
          3740,
          0,
          0,
          0,
          0,
          0,
          186,
          0,
          0,
          0,
          19
         ],
         "yaxis": "y2"
        },
        {
         "alignmentgroup": "True",
         "hovertemplate": "Packets Per Second (thousand)=200<br>action=@rmem_alloc<br>Buffer Size=%{x}<br>Number of Sock RCV calls=%{y}<extra></extra>",
         "legendgroup": "200",
         "marker": {
          "color": "#d8576b",
          "pattern": {
           "shape": ""
          }
         },
         "name": "200",
         "offsetgroup": "200",
         "orientation": "v",
         "showlegend": true,
         "textposition": "auto",
         "type": "bar",
         "x": [
          "0 - 0",
          "1 - 1",
          "3 - 2",
          "7 - 4",
          "15 - 8",
          "31 - 16",
          "63 - 32",
          "127 - 64",
          "255 - 128",
          "511 - 256",
          "1023 - 512",
          "2047 - 1024",
          "4095 - 2048"
         ],
         "xaxis": "x",
         "y": [
          14658,
          0,
          0,
          0,
          0,
          0,
          0,
          0,
          0,
          0,
          13,
          218,
          42
         ],
         "yaxis": "y"
        },
        {
         "alignmentgroup": "True",
         "hovertemplate": "Packets Per Second (thousand)=200<br>action=@rmem_limit<br>Buffer Size=%{x}<br>Number of Sock RCV calls=%{y}<extra></extra>",
         "legendgroup": "200",
         "marker": {
          "color": "#d8576b",
          "pattern": {
           "shape": ""
          }
         },
         "name": "200",
         "offsetgroup": "200",
         "orientation": "v",
         "showlegend": false,
         "textposition": "auto",
         "type": "bar",
         "x": [
          "262143 - 131072",
          "524287 - 262144",
          "1048575 - 524288",
          "2097151 - 1048576",
          "4194303 - 2097152",
          "8388607 - 4194304",
          "16777215 - 8388608",
          "33554431 - 16777216",
          "67108863 - 33554432",
          "134217727 - 67108864",
          "268435455 - 134217728",
          "536870911 - 268435456"
         ],
         "xaxis": "x2",
         "y": [
          10835,
          3890,
          0,
          0,
          0,
          0,
          0,
          192,
          0,
          0,
          0,
          14
         ],
         "yaxis": "y2"
        },
        {
         "alignmentgroup": "True",
         "hovertemplate": "Packets Per Second (thousand)=300<br>action=@rmem_alloc<br>Buffer Size=%{x}<br>Number of Sock RCV calls=%{y}<extra></extra>",
         "legendgroup": "300",
         "marker": {
          "color": "#ed7953",
          "pattern": {
           "shape": ""
          }
         },
         "name": "300",
         "offsetgroup": "300",
         "orientation": "v",
         "showlegend": true,
         "textposition": "auto",
         "type": "bar",
         "x": [
          "0 - 0",
          "1 - 1",
          "3 - 2",
          "7 - 4",
          "15 - 8",
          "31 - 16",
          "63 - 32",
          "127 - 64",
          "255 - 128",
          "511 - 256",
          "1023 - 512",
          "2047 - 1024",
          "4095 - 2048"
         ],
         "xaxis": "x",
         "y": [
          14420,
          0,
          0,
          0,
          0,
          0,
          0,
          0,
          0,
          0,
          16,
          223,
          42
         ],
         "yaxis": "y"
        },
        {
         "alignmentgroup": "True",
         "hovertemplate": "Packets Per Second (thousand)=300<br>action=@rmem_limit<br>Buffer Size=%{x}<br>Number of Sock RCV calls=%{y}<extra></extra>",
         "legendgroup": "300",
         "marker": {
          "color": "#ed7953",
          "pattern": {
           "shape": ""
          }
         },
         "name": "300",
         "offsetgroup": "300",
         "orientation": "v",
         "showlegend": false,
         "textposition": "auto",
         "type": "bar",
         "x": [
          "262143 - 131072",
          "524287 - 262144",
          "1048575 - 524288",
          "2097151 - 1048576",
          "4194303 - 2097152",
          "8388607 - 4194304",
          "16777215 - 8388608",
          "33554431 - 16777216",
          "67108863 - 33554432",
          "134217727 - 67108864",
          "268435455 - 134217728",
          "536870911 - 268435456"
         ],
         "xaxis": "x2",
         "y": [
          10630,
          3861,
          0,
          0,
          0,
          0,
          0,
          192,
          0,
          0,
          0,
          18
         ],
         "yaxis": "y2"
        },
        {
         "alignmentgroup": "True",
         "hovertemplate": "Packets Per Second (thousand)=400<br>action=@rmem_alloc<br>Buffer Size=%{x}<br>Number of Sock RCV calls=%{y}<extra></extra>",
         "legendgroup": "400",
         "marker": {
          "color": "#fb9f3a",
          "pattern": {
           "shape": ""
          }
         },
         "name": "400",
         "offsetgroup": "400",
         "orientation": "v",
         "showlegend": true,
         "textposition": "auto",
         "type": "bar",
         "x": [
          "0 - 0",
          "1 - 1",
          "3 - 2",
          "7 - 4",
          "15 - 8",
          "31 - 16",
          "63 - 32",
          "127 - 64",
          "255 - 128",
          "511 - 256",
          "1023 - 512",
          "2047 - 1024",
          "4095 - 2048",
          "8191 - 4096"
         ],
         "xaxis": "x",
         "y": [
          13600,
          0,
          0,
          0,
          0,
          0,
          0,
          0,
          0,
          0,
          33,
          229,
          48,
          4
         ],
         "yaxis": "y"
        },
        {
         "alignmentgroup": "True",
         "hovertemplate": "Packets Per Second (thousand)=400<br>action=@rmem_limit<br>Buffer Size=%{x}<br>Number of Sock RCV calls=%{y}<extra></extra>",
         "legendgroup": "400",
         "marker": {
          "color": "#fb9f3a",
          "pattern": {
           "shape": ""
          }
         },
         "name": "400",
         "offsetgroup": "400",
         "orientation": "v",
         "showlegend": false,
         "textposition": "auto",
         "type": "bar",
         "x": [
          "262143 - 131072",
          "524287 - 262144",
          "1048575 - 524288",
          "2097151 - 1048576",
          "4194303 - 2097152",
          "8388607 - 4194304",
          "16777215 - 8388608",
          "33554431 - 16777216",
          "67108863 - 33554432",
          "134217727 - 67108864",
          "268435455 - 134217728",
          "536870911 - 268435456"
         ],
         "xaxis": "x2",
         "y": [
          10286,
          3441,
          0,
          0,
          0,
          3,
          0,
          160,
          0,
          0,
          0,
          24
         ],
         "yaxis": "y2"
        },
        {
         "alignmentgroup": "True",
         "hovertemplate": "Packets Per Second (thousand)=500<br>action=@rmem_alloc<br>Buffer Size=%{x}<br>Number of Sock RCV calls=%{y}<extra></extra>",
         "legendgroup": "500",
         "marker": {
          "color": "#fdca26",
          "pattern": {
           "shape": ""
          }
         },
         "name": "500",
         "offsetgroup": "500",
         "orientation": "v",
         "showlegend": true,
         "textposition": "auto",
         "type": "bar",
         "x": [
          "0 - 0",
          "1 - 1",
          "3 - 2",
          "7 - 4",
          "15 - 8",
          "31 - 16",
          "63 - 32",
          "127 - 64",
          "255 - 128",
          "511 - 256",
          "1023 - 512",
          "2047 - 1024",
          "4095 - 2048"
         ],
         "xaxis": "x",
         "y": [
          13906,
          0,
          0,
          0,
          0,
          0,
          0,
          0,
          0,
          0,
          8,
          214,
          44
         ],
         "yaxis": "y"
        },
        {
         "alignmentgroup": "True",
         "hovertemplate": "Packets Per Second (thousand)=500<br>action=@rmem_limit<br>Buffer Size=%{x}<br>Number of Sock RCV calls=%{y}<extra></extra>",
         "legendgroup": "500",
         "marker": {
          "color": "#fdca26",
          "pattern": {
           "shape": ""
          }
         },
         "name": "500",
         "offsetgroup": "500",
         "orientation": "v",
         "showlegend": false,
         "textposition": "auto",
         "type": "bar",
         "x": [
          "262143 - 131072",
          "524287 - 262144",
          "1048575 - 524288",
          "2097151 - 1048576",
          "4194303 - 2097152",
          "8388607 - 4194304",
          "16777215 - 8388608",
          "33554431 - 16777216",
          "67108863 - 33554432",
          "134217727 - 67108864",
          "268435455 - 134217728",
          "536870911 - 268435456"
         ],
         "xaxis": "x2",
         "y": [
          10272,
          3713,
          0,
          0,
          0,
          0,
          0,
          182,
          0,
          0,
          0,
          5
         ],
         "yaxis": "y2"
        }
       ],
       "layout": {
        "annotations": [
         {
          "font": {},
          "showarrow": false,
          "text": "action=@rmem_alloc",
          "x": 0.245,
          "xanchor": "center",
          "xref": "paper",
          "y": 1,
          "yanchor": "bottom",
          "yref": "paper"
         },
         {
          "font": {},
          "showarrow": false,
          "text": "action=@rmem_limit",
          "x": 0.755,
          "xanchor": "center",
          "xref": "paper",
          "y": 1,
          "yanchor": "bottom",
          "yref": "paper"
         }
        ],
        "barmode": "group",
        "legend": {
         "title": {
          "text": "Packets Per Second (thousand)"
         },
         "tracegroupgap": 0
        },
        "template": {
         "data": {
          "bar": [
           {
            "error_x": {
             "color": "#2a3f5f"
            },
            "error_y": {
             "color": "#2a3f5f"
            },
            "marker": {
             "line": {
              "color": "#E5ECF6",
              "width": 0.5
             },
             "pattern": {
              "fillmode": "overlay",
              "size": 10,
              "solidity": 0.2
             }
            },
            "type": "bar"
           }
          ],
          "barpolar": [
           {
            "marker": {
             "line": {
              "color": "#E5ECF6",
              "width": 0.5
             },
             "pattern": {
              "fillmode": "overlay",
              "size": 10,
              "solidity": 0.2
             }
            },
            "type": "barpolar"
           }
          ],
          "carpet": [
           {
            "aaxis": {
             "endlinecolor": "#2a3f5f",
             "gridcolor": "white",
             "linecolor": "white",
             "minorgridcolor": "white",
             "startlinecolor": "#2a3f5f"
            },
            "baxis": {
             "endlinecolor": "#2a3f5f",
             "gridcolor": "white",
             "linecolor": "white",
             "minorgridcolor": "white",
             "startlinecolor": "#2a3f5f"
            },
            "type": "carpet"
           }
          ],
          "choropleth": [
           {
            "colorbar": {
             "outlinewidth": 0,
             "ticks": ""
            },
            "type": "choropleth"
           }
          ],
          "contour": [
           {
            "colorbar": {
             "outlinewidth": 0,
             "ticks": ""
            },
            "colorscale": [
             [
              0,
              "#0d0887"
             ],
             [
              0.1111111111111111,
              "#46039f"
             ],
             [
              0.2222222222222222,
              "#7201a8"
             ],
             [
              0.3333333333333333,
              "#9c179e"
             ],
             [
              0.4444444444444444,
              "#bd3786"
             ],
             [
              0.5555555555555556,
              "#d8576b"
             ],
             [
              0.6666666666666666,
              "#ed7953"
             ],
             [
              0.7777777777777778,
              "#fb9f3a"
             ],
             [
              0.8888888888888888,
              "#fdca26"
             ],
             [
              1,
              "#f0f921"
             ]
            ],
            "type": "contour"
           }
          ],
          "contourcarpet": [
           {
            "colorbar": {
             "outlinewidth": 0,
             "ticks": ""
            },
            "type": "contourcarpet"
           }
          ],
          "heatmap": [
           {
            "colorbar": {
             "outlinewidth": 0,
             "ticks": ""
            },
            "colorscale": [
             [
              0,
              "#0d0887"
             ],
             [
              0.1111111111111111,
              "#46039f"
             ],
             [
              0.2222222222222222,
              "#7201a8"
             ],
             [
              0.3333333333333333,
              "#9c179e"
             ],
             [
              0.4444444444444444,
              "#bd3786"
             ],
             [
              0.5555555555555556,
              "#d8576b"
             ],
             [
              0.6666666666666666,
              "#ed7953"
             ],
             [
              0.7777777777777778,
              "#fb9f3a"
             ],
             [
              0.8888888888888888,
              "#fdca26"
             ],
             [
              1,
              "#f0f921"
             ]
            ],
            "type": "heatmap"
           }
          ],
          "heatmapgl": [
           {
            "colorbar": {
             "outlinewidth": 0,
             "ticks": ""
            },
            "colorscale": [
             [
              0,
              "#0d0887"
             ],
             [
              0.1111111111111111,
              "#46039f"
             ],
             [
              0.2222222222222222,
              "#7201a8"
             ],
             [
              0.3333333333333333,
              "#9c179e"
             ],
             [
              0.4444444444444444,
              "#bd3786"
             ],
             [
              0.5555555555555556,
              "#d8576b"
             ],
             [
              0.6666666666666666,
              "#ed7953"
             ],
             [
              0.7777777777777778,
              "#fb9f3a"
             ],
             [
              0.8888888888888888,
              "#fdca26"
             ],
             [
              1,
              "#f0f921"
             ]
            ],
            "type": "heatmapgl"
           }
          ],
          "histogram": [
           {
            "marker": {
             "pattern": {
              "fillmode": "overlay",
              "size": 10,
              "solidity": 0.2
             }
            },
            "type": "histogram"
           }
          ],
          "histogram2d": [
           {
            "colorbar": {
             "outlinewidth": 0,
             "ticks": ""
            },
            "colorscale": [
             [
              0,
              "#0d0887"
             ],
             [
              0.1111111111111111,
              "#46039f"
             ],
             [
              0.2222222222222222,
              "#7201a8"
             ],
             [
              0.3333333333333333,
              "#9c179e"
             ],
             [
              0.4444444444444444,
              "#bd3786"
             ],
             [
              0.5555555555555556,
              "#d8576b"
             ],
             [
              0.6666666666666666,
              "#ed7953"
             ],
             [
              0.7777777777777778,
              "#fb9f3a"
             ],
             [
              0.8888888888888888,
              "#fdca26"
             ],
             [
              1,
              "#f0f921"
             ]
            ],
            "type": "histogram2d"
           }
          ],
          "histogram2dcontour": [
           {
            "colorbar": {
             "outlinewidth": 0,
             "ticks": ""
            },
            "colorscale": [
             [
              0,
              "#0d0887"
             ],
             [
              0.1111111111111111,
              "#46039f"
             ],
             [
              0.2222222222222222,
              "#7201a8"
             ],
             [
              0.3333333333333333,
              "#9c179e"
             ],
             [
              0.4444444444444444,
              "#bd3786"
             ],
             [
              0.5555555555555556,
              "#d8576b"
             ],
             [
              0.6666666666666666,
              "#ed7953"
             ],
             [
              0.7777777777777778,
              "#fb9f3a"
             ],
             [
              0.8888888888888888,
              "#fdca26"
             ],
             [
              1,
              "#f0f921"
             ]
            ],
            "type": "histogram2dcontour"
           }
          ],
          "mesh3d": [
           {
            "colorbar": {
             "outlinewidth": 0,
             "ticks": ""
            },
            "type": "mesh3d"
           }
          ],
          "parcoords": [
           {
            "line": {
             "colorbar": {
              "outlinewidth": 0,
              "ticks": ""
             }
            },
            "type": "parcoords"
           }
          ],
          "pie": [
           {
            "automargin": true,
            "type": "pie"
           }
          ],
          "scatter": [
           {
            "fillpattern": {
             "fillmode": "overlay",
             "size": 10,
             "solidity": 0.2
            },
            "type": "scatter"
           }
          ],
          "scatter3d": [
           {
            "line": {
             "colorbar": {
              "outlinewidth": 0,
              "ticks": ""
             }
            },
            "marker": {
             "colorbar": {
              "outlinewidth": 0,
              "ticks": ""
             }
            },
            "type": "scatter3d"
           }
          ],
          "scattercarpet": [
           {
            "marker": {
             "colorbar": {
              "outlinewidth": 0,
              "ticks": ""
             }
            },
            "type": "scattercarpet"
           }
          ],
          "scattergeo": [
           {
            "marker": {
             "colorbar": {
              "outlinewidth": 0,
              "ticks": ""
             }
            },
            "type": "scattergeo"
           }
          ],
          "scattergl": [
           {
            "marker": {
             "colorbar": {
              "outlinewidth": 0,
              "ticks": ""
             }
            },
            "type": "scattergl"
           }
          ],
          "scattermapbox": [
           {
            "marker": {
             "colorbar": {
              "outlinewidth": 0,
              "ticks": ""
             }
            },
            "type": "scattermapbox"
           }
          ],
          "scatterpolar": [
           {
            "marker": {
             "colorbar": {
              "outlinewidth": 0,
              "ticks": ""
             }
            },
            "type": "scatterpolar"
           }
          ],
          "scatterpolargl": [
           {
            "marker": {
             "colorbar": {
              "outlinewidth": 0,
              "ticks": ""
             }
            },
            "type": "scatterpolargl"
           }
          ],
          "scatterternary": [
           {
            "marker": {
             "colorbar": {
              "outlinewidth": 0,
              "ticks": ""
             }
            },
            "type": "scatterternary"
           }
          ],
          "surface": [
           {
            "colorbar": {
             "outlinewidth": 0,
             "ticks": ""
            },
            "colorscale": [
             [
              0,
              "#0d0887"
             ],
             [
              0.1111111111111111,
              "#46039f"
             ],
             [
              0.2222222222222222,
              "#7201a8"
             ],
             [
              0.3333333333333333,
              "#9c179e"
             ],
             [
              0.4444444444444444,
              "#bd3786"
             ],
             [
              0.5555555555555556,
              "#d8576b"
             ],
             [
              0.6666666666666666,
              "#ed7953"
             ],
             [
              0.7777777777777778,
              "#fb9f3a"
             ],
             [
              0.8888888888888888,
              "#fdca26"
             ],
             [
              1,
              "#f0f921"
             ]
            ],
            "type": "surface"
           }
          ],
          "table": [
           {
            "cells": {
             "fill": {
              "color": "#EBF0F8"
             },
             "line": {
              "color": "white"
             }
            },
            "header": {
             "fill": {
              "color": "#C8D4E3"
             },
             "line": {
              "color": "white"
             }
            },
            "type": "table"
           }
          ]
         },
         "layout": {
          "annotationdefaults": {
           "arrowcolor": "#2a3f5f",
           "arrowhead": 0,
           "arrowwidth": 1
          },
          "autotypenumbers": "strict",
          "coloraxis": {
           "colorbar": {
            "outlinewidth": 0,
            "ticks": ""
           }
          },
          "colorscale": {
           "diverging": [
            [
             0,
             "#8e0152"
            ],
            [
             0.1,
             "#c51b7d"
            ],
            [
             0.2,
             "#de77ae"
            ],
            [
             0.3,
             "#f1b6da"
            ],
            [
             0.4,
             "#fde0ef"
            ],
            [
             0.5,
             "#f7f7f7"
            ],
            [
             0.6,
             "#e6f5d0"
            ],
            [
             0.7,
             "#b8e186"
            ],
            [
             0.8,
             "#7fbc41"
            ],
            [
             0.9,
             "#4d9221"
            ],
            [
             1,
             "#276419"
            ]
           ],
           "sequential": [
            [
             0,
             "#0d0887"
            ],
            [
             0.1111111111111111,
             "#46039f"
            ],
            [
             0.2222222222222222,
             "#7201a8"
            ],
            [
             0.3333333333333333,
             "#9c179e"
            ],
            [
             0.4444444444444444,
             "#bd3786"
            ],
            [
             0.5555555555555556,
             "#d8576b"
            ],
            [
             0.6666666666666666,
             "#ed7953"
            ],
            [
             0.7777777777777778,
             "#fb9f3a"
            ],
            [
             0.8888888888888888,
             "#fdca26"
            ],
            [
             1,
             "#f0f921"
            ]
           ],
           "sequentialminus": [
            [
             0,
             "#0d0887"
            ],
            [
             0.1111111111111111,
             "#46039f"
            ],
            [
             0.2222222222222222,
             "#7201a8"
            ],
            [
             0.3333333333333333,
             "#9c179e"
            ],
            [
             0.4444444444444444,
             "#bd3786"
            ],
            [
             0.5555555555555556,
             "#d8576b"
            ],
            [
             0.6666666666666666,
             "#ed7953"
            ],
            [
             0.7777777777777778,
             "#fb9f3a"
            ],
            [
             0.8888888888888888,
             "#fdca26"
            ],
            [
             1,
             "#f0f921"
            ]
           ]
          },
          "colorway": [
           "#636efa",
           "#EF553B",
           "#00cc96",
           "#ab63fa",
           "#FFA15A",
           "#19d3f3",
           "#FF6692",
           "#B6E880",
           "#FF97FF",
           "#FECB52"
          ],
          "font": {
           "color": "#2a3f5f"
          },
          "geo": {
           "bgcolor": "white",
           "lakecolor": "white",
           "landcolor": "#E5ECF6",
           "showlakes": true,
           "showland": true,
           "subunitcolor": "white"
          },
          "hoverlabel": {
           "align": "left"
          },
          "hovermode": "closest",
          "mapbox": {
           "style": "light"
          },
          "paper_bgcolor": "white",
          "plot_bgcolor": "#E5ECF6",
          "polar": {
           "angularaxis": {
            "gridcolor": "white",
            "linecolor": "white",
            "ticks": ""
           },
           "bgcolor": "#E5ECF6",
           "radialaxis": {
            "gridcolor": "white",
            "linecolor": "white",
            "ticks": ""
           }
          },
          "scene": {
           "xaxis": {
            "backgroundcolor": "#E5ECF6",
            "gridcolor": "white",
            "gridwidth": 2,
            "linecolor": "white",
            "showbackground": true,
            "ticks": "",
            "zerolinecolor": "white"
           },
           "yaxis": {
            "backgroundcolor": "#E5ECF6",
            "gridcolor": "white",
            "gridwidth": 2,
            "linecolor": "white",
            "showbackground": true,
            "ticks": "",
            "zerolinecolor": "white"
           },
           "zaxis": {
            "backgroundcolor": "#E5ECF6",
            "gridcolor": "white",
            "gridwidth": 2,
            "linecolor": "white",
            "showbackground": true,
            "ticks": "",
            "zerolinecolor": "white"
           }
          },
          "shapedefaults": {
           "line": {
            "color": "#2a3f5f"
           }
          },
          "ternary": {
           "aaxis": {
            "gridcolor": "white",
            "linecolor": "white",
            "ticks": ""
           },
           "baxis": {
            "gridcolor": "white",
            "linecolor": "white",
            "ticks": ""
           },
           "bgcolor": "#E5ECF6",
           "caxis": {
            "gridcolor": "white",
            "linecolor": "white",
            "ticks": ""
           }
          },
          "title": {
           "x": 0.05
          },
          "xaxis": {
           "automargin": true,
           "gridcolor": "white",
           "linecolor": "white",
           "ticks": "",
           "title": {
            "standoff": 15
           },
           "zerolinecolor": "white",
           "zerolinewidth": 2
          },
          "yaxis": {
           "automargin": true,
           "gridcolor": "white",
           "linecolor": "white",
           "ticks": "",
           "title": {
            "standoff": 15
           },
           "zerolinecolor": "white",
           "zerolinewidth": 2
          }
         }
        },
        "title": {
         "text": "The number of packets and allocated size of the socket buffers and their limits"
        },
        "xaxis": {
         "anchor": "y",
         "domain": [
          0,
          0.49
         ],
         "title": {
          "text": "Buffer Size"
         }
        },
        "xaxis2": {
         "anchor": "y2",
         "domain": [
          0.51,
          1
         ],
         "matches": "x",
         "title": {
          "text": "Buffer Size"
         }
        },
        "yaxis": {
         "anchor": "x",
         "domain": [
          0,
          1
         ],
         "title": {
          "text": "Number of Sock RCV calls"
         }
        },
        "yaxis2": {
         "anchor": "x2",
         "domain": [
          0,
          1
         ],
         "matches": "y",
         "showticklabels": false
        }
       }
      }
     },
     "metadata": {},
     "output_type": "display_data"
    }
   ],
   "source": [
    "from pyspark.sql.types import StructType,StructField, StringType, IntegerType\n",
    "data_df = spark.read.option(\"basePath\", \"../ansible/.results\").json(\"../ansible/.results/kpps=*/tool=sormem\")\n",
    "schema = StructType([\n",
    "  StructField('type', StringType(), True),\n",
    "  StructField('kpps', IntegerType(), True),\n",
    "  StructField('count', IntegerType(), True),\n",
    "  StructField('min', IntegerType(), True),\n",
    "  StructField('max', IntegerType(), True),\n",
    "  StructField('action', StringType(), True),\n",
    "  ])\n",
    "\n",
    "#Create empty DataFrame directly.\n",
    "sormem_df = spark.createDataFrame([], schema)\n",
    "\n",
    "columns = data_df.select(\"data.*\").columns\n",
    "data_df = data_df.select(\"*\", \"data.*\").drop(\"data\")\n",
    "for c in columns:\n",
    "    df = data_df.select(\"*\", explode(c).alias(\"dataExplode\")).select(\"type\", \"kpps\", \"dataExplode.*\").withColumn('action', lit(c))\n",
    "    sormem_df = sormem_df.union(df)\n",
    "\n",
    "sormem_df = sormem_df.orderBy(col('kpps')).select(\"*\", concat_ws(' - ',col('min'),col('max')).alias(\"interval\"))\n",
    "pd_df = sormem_df.toPandas()\n",
    "pd_df['kpps'] = pd_df['kpps'].astype(str)\n",
    "sormem_fig = px.bar(pd_df, x=\"interval\", y=\"count\", color=\"kpps\", barmode=\"group\", facet_col=\"action\",\n",
    "        title=\"The number of packets and allocated size of the socket buffers and their limits\",\n",
    "        color_discrete_sequence=px.colors.sequential.Plasma,\n",
    "        labels={\n",
    "                    \"kpps\": \"Packets Per Second (thousand)\",\n",
    "                    \"count\": \"Number of Sock RCV calls\",\n",
    "                    \"interval\": \"Buffer Size\"\n",
    "                })\n",
    "sormem_fig.show()\n",
    "sormem_fig.write_image(\"images/sormem.jpeg\")\n",
    "with open(html_output_file, 'a') as f:\n",
    "    f.write(sormem_fig.to_html(full_html=False, include_plotlyjs='cdn'))"
   ]
  },
  {
   "cell_type": "code",
   "execution_count": 25,
   "metadata": {},
   "outputs": [
    {
     "data": {
      "application/vnd.plotly.v1+json": {
       "config": {
        "plotlyServerURL": "https://plot.ly"
       },
       "data": [
        {
         "alignmentgroup": "True",
         "hovertemplate": "Hardware Interupts=virtio3<br>Packets Per Second (thousand)=%{x}<br>Time (usecs)=%{y}<extra></extra>",
         "legendgroup": "virtio3",
         "marker": {
          "color": "#636efa",
          "pattern": {
           "shape": ""
          }
         },
         "name": "virtio3",
         "offsetgroup": "virtio3",
         "orientation": "v",
         "showlegend": true,
         "textposition": "auto",
         "type": "bar",
         "x": [
          5,
          10,
          1,
          50,
          200,
          400,
          500,
          300,
          100
         ],
         "xaxis": "x",
         "y": [
          117.523,
          122.747,
          169.474,
          152.952,
          150.822,
          156.256,
          84.428,
          87.764,
          98.34
         ],
         "yaxis": "y"
        },
        {
         "alignmentgroup": "True",
         "hovertemplate": "Hardware Interupts=virtio2-req.0<br>Packets Per Second (thousand)=%{x}<br>Time (usecs)=%{y}<extra></extra>",
         "legendgroup": "virtio2-req.0",
         "marker": {
          "color": "#EF553B",
          "pattern": {
           "shape": ""
          }
         },
         "name": "virtio2-req.0",
         "offsetgroup": "virtio2-req.0",
         "orientation": "v",
         "showlegend": true,
         "textposition": "auto",
         "type": "bar",
         "x": [
          5,
          10,
          1,
          50,
          200,
          400,
          500,
          300,
          100
         ],
         "xaxis": "x",
         "y": [
          1035.514,
          1957.802,
          2393.787,
          1817.735,
          2037.447,
          1546.732,
          2319.185,
          2028.947,
          1501.864
         ],
         "yaxis": "y"
        }
       ],
       "layout": {
        "barmode": "relative",
        "legend": {
         "title": {
          "text": "Hardware Interupts"
         },
         "tracegroupgap": 0
        },
        "template": {
         "data": {
          "bar": [
           {
            "error_x": {
             "color": "#2a3f5f"
            },
            "error_y": {
             "color": "#2a3f5f"
            },
            "marker": {
             "line": {
              "color": "#E5ECF6",
              "width": 0.5
             },
             "pattern": {
              "fillmode": "overlay",
              "size": 10,
              "solidity": 0.2
             }
            },
            "type": "bar"
           }
          ],
          "barpolar": [
           {
            "marker": {
             "line": {
              "color": "#E5ECF6",
              "width": 0.5
             },
             "pattern": {
              "fillmode": "overlay",
              "size": 10,
              "solidity": 0.2
             }
            },
            "type": "barpolar"
           }
          ],
          "carpet": [
           {
            "aaxis": {
             "endlinecolor": "#2a3f5f",
             "gridcolor": "white",
             "linecolor": "white",
             "minorgridcolor": "white",
             "startlinecolor": "#2a3f5f"
            },
            "baxis": {
             "endlinecolor": "#2a3f5f",
             "gridcolor": "white",
             "linecolor": "white",
             "minorgridcolor": "white",
             "startlinecolor": "#2a3f5f"
            },
            "type": "carpet"
           }
          ],
          "choropleth": [
           {
            "colorbar": {
             "outlinewidth": 0,
             "ticks": ""
            },
            "type": "choropleth"
           }
          ],
          "contour": [
           {
            "colorbar": {
             "outlinewidth": 0,
             "ticks": ""
            },
            "colorscale": [
             [
              0,
              "#0d0887"
             ],
             [
              0.1111111111111111,
              "#46039f"
             ],
             [
              0.2222222222222222,
              "#7201a8"
             ],
             [
              0.3333333333333333,
              "#9c179e"
             ],
             [
              0.4444444444444444,
              "#bd3786"
             ],
             [
              0.5555555555555556,
              "#d8576b"
             ],
             [
              0.6666666666666666,
              "#ed7953"
             ],
             [
              0.7777777777777778,
              "#fb9f3a"
             ],
             [
              0.8888888888888888,
              "#fdca26"
             ],
             [
              1,
              "#f0f921"
             ]
            ],
            "type": "contour"
           }
          ],
          "contourcarpet": [
           {
            "colorbar": {
             "outlinewidth": 0,
             "ticks": ""
            },
            "type": "contourcarpet"
           }
          ],
          "heatmap": [
           {
            "colorbar": {
             "outlinewidth": 0,
             "ticks": ""
            },
            "colorscale": [
             [
              0,
              "#0d0887"
             ],
             [
              0.1111111111111111,
              "#46039f"
             ],
             [
              0.2222222222222222,
              "#7201a8"
             ],
             [
              0.3333333333333333,
              "#9c179e"
             ],
             [
              0.4444444444444444,
              "#bd3786"
             ],
             [
              0.5555555555555556,
              "#d8576b"
             ],
             [
              0.6666666666666666,
              "#ed7953"
             ],
             [
              0.7777777777777778,
              "#fb9f3a"
             ],
             [
              0.8888888888888888,
              "#fdca26"
             ],
             [
              1,
              "#f0f921"
             ]
            ],
            "type": "heatmap"
           }
          ],
          "heatmapgl": [
           {
            "colorbar": {
             "outlinewidth": 0,
             "ticks": ""
            },
            "colorscale": [
             [
              0,
              "#0d0887"
             ],
             [
              0.1111111111111111,
              "#46039f"
             ],
             [
              0.2222222222222222,
              "#7201a8"
             ],
             [
              0.3333333333333333,
              "#9c179e"
             ],
             [
              0.4444444444444444,
              "#bd3786"
             ],
             [
              0.5555555555555556,
              "#d8576b"
             ],
             [
              0.6666666666666666,
              "#ed7953"
             ],
             [
              0.7777777777777778,
              "#fb9f3a"
             ],
             [
              0.8888888888888888,
              "#fdca26"
             ],
             [
              1,
              "#f0f921"
             ]
            ],
            "type": "heatmapgl"
           }
          ],
          "histogram": [
           {
            "marker": {
             "pattern": {
              "fillmode": "overlay",
              "size": 10,
              "solidity": 0.2
             }
            },
            "type": "histogram"
           }
          ],
          "histogram2d": [
           {
            "colorbar": {
             "outlinewidth": 0,
             "ticks": ""
            },
            "colorscale": [
             [
              0,
              "#0d0887"
             ],
             [
              0.1111111111111111,
              "#46039f"
             ],
             [
              0.2222222222222222,
              "#7201a8"
             ],
             [
              0.3333333333333333,
              "#9c179e"
             ],
             [
              0.4444444444444444,
              "#bd3786"
             ],
             [
              0.5555555555555556,
              "#d8576b"
             ],
             [
              0.6666666666666666,
              "#ed7953"
             ],
             [
              0.7777777777777778,
              "#fb9f3a"
             ],
             [
              0.8888888888888888,
              "#fdca26"
             ],
             [
              1,
              "#f0f921"
             ]
            ],
            "type": "histogram2d"
           }
          ],
          "histogram2dcontour": [
           {
            "colorbar": {
             "outlinewidth": 0,
             "ticks": ""
            },
            "colorscale": [
             [
              0,
              "#0d0887"
             ],
             [
              0.1111111111111111,
              "#46039f"
             ],
             [
              0.2222222222222222,
              "#7201a8"
             ],
             [
              0.3333333333333333,
              "#9c179e"
             ],
             [
              0.4444444444444444,
              "#bd3786"
             ],
             [
              0.5555555555555556,
              "#d8576b"
             ],
             [
              0.6666666666666666,
              "#ed7953"
             ],
             [
              0.7777777777777778,
              "#fb9f3a"
             ],
             [
              0.8888888888888888,
              "#fdca26"
             ],
             [
              1,
              "#f0f921"
             ]
            ],
            "type": "histogram2dcontour"
           }
          ],
          "mesh3d": [
           {
            "colorbar": {
             "outlinewidth": 0,
             "ticks": ""
            },
            "type": "mesh3d"
           }
          ],
          "parcoords": [
           {
            "line": {
             "colorbar": {
              "outlinewidth": 0,
              "ticks": ""
             }
            },
            "type": "parcoords"
           }
          ],
          "pie": [
           {
            "automargin": true,
            "type": "pie"
           }
          ],
          "scatter": [
           {
            "fillpattern": {
             "fillmode": "overlay",
             "size": 10,
             "solidity": 0.2
            },
            "type": "scatter"
           }
          ],
          "scatter3d": [
           {
            "line": {
             "colorbar": {
              "outlinewidth": 0,
              "ticks": ""
             }
            },
            "marker": {
             "colorbar": {
              "outlinewidth": 0,
              "ticks": ""
             }
            },
            "type": "scatter3d"
           }
          ],
          "scattercarpet": [
           {
            "marker": {
             "colorbar": {
              "outlinewidth": 0,
              "ticks": ""
             }
            },
            "type": "scattercarpet"
           }
          ],
          "scattergeo": [
           {
            "marker": {
             "colorbar": {
              "outlinewidth": 0,
              "ticks": ""
             }
            },
            "type": "scattergeo"
           }
          ],
          "scattergl": [
           {
            "marker": {
             "colorbar": {
              "outlinewidth": 0,
              "ticks": ""
             }
            },
            "type": "scattergl"
           }
          ],
          "scattermapbox": [
           {
            "marker": {
             "colorbar": {
              "outlinewidth": 0,
              "ticks": ""
             }
            },
            "type": "scattermapbox"
           }
          ],
          "scatterpolar": [
           {
            "marker": {
             "colorbar": {
              "outlinewidth": 0,
              "ticks": ""
             }
            },
            "type": "scatterpolar"
           }
          ],
          "scatterpolargl": [
           {
            "marker": {
             "colorbar": {
              "outlinewidth": 0,
              "ticks": ""
             }
            },
            "type": "scatterpolargl"
           }
          ],
          "scatterternary": [
           {
            "marker": {
             "colorbar": {
              "outlinewidth": 0,
              "ticks": ""
             }
            },
            "type": "scatterternary"
           }
          ],
          "surface": [
           {
            "colorbar": {
             "outlinewidth": 0,
             "ticks": ""
            },
            "colorscale": [
             [
              0,
              "#0d0887"
             ],
             [
              0.1111111111111111,
              "#46039f"
             ],
             [
              0.2222222222222222,
              "#7201a8"
             ],
             [
              0.3333333333333333,
              "#9c179e"
             ],
             [
              0.4444444444444444,
              "#bd3786"
             ],
             [
              0.5555555555555556,
              "#d8576b"
             ],
             [
              0.6666666666666666,
              "#ed7953"
             ],
             [
              0.7777777777777778,
              "#fb9f3a"
             ],
             [
              0.8888888888888888,
              "#fdca26"
             ],
             [
              1,
              "#f0f921"
             ]
            ],
            "type": "surface"
           }
          ],
          "table": [
           {
            "cells": {
             "fill": {
              "color": "#EBF0F8"
             },
             "line": {
              "color": "white"
             }
            },
            "header": {
             "fill": {
              "color": "#C8D4E3"
             },
             "line": {
              "color": "white"
             }
            },
            "type": "table"
           }
          ]
         },
         "layout": {
          "annotationdefaults": {
           "arrowcolor": "#2a3f5f",
           "arrowhead": 0,
           "arrowwidth": 1
          },
          "autotypenumbers": "strict",
          "coloraxis": {
           "colorbar": {
            "outlinewidth": 0,
            "ticks": ""
           }
          },
          "colorscale": {
           "diverging": [
            [
             0,
             "#8e0152"
            ],
            [
             0.1,
             "#c51b7d"
            ],
            [
             0.2,
             "#de77ae"
            ],
            [
             0.3,
             "#f1b6da"
            ],
            [
             0.4,
             "#fde0ef"
            ],
            [
             0.5,
             "#f7f7f7"
            ],
            [
             0.6,
             "#e6f5d0"
            ],
            [
             0.7,
             "#b8e186"
            ],
            [
             0.8,
             "#7fbc41"
            ],
            [
             0.9,
             "#4d9221"
            ],
            [
             1,
             "#276419"
            ]
           ],
           "sequential": [
            [
             0,
             "#0d0887"
            ],
            [
             0.1111111111111111,
             "#46039f"
            ],
            [
             0.2222222222222222,
             "#7201a8"
            ],
            [
             0.3333333333333333,
             "#9c179e"
            ],
            [
             0.4444444444444444,
             "#bd3786"
            ],
            [
             0.5555555555555556,
             "#d8576b"
            ],
            [
             0.6666666666666666,
             "#ed7953"
            ],
            [
             0.7777777777777778,
             "#fb9f3a"
            ],
            [
             0.8888888888888888,
             "#fdca26"
            ],
            [
             1,
             "#f0f921"
            ]
           ],
           "sequentialminus": [
            [
             0,
             "#0d0887"
            ],
            [
             0.1111111111111111,
             "#46039f"
            ],
            [
             0.2222222222222222,
             "#7201a8"
            ],
            [
             0.3333333333333333,
             "#9c179e"
            ],
            [
             0.4444444444444444,
             "#bd3786"
            ],
            [
             0.5555555555555556,
             "#d8576b"
            ],
            [
             0.6666666666666666,
             "#ed7953"
            ],
            [
             0.7777777777777778,
             "#fb9f3a"
            ],
            [
             0.8888888888888888,
             "#fdca26"
            ],
            [
             1,
             "#f0f921"
            ]
           ]
          },
          "colorway": [
           "#636efa",
           "#EF553B",
           "#00cc96",
           "#ab63fa",
           "#FFA15A",
           "#19d3f3",
           "#FF6692",
           "#B6E880",
           "#FF97FF",
           "#FECB52"
          ],
          "font": {
           "color": "#2a3f5f"
          },
          "geo": {
           "bgcolor": "white",
           "lakecolor": "white",
           "landcolor": "#E5ECF6",
           "showlakes": true,
           "showland": true,
           "subunitcolor": "white"
          },
          "hoverlabel": {
           "align": "left"
          },
          "hovermode": "closest",
          "mapbox": {
           "style": "light"
          },
          "paper_bgcolor": "white",
          "plot_bgcolor": "#E5ECF6",
          "polar": {
           "angularaxis": {
            "gridcolor": "white",
            "linecolor": "white",
            "ticks": ""
           },
           "bgcolor": "#E5ECF6",
           "radialaxis": {
            "gridcolor": "white",
            "linecolor": "white",
            "ticks": ""
           }
          },
          "scene": {
           "xaxis": {
            "backgroundcolor": "#E5ECF6",
            "gridcolor": "white",
            "gridwidth": 2,
            "linecolor": "white",
            "showbackground": true,
            "ticks": "",
            "zerolinecolor": "white"
           },
           "yaxis": {
            "backgroundcolor": "#E5ECF6",
            "gridcolor": "white",
            "gridwidth": 2,
            "linecolor": "white",
            "showbackground": true,
            "ticks": "",
            "zerolinecolor": "white"
           },
           "zaxis": {
            "backgroundcolor": "#E5ECF6",
            "gridcolor": "white",
            "gridwidth": 2,
            "linecolor": "white",
            "showbackground": true,
            "ticks": "",
            "zerolinecolor": "white"
           }
          },
          "shapedefaults": {
           "line": {
            "color": "#2a3f5f"
           }
          },
          "ternary": {
           "aaxis": {
            "gridcolor": "white",
            "linecolor": "white",
            "ticks": ""
           },
           "baxis": {
            "gridcolor": "white",
            "linecolor": "white",
            "ticks": ""
           },
           "bgcolor": "#E5ECF6",
           "caxis": {
            "gridcolor": "white",
            "linecolor": "white",
            "ticks": ""
           }
          },
          "title": {
           "x": 0.05
          },
          "xaxis": {
           "automargin": true,
           "gridcolor": "white",
           "linecolor": "white",
           "ticks": "",
           "title": {
            "standoff": 15
           },
           "zerolinecolor": "white",
           "zerolinewidth": 2
          },
          "yaxis": {
           "automargin": true,
           "gridcolor": "white",
           "linecolor": "white",
           "ticks": "",
           "title": {
            "standoff": 15
           },
           "zerolinecolor": "white",
           "zerolinewidth": 2
          }
         }
        },
        "title": {
         "text": "Total time spent servicing hard IRQs (hard interrupts)"
        },
        "xaxis": {
         "anchor": "y",
         "domain": [
          0,
          1
         ],
         "title": {
          "text": "Packets Per Second (thousand)"
         }
        },
        "yaxis": {
         "anchor": "x",
         "domain": [
          0,
          1
         ],
         "title": {
          "text": "Time (usecs)"
         }
        }
       }
      }
     },
     "metadata": {},
     "output_type": "display_data"
    }
   ],
   "source": [
    "hardirqs_count_df = spark.read.option(\"basePath\", \"../ansible/.results\").json(\n",
    "\"../ansible/.results/kpps=*/tool=hardirqs-count\")\n",
    "# print(df.rdd.getNumPartitions())\n",
    "import plotly.express as px\n",
    "hardirqs_count_fig = px.bar(hardirqs_count_df.toPandas(), x=\"kpps\", y=\"count\", color=\"hardirq\",\n",
    "            title=\"Total time spent servicing hard IRQs (hard interrupts)\",\n",
    "            labels={\n",
    "                    \"kpps\": \"Packets Per Second (thousand)\",\n",
    "                    \"count\": \"Time (usecs)\",\n",
    "                    \"hardirq\": \"Hardware Interupts\"\n",
    "                })\n",
    "hardirqs_count_fig.show()\n",
    "hardirqs_count_fig.write_image(\"images/hardirqs-count.jpeg\")\n",
    "with open(html_output_file, 'a') as f:\n",
    "    f.write(hardirqs_count_fig.to_html(full_html=False, include_plotlyjs='cdn'))"
   ]
  },
  {
   "cell_type": "code",
   "execution_count": 26,
   "metadata": {},
   "outputs": [
    {
     "ename": "AnalysisException",
     "evalue": "cannot resolve 'ts' given input columns: [_corrupt_record, kpps, tool];\n'Project [kpps#3100, 'ts, 'val_type, tool#3101, explode('data) AS dataExplode#3105]\n+- Relation [_corrupt_record#3099,kpps#3100,tool#3101] json\n",
     "output_type": "error",
     "traceback": [
      "\u001b[0;31m---------------------------------------------------------------------------\u001b[0m",
      "\u001b[0;31mAnalysisException\u001b[0m                         Traceback (most recent call last)",
      "Cell \u001b[0;32mIn [26], line 2\u001b[0m\n\u001b[1;32m      1\u001b[0m hardirqs_dist_df \u001b[38;5;241m=\u001b[39m \u001b[43mspark\u001b[49m\u001b[38;5;241;43m.\u001b[39;49m\u001b[43mread\u001b[49m\u001b[38;5;241;43m.\u001b[39;49m\u001b[43moption\u001b[49m\u001b[43m(\u001b[49m\u001b[38;5;124;43m\"\u001b[39;49m\u001b[38;5;124;43mbasePath\u001b[39;49m\u001b[38;5;124;43m\"\u001b[39;49m\u001b[43m,\u001b[49m\u001b[43m \u001b[49m\u001b[38;5;124;43m\"\u001b[39;49m\u001b[38;5;124;43m../ansible/.results\u001b[39;49m\u001b[38;5;124;43m\"\u001b[39;49m\u001b[43m)\u001b[49m\u001b[38;5;241;43m.\u001b[39;49m\u001b[43mjson\u001b[49m\u001b[43m(\u001b[49m\n\u001b[0;32m----> 2\u001b[0m \u001b[38;5;124;43m\"\u001b[39;49m\u001b[38;5;124;43m../ansible/.results/kpps=*/tool=hardirqs-dist\u001b[39;49m\u001b[38;5;124;43m\"\u001b[39;49m\u001b[43m)\u001b[49m\u001b[38;5;241;43m.\u001b[39;49m\u001b[43mselect\u001b[49m\u001b[43m(\u001b[49m\n\u001b[1;32m      3\u001b[0m \u001b[43m    \u001b[49m\u001b[38;5;124;43m\"\u001b[39;49m\u001b[38;5;124;43mkpps\u001b[39;49m\u001b[38;5;124;43m\"\u001b[39;49m\u001b[43m,\u001b[49m\u001b[43m \u001b[49m\u001b[38;5;124;43m\"\u001b[39;49m\u001b[38;5;124;43mts\u001b[39;49m\u001b[38;5;124;43m\"\u001b[39;49m\u001b[43m,\u001b[49m\u001b[43m \u001b[49m\u001b[38;5;124;43m\"\u001b[39;49m\u001b[38;5;124;43mval_type\u001b[39;49m\u001b[38;5;124;43m\"\u001b[39;49m\u001b[43m,\u001b[49m\u001b[43m \u001b[49m\u001b[38;5;124;43m\"\u001b[39;49m\u001b[38;5;124;43mtool\u001b[39;49m\u001b[38;5;124;43m\"\u001b[39;49m\u001b[43m,\u001b[49m\n\u001b[1;32m      4\u001b[0m \u001b[43m    \u001b[49m\u001b[43mexplode\u001b[49m\u001b[43m(\u001b[49m\u001b[38;5;124;43m\"\u001b[39;49m\u001b[38;5;124;43mdata\u001b[39;49m\u001b[38;5;124;43m\"\u001b[39;49m\u001b[43m)\u001b[49m\u001b[38;5;241;43m.\u001b[39;49m\u001b[43malias\u001b[49m\u001b[43m(\u001b[49m\u001b[38;5;124;43m\"\u001b[39;49m\u001b[38;5;124;43mdataExplode\u001b[39;49m\u001b[38;5;124;43m\"\u001b[39;49m\u001b[43m)\u001b[49m\n\u001b[1;32m      5\u001b[0m \u001b[43m)\u001b[49m\u001b[38;5;241m.\u001b[39morderBy(col(\u001b[38;5;124m'\u001b[39m\u001b[38;5;124mkpps\u001b[39m\u001b[38;5;124m'\u001b[39m))\u001b[38;5;241m.\u001b[39mselect(col(\u001b[38;5;124m\"\u001b[39m\u001b[38;5;124mkpps\u001b[39m\u001b[38;5;124m\"\u001b[39m)\u001b[38;5;241m.\u001b[39mcast(StringType()), \u001b[38;5;124m\"\u001b[39m\u001b[38;5;124mts\u001b[39m\u001b[38;5;124m\"\u001b[39m, \u001b[38;5;124m\"\u001b[39m\u001b[38;5;124mval_type\u001b[39m\u001b[38;5;124m\"\u001b[39m, \u001b[38;5;124m\"\u001b[39m\u001b[38;5;124mtool\u001b[39m\u001b[38;5;124m\"\u001b[39m, \u001b[38;5;124m\"\u001b[39m\u001b[38;5;124mdataExplode.*\u001b[39m\u001b[38;5;124m\"\u001b[39m, concat_ws(\u001b[38;5;124m'\u001b[39m\u001b[38;5;124m-\u001b[39m\u001b[38;5;124m'\u001b[39m,col(\u001b[38;5;124m'\u001b[39m\u001b[38;5;124mdataExplode.interval-start\u001b[39m\u001b[38;5;124m'\u001b[39m),col(\u001b[38;5;124m'\u001b[39m\u001b[38;5;124mdataExplode.interval-end\u001b[39m\u001b[38;5;124m'\u001b[39m))\u001b[38;5;241m.\u001b[39malias(\u001b[38;5;124m\"\u001b[39m\u001b[38;5;124minterval\u001b[39m\u001b[38;5;124m\"\u001b[39m))\n\u001b[1;32m      6\u001b[0m \u001b[38;5;28;01mimport\u001b[39;00m \u001b[38;5;21;01mplotly\u001b[39;00m\u001b[38;5;21;01m.\u001b[39;00m\u001b[38;5;21;01mexpress\u001b[39;00m \u001b[38;5;28;01mas\u001b[39;00m \u001b[38;5;21;01mpx\u001b[39;00m\n\u001b[1;32m      7\u001b[0m hardirqs_dist_fig \u001b[38;5;241m=\u001b[39m px\u001b[38;5;241m.\u001b[39mbar(hardirqs_dist_df\u001b[38;5;241m.\u001b[39mtoPandas(), x\u001b[38;5;241m=\u001b[39m\u001b[38;5;124m\"\u001b[39m\u001b[38;5;124minterval\u001b[39m\u001b[38;5;124m\"\u001b[39m, y\u001b[38;5;241m=\u001b[39m\u001b[38;5;124m\"\u001b[39m\u001b[38;5;124mcount\u001b[39m\u001b[38;5;124m\"\u001b[39m, color\u001b[38;5;241m=\u001b[39m\u001b[38;5;124m\"\u001b[39m\u001b[38;5;124mkpps\u001b[39m\u001b[38;5;124m\"\u001b[39m, barmode\u001b[38;5;241m=\u001b[39m\u001b[38;5;124m\"\u001b[39m\u001b[38;5;124mgroup\u001b[39m\u001b[38;5;124m\"\u001b[39m,\n\u001b[1;32m      8\u001b[0m         title\u001b[38;5;241m=\u001b[39m\u001b[38;5;124m\"\u001b[39m\u001b[38;5;124mThe number of Hardware IRQ per duration distribution\u001b[39m\u001b[38;5;124m\"\u001b[39m,\n\u001b[1;32m      9\u001b[0m         color_discrete_sequence\u001b[38;5;241m=\u001b[39mpx\u001b[38;5;241m.\u001b[39mcolors\u001b[38;5;241m.\u001b[39msequential\u001b[38;5;241m.\u001b[39mPlasma,\n\u001b[0;32m   (...)\u001b[0m\n\u001b[1;32m     13\u001b[0m                     \u001b[38;5;124m\"\u001b[39m\u001b[38;5;124minterval\u001b[39m\u001b[38;5;124m\"\u001b[39m: \u001b[38;5;124m\"\u001b[39m\u001b[38;5;124mTime (usecs)\u001b[39m\u001b[38;5;124m\"\u001b[39m\n\u001b[1;32m     14\u001b[0m                 })\n",
      "File \u001b[0;32m~/.local/lib/python3.10/site-packages/pyspark/sql/dataframe.py:1685\u001b[0m, in \u001b[0;36mDataFrame.select\u001b[0;34m(self, *cols)\u001b[0m\n\u001b[1;32m   1664\u001b[0m \u001b[39mdef\u001b[39;00m \u001b[39mselect\u001b[39m(\u001b[39mself\u001b[39m, \u001b[39m*\u001b[39mcols):\n\u001b[1;32m   1665\u001b[0m     \u001b[39m\"\"\"Projects a set of expressions and returns a new :class:`DataFrame`.\u001b[39;00m\n\u001b[1;32m   1666\u001b[0m \n\u001b[1;32m   1667\u001b[0m \u001b[39m    .. versionadded:: 1.3.0\u001b[39;00m\n\u001b[0;32m   (...)\u001b[0m\n\u001b[1;32m   1683\u001b[0m \u001b[39m    [Row(name='Alice', age=12), Row(name='Bob', age=15)]\u001b[39;00m\n\u001b[1;32m   1684\u001b[0m \u001b[39m    \"\"\"\u001b[39;00m\n\u001b[0;32m-> 1685\u001b[0m     jdf \u001b[39m=\u001b[39m \u001b[39mself\u001b[39;49m\u001b[39m.\u001b[39;49m_jdf\u001b[39m.\u001b[39;49mselect(\u001b[39mself\u001b[39;49m\u001b[39m.\u001b[39;49m_jcols(\u001b[39m*\u001b[39;49mcols))\n\u001b[1;32m   1686\u001b[0m     \u001b[39mreturn\u001b[39;00m DataFrame(jdf, \u001b[39mself\u001b[39m\u001b[39m.\u001b[39msql_ctx)\n",
      "File \u001b[0;32m~/.local/lib/python3.10/site-packages/py4j/java_gateway.py:1321\u001b[0m, in \u001b[0;36mJavaMember.__call__\u001b[0;34m(self, *args)\u001b[0m\n\u001b[1;32m   1315\u001b[0m command \u001b[39m=\u001b[39m proto\u001b[39m.\u001b[39mCALL_COMMAND_NAME \u001b[39m+\u001b[39m\\\n\u001b[1;32m   1316\u001b[0m     \u001b[39mself\u001b[39m\u001b[39m.\u001b[39mcommand_header \u001b[39m+\u001b[39m\\\n\u001b[1;32m   1317\u001b[0m     args_command \u001b[39m+\u001b[39m\\\n\u001b[1;32m   1318\u001b[0m     proto\u001b[39m.\u001b[39mEND_COMMAND_PART\n\u001b[1;32m   1320\u001b[0m answer \u001b[39m=\u001b[39m \u001b[39mself\u001b[39m\u001b[39m.\u001b[39mgateway_client\u001b[39m.\u001b[39msend_command(command)\n\u001b[0;32m-> 1321\u001b[0m return_value \u001b[39m=\u001b[39m get_return_value(\n\u001b[1;32m   1322\u001b[0m     answer, \u001b[39mself\u001b[39;49m\u001b[39m.\u001b[39;49mgateway_client, \u001b[39mself\u001b[39;49m\u001b[39m.\u001b[39;49mtarget_id, \u001b[39mself\u001b[39;49m\u001b[39m.\u001b[39;49mname)\n\u001b[1;32m   1324\u001b[0m \u001b[39mfor\u001b[39;00m temp_arg \u001b[39min\u001b[39;00m temp_args:\n\u001b[1;32m   1325\u001b[0m     temp_arg\u001b[39m.\u001b[39m_detach()\n",
      "File \u001b[0;32m~/.local/lib/python3.10/site-packages/pyspark/sql/utils.py:117\u001b[0m, in \u001b[0;36mcapture_sql_exception.<locals>.deco\u001b[0;34m(*a, **kw)\u001b[0m\n\u001b[1;32m    113\u001b[0m converted \u001b[39m=\u001b[39m convert_exception(e\u001b[39m.\u001b[39mjava_exception)\n\u001b[1;32m    114\u001b[0m \u001b[39mif\u001b[39;00m \u001b[39mnot\u001b[39;00m \u001b[39misinstance\u001b[39m(converted, UnknownException):\n\u001b[1;32m    115\u001b[0m     \u001b[39m# Hide where the exception came from that shows a non-Pythonic\u001b[39;00m\n\u001b[1;32m    116\u001b[0m     \u001b[39m# JVM exception message.\u001b[39;00m\n\u001b[0;32m--> 117\u001b[0m     \u001b[39mraise\u001b[39;00m converted \u001b[39mfrom\u001b[39;00m \u001b[39mNone\u001b[39m\n\u001b[1;32m    118\u001b[0m \u001b[39melse\u001b[39;00m:\n\u001b[1;32m    119\u001b[0m     \u001b[39mraise\u001b[39;00m\n",
      "\u001b[0;31mAnalysisException\u001b[0m: cannot resolve 'ts' given input columns: [_corrupt_record, kpps, tool];\n'Project [kpps#3100, 'ts, 'val_type, tool#3101, explode('data) AS dataExplode#3105]\n+- Relation [_corrupt_record#3099,kpps#3100,tool#3101] json\n"
     ]
    }
   ],
   "source": [
    "hardirqs_dist_df = spark.read.option(\"basePath\", \"../ansible/.results\").json(\n",
    "\"../ansible/.results/kpps=*/tool=hardirqs-dist\").select(\n",
    "    \"kpps\", \"ts\", \"val_type\", \"tool\",\n",
    "    explode(\"data\").alias(\"dataExplode\")\n",
    ").orderBy(col('kpps')).select(col(\"kpps\").cast(StringType()), \"ts\", \"val_type\", \"tool\", \"dataExplode.*\", concat_ws('-',col('dataExplode.interval-start'),col('dataExplode.interval-end')).alias(\"interval\"))\n",
    "import plotly.express as px\n",
    "hardirqs_dist_fig = px.bar(hardirqs_dist_df.toPandas(), x=\"interval\", y=\"count\", color=\"kpps\", barmode=\"group\",\n",
    "        title=\"The number of Hardware IRQ per duration distribution\",\n",
    "        color_discrete_sequence=px.colors.sequential.Plasma,\n",
    "        labels={\n",
    "                    \"kpps\": \"Packets Per Second (thousand)\",\n",
    "                    \"count\": \"Number of Hardware IRQs\",\n",
    "                    \"interval\": \"Time (usecs)\"\n",
    "                })\n",
    "hardirqs_dist_fig.show()\n",
    "hardirqs_dist_fig.write_image(\"images/hardirqs-dist.jpeg\")\n",
    "with open(html_output_file, 'a') as f:\n",
    "    f.write(hardirqs_dist_fig.to_html(full_html=False, include_plotlyjs='cdn'))"
   ]
  },
  {
   "cell_type": "code",
   "execution_count": 27,
   "metadata": {},
   "outputs": [
    {
     "data": {
      "application/vnd.plotly.v1+json": {
       "config": {
        "plotlyServerURL": "https://plot.ly"
       },
       "data": [
        {
         "alignmentgroup": "True",
         "hovertemplate": "softirq=block<br>Packets Per Second (thousand)=%{x}<br>Time (usecs)=%{y}<extra></extra>",
         "legendgroup": "block",
         "marker": {
          "color": "#636efa",
          "pattern": {
           "shape": ""
          }
         },
         "name": "block",
         "offsetgroup": "block",
         "orientation": "v",
         "showlegend": true,
         "textposition": "auto",
         "type": "bar",
         "x": [
          100,
          5,
          500,
          10,
          1,
          50,
          400,
          200,
          300
         ],
         "xaxis": "x",
         "y": [
          2584.753,
          2340.094,
          2892.144,
          3725.309,
          2485.538,
          3311.38,
          3409.239,
          2352.019,
          2994.55
         ],
         "yaxis": "y"
        },
        {
         "alignmentgroup": "True",
         "hovertemplate": "softirq=net_rx<br>Packets Per Second (thousand)=%{x}<br>Time (usecs)=%{y}<extra></extra>",
         "legendgroup": "net_rx",
         "marker": {
          "color": "#EF553B",
          "pattern": {
           "shape": ""
          }
         },
         "name": "net_rx",
         "offsetgroup": "net_rx",
         "orientation": "v",
         "showlegend": true,
         "textposition": "auto",
         "type": "bar",
         "x": [
          100,
          5,
          500,
          10,
          1,
          50,
          400,
          200,
          300
         ],
         "xaxis": "x",
         "y": [
          2753.527,
          2737.383,
          2948.868,
          3165.638,
          2829.963,
          2263.156,
          2283.73,
          3271.593,
          3184.183
         ],
         "yaxis": "y"
        },
        {
         "alignmentgroup": "True",
         "hovertemplate": "softirq=timer<br>Packets Per Second (thousand)=%{x}<br>Time (usecs)=%{y}<extra></extra>",
         "legendgroup": "timer",
         "marker": {
          "color": "#00cc96",
          "pattern": {
           "shape": ""
          }
         },
         "name": "timer",
         "offsetgroup": "timer",
         "orientation": "v",
         "showlegend": true,
         "textposition": "auto",
         "type": "bar",
         "x": [
          100,
          5,
          500,
          10,
          1,
          50,
          400,
          200,
          300
         ],
         "xaxis": "x",
         "y": [
          12942.481,
          17797.701,
          11754.735,
          19406.841,
          16153.956,
          25915.757,
          12007.732,
          11569.423,
          12673.454
         ],
         "yaxis": "y"
        },
        {
         "alignmentgroup": "True",
         "hovertemplate": "softirq=rcu<br>Packets Per Second (thousand)=%{x}<br>Time (usecs)=%{y}<extra></extra>",
         "legendgroup": "rcu",
         "marker": {
          "color": "#ab63fa",
          "pattern": {
           "shape": ""
          }
         },
         "name": "rcu",
         "offsetgroup": "rcu",
         "orientation": "v",
         "showlegend": true,
         "textposition": "auto",
         "type": "bar",
         "x": [
          100,
          5,
          500,
          10,
          1,
          50,
          400,
          200,
          300
         ],
         "xaxis": "x",
         "y": [
          14157.053,
          14103.162,
          14174.894,
          18028.711,
          15724.076,
          14005.179,
          13422.895,
          13598.76,
          13704.855
         ],
         "yaxis": "y"
        },
        {
         "alignmentgroup": "True",
         "hovertemplate": "softirq=sched<br>Packets Per Second (thousand)=%{x}<br>Time (usecs)=%{y}<extra></extra>",
         "legendgroup": "sched",
         "marker": {
          "color": "#FFA15A",
          "pattern": {
           "shape": ""
          }
         },
         "name": "sched",
         "offsetgroup": "sched",
         "orientation": "v",
         "showlegend": true,
         "textposition": "auto",
         "type": "bar",
         "x": [
          100,
          5,
          500,
          10,
          1,
          50,
          400,
          200,
          300
         ],
         "xaxis": "x",
         "y": [
          20074.982,
          27882.056,
          19711.007,
          30427.951,
          22957.831,
          38970.811,
          18185.842,
          18301.362,
          20006.058
         ],
         "yaxis": "y"
        }
       ],
       "layout": {
        "barmode": "relative",
        "legend": {
         "title": {
          "text": "softirq"
         },
         "tracegroupgap": 0
        },
        "template": {
         "data": {
          "bar": [
           {
            "error_x": {
             "color": "#2a3f5f"
            },
            "error_y": {
             "color": "#2a3f5f"
            },
            "marker": {
             "line": {
              "color": "#E5ECF6",
              "width": 0.5
             },
             "pattern": {
              "fillmode": "overlay",
              "size": 10,
              "solidity": 0.2
             }
            },
            "type": "bar"
           }
          ],
          "barpolar": [
           {
            "marker": {
             "line": {
              "color": "#E5ECF6",
              "width": 0.5
             },
             "pattern": {
              "fillmode": "overlay",
              "size": 10,
              "solidity": 0.2
             }
            },
            "type": "barpolar"
           }
          ],
          "carpet": [
           {
            "aaxis": {
             "endlinecolor": "#2a3f5f",
             "gridcolor": "white",
             "linecolor": "white",
             "minorgridcolor": "white",
             "startlinecolor": "#2a3f5f"
            },
            "baxis": {
             "endlinecolor": "#2a3f5f",
             "gridcolor": "white",
             "linecolor": "white",
             "minorgridcolor": "white",
             "startlinecolor": "#2a3f5f"
            },
            "type": "carpet"
           }
          ],
          "choropleth": [
           {
            "colorbar": {
             "outlinewidth": 0,
             "ticks": ""
            },
            "type": "choropleth"
           }
          ],
          "contour": [
           {
            "colorbar": {
             "outlinewidth": 0,
             "ticks": ""
            },
            "colorscale": [
             [
              0,
              "#0d0887"
             ],
             [
              0.1111111111111111,
              "#46039f"
             ],
             [
              0.2222222222222222,
              "#7201a8"
             ],
             [
              0.3333333333333333,
              "#9c179e"
             ],
             [
              0.4444444444444444,
              "#bd3786"
             ],
             [
              0.5555555555555556,
              "#d8576b"
             ],
             [
              0.6666666666666666,
              "#ed7953"
             ],
             [
              0.7777777777777778,
              "#fb9f3a"
             ],
             [
              0.8888888888888888,
              "#fdca26"
             ],
             [
              1,
              "#f0f921"
             ]
            ],
            "type": "contour"
           }
          ],
          "contourcarpet": [
           {
            "colorbar": {
             "outlinewidth": 0,
             "ticks": ""
            },
            "type": "contourcarpet"
           }
          ],
          "heatmap": [
           {
            "colorbar": {
             "outlinewidth": 0,
             "ticks": ""
            },
            "colorscale": [
             [
              0,
              "#0d0887"
             ],
             [
              0.1111111111111111,
              "#46039f"
             ],
             [
              0.2222222222222222,
              "#7201a8"
             ],
             [
              0.3333333333333333,
              "#9c179e"
             ],
             [
              0.4444444444444444,
              "#bd3786"
             ],
             [
              0.5555555555555556,
              "#d8576b"
             ],
             [
              0.6666666666666666,
              "#ed7953"
             ],
             [
              0.7777777777777778,
              "#fb9f3a"
             ],
             [
              0.8888888888888888,
              "#fdca26"
             ],
             [
              1,
              "#f0f921"
             ]
            ],
            "type": "heatmap"
           }
          ],
          "heatmapgl": [
           {
            "colorbar": {
             "outlinewidth": 0,
             "ticks": ""
            },
            "colorscale": [
             [
              0,
              "#0d0887"
             ],
             [
              0.1111111111111111,
              "#46039f"
             ],
             [
              0.2222222222222222,
              "#7201a8"
             ],
             [
              0.3333333333333333,
              "#9c179e"
             ],
             [
              0.4444444444444444,
              "#bd3786"
             ],
             [
              0.5555555555555556,
              "#d8576b"
             ],
             [
              0.6666666666666666,
              "#ed7953"
             ],
             [
              0.7777777777777778,
              "#fb9f3a"
             ],
             [
              0.8888888888888888,
              "#fdca26"
             ],
             [
              1,
              "#f0f921"
             ]
            ],
            "type": "heatmapgl"
           }
          ],
          "histogram": [
           {
            "marker": {
             "pattern": {
              "fillmode": "overlay",
              "size": 10,
              "solidity": 0.2
             }
            },
            "type": "histogram"
           }
          ],
          "histogram2d": [
           {
            "colorbar": {
             "outlinewidth": 0,
             "ticks": ""
            },
            "colorscale": [
             [
              0,
              "#0d0887"
             ],
             [
              0.1111111111111111,
              "#46039f"
             ],
             [
              0.2222222222222222,
              "#7201a8"
             ],
             [
              0.3333333333333333,
              "#9c179e"
             ],
             [
              0.4444444444444444,
              "#bd3786"
             ],
             [
              0.5555555555555556,
              "#d8576b"
             ],
             [
              0.6666666666666666,
              "#ed7953"
             ],
             [
              0.7777777777777778,
              "#fb9f3a"
             ],
             [
              0.8888888888888888,
              "#fdca26"
             ],
             [
              1,
              "#f0f921"
             ]
            ],
            "type": "histogram2d"
           }
          ],
          "histogram2dcontour": [
           {
            "colorbar": {
             "outlinewidth": 0,
             "ticks": ""
            },
            "colorscale": [
             [
              0,
              "#0d0887"
             ],
             [
              0.1111111111111111,
              "#46039f"
             ],
             [
              0.2222222222222222,
              "#7201a8"
             ],
             [
              0.3333333333333333,
              "#9c179e"
             ],
             [
              0.4444444444444444,
              "#bd3786"
             ],
             [
              0.5555555555555556,
              "#d8576b"
             ],
             [
              0.6666666666666666,
              "#ed7953"
             ],
             [
              0.7777777777777778,
              "#fb9f3a"
             ],
             [
              0.8888888888888888,
              "#fdca26"
             ],
             [
              1,
              "#f0f921"
             ]
            ],
            "type": "histogram2dcontour"
           }
          ],
          "mesh3d": [
           {
            "colorbar": {
             "outlinewidth": 0,
             "ticks": ""
            },
            "type": "mesh3d"
           }
          ],
          "parcoords": [
           {
            "line": {
             "colorbar": {
              "outlinewidth": 0,
              "ticks": ""
             }
            },
            "type": "parcoords"
           }
          ],
          "pie": [
           {
            "automargin": true,
            "type": "pie"
           }
          ],
          "scatter": [
           {
            "fillpattern": {
             "fillmode": "overlay",
             "size": 10,
             "solidity": 0.2
            },
            "type": "scatter"
           }
          ],
          "scatter3d": [
           {
            "line": {
             "colorbar": {
              "outlinewidth": 0,
              "ticks": ""
             }
            },
            "marker": {
             "colorbar": {
              "outlinewidth": 0,
              "ticks": ""
             }
            },
            "type": "scatter3d"
           }
          ],
          "scattercarpet": [
           {
            "marker": {
             "colorbar": {
              "outlinewidth": 0,
              "ticks": ""
             }
            },
            "type": "scattercarpet"
           }
          ],
          "scattergeo": [
           {
            "marker": {
             "colorbar": {
              "outlinewidth": 0,
              "ticks": ""
             }
            },
            "type": "scattergeo"
           }
          ],
          "scattergl": [
           {
            "marker": {
             "colorbar": {
              "outlinewidth": 0,
              "ticks": ""
             }
            },
            "type": "scattergl"
           }
          ],
          "scattermapbox": [
           {
            "marker": {
             "colorbar": {
              "outlinewidth": 0,
              "ticks": ""
             }
            },
            "type": "scattermapbox"
           }
          ],
          "scatterpolar": [
           {
            "marker": {
             "colorbar": {
              "outlinewidth": 0,
              "ticks": ""
             }
            },
            "type": "scatterpolar"
           }
          ],
          "scatterpolargl": [
           {
            "marker": {
             "colorbar": {
              "outlinewidth": 0,
              "ticks": ""
             }
            },
            "type": "scatterpolargl"
           }
          ],
          "scatterternary": [
           {
            "marker": {
             "colorbar": {
              "outlinewidth": 0,
              "ticks": ""
             }
            },
            "type": "scatterternary"
           }
          ],
          "surface": [
           {
            "colorbar": {
             "outlinewidth": 0,
             "ticks": ""
            },
            "colorscale": [
             [
              0,
              "#0d0887"
             ],
             [
              0.1111111111111111,
              "#46039f"
             ],
             [
              0.2222222222222222,
              "#7201a8"
             ],
             [
              0.3333333333333333,
              "#9c179e"
             ],
             [
              0.4444444444444444,
              "#bd3786"
             ],
             [
              0.5555555555555556,
              "#d8576b"
             ],
             [
              0.6666666666666666,
              "#ed7953"
             ],
             [
              0.7777777777777778,
              "#fb9f3a"
             ],
             [
              0.8888888888888888,
              "#fdca26"
             ],
             [
              1,
              "#f0f921"
             ]
            ],
            "type": "surface"
           }
          ],
          "table": [
           {
            "cells": {
             "fill": {
              "color": "#EBF0F8"
             },
             "line": {
              "color": "white"
             }
            },
            "header": {
             "fill": {
              "color": "#C8D4E3"
             },
             "line": {
              "color": "white"
             }
            },
            "type": "table"
           }
          ]
         },
         "layout": {
          "annotationdefaults": {
           "arrowcolor": "#2a3f5f",
           "arrowhead": 0,
           "arrowwidth": 1
          },
          "autotypenumbers": "strict",
          "coloraxis": {
           "colorbar": {
            "outlinewidth": 0,
            "ticks": ""
           }
          },
          "colorscale": {
           "diverging": [
            [
             0,
             "#8e0152"
            ],
            [
             0.1,
             "#c51b7d"
            ],
            [
             0.2,
             "#de77ae"
            ],
            [
             0.3,
             "#f1b6da"
            ],
            [
             0.4,
             "#fde0ef"
            ],
            [
             0.5,
             "#f7f7f7"
            ],
            [
             0.6,
             "#e6f5d0"
            ],
            [
             0.7,
             "#b8e186"
            ],
            [
             0.8,
             "#7fbc41"
            ],
            [
             0.9,
             "#4d9221"
            ],
            [
             1,
             "#276419"
            ]
           ],
           "sequential": [
            [
             0,
             "#0d0887"
            ],
            [
             0.1111111111111111,
             "#46039f"
            ],
            [
             0.2222222222222222,
             "#7201a8"
            ],
            [
             0.3333333333333333,
             "#9c179e"
            ],
            [
             0.4444444444444444,
             "#bd3786"
            ],
            [
             0.5555555555555556,
             "#d8576b"
            ],
            [
             0.6666666666666666,
             "#ed7953"
            ],
            [
             0.7777777777777778,
             "#fb9f3a"
            ],
            [
             0.8888888888888888,
             "#fdca26"
            ],
            [
             1,
             "#f0f921"
            ]
           ],
           "sequentialminus": [
            [
             0,
             "#0d0887"
            ],
            [
             0.1111111111111111,
             "#46039f"
            ],
            [
             0.2222222222222222,
             "#7201a8"
            ],
            [
             0.3333333333333333,
             "#9c179e"
            ],
            [
             0.4444444444444444,
             "#bd3786"
            ],
            [
             0.5555555555555556,
             "#d8576b"
            ],
            [
             0.6666666666666666,
             "#ed7953"
            ],
            [
             0.7777777777777778,
             "#fb9f3a"
            ],
            [
             0.8888888888888888,
             "#fdca26"
            ],
            [
             1,
             "#f0f921"
            ]
           ]
          },
          "colorway": [
           "#636efa",
           "#EF553B",
           "#00cc96",
           "#ab63fa",
           "#FFA15A",
           "#19d3f3",
           "#FF6692",
           "#B6E880",
           "#FF97FF",
           "#FECB52"
          ],
          "font": {
           "color": "#2a3f5f"
          },
          "geo": {
           "bgcolor": "white",
           "lakecolor": "white",
           "landcolor": "#E5ECF6",
           "showlakes": true,
           "showland": true,
           "subunitcolor": "white"
          },
          "hoverlabel": {
           "align": "left"
          },
          "hovermode": "closest",
          "mapbox": {
           "style": "light"
          },
          "paper_bgcolor": "white",
          "plot_bgcolor": "#E5ECF6",
          "polar": {
           "angularaxis": {
            "gridcolor": "white",
            "linecolor": "white",
            "ticks": ""
           },
           "bgcolor": "#E5ECF6",
           "radialaxis": {
            "gridcolor": "white",
            "linecolor": "white",
            "ticks": ""
           }
          },
          "scene": {
           "xaxis": {
            "backgroundcolor": "#E5ECF6",
            "gridcolor": "white",
            "gridwidth": 2,
            "linecolor": "white",
            "showbackground": true,
            "ticks": "",
            "zerolinecolor": "white"
           },
           "yaxis": {
            "backgroundcolor": "#E5ECF6",
            "gridcolor": "white",
            "gridwidth": 2,
            "linecolor": "white",
            "showbackground": true,
            "ticks": "",
            "zerolinecolor": "white"
           },
           "zaxis": {
            "backgroundcolor": "#E5ECF6",
            "gridcolor": "white",
            "gridwidth": 2,
            "linecolor": "white",
            "showbackground": true,
            "ticks": "",
            "zerolinecolor": "white"
           }
          },
          "shapedefaults": {
           "line": {
            "color": "#2a3f5f"
           }
          },
          "ternary": {
           "aaxis": {
            "gridcolor": "white",
            "linecolor": "white",
            "ticks": ""
           },
           "baxis": {
            "gridcolor": "white",
            "linecolor": "white",
            "ticks": ""
           },
           "bgcolor": "#E5ECF6",
           "caxis": {
            "gridcolor": "white",
            "linecolor": "white",
            "ticks": ""
           }
          },
          "title": {
           "x": 0.05
          },
          "xaxis": {
           "automargin": true,
           "gridcolor": "white",
           "linecolor": "white",
           "ticks": "",
           "title": {
            "standoff": 15
           },
           "zerolinecolor": "white",
           "zerolinewidth": 2
          },
          "yaxis": {
           "automargin": true,
           "gridcolor": "white",
           "linecolor": "white",
           "ticks": "",
           "title": {
            "standoff": 15
           },
           "zerolinecolor": "white",
           "zerolinewidth": 2
          }
         }
        },
        "title": {
         "text": "Total time spent servicing soft IRQs"
        },
        "xaxis": {
         "anchor": "y",
         "domain": [
          0,
          1
         ],
         "title": {
          "text": "Packets Per Second (thousand)"
         }
        },
        "yaxis": {
         "anchor": "x",
         "domain": [
          0,
          1
         ],
         "title": {
          "text": "Time (usecs)"
         }
        }
       }
      }
     },
     "metadata": {},
     "output_type": "display_data"
    }
   ],
   "source": [
    "softirqs_count_df = spark.read.option(\"basePath\", \"../ansible/.results\").json(\n",
    "\"../ansible/.results/kpps=*/tool=softirqs-count\")\n",
    "# print(df.rdd.getNumPartitions())\n",
    "import plotly.express as px\n",
    "softirqs_count_fig = px.bar(softirqs_count_df.toPandas(), x=\"kpps\", y=\"count\", color=\"softirq\",\n",
    "            title=\"Total time spent servicing soft IRQs\",\n",
    "            labels={\n",
    "                    \"kpps\": \"Packets Per Second (thousand)\",\n",
    "                    \"count\": \"Time (usecs)\",\n",
    "                    \"hardirq\": \"Hardware Interupts\"\n",
    "                })\n",
    "softirqs_count_fig.show()\n",
    "softirqs_count_fig.write_image(\"images/softirqs-count.jpeg\")\n",
    "with open(html_output_file, 'a') as f:\n",
    "    f.write(softirqs_count_fig.to_html(full_html=False, include_plotlyjs='cdn'))"
   ]
  },
  {
   "cell_type": "code",
   "execution_count": 28,
   "metadata": {},
   "outputs": [
    {
     "data": {
      "application/vnd.plotly.v1+json": {
       "config": {
        "plotlyServerURL": "https://plot.ly"
       },
       "data": [
        {
         "alignmentgroup": "True",
         "hovertemplate": "Packets Per Second (thousand)=1<br>Time (usecs)=%{x}<br>Number of Soft IRQs=%{y}<extra></extra>",
         "legendgroup": "1",
         "marker": {
          "color": "#0d0887",
          "pattern": {
           "shape": ""
          }
         },
         "name": "1",
         "offsetgroup": "1",
         "orientation": "v",
         "showlegend": true,
         "textposition": "auto",
         "type": "bar",
         "x": [
          "0-1",
          "2-3",
          "4-7",
          "8-15",
          "16-31",
          "32-63",
          "0-1",
          "2-3",
          "4-7",
          "8-15",
          "16-31",
          "32-63",
          "64-127",
          "128-255",
          "0-1",
          "2-3",
          "4-7",
          "8-15",
          "16-31",
          "32-63",
          "64-127",
          "0-1",
          "2-3",
          "4-7",
          "8-15",
          "16-31",
          "32-63",
          "64-127",
          "128-255",
          "0-1",
          "2-3",
          "4-7",
          "8-15",
          "16-31",
          "32-63",
          "64-127",
          "128-255"
         ],
         "xaxis": "x",
         "y": [
          302,
          1658,
          1733,
          238,
          39,
          1,
          0,
          0,
          6,
          19,
          46,
          18,
          17,
          1,
          233,
          984,
          1598,
          1263,
          127,
          10,
          1,
          9,
          24,
          106,
          109,
          42,
          6,
          3,
          2,
          570,
          875,
          505,
          337,
          136,
          35,
          11,
          1
         ],
         "yaxis": "y"
        },
        {
         "alignmentgroup": "True",
         "hovertemplate": "Packets Per Second (thousand)=5<br>Time (usecs)=%{x}<br>Number of Soft IRQs=%{y}<extra></extra>",
         "legendgroup": "5",
         "marker": {
          "color": "#46039f",
          "pattern": {
           "shape": ""
          }
         },
         "name": "5",
         "offsetgroup": "5",
         "orientation": "v",
         "showlegend": true,
         "textposition": "auto",
         "type": "bar",
         "x": [
          "0-1",
          "2-3",
          "4-7",
          "8-15",
          "16-31",
          "32-63",
          "64-127",
          "128-255",
          "0-1",
          "2-3",
          "4-7",
          "8-15",
          "16-31",
          "32-63",
          "64-127",
          "0-1",
          "2-3",
          "4-7",
          "8-15",
          "16-31",
          "32-63",
          "64-127",
          "128-255",
          "0-1",
          "2-3",
          "4-7",
          "8-15",
          "16-31",
          "32-63",
          "0-1",
          "2-3",
          "4-7",
          "8-15",
          "16-31",
          "32-63",
          "64-127"
         ],
         "xaxis": "x",
         "y": [
          0,
          1,
          6,
          6,
          34,
          23,
          18,
          4,
          69,
          342,
          1063,
          1049,
          162,
          28,
          1,
          814,
          987,
          501,
          355,
          112,
          18,
          11,
          1,
          3,
          29,
          91,
          70,
          21,
          7,
          229,
          922,
          1254,
          324,
          114,
          12,
          3
         ],
         "yaxis": "y"
        },
        {
         "alignmentgroup": "True",
         "hovertemplate": "Packets Per Second (thousand)=10<br>Time (usecs)=%{x}<br>Number of Soft IRQs=%{y}<extra></extra>",
         "legendgroup": "10",
         "marker": {
          "color": "#7201a8",
          "pattern": {
           "shape": ""
          }
         },
         "name": "10",
         "offsetgroup": "10",
         "orientation": "v",
         "showlegend": true,
         "textposition": "auto",
         "type": "bar",
         "x": [
          "0-1",
          "2-3",
          "4-7",
          "8-15",
          "16-31",
          "32-63",
          "64-127",
          "128-255",
          "0-1",
          "2-3",
          "4-7",
          "8-15",
          "16-31",
          "32-63",
          "0-1",
          "2-3",
          "4-7",
          "8-15",
          "16-31",
          "32-63",
          "0-1",
          "2-3",
          "4-7",
          "8-15",
          "16-31",
          "32-63",
          "0-1",
          "2-3",
          "4-7",
          "8-15",
          "16-31",
          "32-63",
          "64-127",
          "128-255"
         ],
         "xaxis": "x",
         "y": [
          0,
          3,
          7,
          9,
          35,
          20,
          16,
          2,
          412,
          1529,
          1715,
          277,
          51,
          3,
          15,
          53,
          116,
          86,
          27,
          5,
          205,
          1107,
          1549,
          1100,
          105,
          14,
          750,
          931,
          424,
          303,
          125,
          30,
          15,
          1
         ],
         "yaxis": "y"
        },
        {
         "alignmentgroup": "True",
         "hovertemplate": "Packets Per Second (thousand)=50<br>Time (usecs)=%{x}<br>Number of Soft IRQs=%{y}<extra></extra>",
         "legendgroup": "50",
         "marker": {
          "color": "#9c179e",
          "pattern": {
           "shape": ""
          }
         },
         "name": "50",
         "offsetgroup": "50",
         "orientation": "v",
         "showlegend": true,
         "textposition": "auto",
         "type": "bar",
         "x": [
          "0-1",
          "2-3",
          "4-7",
          "8-15",
          "16-31",
          "32-63",
          "64-127",
          "0-1",
          "2-3",
          "4-7",
          "8-15",
          "16-31",
          "32-63",
          "64-127",
          "128-255",
          "0-1",
          "2-3",
          "4-7",
          "8-15",
          "16-31",
          "32-63",
          "64-127",
          "0-1",
          "2-3",
          "4-7",
          "8-15",
          "16-31",
          "32-63",
          "64-127",
          "128-255",
          "0-1",
          "2-3",
          "4-7",
          "8-15",
          "16-31",
          "32-63",
          "64-127"
         ],
         "xaxis": "x",
         "y": [
          8,
          31,
          111,
          74,
          19,
          1,
          1,
          962,
          867,
          472,
          328,
          127,
          23,
          4,
          1,
          276,
          1567,
          1205,
          216,
          89,
          12,
          6,
          0,
          3,
          3,
          23,
          28,
          15,
          16,
          2,
          40,
          415,
          1639,
          1027,
          123,
          34,
          7
         ],
         "yaxis": "y"
        },
        {
         "alignmentgroup": "True",
         "hovertemplate": "Packets Per Second (thousand)=100<br>Time (usecs)=%{x}<br>Number of Soft IRQs=%{y}<extra></extra>",
         "legendgroup": "100",
         "marker": {
          "color": "#bd3786",
          "pattern": {
           "shape": ""
          }
         },
         "name": "100",
         "offsetgroup": "100",
         "orientation": "v",
         "showlegend": true,
         "textposition": "auto",
         "type": "bar",
         "x": [
          "0-1",
          "2-3",
          "4-7",
          "8-15",
          "16-31",
          "32-63",
          "64-127",
          "128-255",
          "0-1",
          "2-3",
          "4-7",
          "8-15",
          "16-31",
          "32-63",
          "64-127",
          "0-1",
          "2-3",
          "4-7",
          "8-15",
          "16-31",
          "32-63",
          "64-127",
          "0-1",
          "2-3",
          "4-7",
          "8-15",
          "16-31",
          "32-63",
          "64-127",
          "0-1",
          "2-3",
          "4-7",
          "8-15",
          "16-31",
          "32-63"
         ],
         "xaxis": "x",
         "y": [
          0,
          7,
          1,
          12,
          24,
          17,
          22,
          3,
          927,
          856,
          498,
          310,
          101,
          19,
          8,
          285,
          948,
          748,
          271,
          90,
          1,
          1,
          65,
          59,
          139,
          77,
          27,
          5,
          4,
          94,
          340,
          895,
          746,
          143,
          28
         ],
         "yaxis": "y"
        },
        {
         "alignmentgroup": "True",
         "hovertemplate": "Packets Per Second (thousand)=200<br>Time (usecs)=%{x}<br>Number of Soft IRQs=%{y}<extra></extra>",
         "legendgroup": "200",
         "marker": {
          "color": "#d8576b",
          "pattern": {
           "shape": ""
          }
         },
         "name": "200",
         "offsetgroup": "200",
         "orientation": "v",
         "showlegend": true,
         "textposition": "auto",
         "type": "bar",
         "x": [
          "0-1",
          "2-3",
          "4-7",
          "8-15",
          "16-31",
          "32-63",
          "64-127",
          "128-255",
          "0-1",
          "2-3",
          "4-7",
          "8-15",
          "16-31",
          "32-63",
          "64-127",
          "0-1",
          "2-3",
          "4-7",
          "8-15",
          "16-31",
          "32-63",
          "64-127",
          "128-255",
          "0-1",
          "2-3",
          "4-7",
          "8-15",
          "16-31",
          "32-63",
          "0-1",
          "2-3",
          "4-7",
          "8-15",
          "16-31",
          "32-63"
         ],
         "xaxis": "x",
         "y": [
          0,
          5,
          2,
          19,
          23,
          18,
          18,
          4,
          346,
          913,
          671,
          261,
          108,
          3,
          1,
          865,
          870,
          471,
          302,
          95,
          18,
          9,
          2,
          84,
          306,
          858,
          748,
          163,
          21,
          36,
          76,
          167,
          77,
          17,
          2
         ],
         "yaxis": "y"
        },
        {
         "alignmentgroup": "True",
         "hovertemplate": "Packets Per Second (thousand)=300<br>Time (usecs)=%{x}<br>Number of Soft IRQs=%{y}<extra></extra>",
         "legendgroup": "300",
         "marker": {
          "color": "#ed7953",
          "pattern": {
           "shape": ""
          }
         },
         "name": "300",
         "offsetgroup": "300",
         "orientation": "v",
         "showlegend": true,
         "textposition": "auto",
         "type": "bar",
         "x": [
          "0-1",
          "2-3",
          "4-7",
          "8-15",
          "16-31",
          "32-63",
          "64-127",
          "0-1",
          "2-3",
          "4-7",
          "8-15",
          "16-31",
          "32-63",
          "64-127",
          "128-255",
          "0-1",
          "2-3",
          "4-7",
          "8-15",
          "16-31",
          "32-63",
          "0-1",
          "2-3",
          "4-7",
          "8-15",
          "16-31",
          "32-63",
          "64-127",
          "0-1",
          "2-3",
          "4-7",
          "8-15",
          "16-31",
          "32-63",
          "64-127",
          "128-255"
         ],
         "xaxis": "x",
         "y": [
          335,
          720,
          761,
          279,
          101,
          4,
          2,
          914,
          953,
          507,
          318,
          101,
          15,
          5,
          1,
          62,
          289,
          824,
          723,
          199,
          20,
          4,
          50,
          93,
          82,
          20,
          6,
          2,
          0,
          2,
          2,
          19,
          27,
          12,
          26,
          3
         ],
         "yaxis": "y"
        },
        {
         "alignmentgroup": "True",
         "hovertemplate": "Packets Per Second (thousand)=400<br>Time (usecs)=%{x}<br>Number of Soft IRQs=%{y}<extra></extra>",
         "legendgroup": "400",
         "marker": {
          "color": "#fb9f3a",
          "pattern": {
           "shape": ""
          }
         },
         "name": "400",
         "offsetgroup": "400",
         "orientation": "v",
         "showlegend": true,
         "textposition": "auto",
         "type": "bar",
         "x": [
          "0-1",
          "2-3",
          "4-7",
          "8-15",
          "16-31",
          "32-63",
          "64-127",
          "0-1",
          "2-3",
          "4-7",
          "8-15",
          "16-31",
          "32-63",
          "64-127",
          "0-1",
          "2-3",
          "4-7",
          "8-15",
          "16-31",
          "32-63",
          "64-127",
          "0-1",
          "2-3",
          "4-7",
          "8-15",
          "16-31",
          "32-63",
          "64-127",
          "0-1",
          "2-3",
          "4-7",
          "8-15",
          "16-31",
          "32-63",
          "64-127",
          "128-255"
         ],
         "xaxis": "x",
         "y": [
          77,
          317,
          907,
          797,
          125,
          26,
          2,
          5,
          35,
          115,
          70,
          26,
          4,
          1,
          0,
          2,
          2,
          20,
          24,
          20,
          22,
          283,
          698,
          949,
          378,
          98,
          1,
          3,
          998,
          1011,
          494,
          344,
          95,
          9,
          7,
          1
         ],
         "yaxis": "y"
        },
        {
         "alignmentgroup": "True",
         "hovertemplate": "Packets Per Second (thousand)=500<br>Time (usecs)=%{x}<br>Number of Soft IRQs=%{y}<extra></extra>",
         "legendgroup": "500",
         "marker": {
          "color": "#fdca26",
          "pattern": {
           "shape": ""
          }
         },
         "name": "500",
         "offsetgroup": "500",
         "orientation": "v",
         "showlegend": true,
         "textposition": "auto",
         "type": "bar",
         "x": [
          "0-1",
          "2-3",
          "4-7",
          "8-15",
          "16-31",
          "32-63",
          "64-127",
          "0-1",
          "2-3",
          "4-7",
          "8-15",
          "16-31",
          "32-63",
          "0-1",
          "2-3",
          "4-7",
          "8-15",
          "16-31",
          "32-63",
          "64-127",
          "0-1",
          "2-3",
          "4-7",
          "8-15",
          "16-31",
          "32-63",
          "64-127",
          "128-255",
          "0-1",
          "2-3",
          "4-7",
          "8-15",
          "16-31",
          "32-63"
         ],
         "xaxis": "x",
         "y": [
          366,
          1130,
          731,
          251,
          60,
          1,
          1,
          104,
          369,
          1037,
          817,
          91,
          16,
          0,
          2,
          3,
          23,
          35,
          21,
          8,
          1061,
          959,
          486,
          293,
          80,
          14,
          13,
          1,
          15,
          57,
          137,
          84,
          15,
          2
         ],
         "yaxis": "y"
        }
       ],
       "layout": {
        "barmode": "group",
        "legend": {
         "title": {
          "text": "Packets Per Second (thousand)"
         },
         "tracegroupgap": 0
        },
        "template": {
         "data": {
          "bar": [
           {
            "error_x": {
             "color": "#2a3f5f"
            },
            "error_y": {
             "color": "#2a3f5f"
            },
            "marker": {
             "line": {
              "color": "#E5ECF6",
              "width": 0.5
             },
             "pattern": {
              "fillmode": "overlay",
              "size": 10,
              "solidity": 0.2
             }
            },
            "type": "bar"
           }
          ],
          "barpolar": [
           {
            "marker": {
             "line": {
              "color": "#E5ECF6",
              "width": 0.5
             },
             "pattern": {
              "fillmode": "overlay",
              "size": 10,
              "solidity": 0.2
             }
            },
            "type": "barpolar"
           }
          ],
          "carpet": [
           {
            "aaxis": {
             "endlinecolor": "#2a3f5f",
             "gridcolor": "white",
             "linecolor": "white",
             "minorgridcolor": "white",
             "startlinecolor": "#2a3f5f"
            },
            "baxis": {
             "endlinecolor": "#2a3f5f",
             "gridcolor": "white",
             "linecolor": "white",
             "minorgridcolor": "white",
             "startlinecolor": "#2a3f5f"
            },
            "type": "carpet"
           }
          ],
          "choropleth": [
           {
            "colorbar": {
             "outlinewidth": 0,
             "ticks": ""
            },
            "type": "choropleth"
           }
          ],
          "contour": [
           {
            "colorbar": {
             "outlinewidth": 0,
             "ticks": ""
            },
            "colorscale": [
             [
              0,
              "#0d0887"
             ],
             [
              0.1111111111111111,
              "#46039f"
             ],
             [
              0.2222222222222222,
              "#7201a8"
             ],
             [
              0.3333333333333333,
              "#9c179e"
             ],
             [
              0.4444444444444444,
              "#bd3786"
             ],
             [
              0.5555555555555556,
              "#d8576b"
             ],
             [
              0.6666666666666666,
              "#ed7953"
             ],
             [
              0.7777777777777778,
              "#fb9f3a"
             ],
             [
              0.8888888888888888,
              "#fdca26"
             ],
             [
              1,
              "#f0f921"
             ]
            ],
            "type": "contour"
           }
          ],
          "contourcarpet": [
           {
            "colorbar": {
             "outlinewidth": 0,
             "ticks": ""
            },
            "type": "contourcarpet"
           }
          ],
          "heatmap": [
           {
            "colorbar": {
             "outlinewidth": 0,
             "ticks": ""
            },
            "colorscale": [
             [
              0,
              "#0d0887"
             ],
             [
              0.1111111111111111,
              "#46039f"
             ],
             [
              0.2222222222222222,
              "#7201a8"
             ],
             [
              0.3333333333333333,
              "#9c179e"
             ],
             [
              0.4444444444444444,
              "#bd3786"
             ],
             [
              0.5555555555555556,
              "#d8576b"
             ],
             [
              0.6666666666666666,
              "#ed7953"
             ],
             [
              0.7777777777777778,
              "#fb9f3a"
             ],
             [
              0.8888888888888888,
              "#fdca26"
             ],
             [
              1,
              "#f0f921"
             ]
            ],
            "type": "heatmap"
           }
          ],
          "heatmapgl": [
           {
            "colorbar": {
             "outlinewidth": 0,
             "ticks": ""
            },
            "colorscale": [
             [
              0,
              "#0d0887"
             ],
             [
              0.1111111111111111,
              "#46039f"
             ],
             [
              0.2222222222222222,
              "#7201a8"
             ],
             [
              0.3333333333333333,
              "#9c179e"
             ],
             [
              0.4444444444444444,
              "#bd3786"
             ],
             [
              0.5555555555555556,
              "#d8576b"
             ],
             [
              0.6666666666666666,
              "#ed7953"
             ],
             [
              0.7777777777777778,
              "#fb9f3a"
             ],
             [
              0.8888888888888888,
              "#fdca26"
             ],
             [
              1,
              "#f0f921"
             ]
            ],
            "type": "heatmapgl"
           }
          ],
          "histogram": [
           {
            "marker": {
             "pattern": {
              "fillmode": "overlay",
              "size": 10,
              "solidity": 0.2
             }
            },
            "type": "histogram"
           }
          ],
          "histogram2d": [
           {
            "colorbar": {
             "outlinewidth": 0,
             "ticks": ""
            },
            "colorscale": [
             [
              0,
              "#0d0887"
             ],
             [
              0.1111111111111111,
              "#46039f"
             ],
             [
              0.2222222222222222,
              "#7201a8"
             ],
             [
              0.3333333333333333,
              "#9c179e"
             ],
             [
              0.4444444444444444,
              "#bd3786"
             ],
             [
              0.5555555555555556,
              "#d8576b"
             ],
             [
              0.6666666666666666,
              "#ed7953"
             ],
             [
              0.7777777777777778,
              "#fb9f3a"
             ],
             [
              0.8888888888888888,
              "#fdca26"
             ],
             [
              1,
              "#f0f921"
             ]
            ],
            "type": "histogram2d"
           }
          ],
          "histogram2dcontour": [
           {
            "colorbar": {
             "outlinewidth": 0,
             "ticks": ""
            },
            "colorscale": [
             [
              0,
              "#0d0887"
             ],
             [
              0.1111111111111111,
              "#46039f"
             ],
             [
              0.2222222222222222,
              "#7201a8"
             ],
             [
              0.3333333333333333,
              "#9c179e"
             ],
             [
              0.4444444444444444,
              "#bd3786"
             ],
             [
              0.5555555555555556,
              "#d8576b"
             ],
             [
              0.6666666666666666,
              "#ed7953"
             ],
             [
              0.7777777777777778,
              "#fb9f3a"
             ],
             [
              0.8888888888888888,
              "#fdca26"
             ],
             [
              1,
              "#f0f921"
             ]
            ],
            "type": "histogram2dcontour"
           }
          ],
          "mesh3d": [
           {
            "colorbar": {
             "outlinewidth": 0,
             "ticks": ""
            },
            "type": "mesh3d"
           }
          ],
          "parcoords": [
           {
            "line": {
             "colorbar": {
              "outlinewidth": 0,
              "ticks": ""
             }
            },
            "type": "parcoords"
           }
          ],
          "pie": [
           {
            "automargin": true,
            "type": "pie"
           }
          ],
          "scatter": [
           {
            "fillpattern": {
             "fillmode": "overlay",
             "size": 10,
             "solidity": 0.2
            },
            "type": "scatter"
           }
          ],
          "scatter3d": [
           {
            "line": {
             "colorbar": {
              "outlinewidth": 0,
              "ticks": ""
             }
            },
            "marker": {
             "colorbar": {
              "outlinewidth": 0,
              "ticks": ""
             }
            },
            "type": "scatter3d"
           }
          ],
          "scattercarpet": [
           {
            "marker": {
             "colorbar": {
              "outlinewidth": 0,
              "ticks": ""
             }
            },
            "type": "scattercarpet"
           }
          ],
          "scattergeo": [
           {
            "marker": {
             "colorbar": {
              "outlinewidth": 0,
              "ticks": ""
             }
            },
            "type": "scattergeo"
           }
          ],
          "scattergl": [
           {
            "marker": {
             "colorbar": {
              "outlinewidth": 0,
              "ticks": ""
             }
            },
            "type": "scattergl"
           }
          ],
          "scattermapbox": [
           {
            "marker": {
             "colorbar": {
              "outlinewidth": 0,
              "ticks": ""
             }
            },
            "type": "scattermapbox"
           }
          ],
          "scatterpolar": [
           {
            "marker": {
             "colorbar": {
              "outlinewidth": 0,
              "ticks": ""
             }
            },
            "type": "scatterpolar"
           }
          ],
          "scatterpolargl": [
           {
            "marker": {
             "colorbar": {
              "outlinewidth": 0,
              "ticks": ""
             }
            },
            "type": "scatterpolargl"
           }
          ],
          "scatterternary": [
           {
            "marker": {
             "colorbar": {
              "outlinewidth": 0,
              "ticks": ""
             }
            },
            "type": "scatterternary"
           }
          ],
          "surface": [
           {
            "colorbar": {
             "outlinewidth": 0,
             "ticks": ""
            },
            "colorscale": [
             [
              0,
              "#0d0887"
             ],
             [
              0.1111111111111111,
              "#46039f"
             ],
             [
              0.2222222222222222,
              "#7201a8"
             ],
             [
              0.3333333333333333,
              "#9c179e"
             ],
             [
              0.4444444444444444,
              "#bd3786"
             ],
             [
              0.5555555555555556,
              "#d8576b"
             ],
             [
              0.6666666666666666,
              "#ed7953"
             ],
             [
              0.7777777777777778,
              "#fb9f3a"
             ],
             [
              0.8888888888888888,
              "#fdca26"
             ],
             [
              1,
              "#f0f921"
             ]
            ],
            "type": "surface"
           }
          ],
          "table": [
           {
            "cells": {
             "fill": {
              "color": "#EBF0F8"
             },
             "line": {
              "color": "white"
             }
            },
            "header": {
             "fill": {
              "color": "#C8D4E3"
             },
             "line": {
              "color": "white"
             }
            },
            "type": "table"
           }
          ]
         },
         "layout": {
          "annotationdefaults": {
           "arrowcolor": "#2a3f5f",
           "arrowhead": 0,
           "arrowwidth": 1
          },
          "autotypenumbers": "strict",
          "coloraxis": {
           "colorbar": {
            "outlinewidth": 0,
            "ticks": ""
           }
          },
          "colorscale": {
           "diverging": [
            [
             0,
             "#8e0152"
            ],
            [
             0.1,
             "#c51b7d"
            ],
            [
             0.2,
             "#de77ae"
            ],
            [
             0.3,
             "#f1b6da"
            ],
            [
             0.4,
             "#fde0ef"
            ],
            [
             0.5,
             "#f7f7f7"
            ],
            [
             0.6,
             "#e6f5d0"
            ],
            [
             0.7,
             "#b8e186"
            ],
            [
             0.8,
             "#7fbc41"
            ],
            [
             0.9,
             "#4d9221"
            ],
            [
             1,
             "#276419"
            ]
           ],
           "sequential": [
            [
             0,
             "#0d0887"
            ],
            [
             0.1111111111111111,
             "#46039f"
            ],
            [
             0.2222222222222222,
             "#7201a8"
            ],
            [
             0.3333333333333333,
             "#9c179e"
            ],
            [
             0.4444444444444444,
             "#bd3786"
            ],
            [
             0.5555555555555556,
             "#d8576b"
            ],
            [
             0.6666666666666666,
             "#ed7953"
            ],
            [
             0.7777777777777778,
             "#fb9f3a"
            ],
            [
             0.8888888888888888,
             "#fdca26"
            ],
            [
             1,
             "#f0f921"
            ]
           ],
           "sequentialminus": [
            [
             0,
             "#0d0887"
            ],
            [
             0.1111111111111111,
             "#46039f"
            ],
            [
             0.2222222222222222,
             "#7201a8"
            ],
            [
             0.3333333333333333,
             "#9c179e"
            ],
            [
             0.4444444444444444,
             "#bd3786"
            ],
            [
             0.5555555555555556,
             "#d8576b"
            ],
            [
             0.6666666666666666,
             "#ed7953"
            ],
            [
             0.7777777777777778,
             "#fb9f3a"
            ],
            [
             0.8888888888888888,
             "#fdca26"
            ],
            [
             1,
             "#f0f921"
            ]
           ]
          },
          "colorway": [
           "#636efa",
           "#EF553B",
           "#00cc96",
           "#ab63fa",
           "#FFA15A",
           "#19d3f3",
           "#FF6692",
           "#B6E880",
           "#FF97FF",
           "#FECB52"
          ],
          "font": {
           "color": "#2a3f5f"
          },
          "geo": {
           "bgcolor": "white",
           "lakecolor": "white",
           "landcolor": "#E5ECF6",
           "showlakes": true,
           "showland": true,
           "subunitcolor": "white"
          },
          "hoverlabel": {
           "align": "left"
          },
          "hovermode": "closest",
          "mapbox": {
           "style": "light"
          },
          "paper_bgcolor": "white",
          "plot_bgcolor": "#E5ECF6",
          "polar": {
           "angularaxis": {
            "gridcolor": "white",
            "linecolor": "white",
            "ticks": ""
           },
           "bgcolor": "#E5ECF6",
           "radialaxis": {
            "gridcolor": "white",
            "linecolor": "white",
            "ticks": ""
           }
          },
          "scene": {
           "xaxis": {
            "backgroundcolor": "#E5ECF6",
            "gridcolor": "white",
            "gridwidth": 2,
            "linecolor": "white",
            "showbackground": true,
            "ticks": "",
            "zerolinecolor": "white"
           },
           "yaxis": {
            "backgroundcolor": "#E5ECF6",
            "gridcolor": "white",
            "gridwidth": 2,
            "linecolor": "white",
            "showbackground": true,
            "ticks": "",
            "zerolinecolor": "white"
           },
           "zaxis": {
            "backgroundcolor": "#E5ECF6",
            "gridcolor": "white",
            "gridwidth": 2,
            "linecolor": "white",
            "showbackground": true,
            "ticks": "",
            "zerolinecolor": "white"
           }
          },
          "shapedefaults": {
           "line": {
            "color": "#2a3f5f"
           }
          },
          "ternary": {
           "aaxis": {
            "gridcolor": "white",
            "linecolor": "white",
            "ticks": ""
           },
           "baxis": {
            "gridcolor": "white",
            "linecolor": "white",
            "ticks": ""
           },
           "bgcolor": "#E5ECF6",
           "caxis": {
            "gridcolor": "white",
            "linecolor": "white",
            "ticks": ""
           }
          },
          "title": {
           "x": 0.05
          },
          "xaxis": {
           "automargin": true,
           "gridcolor": "white",
           "linecolor": "white",
           "ticks": "",
           "title": {
            "standoff": 15
           },
           "zerolinecolor": "white",
           "zerolinewidth": 2
          },
          "yaxis": {
           "automargin": true,
           "gridcolor": "white",
           "linecolor": "white",
           "ticks": "",
           "title": {
            "standoff": 15
           },
           "zerolinecolor": "white",
           "zerolinewidth": 2
          }
         }
        },
        "title": {
         "text": "The number of SOFTIRQ per duration distribution"
        },
        "xaxis": {
         "anchor": "y",
         "domain": [
          0,
          1
         ],
         "title": {
          "text": "Time (usecs)"
         }
        },
        "yaxis": {
         "anchor": "x",
         "domain": [
          0,
          1
         ],
         "title": {
          "text": "Number of Soft IRQs"
         }
        }
       }
      }
     },
     "metadata": {},
     "output_type": "display_data"
    }
   ],
   "source": [
    "softirqs_dist_df = spark.read.option(\"basePath\", \"../ansible/.results\").json(\n",
    "\"../ansible/.results/kpps=*/tool=softirqs-dist\").select(\n",
    "    \"kpps\", \"ts\", \"val_type\", \"tool\",\n",
    "    explode(\"data\").alias(\"dataExplode\")\n",
    ").orderBy(col('kpps')).select(col(\"kpps\").cast(StringType()), \"ts\", \"val_type\", \"tool\", \"dataExplode.*\", concat_ws('-',col('dataExplode.interval-start'),col('dataExplode.interval-end')).alias(\"interval\"))\n",
    "import plotly.express as px\n",
    "# softirqs_dist_df = softirqs_dist_df.select(\"*\", concat_ws(' - ',col('interval-start'),col('interval-end')).alias(\"interval\"))\n",
    "softirqs_dist_fig = px.bar(softirqs_dist_df.toPandas(), x=\"interval\", y=\"count\", color=\"kpps\", barmode=\"group\",\n",
    "        title=\"The number of SOFTIRQ per duration distribution\",\n",
    "        color_discrete_sequence=px.colors.sequential.Plasma,\n",
    "        labels={\n",
    "                    \"kpps\": \"Packets Per Second (thousand)\",\n",
    "                    \"count\": \"Number of Soft IRQs\",\n",
    "                    \"interval\": \"Time (usecs)\"\n",
    "                })\n",
    "softirqs_dist_fig.show()\n",
    "softirqs_dist_fig.write_image(\"images/softirqs-dist.jpeg\")\n",
    "with open(html_output_file, 'a') as f:\n",
    "    f.write(softirqs_dist_fig.to_html(full_html=False, include_plotlyjs='cdn'))"
   ]
  },
  {
   "cell_type": "code",
   "execution_count": 30,
   "metadata": {},
   "outputs": [],
   "source": [
    "import base64\n",
    "\n",
    "file_list = glob.glob('../ansible/.results/kpps=*/tool=profile/*.txt')\n",
    "with open(html_output_file, 'a') as f:\n",
    "    f.write('<div id=\"profile\">')\n",
    "    for file in file_list:\n",
    "        try:\n",
    "            kpps = re.search('../ansible/.results/kpps=(.+?)/tool=profile/(.+?).txt', file).group(1)\n",
    "            os.system(\"../FlameGraph/flamegraph.pl --color=java --title='On-CPU Time Flame Graph for {} kpps' < {} > images/{}kpps_profile.svg\".format(kpps, file, kpps))\n",
    "            with open(\"images/{}kpps_profile.svg\".format(kpps), \"rb\") as image_file:\n",
    "                kpps_profile = str(base64.b64encode(image_file.read()),'utf-8')\n",
    "                f.write('<img id=\"1kpps_profile\" src=\"data:image/svg+xml;base64,{}\" />'.format(kpps_profile))\n",
    "        except AttributeError:\n",
    "            print(\"Error creating profile svg files\")\n",
    "\n",
    "    f.write('</div>')\n",
    "\n"
   ]
  },
  {
   "cell_type": "code",
   "execution_count": null,
   "metadata": {},
   "outputs": [],
   "source": [
    "with open(html_output_file, 'a') as f:\n",
    "    f.write('<div id=\"offcputime\">')\n",
    "    file_list = glob.glob('../ansible/.results/kpps=*/tool=offcputime/*.txt')\n",
    "    for file in file_list:\n",
    "        try:\n",
    "            kpps = re.search('../ansible/.results/kpps=(.+?)/tool=offcputime/(.+?).txt', file).group(1)\n",
    "            os.system(\"../FlameGraph/flamegraph.pl --hash --bgcolors=blue --title='Off-CPU Time Flame Graph for {} kpps' < {} > images/{}kpps_offcputime.svg\".format(kpps, file, kpps))\n",
    "            with open(\"images/{}kpps_offcputime.svg\".format(kpps), \"rb\") as image_file:\n",
    "                kpps_offcputime = str(base64.b64encode(image_file.read()),'utf-8')\n",
    "                f.write('<img src=\"data:image/svg+xml;base64,{}\" />'.format(kpps_offcputime))\n",
    "        except AttributeError:\n",
    "            print(\"Error creating offcputime svg files\")\n",
    "    f.write('</div>')"
   ]
  },
  {
   "cell_type": "code",
   "execution_count": null,
   "metadata": {},
   "outputs": [],
   "source": [
    "\n",
    "file_list = glob.glob('../ansible/.results/kpps=*/tool=page_fault-user/*.txt')\n",
    "with open(html_output_file, 'a') as f:\n",
    "    f.write('<div id=\"page_fault-user\">')\n",
    "    for file in file_list:\n",
    "        try:\n",
    "            kpps = re.search('../ansible/.results/kpps=(.+?)/tool=page_fault-user/(.+?).txt', file).group(1)\n",
    "            os.system(\"../FlameGraph/flamegraph.pl --hash --width=800 --title='Page Fault Flame Graph for {} kpps' --colors=java --bgcolor=green < {} > images/{}kpps_page_fault-user.svg\".format(kpps, file, kpps))\n",
    "            with open(\"images/{}kpps_page_fault-user.svg\".format(kpps), \"rb\") as image_file:\n",
    "                kpps_page_fault_user = str(base64.b64encode(image_file.read()),'utf-8')\n",
    "                f.write('<img src=\"data:image/svg+xml;base64,{}\" />'.format(kpps_page_fault_user))\n",
    "        except AttributeError:\n",
    "            print(\"Error creating page_fault-user svg files\")\n",
    "    f.write('</div>')"
   ]
  },
  {
   "cell_type": "code",
   "execution_count": null,
   "metadata": {},
   "outputs": [],
   "source": [
    "file_list = glob.glob('../ansible/.results/kpps=*/tool=page_fault-kernel/*.txt')\n",
    "with open(html_output_file, 'a') as f:\n",
    "    f.write('<div id=\"page_fault-kernel\">')\n",
    "    for file in file_list:\n",
    "        try:\n",
    "            kpps = re.search('../ansible/.results/kpps=(.+?)/tool=page_fault-kernel/(.+?).txt', file).group(1)\n",
    "            os.system(\"../FlameGraph/flamegraph.pl --hash --width=800 --title='Kernel Page Fault Flame Graph for {} kpps' --colors=java --bgcolor=green < {} > images/{}kpps_page_fault-kernel.svg\".format(kpps, file, kpps))\n",
    "            with open(\"images/{}kpps_page_fault-kernel.svg\".format(kpps), \"rb\") as image_file:\n",
    "                kpps_page_fault_kernel = str(base64.b64encode(image_file.read()),'utf-8')\n",
    "                f.write('<img src=\"data:image/svg+xml;base64,{}\" />'.format(kpps_page_fault_kernel))\n",
    "        except AttributeError:\n",
    "            print(\"Error creating page_fault-kernel svg files\")\n",
    "    f.write('</div>')"
   ]
  },
  {
   "cell_type": "code",
   "execution_count": null,
   "metadata": {},
   "outputs": [],
   "source": [
    "# import base64\n",
    "\n",
    "# with open('images/1kpps_profile.svg', \"rb\") as image_file:\n",
    "#     kpps_profile = str(base64.b64encode(image_file.read()),'utf-8')\n",
    "\n",
    "# with open('p_graph.html', 'a') as f:\n",
    "#     f.write('<h1>Open GiLAN Testbed Results</h1>')\n",
    "#     f.write('<div><a href=\"#1kpps_profile\">See code path</a></div>')\n",
    "#     f.write('<img id=\"1kpps_profile\" src=\"data:image/svg+xml;base64,{}\" />'.format(kpps_profile))\n",
    "#     f.write(biolatency_fig.to_html(full_html=False, include_plotlyjs='cdn'))\n",
    "#     f.write(skblife_fig.to_html(full_html=False, include_plotlyjs='cdn'))\n",
    "#     f.write(filetop_read_fig.to_html(full_html=False, include_plotlyjs='cdn'))\n",
    "#     f.write(filetop_write_fig.to_html(full_html=False, include_plotlyjs='cdn'))\n",
    "#     f.write(netsize_fig.to_html(full_html=False, include_plotlyjs='cdn'))\n",
    "#     f.write(runqlat_fig.to_html(full_html=False, include_plotlyjs='cdn'))\n",
    "#     f.write(cachestat_fig.to_html(full_html=False, include_plotlyjs='cdn'))\n",
    "#     f.write(sormem_fig.to_html(full_html=False, include_plotlyjs='cdn'))\n",
    "#     f.write(vfsstat_fig.to_html(full_html=False, include_plotlyjs='cdn'))\n",
    "#     f.write(hardirqs_count_fig.to_html(full_html=False, include_plotlyjs='cdn'))\n",
    "#     f.write(hardirqs_dist_fig.to_html(full_html=False, include_plotlyjs='cdn'))\n",
    "#     f.write(softirqs_count_fig.to_html(full_html=False, include_plotlyjs='cdn'))\n",
    "#     f.write(softirqs_dist_fig.to_html(full_html=False, include_plotlyjs='cdn'))\n",
    "#     f.write(nettxlat_fig.to_html(full_html=False, include_plotlyjs='cdn'))\n",
    "#     f.write(vfsstat_fig.to_html(full_html=False, include_plotlyjs='cdn'))\n",
    "#     f.write(vfssize_fig_1.to_html(full_html=False, include_plotlyjs='cdn'))\n",
    "#     f.write(vfssize_fig_2.to_html(full_html=False, include_plotlyjs='cdn'))\n",
    "#     f.write(vfssize_fig_3.to_html(full_html=False, include_plotlyjs='cdn'))\n",
    "#     f.write(sys_enter_brk_fig.to_html(full_html=False, include_plotlyjs='cdn'))\n",
    "    # f.write(vfsstat_fig.to_html(full_html=False, include_plotlyjs='cdn'))"
   ]
  }
 ],
 "metadata": {
  "kernelspec": {
   "display_name": "Python 3.10.4 64-bit",
   "language": "python",
   "name": "python3"
  },
  "language_info": {
   "codemirror_mode": {
    "name": "ipython",
    "version": 3
   },
   "file_extension": ".py",
   "mimetype": "text/x-python",
   "name": "python",
   "nbconvert_exporter": "python",
   "pygments_lexer": "ipython3",
   "version": "3.10.4"
  },
  "orig_nbformat": 4,
  "vscode": {
   "interpreter": {
    "hash": "31f2aee4e71d21fbe5cf8b01ff0e069b9275f58929596ceb00d14d90e3e16cd6"
   }
  }
 },
 "nbformat": 4,
 "nbformat_minor": 2
}
