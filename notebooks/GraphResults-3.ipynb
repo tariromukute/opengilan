{
    "cells": [
        {
            "cell_type": "code",
            "execution_count": 1,
            "metadata": {},
            "outputs": [
                {
                    "name": "stdout",
                    "output_type": "stream",
                    "text": [
                        "Hello World\n"
                    ]
                }
            ],
            "source": [
                "msg = \"Hello World\"\n",
                "print(msg)"
            ]
        },
        {
            "cell_type": "code",
            "execution_count": 2,
            "metadata": {},
            "outputs": [
                {
                    "name": "stdout",
                    "output_type": "stream",
                    "text": [
                        "root\n",
                        " |-- value: string (nullable = true)\n",
                        "\n",
                        "+-------------------------------------------------------------+\n",
                        "|value                                                        |\n",
                        "+-------------------------------------------------------------+\n",
                        "|Attaching 12 probes...                                       |\n",
                        "|Tracing latency of network stack funtions. Hit Ctrl-C to end.|\n",
                        "|@q1[openssl]: count 207, average 1343, total 278128          |\n",
                        "|@q1[ksoftirqd/169]: count 3, average 3890, total 11672       |\n",
                        "|@q1[kworker/169:0]: count 1, average 7925, total 7925        |\n",
                        "|                                                             |\n",
                        "|@q2[ksoftirqd/169]: count 25, average 874, total 21855       |\n",
                        "|@q2[kworker/169:0]: count 2, average 3577, total 7154        |\n",
                        "|@q2[openssl]: count 943, average 3668, total 3459197         |\n",
                        "|                                                             |\n",
                        "+-------------------------------------------------------------+\n",
                        "only showing top 10 rows\n",
                        "\n"
                    ]
                }
            ],
            "source": [
                "# configure spark variables\n",
                "from pyspark.context import SparkContext\n",
                "from pyspark.sql.context import SQLContext\n",
                "from pyspark.sql.session import SparkSession\n",
                "    \n",
                "sc = SparkContext()\n",
                "sqlContext = SQLContext(sc)\n",
                "spark = SparkSession(sc)\n",
                "\n",
                "# load up other dependencies\n",
                "import re\n",
                "import pandas as pd\n",
                "\n",
                "import glob\n",
                "\n",
                "raw_data_files = glob.glob('../ansible/.results-3/bpftrace/server1-1200m-1.out')\n",
                "raw_data_files\n",
                "\n",
                "base_df = spark.read.text(raw_data_files)\n",
                "base_df.printSchema()\n",
                "\n",
                "base_df.show(10, truncate=False)"
            ]
        },
        {
            "cell_type": "code",
            "execution_count": 3,
            "metadata": {},
            "outputs": [
                {
                    "data": {
                        "text/plain": "['Attaching 12 probes...',\n 'Tracing latency of network stack funtions. Hit Ctrl-C to end.',\n '@q1[openssl]: count 207, average 1343, total 278128',\n '@q1[ksoftirqd/169]: count 3, average 3890, total 11672',\n '@q1[kworker/169:0]: count 1, average 7925, total 7925',\n '',\n '@q2[ksoftirqd/169]: count 25, average 874, total 21855',\n '@q2[kworker/169:0]: count 2, average 3577, total 7154',\n '@q2[openssl]: count 943, average 3668, total 3459197',\n '',\n '',\n '@q4[openssl]: count 9905, average 951, total 9428804',\n '@q4[ksoftirqd/169]: count 87, average 1008, total 87733',\n '@q4[kworker/169:0]: count 11, average 3602, total 39625',\n '']"
                    },
                    "execution_count": 3,
                    "metadata": {},
                    "output_type": "execute_result"
                }
            ],
            "source": [
                "sample_logs = [item['value'] for item in base_df.take(15)]\n",
                "sample_logs"
            ]
        },
        {
            "cell_type": "code",
            "execution_count": 4,
            "metadata": {},
            "outputs": [
                {
                    "data": {
                        "text/plain": "[None,\n None,\n ('q1', 'openssl', '207', '1343', '278128', ''),\n ('q1', 'ksoftirqd/169', '3', '3890', '11672', ''),\n ('q1', 'kworker/169:0', '1', '7925', '7925', ''),\n None,\n ('q2', 'ksoftirqd/169', '25', '874', '21855', ''),\n ('q2', 'kworker/169:0', '2', '3577', '7154', ''),\n ('q2', 'openssl', '943', '3668', '3459197', ''),\n None,\n None,\n ('q4', 'openssl', '9905', '951', '9428804', ''),\n ('q4', 'ksoftirqd/169', '87', '1008', '87733', ''),\n ('q4', 'kworker/169:0', '11', '3602', '39625', ''),\n None]"
                    },
                    "execution_count": 4,
                    "metadata": {},
                    "output_type": "execute_result"
                }
            ],
            "source": [
                "bpftrace_ps_pattern = r'^@(q\\d)\\[([\\d\\D]*)\\]\\D*(\\d+)\\D*(\\d+)\\D*(\\d+)([\\d\\D]*)'\n",
                "ps = [re.search(bpftrace_ps_pattern, item).groups()\n",
                "           if re.search(bpftrace_ps_pattern, item)\n",
                "           else None\n",
                "           for item in sample_logs]\n",
                "ps"
            ]
        },
        {
            "cell_type": "code",
            "execution_count": 5,
            "metadata": {},
            "outputs": [
                {
                    "data": {
                        "text/plain": "[None,\n None,\n None,\n None,\n None,\n None,\n None,\n None,\n None,\n None,\n None,\n None,\n None,\n None,\n None]"
                    },
                    "execution_count": 5,
                    "metadata": {},
                    "output_type": "execute_result"
                }
            ],
            "source": [
                "bpftrace_cs_pattern = r'^@(uc)\\D*(\\d+)\\D*(\\d+)\\D*(\\d+)([\\d\\D]*)'\n",
                "cs = [re.search(bpftrace_cs_pattern, item).groups()\n",
                "           if re.search(bpftrace_cs_pattern, item)\n",
                "           else None\n",
                "           for item in sample_logs]\n",
                "cs"
            ]
        },
        {
            "cell_type": "code",
            "execution_count": 6,
            "metadata": {},
            "outputs": [
                {
                    "name": "stdout",
                    "output_type": "stream",
                    "text": [
                        "+--------+----------+---------+\n",
                        "|cs_count|cs_average| cs_total|\n",
                        "+--------+----------+---------+\n",
                        "|    2334|     57663|134585847|\n",
                        "|    2522|      6337| 15982376|\n",
                        "|    2140|      6309| 13501724|\n",
                        "|    2087|      6294| 13135939|\n",
                        "|    2177|      7298| 15888887|\n",
                        "|    2349|      6535| 15350861|\n",
                        "|    2128|      6306| 13420729|\n",
                        "|    2039|      5573| 11364223|\n",
                        "|    2065|      6394| 13204434|\n",
                        "|    2453|      7067| 17337607|\n",
                        "|    2826|     14278| 40351895|\n",
                        "|    2117|      7387| 15639138|\n",
                        "|    2029|      5585| 11332246|\n",
                        "|    2369|      6997| 16576889|\n",
                        "|    2252|      7168| 16143316|\n",
                        "+--------+----------+---------+\n",
                        "only showing top 15 rows\n",
                        "\n"
                    ]
                }
            ],
            "source": [
                "from pyspark.sql.functions import regexp_extract\n",
                "\n",
                "bpftrace_cs_df = base_df.select(\n",
                "                                regexp_extract('value', bpftrace_cs_pattern, 2).alias('cs_count'),\n",
                "                                regexp_extract('value', bpftrace_cs_pattern, 3).alias('cs_average'),\n",
                "                                regexp_extract('value', bpftrace_cs_pattern, 4).alias('cs_total'),\n",
                ").filter(' cs_count != \"\"')\n",
                "\n",
                "bpftrace_cs_df.show(15)"
            ]
        },
        {
            "cell_type": "code",
            "execution_count": 7,
            "metadata": {},
            "outputs": [
                {
                    "name": "stdout",
                    "output_type": "stream",
                    "text": [
                        "['2334' '57663' '134585847']\n"
                    ]
                }
            ],
            "source": [
                "print(bpftrace_cs_df.toPandas().to_numpy()[0])"
            ]
        },
        {
            "cell_type": "code",
            "execution_count": 8,
            "metadata": {},
            "outputs": [
                {
                    "name": "stdout",
                    "output_type": "stream",
                    "text": [
                        "+-----+-------------+---------+-----------+---------+\n",
                        "|level|      program|pkt_count|pkt_average|pkt_total|\n",
                        "+-----+-------------+---------+-----------+---------+\n",
                        "|   q1|      openssl|      207|       1343|   278128|\n",
                        "|   q1|ksoftirqd/169|        3|       3890|    11672|\n",
                        "|   q1|kworker/169:0|        1|       7925|     7925|\n",
                        "|   q2|ksoftirqd/169|       25|        874|    21855|\n",
                        "|   q2|kworker/169:0|        2|       3577|     7154|\n",
                        "|   q2|      openssl|      943|       3668|  3459197|\n",
                        "|   q4|      openssl|     9905|        951|  9428804|\n",
                        "|   q4|ksoftirqd/169|       87|       1008|    87733|\n",
                        "|   q4|kworker/169:0|       11|       3602|    39625|\n",
                        "|   q5|      openssl|    74952|        432| 32386336|\n",
                        "|   q5|ksoftirqd/169|      609|        440|   268345|\n",
                        "|   q5|kworker/169:0|       80|        721|    57712|\n",
                        "|   q1|      openssl|      367|       1184|   434848|\n",
                        "|   q1|ksoftirqd/169|        7|       3317|    23223|\n",
                        "|   q1|kworker/169:0|        4|       4678|    18715|\n",
                        "+-----+-------------+---------+-----------+---------+\n",
                        "only showing top 15 rows\n",
                        "\n"
                    ]
                }
            ],
            "source": [
                "from pyspark.sql.functions import regexp_extract\n",
                "\n",
                "bpftrace_logs_df = base_df.select(\n",
                "                                regexp_extract('value', bpftrace_ps_pattern, 1).alias('level'),\n",
                "                                regexp_extract('value', bpftrace_ps_pattern, 2).alias('program'),\n",
                "                                regexp_extract('value', bpftrace_ps_pattern, 3).alias('pkt_count'),\n",
                "                                regexp_extract('value', bpftrace_ps_pattern, 4).alias('pkt_average'),\n",
                "                                regexp_extract('value', bpftrace_ps_pattern, 5).alias('pkt_total')\n",
                "                                ).filter(' level != \"\" ')\n",
                "bpftrace_logs_df.show(15, truncate=True)"
            ]
        },
        {
            "cell_type": "code",
            "execution_count": 9,
            "metadata": {},
            "outputs": [
                {
                    "name": "stdout",
                    "output_type": "stream",
                    "text": [
                        "+--------+----------+---------+\n",
                        "|cs_count|cs_average| cs_total|\n",
                        "+--------+----------+---------+\n",
                        "|    2334|     57663|134585847|\n",
                        "|    2522|      6337| 15982376|\n",
                        "|    2140|      6309| 13501724|\n",
                        "|    2087|      6294| 13135939|\n",
                        "|    2177|      7298| 15888887|\n",
                        "|    2349|      6535| 15350861|\n",
                        "|    2128|      6306| 13420729|\n",
                        "|    2039|      5573| 11364223|\n",
                        "|    2065|      6394| 13204434|\n",
                        "|    2453|      7067| 17337607|\n",
                        "|    2826|     14278| 40351895|\n",
                        "|    2117|      7387| 15639138|\n",
                        "|    2029|      5585| 11332246|\n",
                        "|    2369|      6997| 16576889|\n",
                        "|    2252|      7168| 16143316|\n",
                        "+--------+----------+---------+\n",
                        "only showing top 15 rows\n",
                        "\n"
                    ]
                }
            ],
            "source": [
                "from pyspark.sql.functions import regexp_extract\n",
                "\n",
                "bpftrace_cs_df = base_df.select(\n",
                "                                regexp_extract('value', bpftrace_cs_pattern, 2).alias('cs_count'),\n",
                "                                regexp_extract('value', bpftrace_cs_pattern, 3).alias('cs_average'),\n",
                "                                regexp_extract('value', bpftrace_cs_pattern, 4).alias('cs_total'),\n",
                ").filter(' cs_count != \"\"')\n",
                "\n",
                "bpftrace_cs_df.show(15)"
            ]
        },
        {
            "cell_type": "code",
            "execution_count": 10,
            "metadata": {},
            "outputs": [
                {
                    "name": "stdout",
                    "output_type": "stream",
                    "text": [
                        "['2334' '57663' '134585847']\n"
                    ]
                }
            ],
            "source": [
                "cs_array = bpftrace_cs_df.toPandas().to_numpy()[0]\n",
                "print(cs_array)"
            ]
        },
        {
            "cell_type": "code",
            "execution_count": 11,
            "metadata": {},
            "outputs": [
                {
                    "name": "stdout",
                    "output_type": "stream",
                    "text": [
                        "+-----+-------------+---------+-----------+---------+--------+----------+---------+\n",
                        "|level|      program|pkt_count|pkt_average|pkt_total|cs_count|cs_average| cs_total|\n",
                        "+-----+-------------+---------+-----------+---------+--------+----------+---------+\n",
                        "|   q1|      openssl|      207|       1343|   278128|    2334|     57663|134585847|\n",
                        "|   q1|ksoftirqd/169|        3|       3890|    11672|    2334|     57663|134585847|\n",
                        "|   q1|kworker/169:0|        1|       7925|     7925|    2334|     57663|134585847|\n",
                        "|   q2|ksoftirqd/169|       25|        874|    21855|    2334|     57663|134585847|\n",
                        "|   q2|kworker/169:0|        2|       3577|     7154|    2334|     57663|134585847|\n",
                        "|   q2|      openssl|      943|       3668|  3459197|    2334|     57663|134585847|\n",
                        "|   q4|      openssl|     9905|        951|  9428804|    2334|     57663|134585847|\n",
                        "|   q4|ksoftirqd/169|       87|       1008|    87733|    2334|     57663|134585847|\n",
                        "|   q4|kworker/169:0|       11|       3602|    39625|    2334|     57663|134585847|\n",
                        "|   q5|      openssl|    74952|        432| 32386336|    2334|     57663|134585847|\n",
                        "|   q5|ksoftirqd/169|      609|        440|   268345|    2334|     57663|134585847|\n",
                        "|   q5|kworker/169:0|       80|        721|    57712|    2334|     57663|134585847|\n",
                        "|   q1|      openssl|      367|       1184|   434848|    2334|     57663|134585847|\n",
                        "|   q1|ksoftirqd/169|        7|       3317|    23223|    2334|     57663|134585847|\n",
                        "|   q1|kworker/169:0|        4|       4678|    18715|    2334|     57663|134585847|\n",
                        "+-----+-------------+---------+-----------+---------+--------+----------+---------+\n",
                        "only showing top 15 rows\n",
                        "\n"
                    ]
                }
            ],
            "source": [
                "from pyspark.sql.functions import lit\n",
                "\n",
                "bpftrace_res_df = bpftrace_logs_df.withColumn(\"cs_count\", lit(cs_array[0])\n",
                "                    ).withColumn(\"cs_average\", lit(cs_array[1])\n",
                "                    ).withColumn(\"cs_total\", lit(cs_array[2]))\n",
                "bpftrace_res_df.show(15, truncate=True)"
            ]
        },
        {
            "cell_type": "code",
            "execution_count": 12,
            "metadata": {},
            "outputs": [
                {
                    "name": "stdout",
                    "output_type": "stream",
                    "text": [
                        "root\n",
                        " |-- value: string (nullable = true)\n",
                        "\n",
                        "+---------------------------------------------------------------------------------+\n",
                        "|value                                                                            |\n",
                        "+---------------------------------------------------------------------------------+\n",
                        "|------------------------------------------------------------                     |\n",
                        "|Server listening on UDP port 5001                                                |\n",
                        "|Receiving 1470 byte datagrams                                                    |\n",
                        "|UDP buffer size:  208 KByte (default)                                            |\n",
                        "|------------------------------------------------------------                     |\n",
                        "|[  3] local 10.0.0.2 port 5001 connected with 10.0.0.1 port 44772                |\n",
                        "|[ ID] Interval       Transfer     Bandwidth        Jitter   Lost/Total Datagrams |\n",
                        "|[  3]  0.0-59.9 sec  8.37 GBytes  1.20 Gbits/sec   0.009 ms 10895/6122450 (0.18%)|\n",
                        "+---------------------------------------------------------------------------------+\n",
                        "\n"
                    ]
                }
            ],
            "source": [
                "raw_data_files = glob.glob('../ansible/.results-3/iperf/server1-1200m-1.out')\n",
                "raw_data_files\n",
                "\n",
                "base_df = spark.read.text(raw_data_files)\n",
                "base_df.printSchema()\n",
                "\n",
                "base_df.show(10, truncate=False)"
            ]
        },
        {
            "cell_type": "code",
            "execution_count": 13,
            "metadata": {},
            "outputs": [
                {
                    "data": {
                        "text/plain": "[('', '', '', '', '', '', ''),\n None,\n None,\n None,\n ('', '', '', '', '', '', ''),\n None,\n None,\n ('59.9', '8.37', '1.20', '0.009', '10895/6122450', '0.18', '%)')]"
                    },
                    "execution_count": 13,
                    "metadata": {},
                    "output_type": "execute_result"
                }
            ],
            "source": [
                "sample_logs = [item['value'] for item in base_df.take(15)]\n",
                "sample_logs\n",
                "\n",
                "iperf_s_pattern = r'[\\d\\D]*-([\\d.]*)\\D*([\\d.]*)\\D*([\\d.]*)\\D*([\\d.]*)\\D*([\\d/]*)\\D*([\\d.]*)([\\d\\D]*)'\n",
                "cs = [re.search(iperf_s_pattern, item).groups()\n",
                "           if re.search(iperf_s_pattern, item)\n",
                "           else None\n",
                "           for item in sample_logs]\n",
                "cs"
            ]
        },
        {
            "cell_type": "code",
            "execution_count": 14,
            "metadata": {},
            "outputs": [
                {
                    "name": "stdout",
                    "output_type": "stream",
                    "text": [
                        "root\n",
                        " |-- value: string (nullable = true)\n",
                        "\n",
                        "+-----------------------------------------------------------------------------+\n",
                        "|value                                                                        |\n",
                        "+-----------------------------------------------------------------------------+\n",
                        "|Doing aes-256 cbc for 10s on 16 size blocks: 88548495 aes-256 cbc's in 8.58s |\n",
                        "|Doing aes-256 cbc for 10s on 64 size blocks: 21858272 aes-256 cbc's in 8.05s |\n",
                        "|Doing aes-256 cbc for 10s on 256 size blocks: 5486645 aes-256 cbc's in 7.92s |\n",
                        "|Doing aes-256 cbc for 10s on 1024 size blocks: 1378327 aes-256 cbc's in 8.13s|\n",
                        "|Doing aes-256 cbc for 10s on 8192 size blocks: 172276 aes-256 cbc's in 8.08s |\n",
                        "|Doing aes-256 cbc for 10s on 16384 size blocks: 86185 aes-256 cbc's in 8.13s |\n",
                        "+-----------------------------------------------------------------------------+\n",
                        "\n"
                    ]
                }
            ],
            "source": [
                "raw_data_files = glob.glob('../ansible/.results-3/openssl/server1-1200m-1.out')\n",
                "raw_data_files\n",
                "\n",
                "base_df = spark.read.text(raw_data_files)\n",
                "base_df.printSchema()\n",
                "\n",
                "base_df.show(10, truncate=False)"
            ]
        },
        {
            "cell_type": "code",
            "execution_count": 15,
            "metadata": {},
            "outputs": [
                {
                    "name": "stdout",
                    "output_type": "stream",
                    "text": [
                        "+-------+\n",
                        "|us_time|\n",
                        "+-------+\n",
                        "|   8.58|\n",
                        "|   8.05|\n",
                        "|   7.92|\n",
                        "|   8.13|\n",
                        "|   8.08|\n",
                        "+-------+\n",
                        "only showing top 5 rows\n",
                        "\n"
                    ]
                },
                {
                    "data": {
                        "text/plain": "48.89000000000001"
                    },
                    "execution_count": 15,
                    "metadata": {},
                    "output_type": "execute_result"
                }
            ],
            "source": [
                "sample_logs = [item['value'] for item in base_df.take(15)]\n",
                "sample_logs\n",
                "\n",
                "openssl_s_pattern = r'\\D*([\\d]*)\\D*([\\d]*)\\D*([\\d]*)\\D*([\\d]*)\\D*([\\d]*)\\D*([\\d.]*)([\\d\\D]*)'\n",
                "cs = [re.search(openssl_s_pattern, item).groups()\n",
                "           if re.search(openssl_s_pattern, item)\n",
                "           else None\n",
                "           for item in sample_logs]\n",
                "cs\n",
                "\n",
                "openssl_logs_df = base_df.select(\n",
                "                                regexp_extract('value', openssl_s_pattern, 6).alias('us_time')\n",
                "                                ).filter(' us_time != \"\" ')\n",
                "\n",
                "openssl_logs_df.show(5)\n",
                "cs_array = openssl_logs_df.toPandas().to_numpy()\n",
                "\n",
                "us_time = 0.0\n",
                "for a in cs_array:\n",
                "    us_time += float(a[0])\n",
                "\n",
                "us_time"
            ]
        },
        {
            "cell_type": "code",
            "execution_count": 16,
            "metadata": {},
            "outputs": [
                {
                    "name": "stdout",
                    "output_type": "stream",
                    "text": [
                        "+-----+-------------+---------+-----------+---------+--------+----------+---------+------------+--------+---------+------------+------+--------+\n",
                        "|level|      program|pkt_count|pkt_average|pkt_total|cs_count|cs_average| cs_total|tx_bandwidth|duration|rx_gbytes|rx_bandwidth|jitter|pkt_loss|\n",
                        "+-----+-------------+---------+-----------+---------+--------+----------+---------+------------+--------+---------+------------+------+--------+\n",
                        "|   q1|      openssl|      207|       1343|   278128|    2334|     57663|134585847|        1200|    59.9|     8.37|        1.20| 0.009|    0.18|\n",
                        "|   q1|ksoftirqd/169|        3|       3890|    11672|    2334|     57663|134585847|        1200|    59.9|     8.37|        1.20| 0.009|    0.18|\n",
                        "|   q1|kworker/169:0|        1|       7925|     7925|    2334|     57663|134585847|        1200|    59.9|     8.37|        1.20| 0.009|    0.18|\n",
                        "|   q2|ksoftirqd/169|       25|        874|    21855|    2334|     57663|134585847|        1200|    59.9|     8.37|        1.20| 0.009|    0.18|\n",
                        "|   q2|kworker/169:0|        2|       3577|     7154|    2334|     57663|134585847|        1200|    59.9|     8.37|        1.20| 0.009|    0.18|\n",
                        "+-----+-------------+---------+-----------+---------+--------+----------+---------+------------+--------+---------+------------+------+--------+\n",
                        "only showing top 5 rows\n",
                        "\n",
                        "+-----+-------------+---------+-----------+---------+--------+----------+--------+------------+--------+---------+------------+------+--------+\n",
                        "|level|      program|pkt_count|pkt_average|pkt_total|cs_count|cs_average|cs_total|tx_bandwidth|duration|rx_gbytes|rx_bandwidth|jitter|pkt_loss|\n",
                        "+-----+-------------+---------+-----------+---------+--------+----------+--------+------------+--------+---------+------------+------+--------+\n",
                        "|   q1|      openssl|      228|       1589|   362484|    2467|     27066|66772769|        1400|    60.2|     9.77|        1.39|15.660|    0.12|\n",
                        "|   q1|ksoftirqd/169|        6|       2406|    14436|    2467|     27066|66772769|        1400|    60.2|     9.77|        1.39|15.660|    0.12|\n",
                        "|   q1|kworker/169:1|        2|       4433|     8867|    2467|     27066|66772769|        1400|    60.2|     9.77|        1.39|15.660|    0.12|\n",
                        "|   q2|ksoftirqd/169|       18|        862|    15533|    2467|     27066|66772769|        1400|    60.2|     9.77|        1.39|15.660|    0.12|\n",
                        "|   q2|kworker/169:1|        2|       2765|     5531|    2467|     27066|66772769|        1400|    60.2|     9.77|        1.39|15.660|    0.12|\n",
                        "+-----+-------------+---------+-----------+---------+--------+----------+--------+------------+--------+---------+------------+------+--------+\n",
                        "only showing top 5 rows\n",
                        "\n",
                        "+-----+-------------+---------+-----------+---------+--------+----------+---------+------------+--------+---------+------------+------+--------+\n",
                        "|level|      program|pkt_count|pkt_average|pkt_total|cs_count|cs_average| cs_total|tx_bandwidth|duration|rx_gbytes|rx_bandwidth|jitter|pkt_loss|\n",
                        "+-----+-------------+---------+-----------+---------+--------+----------+---------+------------+--------+---------+------------+------+--------+\n",
                        "|   q1|      openssl|      180|       1369|   246565|    2289|     55708|127516439|        1600|    59.9|     11.1|        1.60| 0.013|    0.36|\n",
                        "|   q1|ksoftirqd/169|       11|       1848|    20328|    2289|     55708|127516439|        1600|    59.9|     11.1|        1.60| 0.013|    0.36|\n",
                        "|   q2|ksoftirqd/169|       40|       1264|    50578|    2289|     55708|127516439|        1600|    59.9|     11.1|        1.60| 0.013|    0.36|\n",
                        "|   q2|      openssl|     1138|       4000|  4552867|    2289|     55708|127516439|        1600|    59.9|     11.1|        1.60| 0.013|    0.36|\n",
                        "|   q2|kworker/169:1|        1|       5110|     5110|    2289|     55708|127516439|        1600|    59.9|     11.1|        1.60| 0.013|    0.36|\n",
                        "+-----+-------------+---------+-----------+---------+--------+----------+---------+------------+--------+---------+------------+------+--------+\n",
                        "only showing top 5 rows\n",
                        "\n",
                        "+-----+-------------+---------+-----------+---------+--------+----------+--------+------------+--------+---------+------------+------+--------+\n",
                        "|level|      program|pkt_count|pkt_average|pkt_total|cs_count|cs_average|cs_total|tx_bandwidth|duration|rx_gbytes|rx_bandwidth|jitter|pkt_loss|\n",
                        "+-----+-------------+---------+-----------+---------+--------+----------+--------+------------+--------+---------+------------+------+--------+\n",
                        "|   q1|      openssl|      467|       1736|   810885|     272|     92045|25036351|        1800|    60.0|     12.6|        1.80| 0.007|   0.015|\n",
                        "|   q1|ksoftirqd/169|       15|       1822|    27342|     272|     92045|25036351|        1800|    60.0|     12.6|        1.80| 0.007|   0.015|\n",
                        "|   q1|kworker/169:2|        2|       5500|    11000|     272|     92045|25036351|        1800|    60.0|     12.6|        1.80| 0.007|   0.015|\n",
                        "|   q2|      openssl|      964|        629|   606937|     272|     92045|25036351|        1800|    60.0|     12.6|        1.80| 0.007|   0.015|\n",
                        "|   q2|ksoftirqd/169|       21|        829|    17413|     272|     92045|25036351|        1800|    60.0|     12.6|        1.80| 0.007|   0.015|\n",
                        "+-----+-------------+---------+-----------+---------+--------+----------+--------+------------+--------+---------+------------+------+--------+\n",
                        "only showing top 5 rows\n",
                        "\n",
                        "+-----+-------------+---------+-----------+---------+--------+----------+--------+------------+--------+---------+------------+------+--------+\n",
                        "|level|      program|pkt_count|pkt_average|pkt_total|cs_count|cs_average|cs_total|tx_bandwidth|duration|rx_gbytes|rx_bandwidth|jitter|pkt_loss|\n",
                        "+-----+-------------+---------+-----------+---------+--------+----------+--------+------------+--------+---------+------------+------+--------+\n",
                        "|   q1|      openssl|       27|       2809|    75864|     317|    150180|47607128|        2000|    60.0|     14.0|        2.00| 0.007|   0.026|\n",
                        "|   q2|      openssl|      102|        926|    94541|     317|    150180|47607128|        2000|    60.0|     14.0|        2.00| 0.007|   0.026|\n",
                        "|   q2|ksoftirqd/169|        2|       3206|     6412|     317|    150180|47607128|        2000|    60.0|     14.0|        2.00| 0.007|   0.026|\n",
                        "|   q4|      openssl|     1098|        982|  1078683|     317|    150180|47607128|        2000|    60.0|     14.0|        2.00| 0.007|   0.026|\n",
                        "|   q4|ksoftirqd/169|        9|       1957|    17613|     317|    150180|47607128|        2000|    60.0|     14.0|        2.00| 0.007|   0.026|\n",
                        "+-----+-------------+---------+-----------+---------+--------+----------+--------+------------+--------+---------+------------+------+--------+\n",
                        "only showing top 5 rows\n",
                        "\n",
                        "+-----+-------------+---------+-----------+---------+--------+----------+---------+------------+--------+---------+------------+------+--------+\n",
                        "|level|      program|pkt_count|pkt_average|pkt_total|cs_count|cs_average| cs_total|tx_bandwidth|duration|rx_gbytes|rx_bandwidth|jitter|pkt_loss|\n",
                        "+-----+-------------+---------+-----------+---------+--------+----------+---------+------------+--------+---------+------------+------+--------+\n",
                        "|   q1|      openssl|      272|       1717|   467046|    1737|     65494|113764238|        2200|    59.8|     15.3|        2.20| 0.007|    0.44|\n",
                        "|   q1|ksoftirqd/169|       24|       1841|    44194|    1737|     65494|113764238|        2200|    59.8|     15.3|        2.20| 0.007|    0.44|\n",
                        "|   q1|kworker/169:0|        1|       6893|     6893|    1737|     65494|113764238|        2200|    59.8|     15.3|        2.20| 0.007|    0.44|\n",
                        "|   q2|      openssl|      594|        647|   384488|    1737|     65494|113764238|        2200|    59.8|     15.3|        2.20| 0.007|    0.44|\n",
                        "|   q2|ksoftirqd/169|       43|        709|    30497|    1737|     65494|113764238|        2200|    59.8|     15.3|        2.20| 0.007|    0.44|\n",
                        "+-----+-------------+---------+-----------+---------+--------+----------+---------+------------+--------+---------+------------+------+--------+\n",
                        "only showing top 5 rows\n",
                        "\n",
                        "+-----+-------------+---------+-----------+---------+--------+----------+--------+------------+--------+---------+------------+------+--------+\n",
                        "|level|      program|pkt_count|pkt_average|pkt_total|cs_count|cs_average|cs_total|tx_bandwidth|duration|rx_gbytes|rx_bandwidth|jitter|pkt_loss|\n",
                        "+-----+-------------+---------+-----------+---------+--------+----------+--------+------------+--------+---------+------------+------+--------+\n",
                        "|   q1|      openssl|      275|       1584|   435712|    2463|     29233|72002997|        2400|    60.0|     16.7|        2.40| 0.005|     0.2|\n",
                        "|   q1|ksoftirqd/169|       13|       2329|    30288|    2463|     29233|72002997|        2400|    60.0|     16.7|        2.40| 0.005|     0.2|\n",
                        "|   q2|ksoftirqd/169|       42|        759|    31909|    2463|     29233|72002997|        2400|    60.0|     16.7|        2.40| 0.005|     0.2|\n",
                        "|   q2|      openssl|     1213|       2271|  2755573|    2463|     29233|72002997|        2400|    60.0|     16.7|        2.40| 0.005|     0.2|\n",
                        "|   q4|      openssl|    13379|        948| 12690756|    2463|     29233|72002997|        2400|    60.0|     16.7|        2.40| 0.005|     0.2|\n",
                        "+-----+-------------+---------+-----------+---------+--------+----------+--------+------------+--------+---------+------------+------+--------+\n",
                        "only showing top 5 rows\n",
                        "\n",
                        "+-----+-------------+---------+-----------+---------+--------+----------+--------+------------+--------+---------+------------+------+--------+\n",
                        "|level|      program|pkt_count|pkt_average|pkt_total|cs_count|cs_average|cs_total|tx_bandwidth|duration|rx_gbytes|rx_bandwidth|jitter|pkt_loss|\n",
                        "+-----+-------------+---------+-----------+---------+--------+----------+--------+------------+--------+---------+------------+------+--------+\n",
                        "|   q1|ksoftirqd/169|       35|       1771|    62006|     409|     90071|36839344|        2600|    60.0|     18.1|        2.59| 0.004|     0.5|\n",
                        "|   q1|      openssl|      934|       1876|  1752992|     409|     90071|36839344|        2600|    60.0|     18.1|        2.59| 0.004|     0.5|\n",
                        "|   q1|kworker/169:1|        2|       5776|    11552|     409|     90071|36839344|        2600|    60.0|     18.1|        2.59| 0.004|     0.5|\n",
                        "|   q2|      openssl|     1424|        616|   877960|     409|     90071|36839344|        2600|    60.0|     18.1|        2.59| 0.004|     0.5|\n",
                        "|   q2|ksoftirqd/169|       69|        692|    47762|     409|     90071|36839344|        2600|    60.0|     18.1|        2.59| 0.004|     0.5|\n",
                        "+-----+-------------+---------+-----------+---------+--------+----------+--------+------------+--------+---------+------------+------+--------+\n",
                        "only showing top 5 rows\n",
                        "\n",
                        "+-----+-------------+---------+-----------+---------+--------+----------+--------+------------+--------+---------+------------+------+--------+\n",
                        "|level|      program|pkt_count|pkt_average|pkt_total|cs_count|cs_average|cs_total|tx_bandwidth|duration|rx_gbytes|rx_bandwidth|jitter|pkt_loss|\n",
                        "+-----+-------------+---------+-----------+---------+--------+----------+--------+------------+--------+---------+------------+------+--------+\n",
                        "|   q1|      openssl|     1894|       1554|  2944071|     507|    101174|51295282|        2800|    59.8|     19.4|        2.79| 0.006|    0.69|\n",
                        "|   q1|ksoftirqd/169|       41|       1962|    80480|     507|    101174|51295282|        2800|    59.8|     19.4|        2.79| 0.006|    0.69|\n",
                        "|   q1|kworker/169:1|        4|       3156|    12625|     507|    101174|51295282|        2800|    59.8|     19.4|        2.79| 0.006|    0.69|\n",
                        "|   q2|      openssl|     2384|        568|  1355858|     507|    101174|51295282|        2800|    59.8|     19.4|        2.79| 0.006|    0.69|\n",
                        "|   q2|ksoftirqd/169|       73|        678|    49522|     507|    101174|51295282|        2800|    59.8|     19.4|        2.79| 0.006|    0.69|\n",
                        "+-----+-------------+---------+-----------+---------+--------+----------+--------+------------+--------+---------+------------+------+--------+\n",
                        "only showing top 5 rows\n",
                        "\n",
                        "root\n",
                        " |-- level: string (nullable = true)\n",
                        " |-- program: string (nullable = true)\n",
                        " |-- pkt_count: string (nullable = true)\n",
                        " |-- pkt_average: string (nullable = true)\n",
                        " |-- pkt_total: string (nullable = true)\n",
                        " |-- cs_count: string (nullable = false)\n",
                        " |-- cs_average: string (nullable = false)\n",
                        " |-- cs_total: string (nullable = false)\n",
                        " |-- tx_bandwidth: integer (nullable = false)\n",
                        " |-- duration: string (nullable = false)\n",
                        " |-- rx_gbytes: string (nullable = false)\n",
                        " |-- rx_bandwidth: string (nullable = false)\n",
                        " |-- jitter: string (nullable = false)\n",
                        " |-- pkt_loss: string (nullable = false)\n",
                        " |-- us_time: double (nullable = false)\n",
                        "\n"
                    ]
                }
            ],
            "source": [
                "from pyspark.sql import DataFrame\n",
                "from pyspark.sql.types import *\n",
                "from functools import reduce\n",
                "\n",
                "# schema = StructType([])\n",
                "# results_df = sqlContext.createDataFrame(sc.emptyRDD(), schema)\n",
                "\n",
                "bpftrace_ps_pattern = r'^@(q\\d)\\[([\\d\\D]*)\\]\\D*(\\d+)\\D*(\\d+)\\D*(\\d+)([\\d\\D]*)'\n",
                "bpftrace_cs_pattern = r'^@(uc)\\D*(\\d+)\\D*(\\d+)\\D*(\\d+)([\\d\\D]*)'\n",
                "iperf_s_pattern = r'[\\d\\D]*-([\\d.]*)\\D*([\\d.]*)\\D*([\\d.]*)\\D*([\\d.]*)\\D*([\\d/]*)\\D*([\\d.]*)([\\d\\D]*)'\n",
                "openssl_s_pattern = r'\\D*([\\d]*)\\D*([\\d]*)\\D*([\\d]*)\\D*([\\d]*)\\D*([\\d]*)\\D*([\\d.]*)([\\d\\D]*)'\n",
                "\n",
                "\n",
                "def readFiletoDF(path) -> DataFrame:\n",
                "    raw_data_files = glob.glob(path)\n",
                "    raw_data_files\n",
                "    return spark.read.text(raw_data_files)\n",
                "\n",
                "def readBpftracePSLogstoDF(df: DataFrame) -> DataFrame:\n",
                "    bpftrace_logs_df = df.select(\n",
                "                                regexp_extract('value', bpftrace_ps_pattern, 1).alias('level'),\n",
                "                                regexp_extract('value', bpftrace_ps_pattern, 2).alias('program'),\n",
                "                                regexp_extract('value', bpftrace_ps_pattern, 3).alias('pkt_count'),\n",
                "                                regexp_extract('value', bpftrace_ps_pattern, 4).alias('pkt_average'),\n",
                "                                regexp_extract('value', bpftrace_ps_pattern, 5).alias('pkt_total')\n",
                "                                ).filter(' level != \"\" ')\n",
                "    return bpftrace_logs_df\n",
                "\n",
                "def concateBpftraceCSLogstoDF(df: DataFrame, ps_df: DataFrame) -> DataFrame:\n",
                "    bpftrace_cs_df = base_df.select(\n",
                "                                regexp_extract('value', bpftrace_cs_pattern, 2).alias('cs_count'),\n",
                "                                regexp_extract('value', bpftrace_cs_pattern, 3).alias('cs_average'),\n",
                "                                regexp_extract('value', bpftrace_cs_pattern, 4).alias('cs_total'),\n",
                "                                ).filter(' cs_count != \"\"')\n",
                "\n",
                "    cs_array = bpftrace_cs_df.toPandas().to_numpy()[0]\n",
                "\n",
                "    bpftrace_res_df = ps_df.withColumn(\"cs_count\", lit(cs_array[0])\n",
                "                    ).withColumn(\"cs_average\", lit(cs_array[1])\n",
                "                    ).withColumn(\"cs_total\", lit(cs_array[2]))\n",
                "    \n",
                "    return bpftrace_res_df\n",
                "\n",
                "def concateIperfLogsToDF(df: DataFrame, in_df: DataFrame) -> DataFrame:\n",
                "    iperf_logs_df = df.select(\n",
                "                                regexp_extract('value', iperf_s_pattern, 1).alias('intval'),\n",
                "                                regexp_extract('value', iperf_s_pattern, 2).alias('transfer'),\n",
                "                                regexp_extract('value', iperf_s_pattern, 3).alias('rx_bandwidth'),\n",
                "                                regexp_extract('value', iperf_s_pattern, 4).alias('jitter'),\n",
                "                                regexp_extract('value', iperf_s_pattern, 6).alias('pkt_loss')\n",
                "                                ).filter(' intval != \"\" ')\n",
                "    \n",
                "    cs_array = iperf_logs_df.toPandas().to_numpy()[0]\n",
                "\n",
                "    iperf_res_df = in_df.withColumn(\"duration\", lit(cs_array[0])\n",
                "                    ).withColumn(\"rx_gbytes\", lit(cs_array[1])\n",
                "                    ).withColumn(\"rx_bandwidth\", lit(cs_array[2])\n",
                "                    ).withColumn(\"jitter\", lit(cs_array[3])\n",
                "                    ).withColumn(\"pkt_loss\", lit(cs_array[4]))\n",
                "\n",
                "    iperf_res_df.show(5)\n",
                "    return iperf_res_df\n",
                "\n",
                "def concateOpensslLogsToDF(df: DataFrame, in_df: DataFrame) -> DataFrame:\n",
                "    openssl_logs_df = df.select(\n",
                "                                regexp_extract('value', openssl_s_pattern, 6).alias('us_time')\n",
                "                                ).filter(' us_time != \"\" ')\n",
                "    \n",
                "    cs_array = openssl_logs_df.toPandas().to_numpy()\n",
                "\n",
                "    us_time = 0.0\n",
                "    for a in cs_array:\n",
                "        us_time += float(a[0])\n",
                "\n",
                "    us_time\n",
                "\n",
                "    openssl_res_df = in_df.withColumn(\"us_time\", lit(us_time))\n",
                "\n",
                "    return openssl_res_df\n",
                "\n",
                "df_list = []\n",
                "\n",
                "for x in range(1, 10):\n",
                "    path = '../ansible/.results-3/bpftrace/server1-{}m-{}.out'.format(1000 + 200*x, x)\n",
                "    base_df = readFiletoDF(path)\n",
                "    # base_df.show(5, truncate=False)\n",
                "    ps_df = readBpftracePSLogstoDF(base_df)\n",
                "    ps_cs_df = concateBpftraceCSLogstoDF(base_df, ps_df)\n",
                "    df_1 = ps_cs_df.withColumn(\"tx_bandwidth\", lit(1000 + 200*x))\n",
                "\n",
                "    path = '../ansible/.results-3/iperf/server1-{}m-{}.out'.format(1000 + 200*x, x)\n",
                "    base_df = readFiletoDF(path)\n",
                "    # base_df.show(5, truncate=False)\n",
                "    df_2 = concateIperfLogsToDF(base_df, df_1)\n",
                "\n",
                "    path = '../ansible/.results-3/openssl/server1-{}m-{}.out'.format(1000 + 200*x, x)\n",
                "    base_df = readFiletoDF(path)\n",
                "    # base_df.show(5, truncate=False)\n",
                "    df_3 = concateOpensslLogsToDF(base_df, df_2)\n",
                "\n",
                "    df_list.append(df_3)\n",
                "\n",
                "results_df = reduce(lambda x, y: x.union(y), df_list)\n",
                "# results_df.show(5, truncate=False)\n",
                "results_df.printSchema()\n"
            ]
        },
        {
            "cell_type": "code",
            "execution_count": 17,
            "metadata": {},
            "outputs": [
                {
                    "name": "stdout",
                    "output_type": "stream",
                    "text": [
                        "+-----+-------------+---------+-----------+---------+--------+----------+---------+------------+--------+---------+------------+------+--------+-----------------+\n",
                        "|level|      program|pkt_count|pkt_average|pkt_total|cs_count|cs_average| cs_total|tx_bandwidth|duration|rx_gbytes|rx_bandwidth|jitter|pkt_loss|          us_time|\n",
                        "+-----+-------------+---------+-----------+---------+--------+----------+---------+------------+--------+---------+------------+------+--------+-----------------+\n",
                        "|   q1|      openssl|      207|       1343|   278128|    2334|     57663|134585847|        1200|    59.9|     8.37|        1.20| 0.009|    0.18|48.89000000000001|\n",
                        "|   q1|ksoftirqd/169|        3|       3890|    11672|    2334|     57663|134585847|        1200|    59.9|     8.37|        1.20| 0.009|    0.18|48.89000000000001|\n",
                        "|   q1|kworker/169:0|        1|       7925|     7925|    2334|     57663|134585847|        1200|    59.9|     8.37|        1.20| 0.009|    0.18|48.89000000000001|\n",
                        "|   q2|ksoftirqd/169|       25|        874|    21855|    2334|     57663|134585847|        1200|    59.9|     8.37|        1.20| 0.009|    0.18|48.89000000000001|\n",
                        "|   q2|kworker/169:0|        2|       3577|     7154|    2334|     57663|134585847|        1200|    59.9|     8.37|        1.20| 0.009|    0.18|48.89000000000001|\n",
                        "+-----+-------------+---------+-----------+---------+--------+----------+---------+------------+--------+---------+------------+------+--------+-----------------+\n",
                        "only showing top 5 rows\n",
                        "\n",
                        "+-----+------------+-----------+------------------+\n",
                        "|level|tx_bandwidth|      count|          rx_bytes|\n",
                        "+-----+------------+-----------+------------------+\n",
                        "|   q1|        2000|    26078.0|              14.0|\n",
                        "|   q4|        2800|  1740546.0| 19.40000000000005|\n",
                        "|   q1|        1800|    23483.0|12.599999999999975|\n",
                        "|   q1|        1400|    25192.0| 9.769999999999985|\n",
                        "|   q1|        2400|    35817.0|16.700000000000014|\n",
                        "|   q2|        2000|    57946.0|              14.0|\n",
                        "|   q5|        2600|1.1390903E7|18.099999999999955|\n",
                        "|   q5|        2200|1.1066117E7|              15.3|\n",
                        "|   q2|        1400|    39980.0| 9.769999999999985|\n",
                        "|   q2|        1800|   108181.0| 12.59999999999997|\n",
                        "|   q5|        2400|1.1935476E7|16.699999999999996|\n",
                        "|   q4|        1600|  1051531.0|11.099999999999971|\n",
                        "|   q4|        1800|  1017180.0| 12.59999999999997|\n",
                        "|   q1|        2200|    35761.0|15.299999999999986|\n",
                        "|   q4|        2200|  1392625.0|              15.3|\n",
                        "+-----+------------+-----------+------------------+\n",
                        "only showing top 15 rows\n",
                        "\n"
                    ]
                }
            ],
            "source": [
                "from pyspark.sql import SparkSession\n",
                "\n",
                "results_df.show(5)\n",
                "results_df.createOrReplaceTempView(\"LOGS\")\n",
                "\n",
                "\n",
                "df2=spark.sql(\"select level, tx_bandwidth, sum(pkt_count) as count, avg(rx_gbytes) as rx_bytes from LOGS group by level, tx_bandwidth\")\n",
                "df2.show(15, truncate=True)"
            ]
        },
        {
            "cell_type": "code",
            "execution_count": 18,
            "metadata": {},
            "outputs": [
                {
                    "name": "stdout",
                    "output_type": "stream",
                    "text": [
                        "\n",
                        "This graph shows the time taken executing packets on each level of packet processing for a given bandwith\n",
                        "\n"
                    ]
                },
                {
                    "data": {
                        "image/png": "[encoded data removed]",
                        "text/plain": "<Figure size 432x288 with 1 Axes>"
                    },
                    "metadata": {
                        "needs_background": "light"
                    },
                    "output_type": "display_data"
                }
            ],
            "source": [
                "caption = '''\n",
                "This graph shows the time taken executing packets on each level of packet processing for a given bandwith\n",
                "'''\n",
                "\n",
                "df2=spark.sql(\"select level, tx_bandwidth, sum(pkt_total) as time from LOGS group by level, tx_bandwidth\")\n",
                "\n",
                "df_2 = df2.toPandas()\n",
                "df_2 = df_2.pivot(index='tx_bandwidth', columns='level', values='time')\n",
                "\n",
                "df_2.plot()\n",
                "print(caption)"
            ]
        },
        {
            "cell_type": "code",
            "execution_count": 19,
            "metadata": {},
            "outputs": [
                {
                    "name": "stdout",
                    "output_type": "stream",
                    "text": [
                        "\n",
                        "This graph shows the amount of time spent by the CPU operating on the userspace program for each TX bandwidth\n",
                        "\n"
                    ]
                },
                {
                    "data": {
                        "image/png": "[encoded data removed]",
                        "text/plain": "<Figure size 432x288 with 1 Axes>"
                    },
                    "metadata": {
                        "needs_background": "light"
                    },
                    "output_type": "display_data"
                }
            ],
            "source": [
                "caption = '''\n",
                "This graph shows the amount of time spent by the CPU operating on the userspace program for each TX bandwidth\n",
                "'''\n",
                "%matplotlib inline\n",
                "import matplotlib.pyplot as plt\n",
                "import pandas as pd\n",
                "\n",
                "results_df.createOrReplaceTempView(\"LOGS\")\n",
                "df3=spark.sql(\"select tx_bandwidth, avg(us_time) as time from LOGS group by tx_bandwidth order by tx_bandwidth\")\n",
                "\n",
                "df_3 = df3.toPandas()\n",
                "\n",
                "df_3.plot(kind='bar', x='tx_bandwidth', y='time')\n",
                "print(caption)\n"
            ]
        },
        {
            "cell_type": "code",
            "execution_count": 20,
            "metadata": {},
            "outputs": [
                {
                    "name": "stdout",
                    "output_type": "stream",
                    "text": [
                        "\n",
                        "This graph shows the amount of time spent handling context switches for each TX bandwidth\n",
                        "\n"
                    ]
                },
                {
                    "data": {
                        "image/png": "[encoded data removed]",
                        "text/plain": "<Figure size 432x288 with 1 Axes>"
                    },
                    "metadata": {
                        "needs_background": "light"
                    },
                    "output_type": "display_data"
                }
            ],
            "source": [
                "caption = '''\n",
                "This graph shows the amount of time spent handling context switches for each TX bandwidth\n",
                "'''\n",
                "%matplotlib inline\n",
                "import matplotlib.pyplot as plt\n",
                "import pandas as pd\n",
                "\n",
                "results_df.createOrReplaceTempView(\"LOGS\")\n",
                "df3=spark.sql(\"select tx_bandwidth, avg(cs_total) as time from LOGS group by tx_bandwidth order by tx_bandwidth\")\n",
                "\n",
                "df_3 = df3.toPandas()\n",
                "\n",
                "df_3.plot(kind='bar', x='tx_bandwidth', y='time')\n",
                "print(caption)"
            ]
        },
        {
            "cell_type": "code",
            "execution_count": 21,
            "metadata": {},
            "outputs": [
                {
                    "name": "stdout",
                    "output_type": "stream",
                    "text": [
                        "\n",
                        "This graph shows the number of context switches for each TX bandwidth\n",
                        "\n"
                    ]
                },
                {
                    "data": {
                        "image/png": "[encoded data removed]",
                        "text/plain": "<Figure size 432x288 with 1 Axes>"
                    },
                    "metadata": {
                        "needs_background": "light"
                    },
                    "output_type": "display_data"
                }
            ],
            "source": [
                "caption = '''\n",
                "This graph shows the number of context switches for each TX bandwidth\n",
                "'''\n",
                "%matplotlib inline\n",
                "import matplotlib.pyplot as plt\n",
                "import pandas as pd\n",
                "\n",
                "results_df.createOrReplaceTempView(\"LOGS\")\n",
                "df3=spark.sql(\"select tx_bandwidth, avg(cs_count) as count from LOGS group by tx_bandwidth order by tx_bandwidth\")\n",
                "\n",
                "df_3 = df3.toPandas()\n",
                "\n",
                "df_3.plot(kind='bar', x='tx_bandwidth', y='count')\n",
                "print(caption)"
            ]
        },
        {
            "cell_type": "code",
            "execution_count": 22,
            "metadata": {},
            "outputs": [
                {
                    "name": "stdout",
                    "output_type": "stream",
                    "text": [
                        "+-----+------------+------------------+\n",
                        "|level|tx_bandwidth|         rx_gbytes|\n",
                        "+-----+------------+------------------+\n",
                        "|   q4|        1200| 8.369999999999973|\n",
                        "|   q2|        1200| 8.369999999999973|\n",
                        "|   q1|        1200| 8.369999999999973|\n",
                        "|   q5|        1200| 8.369999999999973|\n",
                        "|   q1|        1400| 9.769999999999985|\n",
                        "|   q5|        1400| 9.769999999999985|\n",
                        "|   q2|        1400| 9.769999999999985|\n",
                        "|   q4|        1400| 9.769999999999985|\n",
                        "|   q5|        1600|11.099999999999971|\n",
                        "|   q4|        1600|11.099999999999971|\n",
                        "|   q2|        1600|11.099999999999973|\n",
                        "|   q1|        1600|11.099999999999977|\n",
                        "|   q4|        1800| 12.59999999999997|\n",
                        "|   q2|        1800| 12.59999999999997|\n",
                        "|   q1|        1800|12.599999999999975|\n",
                        "+-----+------------+------------------+\n",
                        "only showing top 15 rows\n",
                        "\n"
                    ]
                },
                {
                    "data": {
                        "text/plain": "<AxesSubplot:xlabel='tx_bandwidth'>"
                    },
                    "execution_count": 22,
                    "metadata": {},
                    "output_type": "execute_result"
                },
                {
                    "data": {
                        "image/png": "[encoded data removed]",
                        "text/plain": "<Figure size 432x288 with 1 Axes>"
                    },
                    "metadata": {
                        "needs_background": "light"
                    },
                    "output_type": "display_data"
                }
            ],
            "source": [
                "caption = '''\n",
                "This graph shows the amount of giga bytes on each level of packet processing for a given bandwith\n",
                "'''\n",
                "\n",
                "results_df.createOrReplaceTempView(\"LOGS\")\n",
                "df2=spark.sql(\"select level, tx_bandwidth, avg(rx_gbytes) as rx_gbytes from LOGS group by level, tx_bandwidth order by tx_bandwidth \")\n",
                "df2.show(15, truncate=True)\n",
                "\n",
                "df_2 = df2.toPandas()\n",
                "df_2 = df_2.pivot(index='tx_bandwidth', columns='level', values='rx_gbytes')\n",
                "\n",
                "df_2.plot()"
            ]
        },
        {
            "cell_type": "code",
            "execution_count": 23,
            "metadata": {},
            "outputs": [
                {
                    "name": "stdout",
                    "output_type": "stream",
                    "text": [
                        "+------------+------------------+\n",
                        "|tx_bandwidth|         rx_gbytes|\n",
                        "+------------+------------------+\n",
                        "|        2200|15.300000000000011|\n",
                        "|        1400| 9.770000000000147|\n",
                        "|        2600|18.100000000000165|\n",
                        "|        1800|12.600000000000115|\n",
                        "|        1600|11.100000000000104|\n",
                        "|        1200| 8.369999999999912|\n",
                        "|        2800|  19.3999999999998|\n",
                        "|        2400|16.700000000000003|\n",
                        "|        2000|              14.0|\n",
                        "+------------+------------------+\n",
                        "\n",
                        "\n",
                        "This graph shows the number of context switches for each TX bandwidth\n",
                        "\n"
                    ]
                },
                {
                    "data": {
                        "image/png": "[encoded data removed]",
                        "text/plain": "<Figure size 432x288 with 1 Axes>"
                    },
                    "metadata": {
                        "needs_background": "light"
                    },
                    "output_type": "display_data"
                }
            ],
            "source": [
                "caption = '''\n",
                "This graph shows the number of context switches for each TX bandwidth\n",
                "'''\n",
                "%matplotlib inline\n",
                "import matplotlib.pyplot as plt\n",
                "import pandas as pd\n",
                "\n",
                "results_df.createOrReplaceTempView(\"LOGS\")\n",
                "df3=spark.sql(\"select tx_bandwidth, avg(rx_gbytes) rx_gbytes from LOGS group by tx_bandwidth\")\n",
                "df3.show(15, truncate=True)\n",
                "\n",
                "df_3 = df3.toPandas()\n",
                "\n",
                "df_3.plot(kind='bar', x='tx_bandwidth', y='rx_gbytes')\n",
                "print(caption)"
            ]
        },
        {
            "cell_type": "code",
            "execution_count": 24,
            "metadata": {},
            "outputs": [
                {
                    "name": "stdout",
                    "output_type": "stream",
                    "text": [
                        "+------------+--------------------+\n",
                        "|tx_bandwidth|            pkt_loss|\n",
                        "+------------+--------------------+\n",
                        "|        2200|  0.4399999999999981|\n",
                        "|        1400| 0.11999999999999995|\n",
                        "|        2600|                 0.5|\n",
                        "|        1800|0.014999999999999892|\n",
                        "|        1600|  0.3600000000000054|\n",
                        "|        1200| 0.18000000000000313|\n",
                        "|        2800|  0.6899999999999981|\n",
                        "|        2400| 0.20000000000000193|\n",
                        "|        2000|0.025999999999999857|\n",
                        "+------------+--------------------+\n",
                        "\n",
                        "\n",
                        "This graph shows the packet loss for each TX bandwidth\n",
                        "\n"
                    ]
                },
                {
                    "data": {
                        "image/png": "[encoded data removed]",
                        "text/plain": "<Figure size 432x288 with 1 Axes>"
                    },
                    "metadata": {
                        "needs_background": "light"
                    },
                    "output_type": "display_data"
                }
            ],
            "source": [
                "caption = '''\n",
                "This graph shows the packet loss for each TX bandwidth\n",
                "'''\n",
                "%matplotlib inline\n",
                "import matplotlib.pyplot as plt\n",
                "import pandas as pd\n",
                "\n",
                "results_df.createOrReplaceTempView(\"LOGS\")\n",
                "df3=spark.sql(\"select tx_bandwidth, avg(pkt_loss) pkt_loss from LOGS group by tx_bandwidth order by tx_bandwidth\")\n",
                "df3.show(15, truncate=True)\n",
                "\n",
                "df_3 = df3.toPandas()\n",
                "\n",
                "df_3.plot(kind='bar', x='tx_bandwidth', y='pkt_loss')\n",
                "print(caption)"
            ]
        }
    ],
    "metadata": {
        "kernelspec": {
            "display_name": "Python 3",
            "language": "python",
            "name": "python3"
        },
        "language_info": {
            "name": "python",
            "version": ""
        },
        "metadata": {
            "interpreter": {
                "hash": "767d51c1340bd893661ea55ea3124f6de3c7a262a8b4abca0554b478b1e2ff90"
            }
        },
        "orig_nbformat": 3
    },
    "nbformat": 4,
    "nbformat_minor": 2
}